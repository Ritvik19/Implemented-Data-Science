{
 "cells": [
  {
   "cell_type": "markdown",
   "id": "a6ac879c",
   "metadata": {
    "papermill": {
     "duration": 0.012148,
     "end_time": "2022-08-12T06:18:52.279192",
     "exception": false,
     "start_time": "2022-08-12T06:18:52.267044",
     "status": "completed"
    },
    "tags": []
   },
   "source": [
    "# Content based Filtering\n",
    "\n",
    "In the content based filtering we generate two vectors, a user vector and an item vector whose dot product would predict a rating. Information about the users and items are provided to a neural network which then generates the user and item vector"
   ]
  },
  {
   "cell_type": "code",
   "execution_count": 1,
   "id": "33080693",
   "metadata": {
    "execution": {
     "iopub.execute_input": "2022-08-12T06:18:52.295098Z",
     "iopub.status.busy": "2022-08-12T06:18:52.294281Z",
     "iopub.status.idle": "2022-08-12T06:19:00.545557Z",
     "shell.execute_reply": "2022-08-12T06:19:00.544119Z"
    },
    "papermill": {
     "duration": 8.263025,
     "end_time": "2022-08-12T06:19:00.548938",
     "exception": false,
     "start_time": "2022-08-12T06:18:52.285913",
     "status": "completed"
    },
    "tags": []
   },
   "outputs": [],
   "source": [
    "import numpy as np\n",
    "import pandas as pd\n",
    "\n",
    "from sklearn.impute import SimpleImputer\n",
    "from sklearn.preprocessing import StandardScaler, MinMaxScaler, FunctionTransformer\n",
    "from sklearn.feature_extraction.text import TfidfVectorizer\n",
    "from sklearn.pipeline import Pipeline\n",
    "from sklearn.compose import ColumnTransformer\n",
    "from sklearn.utils import estimator_html_repr\n",
    "\n",
    "import joblib\n",
    "from IPython.core.display import HTML\n",
    "\n",
    "import tensorflow as tf\n",
    "from tensorflow import keras\n",
    "from tensorflow.keras import models, layers, utils, optimizers, callbacks"
   ]
  },
  {
   "cell_type": "markdown",
   "id": "57197488",
   "metadata": {
    "papermill": {
     "duration": 0.006269,
     "end_time": "2022-08-12T06:19:00.561957",
     "exception": false,
     "start_time": "2022-08-12T06:19:00.555688",
     "status": "completed"
    },
    "tags": []
   },
   "source": [
    "# Data"
   ]
  },
  {
   "cell_type": "code",
   "execution_count": 2,
   "id": "0719a414",
   "metadata": {
    "execution": {
     "iopub.execute_input": "2022-08-12T06:19:00.576677Z",
     "iopub.status.busy": "2022-08-12T06:19:00.576043Z",
     "iopub.status.idle": "2022-08-12T06:19:01.951967Z",
     "shell.execute_reply": "2022-08-12T06:19:01.949260Z"
    },
    "papermill": {
     "duration": 1.387762,
     "end_time": "2022-08-12T06:19:01.956001",
     "exception": false,
     "start_time": "2022-08-12T06:19:00.568239",
     "status": "completed"
    },
    "tags": []
   },
   "outputs": [
    {
     "name": "stdout",
     "output_type": "stream",
     "text": [
      "(1149780, 3)\n"
     ]
    },
    {
     "data": {
      "text/html": [
       "<div>\n",
       "<style scoped>\n",
       "    .dataframe tbody tr th:only-of-type {\n",
       "        vertical-align: middle;\n",
       "    }\n",
       "\n",
       "    .dataframe tbody tr th {\n",
       "        vertical-align: top;\n",
       "    }\n",
       "\n",
       "    .dataframe thead th {\n",
       "        text-align: right;\n",
       "    }\n",
       "</style>\n",
       "<table border=\"1\" class=\"dataframe\">\n",
       "  <thead>\n",
       "    <tr style=\"text-align: right;\">\n",
       "      <th></th>\n",
       "      <th>User-ID</th>\n",
       "      <th>ISBN</th>\n",
       "      <th>Book-Rating</th>\n",
       "    </tr>\n",
       "  </thead>\n",
       "  <tbody>\n",
       "    <tr>\n",
       "      <th>0</th>\n",
       "      <td>276725</td>\n",
       "      <td>034545104X</td>\n",
       "      <td>0</td>\n",
       "    </tr>\n",
       "    <tr>\n",
       "      <th>1</th>\n",
       "      <td>276726</td>\n",
       "      <td>0155061224</td>\n",
       "      <td>5</td>\n",
       "    </tr>\n",
       "    <tr>\n",
       "      <th>2</th>\n",
       "      <td>276727</td>\n",
       "      <td>0446520802</td>\n",
       "      <td>0</td>\n",
       "    </tr>\n",
       "    <tr>\n",
       "      <th>3</th>\n",
       "      <td>276729</td>\n",
       "      <td>052165615X</td>\n",
       "      <td>3</td>\n",
       "    </tr>\n",
       "    <tr>\n",
       "      <th>4</th>\n",
       "      <td>276729</td>\n",
       "      <td>0521795028</td>\n",
       "      <td>6</td>\n",
       "    </tr>\n",
       "  </tbody>\n",
       "</table>\n",
       "</div>"
      ],
      "text/plain": [
       "   User-ID        ISBN  Book-Rating\n",
       "0   276725  034545104X            0\n",
       "1   276726  0155061224            5\n",
       "2   276727  0446520802            0\n",
       "3   276729  052165615X            3\n",
       "4   276729  0521795028            6"
      ]
     },
     "execution_count": 2,
     "metadata": {},
     "output_type": "execute_result"
    }
   ],
   "source": [
    "ratings = pd.read_csv('../input/book-recommendation-dataset/Ratings.csv')\n",
    "print(ratings.shape)\n",
    "ratings.head()"
   ]
  },
  {
   "cell_type": "code",
   "execution_count": 3,
   "id": "d1f0bf5b",
   "metadata": {
    "execution": {
     "iopub.execute_input": "2022-08-12T06:19:01.972385Z",
     "iopub.status.busy": "2022-08-12T06:19:01.971275Z",
     "iopub.status.idle": "2022-08-12T06:19:04.654306Z",
     "shell.execute_reply": "2022-08-12T06:19:04.651277Z"
    },
    "papermill": {
     "duration": 2.694311,
     "end_time": "2022-08-12T06:19:04.657534",
     "exception": false,
     "start_time": "2022-08-12T06:19:01.963223",
     "status": "completed"
    },
    "tags": []
   },
   "outputs": [
    {
     "name": "stdout",
     "output_type": "stream",
     "text": [
      "(271360, 8)\n"
     ]
    },
    {
     "name": "stderr",
     "output_type": "stream",
     "text": [
      "/opt/conda/lib/python3.7/site-packages/IPython/core/interactiveshell.py:3552: DtypeWarning: Columns (3) have mixed types.Specify dtype option on import or set low_memory=False.\n",
      "  exec(code_obj, self.user_global_ns, self.user_ns)\n"
     ]
    },
    {
     "data": {
      "text/html": [
       "<div>\n",
       "<style scoped>\n",
       "    .dataframe tbody tr th:only-of-type {\n",
       "        vertical-align: middle;\n",
       "    }\n",
       "\n",
       "    .dataframe tbody tr th {\n",
       "        vertical-align: top;\n",
       "    }\n",
       "\n",
       "    .dataframe thead th {\n",
       "        text-align: right;\n",
       "    }\n",
       "</style>\n",
       "<table border=\"1\" class=\"dataframe\">\n",
       "  <thead>\n",
       "    <tr style=\"text-align: right;\">\n",
       "      <th></th>\n",
       "      <th>ISBN</th>\n",
       "      <th>Book-Title</th>\n",
       "      <th>Book-Author</th>\n",
       "      <th>Year-Of-Publication</th>\n",
       "      <th>Publisher</th>\n",
       "      <th>Image-URL-S</th>\n",
       "      <th>Image-URL-M</th>\n",
       "      <th>Image-URL-L</th>\n",
       "    </tr>\n",
       "  </thead>\n",
       "  <tbody>\n",
       "    <tr>\n",
       "      <th>0</th>\n",
       "      <td>0195153448</td>\n",
       "      <td>Classical Mythology</td>\n",
       "      <td>Mark P. O. Morford</td>\n",
       "      <td>2002</td>\n",
       "      <td>Oxford University Press</td>\n",
       "      <td>http://images.amazon.com/images/P/0195153448.0...</td>\n",
       "      <td>http://images.amazon.com/images/P/0195153448.0...</td>\n",
       "      <td>http://images.amazon.com/images/P/0195153448.0...</td>\n",
       "    </tr>\n",
       "    <tr>\n",
       "      <th>1</th>\n",
       "      <td>0002005018</td>\n",
       "      <td>Clara Callan</td>\n",
       "      <td>Richard Bruce Wright</td>\n",
       "      <td>2001</td>\n",
       "      <td>HarperFlamingo Canada</td>\n",
       "      <td>http://images.amazon.com/images/P/0002005018.0...</td>\n",
       "      <td>http://images.amazon.com/images/P/0002005018.0...</td>\n",
       "      <td>http://images.amazon.com/images/P/0002005018.0...</td>\n",
       "    </tr>\n",
       "    <tr>\n",
       "      <th>2</th>\n",
       "      <td>0060973129</td>\n",
       "      <td>Decision in Normandy</td>\n",
       "      <td>Carlo D'Este</td>\n",
       "      <td>1991</td>\n",
       "      <td>HarperPerennial</td>\n",
       "      <td>http://images.amazon.com/images/P/0060973129.0...</td>\n",
       "      <td>http://images.amazon.com/images/P/0060973129.0...</td>\n",
       "      <td>http://images.amazon.com/images/P/0060973129.0...</td>\n",
       "    </tr>\n",
       "    <tr>\n",
       "      <th>3</th>\n",
       "      <td>0374157065</td>\n",
       "      <td>Flu: The Story of the Great Influenza Pandemic...</td>\n",
       "      <td>Gina Bari Kolata</td>\n",
       "      <td>1999</td>\n",
       "      <td>Farrar Straus Giroux</td>\n",
       "      <td>http://images.amazon.com/images/P/0374157065.0...</td>\n",
       "      <td>http://images.amazon.com/images/P/0374157065.0...</td>\n",
       "      <td>http://images.amazon.com/images/P/0374157065.0...</td>\n",
       "    </tr>\n",
       "    <tr>\n",
       "      <th>4</th>\n",
       "      <td>0393045218</td>\n",
       "      <td>The Mummies of Urumchi</td>\n",
       "      <td>E. J. W. Barber</td>\n",
       "      <td>1999</td>\n",
       "      <td>W. W. Norton &amp;amp; Company</td>\n",
       "      <td>http://images.amazon.com/images/P/0393045218.0...</td>\n",
       "      <td>http://images.amazon.com/images/P/0393045218.0...</td>\n",
       "      <td>http://images.amazon.com/images/P/0393045218.0...</td>\n",
       "    </tr>\n",
       "  </tbody>\n",
       "</table>\n",
       "</div>"
      ],
      "text/plain": [
       "         ISBN                                         Book-Title  \\\n",
       "0  0195153448                                Classical Mythology   \n",
       "1  0002005018                                       Clara Callan   \n",
       "2  0060973129                               Decision in Normandy   \n",
       "3  0374157065  Flu: The Story of the Great Influenza Pandemic...   \n",
       "4  0393045218                             The Mummies of Urumchi   \n",
       "\n",
       "            Book-Author Year-Of-Publication                   Publisher  \\\n",
       "0    Mark P. O. Morford                2002     Oxford University Press   \n",
       "1  Richard Bruce Wright                2001       HarperFlamingo Canada   \n",
       "2          Carlo D'Este                1991             HarperPerennial   \n",
       "3      Gina Bari Kolata                1999        Farrar Straus Giroux   \n",
       "4       E. J. W. Barber                1999  W. W. Norton &amp; Company   \n",
       "\n",
       "                                         Image-URL-S  \\\n",
       "0  http://images.amazon.com/images/P/0195153448.0...   \n",
       "1  http://images.amazon.com/images/P/0002005018.0...   \n",
       "2  http://images.amazon.com/images/P/0060973129.0...   \n",
       "3  http://images.amazon.com/images/P/0374157065.0...   \n",
       "4  http://images.amazon.com/images/P/0393045218.0...   \n",
       "\n",
       "                                         Image-URL-M  \\\n",
       "0  http://images.amazon.com/images/P/0195153448.0...   \n",
       "1  http://images.amazon.com/images/P/0002005018.0...   \n",
       "2  http://images.amazon.com/images/P/0060973129.0...   \n",
       "3  http://images.amazon.com/images/P/0374157065.0...   \n",
       "4  http://images.amazon.com/images/P/0393045218.0...   \n",
       "\n",
       "                                         Image-URL-L  \n",
       "0  http://images.amazon.com/images/P/0195153448.0...  \n",
       "1  http://images.amazon.com/images/P/0002005018.0...  \n",
       "2  http://images.amazon.com/images/P/0060973129.0...  \n",
       "3  http://images.amazon.com/images/P/0374157065.0...  \n",
       "4  http://images.amazon.com/images/P/0393045218.0...  "
      ]
     },
     "execution_count": 3,
     "metadata": {},
     "output_type": "execute_result"
    }
   ],
   "source": [
    "items = pd.read_csv('../input/book-recommendation-dataset/Books.csv')\n",
    "print(items.shape)\n",
    "items.head()"
   ]
  },
  {
   "cell_type": "code",
   "execution_count": 4,
   "id": "b9db45c9",
   "metadata": {
    "execution": {
     "iopub.execute_input": "2022-08-12T06:19:04.675151Z",
     "iopub.status.busy": "2022-08-12T06:19:04.674827Z",
     "iopub.status.idle": "2022-08-12T06:19:04.834546Z",
     "shell.execute_reply": "2022-08-12T06:19:04.833137Z"
    },
    "papermill": {
     "duration": 0.171172,
     "end_time": "2022-08-12T06:19:04.837767",
     "exception": false,
     "start_time": "2022-08-12T06:19:04.666595",
     "status": "completed"
    },
    "tags": []
   },
   "outputs": [],
   "source": [
    "items['Year-Of-Publication'] = items['Year-Of-Publication'].replace('DK Publishing Inc', np.nan).replace('Gallimard', np.nan).astype(float)"
   ]
  },
  {
   "cell_type": "code",
   "execution_count": 5,
   "id": "fc485d76",
   "metadata": {
    "execution": {
     "iopub.execute_input": "2022-08-12T06:19:04.854743Z",
     "iopub.status.busy": "2022-08-12T06:19:04.853330Z",
     "iopub.status.idle": "2022-08-12T06:19:05.242686Z",
     "shell.execute_reply": "2022-08-12T06:19:05.240121Z"
    },
    "papermill": {
     "duration": 0.400606,
     "end_time": "2022-08-12T06:19:05.245875",
     "exception": false,
     "start_time": "2022-08-12T06:19:04.845269",
     "status": "completed"
    },
    "tags": []
   },
   "outputs": [
    {
     "name": "stdout",
     "output_type": "stream",
     "text": [
      "(278858, 3)\n"
     ]
    },
    {
     "data": {
      "text/html": [
       "<div>\n",
       "<style scoped>\n",
       "    .dataframe tbody tr th:only-of-type {\n",
       "        vertical-align: middle;\n",
       "    }\n",
       "\n",
       "    .dataframe tbody tr th {\n",
       "        vertical-align: top;\n",
       "    }\n",
       "\n",
       "    .dataframe thead th {\n",
       "        text-align: right;\n",
       "    }\n",
       "</style>\n",
       "<table border=\"1\" class=\"dataframe\">\n",
       "  <thead>\n",
       "    <tr style=\"text-align: right;\">\n",
       "      <th></th>\n",
       "      <th>User-ID</th>\n",
       "      <th>Location</th>\n",
       "      <th>Age</th>\n",
       "    </tr>\n",
       "  </thead>\n",
       "  <tbody>\n",
       "    <tr>\n",
       "      <th>0</th>\n",
       "      <td>1</td>\n",
       "      <td>nyc, new york, usa</td>\n",
       "      <td>NaN</td>\n",
       "    </tr>\n",
       "    <tr>\n",
       "      <th>1</th>\n",
       "      <td>2</td>\n",
       "      <td>stockton, california, usa</td>\n",
       "      <td>18.0</td>\n",
       "    </tr>\n",
       "    <tr>\n",
       "      <th>2</th>\n",
       "      <td>3</td>\n",
       "      <td>moscow, yukon territory, russia</td>\n",
       "      <td>NaN</td>\n",
       "    </tr>\n",
       "    <tr>\n",
       "      <th>3</th>\n",
       "      <td>4</td>\n",
       "      <td>porto, v.n.gaia, portugal</td>\n",
       "      <td>17.0</td>\n",
       "    </tr>\n",
       "    <tr>\n",
       "      <th>4</th>\n",
       "      <td>5</td>\n",
       "      <td>farnborough, hants, united kingdom</td>\n",
       "      <td>NaN</td>\n",
       "    </tr>\n",
       "  </tbody>\n",
       "</table>\n",
       "</div>"
      ],
      "text/plain": [
       "   User-ID                            Location   Age\n",
       "0        1                  nyc, new york, usa   NaN\n",
       "1        2           stockton, california, usa  18.0\n",
       "2        3     moscow, yukon territory, russia   NaN\n",
       "3        4           porto, v.n.gaia, portugal  17.0\n",
       "4        5  farnborough, hants, united kingdom   NaN"
      ]
     },
     "execution_count": 5,
     "metadata": {},
     "output_type": "execute_result"
    }
   ],
   "source": [
    "users = pd.read_csv('../input/book-recommendation-dataset/Users.csv')\n",
    "print(users.shape)\n",
    "users.head()"
   ]
  },
  {
   "cell_type": "code",
   "execution_count": 6,
   "id": "28eab57f",
   "metadata": {
    "execution": {
     "iopub.execute_input": "2022-08-12T06:19:05.262947Z",
     "iopub.status.busy": "2022-08-12T06:19:05.262587Z",
     "iopub.status.idle": "2022-08-12T06:19:07.276136Z",
     "shell.execute_reply": "2022-08-12T06:19:07.274826Z"
    },
    "papermill": {
     "duration": 2.025164,
     "end_time": "2022-08-12T06:19:07.278869",
     "exception": false,
     "start_time": "2022-08-12T06:19:05.253705",
     "status": "completed"
    },
    "tags": []
   },
   "outputs": [
    {
     "data": {
      "text/html": [
       "<div>\n",
       "<style scoped>\n",
       "    .dataframe tbody tr th:only-of-type {\n",
       "        vertical-align: middle;\n",
       "    }\n",
       "\n",
       "    .dataframe tbody tr th {\n",
       "        vertical-align: top;\n",
       "    }\n",
       "\n",
       "    .dataframe thead th {\n",
       "        text-align: right;\n",
       "    }\n",
       "</style>\n",
       "<table border=\"1\" class=\"dataframe\">\n",
       "  <thead>\n",
       "    <tr style=\"text-align: right;\">\n",
       "      <th></th>\n",
       "      <th>User-ID</th>\n",
       "      <th>ISBN</th>\n",
       "      <th>Book-Rating</th>\n",
       "      <th>Location</th>\n",
       "      <th>Age</th>\n",
       "      <th>Book-Title</th>\n",
       "      <th>Book-Author</th>\n",
       "      <th>Year-Of-Publication</th>\n",
       "      <th>Publisher</th>\n",
       "      <th>Image-URL-S</th>\n",
       "      <th>Image-URL-M</th>\n",
       "      <th>Image-URL-L</th>\n",
       "    </tr>\n",
       "  </thead>\n",
       "  <tbody>\n",
       "    <tr>\n",
       "      <th>0</th>\n",
       "      <td>276725</td>\n",
       "      <td>034545104X</td>\n",
       "      <td>0</td>\n",
       "      <td>tyler, texas, usa</td>\n",
       "      <td>NaN</td>\n",
       "      <td>Flesh Tones: A Novel</td>\n",
       "      <td>M. J. Rose</td>\n",
       "      <td>2002.0</td>\n",
       "      <td>Ballantine Books</td>\n",
       "      <td>http://images.amazon.com/images/P/034545104X.0...</td>\n",
       "      <td>http://images.amazon.com/images/P/034545104X.0...</td>\n",
       "      <td>http://images.amazon.com/images/P/034545104X.0...</td>\n",
       "    </tr>\n",
       "    <tr>\n",
       "      <th>1</th>\n",
       "      <td>276726</td>\n",
       "      <td>0155061224</td>\n",
       "      <td>5</td>\n",
       "      <td>seattle, washington, usa</td>\n",
       "      <td>NaN</td>\n",
       "      <td>Rites of Passage</td>\n",
       "      <td>Judith Rae</td>\n",
       "      <td>2001.0</td>\n",
       "      <td>Heinle</td>\n",
       "      <td>http://images.amazon.com/images/P/0155061224.0...</td>\n",
       "      <td>http://images.amazon.com/images/P/0155061224.0...</td>\n",
       "      <td>http://images.amazon.com/images/P/0155061224.0...</td>\n",
       "    </tr>\n",
       "    <tr>\n",
       "      <th>2</th>\n",
       "      <td>276727</td>\n",
       "      <td>0446520802</td>\n",
       "      <td>0</td>\n",
       "      <td>h, new south wales, australia</td>\n",
       "      <td>16.0</td>\n",
       "      <td>The Notebook</td>\n",
       "      <td>Nicholas Sparks</td>\n",
       "      <td>1996.0</td>\n",
       "      <td>Warner Books</td>\n",
       "      <td>http://images.amazon.com/images/P/0446520802.0...</td>\n",
       "      <td>http://images.amazon.com/images/P/0446520802.0...</td>\n",
       "      <td>http://images.amazon.com/images/P/0446520802.0...</td>\n",
       "    </tr>\n",
       "    <tr>\n",
       "      <th>3</th>\n",
       "      <td>276729</td>\n",
       "      <td>052165615X</td>\n",
       "      <td>3</td>\n",
       "      <td>rijeka, n/a, croatia</td>\n",
       "      <td>16.0</td>\n",
       "      <td>Help!: Level 1</td>\n",
       "      <td>Philip Prowse</td>\n",
       "      <td>1999.0</td>\n",
       "      <td>Cambridge University Press</td>\n",
       "      <td>http://images.amazon.com/images/P/052165615X.0...</td>\n",
       "      <td>http://images.amazon.com/images/P/052165615X.0...</td>\n",
       "      <td>http://images.amazon.com/images/P/052165615X.0...</td>\n",
       "    </tr>\n",
       "    <tr>\n",
       "      <th>4</th>\n",
       "      <td>276729</td>\n",
       "      <td>0521795028</td>\n",
       "      <td>6</td>\n",
       "      <td>rijeka, n/a, croatia</td>\n",
       "      <td>16.0</td>\n",
       "      <td>The Amsterdam Connection : Level 4 (Cambridge ...</td>\n",
       "      <td>Sue Leather</td>\n",
       "      <td>2001.0</td>\n",
       "      <td>Cambridge University Press</td>\n",
       "      <td>http://images.amazon.com/images/P/0521795028.0...</td>\n",
       "      <td>http://images.amazon.com/images/P/0521795028.0...</td>\n",
       "      <td>http://images.amazon.com/images/P/0521795028.0...</td>\n",
       "    </tr>\n",
       "  </tbody>\n",
       "</table>\n",
       "</div>"
      ],
      "text/plain": [
       "   User-ID        ISBN  Book-Rating                       Location   Age  \\\n",
       "0   276725  034545104X            0              tyler, texas, usa   NaN   \n",
       "1   276726  0155061224            5       seattle, washington, usa   NaN   \n",
       "2   276727  0446520802            0  h, new south wales, australia  16.0   \n",
       "3   276729  052165615X            3           rijeka, n/a, croatia  16.0   \n",
       "4   276729  0521795028            6           rijeka, n/a, croatia  16.0   \n",
       "\n",
       "                                          Book-Title      Book-Author  \\\n",
       "0                               Flesh Tones: A Novel       M. J. Rose   \n",
       "1                                   Rites of Passage       Judith Rae   \n",
       "2                                       The Notebook  Nicholas Sparks   \n",
       "3                                     Help!: Level 1    Philip Prowse   \n",
       "4  The Amsterdam Connection : Level 4 (Cambridge ...      Sue Leather   \n",
       "\n",
       "   Year-Of-Publication                   Publisher  \\\n",
       "0               2002.0            Ballantine Books   \n",
       "1               2001.0                      Heinle   \n",
       "2               1996.0                Warner Books   \n",
       "3               1999.0  Cambridge University Press   \n",
       "4               2001.0  Cambridge University Press   \n",
       "\n",
       "                                         Image-URL-S  \\\n",
       "0  http://images.amazon.com/images/P/034545104X.0...   \n",
       "1  http://images.amazon.com/images/P/0155061224.0...   \n",
       "2  http://images.amazon.com/images/P/0446520802.0...   \n",
       "3  http://images.amazon.com/images/P/052165615X.0...   \n",
       "4  http://images.amazon.com/images/P/0521795028.0...   \n",
       "\n",
       "                                         Image-URL-M  \\\n",
       "0  http://images.amazon.com/images/P/034545104X.0...   \n",
       "1  http://images.amazon.com/images/P/0155061224.0...   \n",
       "2  http://images.amazon.com/images/P/0446520802.0...   \n",
       "3  http://images.amazon.com/images/P/052165615X.0...   \n",
       "4  http://images.amazon.com/images/P/0521795028.0...   \n",
       "\n",
       "                                         Image-URL-L  \n",
       "0  http://images.amazon.com/images/P/034545104X.0...  \n",
       "1  http://images.amazon.com/images/P/0155061224.0...  \n",
       "2  http://images.amazon.com/images/P/0446520802.0...  \n",
       "3  http://images.amazon.com/images/P/052165615X.0...  \n",
       "4  http://images.amazon.com/images/P/0521795028.0...  "
      ]
     },
     "execution_count": 6,
     "metadata": {},
     "output_type": "execute_result"
    }
   ],
   "source": [
    "ratings_merged = ratings.merge(users, how='left').merge(items, how='left')\n",
    "ratings_merged.head()"
   ]
  },
  {
   "cell_type": "code",
   "execution_count": 7,
   "id": "d7fcbb99",
   "metadata": {
    "execution": {
     "iopub.execute_input": "2022-08-12T06:19:07.297578Z",
     "iopub.status.busy": "2022-08-12T06:19:07.297226Z",
     "iopub.status.idle": "2022-08-12T06:19:07.874262Z",
     "shell.execute_reply": "2022-08-12T06:19:07.872930Z"
    },
    "papermill": {
     "duration": 0.589113,
     "end_time": "2022-08-12T06:19:07.877406",
     "exception": false,
     "start_time": "2022-08-12T06:19:07.288293",
     "status": "completed"
    },
    "tags": []
   },
   "outputs": [
    {
     "data": {
      "text/plain": [
       "((1149780, 4), (1149780, 2), (1149780, 1))"
      ]
     },
     "execution_count": 7,
     "metadata": {},
     "output_type": "execute_result"
    }
   ],
   "source": [
    "ITEM_FEATURES = ['Book-Title', 'Book-Author', 'Year-Of-Publication', 'Publisher']\n",
    "USER_FEATURES = ['Location', 'Age']\n",
    "TARGET = ['Book-Rating']\n",
    "\n",
    "x_item = ratings_merged[ITEM_FEATURES]\n",
    "x_user = ratings_merged[USER_FEATURES]\n",
    "y = ratings_merged[TARGET]\n",
    "\n",
    "x_item.shape, x_user.shape, y.shape"
   ]
  },
  {
   "cell_type": "markdown",
   "id": "4895659f",
   "metadata": {
    "papermill": {
     "duration": 0.007352,
     "end_time": "2022-08-12T06:19:07.892462",
     "exception": false,
     "start_time": "2022-08-12T06:19:07.885110",
     "status": "completed"
    },
    "tags": []
   },
   "source": [
    "# Preprocessing"
   ]
  },
  {
   "cell_type": "code",
   "execution_count": 8,
   "id": "9ec932e8",
   "metadata": {
    "execution": {
     "iopub.execute_input": "2022-08-12T06:19:07.910999Z",
     "iopub.status.busy": "2022-08-12T06:19:07.908789Z",
     "iopub.status.idle": "2022-08-12T06:20:32.921879Z",
     "shell.execute_reply": "2022-08-12T06:20:32.920534Z"
    },
    "papermill": {
     "duration": 85.032262,
     "end_time": "2022-08-12T06:20:32.932523",
     "exception": false,
     "start_time": "2022-08-12T06:19:07.900261",
     "status": "completed"
    },
    "tags": []
   },
   "outputs": [
    {
     "data": {
      "text/plain": [
       "((1149780, 5571), (1149780, 1695))"
      ]
     },
     "execution_count": 8,
     "metadata": {},
     "output_type": "execute_result"
    }
   ],
   "source": [
    "def get_2d_to_1d(df):\n",
    "    return df.reshape(-1)\n",
    "\n",
    "impute_blanks = lambda: SimpleImputer(strategy='constant', fill_value='')\n",
    "impute_median = lambda: SimpleImputer(strategy='median')\n",
    "\n",
    "reshape = lambda: FunctionTransformer(get_2d_to_1d)\n",
    "\n",
    "tfidf = lambda: TfidfVectorizer(analyzer='char', ngram_range=(2, 2))\n",
    "scale = lambda: StandardScaler()\n",
    "\n",
    "preprocessor_items = ColumnTransformer([\n",
    "    ('Book-Title', Pipeline([('impute', impute_blanks()), ('reshape', reshape()), ('encoder', tfidf())]), ['Book-Title']),\n",
    "    ('Book-Author', Pipeline([('impute', impute_blanks()), ('reshape', reshape()), ('encoder', tfidf())]), ['Book-Author']),\n",
    "    ('Year-Of-Publication', Pipeline([('impute', impute_median()), ('encoder', scale())]), ['Year-Of-Publication']),\n",
    "    ('Publisher', Pipeline([('impute', impute_blanks()), ('reshape', reshape()), ('encoder', tfidf())]), ['Publisher']),\n",
    "])\n",
    "\n",
    "preprocessor_users = ColumnTransformer([\n",
    "    ('Location', Pipeline([('impute', impute_blanks()), ('reshape', reshape()), ('encoder', tfidf())]), ['Location']),\n",
    "    ('Age', Pipeline([('impute', impute_median()), ('encoder', scale())]), ['Age']),\n",
    "])\n",
    "\n",
    "ratings_scaler = MinMaxScaler()\n",
    "\n",
    "x_item = preprocessor_items.fit_transform(x_item)\n",
    "x_user = preprocessor_users.fit_transform(x_user)\n",
    "y = ratings_scaler.fit_transform(y).reshape(-1)\n",
    "\n",
    "x_item.shape, x_user.shape"
   ]
  },
  {
   "cell_type": "code",
   "execution_count": 9,
   "id": "e5f7c131",
   "metadata": {
    "execution": {
     "iopub.execute_input": "2022-08-12T06:20:32.950997Z",
     "iopub.status.busy": "2022-08-12T06:20:32.948959Z",
     "iopub.status.idle": "2022-08-12T06:20:33.010885Z",
     "shell.execute_reply": "2022-08-12T06:20:33.009466Z"
    },
    "papermill": {
     "duration": 0.073427,
     "end_time": "2022-08-12T06:20:33.013591",
     "exception": false,
     "start_time": "2022-08-12T06:20:32.940164",
     "status": "completed"
    },
    "tags": []
   },
   "outputs": [
    {
     "data": {
      "text/html": [
       "<style>#sk-43f6d625-b162-4940-b0df-a37a7d9b06f3 {color: black;background-color: white;}#sk-43f6d625-b162-4940-b0df-a37a7d9b06f3 pre{padding: 0;}#sk-43f6d625-b162-4940-b0df-a37a7d9b06f3 div.sk-toggleable {background-color: white;}#sk-43f6d625-b162-4940-b0df-a37a7d9b06f3 label.sk-toggleable__label {cursor: pointer;display: block;width: 100%;margin-bottom: 0;padding: 0.3em;box-sizing: border-box;text-align: center;}#sk-43f6d625-b162-4940-b0df-a37a7d9b06f3 label.sk-toggleable__label-arrow:before {content: \"▸\";float: left;margin-right: 0.25em;color: #696969;}#sk-43f6d625-b162-4940-b0df-a37a7d9b06f3 label.sk-toggleable__label-arrow:hover:before {color: black;}#sk-43f6d625-b162-4940-b0df-a37a7d9b06f3 div.sk-estimator:hover label.sk-toggleable__label-arrow:before {color: black;}#sk-43f6d625-b162-4940-b0df-a37a7d9b06f3 div.sk-toggleable__content {max-height: 0;max-width: 0;overflow: hidden;text-align: left;background-color: #f0f8ff;}#sk-43f6d625-b162-4940-b0df-a37a7d9b06f3 div.sk-toggleable__content pre {margin: 0.2em;color: black;border-radius: 0.25em;background-color: #f0f8ff;}#sk-43f6d625-b162-4940-b0df-a37a7d9b06f3 input.sk-toggleable__control:checked~div.sk-toggleable__content {max-height: 200px;max-width: 100%;overflow: auto;}#sk-43f6d625-b162-4940-b0df-a37a7d9b06f3 input.sk-toggleable__control:checked~label.sk-toggleable__label-arrow:before {content: \"▾\";}#sk-43f6d625-b162-4940-b0df-a37a7d9b06f3 div.sk-estimator input.sk-toggleable__control:checked~label.sk-toggleable__label {background-color: #d4ebff;}#sk-43f6d625-b162-4940-b0df-a37a7d9b06f3 div.sk-label input.sk-toggleable__control:checked~label.sk-toggleable__label {background-color: #d4ebff;}#sk-43f6d625-b162-4940-b0df-a37a7d9b06f3 input.sk-hidden--visually {border: 0;clip: rect(1px 1px 1px 1px);clip: rect(1px, 1px, 1px, 1px);height: 1px;margin: -1px;overflow: hidden;padding: 0;position: absolute;width: 1px;}#sk-43f6d625-b162-4940-b0df-a37a7d9b06f3 div.sk-estimator {font-family: monospace;background-color: #f0f8ff;border: 1px dotted black;border-radius: 0.25em;box-sizing: border-box;margin-bottom: 0.5em;}#sk-43f6d625-b162-4940-b0df-a37a7d9b06f3 div.sk-estimator:hover {background-color: #d4ebff;}#sk-43f6d625-b162-4940-b0df-a37a7d9b06f3 div.sk-parallel-item::after {content: \"\";width: 100%;border-bottom: 1px solid gray;flex-grow: 1;}#sk-43f6d625-b162-4940-b0df-a37a7d9b06f3 div.sk-label:hover label.sk-toggleable__label {background-color: #d4ebff;}#sk-43f6d625-b162-4940-b0df-a37a7d9b06f3 div.sk-serial::before {content: \"\";position: absolute;border-left: 1px solid gray;box-sizing: border-box;top: 2em;bottom: 0;left: 50%;}#sk-43f6d625-b162-4940-b0df-a37a7d9b06f3 div.sk-serial {display: flex;flex-direction: column;align-items: center;background-color: white;padding-right: 0.2em;padding-left: 0.2em;}#sk-43f6d625-b162-4940-b0df-a37a7d9b06f3 div.sk-item {z-index: 1;}#sk-43f6d625-b162-4940-b0df-a37a7d9b06f3 div.sk-parallel {display: flex;align-items: stretch;justify-content: center;background-color: white;}#sk-43f6d625-b162-4940-b0df-a37a7d9b06f3 div.sk-parallel::before {content: \"\";position: absolute;border-left: 1px solid gray;box-sizing: border-box;top: 2em;bottom: 0;left: 50%;}#sk-43f6d625-b162-4940-b0df-a37a7d9b06f3 div.sk-parallel-item {display: flex;flex-direction: column;position: relative;background-color: white;}#sk-43f6d625-b162-4940-b0df-a37a7d9b06f3 div.sk-parallel-item:first-child::after {align-self: flex-end;width: 50%;}#sk-43f6d625-b162-4940-b0df-a37a7d9b06f3 div.sk-parallel-item:last-child::after {align-self: flex-start;width: 50%;}#sk-43f6d625-b162-4940-b0df-a37a7d9b06f3 div.sk-parallel-item:only-child::after {width: 0;}#sk-43f6d625-b162-4940-b0df-a37a7d9b06f3 div.sk-dashed-wrapped {border: 1px dashed gray;margin: 0 0.4em 0.5em 0.4em;box-sizing: border-box;padding-bottom: 0.4em;background-color: white;position: relative;}#sk-43f6d625-b162-4940-b0df-a37a7d9b06f3 div.sk-label label {font-family: monospace;font-weight: bold;background-color: white;display: inline-block;line-height: 1.2em;}#sk-43f6d625-b162-4940-b0df-a37a7d9b06f3 div.sk-label-container {position: relative;z-index: 2;text-align: center;}#sk-43f6d625-b162-4940-b0df-a37a7d9b06f3 div.sk-container {/* jupyter's `normalize.less` sets `[hidden] { display: none; }` but bootstrap.min.css set `[hidden] { display: none !important; }` so we also need the `!important` here to be able to override the default hidden behavior on the sphinx rendered scikit-learn.org. See: https://github.com/scikit-learn/scikit-learn/issues/21755 */display: inline-block !important;position: relative;}#sk-43f6d625-b162-4940-b0df-a37a7d9b06f3 div.sk-text-repr-fallback {display: none;}</style><div id=\"sk-43f6d625-b162-4940-b0df-a37a7d9b06f3\" class=\"sk-top-container\"><div class=\"sk-text-repr-fallback\"><pre>ColumnTransformer(transformers=[(&#x27;Book-Title&#x27;,\n",
       "                                 Pipeline(steps=[(&#x27;impute&#x27;,\n",
       "                                                  SimpleImputer(fill_value=&#x27;&#x27;,\n",
       "                                                                strategy=&#x27;constant&#x27;)),\n",
       "                                                 (&#x27;reshape&#x27;,\n",
       "                                                  FunctionTransformer(func=&lt;function get_2d_to_1d at 0x7fd140e199e0&gt;)),\n",
       "                                                 (&#x27;encoder&#x27;,\n",
       "                                                  TfidfVectorizer(analyzer=&#x27;char&#x27;,\n",
       "                                                                  ngram_range=(2,\n",
       "                                                                               2)))]),\n",
       "                                 [&#x27;Book-Title&#x27;]),\n",
       "                                (&#x27;Book-Author&#x27;,\n",
       "                                 Pipeline(steps=[(&#x27;impute&#x27;,\n",
       "                                                  SimpleImputer(fill_value=&#x27;&#x27;,\n",
       "                                                                s...\n",
       "                                 Pipeline(steps=[(&#x27;impute&#x27;,\n",
       "                                                  SimpleImputer(strategy=&#x27;median&#x27;)),\n",
       "                                                 (&#x27;encoder&#x27;,\n",
       "                                                  StandardScaler())]),\n",
       "                                 [&#x27;Year-Of-Publication&#x27;]),\n",
       "                                (&#x27;Publisher&#x27;,\n",
       "                                 Pipeline(steps=[(&#x27;impute&#x27;,\n",
       "                                                  SimpleImputer(fill_value=&#x27;&#x27;,\n",
       "                                                                strategy=&#x27;constant&#x27;)),\n",
       "                                                 (&#x27;reshape&#x27;,\n",
       "                                                  FunctionTransformer(func=&lt;function get_2d_to_1d at 0x7fd140e199e0&gt;)),\n",
       "                                                 (&#x27;encoder&#x27;,\n",
       "                                                  TfidfVectorizer(analyzer=&#x27;char&#x27;,\n",
       "                                                                  ngram_range=(2,\n",
       "                                                                               2)))]),\n",
       "                                 [&#x27;Publisher&#x27;])])</pre><b>Please rerun this cell to show the HTML repr or trust the notebook.</b></div><div class=\"sk-container\" hidden><div class=\"sk-item sk-dashed-wrapped\"><div class=\"sk-label-container\"><div class=\"sk-label sk-toggleable\"><input class=\"sk-toggleable__control sk-hidden--visually\" id=\"8e22380e-c858-4222-9929-2b221861ff9f\" type=\"checkbox\" ><label for=\"8e22380e-c858-4222-9929-2b221861ff9f\" class=\"sk-toggleable__label sk-toggleable__label-arrow\">ColumnTransformer</label><div class=\"sk-toggleable__content\"><pre>ColumnTransformer(transformers=[(&#x27;Book-Title&#x27;,\n",
       "                                 Pipeline(steps=[(&#x27;impute&#x27;,\n",
       "                                                  SimpleImputer(fill_value=&#x27;&#x27;,\n",
       "                                                                strategy=&#x27;constant&#x27;)),\n",
       "                                                 (&#x27;reshape&#x27;,\n",
       "                                                  FunctionTransformer(func=&lt;function get_2d_to_1d at 0x7fd140e199e0&gt;)),\n",
       "                                                 (&#x27;encoder&#x27;,\n",
       "                                                  TfidfVectorizer(analyzer=&#x27;char&#x27;,\n",
       "                                                                  ngram_range=(2,\n",
       "                                                                               2)))]),\n",
       "                                 [&#x27;Book-Title&#x27;]),\n",
       "                                (&#x27;Book-Author&#x27;,\n",
       "                                 Pipeline(steps=[(&#x27;impute&#x27;,\n",
       "                                                  SimpleImputer(fill_value=&#x27;&#x27;,\n",
       "                                                                s...\n",
       "                                 Pipeline(steps=[(&#x27;impute&#x27;,\n",
       "                                                  SimpleImputer(strategy=&#x27;median&#x27;)),\n",
       "                                                 (&#x27;encoder&#x27;,\n",
       "                                                  StandardScaler())]),\n",
       "                                 [&#x27;Year-Of-Publication&#x27;]),\n",
       "                                (&#x27;Publisher&#x27;,\n",
       "                                 Pipeline(steps=[(&#x27;impute&#x27;,\n",
       "                                                  SimpleImputer(fill_value=&#x27;&#x27;,\n",
       "                                                                strategy=&#x27;constant&#x27;)),\n",
       "                                                 (&#x27;reshape&#x27;,\n",
       "                                                  FunctionTransformer(func=&lt;function get_2d_to_1d at 0x7fd140e199e0&gt;)),\n",
       "                                                 (&#x27;encoder&#x27;,\n",
       "                                                  TfidfVectorizer(analyzer=&#x27;char&#x27;,\n",
       "                                                                  ngram_range=(2,\n",
       "                                                                               2)))]),\n",
       "                                 [&#x27;Publisher&#x27;])])</pre></div></div></div><div class=\"sk-parallel\"><div class=\"sk-parallel-item\"><div class=\"sk-item\"><div class=\"sk-label-container\"><div class=\"sk-label sk-toggleable\"><input class=\"sk-toggleable__control sk-hidden--visually\" id=\"881551ee-0449-4a26-9a82-7026e7200914\" type=\"checkbox\" ><label for=\"881551ee-0449-4a26-9a82-7026e7200914\" class=\"sk-toggleable__label sk-toggleable__label-arrow\">Book-Title</label><div class=\"sk-toggleable__content\"><pre>[&#x27;Book-Title&#x27;]</pre></div></div></div><div class=\"sk-serial\"><div class=\"sk-item\"><div class=\"sk-serial\"><div class=\"sk-item\"><div class=\"sk-estimator sk-toggleable\"><input class=\"sk-toggleable__control sk-hidden--visually\" id=\"e3d4912c-6847-4dad-8f6e-c0749aa34063\" type=\"checkbox\" ><label for=\"e3d4912c-6847-4dad-8f6e-c0749aa34063\" class=\"sk-toggleable__label sk-toggleable__label-arrow\">SimpleImputer</label><div class=\"sk-toggleable__content\"><pre>SimpleImputer(fill_value=&#x27;&#x27;, strategy=&#x27;constant&#x27;)</pre></div></div></div><div class=\"sk-item\"><div class=\"sk-estimator sk-toggleable\"><input class=\"sk-toggleable__control sk-hidden--visually\" id=\"0fd8d830-8ed5-4398-8104-0dace13f1705\" type=\"checkbox\" ><label for=\"0fd8d830-8ed5-4398-8104-0dace13f1705\" class=\"sk-toggleable__label sk-toggleable__label-arrow\">FunctionTransformer</label><div class=\"sk-toggleable__content\"><pre>FunctionTransformer(func=&lt;function get_2d_to_1d at 0x7fd140e199e0&gt;)</pre></div></div></div><div class=\"sk-item\"><div class=\"sk-estimator sk-toggleable\"><input class=\"sk-toggleable__control sk-hidden--visually\" id=\"4ddafc32-4f9a-4a4d-8cbc-cb8484279ad6\" type=\"checkbox\" ><label for=\"4ddafc32-4f9a-4a4d-8cbc-cb8484279ad6\" class=\"sk-toggleable__label sk-toggleable__label-arrow\">TfidfVectorizer</label><div class=\"sk-toggleable__content\"><pre>TfidfVectorizer(analyzer=&#x27;char&#x27;, ngram_range=(2, 2))</pre></div></div></div></div></div></div></div></div><div class=\"sk-parallel-item\"><div class=\"sk-item\"><div class=\"sk-label-container\"><div class=\"sk-label sk-toggleable\"><input class=\"sk-toggleable__control sk-hidden--visually\" id=\"35672360-080d-42ca-9f0b-32c75f0925f3\" type=\"checkbox\" ><label for=\"35672360-080d-42ca-9f0b-32c75f0925f3\" class=\"sk-toggleable__label sk-toggleable__label-arrow\">Book-Author</label><div class=\"sk-toggleable__content\"><pre>[&#x27;Book-Author&#x27;]</pre></div></div></div><div class=\"sk-serial\"><div class=\"sk-item\"><div class=\"sk-serial\"><div class=\"sk-item\"><div class=\"sk-estimator sk-toggleable\"><input class=\"sk-toggleable__control sk-hidden--visually\" id=\"5afc1742-72e3-41bf-8186-923142f9709c\" type=\"checkbox\" ><label for=\"5afc1742-72e3-41bf-8186-923142f9709c\" class=\"sk-toggleable__label sk-toggleable__label-arrow\">SimpleImputer</label><div class=\"sk-toggleable__content\"><pre>SimpleImputer(fill_value=&#x27;&#x27;, strategy=&#x27;constant&#x27;)</pre></div></div></div><div class=\"sk-item\"><div class=\"sk-estimator sk-toggleable\"><input class=\"sk-toggleable__control sk-hidden--visually\" id=\"50f974cd-4651-4ee1-a16d-35337756b57b\" type=\"checkbox\" ><label for=\"50f974cd-4651-4ee1-a16d-35337756b57b\" class=\"sk-toggleable__label sk-toggleable__label-arrow\">FunctionTransformer</label><div class=\"sk-toggleable__content\"><pre>FunctionTransformer(func=&lt;function get_2d_to_1d at 0x7fd140e199e0&gt;)</pre></div></div></div><div class=\"sk-item\"><div class=\"sk-estimator sk-toggleable\"><input class=\"sk-toggleable__control sk-hidden--visually\" id=\"3d718cc9-5a86-4dc8-a76c-fc7cceecfba0\" type=\"checkbox\" ><label for=\"3d718cc9-5a86-4dc8-a76c-fc7cceecfba0\" class=\"sk-toggleable__label sk-toggleable__label-arrow\">TfidfVectorizer</label><div class=\"sk-toggleable__content\"><pre>TfidfVectorizer(analyzer=&#x27;char&#x27;, ngram_range=(2, 2))</pre></div></div></div></div></div></div></div></div><div class=\"sk-parallel-item\"><div class=\"sk-item\"><div class=\"sk-label-container\"><div class=\"sk-label sk-toggleable\"><input class=\"sk-toggleable__control sk-hidden--visually\" id=\"0501e76b-4050-4d54-a25e-761a5596e083\" type=\"checkbox\" ><label for=\"0501e76b-4050-4d54-a25e-761a5596e083\" class=\"sk-toggleable__label sk-toggleable__label-arrow\">Year-Of-Publication</label><div class=\"sk-toggleable__content\"><pre>[&#x27;Year-Of-Publication&#x27;]</pre></div></div></div><div class=\"sk-serial\"><div class=\"sk-item\"><div class=\"sk-serial\"><div class=\"sk-item\"><div class=\"sk-estimator sk-toggleable\"><input class=\"sk-toggleable__control sk-hidden--visually\" id=\"bddfd1e2-4879-49c8-a605-34746ccb863c\" type=\"checkbox\" ><label for=\"bddfd1e2-4879-49c8-a605-34746ccb863c\" class=\"sk-toggleable__label sk-toggleable__label-arrow\">SimpleImputer</label><div class=\"sk-toggleable__content\"><pre>SimpleImputer(strategy=&#x27;median&#x27;)</pre></div></div></div><div class=\"sk-item\"><div class=\"sk-estimator sk-toggleable\"><input class=\"sk-toggleable__control sk-hidden--visually\" id=\"03ffad27-4e1e-4e58-96ee-2170f455b102\" type=\"checkbox\" ><label for=\"03ffad27-4e1e-4e58-96ee-2170f455b102\" class=\"sk-toggleable__label sk-toggleable__label-arrow\">StandardScaler</label><div class=\"sk-toggleable__content\"><pre>StandardScaler()</pre></div></div></div></div></div></div></div></div><div class=\"sk-parallel-item\"><div class=\"sk-item\"><div class=\"sk-label-container\"><div class=\"sk-label sk-toggleable\"><input class=\"sk-toggleable__control sk-hidden--visually\" id=\"8d74dd09-1093-4bab-875b-097ce7e62873\" type=\"checkbox\" ><label for=\"8d74dd09-1093-4bab-875b-097ce7e62873\" class=\"sk-toggleable__label sk-toggleable__label-arrow\">Publisher</label><div class=\"sk-toggleable__content\"><pre>[&#x27;Publisher&#x27;]</pre></div></div></div><div class=\"sk-serial\"><div class=\"sk-item\"><div class=\"sk-serial\"><div class=\"sk-item\"><div class=\"sk-estimator sk-toggleable\"><input class=\"sk-toggleable__control sk-hidden--visually\" id=\"6aa8c1f0-c210-4f13-8283-9807e4c2c97a\" type=\"checkbox\" ><label for=\"6aa8c1f0-c210-4f13-8283-9807e4c2c97a\" class=\"sk-toggleable__label sk-toggleable__label-arrow\">SimpleImputer</label><div class=\"sk-toggleable__content\"><pre>SimpleImputer(fill_value=&#x27;&#x27;, strategy=&#x27;constant&#x27;)</pre></div></div></div><div class=\"sk-item\"><div class=\"sk-estimator sk-toggleable\"><input class=\"sk-toggleable__control sk-hidden--visually\" id=\"d116f100-31cd-446f-b402-130eb74bd5cd\" type=\"checkbox\" ><label for=\"d116f100-31cd-446f-b402-130eb74bd5cd\" class=\"sk-toggleable__label sk-toggleable__label-arrow\">FunctionTransformer</label><div class=\"sk-toggleable__content\"><pre>FunctionTransformer(func=&lt;function get_2d_to_1d at 0x7fd140e199e0&gt;)</pre></div></div></div><div class=\"sk-item\"><div class=\"sk-estimator sk-toggleable\"><input class=\"sk-toggleable__control sk-hidden--visually\" id=\"19d0e6d8-e94f-429b-b4a6-895578871a53\" type=\"checkbox\" ><label for=\"19d0e6d8-e94f-429b-b4a6-895578871a53\" class=\"sk-toggleable__label sk-toggleable__label-arrow\">TfidfVectorizer</label><div class=\"sk-toggleable__content\"><pre>TfidfVectorizer(analyzer=&#x27;char&#x27;, ngram_range=(2, 2))</pre></div></div></div></div></div></div></div></div></div></div></div></div>"
      ],
      "text/plain": [
       "<IPython.core.display.HTML object>"
      ]
     },
     "execution_count": 9,
     "metadata": {},
     "output_type": "execute_result"
    }
   ],
   "source": [
    "HTML(estimator_html_repr(preprocessor_items))"
   ]
  },
  {
   "cell_type": "code",
   "execution_count": 10,
   "id": "925021f5",
   "metadata": {
    "execution": {
     "iopub.execute_input": "2022-08-12T06:20:33.031865Z",
     "iopub.status.busy": "2022-08-12T06:20:33.031431Z",
     "iopub.status.idle": "2022-08-12T06:20:33.062228Z",
     "shell.execute_reply": "2022-08-12T06:20:33.060848Z"
    },
    "papermill": {
     "duration": 0.042949,
     "end_time": "2022-08-12T06:20:33.064845",
     "exception": false,
     "start_time": "2022-08-12T06:20:33.021896",
     "status": "completed"
    },
    "tags": []
   },
   "outputs": [
    {
     "data": {
      "text/html": [
       "<style>#sk-896dc84e-f844-43fa-a554-4d45d6bb036d {color: black;background-color: white;}#sk-896dc84e-f844-43fa-a554-4d45d6bb036d pre{padding: 0;}#sk-896dc84e-f844-43fa-a554-4d45d6bb036d div.sk-toggleable {background-color: white;}#sk-896dc84e-f844-43fa-a554-4d45d6bb036d label.sk-toggleable__label {cursor: pointer;display: block;width: 100%;margin-bottom: 0;padding: 0.3em;box-sizing: border-box;text-align: center;}#sk-896dc84e-f844-43fa-a554-4d45d6bb036d label.sk-toggleable__label-arrow:before {content: \"▸\";float: left;margin-right: 0.25em;color: #696969;}#sk-896dc84e-f844-43fa-a554-4d45d6bb036d label.sk-toggleable__label-arrow:hover:before {color: black;}#sk-896dc84e-f844-43fa-a554-4d45d6bb036d div.sk-estimator:hover label.sk-toggleable__label-arrow:before {color: black;}#sk-896dc84e-f844-43fa-a554-4d45d6bb036d div.sk-toggleable__content {max-height: 0;max-width: 0;overflow: hidden;text-align: left;background-color: #f0f8ff;}#sk-896dc84e-f844-43fa-a554-4d45d6bb036d div.sk-toggleable__content pre {margin: 0.2em;color: black;border-radius: 0.25em;background-color: #f0f8ff;}#sk-896dc84e-f844-43fa-a554-4d45d6bb036d input.sk-toggleable__control:checked~div.sk-toggleable__content {max-height: 200px;max-width: 100%;overflow: auto;}#sk-896dc84e-f844-43fa-a554-4d45d6bb036d input.sk-toggleable__control:checked~label.sk-toggleable__label-arrow:before {content: \"▾\";}#sk-896dc84e-f844-43fa-a554-4d45d6bb036d div.sk-estimator input.sk-toggleable__control:checked~label.sk-toggleable__label {background-color: #d4ebff;}#sk-896dc84e-f844-43fa-a554-4d45d6bb036d div.sk-label input.sk-toggleable__control:checked~label.sk-toggleable__label {background-color: #d4ebff;}#sk-896dc84e-f844-43fa-a554-4d45d6bb036d input.sk-hidden--visually {border: 0;clip: rect(1px 1px 1px 1px);clip: rect(1px, 1px, 1px, 1px);height: 1px;margin: -1px;overflow: hidden;padding: 0;position: absolute;width: 1px;}#sk-896dc84e-f844-43fa-a554-4d45d6bb036d div.sk-estimator {font-family: monospace;background-color: #f0f8ff;border: 1px dotted black;border-radius: 0.25em;box-sizing: border-box;margin-bottom: 0.5em;}#sk-896dc84e-f844-43fa-a554-4d45d6bb036d div.sk-estimator:hover {background-color: #d4ebff;}#sk-896dc84e-f844-43fa-a554-4d45d6bb036d div.sk-parallel-item::after {content: \"\";width: 100%;border-bottom: 1px solid gray;flex-grow: 1;}#sk-896dc84e-f844-43fa-a554-4d45d6bb036d div.sk-label:hover label.sk-toggleable__label {background-color: #d4ebff;}#sk-896dc84e-f844-43fa-a554-4d45d6bb036d div.sk-serial::before {content: \"\";position: absolute;border-left: 1px solid gray;box-sizing: border-box;top: 2em;bottom: 0;left: 50%;}#sk-896dc84e-f844-43fa-a554-4d45d6bb036d div.sk-serial {display: flex;flex-direction: column;align-items: center;background-color: white;padding-right: 0.2em;padding-left: 0.2em;}#sk-896dc84e-f844-43fa-a554-4d45d6bb036d div.sk-item {z-index: 1;}#sk-896dc84e-f844-43fa-a554-4d45d6bb036d div.sk-parallel {display: flex;align-items: stretch;justify-content: center;background-color: white;}#sk-896dc84e-f844-43fa-a554-4d45d6bb036d div.sk-parallel::before {content: \"\";position: absolute;border-left: 1px solid gray;box-sizing: border-box;top: 2em;bottom: 0;left: 50%;}#sk-896dc84e-f844-43fa-a554-4d45d6bb036d div.sk-parallel-item {display: flex;flex-direction: column;position: relative;background-color: white;}#sk-896dc84e-f844-43fa-a554-4d45d6bb036d div.sk-parallel-item:first-child::after {align-self: flex-end;width: 50%;}#sk-896dc84e-f844-43fa-a554-4d45d6bb036d div.sk-parallel-item:last-child::after {align-self: flex-start;width: 50%;}#sk-896dc84e-f844-43fa-a554-4d45d6bb036d div.sk-parallel-item:only-child::after {width: 0;}#sk-896dc84e-f844-43fa-a554-4d45d6bb036d div.sk-dashed-wrapped {border: 1px dashed gray;margin: 0 0.4em 0.5em 0.4em;box-sizing: border-box;padding-bottom: 0.4em;background-color: white;position: relative;}#sk-896dc84e-f844-43fa-a554-4d45d6bb036d div.sk-label label {font-family: monospace;font-weight: bold;background-color: white;display: inline-block;line-height: 1.2em;}#sk-896dc84e-f844-43fa-a554-4d45d6bb036d div.sk-label-container {position: relative;z-index: 2;text-align: center;}#sk-896dc84e-f844-43fa-a554-4d45d6bb036d div.sk-container {/* jupyter's `normalize.less` sets `[hidden] { display: none; }` but bootstrap.min.css set `[hidden] { display: none !important; }` so we also need the `!important` here to be able to override the default hidden behavior on the sphinx rendered scikit-learn.org. See: https://github.com/scikit-learn/scikit-learn/issues/21755 */display: inline-block !important;position: relative;}#sk-896dc84e-f844-43fa-a554-4d45d6bb036d div.sk-text-repr-fallback {display: none;}</style><div id=\"sk-896dc84e-f844-43fa-a554-4d45d6bb036d\" class=\"sk-top-container\"><div class=\"sk-text-repr-fallback\"><pre>ColumnTransformer(transformers=[(&#x27;Location&#x27;,\n",
       "                                 Pipeline(steps=[(&#x27;impute&#x27;,\n",
       "                                                  SimpleImputer(fill_value=&#x27;&#x27;,\n",
       "                                                                strategy=&#x27;constant&#x27;)),\n",
       "                                                 (&#x27;reshape&#x27;,\n",
       "                                                  FunctionTransformer(func=&lt;function get_2d_to_1d at 0x7fd140e199e0&gt;)),\n",
       "                                                 (&#x27;encoder&#x27;,\n",
       "                                                  TfidfVectorizer(analyzer=&#x27;char&#x27;,\n",
       "                                                                  ngram_range=(2,\n",
       "                                                                               2)))]),\n",
       "                                 [&#x27;Location&#x27;]),\n",
       "                                (&#x27;Age&#x27;,\n",
       "                                 Pipeline(steps=[(&#x27;impute&#x27;,\n",
       "                                                  SimpleImputer(strategy=&#x27;median&#x27;)),\n",
       "                                                 (&#x27;encoder&#x27;,\n",
       "                                                  StandardScaler())]),\n",
       "                                 [&#x27;Age&#x27;])])</pre><b>Please rerun this cell to show the HTML repr or trust the notebook.</b></div><div class=\"sk-container\" hidden><div class=\"sk-item sk-dashed-wrapped\"><div class=\"sk-label-container\"><div class=\"sk-label sk-toggleable\"><input class=\"sk-toggleable__control sk-hidden--visually\" id=\"22836369-5f62-4516-b5c1-7c5ba306319c\" type=\"checkbox\" ><label for=\"22836369-5f62-4516-b5c1-7c5ba306319c\" class=\"sk-toggleable__label sk-toggleable__label-arrow\">ColumnTransformer</label><div class=\"sk-toggleable__content\"><pre>ColumnTransformer(transformers=[(&#x27;Location&#x27;,\n",
       "                                 Pipeline(steps=[(&#x27;impute&#x27;,\n",
       "                                                  SimpleImputer(fill_value=&#x27;&#x27;,\n",
       "                                                                strategy=&#x27;constant&#x27;)),\n",
       "                                                 (&#x27;reshape&#x27;,\n",
       "                                                  FunctionTransformer(func=&lt;function get_2d_to_1d at 0x7fd140e199e0&gt;)),\n",
       "                                                 (&#x27;encoder&#x27;,\n",
       "                                                  TfidfVectorizer(analyzer=&#x27;char&#x27;,\n",
       "                                                                  ngram_range=(2,\n",
       "                                                                               2)))]),\n",
       "                                 [&#x27;Location&#x27;]),\n",
       "                                (&#x27;Age&#x27;,\n",
       "                                 Pipeline(steps=[(&#x27;impute&#x27;,\n",
       "                                                  SimpleImputer(strategy=&#x27;median&#x27;)),\n",
       "                                                 (&#x27;encoder&#x27;,\n",
       "                                                  StandardScaler())]),\n",
       "                                 [&#x27;Age&#x27;])])</pre></div></div></div><div class=\"sk-parallel\"><div class=\"sk-parallel-item\"><div class=\"sk-item\"><div class=\"sk-label-container\"><div class=\"sk-label sk-toggleable\"><input class=\"sk-toggleable__control sk-hidden--visually\" id=\"e2d0ae3b-3944-43c4-a9ab-49de9c8a7773\" type=\"checkbox\" ><label for=\"e2d0ae3b-3944-43c4-a9ab-49de9c8a7773\" class=\"sk-toggleable__label sk-toggleable__label-arrow\">Location</label><div class=\"sk-toggleable__content\"><pre>[&#x27;Location&#x27;]</pre></div></div></div><div class=\"sk-serial\"><div class=\"sk-item\"><div class=\"sk-serial\"><div class=\"sk-item\"><div class=\"sk-estimator sk-toggleable\"><input class=\"sk-toggleable__control sk-hidden--visually\" id=\"7b76f61c-0586-4d68-825e-382e46821393\" type=\"checkbox\" ><label for=\"7b76f61c-0586-4d68-825e-382e46821393\" class=\"sk-toggleable__label sk-toggleable__label-arrow\">SimpleImputer</label><div class=\"sk-toggleable__content\"><pre>SimpleImputer(fill_value=&#x27;&#x27;, strategy=&#x27;constant&#x27;)</pre></div></div></div><div class=\"sk-item\"><div class=\"sk-estimator sk-toggleable\"><input class=\"sk-toggleable__control sk-hidden--visually\" id=\"7be20dc8-6842-48f6-a8b8-28e5973ee93b\" type=\"checkbox\" ><label for=\"7be20dc8-6842-48f6-a8b8-28e5973ee93b\" class=\"sk-toggleable__label sk-toggleable__label-arrow\">FunctionTransformer</label><div class=\"sk-toggleable__content\"><pre>FunctionTransformer(func=&lt;function get_2d_to_1d at 0x7fd140e199e0&gt;)</pre></div></div></div><div class=\"sk-item\"><div class=\"sk-estimator sk-toggleable\"><input class=\"sk-toggleable__control sk-hidden--visually\" id=\"c240af0f-b67b-4950-ac4c-a3d5c7c82474\" type=\"checkbox\" ><label for=\"c240af0f-b67b-4950-ac4c-a3d5c7c82474\" class=\"sk-toggleable__label sk-toggleable__label-arrow\">TfidfVectorizer</label><div class=\"sk-toggleable__content\"><pre>TfidfVectorizer(analyzer=&#x27;char&#x27;, ngram_range=(2, 2))</pre></div></div></div></div></div></div></div></div><div class=\"sk-parallel-item\"><div class=\"sk-item\"><div class=\"sk-label-container\"><div class=\"sk-label sk-toggleable\"><input class=\"sk-toggleable__control sk-hidden--visually\" id=\"28c4a40b-ac01-4ff0-a0eb-8e663bb58daf\" type=\"checkbox\" ><label for=\"28c4a40b-ac01-4ff0-a0eb-8e663bb58daf\" class=\"sk-toggleable__label sk-toggleable__label-arrow\">Age</label><div class=\"sk-toggleable__content\"><pre>[&#x27;Age&#x27;]</pre></div></div></div><div class=\"sk-serial\"><div class=\"sk-item\"><div class=\"sk-serial\"><div class=\"sk-item\"><div class=\"sk-estimator sk-toggleable\"><input class=\"sk-toggleable__control sk-hidden--visually\" id=\"2a44d9a4-fc23-4958-940f-ddbcf44a3b80\" type=\"checkbox\" ><label for=\"2a44d9a4-fc23-4958-940f-ddbcf44a3b80\" class=\"sk-toggleable__label sk-toggleable__label-arrow\">SimpleImputer</label><div class=\"sk-toggleable__content\"><pre>SimpleImputer(strategy=&#x27;median&#x27;)</pre></div></div></div><div class=\"sk-item\"><div class=\"sk-estimator sk-toggleable\"><input class=\"sk-toggleable__control sk-hidden--visually\" id=\"dd2b1e0e-a7f3-4ec9-bb93-165dc27b886b\" type=\"checkbox\" ><label for=\"dd2b1e0e-a7f3-4ec9-bb93-165dc27b886b\" class=\"sk-toggleable__label sk-toggleable__label-arrow\">StandardScaler</label><div class=\"sk-toggleable__content\"><pre>StandardScaler()</pre></div></div></div></div></div></div></div></div></div></div></div></div>"
      ],
      "text/plain": [
       "<IPython.core.display.HTML object>"
      ]
     },
     "execution_count": 10,
     "metadata": {},
     "output_type": "execute_result"
    }
   ],
   "source": [
    "HTML(estimator_html_repr(preprocessor_users))"
   ]
  },
  {
   "cell_type": "code",
   "execution_count": 11,
   "id": "78ee8019",
   "metadata": {
    "execution": {
     "iopub.execute_input": "2022-08-12T06:20:33.084933Z",
     "iopub.status.busy": "2022-08-12T06:20:33.082857Z",
     "iopub.status.idle": "2022-08-12T06:20:33.090296Z",
     "shell.execute_reply": "2022-08-12T06:20:33.089009Z"
    },
    "papermill": {
     "duration": 0.019784,
     "end_time": "2022-08-12T06:20:33.092972",
     "exception": false,
     "start_time": "2022-08-12T06:20:33.073188",
     "status": "completed"
    },
    "tags": []
   },
   "outputs": [],
   "source": [
    "def sparse_array_to_sparse_tensor(X):\n",
    "    coo = X.tocoo()\n",
    "    indices = np.mat([coo.row, coo.col]).transpose()\n",
    "    return tf.sparse.reorder(tf.SparseTensor(indices, coo.data, coo.shape))"
   ]
  },
  {
   "cell_type": "code",
   "execution_count": 12,
   "id": "91365967",
   "metadata": {
    "execution": {
     "iopub.execute_input": "2022-08-12T06:20:33.111823Z",
     "iopub.status.busy": "2022-08-12T06:20:33.111436Z",
     "iopub.status.idle": "2022-08-12T06:20:42.504589Z",
     "shell.execute_reply": "2022-08-12T06:20:42.503206Z"
    },
    "papermill": {
     "duration": 9.406493,
     "end_time": "2022-08-12T06:20:42.507876",
     "exception": false,
     "start_time": "2022-08-12T06:20:33.101383",
     "status": "completed"
    },
    "tags": []
   },
   "outputs": [
    {
     "name": "stderr",
     "output_type": "stream",
     "text": [
      "2022-08-12 06:20:34.025549: I tensorflow/stream_executor/cuda/cuda_gpu_executor.cc:937] successful NUMA node read from SysFS had negative value (-1), but there must be at least one NUMA node, so returning NUMA node zero\n",
      "2022-08-12 06:20:34.228667: I tensorflow/stream_executor/cuda/cuda_gpu_executor.cc:937] successful NUMA node read from SysFS had negative value (-1), but there must be at least one NUMA node, so returning NUMA node zero\n",
      "2022-08-12 06:20:34.233035: I tensorflow/stream_executor/cuda/cuda_gpu_executor.cc:937] successful NUMA node read from SysFS had negative value (-1), but there must be at least one NUMA node, so returning NUMA node zero\n",
      "2022-08-12 06:20:34.239260: I tensorflow/core/platform/cpu_feature_guard.cc:142] This TensorFlow binary is optimized with oneAPI Deep Neural Network Library (oneDNN) to use the following CPU instructions in performance-critical operations:  AVX2 FMA\n",
      "To enable them in other operations, rebuild TensorFlow with the appropriate compiler flags.\n",
      "2022-08-12 06:20:34.239747: I tensorflow/stream_executor/cuda/cuda_gpu_executor.cc:937] successful NUMA node read from SysFS had negative value (-1), but there must be at least one NUMA node, so returning NUMA node zero\n",
      "2022-08-12 06:20:34.243920: I tensorflow/stream_executor/cuda/cuda_gpu_executor.cc:937] successful NUMA node read from SysFS had negative value (-1), but there must be at least one NUMA node, so returning NUMA node zero\n",
      "2022-08-12 06:20:34.248155: I tensorflow/stream_executor/cuda/cuda_gpu_executor.cc:937] successful NUMA node read from SysFS had negative value (-1), but there must be at least one NUMA node, so returning NUMA node zero\n",
      "2022-08-12 06:20:37.411379: I tensorflow/stream_executor/cuda/cuda_gpu_executor.cc:937] successful NUMA node read from SysFS had negative value (-1), but there must be at least one NUMA node, so returning NUMA node zero\n",
      "2022-08-12 06:20:37.415448: I tensorflow/stream_executor/cuda/cuda_gpu_executor.cc:937] successful NUMA node read from SysFS had negative value (-1), but there must be at least one NUMA node, so returning NUMA node zero\n",
      "2022-08-12 06:20:37.419383: I tensorflow/stream_executor/cuda/cuda_gpu_executor.cc:937] successful NUMA node read from SysFS had negative value (-1), but there must be at least one NUMA node, so returning NUMA node zero\n",
      "2022-08-12 06:20:37.423422: I tensorflow/core/common_runtime/gpu/gpu_device.cc:1510] Created device /job:localhost/replica:0/task:0/device:GPU:0 with 15403 MB memory:  -> device: 0, name: Tesla P100-PCIE-16GB, pci bus id: 0000:00:04.0, compute capability: 6.0\n",
      "2022-08-12 06:20:38.238404: W tensorflow/core/framework/cpu_allocator_impl.cc:80] Allocation of 890799840 exceeds 10% of free system memory.\n"
     ]
    }
   ],
   "source": [
    "x_item = sparse_array_to_sparse_tensor(x_item)\n",
    "x_user = sparse_array_to_sparse_tensor(x_user)\n",
    "y = y"
   ]
  },
  {
   "cell_type": "markdown",
   "id": "bced54c2",
   "metadata": {
    "papermill": {
     "duration": 0.008865,
     "end_time": "2022-08-12T06:20:42.525712",
     "exception": false,
     "start_time": "2022-08-12T06:20:42.516847",
     "status": "completed"
    },
    "tags": []
   },
   "source": [
    "# Networks"
   ]
  },
  {
   "cell_type": "code",
   "execution_count": 13,
   "id": "8b265f4c",
   "metadata": {
    "execution": {
     "iopub.execute_input": "2022-08-12T06:20:42.545704Z",
     "iopub.status.busy": "2022-08-12T06:20:42.543792Z",
     "iopub.status.idle": "2022-08-12T06:20:42.663707Z",
     "shell.execute_reply": "2022-08-12T06:20:42.662450Z"
    },
    "papermill": {
     "duration": 0.132691,
     "end_time": "2022-08-12T06:20:42.667052",
     "exception": false,
     "start_time": "2022-08-12T06:20:42.534361",
     "status": "completed"
    },
    "tags": []
   },
   "outputs": [],
   "source": [
    "items_input = layers.Input(shape=(x_item.shape[1]))\n",
    "items_ = layers.Dense(32, activation='relu')(items_input)\n",
    "items_vector = layers.Dense(32, activation='relu')(items_)\n",
    "\n",
    "users_input = layers.Input(shape=(x_user.shape[1]))\n",
    "users_ = layers.Dense(32, activation='relu')(users_input)\n",
    "users_vector = layers.Dense(32, activation='relu')(users_)\n",
    "\n",
    "items_norm = tf.linalg.l2_normalize(items_vector, axis=1)\n",
    "users_norm = tf.linalg.l2_normalize(users_vector, axis=1)\n",
    "\n",
    "output = layers.Dot(axes=1)([items_norm, users_norm])\n",
    "\n",
    "model = models.Model([items_input, users_input], output)"
   ]
  },
  {
   "cell_type": "code",
   "execution_count": 14,
   "id": "289415ab",
   "metadata": {
    "execution": {
     "iopub.execute_input": "2022-08-12T06:20:42.686977Z",
     "iopub.status.busy": "2022-08-12T06:20:42.686625Z",
     "iopub.status.idle": "2022-08-12T06:20:44.031458Z",
     "shell.execute_reply": "2022-08-12T06:20:44.029709Z"
    },
    "papermill": {
     "duration": 1.358532,
     "end_time": "2022-08-12T06:20:44.034778",
     "exception": false,
     "start_time": "2022-08-12T06:20:42.676246",
     "status": "completed"
    },
    "tags": []
   },
   "outputs": [
    {
     "data": {
      "image/png": "[encoded data removed]",
      "text/plain": [
       "<IPython.core.display.Image object>"
      ]
     },
     "execution_count": 14,
     "metadata": {},
     "output_type": "execute_result"
    }
   ],
   "source": [
    "utils.plot_model(model, show_shapes=True, expand_nested=True)"
   ]
  },
  {
   "cell_type": "code",
   "execution_count": 15,
   "id": "5f95ab2b",
   "metadata": {
    "execution": {
     "iopub.execute_input": "2022-08-12T06:20:44.058922Z",
     "iopub.status.busy": "2022-08-12T06:20:44.056772Z",
     "iopub.status.idle": "2022-08-12T13:03:32.506585Z",
     "shell.execute_reply": "2022-08-12T13:03:32.504915Z"
    },
    "papermill": {
     "duration": 24168.464695,
     "end_time": "2022-08-12T13:03:32.509785",
     "exception": false,
     "start_time": "2022-08-12T06:20:44.045090",
     "status": "completed"
    },
    "tags": []
   },
   "outputs": [
    {
     "name": "stdout",
     "output_type": "stream",
     "text": [
      "Model: \"model\"\n",
      "__________________________________________________________________________________________________\n",
      "Layer (type)                    Output Shape         Param #     Connected to                     \n",
      "==================================================================================================\n",
      "input_1 (InputLayer)            [(None, 5571)]       0                                            \n",
      "__________________________________________________________________________________________________\n",
      "input_2 (InputLayer)            [(None, 1695)]       0                                            \n",
      "__________________________________________________________________________________________________\n",
      "dense (Dense)                   (None, 32)           178304      input_1[0][0]                    \n",
      "__________________________________________________________________________________________________\n",
      "dense_2 (Dense)                 (None, 32)           54272       input_2[0][0]                    \n",
      "__________________________________________________________________________________________________\n",
      "dense_1 (Dense)                 (None, 32)           1056        dense[0][0]                      \n",
      "__________________________________________________________________________________________________\n",
      "dense_3 (Dense)                 (None, 32)           1056        dense_2[0][0]                    \n",
      "__________________________________________________________________________________________________\n",
      "tf.math.l2_normalize (TFOpLambd (None, 32)           0           dense_1[0][0]                    \n",
      "__________________________________________________________________________________________________\n",
      "tf.math.l2_normalize_1 (TFOpLam (None, 32)           0           dense_3[0][0]                    \n",
      "__________________________________________________________________________________________________\n",
      "dot (Dot)                       (None, 1)            0           tf.math.l2_normalize[0][0]       \n",
      "                                                                 tf.math.l2_normalize_1[0][0]     \n",
      "==================================================================================================\n",
      "Total params: 234,688\n",
      "Trainable params: 234,688\n",
      "Non-trainable params: 0\n",
      "__________________________________________________________________________________________________\n"
     ]
    },
    {
     "name": "stderr",
     "output_type": "stream",
     "text": [
      "2022-08-12 06:20:44.094819: W tensorflow/core/framework/cpu_allocator_impl.cc:80] Allocation of 890799840 exceeds 10% of free system memory.\n"
     ]
    },
    {
     "name": "stdout",
     "output_type": "stream",
     "text": [
      "Epoch 1/250\n"
     ]
    },
    {
     "name": "stderr",
     "output_type": "stream",
     "text": [
      "/opt/conda/lib/python3.7/site-packages/tensorflow/python/framework/indexed_slices.py:449: UserWarning: Converting sparse IndexedSlices(IndexedSlices(indices=Tensor(\"gradient_tape/model/dense/embedding_lookup_sparse/Reshape_1:0\", shape=(None,), dtype=int32), values=Tensor(\"gradient_tape/model/dense/embedding_lookup_sparse/Reshape:0\", shape=(None, 32), dtype=float32), dense_shape=Tensor(\"gradient_tape/model/dense/embedding_lookup_sparse/Cast:0\", shape=(2,), dtype=int32))) to a dense Tensor of unknown shape. This may consume a large amount of memory.\n",
      "  \"shape. This may consume a large amount of memory.\" % value)\n",
      "/opt/conda/lib/python3.7/site-packages/tensorflow/python/framework/indexed_slices.py:449: UserWarning: Converting sparse IndexedSlices(IndexedSlices(indices=Tensor(\"gradient_tape/model/dense_2/embedding_lookup_sparse/Reshape_1:0\", shape=(None,), dtype=int32), values=Tensor(\"gradient_tape/model/dense_2/embedding_lookup_sparse/Reshape:0\", shape=(None, 32), dtype=float32), dense_shape=Tensor(\"gradient_tape/model/dense_2/embedding_lookup_sparse/Cast:0\", shape=(2,), dtype=int32))) to a dense Tensor of unknown shape. This may consume a large amount of memory.\n",
      "  \"shape. This may consume a large amount of memory.\" % value)\n",
      "2022-08-12 06:20:52.090772: I tensorflow/compiler/mlir/mlir_graph_optimization_pass.cc:185] None of the MLIR Optimization Passes are enabled (registered 2)\n"
     ]
    },
    {
     "name": "stdout",
     "output_type": "stream",
     "text": [
      "35931/35931 [==============================] - 270s 7ms/step - loss: 0.1304\n",
      "Epoch 2/250\n",
      "35931/35931 [==============================] - 269s 7ms/step - loss: 0.1237\n",
      "Epoch 3/250\n",
      "35931/35931 [==============================] - 270s 7ms/step - loss: 0.1212\n",
      "Epoch 4/250\n",
      "35931/35931 [==============================] - 270s 7ms/step - loss: 0.1193\n",
      "Epoch 5/250\n",
      "35931/35931 [==============================] - 270s 7ms/step - loss: 0.1179\n",
      "Epoch 6/250\n",
      "35931/35931 [==============================] - 271s 7ms/step - loss: 0.1168\n",
      "Epoch 7/250\n",
      "35931/35931 [==============================] - 274s 7ms/step - loss: 0.1158\n",
      "Epoch 8/250\n",
      "35931/35931 [==============================] - 276s 7ms/step - loss: 0.1150\n",
      "Epoch 9/250\n",
      "35931/35931 [==============================] - 276s 8ms/step - loss: 0.1143\n",
      "Epoch 10/250\n",
      "35931/35931 [==============================] - 268s 7ms/step - loss: 0.1136\n",
      "Epoch 11/250\n",
      "35931/35931 [==============================] - 268s 7ms/step - loss: 0.1130\n",
      "Epoch 12/250\n",
      "35931/35931 [==============================] - 270s 7ms/step - loss: 0.1125\n",
      "Epoch 13/250\n",
      "35931/35931 [==============================] - 281s 8ms/step - loss: 0.1120\n",
      "Epoch 14/250\n",
      "35931/35931 [==============================] - 279s 8ms/step - loss: 0.1116\n",
      "Epoch 15/250\n",
      "35931/35931 [==============================] - 279s 8ms/step - loss: 0.1112\n",
      "Epoch 16/250\n",
      "35931/35931 [==============================] - 285s 8ms/step - loss: 0.1109\n",
      "Epoch 17/250\n",
      "35931/35931 [==============================] - 275s 8ms/step - loss: 0.1105\n",
      "Epoch 18/250\n",
      "35931/35931 [==============================] - 274s 7ms/step - loss: 0.1102\n",
      "Epoch 19/250\n",
      "35931/35931 [==============================] - 274s 7ms/step - loss: 0.1100\n",
      "Epoch 20/250\n",
      "35931/35931 [==============================] - 275s 7ms/step - loss: 0.1097\n",
      "Epoch 21/250\n",
      "35931/35931 [==============================] - 275s 8ms/step - loss: 0.1094\n",
      "Epoch 22/250\n",
      "35931/35931 [==============================] - 275s 8ms/step - loss: 0.1092\n",
      "Epoch 23/250\n",
      "35931/35931 [==============================] - 275s 8ms/step - loss: 0.1090\n",
      "Epoch 24/250\n",
      "35931/35931 [==============================] - 274s 7ms/step - loss: 0.1088\n",
      "Epoch 25/250\n",
      "35931/35931 [==============================] - 276s 8ms/step - loss: 0.1086\n",
      "Epoch 26/250\n",
      "35931/35931 [==============================] - 277s 8ms/step - loss: 0.1084\n",
      "Epoch 27/250\n",
      "35931/35931 [==============================] - 277s 8ms/step - loss: 0.1082\n",
      "Epoch 28/250\n",
      "35931/35931 [==============================] - 278s 8ms/step - loss: 0.1080\n",
      "Epoch 29/250\n",
      "35931/35931 [==============================] - 279s 8ms/step - loss: 0.1079\n",
      "Epoch 30/250\n",
      "35931/35931 [==============================] - 283s 8ms/step - loss: 0.1077\n",
      "Epoch 31/250\n",
      "35931/35931 [==============================] - 282s 8ms/step - loss: 0.1076\n",
      "Epoch 32/250\n",
      "35931/35931 [==============================] - 276s 8ms/step - loss: 0.1074\n",
      "Epoch 33/250\n",
      "35931/35931 [==============================] - 283s 8ms/step - loss: 0.1073\n",
      "Epoch 34/250\n",
      "35931/35931 [==============================] - 273s 7ms/step - loss: 0.1071\n",
      "Epoch 35/250\n",
      "35931/35931 [==============================] - 277s 8ms/step - loss: 0.1070\n",
      "Epoch 36/250\n",
      "35931/35931 [==============================] - 277s 8ms/step - loss: 0.1069\n",
      "Epoch 37/250\n",
      "35931/35931 [==============================] - 277s 8ms/step - loss: 0.1068\n",
      "Epoch 38/250\n",
      "35931/35931 [==============================] - 275s 7ms/step - loss: 0.1067\n",
      "Epoch 39/250\n",
      "35931/35931 [==============================] - 275s 7ms/step - loss: 0.1065\n",
      "Epoch 40/250\n",
      "35931/35931 [==============================] - 276s 8ms/step - loss: 0.1064\n",
      "Epoch 41/250\n",
      "35931/35931 [==============================] - 277s 8ms/step - loss: 0.1063\n",
      "Epoch 42/250\n",
      "35931/35931 [==============================] - 279s 8ms/step - loss: 0.1063\n",
      "Epoch 43/250\n",
      "35931/35931 [==============================] - 278s 8ms/step - loss: 0.1061\n",
      "Epoch 44/250\n",
      "35931/35931 [==============================] - 277s 8ms/step - loss: 0.1060\n",
      "Epoch 45/250\n",
      "35931/35931 [==============================] - 276s 8ms/step - loss: 0.1060\n",
      "Epoch 46/250\n",
      "35931/35931 [==============================] - 279s 8ms/step - loss: 0.1059\n",
      "Epoch 47/250\n",
      "35931/35931 [==============================] - 280s 8ms/step - loss: 0.1058\n",
      "Epoch 48/250\n",
      "35931/35931 [==============================] - 282s 8ms/step - loss: 0.1057\n",
      "Epoch 49/250\n",
      "35931/35931 [==============================] - 282s 8ms/step - loss: 0.1056\n",
      "Epoch 50/250\n",
      "35931/35931 [==============================] - 278s 8ms/step - loss: 0.1056\n",
      "Epoch 51/250\n",
      "35931/35931 [==============================] - 277s 8ms/step - loss: 0.1055\n",
      "Epoch 52/250\n",
      "35931/35931 [==============================] - 278s 8ms/step - loss: 0.1054\n",
      "Epoch 53/250\n",
      "35931/35931 [==============================] - 279s 8ms/step - loss: 0.1053\n",
      "Epoch 54/250\n",
      "35931/35931 [==============================] - 279s 8ms/step - loss: 0.1052\n",
      "Epoch 55/250\n",
      "35931/35931 [==============================] - 274s 7ms/step - loss: 0.1052\n",
      "Epoch 56/250\n",
      "35931/35931 [==============================] - 272s 7ms/step - loss: 0.1051\n",
      "Epoch 57/250\n",
      "35931/35931 [==============================] - 282s 8ms/step - loss: 0.1050\n",
      "Epoch 58/250\n",
      "35931/35931 [==============================] - 282s 8ms/step - loss: 0.1049\n",
      "Epoch 59/250\n",
      "35931/35931 [==============================] - 287s 8ms/step - loss: 0.1049\n",
      "\n",
      "Epoch 00059: ReduceLROnPlateau reducing learning rate to 9.999999747378752e-06.\n",
      "Epoch 60/250\n",
      "35931/35931 [==============================] - 289s 8ms/step - loss: 0.1027\n",
      "Epoch 61/250\n",
      "35931/35931 [==============================] - 288s 8ms/step - loss: 0.1023\n",
      "Epoch 62/250\n",
      "35931/35931 [==============================] - 284s 8ms/step - loss: 0.1022\n",
      "Epoch 63/250\n",
      "35931/35931 [==============================] - 282s 8ms/step - loss: 0.1021\n",
      "Epoch 64/250\n",
      "35931/35931 [==============================] - 283s 8ms/step - loss: 0.1020\n",
      "Epoch 65/250\n",
      "35931/35931 [==============================] - 283s 8ms/step - loss: 0.1020\n",
      "Epoch 66/250\n",
      "35931/35931 [==============================] - 262s 7ms/step - loss: 0.1019\n",
      "Epoch 67/250\n",
      "35931/35931 [==============================] - 279s 8ms/step - loss: 0.1019\n",
      "Epoch 68/250\n",
      "35931/35931 [==============================] - 260s 7ms/step - loss: 0.1018\n",
      "\n",
      "Epoch 00068: ReduceLROnPlateau reducing learning rate to 9.999999747378752e-07.\n",
      "Epoch 69/250\n",
      "35931/35931 [==============================] - 283s 8ms/step - loss: 0.1015\n",
      "Epoch 70/250\n",
      "35931/35931 [==============================] - 264s 7ms/step - loss: 0.1015\n",
      "Epoch 71/250\n",
      "35931/35931 [==============================] - 292s 8ms/step - loss: 0.1015\n",
      "\n",
      "Epoch 00071: ReduceLROnPlateau reducing learning rate to 9.999999974752428e-08.\n",
      "Epoch 72/250\n",
      "35931/35931 [==============================] - 271s 7ms/step - loss: 0.1014\n",
      "Epoch 73/250\n",
      "35931/35931 [==============================] - 292s 8ms/step - loss: 0.1014\n",
      "\n",
      "Epoch 00073: ReduceLROnPlateau reducing learning rate to 1.0000000116860975e-08.\n",
      "Epoch 74/250\n",
      "35931/35931 [==============================] - 272s 7ms/step - loss: 0.1014\n",
      "Epoch 75/250\n",
      "35931/35931 [==============================] - 296s 8ms/step - loss: 0.1014\n",
      "\n",
      "Epoch 00075: ReduceLROnPlateau reducing learning rate to 9.999999939225292e-10.\n",
      "Epoch 76/250\n",
      "35931/35931 [==============================] - 272s 7ms/step - loss: 0.1014\n",
      "Epoch 77/250\n",
      "35931/35931 [==============================] - 297s 8ms/step - loss: 0.1014\n",
      "\n",
      "Epoch 00077: ReduceLROnPlateau reducing learning rate to 9.999999717180686e-11.\n",
      "Epoch 78/250\n",
      "35931/35931 [==============================] - 275s 7ms/step - loss: 0.1014\n",
      "Epoch 79/250\n",
      "35931/35931 [==============================] - 300s 8ms/step - loss: 0.1014\n",
      "\n",
      "Epoch 00079: ReduceLROnPlateau reducing learning rate to 9.99999943962493e-12.\n",
      "Epoch 80/250\n",
      "35931/35931 [==============================] - 275s 7ms/step - loss: 0.1014\n",
      "Epoch 81/250\n",
      "35931/35931 [==============================] - 299s 8ms/step - loss: 0.1014\n",
      "\n",
      "Epoch 00081: ReduceLROnPlateau reducing learning rate to 9.999999092680235e-13.\n",
      "Epoch 82/250\n",
      "35931/35931 [==============================] - 273s 7ms/step - loss: 0.1014\n",
      "Epoch 83/250\n"
     ]
    },
    {
     "name": "stderr",
     "output_type": "stream",
     "text": [
      "2022-08-12 12:48:57.454147: I tensorflow/core/kernels/data/shuffle_dataset_op.cc:175] Filling up shuffle buffer (this may take a while): 1124282 of 1149780\n"
     ]
    },
    {
     "name": "stdout",
     "output_type": "stream",
     "text": [
      "   17/35931 [..............................] - ETA: 6:11 - loss: 0.1093"
     ]
    },
    {
     "name": "stderr",
     "output_type": "stream",
     "text": [
      "2022-08-12 12:48:57.693897: I tensorflow/core/kernels/data/shuffle_dataset_op.cc:228] Shuffle buffer filled.\n"
     ]
    },
    {
     "name": "stdout",
     "output_type": "stream",
     "text": [
      "35931/35931 [==============================] - 303s 8ms/step - loss: 0.1014\n",
      "\n",
      "Epoch 00083: ReduceLROnPlateau reducing learning rate to 9.9999988758398e-14.\n",
      "Epoch 84/250\n",
      "35931/35931 [==============================] - 289s 8ms/step - loss: 0.1014\n",
      "Epoch 85/250\n"
     ]
    },
    {
     "name": "stderr",
     "output_type": "stream",
     "text": [
      "2022-08-12 12:58:50.938644: I tensorflow/core/kernels/data/shuffle_dataset_op.cc:175] Filling up shuffle buffer (this may take a while): 1020420 of 1149780\n"
     ]
    },
    {
     "name": "stdout",
     "output_type": "stream",
     "text": [
      "   15/35931 [..............................] - ETA: 7:06 - loss: 0.1148"
     ]
    },
    {
     "name": "stderr",
     "output_type": "stream",
     "text": [
      "2022-08-12 12:58:52.508837: I tensorflow/core/kernels/data/shuffle_dataset_op.cc:228] Shuffle buffer filled.\n"
     ]
    },
    {
     "name": "stdout",
     "output_type": "stream",
     "text": [
      "35931/35931 [==============================] - 292s 8ms/step - loss: 0.1014\n",
      "Restoring model weights from the end of the best epoch.\n",
      "\n",
      "Epoch 00085: ReduceLROnPlateau reducing learning rate to 9.999999146890344e-15.\n",
      "Epoch 00085: early stopping\n"
     ]
    },
    {
     "data": {
      "text/plain": [
       "<keras.callbacks.History at 0x7fd140939ad0>"
      ]
     },
     "execution_count": 15,
     "metadata": {},
     "output_type": "execute_result"
    }
   ],
   "source": [
    "model.compile(loss='mean_squared_error', optimizer=tf.keras.optimizers.Adam(1e-4))\n",
    "model.summary()\n",
    "\n",
    "es = callbacks.EarlyStopping(monitor='loss', patience=5, verbose=1, restore_best_weights=True)\n",
    "rlp = callbacks.ReduceLROnPlateau(monitor='loss', patience=2, verbose=1)\n",
    "\n",
    "model.fit([x_item, x_user], y, callbacks=[es, rlp], epochs=250)"
   ]
  },
  {
   "cell_type": "markdown",
   "id": "3d064513",
   "metadata": {
    "papermill": {
     "duration": 32.508202,
     "end_time": "2022-08-12T13:04:37.559269",
     "exception": false,
     "start_time": "2022-08-12T13:04:05.051067",
     "status": "completed"
    },
    "tags": []
   },
   "source": [
    "# Saving the models"
   ]
  },
  {
   "cell_type": "code",
   "execution_count": 16,
   "id": "38de5b32",
   "metadata": {
    "execution": {
     "iopub.execute_input": "2022-08-12T13:05:42.461223Z",
     "iopub.status.busy": "2022-08-12T13:05:42.459744Z",
     "iopub.status.idle": "2022-08-12T13:05:44.298662Z",
     "shell.execute_reply": "2022-08-12T13:05:44.297195Z"
    },
    "papermill": {
     "duration": 34.494558,
     "end_time": "2022-08-12T13:05:44.302138",
     "exception": false,
     "start_time": "2022-08-12T13:05:09.807580",
     "status": "completed"
    },
    "tags": []
   },
   "outputs": [],
   "source": [
    "model_items = models.Model(items_input, items_vector)\n",
    "model_users = models.Model(users_input, users_vector)\n",
    "\n",
    "joblib.dump(preprocessor_items, 'preprocessor_items.bin')\n",
    "joblib.dump(preprocessor_users, 'preprocessor_users.bin')\n",
    "\n",
    "model_items.save('model_items.h5')\n",
    "model_users.save('model_users.h5')\n",
    "model.save('model.h5')"
   ]
  },
  {
   "cell_type": "code",
   "execution_count": 17,
   "id": "c1383338",
   "metadata": {
    "execution": {
     "iopub.execute_input": "2022-08-12T13:06:47.641946Z",
     "iopub.status.busy": "2022-08-12T13:06:47.641490Z",
     "iopub.status.idle": "2022-08-12T13:06:47.683141Z",
     "shell.execute_reply": "2022-08-12T13:06:47.681809Z"
    },
    "papermill": {
     "duration": 32.192047,
     "end_time": "2022-08-12T13:06:47.686107",
     "exception": false,
     "start_time": "2022-08-12T13:06:15.494060",
     "status": "completed"
    },
    "tags": []
   },
   "outputs": [],
   "source": [
    "input_items_vec = layers.Input(shape=(32))\n",
    "norm_items = tf.linalg.l2_normalize(input_items_vec, axis=1)\n",
    "input_users_vec = layers.Input(shape=(32))\n",
    "norm_users = tf.linalg.l2_normalize(input_users_vec, axis=1)\n",
    "output = layers.Dot(axes=1)([norm_items, norm_users])\n",
    "dot_model = models.Model([input_items_vec, input_users_vec], output)\n",
    "dot_model.save('dot_model.h5')"
   ]
  },
  {
   "cell_type": "markdown",
   "id": "06825a42",
   "metadata": {
    "papermill": {
     "duration": 31.603463,
     "end_time": "2022-08-12T13:07:51.184572",
     "exception": false,
     "start_time": "2022-08-12T13:07:19.581109",
     "status": "completed"
    },
    "tags": []
   },
   "source": [
    "# Getting Recommendations"
   ]
  },
  {
   "cell_type": "code",
   "execution_count": 18,
   "id": "602657bf",
   "metadata": {
    "execution": {
     "iopub.execute_input": "2022-08-12T13:08:54.628469Z",
     "iopub.status.busy": "2022-08-12T13:08:54.628024Z",
     "iopub.status.idle": "2022-08-12T13:08:54.770624Z",
     "shell.execute_reply": "2022-08-12T13:08:54.769269Z"
    },
    "papermill": {
     "duration": 32.205832,
     "end_time": "2022-08-12T13:08:54.773829",
     "exception": false,
     "start_time": "2022-08-12T13:08:22.567997",
     "status": "completed"
    },
    "tags": []
   },
   "outputs": [
    {
     "data": {
      "text/plain": [
       "(1, 32)"
      ]
     },
     "execution_count": 18,
     "metadata": {},
     "output_type": "execute_result"
    }
   ],
   "source": [
    "new_user = pd.DataFrame({'Location': ['new delhi, india'], 'Age': [25]})\n",
    "new_user_preprocessed = preprocessor_users.transform(new_user)\n",
    "new_user_vector = model_users.predict(new_user_preprocessed)\n",
    "new_user_vector.shape"
   ]
  },
  {
   "cell_type": "code",
   "execution_count": 19,
   "id": "5076bdca",
   "metadata": {
    "execution": {
     "iopub.execute_input": "2022-08-12T13:09:57.320051Z",
     "iopub.status.busy": "2022-08-12T13:09:57.318733Z",
     "iopub.status.idle": "2022-08-12T13:10:38.625933Z",
     "shell.execute_reply": "2022-08-12T13:10:38.624465Z"
    },
    "papermill": {
     "duration": 72.164986,
     "end_time": "2022-08-12T13:10:38.629637",
     "exception": false,
     "start_time": "2022-08-12T13:09:26.464651",
     "status": "completed"
    },
    "tags": []
   },
   "outputs": [
    {
     "data": {
      "text/plain": [
       "(271360, 32)"
      ]
     },
     "execution_count": 19,
     "metadata": {},
     "output_type": "execute_result"
    }
   ],
   "source": [
    "all_item_preprocessed = preprocessor_items.transform(items[ITEM_FEATURES])\n",
    "all_item_vector = model_items.predict(all_item_preprocessed)\n",
    "all_item_vector.shape"
   ]
  },
  {
   "cell_type": "code",
   "execution_count": 20,
   "id": "d1d0801e",
   "metadata": {
    "execution": {
     "iopub.execute_input": "2022-08-12T13:11:41.107547Z",
     "iopub.status.busy": "2022-08-12T13:11:41.107093Z",
     "iopub.status.idle": "2022-08-12T13:11:51.608175Z",
     "shell.execute_reply": "2022-08-12T13:11:51.606764Z"
    },
    "papermill": {
     "duration": 42.538465,
     "end_time": "2022-08-12T13:11:51.611295",
     "exception": false,
     "start_time": "2022-08-12T13:11:09.072830",
     "status": "completed"
    },
    "tags": []
   },
   "outputs": [],
   "source": [
    "new_user_vector = np.broadcast_to(new_user_vector, all_item_vector.shape)\n",
    "preds = dot_model.predict([new_user_vector, all_item_vector])\n",
    "items['preds'] = preds"
   ]
  },
  {
   "cell_type": "markdown",
   "id": "a4894234",
   "metadata": {
    "papermill": {
     "duration": 30.622649,
     "end_time": "2022-08-12T13:12:53.604994",
     "exception": false,
     "start_time": "2022-08-12T13:12:22.982345",
     "status": "completed"
    },
    "tags": []
   },
   "source": [
    "**Recommendations**"
   ]
  },
  {
   "cell_type": "code",
   "execution_count": 21,
   "id": "e08d32a2",
   "metadata": {
    "execution": {
     "iopub.execute_input": "2022-08-12T13:13:56.511222Z",
     "iopub.status.busy": "2022-08-12T13:13:56.510738Z",
     "iopub.status.idle": "2022-08-12T13:13:56.730793Z",
     "shell.execute_reply": "2022-08-12T13:13:56.729241Z"
    },
    "papermill": {
     "duration": 31.182997,
     "end_time": "2022-08-12T13:13:56.733463",
     "exception": false,
     "start_time": "2022-08-12T13:13:25.550466",
     "status": "completed"
    },
    "tags": []
   },
   "outputs": [
    {
     "data": {
      "text/html": [
       "<div>\n",
       "<style scoped>\n",
       "    .dataframe tbody tr th:only-of-type {\n",
       "        vertical-align: middle;\n",
       "    }\n",
       "\n",
       "    .dataframe tbody tr th {\n",
       "        vertical-align: top;\n",
       "    }\n",
       "\n",
       "    .dataframe thead th {\n",
       "        text-align: right;\n",
       "    }\n",
       "</style>\n",
       "<table border=\"1\" class=\"dataframe\">\n",
       "  <thead>\n",
       "    <tr style=\"text-align: right;\">\n",
       "      <th></th>\n",
       "      <th>ISBN</th>\n",
       "      <th>Book-Title</th>\n",
       "      <th>Book-Author</th>\n",
       "      <th>Year-Of-Publication</th>\n",
       "      <th>Publisher</th>\n",
       "      <th>Image-URL-S</th>\n",
       "      <th>Image-URL-M</th>\n",
       "      <th>Image-URL-L</th>\n",
       "      <th>preds</th>\n",
       "    </tr>\n",
       "  </thead>\n",
       "  <tbody>\n",
       "    <tr>\n",
       "      <th>110796</th>\n",
       "      <td>0877951705</td>\n",
       "      <td>Pastora</td>\n",
       "      <td>Joanna Barnes</td>\n",
       "      <td>1980.0</td>\n",
       "      <td>Arbor House Pub Co</td>\n",
       "      <td>http://images.amazon.com/images/P/0877951705.0...</td>\n",
       "      <td>http://images.amazon.com/images/P/0877951705.0...</td>\n",
       "      <td>http://images.amazon.com/images/P/0877951705.0...</td>\n",
       "      <td>0.979443</td>\n",
       "    </tr>\n",
       "    <tr>\n",
       "      <th>223933</th>\n",
       "      <td>0253212731</td>\n",
       "      <td>The Essential Husserl: Basic Writings in Trans...</td>\n",
       "      <td>Edmund Husserl</td>\n",
       "      <td>1999.0</td>\n",
       "      <td>Indiana University Press</td>\n",
       "      <td>http://images.amazon.com/images/P/0253212731.0...</td>\n",
       "      <td>http://images.amazon.com/images/P/0253212731.0...</td>\n",
       "      <td>http://images.amazon.com/images/P/0253212731.0...</td>\n",
       "      <td>0.974594</td>\n",
       "    </tr>\n",
       "    <tr>\n",
       "      <th>121774</th>\n",
       "      <td>0553283510</td>\n",
       "      <td>You Are a Millionaire (Choose Your Own Adventu...</td>\n",
       "      <td>Jay Leibold</td>\n",
       "      <td>1990.0</td>\n",
       "      <td>Skylark Books</td>\n",
       "      <td>http://images.amazon.com/images/P/0553283510.0...</td>\n",
       "      <td>http://images.amazon.com/images/P/0553283510.0...</td>\n",
       "      <td>http://images.amazon.com/images/P/0553283510.0...</td>\n",
       "      <td>0.970873</td>\n",
       "    </tr>\n",
       "    <tr>\n",
       "      <th>98158</th>\n",
       "      <td>848547175X</td>\n",
       "      <td>Cuentos de Ise</td>\n",
       "      <td>Ariwara Narihira</td>\n",
       "      <td>1998.0</td>\n",
       "      <td>Rama Publishing Company</td>\n",
       "      <td>http://images.amazon.com/images/P/848547175X.0...</td>\n",
       "      <td>http://images.amazon.com/images/P/848547175X.0...</td>\n",
       "      <td>http://images.amazon.com/images/P/848547175X.0...</td>\n",
       "      <td>0.970563</td>\n",
       "    </tr>\n",
       "    <tr>\n",
       "      <th>182912</th>\n",
       "      <td>3257233663</td>\n",
       "      <td>Amour fou.</td>\n",
       "      <td>Marek van der Jagt</td>\n",
       "      <td>2003.0</td>\n",
       "      <td>Diogenes</td>\n",
       "      <td>http://images.amazon.com/images/P/3257233663.0...</td>\n",
       "      <td>http://images.amazon.com/images/P/3257233663.0...</td>\n",
       "      <td>http://images.amazon.com/images/P/3257233663.0...</td>\n",
       "      <td>0.970333</td>\n",
       "    </tr>\n",
       "  </tbody>\n",
       "</table>\n",
       "</div>"
      ],
      "text/plain": [
       "              ISBN                                         Book-Title  \\\n",
       "110796  0877951705                                            Pastora   \n",
       "223933  0253212731  The Essential Husserl: Basic Writings in Trans...   \n",
       "121774  0553283510  You Are a Millionaire (Choose Your Own Adventu...   \n",
       "98158   848547175X                                     Cuentos de Ise   \n",
       "182912  3257233663                                         Amour fou.   \n",
       "\n",
       "               Book-Author  Year-Of-Publication                 Publisher  \\\n",
       "110796       Joanna Barnes               1980.0        Arbor House Pub Co   \n",
       "223933      Edmund Husserl               1999.0  Indiana University Press   \n",
       "121774         Jay Leibold               1990.0             Skylark Books   \n",
       "98158     Ariwara Narihira               1998.0   Rama Publishing Company   \n",
       "182912  Marek van der Jagt               2003.0                  Diogenes   \n",
       "\n",
       "                                              Image-URL-S  \\\n",
       "110796  http://images.amazon.com/images/P/0877951705.0...   \n",
       "223933  http://images.amazon.com/images/P/0253212731.0...   \n",
       "121774  http://images.amazon.com/images/P/0553283510.0...   \n",
       "98158   http://images.amazon.com/images/P/848547175X.0...   \n",
       "182912  http://images.amazon.com/images/P/3257233663.0...   \n",
       "\n",
       "                                              Image-URL-M  \\\n",
       "110796  http://images.amazon.com/images/P/0877951705.0...   \n",
       "223933  http://images.amazon.com/images/P/0253212731.0...   \n",
       "121774  http://images.amazon.com/images/P/0553283510.0...   \n",
       "98158   http://images.amazon.com/images/P/848547175X.0...   \n",
       "182912  http://images.amazon.com/images/P/3257233663.0...   \n",
       "\n",
       "                                              Image-URL-L     preds  \n",
       "110796  http://images.amazon.com/images/P/0877951705.0...  0.979443  \n",
       "223933  http://images.amazon.com/images/P/0253212731.0...  0.974594  \n",
       "121774  http://images.amazon.com/images/P/0553283510.0...  0.970873  \n",
       "98158   http://images.amazon.com/images/P/848547175X.0...  0.970563  \n",
       "182912  http://images.amazon.com/images/P/3257233663.0...  0.970333  "
      ]
     },
     "execution_count": 21,
     "metadata": {},
     "output_type": "execute_result"
    }
   ],
   "source": [
    "items.sort_values('preds', ascending=False).head()"
   ]
  },
  {
   "cell_type": "code",
   "execution_count": null,
   "id": "72b6d5c8",
   "metadata": {
    "papermill": {
     "duration": 31.734137,
     "end_time": "2022-08-12T13:15:00.147676",
     "exception": false,
     "start_time": "2022-08-12T13:14:28.413539",
     "status": "completed"
    },
    "tags": []
   },
   "outputs": [],
   "source": []
  }
 ],
 "metadata": {
  "kernelspec": {
   "display_name": "Python 3",
   "language": "python",
   "name": "python3"
  },
  "language_info": {
   "codemirror_mode": {
    "name": "ipython",
    "version": 3
   },
   "file_extension": ".py",
   "mimetype": "text/x-python",
   "name": "python",
   "nbconvert_exporter": "python",
   "pygments_lexer": "ipython3",
   "version": "3.7.12"
  },
  "papermill": {
   "default_parameters": {},
   "duration": 25014.175375,
   "end_time": "2022-08-12T13:15:35.172135",
   "environment_variables": {},
   "exception": null,
   "input_path": "__notebook__.ipynb",
   "output_path": "__notebook__.ipynb",
   "parameters": {},
   "start_time": "2022-08-12T06:18:40.996760",
   "version": "2.3.4"
  }
 },
 "nbformat": 4,
 "nbformat_minor": 5
}
