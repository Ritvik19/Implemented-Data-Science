{
 "cells": [
  {
   "cell_type": "markdown",
   "id": "85eda0c2",
   "metadata": {
    "_cell_guid": "b1076dfc-b9ad-4769-8c92-a6c4dae69d19",
    "_uuid": "8f2839f25d086af736a60e9eeb907d3b93b6e0e5",
    "papermill": {
     "duration": 0.006412,
     "end_time": "2022-08-13T06:54:24.316510",
     "exception": false,
     "start_time": "2022-08-13T06:54:24.310098",
     "status": "completed"
    },
    "tags": []
   },
   "source": [
    "# Collaborative Filtering\n",
    "\n",
    "The goal of a collaborative filtering recommender system is to generate two vectors: For each user, a 'parameter vector' that embodies the tastes of a user. For each item, a feature vector of the same size which embodies some description of the item. The dot product of the two vectors plus the bias term should produce an estimate of the rating the user might give to that item.\n",
    "\n",
    "* Existing ratings are provided in matrix form as Y.\n",
    "* R is a matix of the same shape and has a 1 where items have been rated, otherwise 0.\n",
    "* In both the above matrices, items are in rows, users in columns.\n",
    "* Each user has a parameter vector W and bias b. Each item has a feature vector X. These vectors are simultaneously learned by using the existing user/item ratings as training data."
   ]
  },
  {
   "cell_type": "code",
   "execution_count": 1,
   "id": "f9c9eddc",
   "metadata": {
    "execution": {
     "iopub.execute_input": "2022-08-13T06:54:24.329101Z",
     "iopub.status.busy": "2022-08-13T06:54:24.328185Z",
     "iopub.status.idle": "2022-08-13T06:54:29.615950Z",
     "shell.execute_reply": "2022-08-13T06:54:29.614397Z"
    },
    "papermill": {
     "duration": 5.29797,
     "end_time": "2022-08-13T06:54:29.619676",
     "exception": false,
     "start_time": "2022-08-13T06:54:24.321706",
     "status": "completed"
    },
    "tags": []
   },
   "outputs": [],
   "source": [
    "import numpy as np\n",
    "import pandas as pd\n",
    "from sklearn.preprocessing import MinMaxScaler\n",
    "\n",
    "import tensorflow as tf\n",
    "from tensorflow import keras\n",
    "\n",
    "from tqdm.auto import trange"
   ]
  },
  {
   "cell_type": "markdown",
   "id": "89386133",
   "metadata": {
    "execution": {
     "iopub.execute_input": "2022-08-13T06:19:18.818052Z",
     "iopub.status.busy": "2022-08-13T06:19:18.817630Z",
     "iopub.status.idle": "2022-08-13T06:19:18.823136Z",
     "shell.execute_reply": "2022-08-13T06:19:18.822008Z",
     "shell.execute_reply.started": "2022-08-13T06:19:18.818018Z"
    },
    "papermill": {
     "duration": 0.004805,
     "end_time": "2022-08-13T06:54:29.629695",
     "exception": false,
     "start_time": "2022-08-13T06:54:29.624890",
     "status": "completed"
    },
    "tags": []
   },
   "source": [
    "## Data"
   ]
  },
  {
   "cell_type": "code",
   "execution_count": 2,
   "id": "1af96760",
   "metadata": {
    "execution": {
     "iopub.execute_input": "2022-08-13T06:54:29.641620Z",
     "iopub.status.busy": "2022-08-13T06:54:29.640929Z",
     "iopub.status.idle": "2022-08-13T06:54:30.599033Z",
     "shell.execute_reply": "2022-08-13T06:54:30.596127Z"
    },
    "papermill": {
     "duration": 0.967042,
     "end_time": "2022-08-13T06:54:30.601756",
     "exception": false,
     "start_time": "2022-08-13T06:54:29.634714",
     "status": "completed"
    },
    "tags": []
   },
   "outputs": [
    {
     "data": {
      "text/html": [
       "<div>\n",
       "<style scoped>\n",
       "    .dataframe tbody tr th:only-of-type {\n",
       "        vertical-align: middle;\n",
       "    }\n",
       "\n",
       "    .dataframe tbody tr th {\n",
       "        vertical-align: top;\n",
       "    }\n",
       "\n",
       "    .dataframe thead th {\n",
       "        text-align: right;\n",
       "    }\n",
       "</style>\n",
       "<table border=\"1\" class=\"dataframe\">\n",
       "  <thead>\n",
       "    <tr style=\"text-align: right;\">\n",
       "      <th></th>\n",
       "      <th>User-ID</th>\n",
       "      <th>ISBN</th>\n",
       "      <th>Book-Rating</th>\n",
       "    </tr>\n",
       "  </thead>\n",
       "  <tbody>\n",
       "    <tr>\n",
       "      <th>0</th>\n",
       "      <td>276725</td>\n",
       "      <td>034545104X</td>\n",
       "      <td>0</td>\n",
       "    </tr>\n",
       "    <tr>\n",
       "      <th>1</th>\n",
       "      <td>276726</td>\n",
       "      <td>0155061224</td>\n",
       "      <td>5</td>\n",
       "    </tr>\n",
       "    <tr>\n",
       "      <th>2</th>\n",
       "      <td>276727</td>\n",
       "      <td>0446520802</td>\n",
       "      <td>0</td>\n",
       "    </tr>\n",
       "    <tr>\n",
       "      <th>3</th>\n",
       "      <td>276729</td>\n",
       "      <td>052165615X</td>\n",
       "      <td>3</td>\n",
       "    </tr>\n",
       "    <tr>\n",
       "      <th>4</th>\n",
       "      <td>276729</td>\n",
       "      <td>0521795028</td>\n",
       "      <td>6</td>\n",
       "    </tr>\n",
       "  </tbody>\n",
       "</table>\n",
       "</div>"
      ],
      "text/plain": [
       "   User-ID        ISBN  Book-Rating\n",
       "0   276725  034545104X            0\n",
       "1   276726  0155061224            5\n",
       "2   276727  0446520802            0\n",
       "3   276729  052165615X            3\n",
       "4   276729  0521795028            6"
      ]
     },
     "execution_count": 2,
     "metadata": {},
     "output_type": "execute_result"
    }
   ],
   "source": [
    "df = pd.read_csv('../input/book-recommendation-dataset/Ratings.csv')\n",
    "df.head()"
   ]
  },
  {
   "cell_type": "markdown",
   "id": "28fd1d58",
   "metadata": {
    "papermill": {
     "duration": 0.004978,
     "end_time": "2022-08-13T06:54:30.612149",
     "exception": false,
     "start_time": "2022-08-13T06:54:30.607171",
     "status": "completed"
    },
    "tags": []
   },
   "source": [
    "**Sampling**"
   ]
  },
  {
   "cell_type": "code",
   "execution_count": 3,
   "id": "3627a061",
   "metadata": {
    "execution": {
     "iopub.execute_input": "2022-08-13T06:54:30.624353Z",
     "iopub.status.busy": "2022-08-13T06:54:30.623970Z",
     "iopub.status.idle": "2022-08-13T06:54:31.214721Z",
     "shell.execute_reply": "2022-08-13T06:54:31.213609Z"
    },
    "papermill": {
     "duration": 0.599781,
     "end_time": "2022-08-13T06:54:31.217220",
     "exception": false,
     "start_time": "2022-08-13T06:54:30.617439",
     "status": "completed"
    },
    "tags": []
   },
   "outputs": [
    {
     "data": {
      "text/plain": [
       "(193, 899)"
      ]
     },
     "execution_count": 3,
     "metadata": {},
     "output_type": "execute_result"
    }
   ],
   "source": [
    "isbn_counts = df['ISBN'].value_counts()\n",
    "isbns = isbn_counts[isbn_counts > 200].index.values\n",
    "\n",
    "user_counts = df['User-ID'].value_counts()\n",
    "users = user_counts[user_counts > 200].index.values\n",
    "\n",
    "len(isbns), len(users)"
   ]
  },
  {
   "cell_type": "code",
   "execution_count": 4,
   "id": "92c71187",
   "metadata": {
    "execution": {
     "iopub.execute_input": "2022-08-13T06:54:31.229699Z",
     "iopub.status.busy": "2022-08-13T06:54:31.229273Z",
     "iopub.status.idle": "2022-08-13T06:54:31.405149Z",
     "shell.execute_reply": "2022-08-13T06:54:31.403969Z"
    },
    "papermill": {
     "duration": 0.184948,
     "end_time": "2022-08-13T06:54:31.407582",
     "exception": false,
     "start_time": "2022-08-13T06:54:31.222634",
     "status": "completed"
    },
    "tags": []
   },
   "outputs": [
    {
     "data": {
      "text/plain": [
       "(21242, 193, 870)"
      ]
     },
     "execution_count": 4,
     "metadata": {},
     "output_type": "execute_result"
    }
   ],
   "source": [
    "df = df[df['ISBN'].isin(isbns) & df['User-ID'].isin(users)].drop_duplicates(subset=['ISBN', 'User-ID']).reset_index(drop=True)\n",
    "ratings_scaler = MinMaxScaler(feature_range=(0.1, 1)).fit(df[['Book-Rating']])\n",
    "df[['Book-Rating']] = ratings_scaler.transform(df[['Book-Rating']])\n",
    "len(df), df['ISBN'].nunique(), df['User-ID'].nunique()"
   ]
  },
  {
   "cell_type": "markdown",
   "id": "32ae0a08",
   "metadata": {
    "papermill": {
     "duration": 0.005093,
     "end_time": "2022-08-13T06:54:31.418181",
     "exception": false,
     "start_time": "2022-08-13T06:54:31.413088",
     "status": "completed"
    },
    "tags": []
   },
   "source": [
    "**Preparing Y and R**"
   ]
  },
  {
   "cell_type": "code",
   "execution_count": 5,
   "id": "09547424",
   "metadata": {
    "execution": {
     "iopub.execute_input": "2022-08-13T06:54:31.430438Z",
     "iopub.status.busy": "2022-08-13T06:54:31.430054Z",
     "iopub.status.idle": "2022-08-13T06:54:31.477225Z",
     "shell.execute_reply": "2022-08-13T06:54:31.476021Z"
    },
    "papermill": {
     "duration": 0.056707,
     "end_time": "2022-08-13T06:54:31.480176",
     "exception": false,
     "start_time": "2022-08-13T06:54:31.423469",
     "status": "completed"
    },
    "tags": []
   },
   "outputs": [],
   "source": [
    "Y_df = pd.crosstab(index=df['ISBN'], columns=df['User-ID'], values=df['Book-Rating'], aggfunc=np.mean)\n",
    "R_df = (~Y_df.isna()).astype(int)\n",
    "Y_df = Y_df.fillna(0)\n",
    "\n",
    "Y = Y_df.values\n",
    "R = R_df.values"
   ]
  },
  {
   "cell_type": "markdown",
   "id": "bc575eee",
   "metadata": {
    "papermill": {
     "duration": 0.005175,
     "end_time": "2022-08-13T06:54:31.490890",
     "exception": false,
     "start_time": "2022-08-13T06:54:31.485715",
     "status": "completed"
    },
    "tags": []
   },
   "source": [
    "# Modelling"
   ]
  },
  {
   "cell_type": "markdown",
   "id": "2d4860b8",
   "metadata": {
    "papermill": {
     "duration": 0.005098,
     "end_time": "2022-08-13T06:54:31.501649",
     "exception": false,
     "start_time": "2022-08-13T06:54:31.496551",
     "status": "completed"
    },
    "tags": []
   },
   "source": [
    "**Cost Function**"
   ]
  },
  {
   "cell_type": "code",
   "execution_count": 6,
   "id": "80f0de10",
   "metadata": {
    "execution": {
     "iopub.execute_input": "2022-08-13T06:54:31.513869Z",
     "iopub.status.busy": "2022-08-13T06:54:31.513475Z",
     "iopub.status.idle": "2022-08-13T06:54:31.520512Z",
     "shell.execute_reply": "2022-08-13T06:54:31.519393Z"
    },
    "papermill": {
     "duration": 0.015813,
     "end_time": "2022-08-13T06:54:31.522753",
     "exception": false,
     "start_time": "2022-08-13T06:54:31.506940",
     "status": "completed"
    },
    "tags": []
   },
   "outputs": [],
   "source": [
    "def cofi_cost_func(X, W, b, Y, R, lambda_):\n",
    "    \"\"\"\n",
    "    Returns the cost for the content-based filtering\n",
    "    Args:\n",
    "      X (ndarray (num_items,num_features)) : matrix of item features\n",
    "      W (ndarray (num_users,num_features)) : matrix of user parameters\n",
    "      b (ndarray (1, num_users)            : vector of user parameters\n",
    "      Y (ndarray (num_movies,num_users)    : matrix of user ratings of movies\n",
    "      R (ndarray (num_movies,num_users)    : matrix, where R(i, j) = 1 if the i-th movies was rated by the j-th user\n",
    "      lambda_ (float): regularization parameter\n",
    "    Returns:\n",
    "      J (float) : Cost\n",
    "    \"\"\"\n",
    "    j = (tf.linalg.matmul(X, tf.transpose(W)) + b - Y)*R\n",
    "    J = 0.5 * tf.reduce_sum(j**2) + (lambda_/2) * (tf.reduce_sum(X**2) + tf.reduce_sum(W**2))\n",
    "    return J"
   ]
  },
  {
   "cell_type": "markdown",
   "id": "df79edca",
   "metadata": {
    "papermill": {
     "duration": 0.005025,
     "end_time": "2022-08-13T06:54:31.533103",
     "exception": false,
     "start_time": "2022-08-13T06:54:31.528078",
     "status": "completed"
    },
    "tags": []
   },
   "source": [
    "**Constants, Variables and Optimizers**"
   ]
  },
  {
   "cell_type": "code",
   "execution_count": 7,
   "id": "7f800a3b",
   "metadata": {
    "execution": {
     "iopub.execute_input": "2022-08-13T06:54:31.545754Z",
     "iopub.status.busy": "2022-08-13T06:54:31.544973Z",
     "iopub.status.idle": "2022-08-13T06:54:32.896850Z",
     "shell.execute_reply": "2022-08-13T06:54:32.895672Z"
    },
    "papermill": {
     "duration": 1.361232,
     "end_time": "2022-08-13T06:54:32.899508",
     "exception": false,
     "start_time": "2022-08-13T06:54:31.538276",
     "status": "completed"
    },
    "tags": []
   },
   "outputs": [
    {
     "name": "stderr",
     "output_type": "stream",
     "text": [
      "2022-08-13 06:54:31.562879: I tensorflow/core/common_runtime/process_util.cc:146] Creating new thread pool with default inter op setting: 2. Tune using inter_op_parallelism_threads for best performance.\n"
     ]
    }
   ],
   "source": [
    "num_movies, num_users = Y.shape\n",
    "num_features = 100\n",
    "\n",
    "tf.random.set_seed(19)\n",
    "W = tf.Variable(tf.random.normal((num_users,  num_features),dtype=tf.float64),  name='W')\n",
    "X = tf.Variable(tf.random.normal((num_movies, num_features),dtype=tf.float64),  name='X')\n",
    "b = tf.Variable(tf.random.normal((1,          num_users),   dtype=tf.float64),  name='b')\n",
    "\n",
    "optimizer = keras.optimizers.Adam(learning_rate=1e-1)"
   ]
  },
  {
   "cell_type": "markdown",
   "id": "56c3616c",
   "metadata": {
    "papermill": {
     "duration": 0.00526,
     "end_time": "2022-08-13T06:54:32.910661",
     "exception": false,
     "start_time": "2022-08-13T06:54:32.905401",
     "status": "completed"
    },
    "tags": []
   },
   "source": [
    "**Training**"
   ]
  },
  {
   "cell_type": "code",
   "execution_count": 8,
   "id": "754e3a3e",
   "metadata": {
    "execution": {
     "iopub.execute_input": "2022-08-13T06:54:32.924203Z",
     "iopub.status.busy": "2022-08-13T06:54:32.923797Z",
     "iopub.status.idle": "2022-08-13T06:55:28.362772Z",
     "shell.execute_reply": "2022-08-13T06:55:28.361432Z"
    },
    "papermill": {
     "duration": 55.450245,
     "end_time": "2022-08-13T06:55:28.366288",
     "exception": false,
     "start_time": "2022-08-13T06:54:32.916043",
     "status": "completed"
    },
    "tags": []
   },
   "outputs": [
    {
     "data": {
      "application/vnd.jupyter.widget-view+json": {
       "model_id": "756c19ad67fb4b52a5450bbba6a319e6",
       "version_major": 2,
       "version_minor": 0
      },
      "text/plain": [
       "  0%|          | 0/1500 [00:00<?, ?it/s]"
      ]
     },
     "metadata": {},
     "output_type": "display_data"
    },
    {
     "name": "stdout",
     "output_type": "stream",
     "text": [
      "Training loss after iteration 100: 4339.4\n",
      "Training loss after iteration 200: 994.0\n",
      "Training loss after iteration 300: 525.7\n",
      "Training loss after iteration 400: 437.5\n",
      "Training loss after iteration 500: 414.2\n",
      "Training loss after iteration 600: 406.1\n",
      "Training loss after iteration 700: 402.7\n",
      "Training loss after iteration 800: 401.2\n",
      "Training loss after iteration 900: 400.4\n",
      "Training loss after iteration 1000: 400.0\n",
      "Training loss after iteration 1100: 399.8\n",
      "Training loss after iteration 1200: 399.7\n",
      "Training loss after iteration 1300: 399.7\n",
      "Training loss after iteration 1400: 399.7\n",
      "Training loss after iteration 1500: 399.6\n"
     ]
    }
   ],
   "source": [
    "iterations = 1_500\n",
    "lambda_ = 1\n",
    "for iter in trange(iterations):\n",
    "    with tf.GradientTape() as tape:\n",
    "        cost_value = cofi_cost_func(X, W, b, Y, R, lambda_)\n",
    "        \n",
    "    grads = tape.gradient( cost_value, [X,W,b] )\n",
    "    optimizer.apply_gradients( zip(grads, [X,W,b]) )\n",
    "\n",
    "    if (iter+1) % 100 == 0:\n",
    "        print(f\"Training loss after iteration {iter+1}: {cost_value:0.1f}\")"
   ]
  },
  {
   "cell_type": "markdown",
   "id": "e6553df1",
   "metadata": {
    "papermill": {
     "duration": 0.006183,
     "end_time": "2022-08-13T06:55:28.379407",
     "exception": false,
     "start_time": "2022-08-13T06:55:28.373224",
     "status": "completed"
    },
    "tags": []
   },
   "source": [
    "**Predictions**"
   ]
  },
  {
   "cell_type": "code",
   "execution_count": 9,
   "id": "5013ceed",
   "metadata": {
    "execution": {
     "iopub.execute_input": "2022-08-13T06:55:28.394319Z",
     "iopub.status.busy": "2022-08-13T06:55:28.393880Z",
     "iopub.status.idle": "2022-08-13T06:55:28.408109Z",
     "shell.execute_reply": "2022-08-13T06:55:28.406464Z"
    },
    "papermill": {
     "duration": 0.026576,
     "end_time": "2022-08-13T06:55:28.412444",
     "exception": false,
     "start_time": "2022-08-13T06:55:28.385868",
     "status": "completed"
    },
    "tags": []
   },
   "outputs": [],
   "source": [
    "preds = np.matmul(X.numpy(), np.transpose(W.numpy())) + b.numpy()\n",
    "preds_df = pd.DataFrame(preds, columns=Y_df.columns, index=Y_df.index)"
   ]
  },
  {
   "cell_type": "code",
   "execution_count": 10,
   "id": "720ce804",
   "metadata": {
    "execution": {
     "iopub.execute_input": "2022-08-13T06:55:28.448449Z",
     "iopub.status.busy": "2022-08-13T06:55:28.447773Z",
     "iopub.status.idle": "2022-08-13T06:55:28.482588Z",
     "shell.execute_reply": "2022-08-13T06:55:28.479714Z"
    },
    "papermill": {
     "duration": 0.058603,
     "end_time": "2022-08-13T06:55:28.487835",
     "exception": false,
     "start_time": "2022-08-13T06:55:28.429232",
     "status": "completed"
    },
    "tags": []
   },
   "outputs": [
    {
     "name": "stdout",
     "output_type": "stream",
     "text": [
      "Predictions for known ratings\n",
      "Actual: 0.1, Predicted: 0.0987\n",
      "Actual: 0.1, Predicted: 0.169\n",
      "Actual: 0.73, Predicted: 0.685\n",
      "Actual: 0.1, Predicted: 0.122\n",
      "Actual: 0.1, Predicted: 0.0788\n"
     ]
    }
   ],
   "source": [
    "coords_1 =  np.argwhere(R == 1).tolist()\n",
    "np.random.shuffle(coords_1)\n",
    "\n",
    "print('Predictions for known ratings')\n",
    "for r, c in coords_1[:5]:\n",
    "    print(f'Actual: {Y[r, c]:.3}, Predicted: {preds[r, c]:.3}')"
   ]
  },
  {
   "cell_type": "code",
   "execution_count": 11,
   "id": "aa69ee32",
   "metadata": {
    "execution": {
     "iopub.execute_input": "2022-08-13T06:55:28.525001Z",
     "iopub.status.busy": "2022-08-13T06:55:28.524430Z",
     "iopub.status.idle": "2022-08-13T06:55:28.770581Z",
     "shell.execute_reply": "2022-08-13T06:55:28.769102Z"
    },
    "papermill": {
     "duration": 0.267244,
     "end_time": "2022-08-13T06:55:28.772914",
     "exception": false,
     "start_time": "2022-08-13T06:55:28.505670",
     "status": "completed"
    },
    "tags": []
   },
   "outputs": [
    {
     "name": "stdout",
     "output_type": "stream",
     "text": [
      "Predictions for known ratings\n",
      "Actual: 0.0, Predicted: 0.281\n",
      "Actual: 0.0, Predicted: 0.256\n",
      "Actual: 0.0, Predicted: 0.162\n"
     ]
    }
   ],
   "source": [
    "coords_0 =  np.argwhere(R == 0).tolist()\n",
    "np.random.shuffle(coords_0)\n",
    "\n",
    "print('Predictions for known ratings')\n",
    "for r, c in coords_0[:3]:\n",
    "    print(f'Actual: {Y[r, c]:.3}, Predicted: {preds[r, c]:.3}')"
   ]
  },
  {
   "cell_type": "code",
   "execution_count": null,
   "id": "1868f7b5",
   "metadata": {
    "papermill": {
     "duration": 0.006791,
     "end_time": "2022-08-13T06:55:28.786416",
     "exception": false,
     "start_time": "2022-08-13T06:55:28.779625",
     "status": "completed"
    },
    "tags": []
   },
   "outputs": [],
   "source": []
  }
 ],
 "metadata": {
  "kernelspec": {
   "display_name": "Python 3",
   "language": "python",
   "name": "python3"
  },
  "language_info": {
   "codemirror_mode": {
    "name": "ipython",
    "version": 3
   },
   "file_extension": ".py",
   "mimetype": "text/x-python",
   "name": "python",
   "nbconvert_exporter": "python",
   "pygments_lexer": "ipython3",
   "version": "3.7.12"
  },
  "papermill": {
   "default_parameters": {},
   "duration": 76.146844,
   "end_time": "2022-08-13T06:55:31.787695",
   "environment_variables": {},
   "exception": null,
   "input_path": "__notebook__.ipynb",
   "output_path": "__notebook__.ipynb",
   "parameters": {},
   "start_time": "2022-08-13T06:54:15.640851",
   "version": "2.3.4"
  },
  "widgets": {
   "application/vnd.jupyter.widget-state+json": {
    "state": {
     "0391543e061c4c08934465bbac020bf4": {
      "model_module": "@jupyter-widgets/base",
      "model_module_version": "1.2.0",
      "model_name": "LayoutModel",
      "state": {
       "_model_module": "@jupyter-widgets/base",
       "_model_module_version": "1.2.0",
       "_model_name": "LayoutModel",
       "_view_count": null,
       "_view_module": "@jupyter-widgets/base",
       "_view_module_version": "1.2.0",
       "_view_name": "LayoutView",
       "align_content": null,
       "align_items": null,
       "align_self": null,
       "border": null,
       "bottom": null,
       "display": null,
       "flex": null,
       "flex_flow": null,
       "grid_area": null,
       "grid_auto_columns": null,
       "grid_auto_flow": null,
       "grid_auto_rows": null,
       "grid_column": null,
       "grid_gap": null,
       "grid_row": null,
       "grid_template_areas": null,
       "grid_template_columns": null,
       "grid_template_rows": null,
       "height": null,
       "justify_content": null,
       "justify_items": null,
       "left": null,
       "margin": null,
       "max_height": null,
       "max_width": null,
       "min_height": null,
       "min_width": null,
       "object_fit": null,
       "object_position": null,
       "order": null,
       "overflow": null,
       "overflow_x": null,
       "overflow_y": null,
       "padding": null,
       "right": null,
       "top": null,
       "visibility": null,
       "width": null
      }
     },
     "156eac5dc2c9437fb1668c1cf742e267": {
      "model_module": "@jupyter-widgets/controls",
      "model_module_version": "1.5.0",
      "model_name": "FloatProgressModel",
      "state": {
       "_dom_classes": [],
       "_model_module": "@jupyter-widgets/controls",
       "_model_module_version": "1.5.0",
       "_model_name": "FloatProgressModel",
       "_view_count": null,
       "_view_module": "@jupyter-widgets/controls",
       "_view_module_version": "1.5.0",
       "_view_name": "ProgressView",
       "bar_style": "success",
       "description": "",
       "description_tooltip": null,
       "layout": "IPY_MODEL_b04f0ba5e6544ed6bc55cc38e7d0a7d9",
       "max": 1500.0,
       "min": 0.0,
       "orientation": "horizontal",
       "style": "IPY_MODEL_f8635f3d6db841889ce2eb86056bb696",
       "value": 1500.0
      }
     },
     "50ac7ae068d64a20b7e1b848be8c148d": {
      "model_module": "@jupyter-widgets/controls",
      "model_module_version": "1.5.0",
      "model_name": "DescriptionStyleModel",
      "state": {
       "_model_module": "@jupyter-widgets/controls",
       "_model_module_version": "1.5.0",
       "_model_name": "DescriptionStyleModel",
       "_view_count": null,
       "_view_module": "@jupyter-widgets/base",
       "_view_module_version": "1.2.0",
       "_view_name": "StyleView",
       "description_width": ""
      }
     },
     "61b6b7a8edda416a92b38bd806cc31c3": {
      "model_module": "@jupyter-widgets/base",
      "model_module_version": "1.2.0",
      "model_name": "LayoutModel",
      "state": {
       "_model_module": "@jupyter-widgets/base",
       "_model_module_version": "1.2.0",
       "_model_name": "LayoutModel",
       "_view_count": null,
       "_view_module": "@jupyter-widgets/base",
       "_view_module_version": "1.2.0",
       "_view_name": "LayoutView",
       "align_content": null,
       "align_items": null,
       "align_self": null,
       "border": null,
       "bottom": null,
       "display": null,
       "flex": null,
       "flex_flow": null,
       "grid_area": null,
       "grid_auto_columns": null,
       "grid_auto_flow": null,
       "grid_auto_rows": null,
       "grid_column": null,
       "grid_gap": null,
       "grid_row": null,
       "grid_template_areas": null,
       "grid_template_columns": null,
       "grid_template_rows": null,
       "height": null,
       "justify_content": null,
       "justify_items": null,
       "left": null,
       "margin": null,
       "max_height": null,
       "max_width": null,
       "min_height": null,
       "min_width": null,
       "object_fit": null,
       "object_position": null,
       "order": null,
       "overflow": null,
       "overflow_x": null,
       "overflow_y": null,
       "padding": null,
       "right": null,
       "top": null,
       "visibility": null,
       "width": null
      }
     },
     "756c19ad67fb4b52a5450bbba6a319e6": {
      "model_module": "@jupyter-widgets/controls",
      "model_module_version": "1.5.0",
      "model_name": "HBoxModel",
      "state": {
       "_dom_classes": [],
       "_model_module": "@jupyter-widgets/controls",
       "_model_module_version": "1.5.0",
       "_model_name": "HBoxModel",
       "_view_count": null,
       "_view_module": "@jupyter-widgets/controls",
       "_view_module_version": "1.5.0",
       "_view_name": "HBoxView",
       "box_style": "",
       "children": [
        "IPY_MODEL_ddc2d81e55f842f59353052ff303b89e",
        "IPY_MODEL_156eac5dc2c9437fb1668c1cf742e267",
        "IPY_MODEL_7c12ef772ff443c0b78a8e76fa4223b0"
       ],
       "layout": "IPY_MODEL_0391543e061c4c08934465bbac020bf4"
      }
     },
     "7c12ef772ff443c0b78a8e76fa4223b0": {
      "model_module": "@jupyter-widgets/controls",
      "model_module_version": "1.5.0",
      "model_name": "HTMLModel",
      "state": {
       "_dom_classes": [],
       "_model_module": "@jupyter-widgets/controls",
       "_model_module_version": "1.5.0",
       "_model_name": "HTMLModel",
       "_view_count": null,
       "_view_module": "@jupyter-widgets/controls",
       "_view_module_version": "1.5.0",
       "_view_name": "HTMLView",
       "description": "",
       "description_tooltip": null,
       "layout": "IPY_MODEL_61b6b7a8edda416a92b38bd806cc31c3",
       "placeholder": "​",
       "style": "IPY_MODEL_eb0cbb81cbb24c4fa8982dbab671db8b",
       "value": " 1500/1500 [00:55&lt;00:00, 27.48it/s]"
      }
     },
     "b04f0ba5e6544ed6bc55cc38e7d0a7d9": {
      "model_module": "@jupyter-widgets/base",
      "model_module_version": "1.2.0",
      "model_name": "LayoutModel",
      "state": {
       "_model_module": "@jupyter-widgets/base",
       "_model_module_version": "1.2.0",
       "_model_name": "LayoutModel",
       "_view_count": null,
       "_view_module": "@jupyter-widgets/base",
       "_view_module_version": "1.2.0",
       "_view_name": "LayoutView",
       "align_content": null,
       "align_items": null,
       "align_self": null,
       "border": null,
       "bottom": null,
       "display": null,
       "flex": null,
       "flex_flow": null,
       "grid_area": null,
       "grid_auto_columns": null,
       "grid_auto_flow": null,
       "grid_auto_rows": null,
       "grid_column": null,
       "grid_gap": null,
       "grid_row": null,
       "grid_template_areas": null,
       "grid_template_columns": null,
       "grid_template_rows": null,
       "height": null,
       "justify_content": null,
       "justify_items": null,
       "left": null,
       "margin": null,
       "max_height": null,
       "max_width": null,
       "min_height": null,
       "min_width": null,
       "object_fit": null,
       "object_position": null,
       "order": null,
       "overflow": null,
       "overflow_x": null,
       "overflow_y": null,
       "padding": null,
       "right": null,
       "top": null,
       "visibility": null,
       "width": null
      }
     },
     "cfb41f91a4fc4843ac98582acbb2dea2": {
      "model_module": "@jupyter-widgets/base",
      "model_module_version": "1.2.0",
      "model_name": "LayoutModel",
      "state": {
       "_model_module": "@jupyter-widgets/base",
       "_model_module_version": "1.2.0",
       "_model_name": "LayoutModel",
       "_view_count": null,
       "_view_module": "@jupyter-widgets/base",
       "_view_module_version": "1.2.0",
       "_view_name": "LayoutView",
       "align_content": null,
       "align_items": null,
       "align_self": null,
       "border": null,
       "bottom": null,
       "display": null,
       "flex": null,
       "flex_flow": null,
       "grid_area": null,
       "grid_auto_columns": null,
       "grid_auto_flow": null,
       "grid_auto_rows": null,
       "grid_column": null,
       "grid_gap": null,
       "grid_row": null,
       "grid_template_areas": null,
       "grid_template_columns": null,
       "grid_template_rows": null,
       "height": null,
       "justify_content": null,
       "justify_items": null,
       "left": null,
       "margin": null,
       "max_height": null,
       "max_width": null,
       "min_height": null,
       "min_width": null,
       "object_fit": null,
       "object_position": null,
       "order": null,
       "overflow": null,
       "overflow_x": null,
       "overflow_y": null,
       "padding": null,
       "right": null,
       "top": null,
       "visibility": null,
       "width": null
      }
     },
     "ddc2d81e55f842f59353052ff303b89e": {
      "model_module": "@jupyter-widgets/controls",
      "model_module_version": "1.5.0",
      "model_name": "HTMLModel",
      "state": {
       "_dom_classes": [],
       "_model_module": "@jupyter-widgets/controls",
       "_model_module_version": "1.5.0",
       "_model_name": "HTMLModel",
       "_view_count": null,
       "_view_module": "@jupyter-widgets/controls",
       "_view_module_version": "1.5.0",
       "_view_name": "HTMLView",
       "description": "",
       "description_tooltip": null,
       "layout": "IPY_MODEL_cfb41f91a4fc4843ac98582acbb2dea2",
       "placeholder": "​",
       "style": "IPY_MODEL_50ac7ae068d64a20b7e1b848be8c148d",
       "value": "100%"
      }
     },
     "eb0cbb81cbb24c4fa8982dbab671db8b": {
      "model_module": "@jupyter-widgets/controls",
      "model_module_version": "1.5.0",
      "model_name": "DescriptionStyleModel",
      "state": {
       "_model_module": "@jupyter-widgets/controls",
       "_model_module_version": "1.5.0",
       "_model_name": "DescriptionStyleModel",
       "_view_count": null,
       "_view_module": "@jupyter-widgets/base",
       "_view_module_version": "1.2.0",
       "_view_name": "StyleView",
       "description_width": ""
      }
     },
     "f8635f3d6db841889ce2eb86056bb696": {
      "model_module": "@jupyter-widgets/controls",
      "model_module_version": "1.5.0",
      "model_name": "ProgressStyleModel",
      "state": {
       "_model_module": "@jupyter-widgets/controls",
       "_model_module_version": "1.5.0",
       "_model_name": "ProgressStyleModel",
       "_view_count": null,
       "_view_module": "@jupyter-widgets/base",
       "_view_module_version": "1.2.0",
       "_view_name": "StyleView",
       "bar_color": null,
       "description_width": ""
      }
     }
    },
    "version_major": 2,
    "version_minor": 0
   }
  }
 },
 "nbformat": 4,
 "nbformat_minor": 5
}
