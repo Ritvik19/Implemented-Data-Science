{
 "cells": [
  {
   "cell_type": "markdown",
   "id": "63a2a27a",
   "metadata": {
    "papermill": {
     "duration": 0.01551,
     "end_time": "2022-03-03T11:34:51.215113",
     "exception": false,
     "start_time": "2022-03-03T11:34:51.199603",
     "status": "completed"
    },
    "tags": []
   },
   "source": [
    "# Object Detection using Sliding Window\n",
    "\n",
    "We will be using concepts like Image Pyramid, Sliding Window and Non-Maxima Supression to turn almost any Image Classifier into an Object Detector\n",
    "* **Image Pyramid**: \n",
    "  * An image pyramid is a multi-scale representation of an image, allowing us to find objects in images at different scales of an image.\n",
    "  * At the bottom of the pyramid, we have the original image at its original size (in terms of width and height).\n",
    "  * And at each subsequent layer, the image is resized (subsampled) and optionally smoothed (usually via Gaussian blurring).\n",
    "  * The image is progressively subsampled until some stopping criterion is met, which is normally when a minimum size has been reached and no further subsampling needs to take place.\n",
    "* **Sliding Window**:\n",
    "  * A sliding window is a fixed-size rectangle that slides from left-to-right and top-to-bottom within an image.\n",
    "  * At each stop of the window we would:\n",
    "    * Extract the ROI\n",
    "    * Pass it through our image classifier\n",
    "    * Obtain the output predictions\n",
    "* **Non-Maxima Supression**:\n",
    "  * When performing object detection, our object detector will typically produce multiple, overlapping bounding boxes surrounding an object in an image.\n",
    "  * We somehow need to collapse/remove the extraneous bounding boxes.\n",
    "  * Non-maxima suppression (NMS) collapses weak, overlapping bounding boxes in favor of the more confident ones.\n",
    "  \n",
    "**Credits**: [PyImageSearch](https://pyimagesearch.com/2020/06/22/turning-any-cnn-image-classifier-into-an-object-detector-with-keras-tensorflow-and-opencv/)"
   ]
  },
  {
   "cell_type": "code",
   "execution_count": 1,
   "id": "dbb77a26",
   "metadata": {
    "_kg_hide-input": true,
    "execution": {
     "iopub.execute_input": "2022-03-03T11:34:51.250378Z",
     "iopub.status.busy": "2022-03-03T11:34:51.248561Z",
     "iopub.status.idle": "2022-03-03T11:35:04.368239Z",
     "shell.execute_reply": "2022-03-03T11:35:04.367452Z",
     "shell.execute_reply.started": "2022-03-03T11:29:56.567328Z"
    },
    "papermill": {
     "duration": 13.138691,
     "end_time": "2022-03-03T11:35:04.368441",
     "exception": false,
     "start_time": "2022-03-03T11:34:51.229750",
     "status": "completed"
    },
    "tags": []
   },
   "outputs": [
    {
     "name": "stdout",
     "output_type": "stream",
     "text": [
      "Collecting imutils\r\n",
      "  Downloading imutils-0.5.4.tar.gz (17 kB)\r\n",
      "  Preparing metadata (setup.py) ... \u001b[?25l-\b \bdone\r\n",
      "\u001b[?25hBuilding wheels for collected packages: imutils\r\n",
      "  Building wheel for imutils (setup.py) ... \u001b[?25l-\b \b\\\b \bdone\r\n",
      "\u001b[?25h  Created wheel for imutils: filename=imutils-0.5.4-py3-none-any.whl size=25860 sha256=91eeed7214f6527a4d4ec5ce5336efb4617f14be2738620ebc4418cc76f769bb\r\n",
      "  Stored in directory: /root/.cache/pip/wheels/86/d7/0a/4923351ed1cec5d5e24c1eaf8905567b02a0343b24aa873df2\r\n",
      "Successfully built imutils\r\n",
      "Installing collected packages: imutils\r\n",
      "Successfully installed imutils-0.5.4\r\n",
      "\u001b[33mWARNING: Running pip as the 'root' user can result in broken permissions and conflicting behaviour with the system package manager. It is recommended to use a virtual environment instead: https://pip.pypa.io/warnings/venv\u001b[0m\r\n"
     ]
    }
   ],
   "source": [
    "!pip install imutils"
   ]
  },
  {
   "cell_type": "code",
   "execution_count": 2,
   "id": "2f302dcf",
   "metadata": {
    "execution": {
     "iopub.execute_input": "2022-03-03T11:35:04.413434Z",
     "iopub.status.busy": "2022-03-03T11:35:04.412373Z",
     "iopub.status.idle": "2022-03-03T11:35:11.536759Z",
     "shell.execute_reply": "2022-03-03T11:35:11.537258Z",
     "shell.execute_reply.started": "2022-03-03T11:30:03.827855Z"
    },
    "papermill": {
     "duration": 7.150391,
     "end_time": "2022-03-03T11:35:11.537468",
     "exception": false,
     "start_time": "2022-03-03T11:35:04.387077",
     "status": "completed"
    },
    "tags": []
   },
   "outputs": [],
   "source": [
    "import numpy as np\n",
    "import argparse\n",
    "import imutils\n",
    "import time\n",
    "import cv2\n",
    "\n",
    "import tensorflow as tf\n",
    "from tensorflow.keras.models import load_model\n",
    "\n",
    "from imutils.object_detection import non_max_suppression\n",
    "\n",
    "import matplotlib.pyplot as plt"
   ]
  },
  {
   "cell_type": "code",
   "execution_count": 3,
   "id": "03ff0583",
   "metadata": {
    "execution": {
     "iopub.execute_input": "2022-03-03T11:35:11.582170Z",
     "iopub.status.busy": "2022-03-03T11:35:11.581441Z",
     "iopub.status.idle": "2022-03-03T11:35:11.583576Z",
     "shell.execute_reply": "2022-03-03T11:35:11.584088Z",
     "shell.execute_reply.started": "2022-03-03T11:30:03.834647Z"
    },
    "papermill": {
     "duration": 0.029113,
     "end_time": "2022-03-03T11:35:11.584253",
     "exception": false,
     "start_time": "2022-03-03T11:35:11.555140",
     "status": "completed"
    },
    "tags": []
   },
   "outputs": [],
   "source": [
    "def sliding_window(image, step, ws):\n",
    "    for y in range(0, image.shape[0] - ws[1], step):\n",
    "        for x in range(0, image.shape[1] - ws[0], step):\n",
    "            yield (x, y, image[y:y + ws[1], x:x + ws[0]])\n",
    "\n",
    "def image_pyramid(image, scale=1.5, minSize=(28, 28)):\n",
    "    yield image\n",
    "    while True:\n",
    "        w = int(image.shape[1] / scale)\n",
    "        image = imutils.resize(image, width=w)\n",
    "        if image.shape[0] < minSize[1] or image.shape[1] < minSize[0]:\n",
    "            break\n",
    "        yield image            "
   ]
  },
  {
   "cell_type": "code",
   "execution_count": 4,
   "id": "f2facecf",
   "metadata": {
    "execution": {
     "iopub.execute_input": "2022-03-03T11:35:11.623677Z",
     "iopub.status.busy": "2022-03-03T11:35:11.623063Z",
     "iopub.status.idle": "2022-03-03T11:35:11.627021Z",
     "shell.execute_reply": "2022-03-03T11:35:11.627581Z",
     "shell.execute_reply.started": "2022-03-03T11:30:03.849662Z"
    },
    "papermill": {
     "duration": 0.025764,
     "end_time": "2022-03-03T11:35:11.627742",
     "exception": false,
     "start_time": "2022-03-03T11:35:11.601978",
     "status": "completed"
    },
    "tags": []
   },
   "outputs": [],
   "source": [
    "PYR_SCALE = 1.25\n",
    "WIN_STEP = 7\n",
    "ROI_SIZE = (21, 21)\n",
    "INPUT_SIZE = (28, 28)\n",
    "VISUALIZE = False\n",
    "MIN_CONF = 0.8"
   ]
  },
  {
   "cell_type": "code",
   "execution_count": 5,
   "id": "4591a656",
   "metadata": {
    "execution": {
     "iopub.execute_input": "2022-03-03T11:35:11.667720Z",
     "iopub.status.busy": "2022-03-03T11:35:11.666957Z",
     "iopub.status.idle": "2022-03-03T11:35:15.009206Z",
     "shell.execute_reply": "2022-03-03T11:35:15.009837Z",
     "shell.execute_reply.started": "2022-03-03T11:30:03.860494Z"
    },
    "papermill": {
     "duration": 3.365056,
     "end_time": "2022-03-03T11:35:15.010076",
     "exception": false,
     "start_time": "2022-03-03T11:35:11.645020",
     "status": "completed"
    },
    "tags": []
   },
   "outputs": [
    {
     "name": "stderr",
     "output_type": "stream",
     "text": [
      "2022-03-03 11:35:11.725360: I tensorflow/core/common_runtime/process_util.cc:146] Creating new thread pool with default inter op setting: 2. Tune using inter_op_parallelism_threads for best performance.\n"
     ]
    },
    {
     "name": "stdout",
     "output_type": "stream",
     "text": [
      "Downloading data from https://storage.googleapis.com/tensorflow/tf-keras-datasets/mnist.npz\n",
      "11493376/11490434 [==============================] - 0s 0us/step\n",
      "11501568/11490434 [==============================] - 0s 0us/step\n"
     ]
    }
   ],
   "source": [
    "model = load_model('../input/mnist-net/mnist_net.h5')\n",
    "(x_train, y_train), (x_test, y_test) = tf.keras.datasets.mnist.load_data()"
   ]
  },
  {
   "cell_type": "code",
   "execution_count": 6,
   "id": "3af5cfdd",
   "metadata": {
    "execution": {
     "iopub.execute_input": "2022-03-03T11:35:15.063252Z",
     "iopub.status.busy": "2022-03-03T11:35:15.062185Z",
     "iopub.status.idle": "2022-03-03T11:35:15.292024Z",
     "shell.execute_reply": "2022-03-03T11:35:15.293567Z",
     "shell.execute_reply.started": "2022-03-03T11:30:06.642182Z"
    },
    "papermill": {
     "duration": 0.263311,
     "end_time": "2022-03-03T11:35:15.293949",
     "exception": false,
     "start_time": "2022-03-03T11:35:15.030638",
     "status": "completed"
    },
    "tags": []
   },
   "outputs": [
    {
     "data": {
      "image/png": "[encoded data removed]",
      "text/plain": [
       "<Figure size 432x288 with 1 Axes>"
      ]
     },
     "metadata": {
      "needs_background": "light"
     },
     "output_type": "display_data"
    }
   ],
   "source": [
    "orig = np.zeros((28, 84))\n",
    "orig[:, :28] = x_train[0]\n",
    "orig[:, 28:56] = x_train[2]\n",
    "orig[:, 56:] = x_train[3]\n",
    "(H, W) = orig.shape[:2]\n",
    "plt.imshow(orig, cmap='gray');"
   ]
  },
  {
   "cell_type": "code",
   "execution_count": 7,
   "id": "ab56aaac",
   "metadata": {
    "execution": {
     "iopub.execute_input": "2022-03-03T11:35:15.347260Z",
     "iopub.status.busy": "2022-03-03T11:35:15.346182Z",
     "iopub.status.idle": "2022-03-03T11:35:15.349628Z",
     "shell.execute_reply": "2022-03-03T11:35:15.349033Z",
     "shell.execute_reply.started": "2022-03-03T11:30:06.834963Z"
    },
    "papermill": {
     "duration": 0.029912,
     "end_time": "2022-03-03T11:35:15.349803",
     "exception": false,
     "start_time": "2022-03-03T11:35:15.319891",
     "status": "completed"
    },
    "tags": []
   },
   "outputs": [],
   "source": [
    "pyramid = image_pyramid(orig, scale=PYR_SCALE, minSize=ROI_SIZE)\n",
    "rois = []\n",
    "locs = []"
   ]
  },
  {
   "cell_type": "code",
   "execution_count": 8,
   "id": "778a1a62",
   "metadata": {
    "execution": {
     "iopub.execute_input": "2022-03-03T11:35:15.399254Z",
     "iopub.status.busy": "2022-03-03T11:35:15.398607Z",
     "iopub.status.idle": "2022-03-03T11:35:15.427317Z",
     "shell.execute_reply": "2022-03-03T11:35:15.426801Z",
     "shell.execute_reply.started": "2022-03-03T11:30:06.841299Z"
    },
    "papermill": {
     "duration": 0.057381,
     "end_time": "2022-03-03T11:35:15.427460",
     "exception": false,
     "start_time": "2022-03-03T11:35:15.370079",
     "status": "completed"
    },
    "tags": []
   },
   "outputs": [],
   "source": [
    "for image in pyramid:\n",
    "    scale = W / float(image.shape[1])\n",
    "    for (x, y, roiOrig) in sliding_window(image, WIN_STEP, ROI_SIZE):\n",
    "        x = int(x * scale)\n",
    "        y = int(y * scale)\n",
    "        w = int(ROI_SIZE[0] * scale)\n",
    "        h = int(ROI_SIZE[1] * scale)\n",
    "\n",
    "        roi = cv2.resize(roiOrig, INPUT_SIZE)\n",
    "\n",
    "        rois.append(roi)\n",
    "        locs.append((x, y, x + w, y + h))"
   ]
  },
  {
   "cell_type": "code",
   "execution_count": 9,
   "id": "0e740f25",
   "metadata": {
    "execution": {
     "iopub.execute_input": "2022-03-03T11:35:15.556744Z",
     "iopub.status.busy": "2022-03-03T11:35:15.488934Z",
     "iopub.status.idle": "2022-03-03T11:35:17.164673Z",
     "shell.execute_reply": "2022-03-03T11:35:17.164129Z",
     "shell.execute_reply.started": "2022-03-03T11:30:06.868988Z"
    },
    "papermill": {
     "duration": 1.717402,
     "end_time": "2022-03-03T11:35:17.164835",
     "exception": false,
     "start_time": "2022-03-03T11:35:15.447433",
     "status": "completed"
    },
    "tags": []
   },
   "outputs": [
    {
     "data": {
      "image/png": "[encoded data removed]",
      "text/plain": [
       "<Figure size 1440x432 with 16 Axes>"
      ]
     },
     "metadata": {
      "needs_background": "light"
     },
     "output_type": "display_data"
    }
   ],
   "source": [
    "fig, axes = plt.subplots(1, len(rois), figsize=(20, 6))\n",
    "for ax, roi in zip(axes, rois):\n",
    "    ax.imshow(roi, cmap='gray')"
   ]
  },
  {
   "cell_type": "code",
   "execution_count": 10,
   "id": "0342ca6b",
   "metadata": {
    "execution": {
     "iopub.execute_input": "2022-03-03T11:35:17.219102Z",
     "iopub.status.busy": "2022-03-03T11:35:17.218459Z",
     "iopub.status.idle": "2022-03-03T11:35:18.700221Z",
     "shell.execute_reply": "2022-03-03T11:35:18.700886Z",
     "shell.execute_reply.started": "2022-03-03T11:30:08.147577Z"
    },
    "papermill": {
     "duration": 1.514205,
     "end_time": "2022-03-03T11:35:18.701058",
     "exception": false,
     "start_time": "2022-03-03T11:35:17.186853",
     "status": "completed"
    },
    "tags": []
   },
   "outputs": [
    {
     "name": "stderr",
     "output_type": "stream",
     "text": [
      "2022-03-03 11:35:17.303519: I tensorflow/compiler/mlir/mlir_graph_optimization_pass.cc:185] None of the MLIR Optimization Passes are enabled (registered 2)\n"
     ]
    },
    {
     "data": {
      "text/plain": [
       "[(1, 0.8980106115341187),\n",
       " (5, 0.9829777479171753),\n",
       " (2, 0.99796462059021),\n",
       " (4, 0.8887261748313904),\n",
       " (2, 0.4398994445800781),\n",
       " (1, 0.9716110229492188),\n",
       " (1, 0.9723137617111206),\n",
       " (1, 0.9916368126869202),\n",
       " (1, 0.9994825124740601),\n",
       " (5, 0.9997591376304626),\n",
       " (4, 0.6346877217292786),\n",
       " (2, 0.9335936903953552),\n",
       " (4, 0.9054071307182312),\n",
       " (1, 0.7362902164459229),\n",
       " (4, 0.9291632175445557),\n",
       " (1, 0.9996114373207092)]"
      ]
     },
     "execution_count": 10,
     "metadata": {},
     "output_type": "execute_result"
    }
   ],
   "source": [
    "rois = np.array(rois, dtype=\"float32\")\n",
    "preds = model.predict(rois)\n",
    "preds = list(zip(preds.argmax(axis=1).tolist(), preds.max(axis=1).tolist()))\n",
    "labels = {}\n",
    "\n",
    "for (i, p) in enumerate(preds):\n",
    "    (label, prob) = p\n",
    "    if prob >= MIN_CONF:\n",
    "        box = locs[i]\n",
    "        L = labels.get(label, [])\n",
    "        L.append((box, prob))\n",
    "        labels[label] = L\n",
    "preds"
   ]
  },
  {
   "cell_type": "code",
   "execution_count": 11,
   "id": "7d8fa777",
   "metadata": {
    "execution": {
     "iopub.execute_input": "2022-03-03T11:35:18.750662Z",
     "iopub.status.busy": "2022-03-03T11:35:18.750016Z",
     "iopub.status.idle": "2022-03-03T11:35:20.288959Z",
     "shell.execute_reply": "2022-03-03T11:35:20.289442Z",
     "shell.execute_reply.started": "2022-03-03T11:30:09.241781Z"
    },
    "papermill": {
     "duration": 1.565444,
     "end_time": "2022-03-03T11:35:20.289698",
     "exception": false,
     "start_time": "2022-03-03T11:35:18.724254",
     "status": "completed"
    },
    "tags": []
   },
   "outputs": [
    {
     "data": {
      "image/png": "[encoded data removed]",
      "text/plain": [
       "<Figure size 1440x432 with 2 Axes>"
      ]
     },
     "metadata": {
      "needs_background": "light"
     },
     "output_type": "display_data"
    },
    {
     "data": {
      "image/png": "[encoded data removed]",
      "text/plain": [
       "<Figure size 1440x432 with 2 Axes>"
      ]
     },
     "metadata": {
      "needs_background": "light"
     },
     "output_type": "display_data"
    },
    {
     "data": {
      "image/png": "[encoded data removed]",
      "text/plain": [
       "<Figure size 1440x432 with 2 Axes>"
      ]
     },
     "metadata": {
      "needs_background": "light"
     },
     "output_type": "display_data"
    },
    {
     "data": {
      "image/png": "[encoded data removed]",
      "text/plain": [
       "<Figure size 1440x432 with 2 Axes>"
      ]
     },
     "metadata": {
      "needs_background": "light"
     },
     "output_type": "display_data"
    }
   ],
   "source": [
    "for label in sorted(labels.keys()):\n",
    "    clone = orig.copy()\n",
    "    fig, ax = plt.subplots(1, 2, figsize=(20, 6))\n",
    "    for (box, prob) in labels[label]:\n",
    "        (startX, startY, endX, endY) = box\n",
    "        cv2.rectangle(clone, (startX, startY), (endX, endY), (255, 255, 255), 1)\n",
    "    ax[0].imshow(clone, cmap='gray')\n",
    "    ax[0].set_title(\"Before\")\n",
    "    clone = orig.copy()\n",
    "    boxes = np.array([p[0] for p in labels[label]])\n",
    "    proba = np.array([p[1] for p in labels[label]])\n",
    "    boxes = non_max_suppression(boxes, proba)\n",
    "\n",
    "    for (startX, startY, endX, endY) in boxes:\n",
    "        cv2.rectangle(clone, (startX, startY), (endX, endY), (255, 255, 255), 1)\n",
    "        y = startY - 10 if startY - 10 > 10 else startY + 10\n",
    "        cv2.putText(clone, str(label), (startX, y), cv2.FONT_HERSHEY_SIMPLEX, 0.45, (255, 255, 255), 1)\n",
    "\n",
    "    ax[1].imshow(clone, cmap='gray')\n",
    "    ax[1].set_title(\"After\")"
   ]
  },
  {
   "cell_type": "code",
   "execution_count": null,
   "id": "07c0e09e",
   "metadata": {
    "papermill": {
     "duration": 0.026077,
     "end_time": "2022-03-03T11:35:20.342609",
     "exception": false,
     "start_time": "2022-03-03T11:35:20.316532",
     "status": "completed"
    },
    "tags": []
   },
   "outputs": [],
   "source": []
  }
 ],
 "metadata": {
  "kernelspec": {
   "display_name": "Python 3",
   "language": "python",
   "name": "python3"
  },
  "language_info": {
   "codemirror_mode": {
    "name": "ipython",
    "version": 3
   },
   "file_extension": ".py",
   "mimetype": "text/x-python",
   "name": "python",
   "nbconvert_exporter": "python",
   "pygments_lexer": "ipython3",
   "version": "3.7.12"
  },
  "papermill": {
   "default_parameters": {},
   "duration": 42.7851,
   "end_time": "2022-03-03T11:35:23.533734",
   "environment_variables": {},
   "exception": null,
   "input_path": "__notebook__.ipynb",
   "output_path": "__notebook__.ipynb",
   "parameters": {},
   "start_time": "2022-03-03T11:34:40.748634",
   "version": "2.3.3"
  }
 },
 "nbformat": 4,
 "nbformat_minor": 5
}
