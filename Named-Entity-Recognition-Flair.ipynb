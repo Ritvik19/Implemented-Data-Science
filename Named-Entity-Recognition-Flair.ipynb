{
 "cells": [
  {
   "cell_type": "code",
   "execution_count": 1,
   "id": "9e0d98e6",
   "metadata": {
    "_kg_hide-output": true,
    "execution": {
     "iopub.execute_input": "2022-10-29T08:52:02.763505Z",
     "iopub.status.busy": "2022-10-29T08:52:02.762431Z",
     "iopub.status.idle": "2022-10-29T08:52:43.155983Z",
     "shell.execute_reply": "2022-10-29T08:52:43.154726Z"
    },
    "papermill": {
     "duration": 40.403199,
     "end_time": "2022-10-29T08:52:43.158607",
     "exception": false,
     "start_time": "2022-10-29T08:52:02.755408",
     "status": "completed"
    },
    "tags": []
   },
   "outputs": [],
   "source": [
    "%%capture\n",
    "!pip uninstall typing -y\n",
    "!pip install flair==0.9"
   ]
  },
  {
   "cell_type": "code",
   "execution_count": 2,
   "id": "f7681723",
   "metadata": {
    "_cell_guid": "b1076dfc-b9ad-4769-8c92-a6c4dae69d19",
    "_uuid": "8f2839f25d086af736a60e9eeb907d3b93b6e0e5",
    "execution": {
     "iopub.execute_input": "2022-10-29T08:52:43.168925Z",
     "iopub.status.busy": "2022-10-29T08:52:43.167994Z",
     "iopub.status.idle": "2022-10-29T08:52:44.035264Z",
     "shell.execute_reply": "2022-10-29T08:52:44.034147Z"
    },
    "papermill": {
     "duration": 0.87509,
     "end_time": "2022-10-29T08:52:44.037994",
     "exception": false,
     "start_time": "2022-10-29T08:52:43.162904",
     "status": "completed"
    },
    "tags": []
   },
   "outputs": [],
   "source": [
    "import numpy as np\n",
    "import pandas as pd\n",
    "import matplotlib.pyplot as plt\n",
    "import seaborn as sns\n",
    "from tqdm.auto import tqdm\n",
    "\n",
    "sns.set_style('darkgrid')"
   ]
  },
  {
   "cell_type": "markdown",
   "id": "f296e40f",
   "metadata": {
    "papermill": {
     "duration": 0.003599,
     "end_time": "2022-10-29T08:52:44.045890",
     "exception": false,
     "start_time": "2022-10-29T08:52:44.042291",
     "status": "completed"
    },
    "tags": []
   },
   "source": [
    "# Named Entity Recognition (NER)\n",
    "\n",
    "NER is an information extraction technique to identify and classify named entities in text. These entities can be pre-defined and generic like location names, organizations, time and etc, or they can be very specific like the example with the resume.\n",
    "\n",
    "The goal of a named entity recognition (NER) system is to identify all textual mentions of the named entities. This can be broken down into two sub-tasks: identifying the boundaries of the NE, and identifying its type.\n",
    "\n",
    "Named entity recognition is a task that is well-suited to the type of classifier-based approach. In particular, a tagger can be built that labels each word in a sentence using the IOB format, where chunks are labelled by their appropriate type.\n",
    "\n",
    "The IOB Tagging system contains tags of the form:\n",
    "\n",
    "* B - {CHUNK_TYPE} – for the word in the Beginning chunk\n",
    "* I - {CHUNK_TYPE} – for words Inside the chunk\n",
    "* O – Outside any chunk\n",
    "\n",
    "The IOB tags are further classified into the following classes –\n",
    "\n",
    "* geo = Geographical Entity\n",
    "* org = Organization\n",
    "* per = Person\n",
    "* gpe = Geopolitical Entity\n",
    "* tim = Time indicator\n",
    "* art = Artifact\n",
    "* eve = Event\n",
    "* nat = Natural Phenomenon\n",
    "\n",
    "## Approaches to NER\n",
    "* **Classical Approaches:** mostly rule-based.\n",
    "* **Machine Learning Approaches:** there are two main methods in this category: \n",
    "    * Treat the problem as a multi-class classification where named entities are our labels so we can apply different classification algorithms. The problem here is that identifying and labeling named entities require thorough understanding of the context of a sentence and sequence of the word labels in it, which this method ignores that.\n",
    "    * Conditional Random Field (CRF) model. It is a probabilistic graphical model that can be used to model sequential data such as labels of words in a sentence. The CRF model is able to capture the features of the current and previous labels in a sequence but it cannot understand the context of the forward labels; this shortcoming plus the extra feature engineering involved with training a CRF model, makes it less appealing to be adapted by the industry.\n",
    "* **Deep Learning Approaches:** Bidirectional RNNs"
   ]
  },
  {
   "cell_type": "markdown",
   "id": "bf1a4aa2",
   "metadata": {
    "papermill": {
     "duration": 0.00349,
     "end_time": "2022-10-29T08:52:44.053016",
     "exception": false,
     "start_time": "2022-10-29T08:52:44.049526",
     "status": "completed"
    },
    "tags": []
   },
   "source": [
    "# EDA"
   ]
  },
  {
   "cell_type": "code",
   "execution_count": 3,
   "id": "1c539417",
   "metadata": {
    "_cell_guid": "79c7e3d0-c299-4dcb-8224-4455121ee9b0",
    "_uuid": "d629ff2d2480ee46fbb7e2d37f6b5fab8052498a",
    "execution": {
     "iopub.execute_input": "2022-10-29T08:52:44.061446Z",
     "iopub.status.busy": "2022-10-29T08:52:44.061143Z",
     "iopub.status.idle": "2022-10-29T08:52:47.783308Z",
     "shell.execute_reply": "2022-10-29T08:52:47.782017Z"
    },
    "papermill": {
     "duration": 3.731866,
     "end_time": "2022-10-29T08:52:47.788476",
     "exception": false,
     "start_time": "2022-10-29T08:52:44.056610",
     "status": "completed"
    },
    "tags": []
   },
   "outputs": [
    {
     "name": "stderr",
     "output_type": "stream",
     "text": [
      "/opt/conda/lib/python3.7/site-packages/IPython/core/interactiveshell.py:3552: FutureWarning: The error_bad_lines argument has been deprecated and will be removed in a future version.\n",
      "\n",
      "\n",
      "  exec(code_obj, self.user_global_ns, self.user_ns)\n",
      "/opt/conda/lib/python3.7/site-packages/IPython/core/interactiveshell.py:3552: DtypeWarning: Columns (21) have mixed types.Specify dtype option on import or set low_memory=False.\n",
      "  exec(code_obj, self.user_global_ns, self.user_ns)\n"
     ]
    },
    {
     "name": "stdout",
     "output_type": "stream",
     "text": [
      "(1050794, 3)\n"
     ]
    },
    {
     "data": {
      "text/html": [
       "<div>\n",
       "<style scoped>\n",
       "    .dataframe tbody tr th:only-of-type {\n",
       "        vertical-align: middle;\n",
       "    }\n",
       "\n",
       "    .dataframe tbody tr th {\n",
       "        vertical-align: top;\n",
       "    }\n",
       "\n",
       "    .dataframe thead th {\n",
       "        text-align: right;\n",
       "    }\n",
       "</style>\n",
       "<table border=\"1\" class=\"dataframe\">\n",
       "  <thead>\n",
       "    <tr style=\"text-align: right;\">\n",
       "      <th></th>\n",
       "      <th>sentence_idx</th>\n",
       "      <th>word</th>\n",
       "      <th>tag</th>\n",
       "    </tr>\n",
       "  </thead>\n",
       "  <tbody>\n",
       "    <tr>\n",
       "      <th>0</th>\n",
       "      <td>1</td>\n",
       "      <td>Thousands</td>\n",
       "      <td>O</td>\n",
       "    </tr>\n",
       "    <tr>\n",
       "      <th>1</th>\n",
       "      <td>1</td>\n",
       "      <td>of</td>\n",
       "      <td>O</td>\n",
       "    </tr>\n",
       "    <tr>\n",
       "      <th>2</th>\n",
       "      <td>1</td>\n",
       "      <td>demonstrators</td>\n",
       "      <td>O</td>\n",
       "    </tr>\n",
       "    <tr>\n",
       "      <th>3</th>\n",
       "      <td>1</td>\n",
       "      <td>have</td>\n",
       "      <td>O</td>\n",
       "    </tr>\n",
       "    <tr>\n",
       "      <th>4</th>\n",
       "      <td>1</td>\n",
       "      <td>marched</td>\n",
       "      <td>O</td>\n",
       "    </tr>\n",
       "  </tbody>\n",
       "</table>\n",
       "</div>"
      ],
      "text/plain": [
       "   sentence_idx           word tag\n",
       "0             1      Thousands   O\n",
       "1             1             of   O\n",
       "2             1  demonstrators   O\n",
       "3             1           have   O\n",
       "4             1        marched   O"
      ]
     },
     "execution_count": 3,
     "metadata": {},
     "output_type": "execute_result"
    }
   ],
   "source": [
    "data = pd.read_csv(\n",
    "    \"../input/entity-annotated-corpus/ner.csv\", encoding = \"ISO-8859-1\", error_bad_lines=False, \n",
    "    usecols=['sentence_idx', 'word', 'tag']\n",
    ")\n",
    "data  = data[data['sentence_idx'] != 'prev-lemma'].dropna(subset=['sentence_idx']).reset_index(drop=True)\n",
    "data['sentence_idx'] = data['sentence_idx'].apply(int)\n",
    "print(data.shape)\n",
    "data.head()"
   ]
  },
  {
   "cell_type": "code",
   "execution_count": 4,
   "id": "561aad8b",
   "metadata": {
    "execution": {
     "iopub.execute_input": "2022-10-29T08:52:47.799164Z",
     "iopub.status.busy": "2022-10-29T08:52:47.798880Z",
     "iopub.status.idle": "2022-10-29T08:52:48.289446Z",
     "shell.execute_reply": "2022-10-29T08:52:48.288528Z"
    },
    "papermill": {
     "duration": 0.498428,
     "end_time": "2022-10-29T08:52:48.291523",
     "exception": false,
     "start_time": "2022-10-29T08:52:47.793095",
     "status": "completed"
    },
    "tags": []
   },
   "outputs": [
    {
     "name": "stdout",
     "output_type": "stream",
     "text": [
      "Number of Sentences: 35177\n",
      "Maximum sequence length: 140\n",
      "Number of unique words: 30172\n"
     ]
    },
    {
     "data": {
      "image/png": "[encoded data removed]",
      "text/plain": [
       "<Figure size 1440x432 with 1 Axes>"
      ]
     },
     "metadata": {},
     "output_type": "display_data"
    }
   ],
   "source": [
    "fig, ax = plt.subplots(figsize=(20, 6))\n",
    "ax.hist(data['sentence_idx'].value_counts().values, bins=50)\n",
    "ax.set_title('Number of words in each Sentence')\n",
    "\n",
    "maxlen = np.max(data['sentence_idx'].value_counts().values)\n",
    "print('Number of Sentences:', data['sentence_idx'].nunique())\n",
    "print ('Maximum sequence length:', maxlen)\n",
    "\n",
    "words = list(set(data[\"word\"].values))\n",
    "n_words = len(words)\n",
    "print('Number of unique words:', n_words)"
   ]
  },
  {
   "cell_type": "code",
   "execution_count": 5,
   "id": "ba8ab882",
   "metadata": {
    "execution": {
     "iopub.execute_input": "2022-10-29T08:52:48.302290Z",
     "iopub.status.busy": "2022-10-29T08:52:48.302012Z",
     "iopub.status.idle": "2022-10-29T08:52:49.051973Z",
     "shell.execute_reply": "2022-10-29T08:52:49.050604Z"
    },
    "papermill": {
     "duration": 0.758259,
     "end_time": "2022-10-29T08:52:49.054458",
     "exception": false,
     "start_time": "2022-10-29T08:52:48.296199",
     "status": "completed"
    },
    "tags": []
   },
   "outputs": [
    {
     "name": "stdout",
     "output_type": "stream",
     "text": [
      "Number of unique Tags: 17\n"
     ]
    },
    {
     "data": {
      "image/png": "[encoded data removed]",
      "text/plain": [
       "<Figure size 1440x864 with 2 Axes>"
      ]
     },
     "metadata": {},
     "output_type": "display_data"
    }
   ],
   "source": [
    "fig, ax = plt.subplots(2, 1, figsize=(20, 12))\n",
    "data.tag.value_counts().plot.bar(ax=ax[0], title='Distribution of Tags')\n",
    "data[data.tag != 'O'].tag.value_counts().plot.bar(ax=ax[1], title='Distribution of non-O Tags')\n",
    "\n",
    "tags = list(set(data[\"tag\"].values))\n",
    "n_tags = len(tags)\n",
    "print('Number of unique Tags:', n_tags)"
   ]
  },
  {
   "cell_type": "markdown",
   "id": "dabc6549",
   "metadata": {
    "papermill": {
     "duration": 0.005644,
     "end_time": "2022-10-29T08:52:49.066258",
     "exception": false,
     "start_time": "2022-10-29T08:52:49.060614",
     "status": "completed"
    },
    "tags": []
   },
   "source": [
    "# Preprocessing"
   ]
  },
  {
   "cell_type": "code",
   "execution_count": 6,
   "id": "9e204a74",
   "metadata": {
    "execution": {
     "iopub.execute_input": "2022-10-29T08:52:49.079132Z",
     "iopub.status.busy": "2022-10-29T08:52:49.078806Z",
     "iopub.status.idle": "2022-10-29T08:52:50.520554Z",
     "shell.execute_reply": "2022-10-29T08:52:50.519656Z"
    },
    "papermill": {
     "duration": 1.450902,
     "end_time": "2022-10-29T08:52:50.522916",
     "exception": false,
     "start_time": "2022-10-29T08:52:49.072014",
     "status": "completed"
    },
    "tags": []
   },
   "outputs": [
    {
     "data": {
      "text/html": [
       "<div>\n",
       "<style scoped>\n",
       "    .dataframe tbody tr th:only-of-type {\n",
       "        vertical-align: middle;\n",
       "    }\n",
       "\n",
       "    .dataframe tbody tr th {\n",
       "        vertical-align: top;\n",
       "    }\n",
       "\n",
       "    .dataframe thead th {\n",
       "        text-align: right;\n",
       "    }\n",
       "</style>\n",
       "<table border=\"1\" class=\"dataframe\">\n",
       "  <thead>\n",
       "    <tr style=\"text-align: right;\">\n",
       "      <th></th>\n",
       "      <th>sentence_idx</th>\n",
       "      <th>word</th>\n",
       "      <th>tag</th>\n",
       "    </tr>\n",
       "  </thead>\n",
       "  <tbody>\n",
       "    <tr>\n",
       "      <th>0</th>\n",
       "      <td>1</td>\n",
       "      <td>Thousands</td>\n",
       "      <td>O</td>\n",
       "    </tr>\n",
       "    <tr>\n",
       "      <th>1</th>\n",
       "      <td>1</td>\n",
       "      <td>of</td>\n",
       "      <td>O</td>\n",
       "    </tr>\n",
       "    <tr>\n",
       "      <th>2</th>\n",
       "      <td>1</td>\n",
       "      <td>demonstrators</td>\n",
       "      <td>O</td>\n",
       "    </tr>\n",
       "    <tr>\n",
       "      <th>3</th>\n",
       "      <td>1</td>\n",
       "      <td>have</td>\n",
       "      <td>O</td>\n",
       "    </tr>\n",
       "    <tr>\n",
       "      <th>4</th>\n",
       "      <td>1</td>\n",
       "      <td>marched</td>\n",
       "      <td>O</td>\n",
       "    </tr>\n",
       "    <tr>\n",
       "      <th>5</th>\n",
       "      <td>1</td>\n",
       "      <td>through</td>\n",
       "      <td>O</td>\n",
       "    </tr>\n",
       "    <tr>\n",
       "      <th>6</th>\n",
       "      <td>1</td>\n",
       "      <td>London</td>\n",
       "      <td>B-geo</td>\n",
       "    </tr>\n",
       "    <tr>\n",
       "      <th>7</th>\n",
       "      <td>1</td>\n",
       "      <td>to</td>\n",
       "      <td>O</td>\n",
       "    </tr>\n",
       "    <tr>\n",
       "      <th>8</th>\n",
       "      <td>1</td>\n",
       "      <td>protest</td>\n",
       "      <td>O</td>\n",
       "    </tr>\n",
       "    <tr>\n",
       "      <th>9</th>\n",
       "      <td>1</td>\n",
       "      <td>the</td>\n",
       "      <td>O</td>\n",
       "    </tr>\n",
       "    <tr>\n",
       "      <th>10</th>\n",
       "      <td>1</td>\n",
       "      <td>war</td>\n",
       "      <td>O</td>\n",
       "    </tr>\n",
       "    <tr>\n",
       "      <th>11</th>\n",
       "      <td>1</td>\n",
       "      <td>in</td>\n",
       "      <td>O</td>\n",
       "    </tr>\n",
       "    <tr>\n",
       "      <th>12</th>\n",
       "      <td>1</td>\n",
       "      <td>Iraq</td>\n",
       "      <td>B-geo</td>\n",
       "    </tr>\n",
       "    <tr>\n",
       "      <th>13</th>\n",
       "      <td>1</td>\n",
       "      <td>and</td>\n",
       "      <td>O</td>\n",
       "    </tr>\n",
       "    <tr>\n",
       "      <th>14</th>\n",
       "      <td>1</td>\n",
       "      <td>demand</td>\n",
       "      <td>O</td>\n",
       "    </tr>\n",
       "    <tr>\n",
       "      <th>15</th>\n",
       "      <td>1</td>\n",
       "      <td>the</td>\n",
       "      <td>O</td>\n",
       "    </tr>\n",
       "    <tr>\n",
       "      <th>16</th>\n",
       "      <td>1</td>\n",
       "      <td>withdrawal</td>\n",
       "      <td>O</td>\n",
       "    </tr>\n",
       "    <tr>\n",
       "      <th>17</th>\n",
       "      <td>1</td>\n",
       "      <td>of</td>\n",
       "      <td>O</td>\n",
       "    </tr>\n",
       "    <tr>\n",
       "      <th>18</th>\n",
       "      <td>1</td>\n",
       "      <td>British</td>\n",
       "      <td>B-gpe</td>\n",
       "    </tr>\n",
       "    <tr>\n",
       "      <th>19</th>\n",
       "      <td>1</td>\n",
       "      <td>troops</td>\n",
       "      <td>O</td>\n",
       "    </tr>\n",
       "    <tr>\n",
       "      <th>20</th>\n",
       "      <td>1</td>\n",
       "      <td>from</td>\n",
       "      <td>O</td>\n",
       "    </tr>\n",
       "    <tr>\n",
       "      <th>21</th>\n",
       "      <td>1</td>\n",
       "      <td>that</td>\n",
       "      <td>O</td>\n",
       "    </tr>\n",
       "    <tr>\n",
       "      <th>22</th>\n",
       "      <td>1</td>\n",
       "      <td>country</td>\n",
       "      <td>O</td>\n",
       "    </tr>\n",
       "    <tr>\n",
       "      <th>23</th>\n",
       "      <td>1</td>\n",
       "      <td>.</td>\n",
       "      <td>O</td>\n",
       "    </tr>\n",
       "    <tr>\n",
       "      <th>24</th>\n",
       "      <td></td>\n",
       "      <td></td>\n",
       "      <td></td>\n",
       "    </tr>\n",
       "    <tr>\n",
       "      <th>25</th>\n",
       "      <td>2</td>\n",
       "      <td>Families</td>\n",
       "      <td>O</td>\n",
       "    </tr>\n",
       "    <tr>\n",
       "      <th>26</th>\n",
       "      <td>2</td>\n",
       "      <td>of</td>\n",
       "      <td>O</td>\n",
       "    </tr>\n",
       "    <tr>\n",
       "      <th>27</th>\n",
       "      <td>2</td>\n",
       "      <td>soldiers</td>\n",
       "      <td>O</td>\n",
       "    </tr>\n",
       "    <tr>\n",
       "      <th>28</th>\n",
       "      <td>2</td>\n",
       "      <td>killed</td>\n",
       "      <td>O</td>\n",
       "    </tr>\n",
       "    <tr>\n",
       "      <th>29</th>\n",
       "      <td>2</td>\n",
       "      <td>in</td>\n",
       "      <td>O</td>\n",
       "    </tr>\n",
       "  </tbody>\n",
       "</table>\n",
       "</div>"
      ],
      "text/plain": [
       "   sentence_idx           word    tag\n",
       "0             1      Thousands      O\n",
       "1             1             of      O\n",
       "2             1  demonstrators      O\n",
       "3             1           have      O\n",
       "4             1        marched      O\n",
       "5             1        through      O\n",
       "6             1         London  B-geo\n",
       "7             1             to      O\n",
       "8             1        protest      O\n",
       "9             1            the      O\n",
       "10            1            war      O\n",
       "11            1             in      O\n",
       "12            1           Iraq  B-geo\n",
       "13            1            and      O\n",
       "14            1         demand      O\n",
       "15            1            the      O\n",
       "16            1     withdrawal      O\n",
       "17            1             of      O\n",
       "18            1        British  B-gpe\n",
       "19            1         troops      O\n",
       "20            1           from      O\n",
       "21            1           that      O\n",
       "22            1        country      O\n",
       "23            1              .      O\n",
       "24                                   \n",
       "25            2       Families      O\n",
       "26            2             of      O\n",
       "27            2       soldiers      O\n",
       "28            2         killed      O\n",
       "29            2             in      O"
      ]
     },
     "execution_count": 6,
     "metadata": {},
     "output_type": "execute_result"
    }
   ],
   "source": [
    "mask = data['sentence_idx'].ne(data['sentence_idx'].shift(-1))\n",
    "data1 = pd.DataFrame('',index=mask.index[mask] + .5, columns=data.columns)\n",
    "\n",
    "data = pd.concat([data, data1]).sort_index().reset_index(drop=True).iloc[:-1]\n",
    "data[['word', 'tag']].to_csv('data.txt', sep=' ', index=False, header=False)\n",
    "data.head(30)"
   ]
  },
  {
   "cell_type": "markdown",
   "id": "15effb9d",
   "metadata": {
    "papermill": {
     "duration": 0.005572,
     "end_time": "2022-10-29T08:52:50.534368",
     "exception": false,
     "start_time": "2022-10-29T08:52:50.528796",
     "status": "completed"
    },
    "tags": []
   },
   "source": [
    "# Modelling"
   ]
  },
  {
   "cell_type": "code",
   "execution_count": 7,
   "id": "d95ffae7",
   "metadata": {
    "execution": {
     "iopub.execute_input": "2022-10-29T08:52:50.546174Z",
     "iopub.status.busy": "2022-10-29T08:52:50.545846Z",
     "iopub.status.idle": "2022-10-29T08:52:59.265363Z",
     "shell.execute_reply": "2022-10-29T08:52:59.264246Z"
    },
    "papermill": {
     "duration": 8.72877,
     "end_time": "2022-10-29T08:52:59.268428",
     "exception": false,
     "start_time": "2022-10-29T08:52:50.539658",
     "status": "completed"
    },
    "tags": []
   },
   "outputs": [],
   "source": [
    "from flair.data import Corpus, Sentence\n",
    "from flair.datasets import ColumnCorpus\n",
    "from flair.embeddings import WordEmbeddings, StackedEmbeddings, TokenEmbeddings\n",
    "from flair.models import SequenceTagger\n",
    "from flair.trainers import ModelTrainer\n",
    "from typing import List"
   ]
  },
  {
   "cell_type": "code",
   "execution_count": 8,
   "id": "4b79b73f",
   "metadata": {
    "execution": {
     "iopub.execute_input": "2022-10-29T08:52:59.282239Z",
     "iopub.status.busy": "2022-10-29T08:52:59.280700Z",
     "iopub.status.idle": "2022-10-29T08:53:15.750727Z",
     "shell.execute_reply": "2022-10-29T08:53:15.749737Z"
    },
    "papermill": {
     "duration": 16.479185,
     "end_time": "2022-10-29T08:53:15.753186",
     "exception": false,
     "start_time": "2022-10-29T08:52:59.274001",
     "status": "completed"
    },
    "tags": []
   },
   "outputs": [
    {
     "name": "stdout",
     "output_type": "stream",
     "text": [
      "2022-10-29 08:52:59,284 Reading data from /kaggle/working\n",
      "2022-10-29 08:52:59,285 Train: /kaggle/working/data.txt\n",
      "2022-10-29 08:52:59,286 Dev: None\n",
      "2022-10-29 08:52:59,287 Test: None\n"
     ]
    }
   ],
   "source": [
    "columns = {0 : 'text', 1 : 'tag'}\n",
    "data_folder = '/kaggle/working'\n",
    "\n",
    "corpus: Corpus = ColumnCorpus(data_folder, columns, train_file = 'data.txt')"
   ]
  },
  {
   "cell_type": "code",
   "execution_count": 9,
   "id": "6780ed2a",
   "metadata": {
    "execution": {
     "iopub.execute_input": "2022-10-29T08:53:15.768473Z",
     "iopub.status.busy": "2022-10-29T08:53:15.766727Z",
     "iopub.status.idle": "2022-10-29T08:53:17.365002Z",
     "shell.execute_reply": "2022-10-29T08:53:17.363670Z"
    },
    "papermill": {
     "duration": 1.608374,
     "end_time": "2022-10-29T08:53:17.367400",
     "exception": false,
     "start_time": "2022-10-29T08:53:15.759026",
     "status": "completed"
    },
    "tags": []
   },
   "outputs": [],
   "source": [
    "tag_type = 'tag'\n",
    "tag_dictionary = corpus.make_tag_dictionary(tag_type=tag_type)"
   ]
  },
  {
   "cell_type": "code",
   "execution_count": 10,
   "id": "f6036aac",
   "metadata": {
    "execution": {
     "iopub.execute_input": "2022-10-29T08:53:17.380202Z",
     "iopub.status.busy": "2022-10-29T08:53:17.379886Z",
     "iopub.status.idle": "2022-10-29T08:53:23.935486Z",
     "shell.execute_reply": "2022-10-29T08:53:23.934525Z"
    },
    "papermill": {
     "duration": 6.564795,
     "end_time": "2022-10-29T08:53:23.937931",
     "exception": false,
     "start_time": "2022-10-29T08:53:17.373136",
     "status": "completed"
    },
    "tags": []
   },
   "outputs": [
    {
     "name": "stdout",
     "output_type": "stream",
     "text": [
      "2022-10-29 08:53:17,564 https://flair.informatik.hu-berlin.de/resources/embeddings/token/glove.gensim.vectors.npy not found in cache, downloading to /tmp/tmpv1__1_d4\n"
     ]
    },
    {
     "name": "stderr",
     "output_type": "stream",
     "text": [
      "100%|██████████| 160000128/160000128 [00:04<00:00, 36503229.91B/s]"
     ]
    },
    {
     "name": "stdout",
     "output_type": "stream",
     "text": [
      "2022-10-29 08:53:22,114 copying /tmp/tmpv1__1_d4 to cache at /root/.flair/embeddings/glove.gensim.vectors.npy\n",
      "2022-10-29 08:53:22,288 removing temp file /tmp/tmpv1__1_d4\n"
     ]
    },
    {
     "name": "stderr",
     "output_type": "stream",
     "text": [
      "\n"
     ]
    },
    {
     "name": "stdout",
     "output_type": "stream",
     "text": [
      "2022-10-29 08:53:22,482 https://flair.informatik.hu-berlin.de/resources/embeddings/token/glove.gensim not found in cache, downloading to /tmp/tmpxgls8595\n"
     ]
    },
    {
     "name": "stderr",
     "output_type": "stream",
     "text": [
      "100%|██████████| 21494764/21494764 [00:00<00:00, 35022917.76B/s]"
     ]
    },
    {
     "name": "stdout",
     "output_type": "stream",
     "text": [
      "2022-10-29 08:53:23,269 copying /tmp/tmpxgls8595 to cache at /root/.flair/embeddings/glove.gensim\n",
      "2022-10-29 08:53:23,298 removing temp file /tmp/tmpxgls8595\n"
     ]
    },
    {
     "name": "stderr",
     "output_type": "stream",
     "text": [
      "\n"
     ]
    }
   ],
   "source": [
    "embedding_types : List[TokenEmbeddings] = [WordEmbeddings('glove')]\n",
    "embeddings : StackedEmbeddings = StackedEmbeddings(embeddings=embedding_types)"
   ]
  },
  {
   "cell_type": "code",
   "execution_count": 11,
   "id": "e4a026bd",
   "metadata": {
    "execution": {
     "iopub.execute_input": "2022-10-29T08:53:23.957396Z",
     "iopub.status.busy": "2022-10-29T08:53:23.955717Z",
     "iopub.status.idle": "2022-10-29T08:53:29.417572Z",
     "shell.execute_reply": "2022-10-29T08:53:29.416686Z"
    },
    "papermill": {
     "duration": 5.473804,
     "end_time": "2022-10-29T08:53:29.420269",
     "exception": false,
     "start_time": "2022-10-29T08:53:23.946465",
     "status": "completed"
    },
    "tags": []
   },
   "outputs": [
    {
     "name": "stdout",
     "output_type": "stream",
     "text": [
      "SequenceTagger(\n",
      "  (embeddings): StackedEmbeddings(\n",
      "    (list_embedding_0): WordEmbeddings('glove')\n",
      "  )\n",
      "  (word_dropout): WordDropout(p=0.05)\n",
      "  (locked_dropout): LockedDropout(p=0.5)\n",
      "  (embedding2nn): Linear(in_features=100, out_features=100, bias=True)\n",
      "  (rnn): LSTM(100, 256, batch_first=True, bidirectional=True)\n",
      "  (linear): Linear(in_features=512, out_features=20, bias=True)\n",
      "  (beta): 1.0\n",
      "  (weights): None\n",
      "  (weight_tensor) None\n",
      ")\n"
     ]
    }
   ],
   "source": [
    "tagger : SequenceTagger = SequenceTagger(\n",
    "    hidden_size=256, embeddings=embeddings, tag_dictionary=tag_dictionary, \n",
    "    tag_type=tag_type, use_crf=True\n",
    ")\n",
    "print(tagger)"
   ]
  },
  {
   "cell_type": "code",
   "execution_count": 12,
   "id": "21cefdd2",
   "metadata": {
    "execution": {
     "iopub.execute_input": "2022-10-29T08:53:29.448017Z",
     "iopub.status.busy": "2022-10-29T08:53:29.447529Z",
     "iopub.status.idle": "2022-10-29T09:20:58.224279Z",
     "shell.execute_reply": "2022-10-29T09:20:58.223085Z"
    },
    "papermill": {
     "duration": 1648.793303,
     "end_time": "2022-10-29T09:20:58.226919",
     "exception": false,
     "start_time": "2022-10-29T08:53:29.433616",
     "status": "completed"
    },
    "tags": []
   },
   "outputs": [
    {
     "name": "stdout",
     "output_type": "stream",
     "text": [
      "2022-10-29 08:53:29,451 ----------------------------------------------------------------------------------------------------\n",
      "2022-10-29 08:53:29,452 Model: \"SequenceTagger(\n",
      "  (embeddings): StackedEmbeddings(\n",
      "    (list_embedding_0): WordEmbeddings('glove')\n",
      "  )\n",
      "  (word_dropout): WordDropout(p=0.05)\n",
      "  (locked_dropout): LockedDropout(p=0.5)\n",
      "  (embedding2nn): Linear(in_features=100, out_features=100, bias=True)\n",
      "  (rnn): LSTM(100, 256, batch_first=True, bidirectional=True)\n",
      "  (linear): Linear(in_features=512, out_features=20, bias=True)\n",
      "  (beta): 1.0\n",
      "  (weights): None\n",
      "  (weight_tensor) None\n",
      ")\"\n",
      "2022-10-29 08:53:29,453 ----------------------------------------------------------------------------------------------------\n",
      "2022-10-29 08:53:29,454 Corpus: \"Corpus: 38947 train + 4328 dev + 4808 test sentences\"\n",
      "2022-10-29 08:53:29,455 ----------------------------------------------------------------------------------------------------\n",
      "2022-10-29 08:53:29,456 Parameters:\n",
      "2022-10-29 08:53:29,457  - learning_rate: \"0.1\"\n",
      "2022-10-29 08:53:29,457  - mini_batch_size: \"32\"\n",
      "2022-10-29 08:53:29,458  - patience: \"3\"\n",
      "2022-10-29 08:53:29,459  - anneal_factor: \"0.5\"\n",
      "2022-10-29 08:53:29,463  - max_epochs: \"15\"\n",
      "2022-10-29 08:53:29,463  - shuffle: \"True\"\n",
      "2022-10-29 08:53:29,464  - train_with_dev: \"False\"\n",
      "2022-10-29 08:53:29,465  - batch_growth_annealing: \"False\"\n",
      "2022-10-29 08:53:29,465 ----------------------------------------------------------------------------------------------------\n",
      "2022-10-29 08:53:29,466 Model training base path: \"model\"\n",
      "2022-10-29 08:53:29,468 ----------------------------------------------------------------------------------------------------\n",
      "2022-10-29 08:53:29,469 Device: cuda:0\n",
      "2022-10-29 08:53:29,470 ----------------------------------------------------------------------------------------------------\n",
      "2022-10-29 08:53:29,472 Embeddings storage mode: cpu\n",
      "2022-10-29 08:53:29,473 ----------------------------------------------------------------------------------------------------\n",
      "2022-10-29 08:53:40,677 epoch 1 - iter 121/1218 - loss 0.65308564 - samples/sec: 346.12 - lr: 0.100000\n",
      "2022-10-29 08:53:50,281 epoch 1 - iter 242/1218 - loss 0.51860262 - samples/sec: 403.90 - lr: 0.100000\n",
      "2022-10-29 08:54:00,097 epoch 1 - iter 363/1218 - loss 0.45823139 - samples/sec: 395.04 - lr: 0.100000\n",
      "2022-10-29 08:54:10,129 epoch 1 - iter 484/1218 - loss 0.41994190 - samples/sec: 386.55 - lr: 0.100000\n",
      "2022-10-29 08:54:22,001 epoch 1 - iter 605/1218 - loss 0.39165061 - samples/sec: 326.53 - lr: 0.100000\n",
      "2022-10-29 08:54:31,832 epoch 1 - iter 726/1218 - loss 0.36951120 - samples/sec: 394.43 - lr: 0.100000\n",
      "2022-10-29 08:54:41,971 epoch 1 - iter 847/1218 - loss 0.35196516 - samples/sec: 382.66 - lr: 0.100000\n",
      "2022-10-29 08:54:51,842 epoch 1 - iter 968/1218 - loss 0.33763222 - samples/sec: 392.83 - lr: 0.100000\n",
      "2022-10-29 08:55:01,715 epoch 1 - iter 1089/1218 - loss 0.32481675 - samples/sec: 392.73 - lr: 0.100000\n",
      "2022-10-29 08:55:11,738 epoch 1 - iter 1210/1218 - loss 0.31512835 - samples/sec: 386.94 - lr: 0.100000\n",
      "2022-10-29 08:55:12,323 ----------------------------------------------------------------------------------------------------\n",
      "2022-10-29 08:55:12,324 EPOCH 1 done: loss 0.3146 - lr 0.1000000\n",
      "2022-10-29 08:55:26,791 DEV : loss 0.14690713584423065 - f1-score (micro avg)  0.7335\n",
      "2022-10-29 08:55:27,006 BAD EPOCHS (no improvement): 0\n",
      "2022-10-29 08:55:27,007 saving best model\n",
      "2022-10-29 08:55:30,743 ----------------------------------------------------------------------------------------------------\n",
      "2022-10-29 08:55:40,313 epoch 2 - iter 121/1218 - loss 0.22136972 - samples/sec: 405.49 - lr: 0.100000\n",
      "2022-10-29 08:55:49,551 epoch 2 - iter 242/1218 - loss 0.21556715 - samples/sec: 419.94 - lr: 0.100000\n",
      "2022-10-29 08:55:58,624 epoch 2 - iter 363/1218 - loss 0.21207792 - samples/sec: 427.58 - lr: 0.100000\n",
      "2022-10-29 08:56:07,751 epoch 2 - iter 484/1218 - loss 0.21121545 - samples/sec: 425.05 - lr: 0.100000\n",
      "2022-10-29 08:56:17,154 epoch 2 - iter 605/1218 - loss 0.20979123 - samples/sec: 412.56 - lr: 0.100000\n",
      "2022-10-29 08:56:26,460 epoch 2 - iter 726/1218 - loss 0.20857100 - samples/sec: 416.84 - lr: 0.100000\n",
      "2022-10-29 08:56:35,666 epoch 2 - iter 847/1218 - loss 0.20723879 - samples/sec: 421.41 - lr: 0.100000\n",
      "2022-10-29 08:56:45,193 epoch 2 - iter 968/1218 - loss 0.20531818 - samples/sec: 407.18 - lr: 0.100000\n",
      "2022-10-29 08:56:54,338 epoch 2 - iter 1089/1218 - loss 0.20412085 - samples/sec: 424.23 - lr: 0.100000\n",
      "2022-10-29 08:57:03,456 epoch 2 - iter 1210/1218 - loss 0.20259061 - samples/sec: 425.49 - lr: 0.100000\n",
      "2022-10-29 08:57:04,027 ----------------------------------------------------------------------------------------------------\n",
      "2022-10-29 08:57:04,029 EPOCH 2 done: loss 0.2027 - lr 0.1000000\n",
      "2022-10-29 08:57:15,069 DEV : loss 0.11791553348302841 - f1-score (micro avg)  0.7678\n",
      "2022-10-29 08:57:15,282 BAD EPOCHS (no improvement): 0\n",
      "2022-10-29 08:57:15,283 saving best model\n",
      "2022-10-29 08:57:19,144 ----------------------------------------------------------------------------------------------------\n",
      "2022-10-29 08:57:28,465 epoch 3 - iter 121/1218 - loss 0.18479202 - samples/sec: 416.43 - lr: 0.100000\n",
      "2022-10-29 08:57:37,598 epoch 3 - iter 242/1218 - loss 0.18488831 - samples/sec: 424.74 - lr: 0.100000\n",
      "2022-10-29 08:57:47,581 epoch 3 - iter 363/1218 - loss 0.18443146 - samples/sec: 388.65 - lr: 0.100000\n",
      "2022-10-29 08:57:56,905 epoch 3 - iter 484/1218 - loss 0.18462352 - samples/sec: 416.23 - lr: 0.100000\n",
      "2022-10-29 08:58:06,253 epoch 3 - iter 605/1218 - loss 0.18421201 - samples/sec: 415.08 - lr: 0.100000\n",
      "2022-10-29 08:58:15,745 epoch 3 - iter 726/1218 - loss 0.18387797 - samples/sec: 408.71 - lr: 0.100000\n",
      "2022-10-29 08:58:25,109 epoch 3 - iter 847/1218 - loss 0.18253697 - samples/sec: 414.58 - lr: 0.100000\n",
      "2022-10-29 08:58:34,438 epoch 3 - iter 968/1218 - loss 0.18189444 - samples/sec: 415.92 - lr: 0.100000\n",
      "2022-10-29 08:58:43,605 epoch 3 - iter 1089/1218 - loss 0.18117049 - samples/sec: 423.19 - lr: 0.100000\n",
      "2022-10-29 08:58:53,433 epoch 3 - iter 1210/1218 - loss 0.18107805 - samples/sec: 394.74 - lr: 0.100000\n",
      "2022-10-29 08:58:53,977 ----------------------------------------------------------------------------------------------------\n",
      "2022-10-29 08:58:53,979 EPOCH 3 done: loss 0.1810 - lr 0.1000000\n",
      "2022-10-29 08:59:04,642 DEV : loss 0.10945311933755875 - f1-score (micro avg)  0.7768\n",
      "2022-10-29 08:59:04,854 BAD EPOCHS (no improvement): 0\n",
      "2022-10-29 08:59:04,855 saving best model\n",
      "2022-10-29 08:59:08,647 ----------------------------------------------------------------------------------------------------\n",
      "2022-10-29 08:59:17,779 epoch 4 - iter 121/1218 - loss 0.17117134 - samples/sec: 425.01 - lr: 0.100000\n",
      "2022-10-29 08:59:27,314 epoch 4 - iter 242/1218 - loss 0.17223449 - samples/sec: 406.86 - lr: 0.100000\n",
      "2022-10-29 08:59:36,219 epoch 4 - iter 363/1218 - loss 0.17197204 - samples/sec: 435.69 - lr: 0.100000\n",
      "2022-10-29 08:59:45,328 epoch 4 - iter 484/1218 - loss 0.17188639 - samples/sec: 425.86 - lr: 0.100000\n",
      "2022-10-29 08:59:54,970 epoch 4 - iter 605/1218 - loss 0.17084734 - samples/sec: 402.33 - lr: 0.100000\n",
      "2022-10-29 09:00:04,188 epoch 4 - iter 726/1218 - loss 0.17047610 - samples/sec: 420.89 - lr: 0.100000\n",
      "2022-10-29 09:00:13,404 epoch 4 - iter 847/1218 - loss 0.17023925 - samples/sec: 420.98 - lr: 0.100000\n",
      "2022-10-29 09:00:22,802 epoch 4 - iter 968/1218 - loss 0.16979595 - samples/sec: 412.75 - lr: 0.100000\n",
      "2022-10-29 09:00:32,212 epoch 4 - iter 1089/1218 - loss 0.16918746 - samples/sec: 412.39 - lr: 0.100000\n",
      "2022-10-29 09:00:41,168 epoch 4 - iter 1210/1218 - loss 0.16880743 - samples/sec: 433.19 - lr: 0.100000\n",
      "2022-10-29 09:00:41,755 ----------------------------------------------------------------------------------------------------\n",
      "2022-10-29 09:00:41,756 EPOCH 4 done: loss 0.1688 - lr 0.1000000\n",
      "2022-10-29 09:00:56,675 DEV : loss 0.10053560882806778 - f1-score (micro avg)  0.7911\n",
      "2022-10-29 09:00:56,888 BAD EPOCHS (no improvement): 0\n",
      "2022-10-29 09:00:56,889 saving best model\n",
      "2022-10-29 09:01:00,678 ----------------------------------------------------------------------------------------------------\n",
      "2022-10-29 09:01:09,944 epoch 5 - iter 121/1218 - loss 0.16576681 - samples/sec: 418.98 - lr: 0.100000\n",
      "2022-10-29 09:01:19,104 epoch 5 - iter 242/1218 - loss 0.16581103 - samples/sec: 423.52 - lr: 0.100000\n",
      "2022-10-29 09:01:28,826 epoch 5 - iter 363/1218 - loss 0.16342523 - samples/sec: 398.99 - lr: 0.100000\n",
      "2022-10-29 09:01:37,981 epoch 5 - iter 484/1218 - loss 0.16230661 - samples/sec: 423.76 - lr: 0.100000\n",
      "2022-10-29 09:01:46,761 epoch 5 - iter 605/1218 - loss 0.16200915 - samples/sec: 441.83 - lr: 0.100000\n",
      "2022-10-29 09:01:55,936 epoch 5 - iter 726/1218 - loss 0.16219355 - samples/sec: 422.87 - lr: 0.100000\n",
      "2022-10-29 09:02:05,674 epoch 5 - iter 847/1218 - loss 0.16217296 - samples/sec: 398.41 - lr: 0.100000\n",
      "2022-10-29 09:02:15,064 epoch 5 - iter 968/1218 - loss 0.16194624 - samples/sec: 413.19 - lr: 0.100000\n",
      "2022-10-29 09:02:24,342 epoch 5 - iter 1089/1218 - loss 0.16220358 - samples/sec: 418.17 - lr: 0.100000\n",
      "2022-10-29 09:02:33,975 epoch 5 - iter 1210/1218 - loss 0.16193526 - samples/sec: 402.76 - lr: 0.100000\n",
      "2022-10-29 09:02:34,535 ----------------------------------------------------------------------------------------------------\n",
      "2022-10-29 09:02:34,536 EPOCH 5 done: loss 0.1619 - lr 0.1000000\n",
      "2022-10-29 09:02:45,484 DEV : loss 0.09658769518136978 - f1-score (micro avg)  0.786\n",
      "2022-10-29 09:02:45,699 BAD EPOCHS (no improvement): 1\n",
      "2022-10-29 09:02:45,700 ----------------------------------------------------------------------------------------------------\n",
      "2022-10-29 09:02:55,003 epoch 6 - iter 121/1218 - loss 0.15779632 - samples/sec: 417.20 - lr: 0.100000\n",
      "2022-10-29 09:03:04,495 epoch 6 - iter 242/1218 - loss 0.15874863 - samples/sec: 408.73 - lr: 0.100000\n",
      "2022-10-29 09:03:13,669 epoch 6 - iter 363/1218 - loss 0.15773159 - samples/sec: 422.87 - lr: 0.100000\n",
      "2022-10-29 09:03:22,759 epoch 6 - iter 484/1218 - loss 0.15713041 - samples/sec: 426.75 - lr: 0.100000\n",
      "2022-10-29 09:03:32,070 epoch 6 - iter 605/1218 - loss 0.15761121 - samples/sec: 416.65 - lr: 0.100000\n",
      "2022-10-29 09:03:41,834 epoch 6 - iter 726/1218 - loss 0.15759297 - samples/sec: 397.30 - lr: 0.100000\n",
      "2022-10-29 09:03:51,003 epoch 6 - iter 847/1218 - loss 0.15777209 - samples/sec: 423.08 - lr: 0.100000\n",
      "2022-10-29 09:03:59,879 epoch 6 - iter 968/1218 - loss 0.15727913 - samples/sec: 437.11 - lr: 0.100000\n",
      "2022-10-29 09:04:09,630 epoch 6 - iter 1089/1218 - loss 0.15740465 - samples/sec: 397.81 - lr: 0.100000\n",
      "2022-10-29 09:04:18,668 epoch 6 - iter 1210/1218 - loss 0.15692994 - samples/sec: 429.23 - lr: 0.100000\n",
      "2022-10-29 09:04:19,247 ----------------------------------------------------------------------------------------------------\n",
      "2022-10-29 09:04:19,249 EPOCH 6 done: loss 0.1570 - lr 0.1000000\n",
      "2022-10-29 09:04:30,193 DEV : loss 0.0955037847161293 - f1-score (micro avg)  0.7964\n",
      "2022-10-29 09:04:30,408 BAD EPOCHS (no improvement): 0\n",
      "2022-10-29 09:04:30,409 saving best model\n",
      "2022-10-29 09:04:34,391 ----------------------------------------------------------------------------------------------------\n",
      "2022-10-29 09:04:43,787 epoch 7 - iter 121/1218 - loss 0.15740093 - samples/sec: 413.15 - lr: 0.100000\n",
      "2022-10-29 09:04:52,891 epoch 7 - iter 242/1218 - loss 0.15556625 - samples/sec: 426.13 - lr: 0.100000\n",
      "2022-10-29 09:05:02,022 epoch 7 - iter 363/1218 - loss 0.15324245 - samples/sec: 424.88 - lr: 0.100000\n",
      "2022-10-29 09:05:11,508 epoch 7 - iter 484/1218 - loss 0.15300642 - samples/sec: 408.98 - lr: 0.100000\n",
      "2022-10-29 09:05:20,625 epoch 7 - iter 605/1218 - loss 0.15236512 - samples/sec: 425.51 - lr: 0.100000\n",
      "2022-10-29 09:05:29,804 epoch 7 - iter 726/1218 - loss 0.15258939 - samples/sec: 422.63 - lr: 0.100000\n",
      "2022-10-29 09:05:38,893 epoch 7 - iter 847/1218 - loss 0.15321004 - samples/sec: 426.83 - lr: 0.100000\n",
      "2022-10-29 09:05:48,542 epoch 7 - iter 968/1218 - loss 0.15297031 - samples/sec: 402.04 - lr: 0.100000\n",
      "2022-10-29 09:05:57,603 epoch 7 - iter 1089/1218 - loss 0.15315147 - samples/sec: 428.17 - lr: 0.100000\n",
      "2022-10-29 09:06:06,858 epoch 7 - iter 1210/1218 - loss 0.15317620 - samples/sec: 419.16 - lr: 0.100000\n",
      "2022-10-29 09:06:07,439 ----------------------------------------------------------------------------------------------------\n",
      "2022-10-29 09:06:07,440 EPOCH 7 done: loss 0.1532 - lr 0.1000000\n",
      "2022-10-29 09:06:22,502 DEV : loss 0.09215839207172394 - f1-score (micro avg)  0.7949\n",
      "2022-10-29 09:06:22,719 BAD EPOCHS (no improvement): 1\n",
      "2022-10-29 09:06:22,720 ----------------------------------------------------------------------------------------------------\n",
      "2022-10-29 09:06:32,003 epoch 8 - iter 121/1218 - loss 0.15034253 - samples/sec: 418.12 - lr: 0.100000\n",
      "2022-10-29 09:06:41,324 epoch 8 - iter 242/1218 - loss 0.15111779 - samples/sec: 416.16 - lr: 0.100000\n",
      "2022-10-29 09:06:50,923 epoch 8 - iter 363/1218 - loss 0.15053427 - samples/sec: 404.13 - lr: 0.100000\n",
      "2022-10-29 09:07:00,005 epoch 8 - iter 484/1218 - loss 0.14996637 - samples/sec: 427.13 - lr: 0.100000\n",
      "2022-10-29 09:07:09,108 epoch 8 - iter 605/1218 - loss 0.15043501 - samples/sec: 426.19 - lr: 0.100000\n",
      "2022-10-29 09:07:18,589 epoch 8 - iter 726/1218 - loss 0.15029252 - samples/sec: 409.15 - lr: 0.100000\n",
      "2022-10-29 09:07:27,625 epoch 8 - iter 847/1218 - loss 0.15013881 - samples/sec: 429.67 - lr: 0.100000\n",
      "2022-10-29 09:07:36,741 epoch 8 - iter 968/1218 - loss 0.14968038 - samples/sec: 425.58 - lr: 0.100000\n",
      "2022-10-29 09:07:45,873 epoch 8 - iter 1089/1218 - loss 0.14970316 - samples/sec: 424.79 - lr: 0.100000\n",
      "2022-10-29 09:07:55,504 epoch 8 - iter 1210/1218 - loss 0.14978730 - samples/sec: 402.81 - lr: 0.100000\n",
      "2022-10-29 09:07:56,048 ----------------------------------------------------------------------------------------------------\n",
      "2022-10-29 09:07:56,049 EPOCH 8 done: loss 0.1499 - lr 0.1000000\n",
      "2022-10-29 09:08:07,120 DEV : loss 0.0906711220741272 - f1-score (micro avg)  0.8012\n",
      "2022-10-29 09:08:07,340 BAD EPOCHS (no improvement): 0\n",
      "2022-10-29 09:08:07,341 saving best model\n",
      "2022-10-29 09:08:11,175 ----------------------------------------------------------------------------------------------------\n",
      "2022-10-29 09:08:20,766 epoch 9 - iter 121/1218 - loss 0.14841562 - samples/sec: 404.66 - lr: 0.100000\n",
      "2022-10-29 09:08:29,904 epoch 9 - iter 242/1218 - loss 0.15024224 - samples/sec: 424.53 - lr: 0.100000\n",
      "2022-10-29 09:08:39,033 epoch 9 - iter 363/1218 - loss 0.14887657 - samples/sec: 424.98 - lr: 0.100000\n",
      "2022-10-29 09:08:47,988 epoch 9 - iter 484/1218 - loss 0.14804738 - samples/sec: 433.23 - lr: 0.100000\n",
      "2022-10-29 09:08:57,517 epoch 9 - iter 605/1218 - loss 0.14781121 - samples/sec: 407.10 - lr: 0.100000\n",
      "2022-10-29 09:09:06,552 epoch 9 - iter 726/1218 - loss 0.14810475 - samples/sec: 429.38 - lr: 0.100000\n",
      "2022-10-29 09:09:15,630 epoch 9 - iter 847/1218 - loss 0.14790010 - samples/sec: 427.38 - lr: 0.100000\n",
      "2022-10-29 09:09:25,242 epoch 9 - iter 968/1218 - loss 0.14746078 - samples/sec: 403.58 - lr: 0.100000\n",
      "2022-10-29 09:09:34,477 epoch 9 - iter 1089/1218 - loss 0.14756143 - samples/sec: 420.09 - lr: 0.100000\n",
      "2022-10-29 09:09:43,609 epoch 9 - iter 1210/1218 - loss 0.14745582 - samples/sec: 424.80 - lr: 0.100000\n",
      "2022-10-29 09:09:44,147 ----------------------------------------------------------------------------------------------------\n",
      "2022-10-29 09:09:44,149 EPOCH 9 done: loss 0.1474 - lr 0.1000000\n",
      "2022-10-29 09:09:55,436 DEV : loss 0.09292657673358917 - f1-score (micro avg)  0.8006\n",
      "2022-10-29 09:09:55,726 BAD EPOCHS (no improvement): 1\n",
      "2022-10-29 09:09:55,727 ----------------------------------------------------------------------------------------------------\n",
      "2022-10-29 09:10:04,926 epoch 10 - iter 121/1218 - loss 0.14709965 - samples/sec: 421.90 - lr: 0.100000\n",
      "2022-10-29 09:10:13,846 epoch 10 - iter 242/1218 - loss 0.14475494 - samples/sec: 434.93 - lr: 0.100000\n",
      "2022-10-29 09:10:22,947 epoch 10 - iter 363/1218 - loss 0.14515034 - samples/sec: 426.24 - lr: 0.100000\n",
      "2022-10-29 09:10:32,709 epoch 10 - iter 484/1218 - loss 0.14606895 - samples/sec: 397.45 - lr: 0.100000\n",
      "2022-10-29 09:10:42,105 epoch 10 - iter 605/1218 - loss 0.14607032 - samples/sec: 412.99 - lr: 0.100000\n",
      "2022-10-29 09:10:51,230 epoch 10 - iter 726/1218 - loss 0.14579417 - samples/sec: 425.16 - lr: 0.100000\n",
      "2022-10-29 09:11:00,939 epoch 10 - iter 847/1218 - loss 0.14570409 - samples/sec: 399.51 - lr: 0.100000\n",
      "2022-10-29 09:11:09,972 epoch 10 - iter 968/1218 - loss 0.14571947 - samples/sec: 429.49 - lr: 0.100000\n",
      "2022-10-29 09:11:18,921 epoch 10 - iter 1089/1218 - loss 0.14543426 - samples/sec: 433.52 - lr: 0.100000\n",
      "2022-10-29 09:11:28,048 epoch 10 - iter 1210/1218 - loss 0.14559530 - samples/sec: 425.03 - lr: 0.100000\n",
      "2022-10-29 09:11:28,647 ----------------------------------------------------------------------------------------------------\n",
      "2022-10-29 09:11:28,649 EPOCH 10 done: loss 0.1455 - lr 0.1000000\n",
      "2022-10-29 09:11:43,714 DEV : loss 0.08743876218795776 - f1-score (micro avg)  0.8095\n",
      "2022-10-29 09:11:43,927 BAD EPOCHS (no improvement): 0\n",
      "2022-10-29 09:11:43,928 saving best model\n",
      "2022-10-29 09:11:47,724 ----------------------------------------------------------------------------------------------------\n",
      "2022-10-29 09:11:56,850 epoch 11 - iter 121/1218 - loss 0.14432212 - samples/sec: 425.34 - lr: 0.100000\n",
      "2022-10-29 09:12:06,235 epoch 11 - iter 242/1218 - loss 0.14363510 - samples/sec: 413.36 - lr: 0.100000\n",
      "2022-10-29 09:12:15,166 epoch 11 - iter 363/1218 - loss 0.14427232 - samples/sec: 434.41 - lr: 0.100000\n",
      "2022-10-29 09:12:24,254 epoch 11 - iter 484/1218 - loss 0.14473285 - samples/sec: 426.87 - lr: 0.100000\n",
      "2022-10-29 09:12:33,276 epoch 11 - iter 605/1218 - loss 0.14395294 - samples/sec: 430.02 - lr: 0.100000\n",
      "2022-10-29 09:12:42,964 epoch 11 - iter 726/1218 - loss 0.14361502 - samples/sec: 400.45 - lr: 0.100000\n",
      "2022-10-29 09:12:52,132 epoch 11 - iter 847/1218 - loss 0.14431465 - samples/sec: 423.14 - lr: 0.100000\n",
      "2022-10-29 09:13:01,231 epoch 11 - iter 968/1218 - loss 0.14385096 - samples/sec: 426.37 - lr: 0.100000\n",
      "2022-10-29 09:13:11,050 epoch 11 - iter 1089/1218 - loss 0.14354775 - samples/sec: 395.08 - lr: 0.100000\n",
      "2022-10-29 09:13:19,933 epoch 11 - iter 1210/1218 - loss 0.14381874 - samples/sec: 436.71 - lr: 0.100000\n",
      "2022-10-29 09:13:20,494 ----------------------------------------------------------------------------------------------------\n",
      "2022-10-29 09:13:20,495 EPOCH 11 done: loss 0.1439 - lr 0.1000000\n",
      "2022-10-29 09:13:31,442 DEV : loss 0.08634443581104279 - f1-score (micro avg)  0.8051\n",
      "2022-10-29 09:13:31,659 BAD EPOCHS (no improvement): 1\n",
      "2022-10-29 09:13:31,660 ----------------------------------------------------------------------------------------------------\n",
      "2022-10-29 09:13:41,348 epoch 12 - iter 121/1218 - loss 0.14096152 - samples/sec: 400.58 - lr: 0.100000\n",
      "2022-10-29 09:13:50,447 epoch 12 - iter 242/1218 - loss 0.14155650 - samples/sec: 426.34 - lr: 0.100000\n",
      "2022-10-29 09:13:59,403 epoch 12 - iter 363/1218 - loss 0.14305780 - samples/sec: 433.16 - lr: 0.100000\n",
      "2022-10-29 09:14:08,477 epoch 12 - iter 484/1218 - loss 0.14342913 - samples/sec: 427.56 - lr: 0.100000\n",
      "2022-10-29 09:14:17,923 epoch 12 - iter 605/1218 - loss 0.14338274 - samples/sec: 410.69 - lr: 0.100000\n",
      "2022-10-29 09:14:26,825 epoch 12 - iter 726/1218 - loss 0.14332974 - samples/sec: 435.75 - lr: 0.100000\n",
      "2022-10-29 09:14:35,929 epoch 12 - iter 847/1218 - loss 0.14346349 - samples/sec: 426.13 - lr: 0.100000\n",
      "2022-10-29 09:14:45,454 epoch 12 - iter 968/1218 - loss 0.14276277 - samples/sec: 407.32 - lr: 0.100000\n",
      "2022-10-29 09:14:54,835 epoch 12 - iter 1089/1218 - loss 0.14288366 - samples/sec: 413.65 - lr: 0.100000\n",
      "2022-10-29 09:15:04,129 epoch 12 - iter 1210/1218 - loss 0.14278593 - samples/sec: 417.43 - lr: 0.100000\n",
      "2022-10-29 09:15:04,683 ----------------------------------------------------------------------------------------------------\n",
      "2022-10-29 09:15:04,685 EPOCH 12 done: loss 0.1428 - lr 0.1000000\n",
      "2022-10-29 09:15:16,121 DEV : loss 0.08586610108613968 - f1-score (micro avg)  0.8091\n",
      "2022-10-29 09:15:16,337 BAD EPOCHS (no improvement): 2\n",
      "2022-10-29 09:15:16,338 ----------------------------------------------------------------------------------------------------\n",
      "2022-10-29 09:15:25,430 epoch 13 - iter 121/1218 - loss 0.13910299 - samples/sec: 426.93 - lr: 0.100000\n",
      "2022-10-29 09:15:34,512 epoch 13 - iter 242/1218 - loss 0.14013983 - samples/sec: 427.12 - lr: 0.100000\n",
      "2022-10-29 09:15:43,196 epoch 13 - iter 363/1218 - loss 0.14059433 - samples/sec: 446.75 - lr: 0.100000\n",
      "2022-10-29 09:15:52,832 epoch 13 - iter 484/1218 - loss 0.14139250 - samples/sec: 402.56 - lr: 0.100000\n",
      "2022-10-29 09:16:02,032 epoch 13 - iter 605/1218 - loss 0.14221881 - samples/sec: 421.70 - lr: 0.100000\n",
      "2022-10-29 09:16:11,207 epoch 13 - iter 726/1218 - loss 0.14185923 - samples/sec: 422.84 - lr: 0.100000\n",
      "2022-10-29 09:16:20,995 epoch 13 - iter 847/1218 - loss 0.14182364 - samples/sec: 396.37 - lr: 0.100000\n",
      "2022-10-29 09:16:30,373 epoch 13 - iter 968/1218 - loss 0.14173381 - samples/sec: 413.65 - lr: 0.100000\n",
      "2022-10-29 09:16:39,631 epoch 13 - iter 1089/1218 - loss 0.14143858 - samples/sec: 419.00 - lr: 0.100000\n",
      "2022-10-29 09:16:49,122 epoch 13 - iter 1210/1218 - loss 0.14146659 - samples/sec: 408.87 - lr: 0.100000\n",
      "2022-10-29 09:16:49,713 ----------------------------------------------------------------------------------------------------\n",
      "2022-10-29 09:16:49,714 EPOCH 13 done: loss 0.1414 - lr 0.1000000\n",
      "2022-10-29 09:17:04,590 DEV : loss 0.08555937558412552 - f1-score (micro avg)  0.8097\n",
      "2022-10-29 09:17:04,813 BAD EPOCHS (no improvement): 0\n",
      "2022-10-29 09:17:04,814 saving best model\n",
      "2022-10-29 09:17:08,653 ----------------------------------------------------------------------------------------------------\n",
      "2022-10-29 09:17:18,116 epoch 14 - iter 121/1218 - loss 0.14217186 - samples/sec: 410.13 - lr: 0.100000\n",
      "2022-10-29 09:17:27,975 epoch 14 - iter 242/1218 - loss 0.13969324 - samples/sec: 393.51 - lr: 0.100000\n",
      "2022-10-29 09:17:37,219 epoch 14 - iter 363/1218 - loss 0.13829316 - samples/sec: 419.66 - lr: 0.100000\n",
      "2022-10-29 09:17:46,474 epoch 14 - iter 484/1218 - loss 0.13867290 - samples/sec: 419.17 - lr: 0.100000\n",
      "2022-10-29 09:17:55,925 epoch 14 - iter 605/1218 - loss 0.13907543 - samples/sec: 410.54 - lr: 0.100000\n",
      "2022-10-29 09:18:05,058 epoch 14 - iter 726/1218 - loss 0.13936282 - samples/sec: 424.73 - lr: 0.100000\n",
      "2022-10-29 09:18:14,350 epoch 14 - iter 847/1218 - loss 0.13936097 - samples/sec: 417.55 - lr: 0.100000\n",
      "2022-10-29 09:18:23,986 epoch 14 - iter 968/1218 - loss 0.13956683 - samples/sec: 402.61 - lr: 0.100000\n",
      "2022-10-29 09:18:33,279 epoch 14 - iter 1089/1218 - loss 0.13943399 - samples/sec: 417.55 - lr: 0.100000\n",
      "2022-10-29 09:18:42,358 epoch 14 - iter 1210/1218 - loss 0.13998740 - samples/sec: 427.25 - lr: 0.100000\n",
      "2022-10-29 09:18:42,930 ----------------------------------------------------------------------------------------------------\n",
      "2022-10-29 09:18:42,931 EPOCH 14 done: loss 0.1400 - lr 0.1000000\n",
      "2022-10-29 09:18:53,958 DEV : loss 0.08265560865402222 - f1-score (micro avg)  0.809\n",
      "2022-10-29 09:18:54,176 BAD EPOCHS (no improvement): 1\n",
      "2022-10-29 09:18:54,177 ----------------------------------------------------------------------------------------------------\n",
      "2022-10-29 09:19:03,929 epoch 15 - iter 121/1218 - loss 0.13728457 - samples/sec: 398.03 - lr: 0.100000\n",
      "2022-10-29 09:19:13,064 epoch 15 - iter 242/1218 - loss 0.13949602 - samples/sec: 424.73 - lr: 0.100000\n",
      "2022-10-29 09:19:22,120 epoch 15 - iter 363/1218 - loss 0.13983723 - samples/sec: 428.40 - lr: 0.100000\n",
      "2022-10-29 09:19:31,870 epoch 15 - iter 484/1218 - loss 0.13925552 - samples/sec: 397.88 - lr: 0.100000\n",
      "2022-10-29 09:19:40,991 epoch 15 - iter 605/1218 - loss 0.13921211 - samples/sec: 425.29 - lr: 0.100000\n",
      "2022-10-29 09:19:50,060 epoch 15 - iter 726/1218 - loss 0.13960657 - samples/sec: 427.76 - lr: 0.100000\n",
      "2022-10-29 09:19:59,471 epoch 15 - iter 847/1218 - loss 0.13938762 - samples/sec: 412.20 - lr: 0.100000\n",
      "2022-10-29 09:20:08,463 epoch 15 - iter 968/1218 - loss 0.13960653 - samples/sec: 431.57 - lr: 0.100000\n",
      "2022-10-29 09:20:17,324 epoch 15 - iter 1089/1218 - loss 0.13954533 - samples/sec: 437.96 - lr: 0.100000\n",
      "2022-10-29 09:20:26,463 epoch 15 - iter 1210/1218 - loss 0.13965648 - samples/sec: 424.50 - lr: 0.100000\n",
      "2022-10-29 09:20:27,025 ----------------------------------------------------------------------------------------------------\n",
      "2022-10-29 09:20:27,026 EPOCH 15 done: loss 0.1397 - lr 0.1000000\n",
      "2022-10-29 09:20:38,561 DEV : loss 0.08424486219882965 - f1-score (micro avg)  0.808\n",
      "2022-10-29 09:20:38,777 BAD EPOCHS (no improvement): 2\n",
      "2022-10-29 09:20:42,697 ----------------------------------------------------------------------------------------------------\n",
      "2022-10-29 09:20:42,698 loading file model/best-model.pt\n",
      "2022-10-29 09:20:58,190 0.8177\t0.7881\t0.8026\t0.7098\n",
      "2022-10-29 09:20:58,191 \n",
      "Results:\n",
      "- F-score (micro) 0.8026\n",
      "- F-score (macro) 0.5697\n",
      "- Accuracy 0.7098\n",
      "\n",
      "By class:\n",
      "              precision    recall  f1-score   support\n",
      "\n",
      "         geo     0.8016    0.8943    0.8454      3840\n",
      "         tim     0.8616    0.8465    0.8540      2045\n",
      "         org     0.7472    0.4889    0.5911      2031\n",
      "         per     0.7433    0.7469    0.7451      1632\n",
      "         gpe     0.9538    0.9201    0.9366      1614\n",
      "         art     0.0000    0.0000    0.0000        52\n",
      "         eve     0.6923    0.3000    0.4186        30\n",
      "         nat     0.1500    0.1875    0.1667        16\n",
      "\n",
      "   micro avg     0.8177    0.7881    0.8026     11260\n",
      "   macro avg     0.6187    0.5480    0.5697     11260\n",
      "weighted avg     0.8111    0.7881    0.7936     11260\n",
      " samples avg     0.7098    0.7098    0.7098     11260\n",
      "\n",
      "2022-10-29 09:20:58,192 ----------------------------------------------------------------------------------------------------\n"
     ]
    },
    {
     "data": {
      "text/plain": [
       "{'test_score': 0.8026410998552822,\n",
       " 'dev_score_history': [0.7334781917430706,\n",
       "  0.7677969671440606,\n",
       "  0.7768363050371678,\n",
       "  0.7910667955435722,\n",
       "  0.7860455737043758,\n",
       "  0.7963900726999247,\n",
       "  0.7949001104306797,\n",
       "  0.801228167312629,\n",
       "  0.800636975394257,\n",
       "  0.8094923522536713,\n",
       "  0.8050881816338942,\n",
       "  0.8091456320501795,\n",
       "  0.8096847414880202,\n",
       "  0.8089740357953114,\n",
       "  0.8080148646612765],\n",
       " 'train_loss_history': [0.3145581403008123,\n",
       "  0.20273664403324168,\n",
       "  0.18102583892129,\n",
       "  0.1688068945311955,\n",
       "  0.16189696742324727,\n",
       "  0.15696338804227528,\n",
       "  0.15318389416734884,\n",
       "  0.14986303789887928,\n",
       "  0.14737668103761614,\n",
       "  0.14547155659231642,\n",
       "  0.1438866057395162,\n",
       "  0.14281666999373144,\n",
       "  0.14142348921112438,\n",
       "  0.1400354316857311,\n",
       "  0.13968781860646165],\n",
       " 'dev_loss_history': [tensor(0.1469, device='cuda:0'),\n",
       "  tensor(0.1179, device='cuda:0'),\n",
       "  tensor(0.1095, device='cuda:0'),\n",
       "  tensor(0.1005, device='cuda:0'),\n",
       "  tensor(0.0966, device='cuda:0'),\n",
       "  tensor(0.0955, device='cuda:0'),\n",
       "  tensor(0.0922, device='cuda:0'),\n",
       "  tensor(0.0907, device='cuda:0'),\n",
       "  tensor(0.0929, device='cuda:0'),\n",
       "  tensor(0.0874, device='cuda:0'),\n",
       "  tensor(0.0863, device='cuda:0'),\n",
       "  tensor(0.0859, device='cuda:0'),\n",
       "  tensor(0.0856, device='cuda:0'),\n",
       "  tensor(0.0827, device='cuda:0'),\n",
       "  tensor(0.0842, device='cuda:0')]}"
      ]
     },
     "execution_count": 12,
     "metadata": {},
     "output_type": "execute_result"
    }
   ],
   "source": [
    "trainer : ModelTrainer = ModelTrainer(tagger, corpus)\n",
    "trainer.train('model', learning_rate=0.1, mini_batch_size=32, max_epochs=15)"
   ]
  },
  {
   "cell_type": "code",
   "execution_count": 13,
   "id": "97dfc7a1",
   "metadata": {
    "execution": {
     "iopub.execute_input": "2022-10-29T09:20:58.270947Z",
     "iopub.status.busy": "2022-10-29T09:20:58.270080Z",
     "iopub.status.idle": "2022-10-29T09:20:59.688792Z",
     "shell.execute_reply": "2022-10-29T09:20:59.687853Z"
    },
    "papermill": {
     "duration": 1.442763,
     "end_time": "2022-10-29T09:20:59.690860",
     "exception": false,
     "start_time": "2022-10-29T09:20:58.248097",
     "status": "completed"
    },
    "tags": []
   },
   "outputs": [
    {
     "name": "stdout",
     "output_type": "stream",
     "text": [
      "2022-10-29 09:20:58,273 loading file model/final-model.pt\n",
      "I love India <B-geo>\n"
     ]
    }
   ],
   "source": [
    "model = SequenceTagger.load('model/final-model.pt')\n",
    "\n",
    "sentence = Sentence('I love India')\n",
    "\n",
    "model.predict(sentence)\n",
    "print(sentence.to_tagged_string())"
   ]
  },
  {
   "cell_type": "code",
   "execution_count": null,
   "id": "17f37229",
   "metadata": {
    "papermill": {
     "duration": 0.020648,
     "end_time": "2022-10-29T09:20:59.732687",
     "exception": false,
     "start_time": "2022-10-29T09:20:59.712039",
     "status": "completed"
    },
    "tags": []
   },
   "outputs": [],
   "source": []
  }
 ],
 "metadata": {
  "kernelspec": {
   "display_name": "Python 3",
   "language": "python",
   "name": "python3"
  },
  "language_info": {
   "codemirror_mode": {
    "name": "ipython",
    "version": 3
   },
   "file_extension": ".py",
   "mimetype": "text/x-python",
   "name": "python",
   "nbconvert_exporter": "python",
   "pygments_lexer": "ipython3",
   "version": "3.7.12"
  },
  "papermill": {
   "default_parameters": {},
   "duration": 1747.890921,
   "end_time": "2022-10-29T09:21:03.082261",
   "environment_variables": {},
   "exception": null,
   "input_path": "__notebook__.ipynb",
   "output_path": "__notebook__.ipynb",
   "parameters": {},
   "start_time": "2022-10-29T08:51:55.191340",
   "version": "2.3.4"
  }
 },
 "nbformat": 4,
 "nbformat_minor": 5
}
