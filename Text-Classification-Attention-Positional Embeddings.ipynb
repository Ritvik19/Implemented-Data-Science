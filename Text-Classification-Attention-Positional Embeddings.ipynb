{
 "cells": [
  {
   "cell_type": "code",
   "execution_count": 1,
   "id": "26fccaee",
   "metadata": {
    "_cell_guid": "b1076dfc-b9ad-4769-8c92-a6c4dae69d19",
    "_uuid": "8f2839f25d086af736a60e9eeb907d3b93b6e0e5",
    "execution": {
     "iopub.execute_input": "2021-12-19T16:09:49.139945Z",
     "iopub.status.busy": "2021-12-19T16:09:49.138453Z",
     "iopub.status.idle": "2021-12-19T16:09:54.361724Z",
     "shell.execute_reply": "2021-12-19T16:09:54.360638Z",
     "shell.execute_reply.started": "2021-12-19T16:07:29.870867Z"
    },
    "papermill": {
     "duration": 5.237743,
     "end_time": "2021-12-19T16:09:54.361904",
     "exception": false,
     "start_time": "2021-12-19T16:09:49.124161",
     "status": "completed"
    },
    "tags": []
   },
   "outputs": [],
   "source": [
    "import numpy as np\n",
    "import pandas as pd\n",
    "from sklearn.datasets import fetch_20newsgroups\n",
    "from sklearn.model_selection import train_test_split\n",
    "\n",
    "import tensorflow as tf\n",
    "from tensorflow import keras\n",
    "from tensorflow.keras import layers as L\n",
    "from keras.preprocessing import sequence\n",
    "from keras.preprocessing.text import Tokenizer"
   ]
  },
  {
   "cell_type": "code",
   "execution_count": 2,
   "id": "af75e32b",
   "metadata": {
    "execution": {
     "iopub.execute_input": "2021-12-19T16:09:54.387153Z",
     "iopub.status.busy": "2021-12-19T16:09:54.386298Z",
     "iopub.status.idle": "2021-12-19T16:10:03.208723Z",
     "shell.execute_reply": "2021-12-19T16:10:03.208218Z",
     "shell.execute_reply.started": "2021-12-19T16:07:35.496110Z"
    },
    "papermill": {
     "duration": 8.837006,
     "end_time": "2021-12-19T16:10:03.208862",
     "exception": false,
     "start_time": "2021-12-19T16:09:54.371856",
     "status": "completed"
    },
    "tags": []
   },
   "outputs": [],
   "source": [
    "dataset = fetch_20newsgroups(subset='all')\n",
    "\n",
    "X = pd.Series(dataset['data'])\n",
    "y = pd.Series(dataset['target'])\n",
    "X_train, X_valid, y_train, y_valid = train_test_split(X, y, test_size=0.1, stratify=y, random_state=19)\n",
    "y_train = pd.get_dummies(y_train)\n",
    "y_valid = pd.get_dummies(y_valid)"
   ]
  },
  {
   "cell_type": "code",
   "execution_count": 3,
   "id": "74dbaf5c",
   "metadata": {
    "execution": {
     "iopub.execute_input": "2021-12-19T16:10:03.238949Z",
     "iopub.status.busy": "2021-12-19T16:10:03.237998Z",
     "iopub.status.idle": "2021-12-19T16:10:03.239866Z",
     "shell.execute_reply": "2021-12-19T16:10:03.240363Z",
     "shell.execute_reply.started": "2021-12-19T16:07:46.137032Z"
    },
    "papermill": {
     "duration": 0.021347,
     "end_time": "2021-12-19T16:10:03.240526",
     "exception": false,
     "start_time": "2021-12-19T16:10:03.219179",
     "status": "completed"
    },
    "tags": []
   },
   "outputs": [],
   "source": [
    "class PositionalEmbedding(L.Layer):\n",
    "    def __init__(self, sequence_length, input_dim, output_dim, **kwargs):\n",
    "        super().__init__(**kwargs)\n",
    "        self.token_embeddings = L.Embedding(input_dim, output_dim)\n",
    "        self.position_embeddings = L.Embedding(sequence_length, output_dim)\n",
    "        self.sequence_length = sequence_length\n",
    "        self.input_dim = input_dim\n",
    "        self.output_dim = output_dim\n",
    "        \n",
    "    def call(self, inputs):\n",
    "        length = tf.shape(inputs)[-1]\n",
    "        positions = tf.range(start=0, limit=length, delta=1)\n",
    "        embedded_tokens = self.token_embeddings(inputs)\n",
    "        embedded_positions = self.position_embeddings(positions)\n",
    "        return embedded_tokens + embedded_positions\n",
    "        \n",
    "    def get_config(self):\n",
    "        config = super().get_config()\n",
    "        config.update({\n",
    "            \"output_dim\": self.output_dim,\n",
    "            \"sequence_length\": self.sequence_length,\n",
    "            \"input_dim\": self.input_dim,\n",
    "        })\n",
    "        return config"
   ]
  },
  {
   "cell_type": "code",
   "execution_count": 4,
   "id": "7f6b524e",
   "metadata": {
    "execution": {
     "iopub.execute_input": "2021-12-19T16:10:03.271752Z",
     "iopub.status.busy": "2021-12-19T16:10:03.271001Z",
     "iopub.status.idle": "2021-12-19T16:10:03.273385Z",
     "shell.execute_reply": "2021-12-19T16:10:03.272972Z",
     "shell.execute_reply.started": "2021-12-19T16:07:46.149062Z"
    },
    "papermill": {
     "duration": 0.022923,
     "end_time": "2021-12-19T16:10:03.273519",
     "exception": false,
     "start_time": "2021-12-19T16:10:03.250596",
     "status": "completed"
    },
    "tags": []
   },
   "outputs": [],
   "source": [
    "class TransformerEncoder(L.Layer):\n",
    "    def __init__(self, embed_dim, dense_dim, num_heads, **kwargs):\n",
    "        super().__init__(**kwargs)\n",
    "        self.embed_dim = embed_dim\n",
    "        self.dense_dim = dense_dim\n",
    "        self.num_heads = num_heads\n",
    "        self.attention = L.MultiHeadAttention(num_heads=num_heads, key_dim=embed_dim)\n",
    "        self.dense_proj = keras.Sequential([L.Dense(dense_dim, activation='relu'), L.Dense(embed_dim)])\n",
    "        self.layernorm1 = L.LayerNormalization()\n",
    "        self.layernorm2 = L.LayerNormalization()\n",
    "    \n",
    "    def call(self, inputs, mask=None):\n",
    "        if mask is not None:\n",
    "            mask = mask[: tf.newaxis, :]\n",
    "        attention_output = self.attention(inputs, inputs, attention_mask=mask)\n",
    "        proj_input = self.layernorm1(inputs + attention_output)\n",
    "        proj_output = self.dense_proj(proj_input)\n",
    "        return self.layernorm2(proj_input + proj_output)\n",
    "    \n",
    "    def get_config(self):\n",
    "        config = super().get_confog()\n",
    "        config.update({\n",
    "            \"embed_dim\": self.embed_dim,\n",
    "            \"num_heads\": self.num_heads,\n",
    "            \"dense_dim\": self.dense_dim\n",
    "        })\n",
    "        return config"
   ]
  },
  {
   "cell_type": "code",
   "execution_count": 5,
   "id": "8ed39fa8",
   "metadata": {
    "execution": {
     "iopub.execute_input": "2021-12-19T16:10:03.297374Z",
     "iopub.status.busy": "2021-12-19T16:10:03.295583Z",
     "iopub.status.idle": "2021-12-19T16:10:03.298192Z",
     "shell.execute_reply": "2021-12-19T16:10:03.298735Z",
     "shell.execute_reply.started": "2021-12-19T16:07:46.179928Z"
    },
    "papermill": {
     "duration": 0.016128,
     "end_time": "2021-12-19T16:10:03.298873",
     "exception": false,
     "start_time": "2021-12-19T16:10:03.282745",
     "status": "completed"
    },
    "tags": []
   },
   "outputs": [],
   "source": [
    "vocab_size = 10_000\n",
    "embed_dim = 256\n",
    "num_heads = 2\n",
    "dense_dim = 32\n",
    "seq_length = 256"
   ]
  },
  {
   "cell_type": "code",
   "execution_count": 6,
   "id": "e556a466",
   "metadata": {
    "execution": {
     "iopub.execute_input": "2021-12-19T16:10:03.345839Z",
     "iopub.status.busy": "2021-12-19T16:10:03.345078Z",
     "iopub.status.idle": "2021-12-19T16:10:11.337442Z",
     "shell.execute_reply": "2021-12-19T16:10:11.336579Z",
     "shell.execute_reply.started": "2021-12-19T16:07:46.189685Z"
    },
    "papermill": {
     "duration": 8.029605,
     "end_time": "2021-12-19T16:10:11.337605",
     "exception": false,
     "start_time": "2021-12-19T16:10:03.308000",
     "status": "completed"
    },
    "tags": []
   },
   "outputs": [],
   "source": [
    "tokenizer = Tokenizer(num_words=vocab_size, oov_token='<unw>')\n",
    "tokenizer.fit_on_texts(X_train)\n",
    "X_train = tokenizer.texts_to_sequences(X_train)\n",
    "X_train = sequence.pad_sequences(X_train, maxlen=seq_length)\n",
    "X_valid = tokenizer.texts_to_sequences(X_valid)\n",
    "X_valid = sequence.pad_sequences(X_valid, maxlen=seq_length)"
   ]
  },
  {
   "cell_type": "code",
   "execution_count": 7,
   "id": "ef46acef",
   "metadata": {
    "execution": {
     "iopub.execute_input": "2021-12-19T16:10:11.359275Z",
     "iopub.status.busy": "2021-12-19T16:10:11.358514Z",
     "iopub.status.idle": "2021-12-19T16:10:13.953380Z",
     "shell.execute_reply": "2021-12-19T16:10:13.954474Z",
     "shell.execute_reply.started": "2021-12-19T16:07:54.105332Z"
    },
    "papermill": {
     "duration": 2.607633,
     "end_time": "2021-12-19T16:10:13.954692",
     "exception": false,
     "start_time": "2021-12-19T16:10:11.347059",
     "status": "completed"
    },
    "tags": []
   },
   "outputs": [
    {
     "name": "stderr",
     "output_type": "stream",
     "text": [
      "2021-12-19 16:10:11.494473: I tensorflow/stream_executor/cuda/cuda_gpu_executor.cc:937] successful NUMA node read from SysFS had negative value (-1), but there must be at least one NUMA node, so returning NUMA node zero\n",
      "2021-12-19 16:10:11.585570: I tensorflow/stream_executor/cuda/cuda_gpu_executor.cc:937] successful NUMA node read from SysFS had negative value (-1), but there must be at least one NUMA node, so returning NUMA node zero\n",
      "2021-12-19 16:10:11.586280: I tensorflow/stream_executor/cuda/cuda_gpu_executor.cc:937] successful NUMA node read from SysFS had negative value (-1), but there must be at least one NUMA node, so returning NUMA node zero\n",
      "2021-12-19 16:10:11.587406: I tensorflow/core/platform/cpu_feature_guard.cc:142] This TensorFlow binary is optimized with oneAPI Deep Neural Network Library (oneDNN) to use the following CPU instructions in performance-critical operations:  AVX2 AVX512F FMA\n",
      "To enable them in other operations, rebuild TensorFlow with the appropriate compiler flags.\n",
      "2021-12-19 16:10:11.588411: I tensorflow/stream_executor/cuda/cuda_gpu_executor.cc:937] successful NUMA node read from SysFS had negative value (-1), but there must be at least one NUMA node, so returning NUMA node zero\n",
      "2021-12-19 16:10:11.589061: I tensorflow/stream_executor/cuda/cuda_gpu_executor.cc:937] successful NUMA node read from SysFS had negative value (-1), but there must be at least one NUMA node, so returning NUMA node zero\n",
      "2021-12-19 16:10:11.589714: I tensorflow/stream_executor/cuda/cuda_gpu_executor.cc:937] successful NUMA node read from SysFS had negative value (-1), but there must be at least one NUMA node, so returning NUMA node zero\n",
      "2021-12-19 16:10:13.255833: I tensorflow/stream_executor/cuda/cuda_gpu_executor.cc:937] successful NUMA node read from SysFS had negative value (-1), but there must be at least one NUMA node, so returning NUMA node zero\n",
      "2021-12-19 16:10:13.256590: I tensorflow/stream_executor/cuda/cuda_gpu_executor.cc:937] successful NUMA node read from SysFS had negative value (-1), but there must be at least one NUMA node, so returning NUMA node zero\n",
      "2021-12-19 16:10:13.257245: I tensorflow/stream_executor/cuda/cuda_gpu_executor.cc:937] successful NUMA node read from SysFS had negative value (-1), but there must be at least one NUMA node, so returning NUMA node zero\n",
      "2021-12-19 16:10:13.257896: I tensorflow/core/common_runtime/gpu/gpu_device.cc:1510] Created device /job:localhost/replica:0/task:0/device:GPU:0 with 15403 MB memory:  -> device: 0, name: Tesla P100-PCIE-16GB, pci bus id: 0000:00:04.0, compute capability: 6.0\n"
     ]
    }
   ],
   "source": [
    "inputs = keras.Input(shape=(None, ), dtype=\"int64\")\n",
    "x = PositionalEmbedding(seq_length, vocab_size, embed_dim)(inputs)\n",
    "# x = L.Embedding(vocab_size, embed_dim)(inputs)\n",
    "x = TransformerEncoder(embed_dim, dense_dim, num_heads)(x)\n",
    "x = L.GlobalMaxPooling1D()(x)\n",
    "x = L.Dropout(0.5)(x)\n",
    "outputs = L.Dense(20, activation='softmax')(x)\n",
    "\n",
    "model = keras.Model(inputs, outputs)\n",
    "model.compile(optimizer='adam', loss='categorical_crossentropy', metrics=['accuracy'])"
   ]
  },
  {
   "cell_type": "code",
   "execution_count": 8,
   "id": "ed45fa9c",
   "metadata": {
    "execution": {
     "iopub.execute_input": "2021-12-19T16:10:13.997346Z",
     "iopub.status.busy": "2021-12-19T16:10:13.996577Z",
     "iopub.status.idle": "2021-12-19T16:10:14.002849Z",
     "shell.execute_reply": "2021-12-19T16:10:14.003782Z",
     "shell.execute_reply.started": "2021-12-19T16:07:57.059649Z"
    },
    "papermill": {
     "duration": 0.0329,
     "end_time": "2021-12-19T16:10:14.004003",
     "exception": false,
     "start_time": "2021-12-19T16:10:13.971103",
     "status": "completed"
    },
    "tags": []
   },
   "outputs": [
    {
     "name": "stdout",
     "output_type": "stream",
     "text": [
      "Model: \"model\"\n",
      "_________________________________________________________________\n",
      "Layer (type)                 Output Shape              Param #   \n",
      "=================================================================\n",
      "input_1 (InputLayer)         [(None, None)]            0         \n",
      "_________________________________________________________________\n",
      "positional_embedding (Positi (None, None, 256)         2625536   \n",
      "_________________________________________________________________\n",
      "transformer_encoder (Transfo (None, None, 256)         543776    \n",
      "_________________________________________________________________\n",
      "global_max_pooling1d (Global (None, 256)               0         \n",
      "_________________________________________________________________\n",
      "dropout (Dropout)            (None, 256)               0         \n",
      "_________________________________________________________________\n",
      "dense_2 (Dense)              (None, 20)                5140      \n",
      "=================================================================\n",
      "Total params: 3,174,452\n",
      "Trainable params: 3,174,452\n",
      "Non-trainable params: 0\n",
      "_________________________________________________________________\n"
     ]
    }
   ],
   "source": [
    "model.summary()"
   ]
  },
  {
   "cell_type": "code",
   "execution_count": 9,
   "id": "d0ac21e7",
   "metadata": {
    "execution": {
     "iopub.execute_input": "2021-12-19T16:10:14.045169Z",
     "iopub.status.busy": "2021-12-19T16:10:14.044318Z",
     "iopub.status.idle": "2021-12-19T16:10:14.046546Z",
     "shell.execute_reply": "2021-12-19T16:10:14.045886Z",
     "shell.execute_reply.started": "2021-12-19T16:07:57.071427Z"
    },
    "papermill": {
     "duration": 0.025324,
     "end_time": "2021-12-19T16:10:14.046697",
     "exception": false,
     "start_time": "2021-12-19T16:10:14.021373",
     "status": "completed"
    },
    "tags": []
   },
   "outputs": [],
   "source": [
    "es = keras.callbacks.EarlyStopping(verbose=1, patience=5, restore_best_weights=True)\n",
    "rlp = keras.callbacks.ReduceLROnPlateau(patience=3, verbose=1)"
   ]
  },
  {
   "cell_type": "code",
   "execution_count": 10,
   "id": "1e78138a",
   "metadata": {
    "execution": {
     "iopub.execute_input": "2021-12-19T16:10:14.085749Z",
     "iopub.status.busy": "2021-12-19T16:10:14.085003Z",
     "iopub.status.idle": "2021-12-19T16:11:24.580862Z",
     "shell.execute_reply": "2021-12-19T16:11:24.580210Z",
     "shell.execute_reply.started": "2021-12-19T16:07:57.083924Z"
    },
    "papermill": {
     "duration": 70.517879,
     "end_time": "2021-12-19T16:11:24.581035",
     "exception": false,
     "start_time": "2021-12-19T16:10:14.063156",
     "status": "completed"
    },
    "tags": []
   },
   "outputs": [
    {
     "name": "stderr",
     "output_type": "stream",
     "text": [
      "2021-12-19 16:10:14.184312: I tensorflow/compiler/mlir/mlir_graph_optimization_pass.cc:185] None of the MLIR Optimization Passes are enabled (registered 2)\n"
     ]
    },
    {
     "name": "stdout",
     "output_type": "stream",
     "text": [
      "Epoch 1/100\n",
      "  4/531 [..............................] - ETA: 9s - loss: 7.4060 - accuracy: 0.0625   "
     ]
    },
    {
     "name": "stderr",
     "output_type": "stream",
     "text": [
      "2021-12-19 16:10:16.860267: I tensorflow/stream_executor/cuda/cuda_dnn.cc:369] Loaded cuDNN version 8005\n"
     ]
    },
    {
     "name": "stdout",
     "output_type": "stream",
     "text": [
      "531/531 [==============================] - 13s 19ms/step - loss: 2.4169 - accuracy: 0.3453 - val_loss: 0.8037 - val_accuracy: 0.7660\n",
      "Epoch 2/100\n",
      "531/531 [==============================] - 10s 18ms/step - loss: 0.6872 - accuracy: 0.8008 - val_loss: 0.4825 - val_accuracy: 0.8605\n",
      "Epoch 3/100\n",
      "531/531 [==============================] - 10s 18ms/step - loss: 0.2896 - accuracy: 0.9106 - val_loss: 0.4973 - val_accuracy: 0.8706\n",
      "Epoch 4/100\n",
      "531/531 [==============================] - 10s 18ms/step - loss: 0.1254 - accuracy: 0.9623 - val_loss: 0.5556 - val_accuracy: 0.8658\n",
      "Epoch 5/100\n",
      "531/531 [==============================] - 10s 18ms/step - loss: 0.0676 - accuracy: 0.9805 - val_loss: 0.5893 - val_accuracy: 0.8610\n",
      "\n",
      "Epoch 00005: ReduceLROnPlateau reducing learning rate to 0.00010000000474974513.\n",
      "Epoch 6/100\n",
      "531/531 [==============================] - 10s 18ms/step - loss: 0.0268 - accuracy: 0.9929 - val_loss: 0.5678 - val_accuracy: 0.8790\n",
      "Epoch 7/100\n",
      "531/531 [==============================] - 10s 18ms/step - loss: 0.0159 - accuracy: 0.9959 - val_loss: 0.5692 - val_accuracy: 0.8844\n",
      "Restoring model weights from the end of the best epoch.\n",
      "Epoch 00007: early stopping\n"
     ]
    }
   ],
   "source": [
    "history = model.fit(X_train, y_train, validation_data=(X_valid, y_valid),\n",
    "    callbacks=[es, rlp], epochs=100\n",
    ")"
   ]
  },
  {
   "cell_type": "code",
   "execution_count": 11,
   "id": "f367c90d",
   "metadata": {
    "execution": {
     "iopub.execute_input": "2021-12-19T16:11:25.265659Z",
     "iopub.status.busy": "2021-12-19T16:11:25.264964Z",
     "iopub.status.idle": "2021-12-19T16:11:37.982548Z",
     "shell.execute_reply": "2021-12-19T16:11:37.982992Z",
     "shell.execute_reply.started": "2021-12-19T16:09:17.294329Z"
    },
    "papermill": {
     "duration": 13.059663,
     "end_time": "2021-12-19T16:11:37.983135",
     "exception": false,
     "start_time": "2021-12-19T16:11:24.923472",
     "status": "completed"
    },
    "tags": []
   },
   "outputs": [
    {
     "data": {
      "image/png": "[encoded data removed]",
      "text/plain": [
       "<Figure size 1440x864 with 2 Axes>"
      ]
     },
     "metadata": {},
     "output_type": "display_data"
    }
   ],
   "source": [
    "import matplotlib.pyplot as plt\n",
    "import seaborn as sns\n",
    "sns.set_style('darkgrid')\n",
    "\n",
    "history = pd.DataFrame(history.history)\n",
    "fig, ax = plt.subplots(2, 1, figsize=(20, 12))\n",
    "fig.suptitle('Learning Curve', fontsize=24)\n",
    "history[['loss', 'val_loss']].plot(ax=ax[0])\n",
    "history[['accuracy', 'val_accuracy']].plot(ax=ax[1])\n",
    "ax[0].set_title('Loss', fontsize=18)\n",
    "ax[1].set_title('Accuarcy', fontsize=18);"
   ]
  },
  {
   "cell_type": "code",
   "execution_count": null,
   "id": "2d5d3cb1",
   "metadata": {
    "papermill": {
     "duration": 0.332559,
     "end_time": "2021-12-19T16:11:38.647933",
     "exception": false,
     "start_time": "2021-12-19T16:11:38.315374",
     "status": "completed"
    },
    "tags": []
   },
   "outputs": [],
   "source": []
  }
 ],
 "metadata": {
  "kernelspec": {
   "display_name": "Python 3",
   "language": "python",
   "name": "python3"
  },
  "language_info": {
   "codemirror_mode": {
    "name": "ipython",
    "version": 3
   },
   "file_extension": ".py",
   "mimetype": "text/x-python",
   "name": "python",
   "nbconvert_exporter": "python",
   "pygments_lexer": "ipython3",
   "version": "3.8.8"
  },
  "papermill": {
   "default_parameters": {},
   "duration": 121.32808,
   "end_time": "2021-12-19T16:11:42.508557",
   "environment_variables": {},
   "exception": null,
   "input_path": "__notebook__.ipynb",
   "output_path": "__notebook__.ipynb",
   "parameters": {},
   "start_time": "2021-12-19T16:09:41.180477",
   "version": "2.3.3"
  }
 },
 "nbformat": 4,
 "nbformat_minor": 5
}
