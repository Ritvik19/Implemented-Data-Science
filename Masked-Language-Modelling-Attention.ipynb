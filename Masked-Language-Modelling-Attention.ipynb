{
 "cells": [
  {
   "cell_type": "code",
   "execution_count": 1,
   "metadata": {
    "_kg_hide-output": true,
    "execution": {
     "iopub.execute_input": "2021-12-24T17:14:51.250634Z",
     "iopub.status.busy": "2021-12-24T17:14:51.249888Z",
     "iopub.status.idle": "2021-12-24T17:15:03.219573Z",
     "shell.execute_reply": "2021-12-24T17:15:03.218691Z",
     "shell.execute_reply.started": "2021-12-24T17:14:51.250546Z"
    }
   },
   "outputs": [
    {
     "name": "stdout",
     "output_type": "stream",
     "text": [
      "Collecting clean-text\n",
      "  Downloading clean_text-0.5.0-py3-none-any.whl (9.8 kB)\n",
      "Requirement already satisfied: emoji in /opt/conda/lib/python3.7/site-packages (from clean-text) (1.6.1)\n",
      "Collecting ftfy<7.0,>=6.0\n",
      "  Downloading ftfy-6.0.3.tar.gz (64 kB)\n",
      "     |████████████████████████████████| 64 kB 306 kB/s            \n",
      "\u001b[?25h  Preparing metadata (setup.py) ... \u001b[?25ldone\n",
      "\u001b[?25hRequirement already satisfied: wcwidth in /opt/conda/lib/python3.7/site-packages (from ftfy<7.0,>=6.0->clean-text) (0.2.5)\n",
      "Building wheels for collected packages: ftfy\n",
      "  Building wheel for ftfy (setup.py) ... \u001b[?25ldone\n",
      "\u001b[?25h  Created wheel for ftfy: filename=ftfy-6.0.3-py3-none-any.whl size=41933 sha256=ca84c62bb2da616c125794a241c63799b2c4963ee59318e5af4e47d105818bc9\n",
      "  Stored in directory: /root/.cache/pip/wheels/19/f5/38/273eb3b5e76dfd850619312f693716ac4518b498f5ffb6f56d\n",
      "Successfully built ftfy\n",
      "Installing collected packages: ftfy, clean-text\n",
      "Successfully installed clean-text-0.5.0 ftfy-6.0.3\n",
      "\u001b[33mWARNING: Running pip as the 'root' user can result in broken permissions and conflicting behaviour with the system package manager. It is recommended to use a virtual environment instead: https://pip.pypa.io/warnings/venv\u001b[0m\n"
     ]
    }
   ],
   "source": [
    "!pip install clean-text"
   ]
  },
  {
   "cell_type": "code",
   "execution_count": 2,
   "metadata": {
    "execution": {
     "iopub.execute_input": "2021-12-24T17:15:03.223055Z",
     "iopub.status.busy": "2021-12-24T17:15:03.222771Z",
     "iopub.status.idle": "2021-12-24T17:15:03.906532Z",
     "shell.execute_reply": "2021-12-24T17:15:03.905792Z",
     "shell.execute_reply.started": "2021-12-24T17:15:03.223024Z"
    }
   },
   "outputs": [],
   "source": [
    "import numpy as np\n",
    "import pandas as pd\n",
    "import matplotlib.pyplot as plt\n",
    "\n",
    "import re\n",
    "from cleantext import clean\n",
    "\n",
    "from tqdm.auto import tqdm\n",
    "tqdm.pandas()\n",
    "\n",
    "pd.options.display.max_colwidth = None"
   ]
  },
  {
   "cell_type": "code",
   "execution_count": 3,
   "metadata": {
    "execution": {
     "iopub.execute_input": "2021-12-24T17:15:03.908203Z",
     "iopub.status.busy": "2021-12-24T17:15:03.907966Z",
     "iopub.status.idle": "2021-12-24T17:15:08.623097Z",
     "shell.execute_reply": "2021-12-24T17:15:08.622340Z",
     "shell.execute_reply.started": "2021-12-24T17:15:03.908170Z"
    }
   },
   "outputs": [],
   "source": [
    "import tensorflow as tf\n",
    "from tensorflow import keras\n",
    "from tensorflow.keras import layers as L\n",
    "from tensorflow.keras.preprocessing.text import Tokenizer\n",
    "from tensorflow.keras.preprocessing.sequence import pad_sequences"
   ]
  },
  {
   "cell_type": "markdown",
   "metadata": {},
   "source": [
    "# Data Preparation"
   ]
  },
  {
   "cell_type": "code",
   "execution_count": 4,
   "metadata": {
    "_cell_guid": "b1076dfc-b9ad-4769-8c92-a6c4dae69d19",
    "_uuid": "8f2839f25d086af736a60e9eeb907d3b93b6e0e5",
    "execution": {
     "iopub.execute_input": "2021-12-24T17:15:08.625068Z",
     "iopub.status.busy": "2021-12-24T17:15:08.624416Z",
     "iopub.status.idle": "2021-12-24T17:15:08.656472Z",
     "shell.execute_reply": "2021-12-24T17:15:08.655710Z",
     "shell.execute_reply.started": "2021-12-24T17:15:08.625027Z"
    }
   },
   "outputs": [
    {
     "name": "stdout",
     "output_type": "stream",
     "text": [
      "2991\n"
     ]
    },
    {
     "data": {
      "text/html": [
       "<div>\n",
       "<style scoped>\n",
       "    .dataframe tbody tr th:only-of-type {\n",
       "        vertical-align: middle;\n",
       "    }\n",
       "\n",
       "    .dataframe tbody tr th {\n",
       "        vertical-align: top;\n",
       "    }\n",
       "\n",
       "    .dataframe thead th {\n",
       "        text-align: right;\n",
       "    }\n",
       "</style>\n",
       "<table border=\"1\" class=\"dataframe\">\n",
       "  <thead>\n",
       "    <tr style=\"text-align: right;\">\n",
       "      <th></th>\n",
       "      <th>text</th>\n",
       "    </tr>\n",
       "  </thead>\n",
       "  <tbody>\n",
       "    <tr>\n",
       "      <th>0</th>\n",
       "      <td>I</td>\n",
       "    </tr>\n",
       "    <tr>\n",
       "      <th>1</th>\n",
       "      <td>Dhritirashtra:</td>\n",
       "    </tr>\n",
       "    <tr>\n",
       "      <th>2</th>\n",
       "      <td>Ranged thus for battle on the sacred plain--</td>\n",
       "    </tr>\n",
       "    <tr>\n",
       "      <th>3</th>\n",
       "      <td>On Kurukshetra--say, Sanjaya! say</td>\n",
       "    </tr>\n",
       "    <tr>\n",
       "      <th>4</th>\n",
       "      <td>What wrought my people, and the Pandavas?</td>\n",
       "    </tr>\n",
       "  </tbody>\n",
       "</table>\n",
       "</div>"
      ],
      "text/plain": [
       "                                           text\n",
       "0                                             I\n",
       "1                                Dhritirashtra:\n",
       "2  Ranged thus for battle on the sacred plain--\n",
       "3             On Kurukshetra--say, Sanjaya! say\n",
       "4     What wrought my people, and the Pandavas?"
      ]
     },
     "execution_count": 4,
     "metadata": {},
     "output_type": "execute_result"
    }
   ],
   "source": [
    "with open('../input/bhagwat-gita-in-english/gita.txt') as f:\n",
    "    data = f.read()\n",
    "df = pd.DataFrame({'text': data.split('\\n')})\n",
    "print(len(df))\n",
    "df.head()  "
   ]
  },
  {
   "cell_type": "code",
   "execution_count": 5,
   "metadata": {
    "execution": {
     "iopub.execute_input": "2021-12-24T17:15:08.659184Z",
     "iopub.status.busy": "2021-12-24T17:15:08.658778Z",
     "iopub.status.idle": "2021-12-24T17:15:08.665558Z",
     "shell.execute_reply": "2021-12-24T17:15:08.664814Z",
     "shell.execute_reply.started": "2021-12-24T17:15:08.659150Z"
    }
   },
   "outputs": [],
   "source": [
    "clean_text = lambda x: clean(x,\n",
    "    fix_unicode=True,               # fix various unicode errors\n",
    "    to_ascii=True,                  # transliterate to closest ASCII representation\n",
    "    lower=True,                     # lowercase text\n",
    "    no_line_breaks=False,           # fully strip line breaks as opposed to only normalizing them\n",
    "    no_urls=True,                  # replace all URLs with a special token\n",
    "    no_emails=True,                # replace all email addresses with a special token\n",
    "    no_phone_numbers=True,         # replace all phone numbers with a special token\n",
    "    no_numbers=True,               # replace all numbers with a special token\n",
    "    no_digits=True,                # replace all digits with a special token\n",
    "    no_currency_symbols=False,      # replace all currency symbols with a special token\n",
    "    no_punct=False,                 # remove punctuations\n",
    "    replace_with_punct=\"\",          # instead of removing punctuations you may replace them\n",
    "    replace_with_url=\"\",\n",
    "    replace_with_email=\"\",\n",
    "    replace_with_phone_number=\"\",\n",
    "    replace_with_number=\"\",\n",
    "    replace_with_digit=\"\",\n",
    "    replace_with_currency_symbol=\"<CUR>\",\n",
    "    lang=\"en\"                       # set to 'de' for German special handling\n",
    ")"
   ]
  },
  {
   "cell_type": "code",
   "execution_count": 6,
   "metadata": {
    "execution": {
     "iopub.execute_input": "2021-12-24T17:15:08.667377Z",
     "iopub.status.busy": "2021-12-24T17:15:08.666817Z",
     "iopub.status.idle": "2021-12-24T17:15:09.913530Z",
     "shell.execute_reply": "2021-12-24T17:15:09.912634Z",
     "shell.execute_reply.started": "2021-12-24T17:15:08.667342Z"
    }
   },
   "outputs": [
    {
     "data": {
      "application/vnd.jupyter.widget-view+json": {
       "model_id": "c773ced1f7a84cbba7cec67f837c1cc6",
       "version_major": 2,
       "version_minor": 0
      },
      "text/plain": [
       "  0%|          | 0/2991 [00:00<?, ?it/s]"
      ]
     },
     "metadata": {},
     "output_type": "display_data"
    }
   ],
   "source": [
    "df['cleaned'] = df['text'].progress_apply(clean_text)\n",
    "df['cleaned'] = df['cleaned'].apply(lambda x: re.sub(r\"\\s\\W*\\s\", \"\", x))\n",
    "df['len'] = df['cleaned'].apply(lambda x: len(x.split()))"
   ]
  },
  {
   "cell_type": "code",
   "execution_count": 7,
   "metadata": {
    "execution": {
     "iopub.execute_input": "2021-12-24T17:15:09.915467Z",
     "iopub.status.busy": "2021-12-24T17:15:09.915107Z",
     "iopub.status.idle": "2021-12-24T17:15:10.291447Z",
     "shell.execute_reply": "2021-12-24T17:15:10.290818Z",
     "shell.execute_reply.started": "2021-12-24T17:15:09.915415Z"
    }
   },
   "outputs": [
    {
     "data": {
      "image/png": "[encoded data removed]",
      "text/plain": [
       "<Figure size 864x360 with 1 Axes>"
      ]
     },
     "metadata": {
      "needs_background": "light"
     },
     "output_type": "display_data"
    }
   ],
   "source": [
    "fig = plt.figure(figsize=(12, 5))\n",
    "fig.suptitle('Length of Sentences', fontsize=12)\n",
    "df['len'].plot.hist(bins=15);"
   ]
  },
  {
   "cell_type": "code",
   "execution_count": 8,
   "metadata": {
    "execution": {
     "iopub.execute_input": "2021-12-24T17:15:10.292852Z",
     "iopub.status.busy": "2021-12-24T17:15:10.292497Z",
     "iopub.status.idle": "2021-12-24T17:15:10.309557Z",
     "shell.execute_reply": "2021-12-24T17:15:10.308767Z",
     "shell.execute_reply.started": "2021-12-24T17:15:10.292819Z"
    }
   },
   "outputs": [],
   "source": [
    "df = df[df['len'] > 1].drop_duplicates(subset=['cleaned']).reset_index(drop=True)"
   ]
  },
  {
   "cell_type": "code",
   "execution_count": 9,
   "metadata": {
    "execution": {
     "iopub.execute_input": "2021-12-24T17:15:10.315330Z",
     "iopub.status.busy": "2021-12-24T17:15:10.313177Z",
     "iopub.status.idle": "2021-12-24T17:15:10.384294Z",
     "shell.execute_reply": "2021-12-24T17:15:10.383729Z",
     "shell.execute_reply.started": "2021-12-24T17:15:10.315292Z"
    }
   },
   "outputs": [],
   "source": [
    "y = df.cleaned.values.tolist()\n",
    "\n",
    "tokenizer = Tokenizer(filters='!\"#$%&()*+,-./:;<=>?@^_`{|}~\\t\\n')\n",
    "tokenizer.fit_on_texts(y)\n",
    "mask_token_id = len(tokenizer.word_index)+1\n",
    "tokenizer.word_index.update({'[mask]': mask_token_id})"
   ]
  },
  {
   "cell_type": "code",
   "execution_count": 10,
   "metadata": {
    "execution": {
     "iopub.execute_input": "2021-12-24T17:15:10.388181Z",
     "iopub.status.busy": "2021-12-24T17:15:10.387703Z",
     "iopub.status.idle": "2021-12-24T17:15:10.396161Z",
     "shell.execute_reply": "2021-12-24T17:15:10.395368Z",
     "shell.execute_reply.started": "2021-12-24T17:15:10.388144Z"
    }
   },
   "outputs": [],
   "source": [
    "def get_masked_input(sequence):\n",
    "    mask = np.random.randint(low=0, high=len(sequence))\n",
    "    return [token if i != mask else mask_token_id for i, token in enumerate(sequence)]"
   ]
  },
  {
   "cell_type": "code",
   "execution_count": 11,
   "metadata": {
    "execution": {
     "iopub.execute_input": "2021-12-24T17:15:10.397821Z",
     "iopub.status.busy": "2021-12-24T17:15:10.397367Z",
     "iopub.status.idle": "2021-12-24T17:15:10.412343Z",
     "shell.execute_reply": "2021-12-24T17:15:10.411745Z",
     "shell.execute_reply.started": "2021-12-24T17:15:10.397786Z"
    }
   },
   "outputs": [],
   "source": [
    "VOCAB = len(tokenizer.word_index)\n",
    "MAX_SEQ_LEN = 15\n",
    "EMBEDDING_VECTOR_LENGTH = 32\n",
    "DENSE_DIM = 32\n",
    "NUM_HEADS = 2\n",
    "RECURRENT_DROPOUT = 0.5"
   ]
  },
  {
   "cell_type": "code",
   "execution_count": 12,
   "metadata": {
    "execution": {
     "iopub.execute_input": "2021-12-24T17:15:10.413549Z",
     "iopub.status.busy": "2021-12-24T17:15:10.413213Z",
     "iopub.status.idle": "2021-12-24T17:15:10.653186Z",
     "shell.execute_reply": "2021-12-24T17:15:10.652525Z",
     "shell.execute_reply.started": "2021-12-24T17:15:10.413518Z"
    }
   },
   "outputs": [
    {
     "data": {
      "text/plain": [
       "((2632, 15), (2632, 15, 3460))"
      ]
     },
     "execution_count": 12,
     "metadata": {},
     "output_type": "execute_result"
    }
   ],
   "source": [
    "y = tokenizer.texts_to_sequences(y)\n",
    "x = [get_masked_input(seq) for seq in y]\n",
    "x = pad_sequences(x, maxlen=MAX_SEQ_LEN, padding='post')\n",
    "y = pad_sequences(y, maxlen=MAX_SEQ_LEN, padding='post')\n",
    "y = keras.utils.to_categorical(y)\n",
    "\n",
    "x.shape, y.shape"
   ]
  },
  {
   "cell_type": "markdown",
   "metadata": {},
   "source": [
    "# Model"
   ]
  },
  {
   "cell_type": "code",
   "execution_count": 13,
   "metadata": {
    "execution": {
     "iopub.execute_input": "2021-12-24T17:15:10.659600Z",
     "iopub.status.busy": "2021-12-24T17:15:10.657493Z",
     "iopub.status.idle": "2021-12-24T17:15:10.678760Z",
     "shell.execute_reply": "2021-12-24T17:15:10.678107Z",
     "shell.execute_reply.started": "2021-12-24T17:15:10.659559Z"
    }
   },
   "outputs": [],
   "source": [
    "class PositionalEmbedding(L.Layer):\n",
    "    def __init__(self, sequence_length, input_dim, output_dim, **kwargs):\n",
    "        super().__init__(**kwargs)\n",
    "        self.token_embeddings = L.Embedding(input_dim, output_dim)\n",
    "        self.position_embeddings = L.Embedding(sequence_length, output_dim)\n",
    "        self.sequence_length = sequence_length\n",
    "        self.input_dim = input_dim\n",
    "        self.output_dim = output_dim\n",
    "        \n",
    "    def call(self, inputs):\n",
    "        length = tf.shape(inputs)[-1]\n",
    "        positions = tf.range(start=0, limit=length, delta=1)\n",
    "        embedded_tokens = self.token_embeddings(inputs)\n",
    "        embedded_positions = self.position_embeddings(positions)\n",
    "        return embedded_tokens + embedded_positions\n",
    "        \n",
    "    def get_config(self):\n",
    "        config = super().get_config()\n",
    "        config.update({\n",
    "            \"output_dim\": self.output_dim,\n",
    "            \"sequence_length\": self.sequence_length,\n",
    "            \"input_dim\": self.input_dim,\n",
    "        })\n",
    "        return config\n",
    "    \n",
    "class TransformerEncoder(L.Layer):\n",
    "    def __init__(self, embed_dim, dense_dim, num_heads, **kwargs):\n",
    "        super().__init__(**kwargs)\n",
    "        self.embed_dim = embed_dim\n",
    "        self.dense_dim = dense_dim\n",
    "        self.num_heads = num_heads\n",
    "        self.attention = L.MultiHeadAttention(num_heads=num_heads, key_dim=embed_dim)\n",
    "        self.dense_proj = keras.Sequential([L.Dense(dense_dim, activation='relu'), L.Dense(embed_dim)])\n",
    "        self.layernorm1 = L.LayerNormalization()\n",
    "        self.layernorm2 = L.LayerNormalization()\n",
    "    \n",
    "    def call(self, inputs, mask=None):\n",
    "        if mask is not None:\n",
    "            mask = mask[: tf.newaxis, :]\n",
    "        attention_output = self.attention(inputs, inputs, attention_mask=mask)\n",
    "        proj_input = self.layernorm1(inputs + attention_output)\n",
    "        proj_output = self.dense_proj(proj_input)\n",
    "        return self.layernorm2(proj_input + proj_output)\n",
    "    \n",
    "    def get_config(self):\n",
    "        config = super().get_confog()\n",
    "        config.update({\n",
    "            \"embed_dim\": self.embed_dim,\n",
    "            \"num_heads\": self.num_heads,\n",
    "            \"dense_dim\": self.dense_dim\n",
    "        })\n",
    "        return config    "
   ]
  },
  {
   "cell_type": "code",
   "execution_count": 14,
   "metadata": {
    "execution": {
     "iopub.execute_input": "2021-12-24T17:15:10.686310Z",
     "iopub.status.busy": "2021-12-24T17:15:10.685570Z",
     "iopub.status.idle": "2021-12-24T17:15:14.223586Z",
     "shell.execute_reply": "2021-12-24T17:15:14.222797Z",
     "shell.execute_reply.started": "2021-12-24T17:15:10.686203Z"
    }
   },
   "outputs": [
    {
     "name": "stderr",
     "output_type": "stream",
     "text": [
      "2021-12-24 17:15:10.783905: I tensorflow/stream_executor/cuda/cuda_gpu_executor.cc:937] successful NUMA node read from SysFS had negative value (-1), but there must be at least one NUMA node, so returning NUMA node zero\n",
      "2021-12-24 17:15:10.877396: I tensorflow/stream_executor/cuda/cuda_gpu_executor.cc:937] successful NUMA node read from SysFS had negative value (-1), but there must be at least one NUMA node, so returning NUMA node zero\n",
      "2021-12-24 17:15:10.878142: I tensorflow/stream_executor/cuda/cuda_gpu_executor.cc:937] successful NUMA node read from SysFS had negative value (-1), but there must be at least one NUMA node, so returning NUMA node zero\n",
      "2021-12-24 17:15:10.879308: I tensorflow/core/platform/cpu_feature_guard.cc:142] This TensorFlow binary is optimized with oneAPI Deep Neural Network Library (oneDNN) to use the following CPU instructions in performance-critical operations:  AVX2 AVX512F FMA\n",
      "To enable them in other operations, rebuild TensorFlow with the appropriate compiler flags.\n",
      "2021-12-24 17:15:10.880291: I tensorflow/stream_executor/cuda/cuda_gpu_executor.cc:937] successful NUMA node read from SysFS had negative value (-1), but there must be at least one NUMA node, so returning NUMA node zero\n",
      "2021-12-24 17:15:10.880977: I tensorflow/stream_executor/cuda/cuda_gpu_executor.cc:937] successful NUMA node read from SysFS had negative value (-1), but there must be at least one NUMA node, so returning NUMA node zero\n",
      "2021-12-24 17:15:10.881589: I tensorflow/stream_executor/cuda/cuda_gpu_executor.cc:937] successful NUMA node read from SysFS had negative value (-1), but there must be at least one NUMA node, so returning NUMA node zero\n",
      "2021-12-24 17:15:12.924670: I tensorflow/stream_executor/cuda/cuda_gpu_executor.cc:937] successful NUMA node read from SysFS had negative value (-1), but there must be at least one NUMA node, so returning NUMA node zero\n",
      "2021-12-24 17:15:12.925479: I tensorflow/stream_executor/cuda/cuda_gpu_executor.cc:937] successful NUMA node read from SysFS had negative value (-1), but there must be at least one NUMA node, so returning NUMA node zero\n",
      "2021-12-24 17:15:12.926131: I tensorflow/stream_executor/cuda/cuda_gpu_executor.cc:937] successful NUMA node read from SysFS had negative value (-1), but there must be at least one NUMA node, so returning NUMA node zero\n",
      "2021-12-24 17:15:12.926721: I tensorflow/core/common_runtime/gpu/gpu_device.cc:1510] Created device /job:localhost/replica:0/task:0/device:GPU:0 with 15403 MB memory:  -> device: 0, name: Tesla P100-PCIE-16GB, pci bus id: 0000:00:04.0, compute capability: 6.0\n"
     ]
    },
    {
     "name": "stdout",
     "output_type": "stream",
     "text": [
      "Model: \"sequential_1\"\n",
      "_________________________________________________________________\n",
      "Layer (type)                 Output Shape              Param #   \n",
      "=================================================================\n",
      "positional_embedding (Positi (None, None, 32)          111200    \n",
      "_________________________________________________________________\n",
      "transformer_encoder (Transfo (None, None, 32)          10656     \n",
      "_________________________________________________________________\n",
      "dropout (Dropout)            (None, None, 32)          0         \n",
      "_________________________________________________________________\n",
      "dense_2 (Dense)              (None, None, 3460)        114180    \n",
      "=================================================================\n",
      "Total params: 236,036\n",
      "Trainable params: 236,036\n",
      "Non-trainable params: 0\n",
      "_________________________________________________________________\n"
     ]
    },
    {
     "data": {
      "image/png": "[encoded data removed]",
      "text/plain": [
       "<IPython.core.display.Image object>"
      ]
     },
     "execution_count": 14,
     "metadata": {},
     "output_type": "execute_result"
    }
   ],
   "source": [
    "model = keras.Sequential([\n",
    "    keras.Input(shape=(None, ), dtype=\"int64\"),\n",
    "    PositionalEmbedding(MAX_SEQ_LEN, VOCAB, EMBEDDING_VECTOR_LENGTH),\n",
    "    TransformerEncoder(EMBEDDING_VECTOR_LENGTH, DENSE_DIM, NUM_HEADS),\n",
    "    L.Dropout(0.5),\n",
    "    L.Dense(VOCAB, activation=\"softmax\")\n",
    "])\n",
    "\n",
    "model.compile(loss='categorical_crossentropy', optimizer='adam', metrics=['acc'])\n",
    "\n",
    "model.summary()\n",
    "keras.utils.plot_model(model, show_shapes=True)"
   ]
  },
  {
   "cell_type": "markdown",
   "metadata": {},
   "source": [
    "# Training"
   ]
  },
  {
   "cell_type": "code",
   "execution_count": 15,
   "metadata": {
    "execution": {
     "iopub.execute_input": "2021-12-24T17:15:14.225859Z",
     "iopub.status.busy": "2021-12-24T17:15:14.225197Z",
     "iopub.status.idle": "2021-12-24T17:15:41.426119Z",
     "shell.execute_reply": "2021-12-24T17:15:41.425402Z",
     "shell.execute_reply.started": "2021-12-24T17:15:14.225820Z"
    }
   },
   "outputs": [
    {
     "name": "stderr",
     "output_type": "stream",
     "text": [
      "2021-12-24 17:15:15.187295: I tensorflow/compiler/mlir/mlir_graph_optimization_pass.cc:185] None of the MLIR Optimization Passes are enabled (registered 2)\n"
     ]
    },
    {
     "name": "stdout",
     "output_type": "stream",
     "text": [
      "Epoch 1/100\n",
      " 7/74 [=>............................] - ETA: 0s - loss: 7.9959 - acc: 0.0479      "
     ]
    },
    {
     "name": "stderr",
     "output_type": "stream",
     "text": [
      "2021-12-24 17:15:17.790892: I tensorflow/stream_executor/cuda/cuda_dnn.cc:369] Loaded cuDNN version 8005\n"
     ]
    },
    {
     "name": "stdout",
     "output_type": "stream",
     "text": [
      "74/74 [==============================] - 4s 14ms/step - loss: 6.5439 - acc: 0.4645 - val_loss: 4.9480 - val_acc: 0.5109\n",
      "Epoch 2/100\n",
      "74/74 [==============================] - 1s 9ms/step - loss: 3.8937 - acc: 0.5320 - val_loss: 2.9605 - val_acc: 0.5725\n",
      "Epoch 3/100\n",
      "74/74 [==============================] - 1s 9ms/step - loss: 2.7955 - acc: 0.5970 - val_loss: 2.4072 - val_acc: 0.6662\n",
      "Epoch 4/100\n",
      "74/74 [==============================] - 1s 9ms/step - loss: 2.3703 - acc: 0.6591 - val_loss: 2.0926 - val_acc: 0.7371\n",
      "Epoch 5/100\n",
      "74/74 [==============================] - 1s 9ms/step - loss: 2.0914 - acc: 0.6995 - val_loss: 1.8710 - val_acc: 0.7737\n",
      "Epoch 6/100\n",
      "74/74 [==============================] - 1s 9ms/step - loss: 1.8913 - acc: 0.7247 - val_loss: 1.7079 - val_acc: 0.8028\n",
      "Epoch 7/100\n",
      "74/74 [==============================] - 1s 11ms/step - loss: 1.7339 - acc: 0.7465 - val_loss: 1.5896 - val_acc: 0.8210\n",
      "Epoch 8/100\n",
      "74/74 [==============================] - 1s 10ms/step - loss: 1.6063 - acc: 0.7644 - val_loss: 1.4911 - val_acc: 0.8361\n",
      "Epoch 9/100\n",
      "74/74 [==============================] - 1s 9ms/step - loss: 1.5034 - acc: 0.7775 - val_loss: 1.4105 - val_acc: 0.8467\n",
      "Epoch 10/100\n",
      "74/74 [==============================] - 1s 9ms/step - loss: 1.4000 - acc: 0.7904 - val_loss: 1.3475 - val_acc: 0.8505\n",
      "Epoch 11/100\n",
      "74/74 [==============================] - 1s 9ms/step - loss: 1.3170 - acc: 0.8012 - val_loss: 1.2999 - val_acc: 0.8583\n",
      "Epoch 12/100\n",
      "74/74 [==============================] - 1s 9ms/step - loss: 1.2394 - acc: 0.8108 - val_loss: 1.2677 - val_acc: 0.8591\n",
      "Epoch 13/100\n",
      "74/74 [==============================] - 1s 9ms/step - loss: 1.1786 - acc: 0.8191 - val_loss: 1.2312 - val_acc: 0.8639\n",
      "Epoch 14/100\n",
      "74/74 [==============================] - 1s 9ms/step - loss: 1.1154 - acc: 0.8264 - val_loss: 1.2173 - val_acc: 0.8657\n",
      "Epoch 15/100\n",
      "74/74 [==============================] - 1s 9ms/step - loss: 1.0563 - acc: 0.8343 - val_loss: 1.1827 - val_acc: 0.8674\n",
      "Epoch 16/100\n",
      "74/74 [==============================] - 1s 9ms/step - loss: 1.0030 - acc: 0.8419 - val_loss: 1.1805 - val_acc: 0.8717\n",
      "Epoch 17/100\n",
      "74/74 [==============================] - 1s 9ms/step - loss: 0.9459 - acc: 0.8494 - val_loss: 1.1689 - val_acc: 0.8730\n",
      "Epoch 18/100\n",
      "74/74 [==============================] - 1s 9ms/step - loss: 0.8980 - acc: 0.8541 - val_loss: 1.1493 - val_acc: 0.8758\n",
      "Epoch 19/100\n",
      "74/74 [==============================] - 1s 9ms/step - loss: 0.8606 - acc: 0.8620 - val_loss: 1.1466 - val_acc: 0.8783\n",
      "Epoch 20/100\n",
      "74/74 [==============================] - 1s 9ms/step - loss: 0.8195 - acc: 0.8644 - val_loss: 1.1498 - val_acc: 0.8828\n",
      "Epoch 21/100\n",
      "74/74 [==============================] - 1s 9ms/step - loss: 0.7788 - acc: 0.8697 - val_loss: 1.1467 - val_acc: 0.8861\n",
      "Epoch 22/100\n",
      "74/74 [==============================] - 1s 9ms/step - loss: 0.7431 - acc: 0.8739 - val_loss: 1.1416 - val_acc: 0.8869\n",
      "Epoch 23/100\n",
      "74/74 [==============================] - 1s 11ms/step - loss: 0.7116 - acc: 0.8789 - val_loss: 1.1398 - val_acc: 0.8904\n",
      "Epoch 24/100\n",
      "74/74 [==============================] - 1s 10ms/step - loss: 0.6744 - acc: 0.8835 - val_loss: 1.1414 - val_acc: 0.8909\n",
      "Epoch 25/100\n",
      "74/74 [==============================] - 1s 9ms/step - loss: 0.6443 - acc: 0.8885 - val_loss: 1.1425 - val_acc: 0.8939\n",
      "Epoch 26/100\n",
      "74/74 [==============================] - 1s 9ms/step - loss: 0.6131 - acc: 0.8919 - val_loss: 1.1541 - val_acc: 0.8934\n",
      "\n",
      "Epoch 00026: ReduceLROnPlateau reducing learning rate to 0.00010000000474974513.\n",
      "Epoch 27/100\n",
      "74/74 [==============================] - 1s 9ms/step - loss: 0.5681 - acc: 0.9016 - val_loss: 1.1489 - val_acc: 0.8939\n",
      "Epoch 28/100\n",
      "74/74 [==============================] - 1s 9ms/step - loss: 0.5559 - acc: 0.9022 - val_loss: 1.1490 - val_acc: 0.8944\n",
      "Epoch 29/100\n",
      "74/74 [==============================] - 1s 9ms/step - loss: 0.5551 - acc: 0.9033 - val_loss: 1.1481 - val_acc: 0.8942\n",
      "\n",
      "Epoch 00029: ReduceLROnPlateau reducing learning rate to 1.0000000474974514e-05.\n",
      "Epoch 30/100\n",
      "74/74 [==============================] - 1s 9ms/step - loss: 0.5477 - acc: 0.9040 - val_loss: 1.1489 - val_acc: 0.8942\n",
      "Epoch 31/100\n",
      "74/74 [==============================] - 1s 9ms/step - loss: 0.5488 - acc: 0.9025 - val_loss: 1.1501 - val_acc: 0.8944\n",
      "Epoch 32/100\n",
      "74/74 [==============================] - 1s 9ms/step - loss: 0.5474 - acc: 0.9040 - val_loss: 1.1494 - val_acc: 0.8944\n",
      "\n",
      "Epoch 00032: ReduceLROnPlateau reducing learning rate to 1.0000000656873453e-06.\n",
      "Epoch 33/100\n",
      "74/74 [==============================] - 1s 9ms/step - loss: 0.5481 - acc: 0.9041 - val_loss: 1.1494 - val_acc: 0.8944\n",
      "Restoring model weights from the end of the best epoch.\n",
      "Epoch 00033: early stopping\n"
     ]
    }
   ],
   "source": [
    "es = keras.callbacks.EarlyStopping(monitor='val_loss', mode='min', verbose=1, patience=10, restore_best_weights=True)\n",
    "rlp = keras.callbacks.ReduceLROnPlateau(monitor='val_loss', patience=3, verbose=1)\n",
    "history = model.fit(x=x, y=y, validation_split=0.1, callbacks=[es, rlp], epochs=100)"
   ]
  },
  {
   "cell_type": "code",
   "execution_count": 16,
   "metadata": {
    "execution": {
     "iopub.execute_input": "2021-12-24T17:15:41.427604Z",
     "iopub.status.busy": "2021-12-24T17:15:41.427347Z",
     "iopub.status.idle": "2021-12-24T17:15:41.824476Z",
     "shell.execute_reply": "2021-12-24T17:15:41.823766Z",
     "shell.execute_reply.started": "2021-12-24T17:15:41.427567Z"
    }
   },
   "outputs": [
    {
     "data": {
      "image/png": "[encoded data removed]",
      "text/plain": [
       "<Figure size 1440x576 with 2 Axes>"
      ]
     },
     "metadata": {
      "needs_background": "light"
     },
     "output_type": "display_data"
    }
   ],
   "source": [
    "fig, ax = plt.subplots(2, 1, figsize=(20, 8))\n",
    "metrics = pd.DataFrame(history.history)\n",
    "metrics[['acc', 'val_acc']].plot(ax=ax[0])\n",
    "metrics[['loss', 'val_loss']].plot(ax=ax[1])\n",
    "ax[0].set_title('Model Accuracy', fontsize=12)\n",
    "ax[1].set_title('Model Loss', fontsize=12)\n",
    "fig.suptitle('Model Metrics', fontsize=18);"
   ]
  },
  {
   "cell_type": "markdown",
   "metadata": {},
   "source": [
    "# Inference"
   ]
  },
  {
   "cell_type": "code",
   "execution_count": 17,
   "metadata": {
    "execution": {
     "iopub.execute_input": "2021-12-24T17:15:41.826303Z",
     "iopub.status.busy": "2021-12-24T17:15:41.826066Z",
     "iopub.status.idle": "2021-12-24T17:15:41.851246Z",
     "shell.execute_reply": "2021-12-24T17:15:41.850543Z",
     "shell.execute_reply.started": "2021-12-24T17:15:41.826274Z"
    }
   },
   "outputs": [
    {
     "data": {
      "text/plain": [
       "'to die adhyatman duty is no ill'"
      ]
     },
     "execution_count": 17,
     "metadata": {},
     "output_type": "execute_result"
    }
   ],
   "source": [
    "query = \"to die performing [mask] is no ill;\"\n",
    "query_token_ids = tokenizer.texts_to_sequences([query])\n",
    "query_token_ids = pad_sequences(query_token_ids, maxlen=MAX_SEQ_LEN, padding='post')\n",
    "\n",
    "pred = model(query_token_ids)\n",
    "pred_seq = np.ravel(pred.numpy().argmax(axis=-1))\n",
    "pred_text = ' '.join(tokenizer.index_word[token] for token in pred_seq if token != 0)\n",
    "pred_text"
   ]
  },
  {
   "cell_type": "code",
   "execution_count": null,
   "metadata": {},
   "outputs": [],
   "source": []
  }
 ],
 "metadata": {
  "kernelspec": {
   "display_name": "Python 3",
   "language": "python",
   "name": "python3"
  },
  "language_info": {
   "codemirror_mode": {
    "name": "ipython",
    "version": 3
   },
   "file_extension": ".py",
   "mimetype": "text/x-python",
   "name": "python",
   "nbconvert_exporter": "python",
   "pygments_lexer": "ipython3",
   "version": "3.8.8"
  }
 },
 "nbformat": 4,
 "nbformat_minor": 4
}
