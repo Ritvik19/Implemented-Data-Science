{
 "cells": [
  {
   "cell_type": "markdown",
   "id": "b21a1b46",
   "metadata": {
    "_cell_guid": "b1076dfc-b9ad-4769-8c92-a6c4dae69d19",
    "_uuid": "8f2839f25d086af736a60e9eeb907d3b93b6e0e5",
    "papermill": {
     "duration": 0.016237,
     "end_time": "2022-01-14T16:43:44.637917",
     "exception": false,
     "start_time": "2022-01-14T16:43:44.621680",
     "status": "completed"
    },
    "tags": []
   },
   "source": [
    "# Normalization in Neural Networks\n",
    "\n",
    "In this notebook I'll discuss the different types of Normalizations that are commonly used in Neural Networks, along with their applications and implementations"
   ]
  },
  {
   "cell_type": "code",
   "execution_count": 1,
   "id": "3227f1f9",
   "metadata": {
    "execution": {
     "iopub.execute_input": "2022-01-14T16:43:44.685046Z",
     "iopub.status.busy": "2022-01-14T16:43:44.681999Z",
     "iopub.status.idle": "2022-01-14T16:43:51.010177Z",
     "shell.execute_reply": "2022-01-14T16:43:51.009450Z",
     "shell.execute_reply.started": "2022-01-14T16:42:55.826447Z"
    },
    "papermill": {
     "duration": 6.352023,
     "end_time": "2022-01-14T16:43:51.010349",
     "exception": false,
     "start_time": "2022-01-14T16:43:44.658326",
     "status": "completed"
    },
    "tags": []
   },
   "outputs": [],
   "source": [
    "import tensorflow as tf\n",
    "from tensorflow import keras\n",
    "from tensorflow.keras import layers as L"
   ]
  },
  {
   "cell_type": "markdown",
   "id": "4a000815",
   "metadata": {
    "papermill": {
     "duration": 0.015081,
     "end_time": "2022-01-14T16:43:51.041205",
     "exception": false,
     "start_time": "2022-01-14T16:43:51.026124",
     "status": "completed"
    },
    "tags": []
   },
   "source": [
    "# Batch Normalization\n",
    "\n",
    "Batch Normalization was first discussed in the paper [Batch Normalization: Accelerating Deep Network Training by Reducing Internal Covariate Shift](https://arxiv.org/pdf/1502.03167.pdf)\n",
    "\n",
    "They define Internal Covariate Shift as the change in the distribution of network activations due to the change in network parameters during training. This adversely affects training speed because the later layers have to adapt to the shifted distribution.\n",
    "\n",
    "They proposed that by whitening the inputs to each layer,we would take a step towards achieving the fixed distributions of inputs that would remove the ill effects of the internal covariate shift.\n",
    "\n",
    "Whitening is linearly transforming inputs to have zero mean, unit variance, and be uncorrelated.\n",
    "\n",
    "**The paper introduces Batch Normalization as follows:**\n",
    "\n",
    "1. Normalize each feature independently to have zero mean and unit variance:\n",
    "<center><h3>$$ \\hat{x}^{(k)} = \\frac{x^{(k)} - E[x^{(k)}]}{\\sqrt{Var[x^{(k)}]}} $$</h3></center>\n",
    "where $ x = (x^{(1)}...x^{(d)}) $ is the d-dimensional input.\n",
    "2. The estimates of mean and variance are from the mini-batch for normalization; instead of calculating the mean and variance across the whole dataset.\n",
    "3. Normalizing each feature to zero mean and unit variance could affect what the layer can represent. To overcome this each feature is scaled and shifted by two trained parameters.\n",
    "<center><h3>$$ y^{(k)} = \\gamma^{(k)}\\hat{x}^{(k)} + \\beta^{(k)} $$</h3></center>\n",
    "where $ y^{(k)} $ is the output of the batch normalization layer.\n",
    "4. An exponential moving average of mean and variance is calculated during the training phase and is then used during inference."
   ]
  },
  {
   "cell_type": "code",
   "execution_count": 2,
   "id": "11149e7e",
   "metadata": {
    "execution": {
     "iopub.execute_input": "2022-01-14T16:43:51.080847Z",
     "iopub.status.busy": "2022-01-14T16:43:51.080174Z",
     "iopub.status.idle": "2022-01-14T16:43:51.088762Z",
     "shell.execute_reply": "2022-01-14T16:43:51.088205Z",
     "shell.execute_reply.started": "2022-01-14T16:43:03.311029Z"
    },
    "papermill": {
     "duration": 0.032558,
     "end_time": "2022-01-14T16:43:51.088921",
     "exception": false,
     "start_time": "2022-01-14T16:43:51.056363",
     "status": "completed"
    },
    "tags": []
   },
   "outputs": [],
   "source": [
    "class BatchNormalization(L.Layer):\n",
    "    def __init__(self, eps=1e-5, momentum=0.1, **kwargs):\n",
    "        super().__init__(**kwargs)\n",
    "        self.eps = eps\n",
    "        self.momentum = momentum\n",
    "    \n",
    "    def build(self, input_shape):\n",
    "        self.exp_mean = self.add_weight(shape=input_shape[-1], initializer='zeros', trainable=False)\n",
    "        self.exp_var = self.add_weight(shape=input_shape[-1], initializer='ones', trainable=False)\n",
    "        \n",
    "        self.scale = self.add_weight(shape=input_shape[-1], initializer='zeros', trainable=True)\n",
    "        self.shift = self.add_weight(shape=input_shape[-1], initializer='ones', trainable=True)\n",
    "    \n",
    "    def call(self, x):\n",
    "        x_shape = x.shape\n",
    "        batch_size = x_shape[0]\n",
    "        channels = x.shape[-1] \n",
    "        \n",
    "        x = tf.reshape(x, (batch_size, -1, channels))\n",
    "        \n",
    "        mean = tf.reduce_mean(x, [0, 1])\n",
    "        mean_x2 = tf.reduce_mean((x ** 2), [0, 1])\n",
    "        var = mean_x2 - mean ** 2\n",
    "        \n",
    "        self.exp_mean = (1 - self.momentum) * self.exp_mean + self.momentum * mean\n",
    "        self.exp_var = (1 - self.momentum) * self.exp_var + self.momentum * var\n",
    "        \n",
    "        mean = self.exp_mean\n",
    "        var = self.exp_var\n",
    "        \n",
    "        x_norm = (x - tf.reshape(mean, (1, 1, -1))) / tf.reshape(tf.sqrt(var + self.eps), (1, 1, -1))\n",
    "        x_norm = tf.reshape(self.scale, (1, 1, -1)) * x_norm +tf.reshape(self.shift, (1, 1, -1))\n",
    "        return tf.reshape(x_norm, x_shape)        "
   ]
  },
  {
   "cell_type": "code",
   "execution_count": 3,
   "id": "a3ed99f0",
   "metadata": {
    "execution": {
     "iopub.execute_input": "2022-01-14T16:43:51.152453Z",
     "iopub.status.busy": "2022-01-14T16:43:51.151411Z",
     "iopub.status.idle": "2022-01-14T16:43:51.243940Z",
     "shell.execute_reply": "2022-01-14T16:43:51.243250Z",
     "shell.execute_reply.started": "2022-01-14T16:43:03.331668Z"
    },
    "papermill": {
     "duration": 0.139516,
     "end_time": "2022-01-14T16:43:51.244082",
     "exception": false,
     "start_time": "2022-01-14T16:43:51.104566",
     "status": "completed"
    },
    "tags": []
   },
   "outputs": [
    {
     "name": "stderr",
     "output_type": "stream",
     "text": [
      "\n",
      "User settings:\n",
      "\n",
      "   KMP_AFFINITY=granularity=fine,verbose,compact,1,0\n",
      "   KMP_BLOCKTIME=0\n",
      "   KMP_SETTINGS=1\n",
      "   KMP_WARNINGS=0\n",
      "\n",
      "Effective settings:\n",
      "\n",
      "   KMP_ABORT_DELAY=0\n",
      "   KMP_ADAPTIVE_LOCK_PROPS='1,1024'\n",
      "   KMP_ALIGN_ALLOC=64\n",
      "   KMP_ALL_THREADPRIVATE=128\n",
      "   KMP_ATOMIC_MODE=2\n",
      "   KMP_BLOCKTIME=0\n",
      "   KMP_CPUINFO_FILE: value is not defined\n",
      "   KMP_DETERMINISTIC_REDUCTION=false\n",
      "   KMP_DEVICE_THREAD_LIMIT=2147483647\n",
      "   KMP_DISP_NUM_BUFFERS=7\n",
      "   KMP_DUPLICATE_LIB_OK=false\n",
      "   KMP_ENABLE_TASK_THROTTLING=true\n",
      "   KMP_FORCE_REDUCTION: value is not defined\n",
      "   KMP_FOREIGN_THREADS_THREADPRIVATE=true\n",
      "   KMP_FORKJOIN_BARRIER='2,2'\n",
      "   KMP_FORKJOIN_BARRIER_PATTERN='hyper,hyper'\n",
      "   KMP_GTID_MODE=3\n",
      "   KMP_HANDLE_SIGNALS=false\n",
      "   KMP_HOT_TEAMS_MAX_LEVEL=1\n",
      "   KMP_HOT_TEAMS_MODE=0\n",
      "   KMP_INIT_AT_FORK=true\n",
      "   KMP_LIBRARY=throughput\n",
      "   KMP_LOCK_KIND=queuing\n",
      "   KMP_MALLOC_POOL_INCR=1M\n",
      "   KMP_NUM_LOCKS_IN_BLOCK=1\n",
      "   KMP_PLAIN_BARRIER='2,2'\n",
      "   KMP_PLAIN_BARRIER_PATTERN='hyper,hyper'\n",
      "   KMP_REDUCTION_BARRIER='1,1'\n",
      "   KMP_REDUCTION_BARRIER_PATTERN='hyper,hyper'\n",
      "   KMP_SCHEDULE='static,balanced;guided,iterative'\n",
      "   KMP_SETTINGS=true\n",
      "   KMP_SPIN_BACKOFF_PARAMS='4096,100'\n",
      "   KMP_STACKOFFSET=64\n",
      "   KMP_STACKPAD=0\n",
      "   KMP_STACKSIZE=8M\n",
      "   KMP_STORAGE_MAP=false\n",
      "   KMP_TASKING=2\n",
      "   KMP_TASKLOOP_MIN_TASKS=0\n",
      "   KMP_TASK_STEALING_CONSTRAINT=1\n",
      "   KMP_TEAMS_THREAD_LIMIT=4\n",
      "   KMP_TOPOLOGY_METHOD=all\n",
      "   KMP_USE_YIELD=1\n",
      "   KMP_VERSION=false\n",
      "   KMP_WARNINGS=false\n",
      "   OMP_AFFINITY_FORMAT='OMP: pid %P tid %i thread %n bound to OS proc set {%A}'\n",
      "   OMP_ALLOCATOR=omp_default_mem_alloc\n",
      "   OMP_CANCELLATION=false\n",
      "   OMP_DEFAULT_DEVICE=0\n",
      "   OMP_DISPLAY_AFFINITY=false\n",
      "   OMP_DISPLAY_ENV=false\n",
      "   OMP_DYNAMIC=false\n",
      "   OMP_MAX_ACTIVE_LEVELS=1\n",
      "   OMP_MAX_TASK_PRIORITY=0\n",
      "   OMP_NESTED: deprecated; max-active-levels-var=1\n",
      "   OMP_NUM_THREADS: value is not defined\n",
      "   OMP_PLACES: value is not defined\n",
      "   OMP_PROC_BIND='intel'\n",
      "   OMP_SCHEDULE='static'\n",
      "   OMP_STACKSIZE=8M\n",
      "   OMP_TARGET_OFFLOAD=DEFAULT\n",
      "   OMP_THREAD_LIMIT=2147483647\n",
      "   OMP_WAIT_POLICY=PASSIVE\n",
      "   KMP_AFFINITY='verbose,warnings,respect,granularity=fine,compact,1,0'\n",
      "\n",
      "2022-01-14 16:43:51.136100: I tensorflow/core/common_runtime/process_util.cc:146] Creating new thread pool with default inter op setting: 2. Tune using inter_op_parallelism_threads for best performance.\n"
     ]
    }
   ],
   "source": [
    "x = tf.random.normal((32, 24, 24, 3))\n",
    "assert BatchNormalization(3)(x).shape == x.shape"
   ]
  },
  {
   "cell_type": "markdown",
   "id": "12d69445",
   "metadata": {
    "papermill": {
     "duration": 0.014839,
     "end_time": "2022-01-14T16:43:51.274621",
     "exception": false,
     "start_time": "2022-01-14T16:43:51.259782",
     "status": "completed"
    },
    "tags": []
   },
   "source": [
    "# Layer Normalization\n",
    "Layer normalization, introduced in the paper [Layer Normalization](https://arxiv.org/pdf/1607.06450.pdf) is a simpler normalization method that is generally used for NLP tasks but works on a wider range of settings.\n",
    "\n",
    "<center><h3>$ LN(x) = \\gamma . \\frac{X - E_{H, W, C}[X]}{\\sqrt{Var_{H, W, C}[x] + \\epsilon}} + \\beta $</h3></center>"
   ]
  },
  {
   "cell_type": "code",
   "execution_count": 4,
   "id": "b278f3a7",
   "metadata": {
    "execution": {
     "iopub.execute_input": "2022-01-14T16:43:51.308510Z",
     "iopub.status.busy": "2022-01-14T16:43:51.307798Z",
     "iopub.status.idle": "2022-01-14T16:43:51.316309Z",
     "shell.execute_reply": "2022-01-14T16:43:51.317180Z",
     "shell.execute_reply.started": "2022-01-14T16:43:03.519364Z"
    },
    "papermill": {
     "duration": 0.027644,
     "end_time": "2022-01-14T16:43:51.317368",
     "exception": false,
     "start_time": "2022-01-14T16:43:51.289724",
     "status": "completed"
    },
    "tags": []
   },
   "outputs": [],
   "source": [
    "class LayerNormalization(L.Layer):\n",
    "    def __init__(self, eps=1e-5,  **kwargs):\n",
    "        super().__init__(**kwargs)\n",
    "        self.eps = eps    \n",
    "        \n",
    "    def build(self, input_shape):\n",
    "        self.gain = self.add_weight(shape=input_shape, initializer='zeros', trainable=True)  \n",
    "        self.bias = self.add_weight(shape=input_shape, initializer='ones', trainable=True)  \n",
    "    \n",
    "    def call(self, x):\n",
    "        normalized_shape = x.shape[1:]\n",
    "        \n",
    "        dims = [-(i + 1) for i in range(len(normalized_shape))]\n",
    "          \n",
    "        mean = tf.reduce_mean(x, dims, keepdims=True)\n",
    "        mean_x2 = tf.reduce_mean((x**2), dims, keepdims=True)\n",
    "        var = mean_x2 - mean ** 2\n",
    "        \n",
    "        x_norm = (x - mean) / tf.sqrt(var + self.eps)\n",
    "        x_norm = self.gain * x_norm + self.bias\n",
    "\n",
    "        return x_norm"
   ]
  },
  {
   "cell_type": "code",
   "execution_count": 5,
   "id": "927c0534",
   "metadata": {
    "execution": {
     "iopub.execute_input": "2022-01-14T16:43:51.353093Z",
     "iopub.status.busy": "2022-01-14T16:43:51.350662Z",
     "iopub.status.idle": "2022-01-14T16:43:51.363645Z",
     "shell.execute_reply": "2022-01-14T16:43:51.364250Z",
     "shell.execute_reply.started": "2022-01-14T16:43:03.530611Z"
    },
    "papermill": {
     "duration": 0.031732,
     "end_time": "2022-01-14T16:43:51.364444",
     "exception": false,
     "start_time": "2022-01-14T16:43:51.332712",
     "status": "completed"
    },
    "tags": []
   },
   "outputs": [],
   "source": [
    "x = tf.random.normal((32, 24, 24, 3))\n",
    "assert LayerNormalization()(x).shape == x.shape"
   ]
  },
  {
   "cell_type": "markdown",
   "id": "a6b20c25",
   "metadata": {
    "papermill": {
     "duration": 0.014939,
     "end_time": "2022-01-14T16:43:51.395461",
     "exception": false,
     "start_time": "2022-01-14T16:43:51.380522",
     "status": "completed"
    },
    "tags": []
   },
   "source": [
    "# Instance Normalization\n",
    "Instance normalization was introduced in the paper [Instance Normalization: The Missing Ingredient for Fast Stylization](https://arxiv.org/pdf/1607.08022.pdf) to improve style transfer.\n",
    "\n",
    "<center><h3>$ IN(x) = \\gamma . \\frac{X - E_{H, W}[X]}{\\sqrt{Var_{H, W}[x] + \\epsilon}} + \\beta $</h3></center>"
   ]
  },
  {
   "cell_type": "code",
   "execution_count": 6,
   "id": "0f1d57a3",
   "metadata": {
    "execution": {
     "iopub.execute_input": "2022-01-14T16:43:51.428980Z",
     "iopub.status.busy": "2022-01-14T16:43:51.428293Z",
     "iopub.status.idle": "2022-01-14T16:43:51.437672Z",
     "shell.execute_reply": "2022-01-14T16:43:51.438204Z",
     "shell.execute_reply.started": "2022-01-14T16:43:03.558863Z"
    },
    "papermill": {
     "duration": 0.027741,
     "end_time": "2022-01-14T16:43:51.438380",
     "exception": false,
     "start_time": "2022-01-14T16:43:51.410639",
     "status": "completed"
    },
    "tags": []
   },
   "outputs": [],
   "source": [
    "class InstanceNormalization(L.Layer):\n",
    "    def __init__(self, eps=1e-5,  **kwargs):\n",
    "        super().__init__(**kwargs)\n",
    "        self.eps = eps\n",
    "        \n",
    "    def build(self, input_shape):\n",
    "        self.scale = self.add_weight(shape=input_shape[-1], initializer='zeros', trainable=True)\n",
    "        self.shift = self.add_weight(shape=input_shape[-1], initializer='ones', trainable=True)\n",
    "    \n",
    "    def call(self, x):\n",
    "        x_shape = x.shape\n",
    "        batch_size = x_shape[0]\n",
    "        channels = x.shape[-1] \n",
    "        \n",
    "        x = tf.reshape(x, (batch_size, -1, channels))\n",
    "        \n",
    "        mean = tf.reduce_mean(x, [1], keepdims=True)\n",
    "        mean_x2 = tf.reduce_mean((x ** 2), [1], keepdims=True)\n",
    "        var = mean_x2 - mean ** 2\n",
    "        \n",
    "        x_norm = (x - mean) / tf.sqrt(var + self.eps)\n",
    "        x_norm = tf.reshape(self.scale, (1, 1, -1)) * x_norm +tf.reshape(self.shift, (1, 1, -1))\n",
    "        \n",
    "        return tf.reshape(x_norm, x_shape) "
   ]
  },
  {
   "cell_type": "code",
   "execution_count": 7,
   "id": "9abd2410",
   "metadata": {
    "execution": {
     "iopub.execute_input": "2022-01-14T16:43:51.474914Z",
     "iopub.status.busy": "2022-01-14T16:43:51.474199Z",
     "iopub.status.idle": "2022-01-14T16:43:51.489258Z",
     "shell.execute_reply": "2022-01-14T16:43:51.488725Z",
     "shell.execute_reply.started": "2022-01-14T16:43:03.570199Z"
    },
    "papermill": {
     "duration": 0.035547,
     "end_time": "2022-01-14T16:43:51.489405",
     "exception": false,
     "start_time": "2022-01-14T16:43:51.453858",
     "status": "completed"
    },
    "tags": []
   },
   "outputs": [],
   "source": [
    "x = tf.random.normal((32, 24, 24, 3))\n",
    "assert InstanceNormalization(3)(x).shape == x.shape"
   ]
  },
  {
   "cell_type": "markdown",
   "id": "3ee0ac40",
   "metadata": {
    "papermill": {
     "duration": 0.014925,
     "end_time": "2022-01-14T16:43:51.519692",
     "exception": false,
     "start_time": "2022-01-14T16:43:51.504767",
     "status": "completed"
    },
    "tags": []
   },
   "source": [
    "# Group Normalization\n",
    "Batch Normalization works well for large enough batch sizes but not well for small batch sizes, because it normalizes over the batch. Training large models with large batch sizes is not possible due to the memory capacity of the devices.\n",
    "\n",
    "Group Normalization introduced in the paper [Group Normalization](https://arxiv.org/pdf/1803.08494.pdf), normalizes a set of features together as a group. This is based on the observation that classical features such as SIFT and HOG are group-wise features. The paper proposes dividing feature channels into groups and then separately normalizing all channels within each group.\n",
    "\n",
    "All normalization layers can be defined by the following computation.\n",
    "<center><h3>$ \\hat{x}_{i} = \\frac{1}{\\sigma_{i}}(x_{i} - \\mu_{i}) $</h3></center>\n",
    "where $ \\mu_{i} $ and $ \\sigma_{i} $ are mean and standard deviation\n",
    "<center><h3>$ \\mu_{i}  = \\frac{1}{m}\\Sigma_{k \\in S_{i}} x_{k} $</h3></center>\n",
    "<center><h3>$ \\sigma_{i}  = \\sqrt{\\frac{1}{m}\\Sigma_{k \\in S_{i}} (x_{k} - \\mu_{i})^{2} + \\epsilon} $</h3></center>\n",
    "$ S_{i} $ is the set of indexes across which the mean and standard deviation are calculated for index i. m is the size of the set $ S_{i} $ which is the same for all i.\n",
    "\n",
    "The definition of $ S_{i} $ is different for Batch normalization, Layer normalization, and Instance normalization.\n",
    "\n",
    "\n",
    "**Batch Normalization**\n",
    "<center><h3> $ S_{i} = \\{ k|k_{c} = i_{c} \\} $ </h3></center>\n",
    "The values that share the same feature channel are normalized together.\n",
    "<br><br>\n",
    "\n",
    "**Layer Normalization**\n",
    "<center><h3> $ S_{i} = \\{ k|k_{n} = i_{n} \\} $ </h3></center>\n",
    "The values from the same sample in the batch are normalized together.\n",
    "<br><br>\n",
    "\n",
    "**Instance Normalization**\n",
    "<center><h3> $ S_{i} = \\{ k|k_{n} = i_{n}, k_{c} = i_{c} \\} $ </h3></center>\n",
    "The values from the same sample and same feature channel are normalized together.\n",
    "\n",
    "<br><br>\n",
    "\n",
    "**Group Normalization**\n",
    "<center><h3> $ S_{i} = \\{ k|k_{n} = i_{n}, floor(\\frac{k_{c}}{C/G}) = floor(\\frac{i_{c}}{C/G}) \\} $ </h3></center>\n",
    "where $ G $ is the number of groups and $ C $ is the number of channels.\n",
    "\n",
    "Group normalization normalizes values of the same sample and the same group of channels together."
   ]
  },
  {
   "cell_type": "code",
   "execution_count": 8,
   "id": "74a13078",
   "metadata": {
    "execution": {
     "iopub.execute_input": "2022-01-14T16:43:51.561086Z",
     "iopub.status.busy": "2022-01-14T16:43:51.558110Z",
     "iopub.status.idle": "2022-01-14T16:43:51.562797Z",
     "shell.execute_reply": "2022-01-14T16:43:51.563253Z",
     "shell.execute_reply.started": "2022-01-14T16:43:03.601144Z"
    },
    "papermill": {
     "duration": 0.028435,
     "end_time": "2022-01-14T16:43:51.563428",
     "exception": false,
     "start_time": "2022-01-14T16:43:51.534993",
     "status": "completed"
    },
    "tags": []
   },
   "outputs": [],
   "source": [
    "class GroupNormalization(L.Layer):\n",
    "    def __init__(self, groups, channels, eps=1e-5,  **kwargs):\n",
    "        super().__init__(**kwargs)\n",
    "        self.eps = eps\n",
    "        self.groups = groups\n",
    "        self.channels = channels\n",
    "        \n",
    "        self.scale = self.add_weight(shape=channels, initializer='zeros', trainable=True)  \n",
    "        self.shift = self.add_weight(shape=channels, initializer='ones', trainable=True)   \n",
    "        \n",
    "    def call(self, x):\n",
    "        x_shape = x.shape\n",
    "        batch_size = x_shape[0]\n",
    "        \n",
    "        x = tf.reshape(x, (batch_size, -1, self.groups))\n",
    "        \n",
    "        mean = tf.reduce_mean(x, [1], keepdims=True)\n",
    "        mean_x2 = tf.reduce_mean((x ** 2), [1], keepdims=True)\n",
    "        var = mean_x2 - mean ** 2\n",
    "        \n",
    "        x_norm = (x - mean) / tf.sqrt(var + self.eps)\n",
    "        x_norm = tf.reshape(x_norm, (batch_size, -1, self.channels))\n",
    "        x_norm = tf.reshape(self.scale, (1, 1, -1)) * x_norm +tf.reshape(self.shift, (1, 1, -1))\n",
    "        \n",
    "        return tf.reshape(x_norm, x_shape) "
   ]
  },
  {
   "cell_type": "code",
   "execution_count": 9,
   "id": "26cfb012",
   "metadata": {
    "execution": {
     "iopub.execute_input": "2022-01-14T16:43:51.597309Z",
     "iopub.status.busy": "2022-01-14T16:43:51.596650Z",
     "iopub.status.idle": "2022-01-14T16:43:51.614649Z",
     "shell.execute_reply": "2022-01-14T16:43:51.614057Z",
     "shell.execute_reply.started": "2022-01-14T16:43:03.617095Z"
    },
    "papermill": {
     "duration": 0.03602,
     "end_time": "2022-01-14T16:43:51.614812",
     "exception": false,
     "start_time": "2022-01-14T16:43:51.578792",
     "status": "completed"
    },
    "tags": []
   },
   "outputs": [],
   "source": [
    "x = tf.random.normal((32, 24, 24, 8))\n",
    "assert GroupNormalization(2, 8)(x).shape == x.shape"
   ]
  },
  {
   "cell_type": "markdown",
   "id": "c7e0976e",
   "metadata": {
    "papermill": {
     "duration": 0.015515,
     "end_time": "2022-01-14T16:43:51.645864",
     "exception": false,
     "start_time": "2022-01-14T16:43:51.630349",
     "status": "completed"
    },
    "tags": []
   },
   "source": [
    "# Weight Standardization\n",
    "Batch Normalization doesn't work well when the batch size is too small, which happens when training large networks because of device memory limitations. The paper [Micro-Batch Training with Batch-Channel Normalization and Weight Standardization](https://arxiv.org/pdf/1903.10520.pdf) introduces Weight Standardization with Batch-Channel Normalization as a better alternative.\n",
    "\n",
    "<center><h3> $ \\hat{W_{i, j}} = \\frac{W_{i, j} - \\mu w_{i, .}}{ \\sigma w_{i, .} } $ </h3></center>\n",
    "where\n",
    "<center><h3> $ W \\in  R^{O \\times I} $ </h3></center>\n",
    "<center><h3> $ \\mu w_{i, .} = \\frac{1}{I} \\Sigma_{j=1}^{I} W_{i, j} $ </h3></center>\n",
    "<center><h3> $  \\sigma w_{i, .} = \\sqrt{\\frac{1}{I} \\Sigma_{j=1}^{I} W_{i, j}^{2} - \\mu w_{i, .}^{2} + \\epsilon} $ </h3></center>\n",
    "for a 2D-convolution layer $ O $ is the number of output channels and $ I $ is the number of input channels times the kernel size $ (I = C_{in} \\times K_{H} \\times K_{W}) $"
   ]
  },
  {
   "cell_type": "code",
   "execution_count": 10,
   "id": "5393f7b5",
   "metadata": {
    "execution": {
     "iopub.execute_input": "2022-01-14T16:43:51.685021Z",
     "iopub.status.busy": "2022-01-14T16:43:51.684264Z",
     "iopub.status.idle": "2022-01-14T16:43:51.686027Z",
     "shell.execute_reply": "2022-01-14T16:43:51.686460Z",
     "shell.execute_reply.started": "2022-01-14T16:43:03.646905Z"
    },
    "papermill": {
     "duration": 0.025046,
     "end_time": "2022-01-14T16:43:51.686667",
     "exception": false,
     "start_time": "2022-01-14T16:43:51.661621",
     "status": "completed"
    },
    "tags": []
   },
   "outputs": [],
   "source": [
    "def weight_standardization(weight):\n",
    "    c_out, c_in, *kernel_shape = weight.shape\n",
    "    weight = tf.reshape(weight, (c_out, -1))\n",
    "    \n",
    "    mean = tf.reduce_mean(weight, [1], keepdims=True)\n",
    "    mean_x2 = tf.reduce_mean((weight ** 2), [1], keepdims=True)\n",
    "    var = mean_x2 - mean ** 2\n",
    "    \n",
    "    weight = (weight - mean) / (tf.sqrt(var + eps))\n",
    "    \n",
    "    return tf.reshape(weight, (c_out, c_in, *kernel_shape)) "
   ]
  },
  {
   "cell_type": "markdown",
   "id": "89cd7a8a",
   "metadata": {
    "papermill": {
     "duration": 0.015287,
     "end_time": "2022-01-14T16:43:51.717322",
     "exception": false,
     "start_time": "2022-01-14T16:43:51.702035",
     "status": "completed"
    },
    "tags": []
   },
   "source": [
    "# Batch-Channel Normalization\n",
    "\n",
    "This first performs a batch normalizationThis first performs a batch normalization. Then a channel normalization is performed.\n",
    "\n",
    "Channel Normalization is similar to Group Normalization but affine transform is done group wise."
   ]
  },
  {
   "cell_type": "code",
   "execution_count": 11,
   "id": "4cd8c387",
   "metadata": {
    "execution": {
     "iopub.execute_input": "2022-01-14T16:43:51.751981Z",
     "iopub.status.busy": "2022-01-14T16:43:51.751237Z",
     "iopub.status.idle": "2022-01-14T16:43:51.762437Z",
     "shell.execute_reply": "2022-01-14T16:43:51.761887Z",
     "shell.execute_reply.started": "2022-01-14T16:43:03.656101Z"
    },
    "papermill": {
     "duration": 0.029713,
     "end_time": "2022-01-14T16:43:51.762617",
     "exception": false,
     "start_time": "2022-01-14T16:43:51.732904",
     "status": "completed"
    },
    "tags": []
   },
   "outputs": [],
   "source": [
    "class ChannelNormalization(L.Layer):\n",
    "    def __init__(self, groups, channels, eps=1e-5,  **kwargs):\n",
    "        super().__init__(**kwargs)\n",
    "        self.eps = eps\n",
    "        self.groups = groups\n",
    "        self.channels = channels\n",
    "        \n",
    "        self.scale = self.add_weight(shape=groups, initializer='zeros', trainable=True)  \n",
    "        self.shift = self.add_weight(shape=groups, initializer='ones', trainable=True)          \n",
    "        \n",
    "    def call(self, x):\n",
    "        x_shape = x.shape\n",
    "        batch_size = x_shape[0]\n",
    "        \n",
    "        x = tf.reshape(x, (batch_size, -1, self.groups))\n",
    "        \n",
    "        mean = tf.reduce_mean(x, [1], keepdims=True)\n",
    "        mean_x2 = tf.reduce_mean((x ** 2), [1], keepdims=True)\n",
    "        var = mean_x2 - mean ** 2\n",
    "        \n",
    "        x_norm = (x - mean) / tf.sqrt(var + self.eps)\n",
    "        x_norm = tf.reshape(self.scale, (1, 1, -1)) * x_norm +tf.reshape(self.shift, (1, 1, -1))\n",
    "        \n",
    "        return tf.reshape(x_norm, x_shape) "
   ]
  },
  {
   "cell_type": "code",
   "execution_count": 12,
   "id": "3420c73f",
   "metadata": {
    "execution": {
     "iopub.execute_input": "2022-01-14T16:43:51.800363Z",
     "iopub.status.busy": "2022-01-14T16:43:51.799100Z",
     "iopub.status.idle": "2022-01-14T16:43:51.813311Z",
     "shell.execute_reply": "2022-01-14T16:43:51.813869Z",
     "shell.execute_reply.started": "2022-01-14T16:43:03.673083Z"
    },
    "papermill": {
     "duration": 0.036064,
     "end_time": "2022-01-14T16:43:51.814049",
     "exception": false,
     "start_time": "2022-01-14T16:43:51.777985",
     "status": "completed"
    },
    "tags": []
   },
   "outputs": [],
   "source": [
    "x = tf.random.normal((32, 24, 24, 8))\n",
    "assert ChannelNormalization(2, 8)(x).shape == x.shape"
   ]
  },
  {
   "cell_type": "markdown",
   "id": "1268806e",
   "metadata": {
    "papermill": {
     "duration": 0.015002,
     "end_time": "2022-01-14T16:43:51.844801",
     "exception": false,
     "start_time": "2022-01-14T16:43:51.829799",
     "status": "completed"
    },
    "tags": []
   },
   "source": [
    "# References\n",
    "1. [Batch Normalization: Accelerating Deep Network Training by Reducing Internal Covariate Shift](https://arxiv.org/pdf/1502.03167.pdf)\n",
    "2. [Layer Normalization](https://arxiv.org/pdf/1607.06450.pdf)\n",
    "3. [Instance Normalization: The Missing Ingredient for Fast Stylization](https://arxiv.org/pdf/1607.08022.pdf)\n",
    "4. [Group Normalization](https://arxiv.org/pdf/1803.08494.pdf)\n",
    "5. [Micro-Batch Training with Batch-Channel Normalization and Weight Standardization](https://arxiv.org/pdf/1903.10520.pdf)"
   ]
  }
 ],
 "metadata": {
  "kernelspec": {
   "display_name": "Python 3",
   "language": "python",
   "name": "python3"
  },
  "language_info": {
   "codemirror_mode": {
    "name": "ipython",
    "version": 3
   },
   "file_extension": ".py",
   "mimetype": "text/x-python",
   "name": "python",
   "nbconvert_exporter": "python",
   "pygments_lexer": "ipython3",
   "version": "3.7.12"
  },
  "papermill": {
   "default_parameters": {},
   "duration": 20.65825,
   "end_time": "2022-01-14T16:43:55.382310",
   "environment_variables": {},
   "exception": null,
   "input_path": "__notebook__.ipynb",
   "output_path": "__notebook__.ipynb",
   "parameters": {},
   "start_time": "2022-01-14T16:43:34.724060",
   "version": "2.3.3"
  }
 },
 "nbformat": 4,
 "nbformat_minor": 5
}
