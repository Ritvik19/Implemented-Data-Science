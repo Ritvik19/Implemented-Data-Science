{
 "cells": [
  {
   "cell_type": "markdown",
   "id": "a6751aa9",
   "metadata": {
    "_cell_guid": "b1076dfc-b9ad-4769-8c92-a6c4dae69d19",
    "_uuid": "8f2839f25d086af736a60e9eeb907d3b93b6e0e5",
    "papermill": {
     "duration": 0.003778,
     "end_time": "2022-11-20T05:49:14.444212",
     "exception": false,
     "start_time": "2022-11-20T05:49:14.440434",
     "status": "completed"
    },
    "tags": []
   },
   "source": [
    "# Syllable Tokenization"
   ]
  },
  {
   "cell_type": "code",
   "execution_count": 1,
   "id": "345b151a",
   "metadata": {
    "execution": {
     "iopub.execute_input": "2022-11-20T05:49:14.452095Z",
     "iopub.status.busy": "2022-11-20T05:49:14.451655Z",
     "iopub.status.idle": "2022-11-20T05:49:16.675321Z",
     "shell.execute_reply": "2022-11-20T05:49:16.673236Z"
    },
    "papermill": {
     "duration": 2.233495,
     "end_time": "2022-11-20T05:49:16.680909",
     "exception": false,
     "start_time": "2022-11-20T05:49:14.447414",
     "status": "completed"
    },
    "tags": []
   },
   "outputs": [],
   "source": [
    "import numpy as np\n",
    "import pandas as pd\n",
    "from tqdm.auto import tqdm\n",
    "from sklearn.model_selection import StratifiedKFold\n",
    "from sklearn.feature_extraction.text import TfidfVectorizer\n",
    "from nltk.tokenize.sonority_sequencing import SyllableTokenizer\n",
    "from sklearn.linear_model import LogisticRegression\n",
    "from sklearn.pipeline import Pipeline\n",
    "from sklearn.compose import ColumnTransformer\n",
    "from sklearn import set_config\n",
    "\n",
    "tqdm.pandas()\n",
    "set_config(display=\"diagram\")"
   ]
  },
  {
   "cell_type": "code",
   "execution_count": 2,
   "id": "4a510e84",
   "metadata": {
    "execution": {
     "iopub.execute_input": "2022-11-20T05:49:16.690782Z",
     "iopub.status.busy": "2022-11-20T05:49:16.690013Z",
     "iopub.status.idle": "2022-11-20T05:49:16.766219Z",
     "shell.execute_reply": "2022-11-20T05:49:16.764900Z"
    },
    "papermill": {
     "duration": 0.087228,
     "end_time": "2022-11-20T05:49:16.772048",
     "exception": false,
     "start_time": "2022-11-20T05:49:16.684820",
     "status": "completed"
    },
    "tags": []
   },
   "outputs": [
    {
     "name": "stdout",
     "output_type": "stream",
     "text": [
      "(573, 5)\n"
     ]
    },
    {
     "data": {
      "text/html": [
       "<div>\n",
       "<style scoped>\n",
       "    .dataframe tbody tr th:only-of-type {\n",
       "        vertical-align: middle;\n",
       "    }\n",
       "\n",
       "    .dataframe tbody tr th {\n",
       "        vertical-align: top;\n",
       "    }\n",
       "\n",
       "    .dataframe thead th {\n",
       "        text-align: right;\n",
       "    }\n",
       "</style>\n",
       "<table border=\"1\" class=\"dataframe\">\n",
       "  <thead>\n",
       "    <tr style=\"text-align: right;\">\n",
       "      <th></th>\n",
       "      <th>author</th>\n",
       "      <th>content</th>\n",
       "      <th>poem name</th>\n",
       "      <th>age</th>\n",
       "      <th>type</th>\n",
       "    </tr>\n",
       "  </thead>\n",
       "  <tbody>\n",
       "    <tr>\n",
       "      <th>0</th>\n",
       "      <td>WILLIAM SHAKESPEARE</td>\n",
       "      <td>Let the bird of loudest lay\\r\\nOn the sole Ara...</td>\n",
       "      <td>The Phoenix and the Turtle</td>\n",
       "      <td>Renaissance</td>\n",
       "      <td>Mythology &amp; Folklore</td>\n",
       "    </tr>\n",
       "    <tr>\n",
       "      <th>1</th>\n",
       "      <td>DUCHESS OF NEWCASTLE MARGARET CAVENDISH</td>\n",
       "      <td>Sir Charles into my chamber coming in,\\r\\nWhen...</td>\n",
       "      <td>An Epilogue to the Above</td>\n",
       "      <td>Renaissance</td>\n",
       "      <td>Mythology &amp; Folklore</td>\n",
       "    </tr>\n",
       "    <tr>\n",
       "      <th>2</th>\n",
       "      <td>THOMAS BASTARD</td>\n",
       "      <td>Our vice runs beyond all that old men saw,\\r\\n...</td>\n",
       "      <td>Book 7, Epigram 42</td>\n",
       "      <td>Renaissance</td>\n",
       "      <td>Mythology &amp; Folklore</td>\n",
       "    </tr>\n",
       "    <tr>\n",
       "      <th>3</th>\n",
       "      <td>EDMUND SPENSER</td>\n",
       "      <td>Lo I the man, whose Muse whilome did maske,\\r\\...</td>\n",
       "      <td>from The Faerie Queene: Book I, Canto I</td>\n",
       "      <td>Renaissance</td>\n",
       "      <td>Mythology &amp; Folklore</td>\n",
       "    </tr>\n",
       "    <tr>\n",
       "      <th>4</th>\n",
       "      <td>RICHARD BARNFIELD</td>\n",
       "      <td>Long have I longd to see my love againe,\\r\\nSt...</td>\n",
       "      <td>Sonnet 16</td>\n",
       "      <td>Renaissance</td>\n",
       "      <td>Mythology &amp; Folklore</td>\n",
       "    </tr>\n",
       "  </tbody>\n",
       "</table>\n",
       "</div>"
      ],
      "text/plain": [
       "                                    author  \\\n",
       "0                      WILLIAM SHAKESPEARE   \n",
       "1  DUCHESS OF NEWCASTLE MARGARET CAVENDISH   \n",
       "2                           THOMAS BASTARD   \n",
       "3                           EDMUND SPENSER   \n",
       "4                        RICHARD BARNFIELD   \n",
       "\n",
       "                                             content  \\\n",
       "0  Let the bird of loudest lay\\r\\nOn the sole Ara...   \n",
       "1  Sir Charles into my chamber coming in,\\r\\nWhen...   \n",
       "2  Our vice runs beyond all that old men saw,\\r\\n...   \n",
       "3  Lo I the man, whose Muse whilome did maske,\\r\\...   \n",
       "4  Long have I longd to see my love againe,\\r\\nSt...   \n",
       "\n",
       "                                 poem name          age                  type  \n",
       "0               The Phoenix and the Turtle  Renaissance  Mythology & Folklore  \n",
       "1                 An Epilogue to the Above  Renaissance  Mythology & Folklore  \n",
       "2                       Book 7, Epigram 42  Renaissance  Mythology & Folklore  \n",
       "3  from The Faerie Queene: Book I, Canto I  Renaissance  Mythology & Folklore  \n",
       "4                                Sonnet 16  Renaissance  Mythology & Folklore  "
      ]
     },
     "execution_count": 2,
     "metadata": {},
     "output_type": "execute_result"
    }
   ],
   "source": [
    "df = pd.read_csv('../input/modern-renaissance-poetry/all.csv').fillna('')\n",
    "print(df.shape)\n",
    "df.head()"
   ]
  },
  {
   "cell_type": "code",
   "execution_count": 3,
   "id": "be69a22c",
   "metadata": {
    "execution": {
     "iopub.execute_input": "2022-11-20T05:49:16.780002Z",
     "iopub.status.busy": "2022-11-20T05:49:16.779101Z",
     "iopub.status.idle": "2022-11-20T05:49:16.785376Z",
     "shell.execute_reply": "2022-11-20T05:49:16.784114Z"
    },
    "papermill": {
     "duration": 0.012849,
     "end_time": "2022-11-20T05:49:16.787826",
     "exception": false,
     "start_time": "2022-11-20T05:49:16.774977",
     "status": "completed"
    },
    "tags": []
   },
   "outputs": [],
   "source": [
    "tokenizer = SyllableTokenizer()\n",
    "def syllable_tokenizer(text):\n",
    "    return tokenizer.tokenize(text.lower())\n",
    "\n",
    "def identity_tokenizer(text):\n",
    "    return text\n",
    "\n",
    "# df['content'] = df['content'].progress_apply(syllable_tokenizer)"
   ]
  },
  {
   "cell_type": "code",
   "execution_count": 4,
   "id": "afcab538",
   "metadata": {
    "execution": {
     "iopub.execute_input": "2022-11-20T05:49:16.796278Z",
     "iopub.status.busy": "2022-11-20T05:49:16.795074Z",
     "iopub.status.idle": "2022-11-20T05:49:16.866045Z",
     "shell.execute_reply": "2022-11-20T05:49:16.864226Z"
    },
    "papermill": {
     "duration": 0.078213,
     "end_time": "2022-11-20T05:49:16.869069",
     "exception": false,
     "start_time": "2022-11-20T05:49:16.790856",
     "status": "completed"
    },
    "tags": []
   },
   "outputs": [
    {
     "data": {
      "text/html": [
       "<style>#sk-acaba608-1bb4-4bb9-b397-02d8b6c1c20f {color: black;background-color: white;}#sk-acaba608-1bb4-4bb9-b397-02d8b6c1c20f pre{padding: 0;}#sk-acaba608-1bb4-4bb9-b397-02d8b6c1c20f div.sk-toggleable {background-color: white;}#sk-acaba608-1bb4-4bb9-b397-02d8b6c1c20f label.sk-toggleable__label {cursor: pointer;display: block;width: 100%;margin-bottom: 0;padding: 0.3em;box-sizing: border-box;text-align: center;}#sk-acaba608-1bb4-4bb9-b397-02d8b6c1c20f label.sk-toggleable__label-arrow:before {content: \"▸\";float: left;margin-right: 0.25em;color: #696969;}#sk-acaba608-1bb4-4bb9-b397-02d8b6c1c20f label.sk-toggleable__label-arrow:hover:before {color: black;}#sk-acaba608-1bb4-4bb9-b397-02d8b6c1c20f div.sk-estimator:hover label.sk-toggleable__label-arrow:before {color: black;}#sk-acaba608-1bb4-4bb9-b397-02d8b6c1c20f div.sk-toggleable__content {max-height: 0;max-width: 0;overflow: hidden;text-align: left;background-color: #f0f8ff;}#sk-acaba608-1bb4-4bb9-b397-02d8b6c1c20f div.sk-toggleable__content pre {margin: 0.2em;color: black;border-radius: 0.25em;background-color: #f0f8ff;}#sk-acaba608-1bb4-4bb9-b397-02d8b6c1c20f input.sk-toggleable__control:checked~div.sk-toggleable__content {max-height: 200px;max-width: 100%;overflow: auto;}#sk-acaba608-1bb4-4bb9-b397-02d8b6c1c20f input.sk-toggleable__control:checked~label.sk-toggleable__label-arrow:before {content: \"▾\";}#sk-acaba608-1bb4-4bb9-b397-02d8b6c1c20f div.sk-estimator input.sk-toggleable__control:checked~label.sk-toggleable__label {background-color: #d4ebff;}#sk-acaba608-1bb4-4bb9-b397-02d8b6c1c20f div.sk-label input.sk-toggleable__control:checked~label.sk-toggleable__label {background-color: #d4ebff;}#sk-acaba608-1bb4-4bb9-b397-02d8b6c1c20f input.sk-hidden--visually {border: 0;clip: rect(1px 1px 1px 1px);clip: rect(1px, 1px, 1px, 1px);height: 1px;margin: -1px;overflow: hidden;padding: 0;position: absolute;width: 1px;}#sk-acaba608-1bb4-4bb9-b397-02d8b6c1c20f div.sk-estimator {font-family: monospace;background-color: #f0f8ff;border: 1px dotted black;border-radius: 0.25em;box-sizing: border-box;margin-bottom: 0.5em;}#sk-acaba608-1bb4-4bb9-b397-02d8b6c1c20f div.sk-estimator:hover {background-color: #d4ebff;}#sk-acaba608-1bb4-4bb9-b397-02d8b6c1c20f div.sk-parallel-item::after {content: \"\";width: 100%;border-bottom: 1px solid gray;flex-grow: 1;}#sk-acaba608-1bb4-4bb9-b397-02d8b6c1c20f div.sk-label:hover label.sk-toggleable__label {background-color: #d4ebff;}#sk-acaba608-1bb4-4bb9-b397-02d8b6c1c20f div.sk-serial::before {content: \"\";position: absolute;border-left: 1px solid gray;box-sizing: border-box;top: 2em;bottom: 0;left: 50%;}#sk-acaba608-1bb4-4bb9-b397-02d8b6c1c20f div.sk-serial {display: flex;flex-direction: column;align-items: center;background-color: white;padding-right: 0.2em;padding-left: 0.2em;}#sk-acaba608-1bb4-4bb9-b397-02d8b6c1c20f div.sk-item {z-index: 1;}#sk-acaba608-1bb4-4bb9-b397-02d8b6c1c20f div.sk-parallel {display: flex;align-items: stretch;justify-content: center;background-color: white;}#sk-acaba608-1bb4-4bb9-b397-02d8b6c1c20f div.sk-parallel::before {content: \"\";position: absolute;border-left: 1px solid gray;box-sizing: border-box;top: 2em;bottom: 0;left: 50%;}#sk-acaba608-1bb4-4bb9-b397-02d8b6c1c20f div.sk-parallel-item {display: flex;flex-direction: column;position: relative;background-color: white;}#sk-acaba608-1bb4-4bb9-b397-02d8b6c1c20f div.sk-parallel-item:first-child::after {align-self: flex-end;width: 50%;}#sk-acaba608-1bb4-4bb9-b397-02d8b6c1c20f div.sk-parallel-item:last-child::after {align-self: flex-start;width: 50%;}#sk-acaba608-1bb4-4bb9-b397-02d8b6c1c20f div.sk-parallel-item:only-child::after {width: 0;}#sk-acaba608-1bb4-4bb9-b397-02d8b6c1c20f div.sk-dashed-wrapped {border: 1px dashed gray;margin: 0 0.4em 0.5em 0.4em;box-sizing: border-box;padding-bottom: 0.4em;background-color: white;position: relative;}#sk-acaba608-1bb4-4bb9-b397-02d8b6c1c20f div.sk-label label {font-family: monospace;font-weight: bold;background-color: white;display: inline-block;line-height: 1.2em;}#sk-acaba608-1bb4-4bb9-b397-02d8b6c1c20f div.sk-label-container {position: relative;z-index: 2;text-align: center;}#sk-acaba608-1bb4-4bb9-b397-02d8b6c1c20f div.sk-container {/* jupyter's `normalize.less` sets `[hidden] { display: none; }` but bootstrap.min.css set `[hidden] { display: none !important; }` so we also need the `!important` here to be able to override the default hidden behavior on the sphinx rendered scikit-learn.org. See: https://github.com/scikit-learn/scikit-learn/issues/21755 */display: inline-block !important;position: relative;}#sk-acaba608-1bb4-4bb9-b397-02d8b6c1c20f div.sk-text-repr-fallback {display: none;}</style><div id=\"sk-acaba608-1bb4-4bb9-b397-02d8b6c1c20f\" class=\"sk-top-container\"><div class=\"sk-text-repr-fallback\"><pre>Pipeline(steps=[(&#x27;vectorizer&#x27;,\n",
       "                 ColumnTransformer(transformers=[(&#x27;author&#x27;,\n",
       "                                                  TfidfVectorizer(sublinear_tf=True,\n",
       "                                                                  use_idf=False),\n",
       "                                                  &#x27;author&#x27;),\n",
       "                                                 (&#x27;content&#x27;,\n",
       "                                                  TfidfVectorizer(lowercase=False,\n",
       "                                                                  tokenizer=&lt;function identity_tokenizer at 0x7ff99a1c0320&gt;),\n",
       "                                                  &#x27;content&#x27;),\n",
       "                                                 (&#x27;poem name&#x27;,\n",
       "                                                  TfidfVectorizer(sublinear_tf=True),\n",
       "                                                  &#x27;poem name&#x27;)])),\n",
       "                (&#x27;estimator&#x27;,\n",
       "                 LogisticRegression(max_iter=100000, random_state=19))])</pre><b>Please rerun this cell to show the HTML repr or trust the notebook.</b></div><div class=\"sk-container\" hidden><div class=\"sk-item sk-dashed-wrapped\"><div class=\"sk-label-container\"><div class=\"sk-label sk-toggleable\"><input class=\"sk-toggleable__control sk-hidden--visually\" id=\"bde0f71f-0422-4cda-bcbd-453668f3f634\" type=\"checkbox\" ><label for=\"bde0f71f-0422-4cda-bcbd-453668f3f634\" class=\"sk-toggleable__label sk-toggleable__label-arrow\">Pipeline</label><div class=\"sk-toggleable__content\"><pre>Pipeline(steps=[(&#x27;vectorizer&#x27;,\n",
       "                 ColumnTransformer(transformers=[(&#x27;author&#x27;,\n",
       "                                                  TfidfVectorizer(sublinear_tf=True,\n",
       "                                                                  use_idf=False),\n",
       "                                                  &#x27;author&#x27;),\n",
       "                                                 (&#x27;content&#x27;,\n",
       "                                                  TfidfVectorizer(lowercase=False,\n",
       "                                                                  tokenizer=&lt;function identity_tokenizer at 0x7ff99a1c0320&gt;),\n",
       "                                                  &#x27;content&#x27;),\n",
       "                                                 (&#x27;poem name&#x27;,\n",
       "                                                  TfidfVectorizer(sublinear_tf=True),\n",
       "                                                  &#x27;poem name&#x27;)])),\n",
       "                (&#x27;estimator&#x27;,\n",
       "                 LogisticRegression(max_iter=100000, random_state=19))])</pre></div></div></div><div class=\"sk-serial\"><div class=\"sk-item sk-dashed-wrapped\"><div class=\"sk-label-container\"><div class=\"sk-label sk-toggleable\"><input class=\"sk-toggleable__control sk-hidden--visually\" id=\"bc65913f-c83a-47aa-9c58-c736c0f2f800\" type=\"checkbox\" ><label for=\"bc65913f-c83a-47aa-9c58-c736c0f2f800\" class=\"sk-toggleable__label sk-toggleable__label-arrow\">vectorizer: ColumnTransformer</label><div class=\"sk-toggleable__content\"><pre>ColumnTransformer(transformers=[(&#x27;author&#x27;,\n",
       "                                 TfidfVectorizer(sublinear_tf=True,\n",
       "                                                 use_idf=False),\n",
       "                                 &#x27;author&#x27;),\n",
       "                                (&#x27;content&#x27;,\n",
       "                                 TfidfVectorizer(lowercase=False,\n",
       "                                                 tokenizer=&lt;function identity_tokenizer at 0x7ff99a1c0320&gt;),\n",
       "                                 &#x27;content&#x27;),\n",
       "                                (&#x27;poem name&#x27;,\n",
       "                                 TfidfVectorizer(sublinear_tf=True),\n",
       "                                 &#x27;poem name&#x27;)])</pre></div></div></div><div class=\"sk-parallel\"><div class=\"sk-parallel-item\"><div class=\"sk-item\"><div class=\"sk-label-container\"><div class=\"sk-label sk-toggleable\"><input class=\"sk-toggleable__control sk-hidden--visually\" id=\"fd4562e3-e146-44d9-94ff-85ff80480fcd\" type=\"checkbox\" ><label for=\"fd4562e3-e146-44d9-94ff-85ff80480fcd\" class=\"sk-toggleable__label sk-toggleable__label-arrow\">author</label><div class=\"sk-toggleable__content\"><pre>author</pre></div></div></div><div class=\"sk-serial\"><div class=\"sk-item\"><div class=\"sk-estimator sk-toggleable\"><input class=\"sk-toggleable__control sk-hidden--visually\" id=\"5d887c33-7b8d-4fb6-bd20-8c09cb1e22cb\" type=\"checkbox\" ><label for=\"5d887c33-7b8d-4fb6-bd20-8c09cb1e22cb\" class=\"sk-toggleable__label sk-toggleable__label-arrow\">TfidfVectorizer</label><div class=\"sk-toggleable__content\"><pre>TfidfVectorizer(sublinear_tf=True, use_idf=False)</pre></div></div></div></div></div></div><div class=\"sk-parallel-item\"><div class=\"sk-item\"><div class=\"sk-label-container\"><div class=\"sk-label sk-toggleable\"><input class=\"sk-toggleable__control sk-hidden--visually\" id=\"20e0eb98-97a7-4562-8ec1-a1e6f80a7a9d\" type=\"checkbox\" ><label for=\"20e0eb98-97a7-4562-8ec1-a1e6f80a7a9d\" class=\"sk-toggleable__label sk-toggleable__label-arrow\">content</label><div class=\"sk-toggleable__content\"><pre>content</pre></div></div></div><div class=\"sk-serial\"><div class=\"sk-item\"><div class=\"sk-estimator sk-toggleable\"><input class=\"sk-toggleable__control sk-hidden--visually\" id=\"99ff9ccf-154c-466a-9b75-ad1c84a8b1df\" type=\"checkbox\" ><label for=\"99ff9ccf-154c-466a-9b75-ad1c84a8b1df\" class=\"sk-toggleable__label sk-toggleable__label-arrow\">TfidfVectorizer</label><div class=\"sk-toggleable__content\"><pre>TfidfVectorizer(lowercase=False,\n",
       "                tokenizer=&lt;function identity_tokenizer at 0x7ff99a1c0320&gt;)</pre></div></div></div></div></div></div><div class=\"sk-parallel-item\"><div class=\"sk-item\"><div class=\"sk-label-container\"><div class=\"sk-label sk-toggleable\"><input class=\"sk-toggleable__control sk-hidden--visually\" id=\"3d83c332-9855-4089-a4a1-a8cd8f2543fd\" type=\"checkbox\" ><label for=\"3d83c332-9855-4089-a4a1-a8cd8f2543fd\" class=\"sk-toggleable__label sk-toggleable__label-arrow\">poem name</label><div class=\"sk-toggleable__content\"><pre>poem name</pre></div></div></div><div class=\"sk-serial\"><div class=\"sk-item\"><div class=\"sk-estimator sk-toggleable\"><input class=\"sk-toggleable__control sk-hidden--visually\" id=\"cbafd5f5-ee3f-4ac2-98b8-bbf5d23d56f1\" type=\"checkbox\" ><label for=\"cbafd5f5-ee3f-4ac2-98b8-bbf5d23d56f1\" class=\"sk-toggleable__label sk-toggleable__label-arrow\">TfidfVectorizer</label><div class=\"sk-toggleable__content\"><pre>TfidfVectorizer(sublinear_tf=True)</pre></div></div></div></div></div></div></div></div><div class=\"sk-item\"><div class=\"sk-estimator sk-toggleable\"><input class=\"sk-toggleable__control sk-hidden--visually\" id=\"3ab63264-f693-46fd-b2df-8d3b230411e0\" type=\"checkbox\" ><label for=\"3ab63264-f693-46fd-b2df-8d3b230411e0\" class=\"sk-toggleable__label sk-toggleable__label-arrow\">LogisticRegression</label><div class=\"sk-toggleable__content\"><pre>LogisticRegression(max_iter=100000, random_state=19)</pre></div></div></div></div></div></div></div>"
      ],
      "text/plain": [
       "Pipeline(steps=[('vectorizer',\n",
       "                 ColumnTransformer(transformers=[('author',\n",
       "                                                  TfidfVectorizer(sublinear_tf=True,\n",
       "                                                                  use_idf=False),\n",
       "                                                  'author'),\n",
       "                                                 ('content',\n",
       "                                                  TfidfVectorizer(lowercase=False,\n",
       "                                                                  tokenizer=<function identity_tokenizer at 0x7ff99a1c0320>),\n",
       "                                                  'content'),\n",
       "                                                 ('poem name',\n",
       "                                                  TfidfVectorizer(sublinear_tf=True),\n",
       "                                                  'poem name')])),\n",
       "                ('estimator',\n",
       "                 LogisticRegression(max_iter=100000, random_state=19))])"
      ]
     },
     "execution_count": 4,
     "metadata": {},
     "output_type": "execute_result"
    }
   ],
   "source": [
    "get_model = lambda: Pipeline([\n",
    "    ('vectorizer', ColumnTransformer([\n",
    "        ('author', TfidfVectorizer(use_idf=False, sublinear_tf=True), 'author'),\n",
    "        ('content', TfidfVectorizer(tokenizer=identity_tokenizer,  lowercase=False), 'content'),\n",
    "        ('poem name', TfidfVectorizer(sublinear_tf=True), 'poem name')\n",
    "    ])),\n",
    "    ('estimator', LogisticRegression(max_iter=100_000, random_state=19))\n",
    "])\n",
    "get_model()"
   ]
  },
  {
   "cell_type": "code",
   "execution_count": 5,
   "id": "fe3a812f",
   "metadata": {
    "execution": {
     "iopub.execute_input": "2022-11-20T05:49:16.879243Z",
     "iopub.status.busy": "2022-11-20T05:49:16.878166Z",
     "iopub.status.idle": "2022-11-20T05:49:18.661999Z",
     "shell.execute_reply": "2022-11-20T05:49:18.660925Z"
    },
    "papermill": {
     "duration": 1.792961,
     "end_time": "2022-11-20T05:49:18.666330",
     "exception": false,
     "start_time": "2022-11-20T05:49:16.873369",
     "status": "completed"
    },
    "tags": []
   },
   "outputs": [
    {
     "data": {
      "application/vnd.jupyter.widget-view+json": {
       "model_id": "9560e58e269146228e6aaf9a69e4128c",
       "version_major": 2,
       "version_minor": 0
      },
      "text/plain": [
       "  0%|          | 0/10 [00:00<?, ?it/s]"
      ]
     },
     "metadata": {},
     "output_type": "display_data"
    },
    {
     "name": "stdout",
     "output_type": "stream",
     "text": [
      "0.9912885662431943\n"
     ]
    }
   ],
   "source": [
    "x = df[['author', 'content', 'poem name']]\n",
    "y = df['age']\n",
    "\n",
    "skf = StratifiedKFold(n_splits=10, shuffle=True, random_state=19)\n",
    "scores = []\n",
    "for train_index, valid_index in tqdm(skf.split(x, y), total=10):\n",
    "    x_train, x_valid = x.iloc[train_index], x.iloc[valid_index]\n",
    "    y_train, y_valid = y.iloc[train_index], y.iloc[valid_index]\n",
    "    \n",
    "    model = get_model().fit(x_train, y_train)\n",
    "    scores.append(model.score(x_valid, y_valid))\n",
    "print(np.mean(scores))"
   ]
  },
  {
   "cell_type": "code",
   "execution_count": null,
   "id": "21db9e4b",
   "metadata": {
    "papermill": {
     "duration": 0.003486,
     "end_time": "2022-11-20T05:49:18.673499",
     "exception": false,
     "start_time": "2022-11-20T05:49:18.670013",
     "status": "completed"
    },
    "tags": []
   },
   "outputs": [],
   "source": []
  }
 ],
 "metadata": {
  "kernelspec": {
   "display_name": "Python 3",
   "language": "python",
   "name": "python3"
  },
  "language_info": {
   "codemirror_mode": {
    "name": "ipython",
    "version": 3
   },
   "file_extension": ".py",
   "mimetype": "text/x-python",
   "name": "python",
   "nbconvert_exporter": "python",
   "pygments_lexer": "ipython3",
   "version": "3.7.12"
  },
  "papermill": {
   "default_parameters": {},
   "duration": 14.290629,
   "end_time": "2022-11-20T05:49:19.501268",
   "environment_variables": {},
   "exception": null,
   "input_path": "__notebook__.ipynb",
   "output_path": "__notebook__.ipynb",
   "parameters": {},
   "start_time": "2022-11-20T05:49:05.210639",
   "version": "2.3.4"
  },
  "widgets": {
   "application/vnd.jupyter.widget-state+json": {
    "state": {
     "0969b3f8984d4dd99f6e89afeef2d497": {
      "model_module": "@jupyter-widgets/base",
      "model_module_version": "1.2.0",
      "model_name": "LayoutModel",
      "state": {
       "_model_module": "@jupyter-widgets/base",
       "_model_module_version": "1.2.0",
       "_model_name": "LayoutModel",
       "_view_count": null,
       "_view_module": "@jupyter-widgets/base",
       "_view_module_version": "1.2.0",
       "_view_name": "LayoutView",
       "align_content": null,
       "align_items": null,
       "align_self": null,
       "border": null,
       "bottom": null,
       "display": null,
       "flex": null,
       "flex_flow": null,
       "grid_area": null,
       "grid_auto_columns": null,
       "grid_auto_flow": null,
       "grid_auto_rows": null,
       "grid_column": null,
       "grid_gap": null,
       "grid_row": null,
       "grid_template_areas": null,
       "grid_template_columns": null,
       "grid_template_rows": null,
       "height": null,
       "justify_content": null,
       "justify_items": null,
       "left": null,
       "margin": null,
       "max_height": null,
       "max_width": null,
       "min_height": null,
       "min_width": null,
       "object_fit": null,
       "object_position": null,
       "order": null,
       "overflow": null,
       "overflow_x": null,
       "overflow_y": null,
       "padding": null,
       "right": null,
       "top": null,
       "visibility": null,
       "width": null
      }
     },
     "5ec418c59f8e4437b9662a533225b728": {
      "model_module": "@jupyter-widgets/base",
      "model_module_version": "1.2.0",
      "model_name": "LayoutModel",
      "state": {
       "_model_module": "@jupyter-widgets/base",
       "_model_module_version": "1.2.0",
       "_model_name": "LayoutModel",
       "_view_count": null,
       "_view_module": "@jupyter-widgets/base",
       "_view_module_version": "1.2.0",
       "_view_name": "LayoutView",
       "align_content": null,
       "align_items": null,
       "align_self": null,
       "border": null,
       "bottom": null,
       "display": null,
       "flex": null,
       "flex_flow": null,
       "grid_area": null,
       "grid_auto_columns": null,
       "grid_auto_flow": null,
       "grid_auto_rows": null,
       "grid_column": null,
       "grid_gap": null,
       "grid_row": null,
       "grid_template_areas": null,
       "grid_template_columns": null,
       "grid_template_rows": null,
       "height": null,
       "justify_content": null,
       "justify_items": null,
       "left": null,
       "margin": null,
       "max_height": null,
       "max_width": null,
       "min_height": null,
       "min_width": null,
       "object_fit": null,
       "object_position": null,
       "order": null,
       "overflow": null,
       "overflow_x": null,
       "overflow_y": null,
       "padding": null,
       "right": null,
       "top": null,
       "visibility": null,
       "width": null
      }
     },
     "6afce627709e4c999058401ae38fbff5": {
      "model_module": "@jupyter-widgets/controls",
      "model_module_version": "1.5.0",
      "model_name": "HTMLModel",
      "state": {
       "_dom_classes": [],
       "_model_module": "@jupyter-widgets/controls",
       "_model_module_version": "1.5.0",
       "_model_name": "HTMLModel",
       "_view_count": null,
       "_view_module": "@jupyter-widgets/controls",
       "_view_module_version": "1.5.0",
       "_view_name": "HTMLView",
       "description": "",
       "description_tooltip": null,
       "layout": "IPY_MODEL_0969b3f8984d4dd99f6e89afeef2d497",
       "placeholder": "​",
       "style": "IPY_MODEL_e92190faa7ef4c2dbbf5225a78c6eb04",
       "value": "100%"
      }
     },
     "7623ca7fa0524b85babe4f557c2943dc": {
      "model_module": "@jupyter-widgets/controls",
      "model_module_version": "1.5.0",
      "model_name": "HTMLModel",
      "state": {
       "_dom_classes": [],
       "_model_module": "@jupyter-widgets/controls",
       "_model_module_version": "1.5.0",
       "_model_name": "HTMLModel",
       "_view_count": null,
       "_view_module": "@jupyter-widgets/controls",
       "_view_module_version": "1.5.0",
       "_view_name": "HTMLView",
       "description": "",
       "description_tooltip": null,
       "layout": "IPY_MODEL_5ec418c59f8e4437b9662a533225b728",
       "placeholder": "​",
       "style": "IPY_MODEL_aff85ae6e6b042b5b361b684d3361f25",
       "value": " 10/10 [00:01&lt;00:00,  6.03it/s]"
      }
     },
     "85211eeef61643e6b61f9ce52017ef34": {
      "model_module": "@jupyter-widgets/controls",
      "model_module_version": "1.5.0",
      "model_name": "FloatProgressModel",
      "state": {
       "_dom_classes": [],
       "_model_module": "@jupyter-widgets/controls",
       "_model_module_version": "1.5.0",
       "_model_name": "FloatProgressModel",
       "_view_count": null,
       "_view_module": "@jupyter-widgets/controls",
       "_view_module_version": "1.5.0",
       "_view_name": "ProgressView",
       "bar_style": "success",
       "description": "",
       "description_tooltip": null,
       "layout": "IPY_MODEL_a1fa306e2a28400682f3b06235380248",
       "max": 10.0,
       "min": 0.0,
       "orientation": "horizontal",
       "style": "IPY_MODEL_948fa6082c0348a5b2ee4735eedf2957",
       "value": 10.0
      }
     },
     "948fa6082c0348a5b2ee4735eedf2957": {
      "model_module": "@jupyter-widgets/controls",
      "model_module_version": "1.5.0",
      "model_name": "ProgressStyleModel",
      "state": {
       "_model_module": "@jupyter-widgets/controls",
       "_model_module_version": "1.5.0",
       "_model_name": "ProgressStyleModel",
       "_view_count": null,
       "_view_module": "@jupyter-widgets/base",
       "_view_module_version": "1.2.0",
       "_view_name": "StyleView",
       "bar_color": null,
       "description_width": ""
      }
     },
     "9560e58e269146228e6aaf9a69e4128c": {
      "model_module": "@jupyter-widgets/controls",
      "model_module_version": "1.5.0",
      "model_name": "HBoxModel",
      "state": {
       "_dom_classes": [],
       "_model_module": "@jupyter-widgets/controls",
       "_model_module_version": "1.5.0",
       "_model_name": "HBoxModel",
       "_view_count": null,
       "_view_module": "@jupyter-widgets/controls",
       "_view_module_version": "1.5.0",
       "_view_name": "HBoxView",
       "box_style": "",
       "children": [
        "IPY_MODEL_6afce627709e4c999058401ae38fbff5",
        "IPY_MODEL_85211eeef61643e6b61f9ce52017ef34",
        "IPY_MODEL_7623ca7fa0524b85babe4f557c2943dc"
       ],
       "layout": "IPY_MODEL_cd14d8b5595e46b7a52ccba212bcfac8"
      }
     },
     "a1fa306e2a28400682f3b06235380248": {
      "model_module": "@jupyter-widgets/base",
      "model_module_version": "1.2.0",
      "model_name": "LayoutModel",
      "state": {
       "_model_module": "@jupyter-widgets/base",
       "_model_module_version": "1.2.0",
       "_model_name": "LayoutModel",
       "_view_count": null,
       "_view_module": "@jupyter-widgets/base",
       "_view_module_version": "1.2.0",
       "_view_name": "LayoutView",
       "align_content": null,
       "align_items": null,
       "align_self": null,
       "border": null,
       "bottom": null,
       "display": null,
       "flex": null,
       "flex_flow": null,
       "grid_area": null,
       "grid_auto_columns": null,
       "grid_auto_flow": null,
       "grid_auto_rows": null,
       "grid_column": null,
       "grid_gap": null,
       "grid_row": null,
       "grid_template_areas": null,
       "grid_template_columns": null,
       "grid_template_rows": null,
       "height": null,
       "justify_content": null,
       "justify_items": null,
       "left": null,
       "margin": null,
       "max_height": null,
       "max_width": null,
       "min_height": null,
       "min_width": null,
       "object_fit": null,
       "object_position": null,
       "order": null,
       "overflow": null,
       "overflow_x": null,
       "overflow_y": null,
       "padding": null,
       "right": null,
       "top": null,
       "visibility": null,
       "width": null
      }
     },
     "aff85ae6e6b042b5b361b684d3361f25": {
      "model_module": "@jupyter-widgets/controls",
      "model_module_version": "1.5.0",
      "model_name": "DescriptionStyleModel",
      "state": {
       "_model_module": "@jupyter-widgets/controls",
       "_model_module_version": "1.5.0",
       "_model_name": "DescriptionStyleModel",
       "_view_count": null,
       "_view_module": "@jupyter-widgets/base",
       "_view_module_version": "1.2.0",
       "_view_name": "StyleView",
       "description_width": ""
      }
     },
     "cd14d8b5595e46b7a52ccba212bcfac8": {
      "model_module": "@jupyter-widgets/base",
      "model_module_version": "1.2.0",
      "model_name": "LayoutModel",
      "state": {
       "_model_module": "@jupyter-widgets/base",
       "_model_module_version": "1.2.0",
       "_model_name": "LayoutModel",
       "_view_count": null,
       "_view_module": "@jupyter-widgets/base",
       "_view_module_version": "1.2.0",
       "_view_name": "LayoutView",
       "align_content": null,
       "align_items": null,
       "align_self": null,
       "border": null,
       "bottom": null,
       "display": null,
       "flex": null,
       "flex_flow": null,
       "grid_area": null,
       "grid_auto_columns": null,
       "grid_auto_flow": null,
       "grid_auto_rows": null,
       "grid_column": null,
       "grid_gap": null,
       "grid_row": null,
       "grid_template_areas": null,
       "grid_template_columns": null,
       "grid_template_rows": null,
       "height": null,
       "justify_content": null,
       "justify_items": null,
       "left": null,
       "margin": null,
       "max_height": null,
       "max_width": null,
       "min_height": null,
       "min_width": null,
       "object_fit": null,
       "object_position": null,
       "order": null,
       "overflow": null,
       "overflow_x": null,
       "overflow_y": null,
       "padding": null,
       "right": null,
       "top": null,
       "visibility": null,
       "width": null
      }
     },
     "e92190faa7ef4c2dbbf5225a78c6eb04": {
      "model_module": "@jupyter-widgets/controls",
      "model_module_version": "1.5.0",
      "model_name": "DescriptionStyleModel",
      "state": {
       "_model_module": "@jupyter-widgets/controls",
       "_model_module_version": "1.5.0",
       "_model_name": "DescriptionStyleModel",
       "_view_count": null,
       "_view_module": "@jupyter-widgets/base",
       "_view_module_version": "1.2.0",
       "_view_name": "StyleView",
       "description_width": ""
      }
     }
    },
    "version_major": 2,
    "version_minor": 0
   }
  }
 },
 "nbformat": 4,
 "nbformat_minor": 5
}
