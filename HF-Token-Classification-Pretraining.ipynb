{
 "cells": [
  {
   "cell_type": "code",
   "execution_count": 1,
   "id": "2c6aecdf",
   "metadata": {
    "execution": {
     "iopub.execute_input": "2022-07-13T04:12:43.121507Z",
     "iopub.status.busy": "2022-07-13T04:12:43.121023Z",
     "iopub.status.idle": "2022-07-13T04:12:49.557526Z",
     "shell.execute_reply": "2022-07-13T04:12:49.556573Z"
    },
    "papermill": {
     "duration": 6.446787,
     "end_time": "2022-07-13T04:12:49.560317",
     "exception": false,
     "start_time": "2022-07-13T04:12:43.113530",
     "status": "completed"
    },
    "tags": []
   },
   "outputs": [],
   "source": [
    "import os, re\n",
    "import numpy as np\n",
    "import pandas as pd\n",
    "import tensorflow as tf\n",
    "from transformers import RobertaTokenizer, RobertaConfig, TFRobertaForTokenClassification\n",
    "from tokenizers import ByteLevelBPETokenizer\n",
    "from tqdm.auto import tqdm"
   ]
  },
  {
   "cell_type": "markdown",
   "id": "3a28e428",
   "metadata": {
    "papermill": {
     "duration": 0.005396,
     "end_time": "2022-07-13T04:12:49.571023",
     "exception": false,
     "start_time": "2022-07-13T04:12:49.565627",
     "status": "completed"
    },
    "tags": []
   },
   "source": [
    "# Get the Data"
   ]
  },
  {
   "cell_type": "code",
   "execution_count": 2,
   "id": "4f81799d",
   "metadata": {
    "_cell_guid": "b1076dfc-b9ad-4769-8c92-a6c4dae69d19",
    "_uuid": "8f2839f25d086af736a60e9eeb907d3b93b6e0e5",
    "execution": {
     "iopub.execute_input": "2022-07-13T04:12:49.582493Z",
     "iopub.status.busy": "2022-07-13T04:12:49.581385Z",
     "iopub.status.idle": "2022-07-13T04:12:53.165399Z",
     "shell.execute_reply": "2022-07-13T04:12:53.163213Z"
    },
    "papermill": {
     "duration": 3.593537,
     "end_time": "2022-07-13T04:12:53.169265",
     "exception": false,
     "start_time": "2022-07-13T04:12:49.575728",
     "status": "completed"
    },
    "tags": []
   },
   "outputs": [
    {
     "name": "stderr",
     "output_type": "stream",
     "text": [
      "/opt/conda/lib/python3.7/site-packages/IPython/core/interactiveshell.py:3552: FutureWarning: The error_bad_lines argument has been deprecated and will be removed in a future version.\n",
      "\n",
      "\n",
      "  exec(code_obj, self.user_global_ns, self.user_ns)\n",
      "/opt/conda/lib/python3.7/site-packages/IPython/core/interactiveshell.py:3552: DtypeWarning: Columns (21) have mixed types.Specify dtype option on import or set low_memory=False.\n",
      "  exec(code_obj, self.user_global_ns, self.user_ns)\n"
     ]
    },
    {
     "name": "stdout",
     "output_type": "stream",
     "text": [
      "(1050794, 3)\n"
     ]
    },
    {
     "data": {
      "text/html": [
       "<div>\n",
       "<style scoped>\n",
       "    .dataframe tbody tr th:only-of-type {\n",
       "        vertical-align: middle;\n",
       "    }\n",
       "\n",
       "    .dataframe tbody tr th {\n",
       "        vertical-align: top;\n",
       "    }\n",
       "\n",
       "    .dataframe thead th {\n",
       "        text-align: right;\n",
       "    }\n",
       "</style>\n",
       "<table border=\"1\" class=\"dataframe\">\n",
       "  <thead>\n",
       "    <tr style=\"text-align: right;\">\n",
       "      <th></th>\n",
       "      <th>sentence_idx</th>\n",
       "      <th>word</th>\n",
       "      <th>tag</th>\n",
       "    </tr>\n",
       "  </thead>\n",
       "  <tbody>\n",
       "    <tr>\n",
       "      <th>0</th>\n",
       "      <td>1</td>\n",
       "      <td>Thousands</td>\n",
       "      <td>O</td>\n",
       "    </tr>\n",
       "    <tr>\n",
       "      <th>1</th>\n",
       "      <td>1</td>\n",
       "      <td>of</td>\n",
       "      <td>O</td>\n",
       "    </tr>\n",
       "    <tr>\n",
       "      <th>2</th>\n",
       "      <td>1</td>\n",
       "      <td>demonstrators</td>\n",
       "      <td>O</td>\n",
       "    </tr>\n",
       "    <tr>\n",
       "      <th>3</th>\n",
       "      <td>1</td>\n",
       "      <td>have</td>\n",
       "      <td>O</td>\n",
       "    </tr>\n",
       "    <tr>\n",
       "      <th>4</th>\n",
       "      <td>1</td>\n",
       "      <td>marched</td>\n",
       "      <td>O</td>\n",
       "    </tr>\n",
       "  </tbody>\n",
       "</table>\n",
       "</div>"
      ],
      "text/plain": [
       "  sentence_idx           word tag\n",
       "0            1      Thousands   O\n",
       "1            1             of   O\n",
       "2            1  demonstrators   O\n",
       "3            1           have   O\n",
       "4            1        marched   O"
      ]
     },
     "execution_count": 2,
     "metadata": {},
     "output_type": "execute_result"
    }
   ],
   "source": [
    "data = pd.read_csv(\n",
    "    \"../input/entity-annotated-corpus/ner.csv\", encoding = \"ISO-8859-1\", error_bad_lines=False, \n",
    "    usecols=['sentence_idx', 'word', 'tag']\n",
    ")\n",
    "data  = data[data['sentence_idx'] != 'prev-lemma'].dropna(subset=['sentence_idx']).reset_index(drop=True)\n",
    "print(data.shape)\n",
    "data.head()"
   ]
  },
  {
   "cell_type": "code",
   "execution_count": 3,
   "id": "3d9b9568",
   "metadata": {
    "execution": {
     "iopub.execute_input": "2022-07-13T04:12:53.183244Z",
     "iopub.status.busy": "2022-07-13T04:12:53.182298Z",
     "iopub.status.idle": "2022-07-13T04:12:53.326148Z",
     "shell.execute_reply": "2022-07-13T04:12:53.325221Z"
    },
    "papermill": {
     "duration": 0.152601,
     "end_time": "2022-07-13T04:12:53.328477",
     "exception": false,
     "start_time": "2022-07-13T04:12:53.175876",
     "status": "completed"
    },
    "tags": []
   },
   "outputs": [
    {
     "data": {
      "text/plain": [
       "(946852, 103942)"
      ]
     },
     "execution_count": 3,
     "metadata": {},
     "output_type": "execute_result"
    }
   ],
   "source": [
    "data['sentence_idx'] = data['sentence_idx'].astype(int)\n",
    "\n",
    "split_thresh = data['sentence_idx'].max() * 0.9\n",
    "df_train, df_valid = data[data['sentence_idx'] < split_thresh], data[data['sentence_idx'] >= split_thresh]\n",
    "len(df_train), len(df_valid)"
   ]
  },
  {
   "cell_type": "code",
   "execution_count": 4,
   "id": "5cd030fc",
   "metadata": {
    "execution": {
     "iopub.execute_input": "2022-07-13T04:12:53.340797Z",
     "iopub.status.busy": "2022-07-13T04:12:53.339974Z",
     "iopub.status.idle": "2022-07-13T04:12:57.906054Z",
     "shell.execute_reply": "2022-07-13T04:12:57.905058Z"
    },
    "papermill": {
     "duration": 4.575064,
     "end_time": "2022-07-13T04:12:57.908853",
     "exception": false,
     "start_time": "2022-07-13T04:12:53.333789",
     "status": "completed"
    },
    "tags": []
   },
   "outputs": [],
   "source": [
    "agg_func = lambda s: [ [w,t] for w,t in zip(s[\"word\"].values.tolist(),s[\"tag\"].values.tolist())]\n",
    "\n",
    "x_train_grouped = df_train.groupby(\"sentence_idx\").apply(agg_func)\n",
    "x_valid_grouped = df_valid.groupby(\"sentence_idx\").apply(agg_func)\n",
    "\n",
    "x_train_sentences = [[s[0] for s in sent] for sent in x_train_grouped.values]\n",
    "x_valid_sentences = [[s[0] for s in sent] for sent in x_valid_grouped.values]\n",
    "\n",
    "x_train_tags = [[t[1] for t in tag] for tag in x_train_grouped.values]\n",
    "x_valid_tags = [[t[1] for t in tag] for tag in x_valid_grouped.values]"
   ]
  },
  {
   "cell_type": "code",
   "execution_count": 5,
   "id": "a22f5d6b",
   "metadata": {
    "execution": {
     "iopub.execute_input": "2022-07-13T04:12:57.921446Z",
     "iopub.status.busy": "2022-07-13T04:12:57.921152Z",
     "iopub.status.idle": "2022-07-13T04:12:57.996434Z",
     "shell.execute_reply": "2022-07-13T04:12:57.995340Z"
    },
    "papermill": {
     "duration": 0.084227,
     "end_time": "2022-07-13T04:12:57.998788",
     "exception": false,
     "start_time": "2022-07-13T04:12:57.914561",
     "status": "completed"
    },
    "tags": []
   },
   "outputs": [
    {
     "data": {
      "text/plain": [
       "18"
      ]
     },
     "execution_count": 5,
     "metadata": {},
     "output_type": "execute_result"
    }
   ],
   "source": [
    "tag_list = data['tag'].unique()\n",
    "label_map = {label: i for i, label in enumerate(tag_list)}\n",
    "label_map_inv = {i: label for i, label in enumerate(tag_list)}\n",
    "num_labels = len(tag_list) + 1\n",
    "num_labels"
   ]
  },
  {
   "cell_type": "markdown",
   "id": "ee491025",
   "metadata": {
    "papermill": {
     "duration": 0.005036,
     "end_time": "2022-07-13T04:12:58.009115",
     "exception": false,
     "start_time": "2022-07-13T04:12:58.004079",
     "status": "completed"
    },
    "tags": []
   },
   "source": [
    "# Build Tokenizer"
   ]
  },
  {
   "cell_type": "code",
   "execution_count": 6,
   "id": "cfbb06cd",
   "metadata": {
    "execution": {
     "iopub.execute_input": "2022-07-13T04:12:58.020609Z",
     "iopub.status.busy": "2022-07-13T04:12:58.020340Z",
     "iopub.status.idle": "2022-07-13T04:12:59.802741Z",
     "shell.execute_reply": "2022-07-13T04:12:59.801737Z"
    },
    "papermill": {
     "duration": 1.790978,
     "end_time": "2022-07-13T04:12:59.805241",
     "exception": false,
     "start_time": "2022-07-13T04:12:58.014263",
     "status": "completed"
    },
    "tags": []
   },
   "outputs": [],
   "source": [
    "texts = [' '.join(sent) for sent in x_train_sentences]\n",
    "\n",
    "os.mkdir('text_files')\n",
    "for e, text in enumerate(texts):\n",
    "    with open(f\"text_files/train_{e+1:05}.txt\", 'w') as f:\n",
    "        f.write(re.sub(r'\\s+', ' ', text))"
   ]
  },
  {
   "cell_type": "code",
   "execution_count": 7,
   "id": "6f6dfcb8",
   "metadata": {
    "execution": {
     "iopub.execute_input": "2022-07-13T04:12:59.817678Z",
     "iopub.status.busy": "2022-07-13T04:12:59.816908Z",
     "iopub.status.idle": "2022-07-13T04:13:02.731336Z",
     "shell.execute_reply": "2022-07-13T04:13:02.730337Z"
    },
    "papermill": {
     "duration": 2.922534,
     "end_time": "2022-07-13T04:13:02.733254",
     "exception": false,
     "start_time": "2022-07-13T04:12:59.810720",
     "status": "completed"
    },
    "tags": []
   },
   "outputs": [
    {
     "name": "stdout",
     "output_type": "stream",
     "text": [
      "\n",
      "\n",
      "\n"
     ]
    },
    {
     "data": {
      "text/plain": [
       "['tokenizer/vocab.json', 'tokenizer/merges.txt']"
      ]
     },
     "execution_count": 7,
     "metadata": {},
     "output_type": "execute_result"
    }
   ],
   "source": [
    "tokenizer = ByteLevelBPETokenizer()\n",
    "tokenizer.train(\n",
    "    files=[f\"text_files/train_{e+1:05}.txt\" for e in range(len(texts))], vocab_size=30_522,\n",
    "    special_tokens=['<s>', '<pad>', '</s>', '<unk>', '<mask>']\n",
    ")\n",
    "os.mkdir('tokenizer')\n",
    "tokenizer.save_model('tokenizer')"
   ]
  },
  {
   "cell_type": "markdown",
   "id": "2a48328a",
   "metadata": {
    "papermill": {
     "duration": 0.005259,
     "end_time": "2022-07-13T04:13:02.744246",
     "exception": false,
     "start_time": "2022-07-13T04:13:02.738987",
     "status": "completed"
    },
    "tags": []
   },
   "source": [
    "# Initialise Model"
   ]
  },
  {
   "cell_type": "code",
   "execution_count": 8,
   "id": "51c09241",
   "metadata": {
    "execution": {
     "iopub.execute_input": "2022-07-13T04:13:02.756720Z",
     "iopub.status.busy": "2022-07-13T04:13:02.755960Z",
     "iopub.status.idle": "2022-07-13T04:13:02.760595Z",
     "shell.execute_reply": "2022-07-13T04:13:02.759804Z"
    },
    "papermill": {
     "duration": 0.012806,
     "end_time": "2022-07-13T04:13:02.762434",
     "exception": false,
     "start_time": "2022-07-13T04:13:02.749628",
     "status": "completed"
    },
    "tags": []
   },
   "outputs": [],
   "source": [
    "pad_token_label_id = 0"
   ]
  },
  {
   "cell_type": "code",
   "execution_count": 9,
   "id": "aa7164cd",
   "metadata": {
    "execution": {
     "iopub.execute_input": "2022-07-13T04:13:02.775663Z",
     "iopub.status.busy": "2022-07-13T04:13:02.774131Z",
     "iopub.status.idle": "2022-07-13T04:13:06.109323Z",
     "shell.execute_reply": "2022-07-13T04:13:06.108391Z"
    },
    "papermill": {
     "duration": 3.344044,
     "end_time": "2022-07-13T04:13:06.112021",
     "exception": false,
     "start_time": "2022-07-13T04:13:02.767977",
     "status": "completed"
    },
    "tags": []
   },
   "outputs": [
    {
     "name": "stderr",
     "output_type": "stream",
     "text": [
      "2022-07-13 04:13:03.175140: I tensorflow/stream_executor/cuda/cuda_gpu_executor.cc:937] successful NUMA node read from SysFS had negative value (-1), but there must be at least one NUMA node, so returning NUMA node zero\n",
      "2022-07-13 04:13:03.292412: I tensorflow/stream_executor/cuda/cuda_gpu_executor.cc:937] successful NUMA node read from SysFS had negative value (-1), but there must be at least one NUMA node, so returning NUMA node zero\n",
      "2022-07-13 04:13:03.293192: I tensorflow/stream_executor/cuda/cuda_gpu_executor.cc:937] successful NUMA node read from SysFS had negative value (-1), but there must be at least one NUMA node, so returning NUMA node zero\n",
      "2022-07-13 04:13:03.294967: I tensorflow/core/platform/cpu_feature_guard.cc:142] This TensorFlow binary is optimized with oneAPI Deep Neural Network Library (oneDNN) to use the following CPU instructions in performance-critical operations:  AVX2 AVX512F FMA\n",
      "To enable them in other operations, rebuild TensorFlow with the appropriate compiler flags.\n",
      "2022-07-13 04:13:03.295311: I tensorflow/stream_executor/cuda/cuda_gpu_executor.cc:937] successful NUMA node read from SysFS had negative value (-1), but there must be at least one NUMA node, so returning NUMA node zero\n",
      "2022-07-13 04:13:03.296075: I tensorflow/stream_executor/cuda/cuda_gpu_executor.cc:937] successful NUMA node read from SysFS had negative value (-1), but there must be at least one NUMA node, so returning NUMA node zero\n",
      "2022-07-13 04:13:03.296719: I tensorflow/stream_executor/cuda/cuda_gpu_executor.cc:937] successful NUMA node read from SysFS had negative value (-1), but there must be at least one NUMA node, so returning NUMA node zero\n",
      "2022-07-13 04:13:05.715074: I tensorflow/stream_executor/cuda/cuda_gpu_executor.cc:937] successful NUMA node read from SysFS had negative value (-1), but there must be at least one NUMA node, so returning NUMA node zero\n",
      "2022-07-13 04:13:05.715919: I tensorflow/stream_executor/cuda/cuda_gpu_executor.cc:937] successful NUMA node read from SysFS had negative value (-1), but there must be at least one NUMA node, so returning NUMA node zero\n",
      "2022-07-13 04:13:05.716593: I tensorflow/stream_executor/cuda/cuda_gpu_executor.cc:937] successful NUMA node read from SysFS had negative value (-1), but there must be at least one NUMA node, so returning NUMA node zero\n",
      "2022-07-13 04:13:05.717188: I tensorflow/core/common_runtime/gpu/gpu_device.cc:1510] Created device /job:localhost/replica:0/task:0/device:GPU:0 with 15403 MB memory:  -> device: 0, name: Tesla P100-PCIE-16GB, pci bus id: 0000:00:04.0, compute capability: 6.0\n"
     ]
    }
   ],
   "source": [
    "tokenizer = RobertaTokenizer.from_pretrained('tokenizer')\n",
    "config = RobertaConfig(\n",
    "    vocab_size=30_522,\n",
    "    max_position_embeddings=514,\n",
    "    hidden_size=768,\n",
    "    num_attention_heads=12,\n",
    "    num_hidden_layers=6,\n",
    "    type_vocab_size=1, \n",
    "    num_labels=num_labels,\n",
    ")\n",
    "model = TFRobertaForTokenClassification(config)"
   ]
  },
  {
   "cell_type": "markdown",
   "id": "fd1ced5d",
   "metadata": {
    "papermill": {
     "duration": 0.005506,
     "end_time": "2022-07-13T04:13:06.123382",
     "exception": false,
     "start_time": "2022-07-13T04:13:06.117876",
     "status": "completed"
    },
    "tags": []
   },
   "source": [
    "# Prepare Data"
   ]
  },
  {
   "cell_type": "code",
   "execution_count": 10,
   "id": "e0b0e7ad",
   "metadata": {
    "execution": {
     "iopub.execute_input": "2022-07-13T04:13:06.135829Z",
     "iopub.status.busy": "2022-07-13T04:13:06.135534Z",
     "iopub.status.idle": "2022-07-13T04:13:06.145485Z",
     "shell.execute_reply": "2022-07-13T04:13:06.144617Z"
    },
    "papermill": {
     "duration": 0.01828,
     "end_time": "2022-07-13T04:13:06.147297",
     "exception": false,
     "start_time": "2022-07-13T04:13:06.129017",
     "status": "completed"
    },
    "tags": []
   },
   "outputs": [],
   "source": [
    "from keras.preprocessing.sequence import pad_sequences\n",
    "max_seq_length =512\n",
    "\n",
    "def convert_to_input(sentences,tags):\n",
    "    input_id_list,attention_mask_list,token_type_id_list=[],[],[]\n",
    "    label_id_list=[]\n",
    "    \n",
    "    for x,y in tqdm(zip(sentences,tags),total=len(tags)):\n",
    "        tokens = []\n",
    "        label_ids = []\n",
    "\n",
    "        for word, label in zip(x, y):\n",
    "            word_tokens = tokenizer.tokenize(word)\n",
    "            tokens.extend(word_tokens)\n",
    "            # Use the real label id for the first token of the word, and padding ids for the remaining tokens\n",
    "            label_ids.extend([label_map[label]] + [pad_token_label_id] * (len(word_tokens) - 1))\n",
    "\n",
    "  \n",
    "        special_tokens_count =  2\n",
    "        if len(tokens) > max_seq_length - special_tokens_count:\n",
    "            tokens = tokens[: (max_seq_length - special_tokens_count)]\n",
    "            label_ids = label_ids[: (max_seq_length - special_tokens_count)]\n",
    "\n",
    "        label_ids = [pad_token_label_id]+label_ids+[pad_token_label_id]\n",
    "        inputs = tokenizer(' '.join(tokens), add_special_tokens=True, max_length=max_seq_length,\n",
    "                          return_token_type_ids=True)\n",
    "\n",
    "        input_ids, token_type_ids = inputs[\"input_ids\"], inputs[\"token_type_ids\"]\n",
    "        attention_masks = [1] * len(input_ids)\n",
    "\n",
    "        attention_mask_list.append(attention_masks)\n",
    "        input_id_list.append(input_ids)\n",
    "        token_type_id_list.append(token_type_ids)\n",
    "\n",
    "        label_id_list.append(label_ids)\n",
    "\n",
    "    return input_id_list,token_type_id_list,attention_mask_list,label_id_list"
   ]
  },
  {
   "cell_type": "code",
   "execution_count": 11,
   "id": "5bfc77b7",
   "metadata": {
    "execution": {
     "iopub.execute_input": "2022-07-13T04:13:06.160328Z",
     "iopub.status.busy": "2022-07-13T04:13:06.159579Z",
     "iopub.status.idle": "2022-07-13T04:14:15.689872Z",
     "shell.execute_reply": "2022-07-13T04:14:15.688922Z"
    },
    "papermill": {
     "duration": 69.538886,
     "end_time": "2022-07-13T04:14:15.692182",
     "exception": false,
     "start_time": "2022-07-13T04:13:06.153296",
     "status": "completed"
    },
    "tags": []
   },
   "outputs": [
    {
     "data": {
      "application/vnd.jupyter.widget-view+json": {
       "model_id": "06326c5b40eb49f89eaa6a29c630447a",
       "version_major": 2,
       "version_minor": 0
      },
      "text/plain": [
       "  0%|          | 0/30381 [00:00<?, ?it/s]"
      ]
     },
     "metadata": {},
     "output_type": "display_data"
    },
    {
     "name": "stderr",
     "output_type": "stream",
     "text": [
      "Truncation was not explicitly activated but `max_length` is provided a specific value, please use `truncation=True` to explicitly truncate examples to max length. Defaulting to 'longest_first' truncation strategy. If you encode pairs of sequences (GLUE-style) with the tokenizer you can select this strategy more precisely by providing a specific strategy to `truncation`.\n"
     ]
    },
    {
     "data": {
      "application/vnd.jupyter.widget-view+json": {
       "model_id": "34368ccdf8c244aaaea20ef15922dd39",
       "version_major": 2,
       "version_minor": 0
      },
      "text/plain": [
       "  0%|          | 0/4796 [00:00<?, ?it/s]"
      ]
     },
     "metadata": {},
     "output_type": "display_data"
    }
   ],
   "source": [
    "(\n",
    "    input_ids_train, token_ids_train, attention_masks_train, label_ids_train\n",
    ") = convert_to_input(x_train_sentences,x_train_tags)\n",
    "(\n",
    "    input_ids_valid, token_ids_valid, attention_masks_valid, label_ids_valid\n",
    ") = convert_to_input(x_valid_sentences,x_valid_tags)\n",
    "\n",
    "post_pad_sequences = lambda x: pad_sequences(\n",
    "    x, maxlen=max_seq_length,dtype=\"long\",truncating=\"post\",padding=\"post\"\n",
    ")\n",
    "\n",
    "input_ids_train = post_pad_sequences(input_ids_train)\n",
    "token_ids_train = post_pad_sequences(token_ids_train)\n",
    "attention_masks_train = post_pad_sequences(attention_masks_train)\n",
    "label_ids_train = post_pad_sequences(label_ids_train)\n",
    "\n",
    "input_ids_valid = post_pad_sequences(input_ids_valid)\n",
    "token_ids_valid = post_pad_sequences(token_ids_valid)\n",
    "attention_masks_valid = post_pad_sequences(attention_masks_valid)\n",
    "label_ids_valid = post_pad_sequences(label_ids_valid)\n",
    "\n",
    "def example_to_features(input_ids,attention_masks,token_type_ids,y):\n",
    "    return {\n",
    "        \"input_ids\": input_ids, \"attention_mask\": attention_masks, \"token_type_ids\": token_type_ids\n",
    "    }, y\n",
    "\n",
    "train_data = tf.data.Dataset.from_tensor_slices(\n",
    "    (input_ids_train, attention_masks_train, token_ids_train, label_ids_train)\n",
    ").map(example_to_features).shuffle(1000).batch(8).repeat(5)\n",
    "valid_data = tf.data.Dataset.from_tensor_slices(\n",
    "    (input_ids_valid, attention_masks_valid, token_ids_valid, label_ids_valid)\n",
    ").map(example_to_features).batch(1)"
   ]
  },
  {
   "cell_type": "markdown",
   "id": "f1b12d81",
   "metadata": {
    "papermill": {
     "duration": 0.005906,
     "end_time": "2022-07-13T04:14:15.704374",
     "exception": false,
     "start_time": "2022-07-13T04:14:15.698468",
     "status": "completed"
    },
    "tags": []
   },
   "source": [
    "# Train"
   ]
  },
  {
   "cell_type": "code",
   "execution_count": 12,
   "id": "0ccee255",
   "metadata": {
    "execution": {
     "iopub.execute_input": "2022-07-13T04:14:15.718079Z",
     "iopub.status.busy": "2022-07-13T04:14:15.717796Z",
     "iopub.status.idle": "2022-07-13T09:07:14.005362Z",
     "shell.execute_reply": "2022-07-13T09:07:13.997419Z"
    },
    "papermill": {
     "duration": 17581.841555,
     "end_time": "2022-07-13T09:07:17.552007",
     "exception": false,
     "start_time": "2022-07-13T04:14:15.710452",
     "status": "completed"
    },
    "tags": []
   },
   "outputs": [
    {
     "name": "stdout",
     "output_type": "stream",
     "text": [
      "Epoch 1/3\n"
     ]
    },
    {
     "name": "stderr",
     "output_type": "stream",
     "text": [
      "2022-07-13 04:14:31.908477: I tensorflow/compiler/mlir/mlir_graph_optimization_pass.cc:185] None of the MLIR Optimization Passes are enabled (registered 2)\n"
     ]
    },
    {
     "name": "stdout",
     "output_type": "stream",
     "text": [
      "18990/18990 [==============================] - 5773s 303ms/step - loss: 0.0325 - accuracy: 0.9919 - val_loss: 0.0129 - val_accuracy: 0.9956\n",
      "Epoch 2/3\n",
      "18990/18990 [==============================] - 5879s 310ms/step - loss: 0.0168 - accuracy: 0.9940 - val_loss: 0.0106 - val_accuracy: 0.9967\n",
      "Epoch 3/3\n",
      "18990/18990 [==============================] - 5876s 309ms/step - loss: 0.0114 - accuracy: 0.9956 - val_loss: 0.0104 - val_accuracy: 0.9972\n"
     ]
    }
   ],
   "source": [
    "model.compile(\n",
    "    optimizer=tf.optimizers.Adam(2e-5), \n",
    "    loss=tf.keras.losses.SparseCategoricalCrossentropy(from_logits=True), \n",
    "    metrics='accuracy'\n",
    ")\n",
    "model.fit(train_data, validation_data=valid_data, epochs=3)\n",
    "model.save_pretrained('saved-model')"
   ]
  },
  {
   "cell_type": "markdown",
   "id": "b277bdff",
   "metadata": {
    "papermill": {
     "duration": 4.168377,
     "end_time": "2022-07-13T09:07:26.525836",
     "exception": false,
     "start_time": "2022-07-13T09:07:22.357459",
     "status": "completed"
    },
    "tags": []
   },
   "source": [
    "# Inference"
   ]
  },
  {
   "cell_type": "code",
   "execution_count": 13,
   "id": "51290386",
   "metadata": {
    "execution": {
     "iopub.execute_input": "2022-07-13T09:07:34.888565Z",
     "iopub.status.busy": "2022-07-13T09:07:34.887956Z",
     "iopub.status.idle": "2022-07-13T09:07:37.004584Z",
     "shell.execute_reply": "2022-07-13T09:07:37.003408Z"
    },
    "papermill": {
     "duration": 6.411775,
     "end_time": "2022-07-13T09:07:37.007313",
     "exception": false,
     "start_time": "2022-07-13T09:07:30.595538",
     "status": "completed"
    },
    "tags": []
   },
   "outputs": [
    {
     "name": "stderr",
     "output_type": "stream",
     "text": [
      "Some layers from the model checkpoint at saved-model were not used when initializing TFRobertaForTokenClassification: ['dropout_19']\n",
      "- This IS expected if you are initializing TFRobertaForTokenClassification from the checkpoint of a model trained on another task or with another architecture (e.g. initializing a BertForSequenceClassification model from a BertForPreTraining model).\n",
      "- This IS NOT expected if you are initializing TFRobertaForTokenClassification from the checkpoint of a model that you expect to be exactly identical (initializing a BertForSequenceClassification model from a BertForSequenceClassification model).\n",
      "All the layers of TFRobertaForTokenClassification were initialized from the model checkpoint at saved-model.\n",
      "If your task is similar to the task the model of the checkpoint was trained on, you can already use TFRobertaForTokenClassification for predictions without further training.\n"
     ]
    },
    {
     "name": "stdout",
     "output_type": "stream",
     "text": [
      "1/1 [==============================] - 1s 1s/step\n"
     ]
    }
   ],
   "source": [
    "query_idx = 7\n",
    "\n",
    "def query_to_features(input_ids,attention_masks,token_type_ids):\n",
    "    return {\n",
    "        \"input_ids\": input_ids, \"attention_mask\": attention_masks, \"token_type_ids\": token_type_ids\n",
    "    }\n",
    "\n",
    "input_ids_query = input_ids_valid[query_idx:query_idx+1]\n",
    "token_ids_query = token_ids_valid[query_idx:query_idx+1]\n",
    "attention_masks_query = attention_masks_valid[query_idx:query_idx+1]\n",
    "label_ids_query = label_ids_valid[query_idx:query_idx+1]\n",
    "\n",
    "query_data = tf.data.Dataset.from_tensor_slices(\n",
    "    (input_ids_query, attention_masks_query, token_ids_query)\n",
    ").map(query_to_features).batch(1)\n",
    "model = TFRobertaForTokenClassification.from_pretrained('saved-model')\n",
    "logits = model.predict(query_data, verbose=1).logits\n",
    "preds_proba = tf.nn.softmax(logits).numpy()\n",
    "preds = preds_proba.argmax(axis=2)"
   ]
  },
  {
   "cell_type": "code",
   "execution_count": 14,
   "id": "237c4f07",
   "metadata": {
    "execution": {
     "iopub.execute_input": "2022-07-13T09:07:45.439383Z",
     "iopub.status.busy": "2022-07-13T09:07:45.438868Z",
     "iopub.status.idle": "2022-07-13T09:07:45.459529Z",
     "shell.execute_reply": "2022-07-13T09:07:45.458272Z"
    },
    "papermill": {
     "duration": 4.537886,
     "end_time": "2022-07-13T09:07:45.461545",
     "exception": false,
     "start_time": "2022-07-13T09:07:40.923659",
     "status": "completed"
    },
    "tags": []
   },
   "outputs": [
    {
     "name": "stdout",
     "output_type": "stream",
     "text": [
      "<s>             O\n",
      "Iraqi           B-gpe\n",
      " o              O\n",
      " f              O\n",
      "ficial          O\n",
      "s               O\n",
      " s              O\n",
      " a              O\n",
      "y               O\n",
      " gun            O\n",
      " men            O\n",
      " h              O\n",
      " a              O\n",
      "ve              O\n",
      " k              O\n",
      " ill            O\n",
      "ed              O\n",
      " a              O\n",
      " member         O\n",
      " of             O\n",
      " the            O\n",
      " secular        O\n",
      " co             O\n",
      " al             B-gpe\n",
      "ition           O\n",
      " led            O\n",
      " by             O\n",
      " for            B-per\n",
      " mer            O\n",
      " Iraqi          I-per\n",
      " prime          O\n",
      " m              O\n",
      " in             O\n",
      "ister           O\n",
      " A              O\n",
      " y              O\n",
      "ad              O\n",
      " All            O\n",
      " aw             O\n",
      "i               O\n",
      ".               O\n",
      "</s>            O\n"
     ]
    }
   ],
   "source": [
    "texts = [tokenizer.decode(token) for token in input_ids_query[0]]\n",
    "tags = [label_map_inv[p] for p in preds[0]]\n",
    "for token, tag in zip(texts, tags):\n",
    "    print(f\"{token:15} {tag}\")\n",
    "    if token == '</s>':\n",
    "        break"
   ]
  },
  {
   "cell_type": "code",
   "execution_count": null,
   "id": "4b9cb6db",
   "metadata": {
    "papermill": {
     "duration": 4.576147,
     "end_time": "2022-07-13T09:07:54.031503",
     "exception": false,
     "start_time": "2022-07-13T09:07:49.455356",
     "status": "completed"
    },
    "tags": []
   },
   "outputs": [],
   "source": []
  }
 ],
 "metadata": {
  "kernelspec": {
   "display_name": "Python 3",
   "language": "python",
   "name": "python3"
  },
  "language_info": {
   "codemirror_mode": {
    "name": "ipython",
    "version": 3
   },
   "file_extension": ".py",
   "mimetype": "text/x-python",
   "name": "python",
   "nbconvert_exporter": "python",
   "pygments_lexer": "ipython3",
   "version": "3.7.12"
  },
  "papermill": {
   "default_parameters": {},
   "duration": 17726.348069,
   "end_time": "2022-07-13T09:08:01.263911",
   "environment_variables": {},
   "exception": null,
   "input_path": "__notebook__.ipynb",
   "output_path": "__notebook__.ipynb",
   "parameters": {},
   "start_time": "2022-07-13T04:12:34.915842",
   "version": "2.3.4"
  },
  "widgets": {
   "application/vnd.jupyter.widget-state+json": {
    "state": {
     "06326c5b40eb49f89eaa6a29c630447a": {
      "model_module": "@jupyter-widgets/controls",
      "model_module_version": "1.5.0",
      "model_name": "HBoxModel",
      "state": {
       "_dom_classes": [],
       "_model_module": "@jupyter-widgets/controls",
       "_model_module_version": "1.5.0",
       "_model_name": "HBoxModel",
       "_view_count": null,
       "_view_module": "@jupyter-widgets/controls",
       "_view_module_version": "1.5.0",
       "_view_name": "HBoxView",
       "box_style": "",
       "children": [
        "IPY_MODEL_b035f893355a43cfaf31746775d54343",
        "IPY_MODEL_2b8cce4965d44bbea7c696fd56f79e57",
        "IPY_MODEL_719b95745ee94d20a68b7fa3bdc86f6d"
       ],
       "layout": "IPY_MODEL_123d1d7076cc474fb657debd18a8e774"
      }
     },
     "123d1d7076cc474fb657debd18a8e774": {
      "model_module": "@jupyter-widgets/base",
      "model_module_version": "1.2.0",
      "model_name": "LayoutModel",
      "state": {
       "_model_module": "@jupyter-widgets/base",
       "_model_module_version": "1.2.0",
       "_model_name": "LayoutModel",
       "_view_count": null,
       "_view_module": "@jupyter-widgets/base",
       "_view_module_version": "1.2.0",
       "_view_name": "LayoutView",
       "align_content": null,
       "align_items": null,
       "align_self": null,
       "border": null,
       "bottom": null,
       "display": null,
       "flex": null,
       "flex_flow": null,
       "grid_area": null,
       "grid_auto_columns": null,
       "grid_auto_flow": null,
       "grid_auto_rows": null,
       "grid_column": null,
       "grid_gap": null,
       "grid_row": null,
       "grid_template_areas": null,
       "grid_template_columns": null,
       "grid_template_rows": null,
       "height": null,
       "justify_content": null,
       "justify_items": null,
       "left": null,
       "margin": null,
       "max_height": null,
       "max_width": null,
       "min_height": null,
       "min_width": null,
       "object_fit": null,
       "object_position": null,
       "order": null,
       "overflow": null,
       "overflow_x": null,
       "overflow_y": null,
       "padding": null,
       "right": null,
       "top": null,
       "visibility": null,
       "width": null
      }
     },
     "124cffd82a9241028fe047fbddcd29da": {
      "model_module": "@jupyter-widgets/base",
      "model_module_version": "1.2.0",
      "model_name": "LayoutModel",
      "state": {
       "_model_module": "@jupyter-widgets/base",
       "_model_module_version": "1.2.0",
       "_model_name": "LayoutModel",
       "_view_count": null,
       "_view_module": "@jupyter-widgets/base",
       "_view_module_version": "1.2.0",
       "_view_name": "LayoutView",
       "align_content": null,
       "align_items": null,
       "align_self": null,
       "border": null,
       "bottom": null,
       "display": null,
       "flex": null,
       "flex_flow": null,
       "grid_area": null,
       "grid_auto_columns": null,
       "grid_auto_flow": null,
       "grid_auto_rows": null,
       "grid_column": null,
       "grid_gap": null,
       "grid_row": null,
       "grid_template_areas": null,
       "grid_template_columns": null,
       "grid_template_rows": null,
       "height": null,
       "justify_content": null,
       "justify_items": null,
       "left": null,
       "margin": null,
       "max_height": null,
       "max_width": null,
       "min_height": null,
       "min_width": null,
       "object_fit": null,
       "object_position": null,
       "order": null,
       "overflow": null,
       "overflow_x": null,
       "overflow_y": null,
       "padding": null,
       "right": null,
       "top": null,
       "visibility": null,
       "width": null
      }
     },
     "2b8cce4965d44bbea7c696fd56f79e57": {
      "model_module": "@jupyter-widgets/controls",
      "model_module_version": "1.5.0",
      "model_name": "FloatProgressModel",
      "state": {
       "_dom_classes": [],
       "_model_module": "@jupyter-widgets/controls",
       "_model_module_version": "1.5.0",
       "_model_name": "FloatProgressModel",
       "_view_count": null,
       "_view_module": "@jupyter-widgets/controls",
       "_view_module_version": "1.5.0",
       "_view_name": "ProgressView",
       "bar_style": "success",
       "description": "",
       "description_tooltip": null,
       "layout": "IPY_MODEL_abb0c6257d474ceb901f9e14b7508024",
       "max": 30381.0,
       "min": 0.0,
       "orientation": "horizontal",
       "style": "IPY_MODEL_c5f228fbdcf6491ab1c11bf9a39ab5c5",
       "value": 30381.0
      }
     },
     "32e0ff9b6ed54fb3ad966ed84b8463e8": {
      "model_module": "@jupyter-widgets/controls",
      "model_module_version": "1.5.0",
      "model_name": "HTMLModel",
      "state": {
       "_dom_classes": [],
       "_model_module": "@jupyter-widgets/controls",
       "_model_module_version": "1.5.0",
       "_model_name": "HTMLModel",
       "_view_count": null,
       "_view_module": "@jupyter-widgets/controls",
       "_view_module_version": "1.5.0",
       "_view_name": "HTMLView",
       "description": "",
       "description_tooltip": null,
       "layout": "IPY_MODEL_75fc947225a74415a0466291d1e178e8",
       "placeholder": "​",
       "style": "IPY_MODEL_db6fda8534014fd98de35789fa0241a1",
       "value": "100%"
      }
     },
     "34368ccdf8c244aaaea20ef15922dd39": {
      "model_module": "@jupyter-widgets/controls",
      "model_module_version": "1.5.0",
      "model_name": "HBoxModel",
      "state": {
       "_dom_classes": [],
       "_model_module": "@jupyter-widgets/controls",
       "_model_module_version": "1.5.0",
       "_model_name": "HBoxModel",
       "_view_count": null,
       "_view_module": "@jupyter-widgets/controls",
       "_view_module_version": "1.5.0",
       "_view_name": "HBoxView",
       "box_style": "",
       "children": [
        "IPY_MODEL_32e0ff9b6ed54fb3ad966ed84b8463e8",
        "IPY_MODEL_9fd6b245ea9c47ee85fc8110e799b654",
        "IPY_MODEL_d443b081fa1e439098dd6911cefc2413"
       ],
       "layout": "IPY_MODEL_124cffd82a9241028fe047fbddcd29da"
      }
     },
     "368e4b305e624fddb4b1d54db8c861e9": {
      "model_module": "@jupyter-widgets/controls",
      "model_module_version": "1.5.0",
      "model_name": "ProgressStyleModel",
      "state": {
       "_model_module": "@jupyter-widgets/controls",
       "_model_module_version": "1.5.0",
       "_model_name": "ProgressStyleModel",
       "_view_count": null,
       "_view_module": "@jupyter-widgets/base",
       "_view_module_version": "1.2.0",
       "_view_name": "StyleView",
       "bar_color": null,
       "description_width": ""
      }
     },
     "660eeb9002944676b6dd5235f47d1b5d": {
      "model_module": "@jupyter-widgets/base",
      "model_module_version": "1.2.0",
      "model_name": "LayoutModel",
      "state": {
       "_model_module": "@jupyter-widgets/base",
       "_model_module_version": "1.2.0",
       "_model_name": "LayoutModel",
       "_view_count": null,
       "_view_module": "@jupyter-widgets/base",
       "_view_module_version": "1.2.0",
       "_view_name": "LayoutView",
       "align_content": null,
       "align_items": null,
       "align_self": null,
       "border": null,
       "bottom": null,
       "display": null,
       "flex": null,
       "flex_flow": null,
       "grid_area": null,
       "grid_auto_columns": null,
       "grid_auto_flow": null,
       "grid_auto_rows": null,
       "grid_column": null,
       "grid_gap": null,
       "grid_row": null,
       "grid_template_areas": null,
       "grid_template_columns": null,
       "grid_template_rows": null,
       "height": null,
       "justify_content": null,
       "justify_items": null,
       "left": null,
       "margin": null,
       "max_height": null,
       "max_width": null,
       "min_height": null,
       "min_width": null,
       "object_fit": null,
       "object_position": null,
       "order": null,
       "overflow": null,
       "overflow_x": null,
       "overflow_y": null,
       "padding": null,
       "right": null,
       "top": null,
       "visibility": null,
       "width": null
      }
     },
     "719b95745ee94d20a68b7fa3bdc86f6d": {
      "model_module": "@jupyter-widgets/controls",
      "model_module_version": "1.5.0",
      "model_name": "HTMLModel",
      "state": {
       "_dom_classes": [],
       "_model_module": "@jupyter-widgets/controls",
       "_model_module_version": "1.5.0",
       "_model_name": "HTMLModel",
       "_view_count": null,
       "_view_module": "@jupyter-widgets/controls",
       "_view_module_version": "1.5.0",
       "_view_name": "HTMLView",
       "description": "",
       "description_tooltip": null,
       "layout": "IPY_MODEL_660eeb9002944676b6dd5235f47d1b5d",
       "placeholder": "​",
       "style": "IPY_MODEL_9da6d1b2dc344647928d2968eec37a72",
       "value": " 30381/30381 [01:00&lt;00:00, 751.98it/s]"
      }
     },
     "75fc947225a74415a0466291d1e178e8": {
      "model_module": "@jupyter-widgets/base",
      "model_module_version": "1.2.0",
      "model_name": "LayoutModel",
      "state": {
       "_model_module": "@jupyter-widgets/base",
       "_model_module_version": "1.2.0",
       "_model_name": "LayoutModel",
       "_view_count": null,
       "_view_module": "@jupyter-widgets/base",
       "_view_module_version": "1.2.0",
       "_view_name": "LayoutView",
       "align_content": null,
       "align_items": null,
       "align_self": null,
       "border": null,
       "bottom": null,
       "display": null,
       "flex": null,
       "flex_flow": null,
       "grid_area": null,
       "grid_auto_columns": null,
       "grid_auto_flow": null,
       "grid_auto_rows": null,
       "grid_column": null,
       "grid_gap": null,
       "grid_row": null,
       "grid_template_areas": null,
       "grid_template_columns": null,
       "grid_template_rows": null,
       "height": null,
       "justify_content": null,
       "justify_items": null,
       "left": null,
       "margin": null,
       "max_height": null,
       "max_width": null,
       "min_height": null,
       "min_width": null,
       "object_fit": null,
       "object_position": null,
       "order": null,
       "overflow": null,
       "overflow_x": null,
       "overflow_y": null,
       "padding": null,
       "right": null,
       "top": null,
       "visibility": null,
       "width": null
      }
     },
     "940f75fbb9054443bce1196d5695f2e5": {
      "model_module": "@jupyter-widgets/base",
      "model_module_version": "1.2.0",
      "model_name": "LayoutModel",
      "state": {
       "_model_module": "@jupyter-widgets/base",
       "_model_module_version": "1.2.0",
       "_model_name": "LayoutModel",
       "_view_count": null,
       "_view_module": "@jupyter-widgets/base",
       "_view_module_version": "1.2.0",
       "_view_name": "LayoutView",
       "align_content": null,
       "align_items": null,
       "align_self": null,
       "border": null,
       "bottom": null,
       "display": null,
       "flex": null,
       "flex_flow": null,
       "grid_area": null,
       "grid_auto_columns": null,
       "grid_auto_flow": null,
       "grid_auto_rows": null,
       "grid_column": null,
       "grid_gap": null,
       "grid_row": null,
       "grid_template_areas": null,
       "grid_template_columns": null,
       "grid_template_rows": null,
       "height": null,
       "justify_content": null,
       "justify_items": null,
       "left": null,
       "margin": null,
       "max_height": null,
       "max_width": null,
       "min_height": null,
       "min_width": null,
       "object_fit": null,
       "object_position": null,
       "order": null,
       "overflow": null,
       "overflow_x": null,
       "overflow_y": null,
       "padding": null,
       "right": null,
       "top": null,
       "visibility": null,
       "width": null
      }
     },
     "9da6d1b2dc344647928d2968eec37a72": {
      "model_module": "@jupyter-widgets/controls",
      "model_module_version": "1.5.0",
      "model_name": "DescriptionStyleModel",
      "state": {
       "_model_module": "@jupyter-widgets/controls",
       "_model_module_version": "1.5.0",
       "_model_name": "DescriptionStyleModel",
       "_view_count": null,
       "_view_module": "@jupyter-widgets/base",
       "_view_module_version": "1.2.0",
       "_view_name": "StyleView",
       "description_width": ""
      }
     },
     "9fd6b245ea9c47ee85fc8110e799b654": {
      "model_module": "@jupyter-widgets/controls",
      "model_module_version": "1.5.0",
      "model_name": "FloatProgressModel",
      "state": {
       "_dom_classes": [],
       "_model_module": "@jupyter-widgets/controls",
       "_model_module_version": "1.5.0",
       "_model_name": "FloatProgressModel",
       "_view_count": null,
       "_view_module": "@jupyter-widgets/controls",
       "_view_module_version": "1.5.0",
       "_view_name": "ProgressView",
       "bar_style": "success",
       "description": "",
       "description_tooltip": null,
       "layout": "IPY_MODEL_940f75fbb9054443bce1196d5695f2e5",
       "max": 4796.0,
       "min": 0.0,
       "orientation": "horizontal",
       "style": "IPY_MODEL_368e4b305e624fddb4b1d54db8c861e9",
       "value": 4796.0
      }
     },
     "9fde3b9b741e41fe94c2b8114b587ea5": {
      "model_module": "@jupyter-widgets/base",
      "model_module_version": "1.2.0",
      "model_name": "LayoutModel",
      "state": {
       "_model_module": "@jupyter-widgets/base",
       "_model_module_version": "1.2.0",
       "_model_name": "LayoutModel",
       "_view_count": null,
       "_view_module": "@jupyter-widgets/base",
       "_view_module_version": "1.2.0",
       "_view_name": "LayoutView",
       "align_content": null,
       "align_items": null,
       "align_self": null,
       "border": null,
       "bottom": null,
       "display": null,
       "flex": null,
       "flex_flow": null,
       "grid_area": null,
       "grid_auto_columns": null,
       "grid_auto_flow": null,
       "grid_auto_rows": null,
       "grid_column": null,
       "grid_gap": null,
       "grid_row": null,
       "grid_template_areas": null,
       "grid_template_columns": null,
       "grid_template_rows": null,
       "height": null,
       "justify_content": null,
       "justify_items": null,
       "left": null,
       "margin": null,
       "max_height": null,
       "max_width": null,
       "min_height": null,
       "min_width": null,
       "object_fit": null,
       "object_position": null,
       "order": null,
       "overflow": null,
       "overflow_x": null,
       "overflow_y": null,
       "padding": null,
       "right": null,
       "top": null,
       "visibility": null,
       "width": null
      }
     },
     "abb0c6257d474ceb901f9e14b7508024": {
      "model_module": "@jupyter-widgets/base",
      "model_module_version": "1.2.0",
      "model_name": "LayoutModel",
      "state": {
       "_model_module": "@jupyter-widgets/base",
       "_model_module_version": "1.2.0",
       "_model_name": "LayoutModel",
       "_view_count": null,
       "_view_module": "@jupyter-widgets/base",
       "_view_module_version": "1.2.0",
       "_view_name": "LayoutView",
       "align_content": null,
       "align_items": null,
       "align_self": null,
       "border": null,
       "bottom": null,
       "display": null,
       "flex": null,
       "flex_flow": null,
       "grid_area": null,
       "grid_auto_columns": null,
       "grid_auto_flow": null,
       "grid_auto_rows": null,
       "grid_column": null,
       "grid_gap": null,
       "grid_row": null,
       "grid_template_areas": null,
       "grid_template_columns": null,
       "grid_template_rows": null,
       "height": null,
       "justify_content": null,
       "justify_items": null,
       "left": null,
       "margin": null,
       "max_height": null,
       "max_width": null,
       "min_height": null,
       "min_width": null,
       "object_fit": null,
       "object_position": null,
       "order": null,
       "overflow": null,
       "overflow_x": null,
       "overflow_y": null,
       "padding": null,
       "right": null,
       "top": null,
       "visibility": null,
       "width": null
      }
     },
     "b035f893355a43cfaf31746775d54343": {
      "model_module": "@jupyter-widgets/controls",
      "model_module_version": "1.5.0",
      "model_name": "HTMLModel",
      "state": {
       "_dom_classes": [],
       "_model_module": "@jupyter-widgets/controls",
       "_model_module_version": "1.5.0",
       "_model_name": "HTMLModel",
       "_view_count": null,
       "_view_module": "@jupyter-widgets/controls",
       "_view_module_version": "1.5.0",
       "_view_name": "HTMLView",
       "description": "",
       "description_tooltip": null,
       "layout": "IPY_MODEL_ce73fb3e846e44aebd1d36806e573ca2",
       "placeholder": "​",
       "style": "IPY_MODEL_fa93cfc43ca84a9483387121b3bc7c73",
       "value": "100%"
      }
     },
     "b507a7d42a42489ead8b5219c3d55010": {
      "model_module": "@jupyter-widgets/controls",
      "model_module_version": "1.5.0",
      "model_name": "DescriptionStyleModel",
      "state": {
       "_model_module": "@jupyter-widgets/controls",
       "_model_module_version": "1.5.0",
       "_model_name": "DescriptionStyleModel",
       "_view_count": null,
       "_view_module": "@jupyter-widgets/base",
       "_view_module_version": "1.2.0",
       "_view_name": "StyleView",
       "description_width": ""
      }
     },
     "c5f228fbdcf6491ab1c11bf9a39ab5c5": {
      "model_module": "@jupyter-widgets/controls",
      "model_module_version": "1.5.0",
      "model_name": "ProgressStyleModel",
      "state": {
       "_model_module": "@jupyter-widgets/controls",
       "_model_module_version": "1.5.0",
       "_model_name": "ProgressStyleModel",
       "_view_count": null,
       "_view_module": "@jupyter-widgets/base",
       "_view_module_version": "1.2.0",
       "_view_name": "StyleView",
       "bar_color": null,
       "description_width": ""
      }
     },
     "ce73fb3e846e44aebd1d36806e573ca2": {
      "model_module": "@jupyter-widgets/base",
      "model_module_version": "1.2.0",
      "model_name": "LayoutModel",
      "state": {
       "_model_module": "@jupyter-widgets/base",
       "_model_module_version": "1.2.0",
       "_model_name": "LayoutModel",
       "_view_count": null,
       "_view_module": "@jupyter-widgets/base",
       "_view_module_version": "1.2.0",
       "_view_name": "LayoutView",
       "align_content": null,
       "align_items": null,
       "align_self": null,
       "border": null,
       "bottom": null,
       "display": null,
       "flex": null,
       "flex_flow": null,
       "grid_area": null,
       "grid_auto_columns": null,
       "grid_auto_flow": null,
       "grid_auto_rows": null,
       "grid_column": null,
       "grid_gap": null,
       "grid_row": null,
       "grid_template_areas": null,
       "grid_template_columns": null,
       "grid_template_rows": null,
       "height": null,
       "justify_content": null,
       "justify_items": null,
       "left": null,
       "margin": null,
       "max_height": null,
       "max_width": null,
       "min_height": null,
       "min_width": null,
       "object_fit": null,
       "object_position": null,
       "order": null,
       "overflow": null,
       "overflow_x": null,
       "overflow_y": null,
       "padding": null,
       "right": null,
       "top": null,
       "visibility": null,
       "width": null
      }
     },
     "d443b081fa1e439098dd6911cefc2413": {
      "model_module": "@jupyter-widgets/controls",
      "model_module_version": "1.5.0",
      "model_name": "HTMLModel",
      "state": {
       "_dom_classes": [],
       "_model_module": "@jupyter-widgets/controls",
       "_model_module_version": "1.5.0",
       "_model_name": "HTMLModel",
       "_view_count": null,
       "_view_module": "@jupyter-widgets/controls",
       "_view_module_version": "1.5.0",
       "_view_name": "HTMLView",
       "description": "",
       "description_tooltip": null,
       "layout": "IPY_MODEL_9fde3b9b741e41fe94c2b8114b587ea5",
       "placeholder": "​",
       "style": "IPY_MODEL_b507a7d42a42489ead8b5219c3d55010",
       "value": " 4796/4796 [00:06&lt;00:00, 733.10it/s]"
      }
     },
     "db6fda8534014fd98de35789fa0241a1": {
      "model_module": "@jupyter-widgets/controls",
      "model_module_version": "1.5.0",
      "model_name": "DescriptionStyleModel",
      "state": {
       "_model_module": "@jupyter-widgets/controls",
       "_model_module_version": "1.5.0",
       "_model_name": "DescriptionStyleModel",
       "_view_count": null,
       "_view_module": "@jupyter-widgets/base",
       "_view_module_version": "1.2.0",
       "_view_name": "StyleView",
       "description_width": ""
      }
     },
     "fa93cfc43ca84a9483387121b3bc7c73": {
      "model_module": "@jupyter-widgets/controls",
      "model_module_version": "1.5.0",
      "model_name": "DescriptionStyleModel",
      "state": {
       "_model_module": "@jupyter-widgets/controls",
       "_model_module_version": "1.5.0",
       "_model_name": "DescriptionStyleModel",
       "_view_count": null,
       "_view_module": "@jupyter-widgets/base",
       "_view_module_version": "1.2.0",
       "_view_name": "StyleView",
       "description_width": ""
      }
     }
    },
    "version_major": 2,
    "version_minor": 0
   }
  }
 },
 "nbformat": 4,
 "nbformat_minor": 5
}
