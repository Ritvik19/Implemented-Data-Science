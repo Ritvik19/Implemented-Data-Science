{
 "cells": [
  {
   "cell_type": "code",
   "execution_count": 1,
   "id": "e7d92a89",
   "metadata": {
    "execution": {
     "iopub.execute_input": "2022-07-13T04:06:40.592291Z",
     "iopub.status.busy": "2022-07-13T04:06:40.591612Z",
     "iopub.status.idle": "2022-07-13T04:06:49.045480Z",
     "shell.execute_reply": "2022-07-13T04:06:49.044094Z"
    },
    "papermill": {
     "duration": 8.467011,
     "end_time": "2022-07-13T04:06:49.048875",
     "exception": false,
     "start_time": "2022-07-13T04:06:40.581864",
     "status": "completed"
    },
    "tags": []
   },
   "outputs": [],
   "source": [
    "import os, re\n",
    "import numpy as np\n",
    "import pandas as pd\n",
    "import tensorflow as tf\n",
    "from transformers import RobertaTokenizer, RobertaConfig, TFRobertaForTokenClassification\n",
    "from tokenizers import ByteLevelBPETokenizer\n",
    "from tqdm.auto import tqdm"
   ]
  },
  {
   "cell_type": "markdown",
   "id": "5fcea499",
   "metadata": {
    "papermill": {
     "duration": 0.005632,
     "end_time": "2022-07-13T04:06:49.061005",
     "exception": false,
     "start_time": "2022-07-13T04:06:49.055373",
     "status": "completed"
    },
    "tags": []
   },
   "source": [
    "# Get the Data"
   ]
  },
  {
   "cell_type": "code",
   "execution_count": 2,
   "id": "dbdc944f",
   "metadata": {
    "_cell_guid": "b1076dfc-b9ad-4769-8c92-a6c4dae69d19",
    "_uuid": "8f2839f25d086af736a60e9eeb907d3b93b6e0e5",
    "execution": {
     "iopub.execute_input": "2022-07-13T04:06:49.075668Z",
     "iopub.status.busy": "2022-07-13T04:06:49.073999Z",
     "iopub.status.idle": "2022-07-13T04:06:53.043210Z",
     "shell.execute_reply": "2022-07-13T04:06:53.040951Z"
    },
    "papermill": {
     "duration": 3.979397,
     "end_time": "2022-07-13T04:06:53.046201",
     "exception": false,
     "start_time": "2022-07-13T04:06:49.066804",
     "status": "completed"
    },
    "tags": []
   },
   "outputs": [
    {
     "name": "stderr",
     "output_type": "stream",
     "text": [
      "/opt/conda/lib/python3.7/site-packages/IPython/core/interactiveshell.py:3552: FutureWarning: The error_bad_lines argument has been deprecated and will be removed in a future version.\n",
      "\n",
      "\n",
      "  exec(code_obj, self.user_global_ns, self.user_ns)\n",
      "/opt/conda/lib/python3.7/site-packages/IPython/core/interactiveshell.py:3552: DtypeWarning: Columns (21) have mixed types.Specify dtype option on import or set low_memory=False.\n",
      "  exec(code_obj, self.user_global_ns, self.user_ns)\n"
     ]
    },
    {
     "name": "stdout",
     "output_type": "stream",
     "text": [
      "(1050794, 3)\n"
     ]
    },
    {
     "data": {
      "text/html": [
       "<div>\n",
       "<style scoped>\n",
       "    .dataframe tbody tr th:only-of-type {\n",
       "        vertical-align: middle;\n",
       "    }\n",
       "\n",
       "    .dataframe tbody tr th {\n",
       "        vertical-align: top;\n",
       "    }\n",
       "\n",
       "    .dataframe thead th {\n",
       "        text-align: right;\n",
       "    }\n",
       "</style>\n",
       "<table border=\"1\" class=\"dataframe\">\n",
       "  <thead>\n",
       "    <tr style=\"text-align: right;\">\n",
       "      <th></th>\n",
       "      <th>sentence_idx</th>\n",
       "      <th>word</th>\n",
       "      <th>tag</th>\n",
       "    </tr>\n",
       "  </thead>\n",
       "  <tbody>\n",
       "    <tr>\n",
       "      <th>0</th>\n",
       "      <td>1</td>\n",
       "      <td>Thousands</td>\n",
       "      <td>O</td>\n",
       "    </tr>\n",
       "    <tr>\n",
       "      <th>1</th>\n",
       "      <td>1</td>\n",
       "      <td>of</td>\n",
       "      <td>O</td>\n",
       "    </tr>\n",
       "    <tr>\n",
       "      <th>2</th>\n",
       "      <td>1</td>\n",
       "      <td>demonstrators</td>\n",
       "      <td>O</td>\n",
       "    </tr>\n",
       "    <tr>\n",
       "      <th>3</th>\n",
       "      <td>1</td>\n",
       "      <td>have</td>\n",
       "      <td>O</td>\n",
       "    </tr>\n",
       "    <tr>\n",
       "      <th>4</th>\n",
       "      <td>1</td>\n",
       "      <td>marched</td>\n",
       "      <td>O</td>\n",
       "    </tr>\n",
       "  </tbody>\n",
       "</table>\n",
       "</div>"
      ],
      "text/plain": [
       "  sentence_idx           word tag\n",
       "0            1      Thousands   O\n",
       "1            1             of   O\n",
       "2            1  demonstrators   O\n",
       "3            1           have   O\n",
       "4            1        marched   O"
      ]
     },
     "execution_count": 2,
     "metadata": {},
     "output_type": "execute_result"
    }
   ],
   "source": [
    "data = pd.read_csv(\n",
    "    \"../input/entity-annotated-corpus/ner.csv\", encoding = \"ISO-8859-1\", error_bad_lines=False, \n",
    "    usecols=['sentence_idx', 'word', 'tag']\n",
    ")\n",
    "data  = data[data['sentence_idx'] != 'prev-lemma'].dropna(subset=['sentence_idx']).reset_index(drop=True)\n",
    "print(data.shape)\n",
    "data.head()"
   ]
  },
  {
   "cell_type": "code",
   "execution_count": 3,
   "id": "f1d23772",
   "metadata": {
    "execution": {
     "iopub.execute_input": "2022-07-13T04:06:53.061556Z",
     "iopub.status.busy": "2022-07-13T04:06:53.061105Z",
     "iopub.status.idle": "2022-07-13T04:06:53.192860Z",
     "shell.execute_reply": "2022-07-13T04:06:53.191360Z"
    },
    "papermill": {
     "duration": 0.143027,
     "end_time": "2022-07-13T04:06:53.196099",
     "exception": false,
     "start_time": "2022-07-13T04:06:53.053072",
     "status": "completed"
    },
    "tags": []
   },
   "outputs": [
    {
     "data": {
      "text/plain": [
       "(7930, 934)"
      ]
     },
     "execution_count": 3,
     "metadata": {},
     "output_type": "execute_result"
    }
   ],
   "source": [
    "data['sentence_idx'] = data['sentence_idx'].astype(int)\n",
    "\n",
    "data = data[data['sentence_idx'] <= 200]\n",
    "\n",
    "split_thresh = data['sentence_idx'].max() * 0.9\n",
    "df_train, df_valid = data[data['sentence_idx'] < split_thresh], data[data['sentence_idx'] >= split_thresh]\n",
    "len(df_train), len(df_valid)"
   ]
  },
  {
   "cell_type": "code",
   "execution_count": 4,
   "id": "3d890be1",
   "metadata": {
    "execution": {
     "iopub.execute_input": "2022-07-13T04:06:53.211794Z",
     "iopub.status.busy": "2022-07-13T04:06:53.211409Z",
     "iopub.status.idle": "2022-07-13T04:06:53.438815Z",
     "shell.execute_reply": "2022-07-13T04:06:53.437508Z"
    },
    "papermill": {
     "duration": 0.238986,
     "end_time": "2022-07-13T04:06:53.441938",
     "exception": false,
     "start_time": "2022-07-13T04:06:53.202952",
     "status": "completed"
    },
    "tags": []
   },
   "outputs": [],
   "source": [
    "agg_func = lambda s: [ [w,t] for w,t in zip(s[\"word\"].values.tolist(),s[\"tag\"].values.tolist())]\n",
    "\n",
    "x_train_grouped = df_train.groupby(\"sentence_idx\").apply(agg_func)\n",
    "x_valid_grouped = df_valid.groupby(\"sentence_idx\").apply(agg_func)\n",
    "\n",
    "x_train_sentences = [[s[0] for s in sent] for sent in x_train_grouped.values]\n",
    "x_valid_sentences = [[s[0] for s in sent] for sent in x_valid_grouped.values]\n",
    "\n",
    "x_train_tags = [[t[1] for t in tag] for tag in x_train_grouped.values]\n",
    "x_valid_tags = [[t[1] for t in tag] for tag in x_valid_grouped.values]"
   ]
  },
  {
   "cell_type": "code",
   "execution_count": 5,
   "id": "3618ed41",
   "metadata": {
    "execution": {
     "iopub.execute_input": "2022-07-13T04:06:53.457349Z",
     "iopub.status.busy": "2022-07-13T04:06:53.456896Z",
     "iopub.status.idle": "2022-07-13T04:06:53.468780Z",
     "shell.execute_reply": "2022-07-13T04:06:53.467257Z"
    },
    "papermill": {
     "duration": 0.023509,
     "end_time": "2022-07-13T04:06:53.472286",
     "exception": false,
     "start_time": "2022-07-13T04:06:53.448777",
     "status": "completed"
    },
    "tags": []
   },
   "outputs": [
    {
     "data": {
      "text/plain": [
       "15"
      ]
     },
     "execution_count": 5,
     "metadata": {},
     "output_type": "execute_result"
    }
   ],
   "source": [
    "tag_list = data['tag'].unique()\n",
    "label_map = {label: i for i, label in enumerate(tag_list)}\n",
    "label_map_inv = {i: label for i, label in enumerate(tag_list)}\n",
    "num_labels = len(tag_list) + 1\n",
    "num_labels"
   ]
  },
  {
   "cell_type": "markdown",
   "id": "35466abc",
   "metadata": {
    "papermill": {
     "duration": 0.006416,
     "end_time": "2022-07-13T04:06:53.485724",
     "exception": false,
     "start_time": "2022-07-13T04:06:53.479308",
     "status": "completed"
    },
    "tags": []
   },
   "source": [
    "# Build Tokenizer"
   ]
  },
  {
   "cell_type": "code",
   "execution_count": 6,
   "id": "a26f00ce",
   "metadata": {
    "execution": {
     "iopub.execute_input": "2022-07-13T04:06:53.501843Z",
     "iopub.status.busy": "2022-07-13T04:06:53.501033Z",
     "iopub.status.idle": "2022-07-13T04:06:53.529108Z",
     "shell.execute_reply": "2022-07-13T04:06:53.527833Z"
    },
    "papermill": {
     "duration": 0.040006,
     "end_time": "2022-07-13T04:06:53.532335",
     "exception": false,
     "start_time": "2022-07-13T04:06:53.492329",
     "status": "completed"
    },
    "tags": []
   },
   "outputs": [],
   "source": [
    "texts = [' '.join(sent) for sent in x_train_sentences]\n",
    "\n",
    "os.mkdir('text_files')\n",
    "for e, text in enumerate(texts):\n",
    "    with open(f\"text_files/train_{e+1:05}.txt\", 'w') as f:\n",
    "        f.write(re.sub(r'\\s+', ' ', text))"
   ]
  },
  {
   "cell_type": "code",
   "execution_count": 7,
   "id": "c1e1163c",
   "metadata": {
    "execution": {
     "iopub.execute_input": "2022-07-13T04:06:53.547356Z",
     "iopub.status.busy": "2022-07-13T04:06:53.546911Z",
     "iopub.status.idle": "2022-07-13T04:06:53.697770Z",
     "shell.execute_reply": "2022-07-13T04:06:53.696366Z"
    },
    "papermill": {
     "duration": 0.161693,
     "end_time": "2022-07-13T04:06:53.700724",
     "exception": false,
     "start_time": "2022-07-13T04:06:53.539031",
     "status": "completed"
    },
    "tags": []
   },
   "outputs": [
    {
     "name": "stdout",
     "output_type": "stream",
     "text": [
      "\n",
      "\n",
      "\n"
     ]
    },
    {
     "data": {
      "text/plain": [
       "['tokenizer/vocab.json', 'tokenizer/merges.txt']"
      ]
     },
     "execution_count": 7,
     "metadata": {},
     "output_type": "execute_result"
    }
   ],
   "source": [
    "tokenizer = ByteLevelBPETokenizer()\n",
    "tokenizer.train(\n",
    "    files=[f\"text_files/train_{e+1:05}.txt\" for e in range(len(texts))], vocab_size=30_522,\n",
    "    special_tokens=['<s>', '<pad>', '</s>', '<unk>', '<mask>']\n",
    ")\n",
    "os.mkdir('tokenizer')\n",
    "tokenizer.save_model('tokenizer')"
   ]
  },
  {
   "cell_type": "markdown",
   "id": "4ccc38cb",
   "metadata": {
    "papermill": {
     "duration": 0.006538,
     "end_time": "2022-07-13T04:06:53.714145",
     "exception": false,
     "start_time": "2022-07-13T04:06:53.707607",
     "status": "completed"
    },
    "tags": []
   },
   "source": [
    "# Initialise Model"
   ]
  },
  {
   "cell_type": "code",
   "execution_count": 8,
   "id": "a616308b",
   "metadata": {
    "execution": {
     "iopub.execute_input": "2022-07-13T04:06:53.729497Z",
     "iopub.status.busy": "2022-07-13T04:06:53.729088Z",
     "iopub.status.idle": "2022-07-13T04:06:53.734514Z",
     "shell.execute_reply": "2022-07-13T04:06:53.733090Z"
    },
    "papermill": {
     "duration": 0.016328,
     "end_time": "2022-07-13T04:06:53.737245",
     "exception": false,
     "start_time": "2022-07-13T04:06:53.720917",
     "status": "completed"
    },
    "tags": []
   },
   "outputs": [],
   "source": [
    "pad_token_label_id = 0"
   ]
  },
  {
   "cell_type": "code",
   "execution_count": 9,
   "id": "ec972c93",
   "metadata": {
    "execution": {
     "iopub.execute_input": "2022-07-13T04:06:53.752964Z",
     "iopub.status.busy": "2022-07-13T04:06:53.752581Z",
     "iopub.status.idle": "2022-07-13T04:06:57.482177Z",
     "shell.execute_reply": "2022-07-13T04:06:57.480824Z"
    },
    "papermill": {
     "duration": 3.741007,
     "end_time": "2022-07-13T04:06:57.485538",
     "exception": false,
     "start_time": "2022-07-13T04:06:53.744531",
     "status": "completed"
    },
    "tags": []
   },
   "outputs": [
    {
     "name": "stderr",
     "output_type": "stream",
     "text": [
      "2022-07-13 04:06:53.879712: I tensorflow/stream_executor/cuda/cuda_gpu_executor.cc:937] successful NUMA node read from SysFS had negative value (-1), but there must be at least one NUMA node, so returning NUMA node zero\n",
      "2022-07-13 04:06:54.019824: I tensorflow/stream_executor/cuda/cuda_gpu_executor.cc:937] successful NUMA node read from SysFS had negative value (-1), but there must be at least one NUMA node, so returning NUMA node zero\n",
      "2022-07-13 04:06:54.021150: I tensorflow/stream_executor/cuda/cuda_gpu_executor.cc:937] successful NUMA node read from SysFS had negative value (-1), but there must be at least one NUMA node, so returning NUMA node zero\n",
      "2022-07-13 04:06:54.023719: I tensorflow/core/platform/cpu_feature_guard.cc:142] This TensorFlow binary is optimized with oneAPI Deep Neural Network Library (oneDNN) to use the following CPU instructions in performance-critical operations:  AVX2 FMA\n",
      "To enable them in other operations, rebuild TensorFlow with the appropriate compiler flags.\n",
      "2022-07-13 04:06:54.024183: I tensorflow/stream_executor/cuda/cuda_gpu_executor.cc:937] successful NUMA node read from SysFS had negative value (-1), but there must be at least one NUMA node, so returning NUMA node zero\n",
      "2022-07-13 04:06:54.025549: I tensorflow/stream_executor/cuda/cuda_gpu_executor.cc:937] successful NUMA node read from SysFS had negative value (-1), but there must be at least one NUMA node, so returning NUMA node zero\n",
      "2022-07-13 04:06:54.026802: I tensorflow/stream_executor/cuda/cuda_gpu_executor.cc:937] successful NUMA node read from SysFS had negative value (-1), but there must be at least one NUMA node, so returning NUMA node zero\n",
      "2022-07-13 04:06:57.031798: I tensorflow/stream_executor/cuda/cuda_gpu_executor.cc:937] successful NUMA node read from SysFS had negative value (-1), but there must be at least one NUMA node, so returning NUMA node zero\n",
      "2022-07-13 04:06:57.033021: I tensorflow/stream_executor/cuda/cuda_gpu_executor.cc:937] successful NUMA node read from SysFS had negative value (-1), but there must be at least one NUMA node, so returning NUMA node zero\n",
      "2022-07-13 04:06:57.034096: I tensorflow/stream_executor/cuda/cuda_gpu_executor.cc:937] successful NUMA node read from SysFS had negative value (-1), but there must be at least one NUMA node, so returning NUMA node zero\n",
      "2022-07-13 04:06:57.035014: I tensorflow/core/common_runtime/gpu/gpu_device.cc:1510] Created device /job:localhost/replica:0/task:0/device:GPU:0 with 15403 MB memory:  -> device: 0, name: Tesla P100-PCIE-16GB, pci bus id: 0000:00:04.0, compute capability: 6.0\n"
     ]
    }
   ],
   "source": [
    "tokenizer = RobertaTokenizer.from_pretrained('tokenizer')\n",
    "config = RobertaConfig(\n",
    "    vocab_size=30_522,\n",
    "    max_position_embeddings=514,\n",
    "    hidden_size=768,\n",
    "    num_attention_heads=12,\n",
    "    num_hidden_layers=6,\n",
    "    type_vocab_size=1, \n",
    "    num_labels=num_labels,\n",
    ")\n",
    "model = TFRobertaForTokenClassification(config)"
   ]
  },
  {
   "cell_type": "markdown",
   "id": "71ffaafd",
   "metadata": {
    "papermill": {
     "duration": 0.006808,
     "end_time": "2022-07-13T04:06:57.499858",
     "exception": false,
     "start_time": "2022-07-13T04:06:57.493050",
     "status": "completed"
    },
    "tags": []
   },
   "source": [
    "# Prepare Data"
   ]
  },
  {
   "cell_type": "code",
   "execution_count": 10,
   "id": "8bb4d864",
   "metadata": {
    "execution": {
     "iopub.execute_input": "2022-07-13T04:06:57.516361Z",
     "iopub.status.busy": "2022-07-13T04:06:57.515892Z",
     "iopub.status.idle": "2022-07-13T04:06:57.531058Z",
     "shell.execute_reply": "2022-07-13T04:06:57.529766Z"
    },
    "papermill": {
     "duration": 0.026528,
     "end_time": "2022-07-13T04:06:57.533791",
     "exception": false,
     "start_time": "2022-07-13T04:06:57.507263",
     "status": "completed"
    },
    "tags": []
   },
   "outputs": [],
   "source": [
    "from keras.preprocessing.sequence import pad_sequences\n",
    "max_seq_length =512\n",
    "\n",
    "def convert_to_input(sentences,tags):\n",
    "    input_id_list,attention_mask_list,token_type_id_list=[],[],[]\n",
    "    label_id_list=[]\n",
    "    \n",
    "    for x,y in tqdm(zip(sentences,tags),total=len(tags)):\n",
    "        tokens = []\n",
    "        label_ids = []\n",
    "\n",
    "        for word, label in zip(x, y):\n",
    "            word_tokens = tokenizer.tokenize(word)\n",
    "            tokens.extend(word_tokens)\n",
    "            # Use the real label id for the first token of the word, and padding ids for the remaining tokens\n",
    "            label_ids.extend([label_map[label]] + [pad_token_label_id] * (len(word_tokens) - 1))\n",
    "\n",
    "  \n",
    "        special_tokens_count =  2\n",
    "        if len(tokens) > max_seq_length - special_tokens_count:\n",
    "            tokens = tokens[: (max_seq_length - special_tokens_count)]\n",
    "            label_ids = label_ids[: (max_seq_length - special_tokens_count)]\n",
    "\n",
    "        label_ids = [pad_token_label_id]+label_ids+[pad_token_label_id]\n",
    "        inputs = tokenizer(' '.join(tokens), add_special_tokens=True, max_length=max_seq_length,\n",
    "                          return_token_type_ids=True)\n",
    "\n",
    "        input_ids, token_type_ids = inputs[\"input_ids\"], inputs[\"token_type_ids\"]\n",
    "        attention_masks = [1] * len(input_ids)\n",
    "\n",
    "        attention_mask_list.append(attention_masks)\n",
    "        input_id_list.append(input_ids)\n",
    "        token_type_id_list.append(token_type_ids)\n",
    "\n",
    "        label_id_list.append(label_ids)\n",
    "\n",
    "    return input_id_list,token_type_id_list,attention_mask_list,label_id_list"
   ]
  },
  {
   "cell_type": "code",
   "execution_count": 11,
   "id": "1936333d",
   "metadata": {
    "execution": {
     "iopub.execute_input": "2022-07-13T04:06:57.550978Z",
     "iopub.status.busy": "2022-07-13T04:06:57.549746Z",
     "iopub.status.idle": "2022-07-13T04:06:58.712313Z",
     "shell.execute_reply": "2022-07-13T04:06:58.711072Z"
    },
    "papermill": {
     "duration": 1.174349,
     "end_time": "2022-07-13T04:06:58.715389",
     "exception": false,
     "start_time": "2022-07-13T04:06:57.541040",
     "status": "completed"
    },
    "tags": []
   },
   "outputs": [
    {
     "data": {
      "application/vnd.jupyter.widget-view+json": {
       "model_id": "b9d5c6e503594b45bdf54d5f77372fbd",
       "version_major": 2,
       "version_minor": 0
      },
      "text/plain": [
       "  0%|          | 0/179 [00:00<?, ?it/s]"
      ]
     },
     "metadata": {},
     "output_type": "display_data"
    },
    {
     "name": "stderr",
     "output_type": "stream",
     "text": [
      "Truncation was not explicitly activated but `max_length` is provided a specific value, please use `truncation=True` to explicitly truncate examples to max length. Defaulting to 'longest_first' truncation strategy. If you encode pairs of sequences (GLUE-style) with the tokenizer you can select this strategy more precisely by providing a specific strategy to `truncation`.\n"
     ]
    },
    {
     "data": {
      "application/vnd.jupyter.widget-view+json": {
       "model_id": "ed6ffb03601346d6bbb09d9b592ade88",
       "version_major": 2,
       "version_minor": 0
      },
      "text/plain": [
       "  0%|          | 0/21 [00:00<?, ?it/s]"
      ]
     },
     "metadata": {},
     "output_type": "display_data"
    }
   ],
   "source": [
    "(\n",
    "    input_ids_train, token_ids_train, attention_masks_train, label_ids_train\n",
    ") = convert_to_input(x_train_sentences,x_train_tags)\n",
    "(\n",
    "    input_ids_valid, token_ids_valid, attention_masks_valid, label_ids_valid\n",
    ") = convert_to_input(x_valid_sentences,x_valid_tags)\n",
    "\n",
    "post_pad_sequences = lambda x: pad_sequences(\n",
    "    x, maxlen=max_seq_length,dtype=\"long\",truncating=\"post\",padding=\"post\"\n",
    ")\n",
    "\n",
    "input_ids_train = post_pad_sequences(input_ids_train)\n",
    "token_ids_train = post_pad_sequences(token_ids_train)\n",
    "attention_masks_train = post_pad_sequences(attention_masks_train)\n",
    "label_ids_train = post_pad_sequences(label_ids_train)\n",
    "\n",
    "input_ids_valid = post_pad_sequences(input_ids_valid)\n",
    "token_ids_valid = post_pad_sequences(token_ids_valid)\n",
    "attention_masks_valid = post_pad_sequences(attention_masks_valid)\n",
    "label_ids_valid = post_pad_sequences(label_ids_valid)\n",
    "\n",
    "def example_to_features(input_ids,attention_masks,token_type_ids,y):\n",
    "    return {\n",
    "        \"input_ids\": input_ids, \"attention_mask\": attention_masks, \"token_type_ids\": token_type_ids\n",
    "    }, y\n",
    "\n",
    "train_data = tf.data.Dataset.from_tensor_slices(\n",
    "    (input_ids_train, attention_masks_train, token_ids_train, label_ids_train)\n",
    ").map(example_to_features).shuffle(1000).batch(8).repeat(5)\n",
    "valid_data = tf.data.Dataset.from_tensor_slices(\n",
    "    (input_ids_valid, attention_masks_valid, token_ids_valid, label_ids_valid)\n",
    ").map(example_to_features).batch(1)"
   ]
  },
  {
   "cell_type": "markdown",
   "id": "506cad16",
   "metadata": {
    "papermill": {
     "duration": 0.007093,
     "end_time": "2022-07-13T04:06:58.730666",
     "exception": false,
     "start_time": "2022-07-13T04:06:58.723573",
     "status": "completed"
    },
    "tags": []
   },
   "source": [
    "# Train"
   ]
  },
  {
   "cell_type": "code",
   "execution_count": 12,
   "id": "aec20340",
   "metadata": {
    "execution": {
     "iopub.execute_input": "2022-07-13T04:06:58.747136Z",
     "iopub.status.busy": "2022-07-13T04:06:58.746723Z",
     "iopub.status.idle": "2022-07-13T04:09:19.523492Z",
     "shell.execute_reply": "2022-07-13T04:09:19.522128Z"
    },
    "papermill": {
     "duration": 140.788518,
     "end_time": "2022-07-13T04:09:19.526547",
     "exception": false,
     "start_time": "2022-07-13T04:06:58.738029",
     "status": "completed"
    },
    "tags": []
   },
   "outputs": [
    {
     "name": "stdout",
     "output_type": "stream",
     "text": [
      "Epoch 1/3\n"
     ]
    },
    {
     "name": "stderr",
     "output_type": "stream",
     "text": [
      "2022-07-13 04:07:20.026388: I tensorflow/compiler/mlir/mlir_graph_optimization_pass.cc:185] None of the MLIR Optimization Passes are enabled (registered 2)\n"
     ]
    },
    {
     "name": "stdout",
     "output_type": "stream",
     "text": [
      "115/115 [==============================] - 62s 315ms/step - loss: 0.1261 - accuracy: 0.9786 - val_loss: 0.0870 - val_accuracy: 0.9866\n",
      "Epoch 2/3\n",
      "115/115 [==============================] - 34s 298ms/step - loss: 0.0730 - accuracy: 0.9879 - val_loss: 0.0852 - val_accuracy: 0.9866\n",
      "Epoch 3/3\n",
      "115/115 [==============================] - 34s 297ms/step - loss: 0.0686 - accuracy: 0.9880 - val_loss: 0.0860 - val_accuracy: 0.9867\n"
     ]
    }
   ],
   "source": [
    "model.compile(\n",
    "    optimizer=tf.optimizers.Adam(2e-5), \n",
    "    loss=tf.keras.losses.SparseCategoricalCrossentropy(from_logits=True), \n",
    "    metrics='accuracy'\n",
    ")\n",
    "model.fit(train_data, validation_data=valid_data, epochs=3)\n",
    "model.save_pretrained('saved-model')"
   ]
  },
  {
   "cell_type": "markdown",
   "id": "5924a531",
   "metadata": {
    "papermill": {
     "duration": 0.032445,
     "end_time": "2022-07-13T04:09:19.591622",
     "exception": false,
     "start_time": "2022-07-13T04:09:19.559177",
     "status": "completed"
    },
    "tags": []
   },
   "source": [
    "# Inference"
   ]
  },
  {
   "cell_type": "code",
   "execution_count": 13,
   "id": "74823486",
   "metadata": {
    "execution": {
     "iopub.execute_input": "2022-07-13T04:09:19.660520Z",
     "iopub.status.busy": "2022-07-13T04:09:19.659802Z",
     "iopub.status.idle": "2022-07-13T04:09:22.170541Z",
     "shell.execute_reply": "2022-07-13T04:09:22.169255Z"
    },
    "papermill": {
     "duration": 2.548719,
     "end_time": "2022-07-13T04:09:22.173358",
     "exception": false,
     "start_time": "2022-07-13T04:09:19.624639",
     "status": "completed"
    },
    "tags": []
   },
   "outputs": [
    {
     "name": "stderr",
     "output_type": "stream",
     "text": [
      "Some layers from the model checkpoint at saved-model were not used when initializing TFRobertaForTokenClassification: ['dropout_19']\n",
      "- This IS expected if you are initializing TFRobertaForTokenClassification from the checkpoint of a model trained on another task or with another architecture (e.g. initializing a BertForSequenceClassification model from a BertForPreTraining model).\n",
      "- This IS NOT expected if you are initializing TFRobertaForTokenClassification from the checkpoint of a model that you expect to be exactly identical (initializing a BertForSequenceClassification model from a BertForSequenceClassification model).\n",
      "All the layers of TFRobertaForTokenClassification were initialized from the model checkpoint at saved-model.\n",
      "If your task is similar to the task the model of the checkpoint was trained on, you can already use TFRobertaForTokenClassification for predictions without further training.\n"
     ]
    },
    {
     "name": "stdout",
     "output_type": "stream",
     "text": [
      "1/1 [==============================] - 2s 2s/step\n"
     ]
    }
   ],
   "source": [
    "query_idx = 7\n",
    "\n",
    "def query_to_features(input_ids,attention_masks,token_type_ids):\n",
    "    return {\n",
    "        \"input_ids\": input_ids, \"attention_mask\": attention_masks, \"token_type_ids\": token_type_ids\n",
    "    }\n",
    "\n",
    "input_ids_query = input_ids_valid[query_idx:query_idx+1]\n",
    "token_ids_query = token_ids_valid[query_idx:query_idx+1]\n",
    "attention_masks_query = attention_masks_valid[query_idx:query_idx+1]\n",
    "label_ids_query = label_ids_valid[query_idx:query_idx+1]\n",
    "\n",
    "query_data = tf.data.Dataset.from_tensor_slices(\n",
    "    (input_ids_query, attention_masks_query, token_ids_query)\n",
    ").map(query_to_features).batch(1)\n",
    "model = TFRobertaForTokenClassification.from_pretrained('saved-model')\n",
    "logits = model.predict(query_data, verbose=1).logits\n",
    "preds_proba = tf.nn.softmax(logits).numpy()\n",
    "preds = preds_proba.argmax(axis=2)"
   ]
  },
  {
   "cell_type": "code",
   "execution_count": 14,
   "id": "bbc02062",
   "metadata": {
    "execution": {
     "iopub.execute_input": "2022-07-13T04:09:22.241676Z",
     "iopub.status.busy": "2022-07-13T04:09:22.241011Z",
     "iopub.status.idle": "2022-07-13T04:09:22.260294Z",
     "shell.execute_reply": "2022-07-13T04:09:22.257924Z"
    },
    "papermill": {
     "duration": 0.0592,
     "end_time": "2022-07-13T04:09:22.265243",
     "exception": false,
     "start_time": "2022-07-13T04:09:22.206043",
     "status": "completed"
    },
    "tags": []
   },
   "outputs": [
    {
     "name": "stdout",
     "output_type": "stream",
     "text": [
      "<s>             O\n",
      "\"               O\n",
      " An             O\n",
      " d              O\n",
      " un             O\n",
      " f              O\n",
      " or             O\n",
      "t               O\n",
      "un              O\n",
      " at             O\n",
      "                O\n",
      "ely             O\n",
      " I              O\n",
      " c              O\n",
      " a              O\n",
      " n              O\n",
      " '              O\n",
      " t              O\n",
      ",               O\n",
      " b              O\n",
      "                O\n",
      "ut              O\n",
      " th             O\n",
      " is             O\n",
      " is             O\n",
      " m              O\n",
      "y               O\n",
      " w              O\n",
      " a              O\n",
      "y               O\n",
      " o              O\n",
      " f              O\n",
      " p              O\n",
      " a              O\n",
      "y               O\n",
      " in             O\n",
      "g               O\n",
      " m              O\n",
      "y               O\n",
      " d              O\n",
      "                O\n",
      "ues             O\n",
      " and            O\n",
      " t              O\n",
      " a              O\n",
      "k               O\n",
      " in             O\n",
      "g               O\n",
      " res            O\n",
      " p              O\n",
      " on             O\n",
      "s               O\n",
      "                O\n",
      "ibilit          O\n",
      "                O\n",
      "y               O\n",
      " and            O\n",
      " b              O\n",
      " e              O\n",
      " in             O\n",
      "g               O\n",
      " an             O\n",
      " ad             O\n",
      "                O\n",
      "ult             O\n",
      ".               O\n",
      " \"              O\n",
      " \"              O\n",
      " An             O\n",
      " d              O\n",
      " un             O\n",
      " f              O\n",
      " or             O\n",
      "t               O\n",
      "un              O\n",
      " at             O\n",
      "                O\n",
      "ely             O\n",
      " I              O\n",
      " c              O\n",
      " a              O\n",
      " n              O\n",
      " '              O\n",
      " t              O\n",
      ",               O\n",
      " b              O\n",
      "                O\n",
      "ut              O\n",
      " th             O\n",
      " is             O\n",
      " is             O\n",
      " m              O\n",
      "y               O\n",
      " w              O\n",
      " a              O\n",
      "y               O\n",
      " o              O\n",
      " f              O\n",
      " p              O\n",
      " a              O\n",
      "y               O\n",
      " in             O\n",
      "g               O\n",
      " m              O\n",
      "y               O\n",
      " d              O\n",
      "                O\n",
      "ues             O\n",
      " and            O\n",
      " t              O\n",
      " a              O\n",
      "k               O\n",
      " in             O\n",
      "g               O\n",
      " res            O\n",
      " p              O\n",
      " on             O\n",
      "s               O\n",
      "                O\n",
      "ibilit          O\n",
      "                O\n",
      "y               O\n",
      " and            O\n",
      " b              O\n",
      " e              O\n",
      " in             O\n",
      "g               O\n",
      " an             O\n",
      " ad             O\n",
      "                O\n",
      "ult             O\n",
      ".               O\n",
      " \"              O\n",
      "</s>            O\n"
     ]
    }
   ],
   "source": [
    "texts = [tokenizer.decode(token) for token in input_ids_query[0]]\n",
    "tags = [label_map_inv[p] for p in preds[0]]\n",
    "for token, tag in zip(texts, tags):\n",
    "    print(f\"{token:15} {tag}\")\n",
    "    if token == '</s>':\n",
    "        break"
   ]
  },
  {
   "cell_type": "code",
   "execution_count": null,
   "id": "38cb94ac",
   "metadata": {
    "papermill": {
     "duration": 0.032769,
     "end_time": "2022-07-13T04:09:22.331517",
     "exception": false,
     "start_time": "2022-07-13T04:09:22.298748",
     "status": "completed"
    },
    "tags": []
   },
   "outputs": [],
   "source": []
  }
 ],
 "metadata": {
  "kernelspec": {
   "display_name": "Python 3",
   "language": "python",
   "name": "python3"
  },
  "language_info": {
   "codemirror_mode": {
    "name": "ipython",
    "version": 3
   },
   "file_extension": ".py",
   "mimetype": "text/x-python",
   "name": "python",
   "nbconvert_exporter": "python",
   "pygments_lexer": "ipython3",
   "version": "3.7.12"
  },
  "papermill": {
   "default_parameters": {},
   "duration": 176.951754,
   "end_time": "2022-07-13T04:09:25.762855",
   "environment_variables": {},
   "exception": null,
   "input_path": "__notebook__.ipynb",
   "output_path": "__notebook__.ipynb",
   "parameters": {},
   "start_time": "2022-07-13T04:06:28.811101",
   "version": "2.3.4"
  },
  "widgets": {
   "application/vnd.jupyter.widget-state+json": {
    "state": {
     "1eba0007ef6147f1a4d26e648d259175": {
      "model_module": "@jupyter-widgets/controls",
      "model_module_version": "1.5.0",
      "model_name": "HTMLModel",
      "state": {
       "_dom_classes": [],
       "_model_module": "@jupyter-widgets/controls",
       "_model_module_version": "1.5.0",
       "_model_name": "HTMLModel",
       "_view_count": null,
       "_view_module": "@jupyter-widgets/controls",
       "_view_module_version": "1.5.0",
       "_view_name": "HTMLView",
       "description": "",
       "description_tooltip": null,
       "layout": "IPY_MODEL_d4113f9e1d99401f9adcec7dcaf66452",
       "placeholder": "​",
       "style": "IPY_MODEL_c80725485acf40d0aa65e4b2ccf6c428",
       "value": " 179/179 [00:00&lt;00:00, 216.44it/s]"
      }
     },
     "3a523201fab44ed68f3c649399e3a940": {
      "model_module": "@jupyter-widgets/base",
      "model_module_version": "1.2.0",
      "model_name": "LayoutModel",
      "state": {
       "_model_module": "@jupyter-widgets/base",
       "_model_module_version": "1.2.0",
       "_model_name": "LayoutModel",
       "_view_count": null,
       "_view_module": "@jupyter-widgets/base",
       "_view_module_version": "1.2.0",
       "_view_name": "LayoutView",
       "align_content": null,
       "align_items": null,
       "align_self": null,
       "border": null,
       "bottom": null,
       "display": null,
       "flex": null,
       "flex_flow": null,
       "grid_area": null,
       "grid_auto_columns": null,
       "grid_auto_flow": null,
       "grid_auto_rows": null,
       "grid_column": null,
       "grid_gap": null,
       "grid_row": null,
       "grid_template_areas": null,
       "grid_template_columns": null,
       "grid_template_rows": null,
       "height": null,
       "justify_content": null,
       "justify_items": null,
       "left": null,
       "margin": null,
       "max_height": null,
       "max_width": null,
       "min_height": null,
       "min_width": null,
       "object_fit": null,
       "object_position": null,
       "order": null,
       "overflow": null,
       "overflow_x": null,
       "overflow_y": null,
       "padding": null,
       "right": null,
       "top": null,
       "visibility": null,
       "width": null
      }
     },
     "5a585430d17f465d9473a68a7f31abd3": {
      "model_module": "@jupyter-widgets/controls",
      "model_module_version": "1.5.0",
      "model_name": "DescriptionStyleModel",
      "state": {
       "_model_module": "@jupyter-widgets/controls",
       "_model_module_version": "1.5.0",
       "_model_name": "DescriptionStyleModel",
       "_view_count": null,
       "_view_module": "@jupyter-widgets/base",
       "_view_module_version": "1.2.0",
       "_view_name": "StyleView",
       "description_width": ""
      }
     },
     "5fafa63bff1f4bc29fcf806b91578aef": {
      "model_module": "@jupyter-widgets/controls",
      "model_module_version": "1.5.0",
      "model_name": "DescriptionStyleModel",
      "state": {
       "_model_module": "@jupyter-widgets/controls",
       "_model_module_version": "1.5.0",
       "_model_name": "DescriptionStyleModel",
       "_view_count": null,
       "_view_module": "@jupyter-widgets/base",
       "_view_module_version": "1.2.0",
       "_view_name": "StyleView",
       "description_width": ""
      }
     },
     "80695b4aeb1f4e2fb8690e6bb5254c8a": {
      "model_module": "@jupyter-widgets/controls",
      "model_module_version": "1.5.0",
      "model_name": "FloatProgressModel",
      "state": {
       "_dom_classes": [],
       "_model_module": "@jupyter-widgets/controls",
       "_model_module_version": "1.5.0",
       "_model_name": "FloatProgressModel",
       "_view_count": null,
       "_view_module": "@jupyter-widgets/controls",
       "_view_module_version": "1.5.0",
       "_view_name": "ProgressView",
       "bar_style": "success",
       "description": "",
       "description_tooltip": null,
       "layout": "IPY_MODEL_d7b7745509bc4258bdebb35f9e066251",
       "max": 21.0,
       "min": 0.0,
       "orientation": "horizontal",
       "style": "IPY_MODEL_978901435bfd49ef87adc08f88b1036f",
       "value": 21.0
      }
     },
     "978901435bfd49ef87adc08f88b1036f": {
      "model_module": "@jupyter-widgets/controls",
      "model_module_version": "1.5.0",
      "model_name": "ProgressStyleModel",
      "state": {
       "_model_module": "@jupyter-widgets/controls",
       "_model_module_version": "1.5.0",
       "_model_name": "ProgressStyleModel",
       "_view_count": null,
       "_view_module": "@jupyter-widgets/base",
       "_view_module_version": "1.2.0",
       "_view_name": "StyleView",
       "bar_color": null,
       "description_width": ""
      }
     },
     "a31b1758044f487eaec0f54aa8fc598a": {
      "model_module": "@jupyter-widgets/controls",
      "model_module_version": "1.5.0",
      "model_name": "HTMLModel",
      "state": {
       "_dom_classes": [],
       "_model_module": "@jupyter-widgets/controls",
       "_model_module_version": "1.5.0",
       "_model_name": "HTMLModel",
       "_view_count": null,
       "_view_module": "@jupyter-widgets/controls",
       "_view_module_version": "1.5.0",
       "_view_name": "HTMLView",
       "description": "",
       "description_tooltip": null,
       "layout": "IPY_MODEL_d3bb28da07774807a0c81fb94af71dfe",
       "placeholder": "​",
       "style": "IPY_MODEL_e24f93c6e2b04859aa610c2efac563e3",
       "value": "100%"
      }
     },
     "b8496ecec5d34055925163b225146016": {
      "model_module": "@jupyter-widgets/base",
      "model_module_version": "1.2.0",
      "model_name": "LayoutModel",
      "state": {
       "_model_module": "@jupyter-widgets/base",
       "_model_module_version": "1.2.0",
       "_model_name": "LayoutModel",
       "_view_count": null,
       "_view_module": "@jupyter-widgets/base",
       "_view_module_version": "1.2.0",
       "_view_name": "LayoutView",
       "align_content": null,
       "align_items": null,
       "align_self": null,
       "border": null,
       "bottom": null,
       "display": null,
       "flex": null,
       "flex_flow": null,
       "grid_area": null,
       "grid_auto_columns": null,
       "grid_auto_flow": null,
       "grid_auto_rows": null,
       "grid_column": null,
       "grid_gap": null,
       "grid_row": null,
       "grid_template_areas": null,
       "grid_template_columns": null,
       "grid_template_rows": null,
       "height": null,
       "justify_content": null,
       "justify_items": null,
       "left": null,
       "margin": null,
       "max_height": null,
       "max_width": null,
       "min_height": null,
       "min_width": null,
       "object_fit": null,
       "object_position": null,
       "order": null,
       "overflow": null,
       "overflow_x": null,
       "overflow_y": null,
       "padding": null,
       "right": null,
       "top": null,
       "visibility": null,
       "width": null
      }
     },
     "b9d5c6e503594b45bdf54d5f77372fbd": {
      "model_module": "@jupyter-widgets/controls",
      "model_module_version": "1.5.0",
      "model_name": "HBoxModel",
      "state": {
       "_dom_classes": [],
       "_model_module": "@jupyter-widgets/controls",
       "_model_module_version": "1.5.0",
       "_model_name": "HBoxModel",
       "_view_count": null,
       "_view_module": "@jupyter-widgets/controls",
       "_view_module_version": "1.5.0",
       "_view_name": "HBoxView",
       "box_style": "",
       "children": [
        "IPY_MODEL_a31b1758044f487eaec0f54aa8fc598a",
        "IPY_MODEL_c9e87be1980a4d4d9c92610593398851",
        "IPY_MODEL_1eba0007ef6147f1a4d26e648d259175"
       ],
       "layout": "IPY_MODEL_3a523201fab44ed68f3c649399e3a940"
      }
     },
     "c80725485acf40d0aa65e4b2ccf6c428": {
      "model_module": "@jupyter-widgets/controls",
      "model_module_version": "1.5.0",
      "model_name": "DescriptionStyleModel",
      "state": {
       "_model_module": "@jupyter-widgets/controls",
       "_model_module_version": "1.5.0",
       "_model_name": "DescriptionStyleModel",
       "_view_count": null,
       "_view_module": "@jupyter-widgets/base",
       "_view_module_version": "1.2.0",
       "_view_name": "StyleView",
       "description_width": ""
      }
     },
     "c9e87be1980a4d4d9c92610593398851": {
      "model_module": "@jupyter-widgets/controls",
      "model_module_version": "1.5.0",
      "model_name": "FloatProgressModel",
      "state": {
       "_dom_classes": [],
       "_model_module": "@jupyter-widgets/controls",
       "_model_module_version": "1.5.0",
       "_model_name": "FloatProgressModel",
       "_view_count": null,
       "_view_module": "@jupyter-widgets/controls",
       "_view_module_version": "1.5.0",
       "_view_name": "ProgressView",
       "bar_style": "success",
       "description": "",
       "description_tooltip": null,
       "layout": "IPY_MODEL_f36bfc285fef45c7ab70bf74ef2f6ab7",
       "max": 179.0,
       "min": 0.0,
       "orientation": "horizontal",
       "style": "IPY_MODEL_d6d022fa004e43049a79ffd8a137bb26",
       "value": 179.0
      }
     },
     "ccd040a9b668463d940f753c0642e5d4": {
      "model_module": "@jupyter-widgets/controls",
      "model_module_version": "1.5.0",
      "model_name": "HTMLModel",
      "state": {
       "_dom_classes": [],
       "_model_module": "@jupyter-widgets/controls",
       "_model_module_version": "1.5.0",
       "_model_name": "HTMLModel",
       "_view_count": null,
       "_view_module": "@jupyter-widgets/controls",
       "_view_module_version": "1.5.0",
       "_view_name": "HTMLView",
       "description": "",
       "description_tooltip": null,
       "layout": "IPY_MODEL_b8496ecec5d34055925163b225146016",
       "placeholder": "​",
       "style": "IPY_MODEL_5fafa63bff1f4bc29fcf806b91578aef",
       "value": "100%"
      }
     },
     "d3bb28da07774807a0c81fb94af71dfe": {
      "model_module": "@jupyter-widgets/base",
      "model_module_version": "1.2.0",
      "model_name": "LayoutModel",
      "state": {
       "_model_module": "@jupyter-widgets/base",
       "_model_module_version": "1.2.0",
       "_model_name": "LayoutModel",
       "_view_count": null,
       "_view_module": "@jupyter-widgets/base",
       "_view_module_version": "1.2.0",
       "_view_name": "LayoutView",
       "align_content": null,
       "align_items": null,
       "align_self": null,
       "border": null,
       "bottom": null,
       "display": null,
       "flex": null,
       "flex_flow": null,
       "grid_area": null,
       "grid_auto_columns": null,
       "grid_auto_flow": null,
       "grid_auto_rows": null,
       "grid_column": null,
       "grid_gap": null,
       "grid_row": null,
       "grid_template_areas": null,
       "grid_template_columns": null,
       "grid_template_rows": null,
       "height": null,
       "justify_content": null,
       "justify_items": null,
       "left": null,
       "margin": null,
       "max_height": null,
       "max_width": null,
       "min_height": null,
       "min_width": null,
       "object_fit": null,
       "object_position": null,
       "order": null,
       "overflow": null,
       "overflow_x": null,
       "overflow_y": null,
       "padding": null,
       "right": null,
       "top": null,
       "visibility": null,
       "width": null
      }
     },
     "d4113f9e1d99401f9adcec7dcaf66452": {
      "model_module": "@jupyter-widgets/base",
      "model_module_version": "1.2.0",
      "model_name": "LayoutModel",
      "state": {
       "_model_module": "@jupyter-widgets/base",
       "_model_module_version": "1.2.0",
       "_model_name": "LayoutModel",
       "_view_count": null,
       "_view_module": "@jupyter-widgets/base",
       "_view_module_version": "1.2.0",
       "_view_name": "LayoutView",
       "align_content": null,
       "align_items": null,
       "align_self": null,
       "border": null,
       "bottom": null,
       "display": null,
       "flex": null,
       "flex_flow": null,
       "grid_area": null,
       "grid_auto_columns": null,
       "grid_auto_flow": null,
       "grid_auto_rows": null,
       "grid_column": null,
       "grid_gap": null,
       "grid_row": null,
       "grid_template_areas": null,
       "grid_template_columns": null,
       "grid_template_rows": null,
       "height": null,
       "justify_content": null,
       "justify_items": null,
       "left": null,
       "margin": null,
       "max_height": null,
       "max_width": null,
       "min_height": null,
       "min_width": null,
       "object_fit": null,
       "object_position": null,
       "order": null,
       "overflow": null,
       "overflow_x": null,
       "overflow_y": null,
       "padding": null,
       "right": null,
       "top": null,
       "visibility": null,
       "width": null
      }
     },
     "d6d022fa004e43049a79ffd8a137bb26": {
      "model_module": "@jupyter-widgets/controls",
      "model_module_version": "1.5.0",
      "model_name": "ProgressStyleModel",
      "state": {
       "_model_module": "@jupyter-widgets/controls",
       "_model_module_version": "1.5.0",
       "_model_name": "ProgressStyleModel",
       "_view_count": null,
       "_view_module": "@jupyter-widgets/base",
       "_view_module_version": "1.2.0",
       "_view_name": "StyleView",
       "bar_color": null,
       "description_width": ""
      }
     },
     "d7b7745509bc4258bdebb35f9e066251": {
      "model_module": "@jupyter-widgets/base",
      "model_module_version": "1.2.0",
      "model_name": "LayoutModel",
      "state": {
       "_model_module": "@jupyter-widgets/base",
       "_model_module_version": "1.2.0",
       "_model_name": "LayoutModel",
       "_view_count": null,
       "_view_module": "@jupyter-widgets/base",
       "_view_module_version": "1.2.0",
       "_view_name": "LayoutView",
       "align_content": null,
       "align_items": null,
       "align_self": null,
       "border": null,
       "bottom": null,
       "display": null,
       "flex": null,
       "flex_flow": null,
       "grid_area": null,
       "grid_auto_columns": null,
       "grid_auto_flow": null,
       "grid_auto_rows": null,
       "grid_column": null,
       "grid_gap": null,
       "grid_row": null,
       "grid_template_areas": null,
       "grid_template_columns": null,
       "grid_template_rows": null,
       "height": null,
       "justify_content": null,
       "justify_items": null,
       "left": null,
       "margin": null,
       "max_height": null,
       "max_width": null,
       "min_height": null,
       "min_width": null,
       "object_fit": null,
       "object_position": null,
       "order": null,
       "overflow": null,
       "overflow_x": null,
       "overflow_y": null,
       "padding": null,
       "right": null,
       "top": null,
       "visibility": null,
       "width": null
      }
     },
     "d9931826ec6340539d6a1f524874b8db": {
      "model_module": "@jupyter-widgets/controls",
      "model_module_version": "1.5.0",
      "model_name": "HTMLModel",
      "state": {
       "_dom_classes": [],
       "_model_module": "@jupyter-widgets/controls",
       "_model_module_version": "1.5.0",
       "_model_name": "HTMLModel",
       "_view_count": null,
       "_view_module": "@jupyter-widgets/controls",
       "_view_module_version": "1.5.0",
       "_view_name": "HTMLView",
       "description": "",
       "description_tooltip": null,
       "layout": "IPY_MODEL_e4a538a7a48b4a0ca02c51dfeff52ac1",
       "placeholder": "​",
       "style": "IPY_MODEL_5a585430d17f465d9473a68a7f31abd3",
       "value": " 21/21 [00:00&lt;00:00, 138.78it/s]"
      }
     },
     "e24f93c6e2b04859aa610c2efac563e3": {
      "model_module": "@jupyter-widgets/controls",
      "model_module_version": "1.5.0",
      "model_name": "DescriptionStyleModel",
      "state": {
       "_model_module": "@jupyter-widgets/controls",
       "_model_module_version": "1.5.0",
       "_model_name": "DescriptionStyleModel",
       "_view_count": null,
       "_view_module": "@jupyter-widgets/base",
       "_view_module_version": "1.2.0",
       "_view_name": "StyleView",
       "description_width": ""
      }
     },
     "e4a538a7a48b4a0ca02c51dfeff52ac1": {
      "model_module": "@jupyter-widgets/base",
      "model_module_version": "1.2.0",
      "model_name": "LayoutModel",
      "state": {
       "_model_module": "@jupyter-widgets/base",
       "_model_module_version": "1.2.0",
       "_model_name": "LayoutModel",
       "_view_count": null,
       "_view_module": "@jupyter-widgets/base",
       "_view_module_version": "1.2.0",
       "_view_name": "LayoutView",
       "align_content": null,
       "align_items": null,
       "align_self": null,
       "border": null,
       "bottom": null,
       "display": null,
       "flex": null,
       "flex_flow": null,
       "grid_area": null,
       "grid_auto_columns": null,
       "grid_auto_flow": null,
       "grid_auto_rows": null,
       "grid_column": null,
       "grid_gap": null,
       "grid_row": null,
       "grid_template_areas": null,
       "grid_template_columns": null,
       "grid_template_rows": null,
       "height": null,
       "justify_content": null,
       "justify_items": null,
       "left": null,
       "margin": null,
       "max_height": null,
       "max_width": null,
       "min_height": null,
       "min_width": null,
       "object_fit": null,
       "object_position": null,
       "order": null,
       "overflow": null,
       "overflow_x": null,
       "overflow_y": null,
       "padding": null,
       "right": null,
       "top": null,
       "visibility": null,
       "width": null
      }
     },
     "ed6ffb03601346d6bbb09d9b592ade88": {
      "model_module": "@jupyter-widgets/controls",
      "model_module_version": "1.5.0",
      "model_name": "HBoxModel",
      "state": {
       "_dom_classes": [],
       "_model_module": "@jupyter-widgets/controls",
       "_model_module_version": "1.5.0",
       "_model_name": "HBoxModel",
       "_view_count": null,
       "_view_module": "@jupyter-widgets/controls",
       "_view_module_version": "1.5.0",
       "_view_name": "HBoxView",
       "box_style": "",
       "children": [
        "IPY_MODEL_ccd040a9b668463d940f753c0642e5d4",
        "IPY_MODEL_80695b4aeb1f4e2fb8690e6bb5254c8a",
        "IPY_MODEL_d9931826ec6340539d6a1f524874b8db"
       ],
       "layout": "IPY_MODEL_f44254679d5e437ab12c708ff02e0dd2"
      }
     },
     "f36bfc285fef45c7ab70bf74ef2f6ab7": {
      "model_module": "@jupyter-widgets/base",
      "model_module_version": "1.2.0",
      "model_name": "LayoutModel",
      "state": {
       "_model_module": "@jupyter-widgets/base",
       "_model_module_version": "1.2.0",
       "_model_name": "LayoutModel",
       "_view_count": null,
       "_view_module": "@jupyter-widgets/base",
       "_view_module_version": "1.2.0",
       "_view_name": "LayoutView",
       "align_content": null,
       "align_items": null,
       "align_self": null,
       "border": null,
       "bottom": null,
       "display": null,
       "flex": null,
       "flex_flow": null,
       "grid_area": null,
       "grid_auto_columns": null,
       "grid_auto_flow": null,
       "grid_auto_rows": null,
       "grid_column": null,
       "grid_gap": null,
       "grid_row": null,
       "grid_template_areas": null,
       "grid_template_columns": null,
       "grid_template_rows": null,
       "height": null,
       "justify_content": null,
       "justify_items": null,
       "left": null,
       "margin": null,
       "max_height": null,
       "max_width": null,
       "min_height": null,
       "min_width": null,
       "object_fit": null,
       "object_position": null,
       "order": null,
       "overflow": null,
       "overflow_x": null,
       "overflow_y": null,
       "padding": null,
       "right": null,
       "top": null,
       "visibility": null,
       "width": null
      }
     },
     "f44254679d5e437ab12c708ff02e0dd2": {
      "model_module": "@jupyter-widgets/base",
      "model_module_version": "1.2.0",
      "model_name": "LayoutModel",
      "state": {
       "_model_module": "@jupyter-widgets/base",
       "_model_module_version": "1.2.0",
       "_model_name": "LayoutModel",
       "_view_count": null,
       "_view_module": "@jupyter-widgets/base",
       "_view_module_version": "1.2.0",
       "_view_name": "LayoutView",
       "align_content": null,
       "align_items": null,
       "align_self": null,
       "border": null,
       "bottom": null,
       "display": null,
       "flex": null,
       "flex_flow": null,
       "grid_area": null,
       "grid_auto_columns": null,
       "grid_auto_flow": null,
       "grid_auto_rows": null,
       "grid_column": null,
       "grid_gap": null,
       "grid_row": null,
       "grid_template_areas": null,
       "grid_template_columns": null,
       "grid_template_rows": null,
       "height": null,
       "justify_content": null,
       "justify_items": null,
       "left": null,
       "margin": null,
       "max_height": null,
       "max_width": null,
       "min_height": null,
       "min_width": null,
       "object_fit": null,
       "object_position": null,
       "order": null,
       "overflow": null,
       "overflow_x": null,
       "overflow_y": null,
       "padding": null,
       "right": null,
       "top": null,
       "visibility": null,
       "width": null
      }
     }
    },
    "version_major": 2,
    "version_minor": 0
   }
  }
 },
 "nbformat": 4,
 "nbformat_minor": 5
}
