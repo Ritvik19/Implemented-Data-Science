{
 "cells": [
  {
   "cell_type": "markdown",
   "metadata": {},
   "source": [
    "<a href=\"https://www.kaggle.com/ritvik1909/named-entity-recognition?scriptVersionId=69641813\" target=\"_blank\"><img align=\"left\" alt=\"Kaggle\" title=\"Open in Kaggle\" src=\"https://kaggle.com/static/images/open-in-kaggle.svg\"></a>"
   ]
  },
  {
   "cell_type": "code",
   "execution_count": 1,
   "metadata": {
    "_cell_guid": "b1076dfc-b9ad-4769-8c92-a6c4dae69d19",
    "_uuid": "8f2839f25d086af736a60e9eeb907d3b93b6e0e5",
    "execution": {
     "iopub.execute_input": "2021-08-02T12:54:09.653069Z",
     "iopub.status.busy": "2021-08-02T12:54:09.652716Z",
     "iopub.status.idle": "2021-08-02T12:54:10.436616Z",
     "shell.execute_reply": "2021-08-02T12:54:10.435772Z",
     "shell.execute_reply.started": "2021-08-02T12:54:09.653040Z"
    }
   },
   "outputs": [],
   "source": [
    "import numpy as np\n",
    "import pandas as pd\n",
    "import matplotlib.pyplot as plt\n",
    "import seaborn as sns\n",
    "from tqdm.auto import tqdm\n",
    "\n",
    "sns.set_style('darkgrid')"
   ]
  },
  {
   "cell_type": "markdown",
   "metadata": {},
   "source": [
    "# Named Entity Recognition (NER)\n",
    "\n",
    "NER is an information extraction technique to identify and classify named entities in text. These entities can be pre-defined and generic like location names, organizations, time and etc, or they can be very specific like the example with the resume.\n",
    "\n",
    "The goal of a named entity recognition (NER) system is to identify all textual mentions of the named entities. This can be broken down into two sub-tasks: identifying the boundaries of the NE, and identifying its type.\n",
    "\n",
    "Named entity recognition is a task that is well-suited to the type of classifier-based approach. In particular, a tagger can be built that labels each word in a sentence using the IOB format, where chunks are labelled by their appropriate type.\n",
    "\n",
    "The IOB Tagging system contains tags of the form:\n",
    "\n",
    "* B - {CHUNK_TYPE} – for the word in the Beginning chunk\n",
    "* I - {CHUNK_TYPE} – for words Inside the chunk\n",
    "* O – Outside any chunk\n",
    "\n",
    "The IOB tags are further classified into the following classes –\n",
    "\n",
    "* geo = Geographical Entity\n",
    "* org = Organization\n",
    "* per = Person\n",
    "* gpe = Geopolitical Entity\n",
    "* tim = Time indicator\n",
    "* art = Artifact\n",
    "* eve = Event\n",
    "* nat = Natural Phenomenon\n",
    "\n",
    "## Approaches to NER\n",
    "* **Classical Approaches:** mostly rule-based.\n",
    "* **Machine Learning Approaches:** there are two main methods in this category: \n",
    "    * Treat the problem as a multi-class classification where named entities are our labels so we can apply different classification algorithms. The problem here is that identifying and labeling named entities require thorough understanding of the context of a sentence and sequence of the word labels in it, which this method ignores that.\n",
    "    * Conditional Random Field (CRF) model. It is a probabilistic graphical model that can be used to model sequential data such as labels of words in a sentence. The CRF model is able to capture the features of the current and previous labels in a sequence but it cannot understand the context of the forward labels; this shortcoming plus the extra feature engineering involved with training a CRF model, makes it less appealing to be adapted by the industry.\n",
    "* **Deep Learning Approaches:** Bidirectional RNNs"
   ]
  },
  {
   "cell_type": "markdown",
   "metadata": {},
   "source": [
    "# EDA"
   ]
  },
  {
   "cell_type": "code",
   "execution_count": 2,
   "metadata": {
    "_cell_guid": "79c7e3d0-c299-4dcb-8224-4455121ee9b0",
    "_uuid": "d629ff2d2480ee46fbb7e2d37f6b5fab8052498a",
    "execution": {
     "iopub.execute_input": "2021-08-02T12:54:10.438581Z",
     "iopub.status.busy": "2021-08-02T12:54:10.438253Z",
     "iopub.status.idle": "2021-08-02T12:54:14.241969Z",
     "shell.execute_reply": "2021-08-02T12:54:14.241183Z",
     "shell.execute_reply.started": "2021-08-02T12:54:10.438546Z"
    }
   },
   "outputs": [
    {
     "name": "stderr",
     "output_type": "stream",
     "text": [
      "/opt/conda/lib/python3.7/site-packages/IPython/core/interactiveshell.py:3063: DtypeWarning: Columns (21) have mixed types.Specify dtype option on import or set low_memory=False.\n",
      "  interactivity=interactivity, compiler=compiler, result=result)\n"
     ]
    },
    {
     "name": "stdout",
     "output_type": "stream",
     "text": [
      "(1050794, 3)\n"
     ]
    },
    {
     "data": {
      "text/html": [
       "<div>\n",
       "<style scoped>\n",
       "    .dataframe tbody tr th:only-of-type {\n",
       "        vertical-align: middle;\n",
       "    }\n",
       "\n",
       "    .dataframe tbody tr th {\n",
       "        vertical-align: top;\n",
       "    }\n",
       "\n",
       "    .dataframe thead th {\n",
       "        text-align: right;\n",
       "    }\n",
       "</style>\n",
       "<table border=\"1\" class=\"dataframe\">\n",
       "  <thead>\n",
       "    <tr style=\"text-align: right;\">\n",
       "      <th></th>\n",
       "      <th>sentence_idx</th>\n",
       "      <th>word</th>\n",
       "      <th>tag</th>\n",
       "    </tr>\n",
       "  </thead>\n",
       "  <tbody>\n",
       "    <tr>\n",
       "      <th>0</th>\n",
       "      <td>1</td>\n",
       "      <td>Thousands</td>\n",
       "      <td>O</td>\n",
       "    </tr>\n",
       "    <tr>\n",
       "      <th>1</th>\n",
       "      <td>1</td>\n",
       "      <td>of</td>\n",
       "      <td>O</td>\n",
       "    </tr>\n",
       "    <tr>\n",
       "      <th>2</th>\n",
       "      <td>1</td>\n",
       "      <td>demonstrators</td>\n",
       "      <td>O</td>\n",
       "    </tr>\n",
       "    <tr>\n",
       "      <th>3</th>\n",
       "      <td>1</td>\n",
       "      <td>have</td>\n",
       "      <td>O</td>\n",
       "    </tr>\n",
       "    <tr>\n",
       "      <th>4</th>\n",
       "      <td>1</td>\n",
       "      <td>marched</td>\n",
       "      <td>O</td>\n",
       "    </tr>\n",
       "  </tbody>\n",
       "</table>\n",
       "</div>"
      ],
      "text/plain": [
       "  sentence_idx           word tag\n",
       "0            1      Thousands   O\n",
       "1            1             of   O\n",
       "2            1  demonstrators   O\n",
       "3            1           have   O\n",
       "4            1        marched   O"
      ]
     },
     "execution_count": 2,
     "metadata": {},
     "output_type": "execute_result"
    }
   ],
   "source": [
    "data = pd.read_csv(\n",
    "    \"../input/entity-annotated-corpus/ner.csv\", encoding = \"ISO-8859-1\", error_bad_lines=False, \n",
    "    usecols=['sentence_idx', 'word', 'tag']\n",
    ")\n",
    "data  = data[data['sentence_idx'] != 'prev-lemma'].dropna(subset=['sentence_idx']).reset_index(drop=True)\n",
    "print(data.shape)\n",
    "data.head()"
   ]
  },
  {
   "cell_type": "code",
   "execution_count": 3,
   "metadata": {
    "execution": {
     "iopub.execute_input": "2021-08-02T12:54:14.243732Z",
     "iopub.status.busy": "2021-08-02T12:54:14.243381Z",
     "iopub.status.idle": "2021-08-02T12:54:15.227103Z",
     "shell.execute_reply": "2021-08-02T12:54:15.226306Z",
     "shell.execute_reply.started": "2021-08-02T12:54:14.243693Z"
    }
   },
   "outputs": [
    {
     "name": "stdout",
     "output_type": "stream",
     "text": [
      "Number of Sentences: 36684\n",
      "Maximum sequence length: 140\n",
      "Number of unique words: 30172\n"
     ]
    },
    {
     "data": {
      "image/png": "[encoded data removed]",
      "text/plain": [
       "<Figure size 1440x432 with 1 Axes>"
      ]
     },
     "metadata": {},
     "output_type": "display_data"
    }
   ],
   "source": [
    "fig, ax = plt.subplots(figsize=(20, 6))\n",
    "ax.hist(data['sentence_idx'].value_counts().values, bins=50)\n",
    "ax.set_title('Number of words in each Sentence')\n",
    "\n",
    "maxlen = np.max(data['sentence_idx'].value_counts().values)\n",
    "print('Number of Sentences:', data['sentence_idx'].nunique())\n",
    "print ('Maximum sequence length:', maxlen)\n",
    "\n",
    "words = list(set(data[\"word\"].values))\n",
    "n_words = len(words)\n",
    "print('Number of unique words:', n_words)"
   ]
  },
  {
   "cell_type": "code",
   "execution_count": 4,
   "metadata": {
    "execution": {
     "iopub.execute_input": "2021-08-02T12:54:15.229175Z",
     "iopub.status.busy": "2021-08-02T12:54:15.228684Z",
     "iopub.status.idle": "2021-08-02T12:54:16.366958Z",
     "shell.execute_reply": "2021-08-02T12:54:16.366161Z",
     "shell.execute_reply.started": "2021-08-02T12:54:15.229127Z"
    }
   },
   "outputs": [
    {
     "name": "stdout",
     "output_type": "stream",
     "text": [
      "Number of unique Tags: 17\n"
     ]
    },
    {
     "data": {
      "image/png": "[encoded data removed]",
      "text/plain": [
       "<Figure size 1440x864 with 2 Axes>"
      ]
     },
     "metadata": {},
     "output_type": "display_data"
    }
   ],
   "source": [
    "fig, ax = plt.subplots(2, 1, figsize=(20, 12))\n",
    "data.tag.value_counts().plot.bar(ax=ax[0], title='Distribution of Tags')\n",
    "data[data.tag != 'O'].tag.value_counts().plot.bar(ax=ax[1], title='Distribution of non-O Tags')\n",
    "\n",
    "tags = list(set(data[\"tag\"].values))\n",
    "n_tags = len(tags)\n",
    "print('Number of unique Tags:', n_tags)"
   ]
  },
  {
   "cell_type": "markdown",
   "metadata": {},
   "source": [
    "# Preprocessing"
   ]
  },
  {
   "cell_type": "code",
   "execution_count": 5,
   "metadata": {
    "execution": {
     "iopub.execute_input": "2021-08-02T12:54:16.370512Z",
     "iopub.status.busy": "2021-08-02T12:54:16.370169Z",
     "iopub.status.idle": "2021-08-02T12:54:24.033041Z",
     "shell.execute_reply": "2021-08-02T12:54:24.032281Z",
     "shell.execute_reply.started": "2021-08-02T12:54:16.370474Z"
    }
   },
   "outputs": [
    {
     "name": "stderr",
     "output_type": "stream",
     "text": [
      "\u001b[34m\u001b[1mwandb\u001b[0m: \u001b[33mWARNING\u001b[0m W&B installed but not logged in.  Run `wandb login` or set the WANDB_API_KEY env variable.\n"
     ]
    }
   ],
   "source": [
    "import tensorflow as tf\n",
    "from transformers import TFAutoModel, AutoTokenizer\n",
    "from tensorflow.keras import layers as L\n",
    "from tensorflow.keras import models, optimizers, callbacks\n",
    "from tensorflow.keras.utils import to_categorical"
   ]
  },
  {
   "cell_type": "code",
   "execution_count": 6,
   "metadata": {
    "execution": {
     "iopub.execute_input": "2021-08-02T12:54:24.034745Z",
     "iopub.status.busy": "2021-08-02T12:54:24.034412Z",
     "iopub.status.idle": "2021-08-02T12:54:44.606199Z",
     "shell.execute_reply": "2021-08-02T12:54:44.605410Z",
     "shell.execute_reply.started": "2021-08-02T12:54:24.034709Z"
    }
   },
   "outputs": [
    {
     "data": {
      "application/vnd.jupyter.widget-view+json": {
       "model_id": "fdd8a958633742a6ab362539b2e9f076",
       "version_major": 2,
       "version_minor": 0
      },
      "text/plain": [
       "HBox(children=(FloatProgress(value=0.0, description='Downloading', max=411.0, style=ProgressStyle(description_…"
      ]
     },
     "metadata": {},
     "output_type": "display_data"
    },
    {
     "name": "stdout",
     "output_type": "stream",
     "text": [
      "\n"
     ]
    },
    {
     "data": {
      "application/vnd.jupyter.widget-view+json": {
       "model_id": "b0766ecb475e4ed6a729fb5f5f8782e6",
       "version_major": 2,
       "version_minor": 0
      },
      "text/plain": [
       "HBox(children=(FloatProgress(value=0.0, description='Downloading', max=213450.0, style=ProgressStyle(descripti…"
      ]
     },
     "metadata": {},
     "output_type": "display_data"
    },
    {
     "name": "stdout",
     "output_type": "stream",
     "text": [
      "\n"
     ]
    },
    {
     "data": {
      "application/vnd.jupyter.widget-view+json": {
       "model_id": "fe9f9136233f4c318c8c3495f69f17f3",
       "version_major": 2,
       "version_minor": 0
      },
      "text/plain": [
       "HBox(children=(FloatProgress(value=0.0, description='Downloading', max=354041576.0, style=ProgressStyle(descri…"
      ]
     },
     "metadata": {},
     "output_type": "display_data"
    },
    {
     "name": "stdout",
     "output_type": "stream",
     "text": [
      "\n"
     ]
    },
    {
     "name": "stderr",
     "output_type": "stream",
     "text": [
      "Some layers from the model checkpoint at distilbert-base-cased were not used when initializing TFDistilBertModel: ['vocab_projector', 'vocab_layer_norm', 'activation_13', 'vocab_transform']\n",
      "- This IS expected if you are initializing TFDistilBertModel from the checkpoint of a model trained on another task or with another architecture (e.g. initializing a BertForSequenceClassification model from a BertForPretraining model).\n",
      "- This IS NOT expected if you are initializing TFDistilBertModel from the checkpoint of a model that you expect to be exactly identical (initializing a BertForSequenceClassification model from a BertForSequenceClassification model).\n",
      "All the layers of TFDistilBertModel were initialized from the model checkpoint at distilbert-base-cased.\n",
      "If your task is similar to the task the model of the checkpoint was trained on, you can already use TFDistilBertModel for predictions without further training.\n"
     ]
    }
   ],
   "source": [
    "transformer = 'distilbert-base-cased'\n",
    "tokenizer = AutoTokenizer.from_pretrained(transformer)\n",
    "encoder = TFAutoModel.from_pretrained(transformer)"
   ]
  },
  {
   "cell_type": "code",
   "execution_count": 7,
   "metadata": {
    "execution": {
     "iopub.execute_input": "2021-08-02T12:54:44.608225Z",
     "iopub.status.busy": "2021-08-02T12:54:44.607810Z",
     "iopub.status.idle": "2021-08-02T12:54:48.031032Z",
     "shell.execute_reply": "2021-08-02T12:54:48.030195Z",
     "shell.execute_reply.started": "2021-08-02T12:54:44.608180Z"
    }
   },
   "outputs": [],
   "source": [
    "from sklearn.preprocessing import LabelEncoder\n",
    "\n",
    "tag_encoder = LabelEncoder()\n",
    "data['tag'] = tag_encoder.fit_transform(data['tag'])\n",
    "sentences = data.groupby(\"sentence_idx\")[\"word\"].apply(list).values\n",
    "tags = data.groupby(\"sentence_idx\")[\"tag\"].apply(list).values"
   ]
  },
  {
   "cell_type": "code",
   "execution_count": 8,
   "metadata": {
    "execution": {
     "iopub.execute_input": "2021-08-02T12:54:48.033134Z",
     "iopub.status.busy": "2021-08-02T12:54:48.032650Z",
     "iopub.status.idle": "2021-08-02T12:56:40.898848Z",
     "shell.execute_reply": "2021-08-02T12:56:40.897963Z",
     "shell.execute_reply.started": "2021-08-02T12:54:48.033097Z"
    }
   },
   "outputs": [
    {
     "data": {
      "application/vnd.jupyter.widget-view+json": {
       "model_id": "a3aa3037fca3468bbe6b491c9c38ccab",
       "version_major": 2,
       "version_minor": 0
      },
      "text/plain": [
       "HBox(children=(FloatProgress(value=1.0, bar_style='info', max=1.0), HTML(value='')))"
      ]
     },
     "metadata": {},
     "output_type": "display_data"
    },
    {
     "name": "stdout",
     "output_type": "stream",
     "text": [
      "\n"
     ]
    }
   ],
   "source": [
    "dataset_dict = {\n",
    "    \"input_ids\": [],\n",
    "    \"attention_mask\": [],\n",
    "    \"tags\": []\n",
    "}\n",
    "\n",
    "for sentence, tag in tqdm(zip(sentences, tags)):\n",
    "    input_ids = []\n",
    "    target_tags = []\n",
    "    for idx, word in enumerate(sentence):\n",
    "        ids = tokenizer.encode(word, add_special_tokens=False)\n",
    "        input_ids.extend(ids)\n",
    "        num_tokens = len(ids)\n",
    "        target_tags.extend([tag[idx]] * num_tokens)\n",
    "\n",
    "    input_ids = input_ids[:maxlen - 2]\n",
    "    target_tags = target_tags[:maxlen - 2]\n",
    "\n",
    "    input_ids = [101] + input_ids + [102]\n",
    "    target_tags = [n_tags-1] + target_tags + [n_tags-1]\n",
    "    attention_mask = [1] * len(input_ids)\n",
    "    padding_len = maxlen - len(input_ids)\n",
    "\n",
    "    input_ids = input_ids + ([0] * padding_len)\n",
    "    attention_mask = attention_mask + ([0] * padding_len)\n",
    "    target_tags = target_tags + ([n_tags] * padding_len)\n",
    "\n",
    "    dataset_dict[\"input_ids\"].append(input_ids)\n",
    "    dataset_dict[\"attention_mask\"].append(attention_mask)\n",
    "    dataset_dict[\"tags\"].append(target_tags)\n",
    "    assert len(target_tags) == maxlen, f'{len(input_ids)}, {len(target_tags)}'"
   ]
  },
  {
   "cell_type": "code",
   "execution_count": 9,
   "metadata": {
    "execution": {
     "iopub.execute_input": "2021-08-02T12:56:40.900944Z",
     "iopub.status.busy": "2021-08-02T12:56:40.900558Z",
     "iopub.status.idle": "2021-08-02T12:56:44.123986Z",
     "shell.execute_reply": "2021-08-02T12:56:44.122948Z",
     "shell.execute_reply.started": "2021-08-02T12:56:40.900905Z"
    }
   },
   "outputs": [],
   "source": [
    "for key in dataset_dict:\n",
    "    dataset_dict[key] = np.array(dataset_dict[key])\n",
    "\n",
    "X = [\n",
    "    dataset_dict[\"input_ids\"],\n",
    "    dataset_dict[\"attention_mask\"],\n",
    "]\n",
    "y = to_categorical(dataset_dict[\"tags\"])"
   ]
  },
  {
   "cell_type": "markdown",
   "metadata": {},
   "source": [
    "# Modelling"
   ]
  },
  {
   "cell_type": "code",
   "execution_count": 10,
   "metadata": {
    "execution": {
     "iopub.execute_input": "2021-08-02T12:56:44.125707Z",
     "iopub.status.busy": "2021-08-02T12:56:44.125266Z",
     "iopub.status.idle": "2021-08-02T12:56:46.278639Z",
     "shell.execute_reply": "2021-08-02T12:56:46.277951Z",
     "shell.execute_reply.started": "2021-08-02T12:56:44.125667Z"
    }
   },
   "outputs": [
    {
     "name": "stdout",
     "output_type": "stream",
     "text": [
      "Model: \"functional_1\"\n",
      "__________________________________________________________________________________________________\n",
      "Layer (type)                    Output Shape         Param #     Connected to                     \n",
      "==================================================================================================\n",
      "input_1 (InputLayer)            [(None, 140)]        0                                            \n",
      "__________________________________________________________________________________________________\n",
      "input_2 (InputLayer)            [(None, 140)]        0                                            \n",
      "__________________________________________________________________________________________________\n",
      "distilbert (TFDistilBertMainLay ((None, 140, 768),)  65190912    input_1[0][0]                    \n",
      "                                                                 input_2[0][0]                    \n",
      "__________________________________________________________________________________________________\n",
      "dropout_19 (Dropout)            (None, 140, 768)     0           distilbert[0][0]                 \n",
      "__________________________________________________________________________________________________\n",
      "time_distributed (TimeDistribut (None, 140, 18)      13842       dropout_19[0][0]                 \n",
      "==================================================================================================\n",
      "Total params: 65,204,754\n",
      "Trainable params: 65,204,754\n",
      "Non-trainable params: 0\n",
      "__________________________________________________________________________________________________\n"
     ]
    }
   ],
   "source": [
    "input_ids = L.Input(shape=(maxlen,), dtype=tf.int32)\n",
    "attention_mask = L.Input(shape=(maxlen,), dtype=tf.int32)\n",
    "embedding = encoder.distilbert([input_ids, attention_mask])[0]\n",
    "embedding = L.Dropout(0.3)(embedding)\n",
    "# embedding = L.Dense(128, activation='relu')(embedding)\n",
    "tag_logits = L.TimeDistributed(L.Dense(n_tags+1, activation='softmax'))(embedding)\n",
    "\n",
    "model = models.Model(\n",
    "    inputs=[input_ids,  attention_mask],\n",
    "    outputs=[tag_logits],\n",
    ")\n",
    "model.compile(optimizer=optimizers.Adam(lr=3e-5), loss='categorical_crossentropy', metrics=['accuracy'])\n",
    "model.summary()"
   ]
  },
  {
   "cell_type": "code",
   "execution_count": 11,
   "metadata": {
    "execution": {
     "iopub.execute_input": "2021-08-02T12:56:46.281298Z",
     "iopub.status.busy": "2021-08-02T12:56:46.280654Z",
     "iopub.status.idle": "2021-08-02T13:29:04.214607Z",
     "shell.execute_reply": "2021-08-02T13:29:04.213282Z",
     "shell.execute_reply.started": "2021-08-02T12:56:46.281259Z"
    }
   },
   "outputs": [
    {
     "name": "stdout",
     "output_type": "stream",
     "text": [
      "Epoch 1/10\n",
      "1032/1032 [==============================] - 275s 267ms/step - loss: 0.0311 - accuracy: 0.9903 - val_loss: 0.0244 - val_accuracy: 0.9926\n",
      "Epoch 3/10\n",
      "1032/1032 [==============================] - 275s 267ms/step - loss: 0.0238 - accuracy: 0.9923 - val_loss: 0.0223 - val_accuracy: 0.9932\n",
      "Epoch 4/10\n",
      "1032/1032 [==============================] - 275s 267ms/step - loss: 0.0178 - accuracy: 0.9941 - val_loss: 0.0222 - val_accuracy: 0.9934\n",
      "Epoch 5/10\n",
      "1032/1032 [==============================] - ETA: 0s - loss: 0.0133 - accuracy: 0.9955\n",
      "Epoch 00005: ReduceLROnPlateau reducing learning rate to 2.9999999242136257e-06.\n",
      "1032/1032 [==============================] - 275s 267ms/step - loss: 0.0133 - accuracy: 0.9955 - val_loss: 0.0228 - val_accuracy: 0.9939\n",
      "Epoch 6/10\n",
      "1032/1032 [==============================] - ETA: 0s - loss: 0.0080 - accuracy: 0.9973\n",
      "Epoch 00006: ReduceLROnPlateau reducing learning rate to 2.9999998787388907e-07.\n",
      "1032/1032 [==============================] - 275s 267ms/step - loss: 0.0080 - accuracy: 0.9973 - val_loss: 0.0230 - val_accuracy: 0.9944\n",
      "Epoch 7/10\n",
      "1032/1032 [==============================] - ETA: 0s - loss: 0.0068 - accuracy: 0.9977\n",
      "Epoch 00007: ReduceLROnPlateau reducing learning rate to 2.999999821895472e-08.\n",
      "1032/1032 [==============================] - 275s 267ms/step - loss: 0.0068 - accuracy: 0.9977 - val_loss: 0.0233 - val_accuracy: 0.9944\n",
      "Epoch 00007: early stopping\n"
     ]
    }
   ],
   "source": [
    "es = callbacks.EarlyStopping(monitor='val_loss', mode='min', verbose=1, patience=3, min_delta=1e-4)\n",
    "rlp = callbacks.ReduceLROnPlateau(monitor='val_loss', patience=1, verbose=1)\n",
    "\n",
    "history = model.fit(x=X, y=y, validation_split=0.1, callbacks=[es, rlp], epochs=10)"
   ]
  },
  {
   "cell_type": "code",
   "execution_count": 12,
   "metadata": {
    "execution": {
     "iopub.execute_input": "2021-08-02T13:29:04.216661Z",
     "iopub.status.busy": "2021-08-02T13:29:04.216300Z",
     "iopub.status.idle": "2021-08-02T13:29:04.751494Z",
     "shell.execute_reply": "2021-08-02T13:29:04.750402Z",
     "shell.execute_reply.started": "2021-08-02T13:29:04.216614Z"
    }
   },
   "outputs": [
    {
     "data": {
      "image/png": "[encoded data removed]",
      "text/plain": [
       "<Figure size 1440x576 with 2 Axes>"
      ]
     },
     "metadata": {},
     "output_type": "display_data"
    }
   ],
   "source": [
    "fig, ax = plt.subplots(2, 1, figsize=(20, 8))\n",
    "df = pd.DataFrame(history.history)\n",
    "df[['accuracy', 'val_accuracy']].plot(ax=ax[0])\n",
    "df[['loss', 'val_loss']].plot(ax=ax[1])\n",
    "ax[0].set_title('Model Accuracy', fontsize=12)\n",
    "ax[1].set_title('Model Loss', fontsize=12)\n",
    "fig.suptitle('Model Metrics', fontsize=18);"
   ]
  },
  {
   "cell_type": "code",
   "execution_count": 13,
   "metadata": {
    "execution": {
     "iopub.execute_input": "2021-08-02T13:29:04.753304Z",
     "iopub.status.busy": "2021-08-02T13:29:04.752957Z",
     "iopub.status.idle": "2021-08-02T13:29:06.518771Z",
     "shell.execute_reply": "2021-08-02T13:29:06.518074Z",
     "shell.execute_reply.started": "2021-08-02T13:29:04.753269Z"
    }
   },
   "outputs": [
    {
     "name": "stdout",
     "output_type": "stream",
     "text": [
      "Word           True \tPred\n",
      "------------------------------\n",
      "[CLS]           O\tO\n",
      "Speaking        O\tO\n",
      "to              O\tO\n",
      "ABC             B-org\tO\n",
      "News            I-org\tO\n",
      "interview       O\tO\n",
      "##er            O\tO\n",
      "Di              B-per\tO\n",
      "##anne          B-per\tO\n",
      "Sawyer          I-per\tO\n",
      ",               O\tO\n",
      "the             O\tO\n",
      "25              O\tI-tim\n",
      "-               O\tO\n",
      "year            O\tO\n",
      "-               O\tO\n",
      "old             O\tO\n",
      "co              O\tO\n",
      "-               O\tO\n",
      "star            O\tO\n",
      "of              O\tO\n",
      "TV              O\tO\n",
      "'               O\tO\n",
      "s               O\tO\n",
      "The             B-art\tO\n",
      "Simple          I-art\tO\n",
      "Life            I-art\tO\n",
      "said            O\tO\n",
      "she             O\tO\n",
      "is              O\tO\n",
      "almost          O\tO\n",
      "four            O\tO\n",
      "months          O\tO\n",
      "along           O\tO\n",
      "in              O\tO\n",
      "her             O\tO\n",
      "pregnancy       O\tO\n",
      ".               O\tO\n",
      "[SEP]           O\tB-nat\n"
     ]
    }
   ],
   "source": [
    "i = 182#np.random.randint(0, len(X[0]))\n",
    "p = model.predict([[X[0][i], X[1][i]]])\n",
    "p = np.argmax(p, axis=-1)\n",
    "y_true = np.argmax(y, axis=-1)[i]\n",
    "\n",
    "print(f\"{'Word':15}{'True':5}\\t{'Pred'}\")\n",
    "print(\"-\"*30)\n",
    "for (w, t, pred) in zip(X[0][i], y_true, p):\n",
    "    print(f\"{tokenizer.convert_ids_to_tokens(int(w)):15} {tag_encoder.inverse_transform([t])[0]}\\t{tag_encoder.inverse_transform(pred)[0]}\")\n",
    "    if w == 102: \n",
    "        break"
   ]
  },
  {
   "cell_type": "code",
   "execution_count": null,
   "metadata": {},
   "outputs": [],
   "source": []
  }
 ],
 "metadata": {
  "kernelspec": {
   "display_name": "Python 3",
   "language": "python",
   "name": "python3"
  },
  "language_info": {
   "codemirror_mode": {
    "name": "ipython",
    "version": 3
   },
   "file_extension": ".py",
   "mimetype": "text/x-python",
   "name": "python",
   "nbconvert_exporter": "python",
   "pygments_lexer": "ipython3",
   "version": "3.8.8"
  }
 },
 "nbformat": 4,
 "nbformat_minor": 4
}
