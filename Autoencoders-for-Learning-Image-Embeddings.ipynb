{
 "cells": [
  {
   "cell_type": "markdown",
   "id": "00527a71",
   "metadata": {
    "_cell_guid": "b1076dfc-b9ad-4769-8c92-a6c4dae69d19",
    "_uuid": "8f2839f25d086af736a60e9eeb907d3b93b6e0e5",
    "papermill": {
     "duration": 0.004389,
     "end_time": "2022-08-03T05:37:44.929490",
     "exception": false,
     "start_time": "2022-08-03T05:37:44.925101",
     "status": "completed"
    },
    "tags": []
   },
   "source": [
    "# Autoencoders for Learning Image Embeddings\n",
    "\n",
    "This notebook demonstrates how good (or poor) are the image representations learned by the encoder of an autoencoder when used as feature extractor in a downstream image classification task"
   ]
  },
  {
   "cell_type": "code",
   "execution_count": 1,
   "id": "36bf7662",
   "metadata": {
    "execution": {
     "iopub.execute_input": "2022-08-03T05:37:44.938962Z",
     "iopub.status.busy": "2022-08-03T05:37:44.937719Z",
     "iopub.status.idle": "2022-08-03T05:37:50.028789Z",
     "shell.execute_reply": "2022-08-03T05:37:50.027805Z"
    },
    "papermill": {
     "duration": 5.098593,
     "end_time": "2022-08-03T05:37:50.031454",
     "exception": false,
     "start_time": "2022-08-03T05:37:44.932861",
     "status": "completed"
    },
    "tags": []
   },
   "outputs": [],
   "source": [
    "import numpy as np\n",
    "import pandas as pd\n",
    "import matplotlib.pyplot as plt\n",
    "plt.style.use('ggplot')\n",
    "\n",
    "import os\n",
    "from glob import glob\n",
    "\n",
    "import tensorflow as tf\n",
    "from tensorflow import keras\n",
    "from tensorflow.data import Dataset\n",
    "from tensorflow.keras.models import Model, Sequential, load_model\n",
    "from tensorflow.keras import layers as L\n",
    "from tensorflow.keras.optimizers import Adam\n",
    "from tensorflow.keras.callbacks import CSVLogger, ReduceLROnPlateau, EarlyStopping\n",
    "from tensorflow.keras.utils import plot_model"
   ]
  },
  {
   "cell_type": "markdown",
   "id": "8504d545",
   "metadata": {
    "papermill": {
     "duration": 0.003362,
     "end_time": "2022-08-03T05:37:50.038304",
     "exception": false,
     "start_time": "2022-08-03T05:37:50.034942",
     "status": "completed"
    },
    "tags": []
   },
   "source": [
    "## Data Preparation"
   ]
  },
  {
   "cell_type": "code",
   "execution_count": 2,
   "id": "d72294b2",
   "metadata": {
    "execution": {
     "iopub.execute_input": "2022-08-03T05:37:50.046380Z",
     "iopub.status.busy": "2022-08-03T05:37:50.045767Z",
     "iopub.status.idle": "2022-08-03T05:38:10.891572Z",
     "shell.execute_reply": "2022-08-03T05:38:10.890517Z"
    },
    "papermill": {
     "duration": 20.852284,
     "end_time": "2022-08-03T05:38:10.893938",
     "exception": false,
     "start_time": "2022-08-03T05:37:50.041654",
     "status": "completed"
    },
    "tags": []
   },
   "outputs": [],
   "source": [
    "IMG_SIZE = (96, 96, 3)\n",
    "BATCH_SIZE = 32\n",
    "EPOCHS = 20\n",
    "\n",
    "images_train = glob(\"../input/fruits/fruits-360_dataset/fruits-360/Training/*/*\")\n",
    "images_valid = glob(\"../input/fruits/fruits-360_dataset/fruits-360/Test/*/*\")\n",
    "targets = os.listdir(\"../input/fruits/fruits-360_dataset/fruits-360/Training/\")"
   ]
  },
  {
   "cell_type": "code",
   "execution_count": 3,
   "id": "7caf88e8",
   "metadata": {
    "execution": {
     "iopub.execute_input": "2022-08-03T05:38:10.902606Z",
     "iopub.status.busy": "2022-08-03T05:38:10.901652Z",
     "iopub.status.idle": "2022-08-03T05:38:10.909570Z",
     "shell.execute_reply": "2022-08-03T05:38:10.908583Z"
    },
    "papermill": {
     "duration": 0.014114,
     "end_time": "2022-08-03T05:38:10.911584",
     "exception": false,
     "start_time": "2022-08-03T05:38:10.897470",
     "status": "completed"
    },
    "tags": []
   },
   "outputs": [],
   "source": [
    "def load_images_clf(imagePath):\n",
    "    image = tf.io.read_file(imagePath)\n",
    "    image = tf.image.decode_jpeg(image, channels=3)\n",
    "    image = tf.image.convert_image_dtype(image, dtype=tf.float32)\n",
    "    image = tf.image.resize(image, IMG_SIZE[:-1])    \n",
    "    label = tf.strings.split(imagePath, os.path.sep)[-2]\n",
    "    \n",
    "    oneHot = label == targets\n",
    "    encodedLabel = tf.argmax(oneHot)\n",
    "\n",
    "    return (image, encodedLabel)\n",
    "\n",
    "def load_images_enc(imagePath):\n",
    "    image = tf.io.read_file(imagePath)\n",
    "    image = tf.image.decode_jpeg(image, channels=3)\n",
    "    image = tf.image.convert_image_dtype(image, dtype=tf.float32)\n",
    "    image = tf.image.resize(image, IMG_SIZE[:-1])\n",
    "\n",
    "    return (image, image)"
   ]
  },
  {
   "cell_type": "code",
   "execution_count": 4,
   "id": "77dfe38a",
   "metadata": {
    "execution": {
     "iopub.execute_input": "2022-08-03T05:38:10.919089Z",
     "iopub.status.busy": "2022-08-03T05:38:10.918766Z",
     "iopub.status.idle": "2022-08-03T05:38:10.923425Z",
     "shell.execute_reply": "2022-08-03T05:38:10.922505Z"
    },
    "papermill": {
     "duration": 0.010717,
     "end_time": "2022-08-03T05:38:10.925495",
     "exception": false,
     "start_time": "2022-08-03T05:38:10.914778",
     "status": "completed"
    },
    "tags": []
   },
   "outputs": [],
   "source": [
    "def get_callbacks(log_path):\n",
    "    return [\n",
    "        CSVLogger(log_path), \n",
    "        ReduceLROnPlateau(patience=3, verbose=1, min_delta=1e-3),\n",
    "        EarlyStopping(min_delta=1e-3, patience=7, verbose=1, restore_best_weights=True)\n",
    "    ]"
   ]
  },
  {
   "cell_type": "markdown",
   "id": "bade16dc",
   "metadata": {
    "papermill": {
     "duration": 0.003015,
     "end_time": "2022-08-03T05:38:10.931671",
     "exception": false,
     "start_time": "2022-08-03T05:38:10.928656",
     "status": "completed"
    },
    "tags": []
   },
   "source": [
    "# Pretraining Autoencoder"
   ]
  },
  {
   "cell_type": "code",
   "execution_count": 5,
   "id": "853734d9",
   "metadata": {
    "execution": {
     "iopub.execute_input": "2022-08-03T05:38:10.939464Z",
     "iopub.status.busy": "2022-08-03T05:38:10.939185Z",
     "iopub.status.idle": "2022-08-03T05:38:13.709608Z",
     "shell.execute_reply": "2022-08-03T05:38:13.708047Z"
    },
    "papermill": {
     "duration": 2.778222,
     "end_time": "2022-08-03T05:38:13.712920",
     "exception": false,
     "start_time": "2022-08-03T05:38:10.934698",
     "status": "completed"
    },
    "tags": []
   },
   "outputs": [
    {
     "name": "stderr",
     "output_type": "stream",
     "text": [
      "2022-08-03 05:38:11.034478: I tensorflow/stream_executor/cuda/cuda_gpu_executor.cc:937] successful NUMA node read from SysFS had negative value (-1), but there must be at least one NUMA node, so returning NUMA node zero\n",
      "2022-08-03 05:38:11.124098: I tensorflow/stream_executor/cuda/cuda_gpu_executor.cc:937] successful NUMA node read from SysFS had negative value (-1), but there must be at least one NUMA node, so returning NUMA node zero\n",
      "2022-08-03 05:38:11.125017: I tensorflow/stream_executor/cuda/cuda_gpu_executor.cc:937] successful NUMA node read from SysFS had negative value (-1), but there must be at least one NUMA node, so returning NUMA node zero\n",
      "2022-08-03 05:38:11.126524: I tensorflow/core/platform/cpu_feature_guard.cc:142] This TensorFlow binary is optimized with oneAPI Deep Neural Network Library (oneDNN) to use the following CPU instructions in performance-critical operations:  AVX2 AVX512F FMA\n",
      "To enable them in other operations, rebuild TensorFlow with the appropriate compiler flags.\n",
      "2022-08-03 05:38:11.133050: I tensorflow/stream_executor/cuda/cuda_gpu_executor.cc:937] successful NUMA node read from SysFS had negative value (-1), but there must be at least one NUMA node, so returning NUMA node zero\n",
      "2022-08-03 05:38:11.133741: I tensorflow/stream_executor/cuda/cuda_gpu_executor.cc:937] successful NUMA node read from SysFS had negative value (-1), but there must be at least one NUMA node, so returning NUMA node zero\n",
      "2022-08-03 05:38:11.134453: I tensorflow/stream_executor/cuda/cuda_gpu_executor.cc:937] successful NUMA node read from SysFS had negative value (-1), but there must be at least one NUMA node, so returning NUMA node zero\n",
      "2022-08-03 05:38:13.233960: I tensorflow/stream_executor/cuda/cuda_gpu_executor.cc:937] successful NUMA node read from SysFS had negative value (-1), but there must be at least one NUMA node, so returning NUMA node zero\n",
      "2022-08-03 05:38:13.234813: I tensorflow/stream_executor/cuda/cuda_gpu_executor.cc:937] successful NUMA node read from SysFS had negative value (-1), but there must be at least one NUMA node, so returning NUMA node zero\n",
      "2022-08-03 05:38:13.235515: I tensorflow/stream_executor/cuda/cuda_gpu_executor.cc:937] successful NUMA node r"
     ]
    },
    {
     "name": "stdout",
     "output_type": "stream",
     "text": [
      "Model: \"autoencoder\"\n",
      "_________________________________________________________________\n",
      "Layer (type)                 Output Shape              Param #   \n",
      "=================================================================\n",
      "encoder_inputs (InputLayer)  [(None, 96, 96, 3)]       0         \n",
      "_________________________________________________________________\n",
      "encoder_conv_1_1 (Conv2D)    (None, 96, 96, 32)        896       \n",
      "_________________________________________________________________\n",
      "encoder_drop_1 (Dropout)     (None, 96, 96, 32)        0         \n",
      "_________________________________________________________________\n",
      "encoder_conv_1_2 (Conv2D)    (None, 96, 96, 32)        9248      \n",
      "_________________________________________________________________\n",
      "encoder_pool_1 (MaxPooling2D (None, 48, 48, 32)        0         \n",
      "_________________________________________________________________\n",
      "encoder_conv_2_1 (Conv2D)    (None, 48, 48, 64)        18496     \n",
      "_________________________________________________________________\n",
      "encoder_drop_2 (Dropout)     (None, 48, 48, 64)        0         \n",
      "_________________________________________________________________\n",
      "encoder_conv_2_2 (Conv2D)    (None, 48, 48, 64)        36928     \n",
      "_________________________________________________________________\n",
      "encoder_pool_2 (MaxPooling2D (None, 24, 24, 64)        0         \n",
      "_________________________________________________________________\n",
      "decoder_conv_1_1 (Conv2D)    (None, 24, 24, 64)        36928     \n",
      "_________________________________________________________________\n",
      "decoder_drop_1 (Dropout)     (None, 24, 24, 64)        0         \n",
      "_________________________________________________________________\n",
      "decoder_conv_1_2 (Conv2D)    (None, 24, 24, 64)        36928     \n",
      "_________________________________________________________________\n",
      "decoder_upsample_1 (UpSampli (None, 48, 48, 64)        0         \n",
      "_________________________________________________________________\n",
      "decoder_conv_2_1 (Conv2D)    (None, 48, 48, 32)        18464     \n",
      "_________________________________________________________________\n",
      "decoder_drop_2 (Dropout)     (None, 48, 48, 32)        0         \n",
      "_________________________________________________________________\n",
      "decoder_conv_2_2 (Conv2D)    (None, 48, 48, 32)        9248      \n",
      "_________________________________________________________________\n",
      "decoder_upsample_2 (UpSampli (None, 96, 96, 32)        0         \n",
      "_________________________________________________________________\n",
      "decoder_output (Conv2D)      (None, 96, 96, 3)         99        \n",
      "=================================================================\n",
      "Total params: 167,235\n",
      "Trainable params: 167,235\n",
      "Non-trainable params: 0\n",
      "_________________________________________________________________\n"
     ]
    },
    {
     "name": "stderr",
     "output_type": "stream",
     "text": [
      "ead from SysFS had negative value (-1), but there must be at least one NUMA node, so returning NUMA node zero\n",
      "2022-08-03 05:38:13.236132: I tensorflow/core/common_runtime/gpu/gpu_device.cc:1510] Created device /job:localhost/replica:0/task:0/device:GPU:0 with 15403 MB memory:  -> device: 0, name: Tesla P100-PCIE-16GB, pci bus id: 0000:00:04.0, compute capability: 6.0\n"
     ]
    }
   ],
   "source": [
    "inputs = keras.Input(shape=IMG_SIZE, name='encoder_inputs')\n",
    "x = L.Conv2D(32, 3, padding='same', activation='relu', name='encoder_conv_1_1')(inputs)\n",
    "x = L.Dropout(0.2, name=\"encoder_drop_1\")(x)\n",
    "x = L.Conv2D(32, 3, padding='same', activation='relu', name='encoder_conv_1_2')(x)\n",
    "x = L.MaxPool2D(padding='same', name='encoder_pool_1')(x)\n",
    "x = L.Conv2D(64, 3, padding='same', activation='relu', name='encoder_conv_2_1')(x)\n",
    "x = L.Dropout(0.2, name=\"encoder_drop_2\")(x)\n",
    "x = L.Conv2D(64, 3, padding='same', activation='relu', name='encoder_conv_2_2')(x)\n",
    "encoded = L.MaxPool2D(padding='same', name='encoder_pool_2')(x)\n",
    "x = L.Conv2D(64, 3, padding='same', activation='relu', name='decoder_conv_1_1')(encoded)\n",
    "x = L.Dropout(0.2, name=\"decoder_drop_1\")(x)\n",
    "x = L.Conv2D(64, 3, padding='same', activation='relu', name='decoder_conv_1_2')(x)\n",
    "x = L.UpSampling2D(name='decoder_upsample_1')(x)\n",
    "x = L.Conv2D(32, 3, padding='same', activation='relu', name='decoder_conv_2_1')(x)\n",
    "x = L.Dropout(0.2, name=\"decoder_drop_2\")(x)\n",
    "x = L.Conv2D(32, 3, padding='same', activation='relu', name='decoder_conv_2_2')(x)\n",
    "x = L.UpSampling2D(name='decoder_upsample_2')(x)\n",
    "outputs = L.Conv2D(3, 1, padding='same', activation='sigmoid', name='decoder_output')(x)\n",
    "\n",
    "autoencoder = Model(inputs=inputs, outputs=outputs, name='autoencoder')\n",
    "autoencoder.compile(optimizer=Adam(1e-3), loss='binary_crossentropy')\n",
    "autoencoder.summary()"
   ]
  },
  {
   "cell_type": "code",
   "execution_count": 6,
   "id": "80e909e7",
   "metadata": {
    "execution": {
     "iopub.execute_input": "2022-08-03T05:38:13.722058Z",
     "iopub.status.busy": "2022-08-03T05:38:13.721737Z",
     "iopub.status.idle": "2022-08-03T05:38:14.229007Z",
     "shell.execute_reply": "2022-08-03T05:38:14.228037Z"
    },
    "papermill": {
     "duration": 0.514223,
     "end_time": "2022-08-03T05:38:14.231543",
     "exception": false,
     "start_time": "2022-08-03T05:38:13.717320",
     "status": "completed"
    },
    "tags": []
   },
   "outputs": [],
   "source": [
    "enc_train = (\n",
    "    Dataset.from_tensor_slices(images_train)\n",
    "    .shuffle(1024)\n",
    "    .map(load_images_enc, num_parallel_calls=-1)\n",
    "    .cache()\n",
    "    .batch(BATCH_SIZE)\n",
    ")\n",
    "enc_valid = (\n",
    "    Dataset.from_tensor_slices(images_valid)\n",
    "    .shuffle(1024)\n",
    "    .map(load_images_enc, num_parallel_calls=-1)\n",
    "    .cache()\n",
    "    .batch(BATCH_SIZE)\n",
    ")"
   ]
  },
  {
   "cell_type": "code",
   "execution_count": 7,
   "id": "f52dbb37",
   "metadata": {
    "execution": {
     "iopub.execute_input": "2022-08-03T05:38:14.240799Z",
     "iopub.status.busy": "2022-08-03T05:38:14.240099Z",
     "iopub.status.idle": "2022-08-03T05:48:45.801776Z",
     "shell.execute_reply": "2022-08-03T05:48:45.800880Z"
    },
    "papermill": {
     "duration": 631.570268,
     "end_time": "2022-08-03T05:48:45.805725",
     "exception": false,
     "start_time": "2022-08-03T05:38:14.235457",
     "status": "completed"
    },
    "tags": []
   },
   "outputs": [
    {
     "name": "stderr",
     "output_type": "stream",
     "text": [
      "2022-08-03 05:38:14.273201: I tensorflow/compiler/mlir/mlir_graph_optimization_pass.cc:185] None of the MLIR Optimization Passes are enabled (registered 2)\n"
     ]
    },
    {
     "name": "stdout",
     "output_type": "stream",
     "text": [
      "Epoch 1/20\n"
     ]
    },
    {
     "name": "stderr",
     "output_type": "stream",
     "text": [
      "2022-08-03 05:38:15.833600: I tensorflow/stream_executor/cuda/cuda_dnn.cc:369] Loaded cuDNN version 8005\n"
     ]
    },
    {
     "name": "stdout",
     "output_type": "stream",
     "text": [
      "2116/2116 [==============================] - 243s 111ms/step - loss: 0.3535 - val_loss: 0.3583\n",
      "Epoch 2/20\n",
      "2116/2116 [==============================] - 51s 24ms/step - loss: 0.3480 - val_loss: 0.3855\n",
      "Epoch 3/20\n",
      "2116/2116 [==============================] - 51s 24ms/step - loss: 0.3478 - val_loss: 0.3749\n",
      "Epoch 4/20\n",
      "2116/2116 [==============================] - 51s 24ms/step - loss: 0.3483 - val_loss: 0.3814\n",
      "\n",
      "Epoch 00004: ReduceLROnPlateau reducing learning rate to 0.00010000000474974513.\n",
      "Epoch 5/20\n",
      "2116/2116 [==============================] - 51s 24ms/step - loss: 0.3470 - val_loss: 0.3859\n",
      "Epoch 6/20\n",
      "2116/2116 [==============================] - 51s 24ms/step - loss: 0.3469 - val_loss: 0.3904\n",
      "Epoch 7/20\n",
      "2116/2116 [==============================] - 51s 24ms/step - loss: 0.3467 - val_loss: 0.3971\n",
      "\n",
      "Epoch 00007: ReduceLROnPlateau reducing learning rate to 1.0000000474974514e-05.\n",
      "Epoch 8/20\n",
      "2116/2116 [==============================] - 51s 24ms/step - loss: 0.3467 - val_loss: 0.4014\n",
      "Restoring model weights from the end of the best epoch.\n",
      "Epoch 00008: early stopping\n"
     ]
    },
    {
     "data": {
      "image/png": "[encoded data removed]",
      "text/plain": [
       "<Figure size 1440x360 with 1 Axes>"
      ]
     },
     "metadata": {},
     "output_type": "display_data"
    }
   ],
   "source": [
    "history_ae_u = autoencoder.fit(\n",
    "    enc_train, validation_data=enc_valid,epochs=EPOCHS, batch_size=BATCH_SIZE, shuffle=True, \n",
    "    callbacks=get_callbacks('autoencoder_pretraining.csv')\n",
    ")\n",
    "encoder_base = keras.Model(inputs, encoded, name='encoder_base')\n",
    "encoder_base.save('encoder_base.h5')\n",
    "\n",
    "hist_df = pd.DataFrame(history_ae_u.history)\n",
    "fig, ax = plt.subplots(figsize=(20, 5))\n",
    "hist_df.iloc[:, :-1].plot(ax=ax);"
   ]
  },
  {
   "cell_type": "code",
   "execution_count": 8,
   "id": "84985ec2",
   "metadata": {
    "execution": {
     "iopub.execute_input": "2022-08-03T05:48:46.557503Z",
     "iopub.status.busy": "2022-08-03T05:48:46.557097Z",
     "iopub.status.idle": "2022-08-03T05:48:47.189956Z",
     "shell.execute_reply": "2022-08-03T05:48:47.188939Z"
    },
    "papermill": {
     "duration": 1.014979,
     "end_time": "2022-08-03T05:48:47.192564",
     "exception": false,
     "start_time": "2022-08-03T05:48:46.177585",
     "status": "completed"
    },
    "tags": []
   },
   "outputs": [],
   "source": [
    "del enc_train, enc_valid, autoencoder, encoder_base"
   ]
  },
  {
   "cell_type": "markdown",
   "id": "ee220cc1",
   "metadata": {
    "papermill": {
     "duration": 0.411827,
     "end_time": "2022-08-03T05:48:47.971420",
     "exception": false,
     "start_time": "2022-08-03T05:48:47.559593",
     "status": "completed"
    },
    "tags": []
   },
   "source": [
    "# Feature Extraction from Encoder"
   ]
  },
  {
   "cell_type": "code",
   "execution_count": 9,
   "id": "8cd1e3cd",
   "metadata": {
    "execution": {
     "iopub.execute_input": "2022-08-03T05:48:48.956720Z",
     "iopub.status.busy": "2022-08-03T05:48:48.955933Z",
     "iopub.status.idle": "2022-08-03T05:48:49.392947Z",
     "shell.execute_reply": "2022-08-03T05:48:49.391973Z"
    },
    "papermill": {
     "duration": 0.935415,
     "end_time": "2022-08-03T05:48:49.395383",
     "exception": false,
     "start_time": "2022-08-03T05:48:48.459968",
     "status": "completed"
    },
    "tags": []
   },
   "outputs": [],
   "source": [
    "clf_train = (\n",
    "    Dataset.from_tensor_slices(images_train)\n",
    "    .shuffle(1024)\n",
    "    .map(load_images_clf, num_parallel_calls=-1)\n",
    "    .cache()\n",
    "    .batch(BATCH_SIZE)\n",
    ")\n",
    "clf_valid = (\n",
    "    Dataset.from_tensor_slices(images_valid)\n",
    "    .shuffle(1024)\n",
    "    .map(load_images_clf, num_parallel_calls=-1)\n",
    "    .cache()\n",
    "    .batch(BATCH_SIZE)\n",
    ")"
   ]
  },
  {
   "cell_type": "code",
   "execution_count": 10,
   "id": "62dc8865",
   "metadata": {
    "execution": {
     "iopub.execute_input": "2022-08-03T05:48:50.172419Z",
     "iopub.status.busy": "2022-08-03T05:48:50.172045Z",
     "iopub.status.idle": "2022-08-03T05:57:49.241056Z",
     "shell.execute_reply": "2022-08-03T05:57:49.240062Z"
    },
    "papermill": {
     "duration": 539.437111,
     "end_time": "2022-08-03T05:57:49.243261",
     "exception": false,
     "start_time": "2022-08-03T05:48:49.806150",
     "status": "completed"
    },
    "tags": []
   },
   "outputs": [
    {
     "name": "stdout",
     "output_type": "stream",
     "text": [
      "Epoch 1/20\n",
      "2116/2116 [==============================] - 177s 83ms/step - loss: 1.6738 - accuracy: 0.6826 - val_loss: 3.8782 - val_accuracy: 0.1046\n",
      "Epoch 2/20\n",
      "2116/2116 [==============================] - 17s 8ms/step - loss: 0.4687 - accuracy: 0.8834 - val_loss: 2.9795 - val_accuracy: 0.2015\n",
      "Epoch 3/20\n",
      "2116/2116 [==============================] - 16s 8ms/step - loss: 0.1860 - accuracy: 0.9459 - val_loss: 2.7221 - val_accuracy: 0.2799\n",
      "Epoch 4/20\n",
      "2116/2116 [==============================] - 17s 8ms/step - loss: 0.1028 - accuracy: 0.9700 - val_loss: 2.4853 - val_accuracy: 0.3389\n",
      "Epoch 5/20\n",
      "2116/2116 [==============================] - 17s 8ms/step - loss: 0.0680 - accuracy: 0.9799 - val_loss: 2.2717 - val_accuracy: 0.4036\n",
      "Epoch 6/20\n",
      "2116/2116 [==============================] - 16s 8ms/step - loss: 0.0500 - accuracy: 0.9857 - val_loss: 2.1024 - val_accuracy: 0.4480\n",
      "Epoch 7/20\n",
      "2116/2116 [==============================] - 17s 8ms/step - loss: 0.0378 - accuracy: 0.9894 - val_loss: 1.9569 - val_accuracy: 0.4824\n",
      "Epoch 8/20\n",
      "2116/2116 [==============================] - 16s 8ms/step - loss: 0.0299 - accuracy: 0.9916 - val_loss: 1.8431 - val_accuracy: 0.5142\n",
      "Epoch 9/20\n",
      "2116/2116 [==============================] - 17s 8ms/step - loss: 0.0267 - accuracy: 0.9930 - val_loss: 1.7487 - val_accuracy: 0.5442\n",
      "Epoch 10/20\n",
      "2116/2116 [==============================] - 17s 8ms/step - loss: 0.0235 - accuracy: 0.9941 - val_loss: 1.7128 - val_accuracy: 0.5517\n",
      "Epoch 11/20\n",
      "2116/2116 [==============================] - 17s 8ms/step - loss: 0.0185 - accuracy: 0.9953 - val_loss: 1.6689 - val_accuracy: 0.5698\n",
      "Epoch 12/20\n",
      "2116/2116 [==============================] - 17s 8ms/step - loss: 0.0141 - accuracy: 0.9964 - val_loss: 1.6288 - val_accuracy: 0.5822\n",
      "Epoch 13/20\n",
      "2116/2116 [==============================] - 17s 8ms/step - loss: 0.0107 - accuracy: 0.9974 - val_loss: 1.5940 - val_accuracy: 0.5904\n",
      "Epoch 14/20\n",
      "2116/2116 [==============================] - 17s 8ms/step - loss: 0.0081 - accuracy: 0.9981 - val_loss: 1.5474 - val_accuracy: 0.6075\n",
      "Epoch 15/20\n",
      "2116/2116 [==============================] - 16s 8ms/step - loss: 0.0066 - accuracy: 0.9984 - val_loss: 1.4976 - val_accuracy: 0.6226\n",
      "Epoch 16/20\n",
      "2116/2116 [==============================] - 17s 8ms/step - loss: 0.0060 - accuracy: 0.9985 - val_loss: 1.4374 - val_accuracy: 0.6465\n",
      "Epoch 17/20\n",
      "2116/2116 [==============================] - 16s 8ms/step - loss: 0.0055 - accuracy: 0.9987 - val_loss: 1.3832 - val_accuracy: 0.6617\n",
      "Epoch 18/20\n",
      "2116/2116 [==============================] - 17s 8ms/step - loss: 0.0046 - accuracy: 0.9988 - val_loss: 1.3387 - val_accuracy: 0.6723\n",
      "Epoch 19/20\n",
      "2116/2116 [==============================] - 17s 8ms/step - loss: 0.0034 - accuracy: 0.9992 - val_loss: 1.2259 - val_accuracy: 0.6965\n",
      "Epoch 20/20\n",
      "2116/2116 [==============================] - 17s 8ms/step - loss: 0.0026 - accuracy: 0.9994 - val_loss: 1.1796 - val_accuracy: 0.7094\n",
      "709/709 [==============================] - 4s 5ms/step - loss: 1.1796 - accuracy: 0.7094\n",
      "\n",
      "\n",
      "Accuracy of Autoencoder Finetuned Classifier: 0.7094499468803406\n"
     ]
    },
    {
     "data": {
      "image/png": "[encoded data removed]",
      "text/plain": [
       "<Figure size 1440x360 with 1 Axes>"
      ]
     },
     "metadata": {},
     "output_type": "display_data"
    }
   ],
   "source": [
    "encoder_base = load_model('encoder_base.h5')\n",
    "encoder_base.trainable = False\n",
    "\n",
    "encoder = Sequential([\n",
    "    encoder_base,\n",
    "    L.Flatten(name='encoder_flatten'),\n",
    "    L.Dense(len(targets), activation='softmax', name='encoder_classification_head')\n",
    "])\n",
    "encoder.compile(optimizer=Adam(1e-4), loss='sparse_categorical_crossentropy', metrics=['accuracy'])\n",
    "history_ae_d = encoder.fit(\n",
    "    clf_train, validation_data=clf_valid, epochs=EPOCHS, batch_size=BATCH_SIZE, shuffle=True,\n",
    "    callbacks=get_callbacks('autoencoder_finetuning.csv')\n",
    ")\n",
    "encoder.save('encoder_finetuned.h5')\n",
    "\n",
    "loss, accuracy = encoder.evaluate(clf_valid)\n",
    "print(f\"\\n\\nAccuracy of Autoencoder Finetuned Classifier: {accuracy}\")\n",
    "\n",
    "hist_df = pd.DataFrame(history_ae_d.history)\n",
    "fig, ax = plt.subplots(figsize=(20, 5))\n",
    "hist_df.iloc[:, :-1].plot(ax=ax);"
   ]
  }
 ],
 "metadata": {
  "kernelspec": {
   "display_name": "Python 3",
   "language": "python",
   "name": "python3"
  },
  "language_info": {
   "codemirror_mode": {
    "name": "ipython",
    "version": 3
   },
   "file_extension": ".py",
   "mimetype": "text/x-python",
   "name": "python",
   "nbconvert_exporter": "python",
   "pygments_lexer": "ipython3",
   "version": "3.7.12"
  },
  "papermill": {
   "default_parameters": {},
   "duration": 1217.404998,
   "end_time": "2022-08-03T05:57:53.969759",
   "environment_variables": {},
   "exception": null,
   "input_path": "__notebook__.ipynb",
   "output_path": "__notebook__.ipynb",
   "parameters": {},
   "start_time": "2022-08-03T05:37:36.564761",
   "version": "2.3.4"
  }
 },
 "nbformat": 4,
 "nbformat_minor": 5
}
