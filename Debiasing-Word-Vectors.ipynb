{
 "cells": [
  {
   "cell_type": "code",
   "execution_count": 1,
   "metadata": {
    "_cell_guid": "b1076dfc-b9ad-4769-8c92-a6c4dae69d19",
    "_uuid": "8f2839f25d086af736a60e9eeb907d3b93b6e0e5",
    "execution": {
     "iopub.execute_input": "2021-12-18T05:09:17.126611Z",
     "iopub.status.busy": "2021-12-18T05:09:17.125882Z",
     "iopub.status.idle": "2021-12-18T05:09:18.11929Z",
     "shell.execute_reply": "2021-12-18T05:09:18.118234Z",
     "shell.execute_reply.started": "2021-12-18T05:09:17.12657Z"
    }
   },
   "outputs": [],
   "source": [
    "import numpy as np\n",
    "import pandas as pd\n",
    "import matplotlib.pyplot as plt\n",
    "import seaborn as sns\n",
    "sns.set_style('darkgrid')\n",
    "\n",
    "from tqdm.auto import tqdm"
   ]
  },
  {
   "cell_type": "markdown",
   "metadata": {},
   "source": [
    "# Loading the Word Vectors"
   ]
  },
  {
   "cell_type": "code",
   "execution_count": 2,
   "metadata": {
    "_cell_guid": "79c7e3d0-c299-4dcb-8224-4455121ee9b0",
    "_uuid": "d629ff2d2480ee46fbb7e2d37f6b5fab8052498a",
    "execution": {
     "iopub.execute_input": "2021-12-18T05:09:18.121818Z",
     "iopub.status.busy": "2021-12-18T05:09:18.12151Z",
     "iopub.status.idle": "2021-12-18T05:09:18.465492Z",
     "shell.execute_reply": "2021-12-18T05:09:18.464691Z",
     "shell.execute_reply.started": "2021-12-18T05:09:18.12179Z"
    }
   },
   "outputs": [],
   "source": [
    "import pickle\n",
    "from gensim.models.keyedvectors import KeyedVectors\n",
    "\n",
    "def prepare_embedding_map(embedding_name):\n",
    "    embeddings_index = {}\n",
    "    if embedding_name == 'Word2Vec':\n",
    "        embeddings_index = KeyedVectors.load_word2vec_format(\n",
    "            '../input/googlenewsvectorsnegative300/GoogleNews-vectors-negative300.bin', binary=True\n",
    "        )\n",
    "    elif embedding_name == 'Glove300':\n",
    "        embeddings_index = pickle.load(open('../input/pickled-glove840b300d-for-10sec-loading/glove.840B.300d.pkl', 'rb'))\n",
    "\n",
    "    else:\n",
    "        if embedding_name == 'Glove50':\n",
    "            f = open('../input/glove-global-vectors-for-word-representation/glove.6B.50d.txt')\n",
    "        elif  embedding_name == 'Glove100':\n",
    "            f = open('../input/glove-global-vectors-for-word-representation/glove.6B.100d.txt')  \n",
    "        elif  embedding_name == 'Glove200':\n",
    "            f = open('../input/glove-global-vectors-for-word-representation/glove.6B.200d.txt')  \n",
    "        elif embedding_name == 'fastText':\n",
    "            f = open('../input/fasttext-wikinews/wiki-news-300d-1M.vec')\n",
    "            \n",
    "        for line in tqdm(f):\n",
    "            values = line.split()\n",
    "            word = values[0]\n",
    "            coefs = np.asarray(values[1:], dtype='float32')\n",
    "            embeddings_index[word] = coefs\n",
    "        f.close()\n",
    "    return embeddings_index"
   ]
  },
  {
   "cell_type": "code",
   "execution_count": 3,
   "metadata": {
    "execution": {
     "iopub.execute_input": "2021-12-18T05:09:18.46718Z",
     "iopub.status.busy": "2021-12-18T05:09:18.466697Z",
     "iopub.status.idle": "2021-12-18T05:09:50.666753Z",
     "shell.execute_reply": "2021-12-18T05:09:50.665777Z",
     "shell.execute_reply.started": "2021-12-18T05:09:18.46711Z"
    }
   },
   "outputs": [
    {
     "name": "stdout",
     "output_type": "stream",
     "text": [
      "2196008 Vectors Found\n"
     ]
    }
   ],
   "source": [
    "word_to_vec_map = prepare_embedding_map('Glove300')\n",
    "try:\n",
    "    words = list(word_to_vec_map.vocab.keys())\n",
    "except:\n",
    "    words = list(word_to_vec_map.keys())\n",
    "print(len(words), 'Vectors Found')    "
   ]
  },
  {
   "cell_type": "markdown",
   "metadata": {},
   "source": [
    "# Cosine similarity\n",
    "\n",
    "To measure how similar two words are, we need a way to measure the degree of similarity between two embedding vectors for the two words. Given two vectors $u$ and $v$, cosine similarity is defined as follows: \n",
    "\n",
    "$ CosineSimilarity(u, v) = \\frac {u . v} {||u||_2 ||v||_2} = cos(\\theta) \\tag{1}$\n",
    "\n",
    "where $u.v$ is the dot product (or inner product) of two vectors, $||u||_2$ is the norm (or length) of the vector $u$, and $\\theta$ is the angle between $u$ and $v$. This similarity depends on the angle between $u$ and $v$. If $u$ and $v$ are very similar, their cosine similarity will be close to 1; if they are dissimilar, the cosine similarity will take a smaller value. \n",
    "\n",
    "![](https://datascience-enthusiast.com/figures/cosine_sim.png)"
   ]
  },
  {
   "cell_type": "code",
   "execution_count": 4,
   "metadata": {
    "execution": {
     "iopub.execute_input": "2021-12-18T05:09:50.668279Z",
     "iopub.status.busy": "2021-12-18T05:09:50.66797Z",
     "iopub.status.idle": "2021-12-18T05:09:50.676766Z",
     "shell.execute_reply": "2021-12-18T05:09:50.675264Z",
     "shell.execute_reply.started": "2021-12-18T05:09:50.668251Z"
    }
   },
   "outputs": [],
   "source": [
    "def cosine_similarity(u, v):\n",
    "    \"\"\"\n",
    "    Cosine similarity reflects the degree of similariy between u and v\n",
    "        \n",
    "    Arguments:\n",
    "        u -- a word vector of shape (n,)          \n",
    "        v -- a word vector of shape (n,)\n",
    "\n",
    "    Returns:\n",
    "        cosine_similarity -- the cosine similarity between u and v defined by the formula above.\n",
    "    \"\"\"\n",
    "    \n",
    "    dot = np.dot(u, v)\n",
    "    norm_u = np.sqrt(np.sum(u**2))\n",
    "    norm_v = np.sqrt(np.sum(v**2))\n",
    "    cosine_similarity = dot / np.dot(norm_u, norm_v)\n",
    "    \n",
    "    return cosine_similarity"
   ]
  },
  {
   "cell_type": "code",
   "execution_count": 5,
   "metadata": {
    "execution": {
     "iopub.execute_input": "2021-12-18T05:09:50.681166Z",
     "iopub.status.busy": "2021-12-18T05:09:50.680678Z",
     "iopub.status.idle": "2021-12-18T05:09:50.699224Z",
     "shell.execute_reply": "2021-12-18T05:09:50.698281Z",
     "shell.execute_reply.started": "2021-12-18T05:09:50.681097Z"
    }
   },
   "outputs": [
    {
     "name": "stdout",
     "output_type": "stream",
     "text": [
      "cosine_similarity(father, mother) =  0.82982457\n",
      "cosine_similarity(ball, crocodile) =  0.11947029\n",
      "cosine_similarity(france - paris, rome - italy) =  -0.34433752\n"
     ]
    }
   ],
   "source": [
    "father = word_to_vec_map[\"father\"]\n",
    "mother = word_to_vec_map[\"mother\"]\n",
    "ball = word_to_vec_map[\"ball\"]\n",
    "crocodile = word_to_vec_map[\"crocodile\"]\n",
    "france = word_to_vec_map[\"france\"]\n",
    "italy = word_to_vec_map[\"italy\"]\n",
    "paris = word_to_vec_map[\"paris\"]\n",
    "rome = word_to_vec_map[\"rome\"]\n",
    "\n",
    "print(\"cosine_similarity(father, mother) = \", cosine_similarity(father, mother))\n",
    "print(\"cosine_similarity(ball, crocodile) = \",cosine_similarity(ball, crocodile))\n",
    "print(\"cosine_similarity(france - paris, rome - italy) = \",cosine_similarity(france - paris, rome - italy))"
   ]
  },
  {
   "cell_type": "markdown",
   "metadata": {},
   "source": [
    "# Word analogy\n",
    "\n",
    "In the word analogy, we complete the sentence\n",
    "\n",
    "<center> <b>a</b> is to <b>b</b> as <b>c</b> is to <b>__</b> </center>\n",
    "    \n",
    "An example is \n",
    "    \n",
    "<center> <b>man</b> is to <b>woman</b> as <b>king</b> is to <b>queen</b> </center><br>\n",
    "\n",
    "In detail, we are trying to find a word *d*, such that the associated word vectors $e_a, e_b, e_c, e_d$ are related in the following manner: $e_b - e_a \\approx e_d - e_c$. We will measure the similarity between $e_b - e_a$ and $e_d - e_c$ using cosine similarity. "
   ]
  },
  {
   "cell_type": "code",
   "execution_count": 6,
   "metadata": {
    "execution": {
     "iopub.execute_input": "2021-12-18T05:09:50.701342Z",
     "iopub.status.busy": "2021-12-18T05:09:50.70092Z",
     "iopub.status.idle": "2021-12-18T05:09:50.711351Z",
     "shell.execute_reply": "2021-12-18T05:09:50.710153Z",
     "shell.execute_reply.started": "2021-12-18T05:09:50.701309Z"
    }
   },
   "outputs": [],
   "source": [
    "def complete_analogy(word_a, word_b, word_c, word_to_vec_map, words):\n",
    "    \"\"\"\n",
    "    Performs the word analogy task as explained above: a is to b as c is to ____. \n",
    "    \n",
    "    Arguments:\n",
    "    word_a -- a word, string\n",
    "    word_b -- a word, string\n",
    "    word_c -- a word, string\n",
    "    word_to_vec_map -- dictionary that maps words to their corresponding vectors. \n",
    "    \n",
    "    Returns:\n",
    "    best_word --  the word such that v_b - v_a is close to v_best_word - v_c, as measured by cosine similarity\n",
    "    \"\"\"\n",
    "    \n",
    "    word_a, word_b, word_c = word_a.lower(), word_b.lower(), word_c.lower()\n",
    "    \n",
    "    e_a, e_b, e_c = word_to_vec_map[word_a], word_to_vec_map[word_b], word_to_vec_map[word_c]\n",
    "    \n",
    "    max_cosine_sim = -100\n",
    "    best_word = None\n",
    "\n",
    "\n",
    "    for w in words:        \n",
    "        if w in [word_a, word_b, word_c] :\n",
    "            continue\n",
    "        \n",
    "        try:\n",
    "            cosine_sim = cosine_similarity((e_b - e_a), (word_to_vec_map[w] - e_c))\n",
    "        except:\n",
    "            pass\n",
    "        \n",
    "        if cosine_sim > max_cosine_sim:\n",
    "            max_cosine_sim = cosine_sim\n",
    "            best_word = w\n",
    "        \n",
    "    return best_word"
   ]
  },
  {
   "cell_type": "code",
   "execution_count": 7,
   "metadata": {
    "execution": {
     "iopub.execute_input": "2021-12-18T05:09:50.714305Z",
     "iopub.status.busy": "2021-12-18T05:09:50.713784Z",
     "iopub.status.idle": "2021-12-18T05:15:24.884603Z",
     "shell.execute_reply": "2021-12-18T05:15:24.882848Z",
     "shell.execute_reply.started": "2021-12-18T05:09:50.714259Z"
    }
   },
   "outputs": [
    {
     "name": "stdout",
     "output_type": "stream",
     "text": [
      "italy : italian :: spain : spanish\n",
      "india : delhi :: japan : vihar\n",
      "man : woman :: boy : girl\n",
      "small : smaller :: large : larger\n"
     ]
    }
   ],
   "source": [
    "triads_to_try = [\n",
    "    ('italy', 'italian', 'spain'), ('india', 'delhi', 'japan'),\n",
    "    ('man', 'woman', 'boy'), ('small', 'smaller', 'large')\n",
    "]\n",
    "for triad in triads_to_try:\n",
    "    print(f'{triad[0]} : {triad[1]} :: {triad[2]} : {complete_analogy(*triad, word_to_vec_map, words)}')"
   ]
  },
  {
   "cell_type": "markdown",
   "metadata": {},
   "source": [
    "# Debiasing word vectors\n",
    "\n",
    "There are some gender biases that can be reflected in a word embedding, and there are some algorithms for reducing the bias. \n",
    "\n",
    "Lets first see how the word embeddings relate to gender. We will first compute a vector $ g = e_{woman}-e_{man} $, where $e_{woman}$ represents the word vector corresponding to the word *woman*, and $e_{man}$ corresponds to the word vector corresponding to the word *man*. The resulting vector $g$ roughly encodes the concept of \"gender\"."
   ]
  },
  {
   "cell_type": "code",
   "execution_count": 8,
   "metadata": {
    "execution": {
     "iopub.execute_input": "2021-12-18T05:15:24.888784Z",
     "iopub.status.busy": "2021-12-18T05:15:24.888299Z",
     "iopub.status.idle": "2021-12-18T05:15:24.969261Z",
     "shell.execute_reply": "2021-12-18T05:15:24.968107Z",
     "shell.execute_reply.started": "2021-12-18T05:15:24.888741Z"
    }
   },
   "outputs": [
    {
     "name": "stdout",
     "output_type": "stream",
     "text": [
      "[ 1.98666990e-01  7.22199827e-02 -1.86462998e-01  5.83739996e-01\n",
      " -7.46250004e-02 -9.17997956e-03  3.19599956e-02  3.92699987e-02\n",
      "  1.38819993e-01  6.78999424e-02 -2.03620002e-01  2.38368988e-01\n",
      " -2.72006691e-01 -3.08981687e-01 -1.61559999e-01 -1.46412000e-01\n",
      " -4.35483992e-01  1.89160019e-01 -2.95740008e-01 -3.50700021e-02\n",
      "  9.05001163e-03  2.55119979e-01 -1.56845003e-01 -3.59719992e-01\n",
      " -2.88099945e-02  4.00590003e-01  1.07859999e-01 -2.12710008e-01\n",
      " -3.14889997e-01 -1.76756993e-01  1.34200007e-01 -5.70900142e-02\n",
      "  2.26850003e-01 -2.34786004e-01  4.04179990e-01  2.45397985e-01\n",
      "  1.38130009e-01 -3.17710042e-01 -6.44200146e-02  5.04499972e-02\n",
      "  5.87419987e-01  1.61250010e-01 -1.27790004e-01 -5.09299934e-02\n",
      "  5.82489967e-02 -1.54311001e-01 -2.74599999e-01 -4.05699909e-02\n",
      "  4.65460002e-01 -2.69311011e-01 -6.96425974e-01 -7.79200047e-02\n",
      " -3.73799980e-01 -5.43542981e-01  1.68000162e-03  1.99129969e-01\n",
      "  8.77784044e-02 -1.79803997e-01 -3.24763983e-01  1.82830006e-01\n",
      "  4.45810035e-02 -4.40575004e-01  3.94324996e-02  8.85499865e-02\n",
      " -8.17679986e-02  3.47799957e-02  2.19610006e-01  1.73684001e-01\n",
      "  4.20599997e-01  2.30540007e-01  1.30430013e-01  5.16099930e-02\n",
      " -4.50607002e-01  2.98929989e-01  7.14900017e-01  1.87491506e-01\n",
      "  1.08699799e-02 -5.88600039e-02  5.82560003e-02 -4.68892992e-01\n",
      "  4.13378999e-02 -4.98937011e-01 -5.46519995e-01  1.66910991e-01\n",
      " -2.70377010e-01  3.10499996e-01  1.57869995e-01  6.15016997e-01\n",
      "  1.12430006e-01 -3.69369984e-01 -9.15000588e-03  4.87110019e-01\n",
      " -2.48100013e-02 -2.01621011e-01  7.52400011e-02 -3.43129992e-01\n",
      " -1.40810013e-02  4.47310001e-01  9.82819945e-02 -1.88300014e-02\n",
      "  5.63686013e-01  2.10529983e-01  4.13628012e-01 -1.24743000e-01\n",
      "  5.53460047e-02 -1.80729985e-01 -3.57449979e-01 -1.28450006e-01\n",
      " -1.75781995e-01 -3.56480032e-02  7.30400085e-02  4.91800010e-01\n",
      "  1.20920002e-01 -1.28526002e-01 -4.86529991e-02 -4.55290020e-01\n",
      " -8.30870047e-02  3.39540005e-01  5.94336987e-01  1.46170020e-01\n",
      " -1.68540001e-01  1.09070003e-01  6.02700114e-02 -3.17530006e-01\n",
      "  2.16051996e-01  2.82433003e-01  3.16039979e-01  2.30358496e-01\n",
      " -1.26025289e-01  2.61260003e-01 -3.47479999e-01 -1.45045996e-01\n",
      " -2.68090010e-01  1.01729989e-01 -1.27200007e-01 -4.04260010e-01\n",
      " -6.34609997e-01  1.79711998e-01 -9.79998708e-03  2.38931000e-01\n",
      "  4.64699984e-01 -1.76903993e-01  8.36960077e-02 -4.60195005e-01\n",
      " -4.16100025e-01  1.72600001e-02 -3.49910021e-01 -2.14100033e-02\n",
      " -4.35580015e-01  1.73370004e-01 -1.80270016e-01  9.36003029e-02\n",
      " -2.51639992e-01  1.42099991e-01 -2.10092992e-01 -7.80001283e-04\n",
      "  3.43066007e-01 -2.51609981e-01 -4.66099977e-02 -3.53880003e-02\n",
      " -6.24859989e-01  2.17449993e-01  7.41870031e-02  1.28790021e-01\n",
      "  3.58000398e-03 -2.48923004e-01 -1.22189999e-01  4.16000009e-01\n",
      "  2.22826988e-01  1.39129996e-01  1.72190011e-01 -1.27296001e-01\n",
      "  4.17232990e-01  1.22292005e-01 -2.97299922e-02 -5.83799928e-02\n",
      " -3.92460018e-01 -2.61685997e-01 -3.86149973e-01  3.89891416e-01\n",
      " -3.67999971e-02  2.85560012e-01 -3.07927001e-02  6.20001554e-03\n",
      "  6.36709988e-01  1.53530002e-01 -5.50499856e-02  1.21794991e-01\n",
      "  1.67029947e-02  1.82029963e-01  1.57999992e-03 -3.30659002e-01\n",
      "  1.91520005e-01 -1.42351002e-01  1.08329982e-01 -2.34999001e-01\n",
      " -9.23030004e-02  3.07730019e-01  2.60140002e-02 -1.31900012e-02\n",
      "  4.54718977e-01  6.83999956e-02  3.20499986e-02 -1.83910012e-01\n",
      " -3.08539987e-01  1.71469986e-01 -6.59100115e-02  1.98130012e-02\n",
      " -1.22610014e-02  1.17440000e-01 -3.86264980e-01 -1.75200015e-01\n",
      " -4.24080014e-01  1.81549013e-01 -3.03800106e-02  2.17009991e-01\n",
      " -6.36232793e-01  1.06850997e-01 -3.95099819e-02 -1.30580008e-01\n",
      " -2.64017016e-01 -5.30059993e-01  3.65830004e-01 -1.97264999e-01\n",
      " -1.65576994e-01 -3.93014997e-01  5.17542005e-01 -2.88830012e-01\n",
      "  1.27000004e-01 -1.21371001e-01 -1.32304996e-01 -1.08499974e-02\n",
      "  5.02420008e-01  4.33159992e-02 -4.50299978e-02 -2.12270603e-01\n",
      "  7.58280009e-02 -1.29170001e-01  2.91621983e-01 -3.81622016e-01\n",
      " -5.88220000e-01 -1.22499987e-02  2.39500001e-01 -4.64210004e-01\n",
      "  1.14769995e-01 -3.27776998e-01 -1.11095011e-01  3.44668984e-01\n",
      "  8.10500383e-02 -2.78422982e-01 -2.45452002e-01  2.67001987e-03\n",
      "  4.83776003e-01 -3.45052004e-01 -3.33526015e-01  2.22409993e-01\n",
      " -1.59399509e-02  1.31900012e-02 -2.81378001e-01  4.98239994e-01\n",
      " -9.79419947e-02  1.06079996e-01 -4.21140008e-02  9.66100097e-02\n",
      "  4.65829998e-01 -8.47999752e-02  1.06710002e-01 -1.05519980e-01\n",
      " -6.26909971e-01 -3.17445010e-01 -9.05019045e-01 -3.09626013e-01\n",
      " -1.94260001e-01  3.16368014e-01  1.46500021e-02 -1.42149985e-01\n",
      " -2.46479988e-01 -2.14708000e-01 -1.29249990e-01  4.49492991e-01\n",
      "  2.39073992e-01  2.20079988e-01  4.14260000e-01 -3.96073014e-01\n",
      " -3.32180023e-01  4.10815001e-01 -3.69459987e-01  1.39353991e-01\n",
      "  2.60770023e-02  1.66312993e-01  4.38968986e-01  6.88599944e-02\n",
      "  4.24270004e-01 -1.15289986e-01 -2.88700163e-02 -2.44424995e-02\n",
      " -3.73439997e-01 -1.85231999e-01  2.82130003e-01 -2.73476988e-01]\n"
     ]
    }
   ],
   "source": [
    "g = word_to_vec_map['woman'] - word_to_vec_map['man']\n",
    "print(g)"
   ]
  },
  {
   "cell_type": "markdown",
   "metadata": {},
   "source": [
    "Now, we will consider the cosine similarity of different words with $g$"
   ]
  },
  {
   "cell_type": "code",
   "execution_count": 9,
   "metadata": {
    "execution": {
     "iopub.execute_input": "2021-12-18T05:15:24.97101Z",
     "iopub.status.busy": "2021-12-18T05:15:24.970683Z",
     "iopub.status.idle": "2021-12-18T05:15:24.990234Z",
     "shell.execute_reply": "2021-12-18T05:15:24.988632Z",
     "shell.execute_reply.started": "2021-12-18T05:15:24.970978Z"
    }
   },
   "outputs": [
    {
     "name": "stdout",
     "output_type": "stream",
     "text": [
      "List of names and their similarities with constructed vector:\n",
      "john -0.1501737\n",
      "marie 0.21216623\n",
      "sophie 0.15576078\n",
      "ronaldo -0.11417146\n",
      "priya 0.097928606\n",
      "rahul -0.046346735\n",
      "danielle 0.12986323\n",
      "reza -0.06751643\n",
      "katy 0.0633719\n",
      "yasmin 0.1799196\n"
     ]
    }
   ],
   "source": [
    "print ('List of names and their similarities with constructed vector:')\n",
    "\n",
    "# girls and boys name\n",
    "name_list = ['john', 'marie', 'sophie', 'ronaldo', 'priya', 'rahul', 'danielle', 'reza', 'katy', 'yasmin']\n",
    "\n",
    "for w in name_list:\n",
    "    print (w, cosine_similarity(word_to_vec_map[w], g))"
   ]
  },
  {
   "cell_type": "markdown",
   "metadata": {},
   "source": [
    "As per the above results, female first names tend to have a positive cosine similarity with our constructed vector $g$, while male first names tend to have a negative cosine similarity. This is not suprising, and the result seems acceptable. \n",
    "\n",
    "But let's try with some other words."
   ]
  },
  {
   "cell_type": "code",
   "execution_count": 10,
   "metadata": {
    "execution": {
     "iopub.execute_input": "2021-12-18T05:15:24.992622Z",
     "iopub.status.busy": "2021-12-18T05:15:24.992275Z",
     "iopub.status.idle": "2021-12-18T05:15:25.002557Z",
     "shell.execute_reply": "2021-12-18T05:15:25.001568Z",
     "shell.execute_reply.started": "2021-12-18T05:15:24.992577Z"
    }
   },
   "outputs": [
    {
     "name": "stdout",
     "output_type": "stream",
     "text": [
      "Other words and their similarities:\n",
      "lipstick 0.25525907\n",
      "guns -0.11276708\n",
      "science -0.053015452\n",
      "arts 0.026548538\n",
      "literature 0.091985516\n",
      "warrior -0.0108416155\n",
      "doctor 0.1657573\n",
      "tree -0.05632935\n",
      "receptionist 0.2427326\n",
      "technology -0.031943057\n",
      "fashion 0.1786713\n",
      "teacher 0.13410611\n",
      "engineer -0.07418463\n",
      "pilot -0.0053598527\n",
      "computer 0.010542413\n",
      "singer 0.10071363\n"
     ]
    }
   ],
   "source": [
    "print('Other words and their similarities:')\n",
    "word_list = ['lipstick', 'guns', 'science', 'arts', 'literature', 'warrior','doctor', 'tree', 'receptionist', \n",
    "             'technology',  'fashion', 'teacher', 'engineer', 'pilot', 'computer', 'singer']\n",
    "for w in word_list:\n",
    "    print (w, cosine_similarity(word_to_vec_map[w], g))"
   ]
  },
  {
   "cell_type": "markdown",
   "metadata": {},
   "source": [
    "It is astonishing how these results reflect certain unhealthy gender stereotypes. For example, \"computer\" is closer to \"man\" while \"literature\" is closer to \"woman\". Ouch! \n",
    "\n",
    "We'll see below how to reduce the bias of these vectors, using an algorithm due to [Boliukbasi et al., 2016](https://arxiv.org/abs/1607.06520). Note that some word pairs such as \"actor\"/\"actress\" or \"grandmother\"/\"grandfather\" should remain gender specific, while other words such as \"receptionist\" or \"technology\" should be neutralized, i.e. not be gender-related. We have to treat these two type of words differently when debiasing."
   ]
  },
  {
   "cell_type": "markdown",
   "metadata": {},
   "source": [
    "## Neutralize bias for non-gender specific words \n",
    "\n",
    "The figure below should help to visualize what neutralizing does. If you're using a n-dimensional word embedding, the n dimensional space can be split into two parts: The bias-direction $g$, and the remaining n-1 dimensions, which we'll call $g_{\\perp}$. In linear algebra, we say that the n-1 dimensional $g_{\\perp}$ is perpendicular (or \"orthogonal\") to $g$, meaning it is at 90 degrees to $g$. The neutralization step takes a vector such as $e_{receptionist}$ and zeros out the component in the direction of $g$, giving us $e_{receptionist}^{debiased}$. \n",
    "\n",
    "Even though $g_{\\perp}$ is n-1 dimensional, given the limitations of what we can draw on a screen, we illustrate it using a 1 dimensional axis below. \n",
    "\n",
    "![](https://datascience-enthusiast.com/figures/neutral.png)\n",
    "<caption><center>  The word vector for \"receptionist\" represented before and after applying the neutralize operation. </center></caption>\n",
    "\n",
    "To remove the bias of words such as \"receptionist\" or \"scientist\". Given an input embedding $e$, we can use the following formulas to compute $e^{debiased}$: \n",
    "\n",
    "$$e^{bias\\_component} = \\frac{e \\cdot g}{||g||_2^2} * g\\tag{2}$$\n",
    "$$e^{debiased} = e - e^{bias\\_component}\\tag{3}$$\n",
    "\n",
    "$e^{bias\\_component}$ is the projection of $e$ onto the direction $g$. \n",
    "\n",
    "<!-- \n",
    "**Reminder**: a vector $u$ can be split into two parts: its projection over a vector-axis $v_B$ and its projection over the axis orthogonal to $v$:\n",
    "$$u = u_B + u_{\\perp}$$\n",
    "where : $u_B = $ and $ u_{\\perp} = u - u_B $\n",
    "!--> "
   ]
  },
  {
   "cell_type": "code",
   "execution_count": 11,
   "metadata": {
    "execution": {
     "iopub.execute_input": "2021-12-18T05:15:25.005737Z",
     "iopub.status.busy": "2021-12-18T05:15:25.005332Z",
     "iopub.status.idle": "2021-12-18T05:15:25.019784Z",
     "shell.execute_reply": "2021-12-18T05:15:25.018767Z",
     "shell.execute_reply.started": "2021-12-18T05:15:25.005703Z"
    }
   },
   "outputs": [],
   "source": [
    "def neutralize(word, g, word_to_vec_map):\n",
    "    \"\"\"\n",
    "    Removes the bias of \"word\" by projecting it on the space orthogonal to the bias axis. \n",
    "    This function ensures that gender neutral words are zero in the gender subspace.\n",
    "    \n",
    "    Arguments:\n",
    "        word -- string indicating the word to debias\n",
    "        g -- numpy-array of shape (n,), corresponding to the bias axis (such as gender)\n",
    "        word_to_vec_map -- dictionary mapping words to their corresponding vectors.\n",
    "    \n",
    "    Returns:\n",
    "        e_debiased -- neutralized word vector representation of the input \"word\"\n",
    "    \"\"\"\n",
    "    \n",
    "    e = word_to_vec_map[word]\n",
    "    e_biascomponent = np.dot(e, g) / np.dot(g, g) * g\n",
    "    e_debiased = e - e_biascomponent\n",
    "    \n",
    "    return e_debiased"
   ]
  },
  {
   "cell_type": "code",
   "execution_count": 12,
   "metadata": {
    "execution": {
     "iopub.execute_input": "2021-12-18T05:15:25.021275Z",
     "iopub.status.busy": "2021-12-18T05:15:25.02092Z",
     "iopub.status.idle": "2021-12-18T05:15:25.035874Z",
     "shell.execute_reply": "2021-12-18T05:15:25.034562Z",
     "shell.execute_reply.started": "2021-12-18T05:15:25.021243Z"
    }
   },
   "outputs": [
    {
     "name": "stdout",
     "output_type": "stream",
     "text": [
      "cosine similarity between receptionist and g, before neutralizing: 0.24273259937763214\n",
      "cosine similarity between receptionist and g, after neutralizing : -9.621787810942806e-10\n"
     ]
    }
   ],
   "source": [
    "e = \"receptionist\"\n",
    "print(f\"cosine similarity between {e} and g, before neutralizing: {cosine_similarity(word_to_vec_map[e], g)}\")\n",
    "\n",
    "e_debiased = neutralize(\"receptionist\", g, word_to_vec_map)\n",
    "print(f\"cosine similarity between {e} and g, after neutralizing : {cosine_similarity(e_debiased, g)}\")"
   ]
  },
  {
   "cell_type": "markdown",
   "metadata": {},
   "source": [
    "## Equalization algorithm for gender-specific words\n",
    "\n",
    "Next, lets see how debiasing can also be applied to word pairs such as \"actress\" and \"actor.\" Equalization is applied to pairs of words that you might want to have differ only through the gender property. As a concrete example, suppose that \"actress\" is closer to \"babysit\" than \"actor.\" By applying neutralizing to \"babysit\" we can reduce the gender-stereotype associated with babysitting. But this still does not guarantee that \"actor\" and \"actress\" are equidistant from \"babysit.\" The equalization algorithm takes care of this. \n",
    "\n",
    "The key idea behind equalization is to make sure that a particular pair of words are equi-distant from the 49-dimensional $g_\\perp$. The equalization step also ensures that the two equalized steps are now the same distance from $e_{receptionist}^{debiased}$, or from any other work that has been neutralized. In pictures, this is how equalization works: \n",
    "\n",
    "![](https://datascience-enthusiast.com/figures/equalize10.png)\n",
    "\n",
    "\n",
    "The derivation of the linear algebra to do this is a bit more complex. (See Bolukbasi et al., 2016 for details.) But the key equations are: \n",
    "\n",
    "$$ \\mu = \\frac{e_{w1} + e_{w2}}{2}\\tag{4}$$ \n",
    "\n",
    "$$ \\mu_{B} = \\frac {\\mu \\cdot \\text{bias_axis}}{||\\text{bias_axis}||_2^2} *\\text{bias_axis}\n",
    "\\tag{5}$$ \n",
    "\n",
    "$$\\mu_{\\perp} = \\mu - \\mu_{B} \\tag{6}$$\n",
    "\n",
    "$$ e_{w1B} = \\frac {e_{w1} \\cdot \\text{bias_axis}}{||\\text{bias_axis}||_2^2} *\\text{bias_axis}\n",
    "\\tag{7}$$ \n",
    "$$ e_{w2B} = \\frac {e_{w2} \\cdot \\text{bias_axis}}{||\\text{bias_axis}||_2^2} *\\text{bias_axis}\n",
    "\\tag{8}$$\n",
    "\n",
    "\n",
    "$$e_{w1B}^{corrected} = \\sqrt{ |{1 - ||\\mu_{\\perp} ||^2_2} |} * \\frac{e_{\\text{w1B}} - \\mu_B} {||(e_{w1} - \\mu_{\\perp}) - \\mu_B||} \\tag{9}$$\n",
    "\n",
    "\n",
    "$$e_{w2B}^{corrected} = \\sqrt{ |{1 - ||\\mu_{\\perp} ||^2_2} |} * \\frac{e_{\\text{w2B}} - \\mu_B} {||(e_{w2} - \\mu_{\\perp}) - \\mu_B||} \\tag{10}$$\n",
    "\n",
    "$$e_1 = e_{w1B}^{corrected} + \\mu_{\\perp} \\tag{11}$$\n",
    "$$e_2 = e_{w2B}^{corrected} + \\mu_{\\perp} \\tag{12}$$"
   ]
  },
  {
   "cell_type": "code",
   "execution_count": 13,
   "metadata": {
    "execution": {
     "iopub.execute_input": "2021-12-18T05:15:25.038207Z",
     "iopub.status.busy": "2021-12-18T05:15:25.037754Z",
     "iopub.status.idle": "2021-12-18T05:15:25.053381Z",
     "shell.execute_reply": "2021-12-18T05:15:25.052198Z",
     "shell.execute_reply.started": "2021-12-18T05:15:25.038162Z"
    }
   },
   "outputs": [],
   "source": [
    "def equalize(pair, bias_axis, word_to_vec_map):\n",
    "    \"\"\"\n",
    "    Debias gender specific words by following the equalize method described in the figure above.\n",
    "    \n",
    "    Arguments:\n",
    "    pair -- pair of strings of gender specific words to debias, e.g. (\"actress\", \"actor\") \n",
    "    bias_axis -- numpy-array of shape (50,), vector corresponding to the bias axis, e.g. gender\n",
    "    word_to_vec_map -- dictionary mapping words to their corresponding vectors\n",
    "    \n",
    "    Returns\n",
    "    e_1 -- word vector corresponding to the first word\n",
    "    e_2 -- word vector corresponding to the second word\n",
    "    \"\"\"\n",
    "    \n",
    "    w1, w2 = pair\n",
    "    e_w1, e_w2 = word_to_vec_map[w1], word_to_vec_map[w2]\n",
    "    \n",
    "    mu = (e_w1 + e_w2) / 2.0\n",
    "    \n",
    "    mu_B = np.dot(mu, bias_axis) / np.dot(bias_axis, bias_axis) * bias_axis\n",
    "    mu_orth = mu - mu_B\n",
    "\n",
    "    e_w1B = np.dot(e_w1, bias_axis) / np.dot(bias_axis, bias_axis) * bias_axis\n",
    "    e_w2B = np.dot(e_w2, bias_axis) / np.dot(bias_axis, bias_axis) * bias_axis\n",
    "        \n",
    "    corrected_e_w1B = np.sqrt(np.abs(1 - np.dot(mu_orth, mu_orth))) * (e_w1B - mu_B) / np.linalg.norm(e_w1 - mu_orth - mu_B)\n",
    "    corrected_e_w2B = np.sqrt(np.abs(1 - np.dot(mu_orth, mu_orth))) * (e_w2B - mu_B) / np.linalg.norm(e_w2 - mu_orth - mu_B)\n",
    "\n",
    "    e1 = corrected_e_w1B + mu_orth\n",
    "    e2 = corrected_e_w2B + mu_orth\n",
    "                                                                \n",
    "    return e1, e2"
   ]
  },
  {
   "cell_type": "code",
   "execution_count": 14,
   "metadata": {
    "execution": {
     "iopub.execute_input": "2021-12-18T05:15:25.055416Z",
     "iopub.status.busy": "2021-12-18T05:15:25.055053Z",
     "iopub.status.idle": "2021-12-18T05:15:25.074059Z",
     "shell.execute_reply": "2021-12-18T05:15:25.071918Z",
     "shell.execute_reply.started": "2021-12-18T05:15:25.055382Z"
    }
   },
   "outputs": [
    {
     "name": "stdout",
     "output_type": "stream",
     "text": [
      "cosine similarities before equalizing:\n",
      "cosine_similarity(word_to_vec_map[\"man\"], gender) =  -0.2595359\n",
      "cosine_similarity(word_to_vec_map[\"woman\"], gender) =  0.45727175\n",
      "\n",
      "cosine similarities after equalizing:\n",
      "cosine_similarity(e1, gender) =  -0.702331\n",
      "cosine_similarity(e2, gender) =  0.70233107\n"
     ]
    }
   ],
   "source": [
    "print(\"cosine similarities before equalizing:\")\n",
    "print(\"cosine_similarity(word_to_vec_map[\\\"man\\\"], gender) = \", cosine_similarity(word_to_vec_map[\"man\"], g))\n",
    "print(\"cosine_similarity(word_to_vec_map[\\\"woman\\\"], gender) = \", cosine_similarity(word_to_vec_map[\"woman\"], g))\n",
    "print()\n",
    "e1, e2 = equalize((\"man\", \"woman\"), g, word_to_vec_map)\n",
    "print(\"cosine similarities after equalizing:\")\n",
    "print(\"cosine_similarity(e1, gender) = \", cosine_similarity(e1, g))\n",
    "print(\"cosine_similarity(e2, gender) = \", cosine_similarity(e2, g))"
   ]
  },
  {
   "cell_type": "markdown",
   "metadata": {},
   "source": [
    "# Reference\n",
    "\n",
    "[Man is to Computer Programmer as Woman is to Homemaker? Debiasing Word Embeddings](https://proceedings.neurips.cc/paper/2016/file/a486cd07e4ac3d270571622f4f316ec5-Paper.pdf)"
   ]
  },
  {
   "cell_type": "code",
   "execution_count": null,
   "metadata": {},
   "outputs": [],
   "source": []
  }
 ],
 "metadata": {
  "kernelspec": {
   "display_name": "Python 3",
   "language": "python",
   "name": "python3"
  },
  "language_info": {
   "codemirror_mode": {
    "name": "ipython",
    "version": 3
   },
   "file_extension": ".py",
   "mimetype": "text/x-python",
   "name": "python",
   "nbconvert_exporter": "python",
   "pygments_lexer": "ipython3",
   "version": "3.8.8"
  }
 },
 "nbformat": 4,
 "nbformat_minor": 4
}
