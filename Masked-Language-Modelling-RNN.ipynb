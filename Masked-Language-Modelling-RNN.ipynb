{
 "cells": [
  {
   "cell_type": "code",
   "execution_count": 1,
   "metadata": {
    "_kg_hide-output": true,
    "execution": {
     "iopub.execute_input": "2021-12-24T16:58:42.376024Z",
     "iopub.status.busy": "2021-12-24T16:58:42.375655Z",
     "iopub.status.idle": "2021-12-24T16:58:53.635034Z",
     "shell.execute_reply": "2021-12-24T16:58:53.634214Z",
     "shell.execute_reply.started": "2021-12-24T16:58:42.375921Z"
    }
   },
   "outputs": [
    {
     "name": "stdout",
     "output_type": "stream",
     "text": [
      "Collecting clean-text\n",
      "  Downloading clean_text-0.5.0-py3-none-any.whl (9.8 kB)\n",
      "Requirement already satisfied: emoji in /opt/conda/lib/python3.7/site-packages (from clean-text) (1.6.1)\n",
      "Collecting ftfy<7.0,>=6.0\n",
      "  Downloading ftfy-6.0.3.tar.gz (64 kB)\n",
      "     |████████████████████████████████| 64 kB 514 kB/s            \n",
      "\u001b[?25h  Preparing metadata (setup.py) ... \u001b[?25ldone\n",
      "\u001b[?25hRequirement already satisfied: wcwidth in /opt/conda/lib/python3.7/site-packages (from ftfy<7.0,>=6.0->clean-text) (0.2.5)\n",
      "Building wheels for collected packages: ftfy\n",
      "  Building wheel for ftfy (setup.py) ... \u001b[?25ldone\n",
      "\u001b[?25h  Created wheel for ftfy: filename=ftfy-6.0.3-py3-none-any.whl size=41933 sha256=50124ba8d6ac780114f304a8c4f380d9852f4abc52d9bdd438cffb094f388f61\n",
      "  Stored in directory: /root/.cache/pip/wheels/19/f5/38/273eb3b5e76dfd850619312f693716ac4518b498f5ffb6f56d\n",
      "Successfully built ftfy\n",
      "Installing collected packages: ftfy, clean-text\n",
      "Successfully installed clean-text-0.5.0 ftfy-6.0.3\n",
      "\u001b[33mWARNING: Running pip as the 'root' user can result in broken permissions and conflicting behaviour with the system package manager. It is recommended to use a virtual environment instead: https://pip.pypa.io/warnings/venv\u001b[0m\n"
     ]
    }
   ],
   "source": [
    "!pip install clean-text"
   ]
  },
  {
   "cell_type": "code",
   "execution_count": 2,
   "metadata": {
    "execution": {
     "iopub.execute_input": "2021-12-24T16:58:53.637162Z",
     "iopub.status.busy": "2021-12-24T16:58:53.636896Z",
     "iopub.status.idle": "2021-12-24T16:58:54.334630Z",
     "shell.execute_reply": "2021-12-24T16:58:54.333925Z",
     "shell.execute_reply.started": "2021-12-24T16:58:53.637124Z"
    }
   },
   "outputs": [],
   "source": [
    "import numpy as np\n",
    "import pandas as pd\n",
    "import matplotlib.pyplot as plt\n",
    "\n",
    "import re\n",
    "from cleantext import clean\n",
    "\n",
    "from tqdm.auto import tqdm\n",
    "tqdm.pandas()\n",
    "\n",
    "pd.options.display.max_colwidth = None"
   ]
  },
  {
   "cell_type": "code",
   "execution_count": 3,
   "metadata": {
    "execution": {
     "iopub.execute_input": "2021-12-24T16:58:54.336204Z",
     "iopub.status.busy": "2021-12-24T16:58:54.335937Z",
     "iopub.status.idle": "2021-12-24T16:58:59.033408Z",
     "shell.execute_reply": "2021-12-24T16:58:59.032684Z",
     "shell.execute_reply.started": "2021-12-24T16:58:54.336158Z"
    }
   },
   "outputs": [],
   "source": [
    "import tensorflow as tf\n",
    "from tensorflow import keras\n",
    "from tensorflow.keras import layers as L\n",
    "from tensorflow.keras.preprocessing.text import Tokenizer\n",
    "from tensorflow.keras.preprocessing.sequence import pad_sequences"
   ]
  },
  {
   "cell_type": "markdown",
   "metadata": {},
   "source": [
    "# Data Preparation"
   ]
  },
  {
   "cell_type": "code",
   "execution_count": 4,
   "metadata": {
    "_cell_guid": "b1076dfc-b9ad-4769-8c92-a6c4dae69d19",
    "_uuid": "8f2839f25d086af736a60e9eeb907d3b93b6e0e5",
    "execution": {
     "iopub.execute_input": "2021-12-24T16:58:59.035751Z",
     "iopub.status.busy": "2021-12-24T16:58:59.035419Z",
     "iopub.status.idle": "2021-12-24T16:58:59.066682Z",
     "shell.execute_reply": "2021-12-24T16:58:59.065910Z",
     "shell.execute_reply.started": "2021-12-24T16:58:59.035712Z"
    }
   },
   "outputs": [
    {
     "name": "stdout",
     "output_type": "stream",
     "text": [
      "2991\n"
     ]
    },
    {
     "data": {
      "text/html": [
       "<div>\n",
       "<style scoped>\n",
       "    .dataframe tbody tr th:only-of-type {\n",
       "        vertical-align: middle;\n",
       "    }\n",
       "\n",
       "    .dataframe tbody tr th {\n",
       "        vertical-align: top;\n",
       "    }\n",
       "\n",
       "    .dataframe thead th {\n",
       "        text-align: right;\n",
       "    }\n",
       "</style>\n",
       "<table border=\"1\" class=\"dataframe\">\n",
       "  <thead>\n",
       "    <tr style=\"text-align: right;\">\n",
       "      <th></th>\n",
       "      <th>text</th>\n",
       "    </tr>\n",
       "  </thead>\n",
       "  <tbody>\n",
       "    <tr>\n",
       "      <th>0</th>\n",
       "      <td>I</td>\n",
       "    </tr>\n",
       "    <tr>\n",
       "      <th>1</th>\n",
       "      <td>Dhritirashtra:</td>\n",
       "    </tr>\n",
       "    <tr>\n",
       "      <th>2</th>\n",
       "      <td>Ranged thus for battle on the sacred plain--</td>\n",
       "    </tr>\n",
       "    <tr>\n",
       "      <th>3</th>\n",
       "      <td>On Kurukshetra--say, Sanjaya! say</td>\n",
       "    </tr>\n",
       "    <tr>\n",
       "      <th>4</th>\n",
       "      <td>What wrought my people, and the Pandavas?</td>\n",
       "    </tr>\n",
       "  </tbody>\n",
       "</table>\n",
       "</div>"
      ],
      "text/plain": [
       "                                           text\n",
       "0                                             I\n",
       "1                                Dhritirashtra:\n",
       "2  Ranged thus for battle on the sacred plain--\n",
       "3             On Kurukshetra--say, Sanjaya! say\n",
       "4     What wrought my people, and the Pandavas?"
      ]
     },
     "execution_count": 4,
     "metadata": {},
     "output_type": "execute_result"
    }
   ],
   "source": [
    "with open('../input/bhagwat-gita-in-english/gita.txt') as f:\n",
    "    data = f.read()\n",
    "df = pd.DataFrame({'text': data.split('\\n')})\n",
    "print(len(df))\n",
    "df.head()  "
   ]
  },
  {
   "cell_type": "code",
   "execution_count": 5,
   "metadata": {
    "execution": {
     "iopub.execute_input": "2021-12-24T16:58:59.068389Z",
     "iopub.status.busy": "2021-12-24T16:58:59.068141Z",
     "iopub.status.idle": "2021-12-24T16:58:59.075892Z",
     "shell.execute_reply": "2021-12-24T16:58:59.075125Z",
     "shell.execute_reply.started": "2021-12-24T16:58:59.068355Z"
    }
   },
   "outputs": [],
   "source": [
    "clean_text = lambda x: clean(x,\n",
    "    fix_unicode=True,               # fix various unicode errors\n",
    "    to_ascii=True,                  # transliterate to closest ASCII representation\n",
    "    lower=True,                     # lowercase text\n",
    "    no_line_breaks=False,           # fully strip line breaks as opposed to only normalizing them\n",
    "    no_urls=True,                  # replace all URLs with a special token\n",
    "    no_emails=True,                # replace all email addresses with a special token\n",
    "    no_phone_numbers=True,         # replace all phone numbers with a special token\n",
    "    no_numbers=True,               # replace all numbers with a special token\n",
    "    no_digits=True,                # replace all digits with a special token\n",
    "    no_currency_symbols=False,      # replace all currency symbols with a special token\n",
    "    no_punct=False,                 # remove punctuations\n",
    "    replace_with_punct=\"\",          # instead of removing punctuations you may replace them\n",
    "    replace_with_url=\"\",\n",
    "    replace_with_email=\"\",\n",
    "    replace_with_phone_number=\"\",\n",
    "    replace_with_number=\"\",\n",
    "    replace_with_digit=\"\",\n",
    "    replace_with_currency_symbol=\"<CUR>\",\n",
    "    lang=\"en\"                       # set to 'de' for German special handling\n",
    ")"
   ]
  },
  {
   "cell_type": "code",
   "execution_count": 6,
   "metadata": {
    "execution": {
     "iopub.execute_input": "2021-12-24T16:58:59.077622Z",
     "iopub.status.busy": "2021-12-24T16:58:59.077247Z",
     "iopub.status.idle": "2021-12-24T16:59:00.196213Z",
     "shell.execute_reply": "2021-12-24T16:59:00.195403Z",
     "shell.execute_reply.started": "2021-12-24T16:58:59.077585Z"
    }
   },
   "outputs": [
    {
     "data": {
      "application/vnd.jupyter.widget-view+json": {
       "model_id": "dd37a3d2232e4974a0fa1ec429aa5215",
       "version_major": 2,
       "version_minor": 0
      },
      "text/plain": [
       "  0%|          | 0/2991 [00:00<?, ?it/s]"
      ]
     },
     "metadata": {},
     "output_type": "display_data"
    }
   ],
   "source": [
    "df['cleaned'] = df['text'].progress_apply(clean_text)\n",
    "df['cleaned'] = df['cleaned'].apply(lambda x: re.sub(r\"\\s\\W*\\s\", \"\", x))\n",
    "df['len'] = df['cleaned'].apply(lambda x: len(x.split()))"
   ]
  },
  {
   "cell_type": "code",
   "execution_count": 7,
   "metadata": {
    "execution": {
     "iopub.execute_input": "2021-12-24T16:59:00.197806Z",
     "iopub.status.busy": "2021-12-24T16:59:00.197552Z",
     "iopub.status.idle": "2021-12-24T16:59:00.481417Z",
     "shell.execute_reply": "2021-12-24T16:59:00.480559Z",
     "shell.execute_reply.started": "2021-12-24T16:59:00.197771Z"
    }
   },
   "outputs": [
    {
     "data": {
      "image/png": "[encoded data removed]",
      "text/plain": [
       "<Figure size 864x360 with 1 Axes>"
      ]
     },
     "metadata": {
      "needs_background": "light"
     },
     "output_type": "display_data"
    }
   ],
   "source": [
    "fig = plt.figure(figsize=(12, 5))\n",
    "fig.suptitle('Length of Sentences', fontsize=12)\n",
    "df['len'].plot.hist(bins=15);"
   ]
  },
  {
   "cell_type": "code",
   "execution_count": 8,
   "metadata": {
    "execution": {
     "iopub.execute_input": "2021-12-24T16:59:00.483412Z",
     "iopub.status.busy": "2021-12-24T16:59:00.483072Z",
     "iopub.status.idle": "2021-12-24T16:59:00.495644Z",
     "shell.execute_reply": "2021-12-24T16:59:00.494922Z",
     "shell.execute_reply.started": "2021-12-24T16:59:00.483364Z"
    }
   },
   "outputs": [],
   "source": [
    "df = df[df['len'] > 1].drop_duplicates(subset=['cleaned']).reset_index(drop=True)"
   ]
  },
  {
   "cell_type": "code",
   "execution_count": 9,
   "metadata": {
    "execution": {
     "iopub.execute_input": "2021-12-24T16:59:00.498030Z",
     "iopub.status.busy": "2021-12-24T16:59:00.497311Z",
     "iopub.status.idle": "2021-12-24T16:59:00.547179Z",
     "shell.execute_reply": "2021-12-24T16:59:00.546450Z",
     "shell.execute_reply.started": "2021-12-24T16:59:00.497985Z"
    }
   },
   "outputs": [],
   "source": [
    "y = df.cleaned.values.tolist()\n",
    "\n",
    "tokenizer = Tokenizer(filters='!\"#$%&()*+,-./:;<=>?@^_`{|}~\\t\\n')\n",
    "tokenizer.fit_on_texts(y)\n",
    "mask_token_id = len(tokenizer.word_index)+1\n",
    "tokenizer.word_index.update({'[mask]': mask_token_id})"
   ]
  },
  {
   "cell_type": "code",
   "execution_count": 10,
   "metadata": {
    "execution": {
     "iopub.execute_input": "2021-12-24T16:59:00.550327Z",
     "iopub.status.busy": "2021-12-24T16:59:00.550028Z",
     "iopub.status.idle": "2021-12-24T16:59:00.555085Z",
     "shell.execute_reply": "2021-12-24T16:59:00.554057Z",
     "shell.execute_reply.started": "2021-12-24T16:59:00.550287Z"
    }
   },
   "outputs": [],
   "source": [
    "def get_masked_input(sequence):\n",
    "    mask = np.random.randint(low=0, high=len(sequence))\n",
    "    return [token if i != mask else mask_token_id for i, token in enumerate(sequence)]"
   ]
  },
  {
   "cell_type": "code",
   "execution_count": 11,
   "metadata": {
    "execution": {
     "iopub.execute_input": "2021-12-24T16:59:00.557157Z",
     "iopub.status.busy": "2021-12-24T16:59:00.556675Z",
     "iopub.status.idle": "2021-12-24T16:59:00.563253Z",
     "shell.execute_reply": "2021-12-24T16:59:00.562248Z",
     "shell.execute_reply.started": "2021-12-24T16:59:00.557118Z"
    }
   },
   "outputs": [],
   "source": [
    "VOCAB = len(tokenizer.word_index)\n",
    "MAX_SEQ_LEN = 15\n",
    "EMBEDDING_VECTOR_LENGTH = 32\n",
    "N_LSTM_CELLS = 265\n",
    "RECURRENT_DROPOUT = 0.5"
   ]
  },
  {
   "cell_type": "code",
   "execution_count": 12,
   "metadata": {
    "execution": {
     "iopub.execute_input": "2021-12-24T16:59:00.565375Z",
     "iopub.status.busy": "2021-12-24T16:59:00.565006Z",
     "iopub.status.idle": "2021-12-24T16:59:00.749528Z",
     "shell.execute_reply": "2021-12-24T16:59:00.748755Z",
     "shell.execute_reply.started": "2021-12-24T16:59:00.565336Z"
    }
   },
   "outputs": [
    {
     "data": {
      "text/plain": [
       "((2632, 15), (2632, 15, 3460))"
      ]
     },
     "execution_count": 12,
     "metadata": {},
     "output_type": "execute_result"
    }
   ],
   "source": [
    "y = tokenizer.texts_to_sequences(y)\n",
    "x = [get_masked_input(seq) for seq in y]\n",
    "x = pad_sequences(x, maxlen=MAX_SEQ_LEN, padding='post')\n",
    "y = pad_sequences(y, maxlen=MAX_SEQ_LEN, padding='post')\n",
    "y = keras.utils.to_categorical(y)\n",
    "\n",
    "x.shape, y.shape"
   ]
  },
  {
   "cell_type": "markdown",
   "metadata": {},
   "source": [
    "# Model"
   ]
  },
  {
   "cell_type": "code",
   "execution_count": 13,
   "metadata": {
    "execution": {
     "iopub.execute_input": "2021-12-24T16:59:00.751323Z",
     "iopub.status.busy": "2021-12-24T16:59:00.751024Z",
     "iopub.status.idle": "2021-12-24T16:59:03.886641Z",
     "shell.execute_reply": "2021-12-24T16:59:03.885805Z",
     "shell.execute_reply.started": "2021-12-24T16:59:00.751285Z"
    }
   },
   "outputs": [
    {
     "name": "stderr",
     "output_type": "stream",
     "text": [
      "2021-12-24 16:59:00.823359: I tensorflow/stream_executor/cuda/cuda_gpu_executor.cc:937] successful NUMA node read from SysFS had negative value (-1), but there must be at least one NUMA node, so returning NUMA node zero\n",
      "2021-12-24 16:59:00.909817: I tensorflow/stream_executor/cuda/cuda_gpu_executor.cc:937] successful NUMA node read from SysFS had negative value (-1), but there must be at least one NUMA node, so returning NUMA node zero\n",
      "2021-12-24 16:59:00.910574: I tensorflow/stream_executor/cuda/cuda_gpu_executor.cc:937] successful NUMA node read from SysFS had negative value (-1), but there must be at least one NUMA node, so returning NUMA node zero\n",
      "2021-12-24 16:59:00.911722: I tensorflow/core/platform/cpu_feature_guard.cc:142] This TensorFlow binary is optimized with oneAPI Deep Neural Network Library (oneDNN) to use the following CPU instructions in performance-critical operations:  AVX2 AVX512F FMA\n",
      "To enable them in other operations, rebuild TensorFlow with the appropriate compiler flags.\n",
      "2021-12-24 16:59:00.912451: I tensorflow/stream_executor/cuda/cuda_gpu_executor.cc:937] successful NUMA node read from SysFS had negative value (-1), but there must be at least one NUMA node, so returning NUMA node zero\n",
      "2021-12-24 16:59:00.913105: I tensorflow/stream_executor/cuda/cuda_gpu_executor.cc:937] successful NUMA node read from SysFS had negative value (-1), but there must be at least one NUMA node, so returning NUMA node zero\n",
      "2021-12-24 16:59:00.913728: I tensorflow/stream_executor/cuda/cuda_gpu_executor.cc:937] successful NUMA node read from SysFS had negative value (-1), but there must be at least one NUMA node, so returning NUMA node zero\n",
      "2021-12-24 16:59:02.615457: I tensorflow/stream_executor/cuda/cuda_gpu_executor.cc:937] successful NUMA node read from SysFS had negative value (-1), but there must be at least one NUMA node, so returning NUMA node zero\n",
      "2021-12-24 16:59:02.616257: I tensorflow/stream_executor/cuda/cuda_gpu_executor.cc:937] successful NUMA node read from SysFS had negative value (-1), but there must be at least one NUMA node, so returning NUMA node zero\n",
      "2021-12-24 16:59:02.616898: I tensorflow/stream_executor/cuda/cuda_gpu_executor.cc:937] successful NUMA node read from SysFS had negative value (-1), but there must be at least one NUMA node, so returning NUMA node zero\n",
      "2021-12-24 16:59:02.617497: I tensorflow/core/common_runtime/gpu/gpu_device.cc:1510] Created device /job:localhost/replica:0/task:0/device:GPU:0 with 15403 MB memory:  -> device: 0, name: Tesla P100-PCIE-16GB, pci bus id: 0000:00:04.0, compute capability: 6.0\n"
     ]
    },
    {
     "name": "stdout",
     "output_type": "stream",
     "text": [
      "Model: \"sequential\"\n",
      "_________________________________________________________________\n",
      "Layer (type)                 Output Shape              Param #   \n",
      "=================================================================\n",
      "embedding (Embedding)        (None, 15, 32)            110720    \n",
      "_________________________________________________________________\n",
      "bidirectional (Bidirectional (None, 15, 530)           631760    \n",
      "_________________________________________________________________\n",
      "time_distributed (TimeDistri (None, 15, 3460)          1837260   \n",
      "=================================================================\n",
      "Total params: 2,579,740\n",
      "Trainable params: 2,579,740\n",
      "Non-trainable params: 0\n",
      "_________________________________________________________________\n"
     ]
    },
    {
     "data": {
      "image/png": "[encoded data removed]",
      "text/plain": [
       "<IPython.core.display.Image object>"
      ]
     },
     "execution_count": 13,
     "metadata": {},
     "output_type": "execute_result"
    }
   ],
   "source": [
    "model = keras.models.Sequential([\n",
    "    L.Embedding(input_dim=VOCAB, output_dim=EMBEDDING_VECTOR_LENGTH, input_length=MAX_SEQ_LEN),\n",
    "    L.Bidirectional(L.LSTM(N_LSTM_CELLS, return_sequences=True, recurrent_dropout=RECURRENT_DROPOUT)),\n",
    "    L.TimeDistributed(L.Dense(VOCAB, activation='softmax'))\n",
    "])\n",
    "\n",
    "model.compile(loss='categorical_crossentropy', optimizer='adam', metrics=['acc'])\n",
    "\n",
    "model.summary()\n",
    "keras.utils.plot_model(model, show_shapes=True)"
   ]
  },
  {
   "cell_type": "markdown",
   "metadata": {},
   "source": [
    "# Training"
   ]
  },
  {
   "cell_type": "code",
   "execution_count": 14,
   "metadata": {
    "execution": {
     "iopub.execute_input": "2021-12-24T16:59:03.888925Z",
     "iopub.status.busy": "2021-12-24T16:59:03.888222Z",
     "iopub.status.idle": "2021-12-24T17:02:04.655976Z",
     "shell.execute_reply": "2021-12-24T17:02:04.654655Z",
     "shell.execute_reply.started": "2021-12-24T16:59:03.888866Z"
    }
   },
   "outputs": [
    {
     "name": "stderr",
     "output_type": "stream",
     "text": [
      "2021-12-24 16:59:04.846898: I tensorflow/compiler/mlir/mlir_graph_optimization_pass.cc:185] None of the MLIR Optimization Passes are enabled (registered 2)\n"
     ]
    },
    {
     "name": "stdout",
     "output_type": "stream",
     "text": [
      "Epoch 1/100\n",
      "74/74 [==============================] - 8s 62ms/step - loss: 4.4576 - acc: 0.5066 - val_loss: 3.4712 - val_acc: 0.5167\n",
      "Epoch 2/100\n",
      "74/74 [==============================] - 4s 52ms/step - loss: 3.3759 - acc: 0.5240 - val_loss: 3.3948 - val_acc: 0.5275\n",
      "Epoch 3/100\n",
      "74/74 [==============================] - 4s 52ms/step - loss: 3.2502 - acc: 0.5315 - val_loss: 3.3216 - val_acc: 0.5303\n",
      "Epoch 4/100\n",
      "74/74 [==============================] - 4s 56ms/step - loss: 3.1382 - acc: 0.5349 - val_loss: 3.2153 - val_acc: 0.5308\n",
      "Epoch 5/100\n",
      "74/74 [==============================] - 4s 53ms/step - loss: 3.0278 - acc: 0.5398 - val_loss: 3.1336 - val_acc: 0.5356\n",
      "Epoch 6/100\n",
      "74/74 [==============================] - 4s 57ms/step - loss: 2.9359 - acc: 0.5439 - val_loss: 3.0693 - val_acc: 0.5556\n",
      "Epoch 7/100\n",
      "74/74 [==============================] - 4s 56ms/step - loss: 2.8472 - acc: 0.5568 - val_loss: 3.0112 - val_acc: 0.5682\n",
      "Epoch 8/100\n",
      "74/74 [==============================] - 4s 53ms/step - loss: 2.7408 - acc: 0.5712 - val_loss: 2.9299 - val_acc: 0.5707\n",
      "Epoch 9/100\n",
      "74/74 [==============================] - 4s 51ms/step - loss: 2.6144 - acc: 0.5817 - val_loss: 2.8333 - val_acc: 0.5889\n",
      "Epoch 10/100\n",
      "74/74 [==============================] - 4s 54ms/step - loss: 2.4764 - acc: 0.5957 - val_loss: 2.7407 - val_acc: 0.6043\n",
      "Epoch 11/100\n",
      "74/74 [==============================] - 4s 51ms/step - loss: 2.3319 - acc: 0.6150 - val_loss: 2.6446 - val_acc: 0.6301\n",
      "Epoch 12/100\n",
      "74/74 [==============================] - 4s 51ms/step - loss: 2.1734 - acc: 0.6381 - val_loss: 2.5475 - val_acc: 0.6477\n",
      "Epoch 13/100\n",
      "74/74 [==============================] - 4s 54ms/step - loss: 2.0110 - acc: 0.6599 - val_loss: 2.4668 - val_acc: 0.6740\n",
      "Epoch 14/100\n",
      "74/74 [==============================] - 4s 56ms/step - loss: 1.8446 - acc: 0.6791 - val_loss: 2.3949 - val_acc: 0.6891\n",
      "Epoch 15/100\n",
      "74/74 [==============================] - 4s 53ms/step - loss: 1.6759 - acc: 0.7003 - val_loss: 2.3286 - val_acc: 0.7033\n",
      "Epoch 16/100\n",
      "74/74 [==============================] - 4s 50ms/step - loss: 1.5078 - acc: 0.7259 - val_loss: 2.2761 - val_acc: 0.7225\n",
      "Epoch 17/100\n",
      "74/74 [==============================] - 4s 51ms/step - loss: 1.3469 - acc: 0.7537 - val_loss: 2.2256 - val_acc: 0.7321\n",
      "Epoch 18/100\n",
      "74/74 [==============================] - 4s 55ms/step - loss: 1.1928 - acc: 0.7854 - val_loss: 2.1801 - val_acc: 0.7384\n",
      "Epoch 19/100\n",
      "74/74 [==============================] - 4s 51ms/step - loss: 1.0474 - acc: 0.8167 - val_loss: 2.1306 - val_acc: 0.7497\n",
      "Epoch 20/100\n",
      "74/74 [==============================] - 4s 51ms/step - loss: 0.9139 - acc: 0.8442 - val_loss: 2.0963 - val_acc: 0.7598\n",
      "Epoch 21/100\n",
      "74/74 [==============================] - 4s 55ms/step - loss: 0.7963 - acc: 0.8684 - val_loss: 2.0701 - val_acc: 0.7639\n",
      "Epoch 22/100\n",
      "74/74 [==============================] - 4s 51ms/step - loss: 0.6906 - acc: 0.8891 - val_loss: 2.0429 - val_acc: 0.7697\n",
      "Epoch 23/100\n",
      "74/74 [==============================] - 4s 54ms/step - loss: 0.6001 - acc: 0.9058 - val_loss: 2.0100 - val_acc: 0.7763\n",
      "Epoch 24/100\n",
      "74/74 [==============================] - 4s 54ms/step - loss: 0.5244 - acc: 0.9202 - val_loss: 1.9890 - val_acc: 0.7816\n",
      "Epoch 25/100\n",
      "74/74 [==============================] - 4s 50ms/step - loss: 0.4588 - acc: 0.9314 - val_loss: 1.9808 - val_acc: 0.7828\n",
      "Epoch 26/100\n",
      "74/74 [==============================] - 4s 51ms/step - loss: 0.4041 - acc: 0.9400 - val_loss: 1.9632 - val_acc: 0.7874\n",
      "Epoch 27/100\n",
      "74/74 [==============================] - 4s 54ms/step - loss: 0.3565 - acc: 0.9485 - val_loss: 1.9513 - val_acc: 0.7896\n",
      "Epoch 28/100\n",
      "74/74 [==============================] - 4s 50ms/step - loss: 0.3154 - acc: 0.9545 - val_loss: 1.9386 - val_acc: 0.7919\n",
      "Epoch 29/100\n",
      "74/74 [==============================] - 4s 51ms/step - loss: 0.2806 - acc: 0.9598 - val_loss: 1.9283 - val_acc: 0.7942\n",
      "Epoch 30/100\n",
      "74/74 [==============================] - 4s 53ms/step - loss: 0.2505 - acc: 0.9649 - val_loss: 1.9275 - val_acc: 0.7939\n",
      "Epoch 31/100\n",
      "74/74 [==============================] - 4s 56ms/step - loss: 0.2227 - acc: 0.9697 - val_loss: 1.9178 - val_acc: 0.7977\n",
      "Epoch 32/100\n",
      "74/74 [==============================] - 4s 54ms/step - loss: 0.1998 - acc: 0.9728 - val_loss: 1.9213 - val_acc: 0.7970\n",
      "Epoch 33/100\n",
      "74/74 [==============================] - 4s 51ms/step - loss: 0.1804 - acc: 0.9758 - val_loss: 1.9157 - val_acc: 0.7990\n",
      "Epoch 34/100\n",
      "74/74 [==============================] - 4s 52ms/step - loss: 0.1617 - acc: 0.9787 - val_loss: 1.9210 - val_acc: 0.7995\n",
      "Epoch 35/100\n",
      "74/74 [==============================] - 4s 53ms/step - loss: 0.1473 - acc: 0.9808 - val_loss: 1.9101 - val_acc: 0.8028\n",
      "Epoch 36/100\n",
      "74/74 [==============================] - 4s 51ms/step - loss: 0.1320 - acc: 0.9832 - val_loss: 1.9163 - val_acc: 0.8010\n",
      "Epoch 37/100\n",
      "74/74 [==============================] - 4s 50ms/step - loss: 0.1231 - acc: 0.9841 - val_loss: 1.9164 - val_acc: 0.8008\n",
      "Epoch 38/100\n",
      "74/74 [==============================] - 4s 54ms/step - loss: 0.1103 - acc: 0.9862 - val_loss: 1.9120 - val_acc: 0.8018\n",
      "\n",
      "Epoch 00038: ReduceLROnPlateau reducing learning rate to 0.00010000000474974513.\n",
      "Epoch 39/100\n",
      "74/74 [==============================] - 4s 57ms/step - loss: 0.0935 - acc: 0.9903 - val_loss: 1.9116 - val_acc: 0.8033\n",
      "Epoch 40/100\n",
      "74/74 [==============================] - 4s 51ms/step - loss: 0.0917 - acc: 0.9897 - val_loss: 1.9114 - val_acc: 0.8033\n",
      "Epoch 41/100\n",
      "74/74 [==============================] - 4s 54ms/step - loss: 0.0896 - acc: 0.9905 - val_loss: 1.9117 - val_acc: 0.8035\n",
      "\n",
      "Epoch 00041: ReduceLROnPlateau reducing learning rate to 1.0000000474974514e-05.\n",
      "Epoch 42/100\n",
      "74/74 [==============================] - 4s 50ms/step - loss: 0.0881 - acc: 0.9906 - val_loss: 1.9117 - val_acc: 0.8035\n",
      "Epoch 43/100\n",
      "74/74 [==============================] - 4s 49ms/step - loss: 0.0882 - acc: 0.9903 - val_loss: 1.9118 - val_acc: 0.8035\n",
      "Epoch 44/100\n",
      "74/74 [==============================] - 4s 53ms/step - loss: 0.0878 - acc: 0.9907 - val_loss: 1.9118 - val_acc: 0.8035\n",
      "\n",
      "Epoch 00044: ReduceLROnPlateau reducing learning rate to 1.0000000656873453e-06.\n",
      "Epoch 45/100\n",
      "74/74 [==============================] - 4s 50ms/step - loss: 0.0877 - acc: 0.9909 - val_loss: 1.9118 - val_acc: 0.8035\n",
      "Restoring model weights from the end of the best epoch.\n",
      "Epoch 00045: early stopping\n"
     ]
    }
   ],
   "source": [
    "es = keras.callbacks.EarlyStopping(monitor='val_loss', mode='min', verbose=1, patience=10, restore_best_weights=True)\n",
    "rlp = keras.callbacks.ReduceLROnPlateau(monitor='val_loss', patience=3, verbose=1)\n",
    "history = model.fit(x=x, y=y, validation_split=0.1, callbacks=[es, rlp], epochs=100)"
   ]
  },
  {
   "cell_type": "code",
   "execution_count": 15,
   "metadata": {
    "execution": {
     "iopub.execute_input": "2021-12-24T17:02:04.657494Z",
     "iopub.status.busy": "2021-12-24T17:02:04.657230Z",
     "iopub.status.idle": "2021-12-24T17:02:05.024005Z",
     "shell.execute_reply": "2021-12-24T17:02:05.023329Z",
     "shell.execute_reply.started": "2021-12-24T17:02:04.657457Z"
    }
   },
   "outputs": [
    {
     "data": {
      "image/png": "[encoded data removed]",
      "text/plain": [
       "<Figure size 1440x576 with 2 Axes>"
      ]
     },
     "metadata": {
      "needs_background": "light"
     },
     "output_type": "display_data"
    }
   ],
   "source": [
    "fig, ax = plt.subplots(2, 1, figsize=(20, 8))\n",
    "metrics = pd.DataFrame(history.history)\n",
    "metrics[['acc', 'val_acc']].plot(ax=ax[0])\n",
    "metrics[['loss', 'val_loss']].plot(ax=ax[1])\n",
    "ax[0].set_title('Model Accuracy', fontsize=12)\n",
    "ax[1].set_title('Model Loss', fontsize=12)\n",
    "fig.suptitle('Model Metrics', fontsize=18);"
   ]
  },
  {
   "cell_type": "markdown",
   "metadata": {},
   "source": [
    "# Inference"
   ]
  },
  {
   "cell_type": "code",
   "execution_count": 16,
   "metadata": {
    "execution": {
     "iopub.execute_input": "2021-12-24T17:02:05.025556Z",
     "iopub.status.busy": "2021-12-24T17:02:05.025188Z",
     "iopub.status.idle": "2021-12-24T17:02:05.134677Z",
     "shell.execute_reply": "2021-12-24T17:02:05.133985Z",
     "shell.execute_reply.started": "2021-12-24T17:02:05.025515Z"
    }
   },
   "outputs": [
    {
     "data": {
      "text/plain": [
       "'to die performing worshipping is no ill'"
      ]
     },
     "execution_count": 16,
     "metadata": {},
     "output_type": "execute_result"
    }
   ],
   "source": [
    "query = \"to die performing [mask] is no ill;\"\n",
    "query_token_ids = tokenizer.texts_to_sequences([query])\n",
    "query_token_ids = pad_sequences(query_token_ids, maxlen=MAX_SEQ_LEN, padding='post')\n",
    "\n",
    "pred = model(query_token_ids)\n",
    "pred_seq = np.ravel(pred.numpy().argmax(axis=-1))\n",
    "pred_text = ' '.join(tokenizer.index_word[token] for token in pred_seq if token != 0)\n",
    "pred_text"
   ]
  },
  {
   "cell_type": "code",
   "execution_count": null,
   "metadata": {},
   "outputs": [],
   "source": []
  }
 ],
 "metadata": {
  "kernelspec": {
   "display_name": "Python 3",
   "language": "python",
   "name": "python3"
  },
  "language_info": {
   "codemirror_mode": {
    "name": "ipython",
    "version": 3
   },
   "file_extension": ".py",
   "mimetype": "text/x-python",
   "name": "python",
   "nbconvert_exporter": "python",
   "pygments_lexer": "ipython3",
   "version": "3.8.8"
  }
 },
 "nbformat": 4,
 "nbformat_minor": 4
}
