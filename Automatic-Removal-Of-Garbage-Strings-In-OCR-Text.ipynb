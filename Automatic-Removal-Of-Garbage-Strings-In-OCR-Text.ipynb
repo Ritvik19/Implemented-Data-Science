{
 "cells": [
  {
   "cell_type": "markdown",
   "id": "321611c2",
   "metadata": {
    "_cell_guid": "b1076dfc-b9ad-4769-8c92-a6c4dae69d19",
    "_uuid": "8f2839f25d086af736a60e9eeb907d3b93b6e0e5",
    "papermill": {
     "duration": 0.007918,
     "end_time": "2022-01-13T08:59:55.381061",
     "exception": false,
     "start_time": "2022-01-13T08:59:55.373143",
     "status": "completed"
    },
    "tags": []
   },
   "source": [
    "# Automatic Removal of \"Garbage Strings\" in OCR Text: An Implementation\n",
    "\n",
    "This notebook is a python implementation of the Paper `Automatic Removal of \"Garbage Strings\" in OCR Text: An Implementation` \n",
    "\n",
    "The paper describes certain rules to identify \"Garbage Strings\". \n",
    "\n",
    "Apart from the rules mentioned in the original paper, I have implemented a few more rules which I have found important.\n",
    "\n",
    "Link to the original paper: [10.1.1.81.8901](https://citeseerx.ist.psu.edu/viewdoc/download?doi=10.1.1.81.8901&rep=rep1&type=pdf)"
   ]
  },
  {
   "cell_type": "code",
   "execution_count": 1,
   "id": "f7c60617",
   "metadata": {
    "execution": {
     "iopub.execute_input": "2022-01-13T08:59:55.433838Z",
     "iopub.status.busy": "2022-01-13T08:59:55.408305Z",
     "iopub.status.idle": "2022-01-13T08:59:55.444969Z",
     "shell.execute_reply": "2022-01-13T08:59:55.444214Z",
     "shell.execute_reply.started": "2022-01-13T08:57:42.452400Z"
    },
    "papermill": {
     "duration": 0.056021,
     "end_time": "2022-01-13T08:59:55.445170",
     "exception": false,
     "start_time": "2022-01-13T08:59:55.389149",
     "status": "completed"
    },
    "tags": []
   },
   "outputs": [],
   "source": [
    "import re\n",
    "\n",
    "\n",
    "class GarbageStringDetector(object):\n",
    "    def __init__(self, rules=None):\n",
    "        self.rules = list(\"LARVPC\") if rules is None else rules\n",
    "\n",
    "    def too_long(self, string):\n",
    "        \"\"\"\n",
    "        Rule L\n",
    "        ======\n",
    "        tests whether the string passed is more than 40 characters, if\n",
    "        yes. It is garbage!\n",
    "        :param string: string to be tested\n",
    "        :returns: either True or False\n",
    "        \"\"\"\n",
    "        return True if max(list(map(len, string.split()))) > 40 else False\n",
    "\n",
    "    def bad_alnum_ratio(self, string):\n",
    "        \"\"\"\n",
    "        Rule A\n",
    "        ======\n",
    "        if a string's ratio of alphanumeric characters to total characters is\n",
    "        less than 50%, the string is garbage\n",
    "        :param string: string to be tested\n",
    "        :returns: either True or False\n",
    "        \"\"\"\n",
    "\n",
    "        pattern = re.compile(\"[\\W_]+\")\n",
    "        alnum_thresholds = {\n",
    "            1: 0,     # single chars can be non-alphanumeric\n",
    "            2: 0,     # so can doublets\n",
    "            3: 0.32,  # at least one of three should be alnum\n",
    "            4: 0.24,  # at least one of four should be alnum\n",
    "            5: 0.39,  # at least two of five should be alnum\n",
    "        } \n",
    "\n",
    "        threshold = (\n",
    "            alnum_thresholds[len(string)] if len(string) in alnum_thresholds else 0.5\n",
    "        )\n",
    "\n",
    "        if len(string) == 0:\n",
    "            return True\n",
    "        return bool(float(len(pattern.sub(\"\", string))) / len(string) < threshold)\n",
    "\n",
    "    def consecutive_four_identical(self, string):\n",
    "        \"\"\"\n",
    "        Rule R\n",
    "        ======\n",
    "        if a string has 4 identical characters in a row, it is garbage\n",
    "        :param string: string to be tested\n",
    "        :returns: either True or False\n",
    "        \"\"\"\n",
    "        pattern = re.compile(\n",
    "            r\"(([A-Za-z])\\2{3,})\"\n",
    "        )  # matches any 4 consecutive characters\n",
    "        return True if pattern.search(string) else False\n",
    "\n",
    "    def bad_consonant_vowel_ratio(self, string):\n",
    "        \"\"\"\n",
    "        Rule V\n",
    "        ======\n",
    "        if a string has nothing but alphabetic characters, look at the\n",
    "        number of consonants and vowels. If the number of one is less than 10%\n",
    "        of the number of the other, then the string is garbage.\n",
    "        This includes a length threshold.\n",
    "        :param string: string to be tested\n",
    "        :returns: either True or False\n",
    "        \"\"\"\n",
    "        alpha_string = list(filter(str.isalpha, string))\n",
    "        vowel_count = sum(1 for char in alpha_string if char in \"aeiouAEIOU\")\n",
    "        consonant_count = len(alpha_string) - vowel_count\n",
    "\n",
    "        if consonant_count > 0 and vowel_count > 0:\n",
    "            ratio = float(vowel_count) / consonant_count\n",
    "            if ratio < 0.1 or ratio > 10:\n",
    "                return True\n",
    "        elif vowel_count == 0 and consonant_count > len(\"rhythms\"):\n",
    "            return True\n",
    "        elif consonant_count == 0 and vowel_count > len(\"IEEE\"):\n",
    "            return True\n",
    "\n",
    "        return False\n",
    "\n",
    "    def has_two_distinct_puncts_inside(self, string):\n",
    "        \"\"\"\n",
    "        Rule P\n",
    "        ======\n",
    "        Strip off the first and last characters of a string. If there\n",
    "        are two distinct punctuation characters in the result, then the string\n",
    "        is garbage\n",
    "        Customisation\n",
    "        =============\n",
    "        stripping off the last TWO characters as false positives\n",
    "        included those ending with ').' and similar.\n",
    "        :param string: string to be tested\n",
    "        :returns: either True or False\n",
    "        \"\"\"\n",
    "        for token in string.split():\n",
    "            non_alnum_string = \"\".join(\n",
    "                char for char in token[1:-2] if not char.isalnum()\n",
    "            )\n",
    "            for char in non_alnum_string[1:]:\n",
    "                if char != non_alnum_string[0]:\n",
    "                    return True\n",
    "        return False\n",
    "\n",
    "    def has_uppercase_within_lowercase(self, string):\n",
    "        \"\"\"\n",
    "        Rule C\n",
    "        ======\n",
    "        If a string begins and ends with a lowercase letter, then if\n",
    "        the string contains an uppercase letter anywhere in between, then it\n",
    "        is removed as garbage.\n",
    "        Customisation\n",
    "        =============\n",
    "        false positive on \"needed.The\". Exclude fullstop-capital.\n",
    "        Extra customisation: Exclude hyphen-capital, apostrophe-capital and\n",
    "        forwardslash-capital\n",
    "        :param string: string to be tested\n",
    "        :returns: either True or False\n",
    "        \"\"\"\n",
    "        if string and string[0].islower() and string[-1].islower():\n",
    "            string_middle = string[1:-1]\n",
    "            for index, char in enumerate(string_middle):\n",
    "                if char.isupper() and not (\n",
    "                    index > 0 and string_middle[index - 1] in \".-'\"\n",
    "                ):\n",
    "                    return True\n",
    "        return False\n",
    "\n",
    "    def low_avg_token_len(self, string):\n",
    "        \"\"\"\n",
    "        Rule M (not mentioned in the original paper)\n",
    "        ======\n",
    "        tests whether the string passed has average token length greater than 3, if\n",
    "        no. It is garbage!\n",
    "        :param string: string to be tested\n",
    "        :returns: either True or False\n",
    "        \"\"\"\n",
    "        return bool(sum(list(map(len, string.split()))) / len(string.split()) <= 3)\n",
    "\n",
    "    def __call__(self, string):\n",
    "        \"\"\"\n",
    "        passes the string to check for every rule and if any match is found\n",
    "        , it returns that rule\n",
    "        :param string: string to be tested\n",
    "        :returns: either matched rule or False\n",
    "        \"\"\"\n",
    "\n",
    "        if \"L\" in self.rules and self.too_long(string):\n",
    "            return \"L\"\n",
    "        if \"A\" in self.rules and self.bad_alnum_ratio(string):\n",
    "            return \"A\"\n",
    "        if \"R\" in self.rules and self.consecutive_four_identical(string):\n",
    "            return \"R\"\n",
    "        if \"V\" in self.rules and self.bad_consonant_vowel_ratio(string):\n",
    "            return \"V\"\n",
    "        if \"P\" in self.rules and self.has_two_distinct_puncts_inside(string):\n",
    "            return \"P\"\n",
    "        if \"C\" in self.rules and self.has_uppercase_within_lowercase(string):\n",
    "            return \"C\"\n",
    "        if \"M\" in self.rules and self.low_avg_token_len(string):\n",
    "            return \"M\"\n",
    "        return False\n"
   ]
  },
  {
   "cell_type": "code",
   "execution_count": 2,
   "id": "d5c6028f",
   "metadata": {
    "execution": {
     "iopub.execute_input": "2022-01-13T08:59:55.462325Z",
     "iopub.status.busy": "2022-01-13T08:59:55.461502Z",
     "iopub.status.idle": "2022-01-13T08:59:55.465580Z",
     "shell.execute_reply": "2022-01-13T08:59:55.466343Z",
     "shell.execute_reply.started": "2022-01-13T08:58:13.013232Z"
    },
    "papermill": {
     "duration": 0.015747,
     "end_time": "2022-01-13T08:59:55.466531",
     "exception": false,
     "start_time": "2022-01-13T08:59:55.450784",
     "status": "completed"
    },
    "tags": []
   },
   "outputs": [
    {
     "name": "stdout",
     "output_type": "stream",
     "text": [
      "This                           False\n",
      "document                       False\n",
      "was                            False\n",
      "scanned                        False\n",
      "perfectly                      False\n"
     ]
    }
   ],
   "source": [
    "gsd = GarbageStringDetector()\n",
    "for token in \"This document was scanned perfectly\".split():\n",
    "    print(f\"{token:30} {gsd(token)}\")"
   ]
  },
  {
   "cell_type": "code",
   "execution_count": 3,
   "id": "316b3f33",
   "metadata": {
    "execution": {
     "iopub.execute_input": "2022-01-13T08:59:55.483090Z",
     "iopub.status.busy": "2022-01-13T08:59:55.481972Z",
     "iopub.status.idle": "2022-01-13T08:59:55.488566Z",
     "shell.execute_reply": "2022-01-13T08:59:55.489454Z",
     "shell.execute_reply.started": "2022-01-13T08:58:25.525357Z"
    },
    "papermill": {
     "duration": 0.016698,
     "end_time": "2022-01-13T08:59:55.489711",
     "exception": false,
     "start_time": "2022-01-13T08:59:55.473013",
     "status": "completed"
    },
    "tags": []
   },
   "outputs": [
    {
     "name": "stdout",
     "output_type": "stream",
     "text": [
      "This                           False\n",
      "3ccm@nt                        False\n",
      "w&s                            False\n",
      "scnnnnd                        R\n",
      "not                            False\n",
      "pe&;c1!y                       P\n"
     ]
    }
   ],
   "source": [
    "for token in \"This 3ccm@nt w&s scnnnnd not pe&;c1!y\".split():\n",
    "    print(f\"{token:30} {gsd(token)}\")"
   ]
  },
  {
   "cell_type": "code",
   "execution_count": null,
   "id": "efc5e78e",
   "metadata": {
    "papermill": {
     "duration": 0.007069,
     "end_time": "2022-01-13T08:59:55.505276",
     "exception": false,
     "start_time": "2022-01-13T08:59:55.498207",
     "status": "completed"
    },
    "tags": []
   },
   "outputs": [],
   "source": []
  }
 ],
 "metadata": {
  "kernelspec": {
   "display_name": "Python 3",
   "language": "python",
   "name": "python3"
  },
  "language_info": {
   "codemirror_mode": {
    "name": "ipython",
    "version": 3
   },
   "file_extension": ".py",
   "mimetype": "text/x-python",
   "name": "python",
   "nbconvert_exporter": "python",
   "pygments_lexer": "ipython3",
   "version": "3.7.12"
  },
  "papermill": {
   "default_parameters": {},
   "duration": 11.059112,
   "end_time": "2022-01-13T08:59:56.121701",
   "environment_variables": {},
   "exception": null,
   "input_path": "__notebook__.ipynb",
   "output_path": "__notebook__.ipynb",
   "parameters": {},
   "start_time": "2022-01-13T08:59:45.062589",
   "version": "2.3.3"
  }
 },
 "nbformat": 4,
 "nbformat_minor": 5
}
