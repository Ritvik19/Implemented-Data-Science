{
 "cells": [
  {
   "cell_type": "code",
   "execution_count": 1,
   "metadata": {
    "_kg_hide-output": true,
    "execution": {
     "iopub.execute_input": "2021-11-10T06:51:40.446868Z",
     "iopub.status.busy": "2021-11-10T06:51:40.446170Z",
     "iopub.status.idle": "2021-11-10T06:52:00.379577Z",
     "shell.execute_reply": "2021-11-10T06:52:00.378958Z",
     "shell.execute_reply.started": "2021-11-10T06:27:19.605310Z"
    },
    "papermill": {
     "duration": 19.952947,
     "end_time": "2021-11-10T06:52:00.379771",
     "exception": false,
     "start_time": "2021-11-10T06:51:40.426824",
     "status": "completed"
    },
    "tags": []
   },
   "outputs": [
    {
     "name": "stdout",
     "output_type": "stream",
     "text": [
      "\u001b[31mERROR: pip's dependency resolver does not currently take into account all the packages that are installed. This behaviour is the source of the following dependency conflicts.\r\n",
      "tensorflow 2.4.1 requires typing-extensions~=3.7.4, but you have typing-extensions 3.10.0.2 which is incompatible.\r\n",
      "bokeh 2.2.3 requires tornado>=5.1, but you have tornado 5.0.2 which is incompatible.\r\n",
      "aiobotocore 1.2.1 requires botocore<1.19.53,>=1.19.52, but you have botocore 1.20.11 which is incompatible.\u001b[0m\r\n",
      "\u001b[33mWARNING: You are using pip version 21.0.1; however, version 21.3.1 is available.\r\n",
      "You should consider upgrading via the '/opt/conda/bin/python -m pip install --upgrade pip' command.\u001b[0m\r\n",
      "Note: you may need to restart the kernel to use updated packages.\n"
     ]
    }
   ],
   "source": [
    "pip install -q faker"
   ]
  },
  {
   "cell_type": "code",
   "execution_count": 2,
   "metadata": {
    "_cell_guid": "b1076dfc-b9ad-4769-8c92-a6c4dae69d19",
    "_uuid": "8f2839f25d086af736a60e9eeb907d3b93b6e0e5",
    "execution": {
     "iopub.execute_input": "2021-11-10T06:52:00.416372Z",
     "iopub.status.busy": "2021-11-10T06:52:00.415614Z",
     "iopub.status.idle": "2021-11-10T06:52:01.151417Z",
     "shell.execute_reply": "2021-11-10T06:52:01.150355Z",
     "shell.execute_reply.started": "2021-11-10T06:27:37.544413Z"
    },
    "papermill": {
     "duration": 0.756179,
     "end_time": "2021-11-10T06:52:01.151567",
     "exception": false,
     "start_time": "2021-11-10T06:52:00.395388",
     "status": "completed"
    },
    "tags": []
   },
   "outputs": [],
   "source": [
    "import numpy as np\n",
    "import pandas as pd\n",
    "import matplotlib.pyplot as plt\n",
    "import seaborn as sns\n",
    "from tqdm.auto import tqdm\n",
    "import re, random\n",
    "\n",
    "from faker import Faker\n",
    "from babel.dates import format_date\n",
    "\n",
    "pd.options.display.max_colwidth = None\n",
    "sns.set_style('darkgrid')"
   ]
  },
  {
   "cell_type": "code",
   "execution_count": 3,
   "metadata": {
    "execution": {
     "iopub.execute_input": "2021-11-10T06:52:01.186487Z",
     "iopub.status.busy": "2021-11-10T06:52:01.185815Z",
     "iopub.status.idle": "2021-11-10T06:52:04.740392Z",
     "shell.execute_reply": "2021-11-10T06:52:04.741755Z",
     "shell.execute_reply.started": "2021-11-10T06:27:38.470668Z"
    },
    "papermill": {
     "duration": 3.575145,
     "end_time": "2021-11-10T06:52:04.742004",
     "exception": false,
     "start_time": "2021-11-10T06:52:01.166859",
     "status": "completed"
    },
    "tags": []
   },
   "outputs": [],
   "source": [
    "import tensorflow as tf\n",
    "from tensorflow.keras.preprocessing.text import Tokenizer\n",
    "from tensorflow.keras.preprocessing.sequence import pad_sequences\n",
    "from tensorflow.keras.models import Model, Sequential\n",
    "from tensorflow.keras import layers, losses, callbacks, utils, models, Input"
   ]
  },
  {
   "cell_type": "markdown",
   "metadata": {
    "papermill": {
     "duration": 0.014872,
     "end_time": "2021-11-10T06:52:04.778445",
     "exception": false,
     "start_time": "2021-11-10T06:52:04.763573",
     "status": "completed"
    },
    "tags": []
   },
   "source": [
    "# Data Generation"
   ]
  },
  {
   "cell_type": "code",
   "execution_count": 4,
   "metadata": {
    "execution": {
     "iopub.execute_input": "2021-11-10T06:52:04.815308Z",
     "iopub.status.busy": "2021-11-10T06:52:04.814614Z",
     "iopub.status.idle": "2021-11-10T06:52:04.817888Z",
     "shell.execute_reply": "2021-11-10T06:52:04.817190Z",
     "shell.execute_reply.started": "2021-11-10T06:27:42.318296Z"
    },
    "papermill": {
     "duration": 0.024409,
     "end_time": "2021-11-10T06:52:04.818036",
     "exception": false,
     "start_time": "2021-11-10T06:52:04.793627",
     "status": "completed"
    },
    "tags": []
   },
   "outputs": [],
   "source": [
    "class config():  \n",
    "    SAMPLE_SIZE = 10_00_000\n",
    "    \n",
    "    X_LEN = 30\n",
    "    LATENT_DIM = 8\n",
    "    Y_LEN = 13\n",
    "    \n",
    "    NUM_ENCODER_TOKENS = 35\n",
    "    NUM_DECODER_TOKENS = 13\n",
    "    \n",
    "    VALIDATION_SIZE = 0.1\n",
    "    BATCH_SIZE = 32\n",
    "    MAX_EPOCHS = 25\n",
    "        \n",
    "    DATE_FORMATS = [\n",
    "        'short', 'medium', 'long', 'full',\n",
    "        'd MMM YYY', 'd MMMM YYY', 'dd/MM/YYY',\n",
    "        'EE d, MMM YYY', 'EEEE d, MMMM YYY', 'd of MMMM YYY',\n",
    "    ]"
   ]
  },
  {
   "cell_type": "code",
   "execution_count": 5,
   "metadata": {
    "execution": {
     "iopub.execute_input": "2021-11-10T06:52:04.854078Z",
     "iopub.status.busy": "2021-11-10T06:52:04.853305Z",
     "iopub.status.idle": "2021-11-10T06:52:04.903509Z",
     "shell.execute_reply": "2021-11-10T06:52:04.904087Z",
     "shell.execute_reply.started": "2021-11-10T06:27:42.329198Z"
    },
    "papermill": {
     "duration": 0.070441,
     "end_time": "2021-11-10T06:52:04.904278",
     "exception": false,
     "start_time": "2021-11-10T06:52:04.833837",
     "status": "completed"
    },
    "tags": []
   },
   "outputs": [
    {
     "name": "stdout",
     "output_type": "stream",
     "text": [
      "Sample dates for each format\n",
      "\n",
      "dd/MM/YYY            =>  30/04/1979\n",
      "d MMMM YYY           =>  1 July 2009\n",
      "d MMM YYY            =>  31 Aug 1975\n",
      "EEEE d, MMMM YYY     =>  Friday 23, October 1992\n",
      "medium               =>  Oct 30, 1971\n",
      "full                 =>  Tuesday, May 10, 1988\n",
      "short                =>  3/23/89\n",
      "d of MMMM YYY        =>  11 of March 1991\n",
      "long                 =>  May 2, 2010\n",
      "EE d, MMM YYY        =>  Sun 18, Aug 2019\n"
     ]
    }
   ],
   "source": [
    "faker = Faker()\n",
    "print('Sample dates for each format\\n')\n",
    "\n",
    "for fmt in set(config.DATE_FORMATS):\n",
    "    print(f'{fmt:20} =>  {format_date(faker.date_object(), format=fmt, locale=\"en\")}')"
   ]
  },
  {
   "cell_type": "code",
   "execution_count": 6,
   "metadata": {
    "execution": {
     "iopub.execute_input": "2021-11-10T06:52:04.942470Z",
     "iopub.status.busy": "2021-11-10T06:52:04.941790Z",
     "iopub.status.idle": "2021-11-10T06:52:04.944883Z",
     "shell.execute_reply": "2021-11-10T06:52:04.944386Z",
     "shell.execute_reply.started": "2021-11-10T06:27:42.385034Z"
    },
    "papermill": {
     "duration": 0.024392,
     "end_time": "2021-11-10T06:52:04.944991",
     "exception": false,
     "start_time": "2021-11-10T06:52:04.920599",
     "status": "completed"
    },
    "tags": []
   },
   "outputs": [],
   "source": [
    "def clean_date(raw_date):\n",
    "    return raw_date.lower().replace(',', '')\n",
    "\n",
    "\n",
    "def create_dataset(num_rows):\n",
    "    dataset = []\n",
    "    \n",
    "    for i in tqdm(range(num_rows)):\n",
    "        dt = faker.date_object()\n",
    "        for fmt in config.DATE_FORMATS:\n",
    "            try:\n",
    "                date = format_date(dt, format=fmt, locale='en')\n",
    "                human_readable = clean_date(date)\n",
    "                machine_readable = f\"@{dt.isoformat()}\"\n",
    "            except AttributeError as e:\n",
    "                date = None\n",
    "                human_readable = None\n",
    "                machine_readable = None\n",
    "            if human_readable is not None and machine_readable is not None:\n",
    "                dataset.append((human_readable, machine_readable))\n",
    " \n",
    "    return pd.DataFrame(dataset, columns=['human_readable', 'machine_readable'])"
   ]
  },
  {
   "cell_type": "code",
   "execution_count": 7,
   "metadata": {
    "execution": {
     "iopub.execute_input": "2021-11-10T06:52:04.979265Z",
     "iopub.status.busy": "2021-11-10T06:52:04.978622Z",
     "iopub.status.idle": "2021-11-10T06:56:51.362684Z",
     "shell.execute_reply": "2021-11-10T06:56:51.361938Z",
     "shell.execute_reply.started": "2021-11-10T06:27:42.396696Z"
    },
    "papermill": {
     "duration": 286.402736,
     "end_time": "2021-11-10T06:56:51.362848",
     "exception": false,
     "start_time": "2021-11-10T06:52:04.960112",
     "status": "completed"
    },
    "tags": []
   },
   "outputs": [
    {
     "data": {
      "application/vnd.jupyter.widget-view+json": {
       "model_id": "6f13d983b1e34e83a64f175482de8bf1",
       "version_major": 2,
       "version_minor": 0
      },
      "text/plain": [
       "  0%|          | 0/1000000 [00:00<?, ?it/s]"
      ]
     },
     "metadata": {},
     "output_type": "display_data"
    },
    {
     "name": "stdout",
     "output_type": "stream",
     "text": [
      "(185984, 2)\n"
     ]
    },
    {
     "data": {
      "text/html": [
       "<div>\n",
       "<style scoped>\n",
       "    .dataframe tbody tr th:only-of-type {\n",
       "        vertical-align: middle;\n",
       "    }\n",
       "\n",
       "    .dataframe tbody tr th {\n",
       "        vertical-align: top;\n",
       "    }\n",
       "\n",
       "    .dataframe thead th {\n",
       "        text-align: right;\n",
       "    }\n",
       "</style>\n",
       "<table border=\"1\" class=\"dataframe\">\n",
       "  <thead>\n",
       "    <tr style=\"text-align: right;\">\n",
       "      <th></th>\n",
       "      <th>human_readable</th>\n",
       "      <th>machine_readable</th>\n",
       "    </tr>\n",
       "  </thead>\n",
       "  <tbody>\n",
       "    <tr>\n",
       "      <th>0</th>\n",
       "      <td>apr 4 1999</td>\n",
       "      <td>@1999-04-04</td>\n",
       "    </tr>\n",
       "    <tr>\n",
       "      <th>1</th>\n",
       "      <td>sun 13 jul 2008</td>\n",
       "      <td>@2008-07-13</td>\n",
       "    </tr>\n",
       "    <tr>\n",
       "      <th>2</th>\n",
       "      <td>3 january 2005</td>\n",
       "      <td>@2005-01-03</td>\n",
       "    </tr>\n",
       "    <tr>\n",
       "      <th>3</th>\n",
       "      <td>friday april 25 1986</td>\n",
       "      <td>@1986-04-25</td>\n",
       "    </tr>\n",
       "    <tr>\n",
       "      <th>4</th>\n",
       "      <td>22 of october 1979</td>\n",
       "      <td>@1979-10-22</td>\n",
       "    </tr>\n",
       "  </tbody>\n",
       "</table>\n",
       "</div>"
      ],
      "text/plain": [
       "         human_readable machine_readable\n",
       "0            apr 4 1999      @1999-04-04\n",
       "1       sun 13 jul 2008      @2008-07-13\n",
       "2        3 january 2005      @2005-01-03\n",
       "3  friday april 25 1986      @1986-04-25\n",
       "4    22 of october 1979      @1979-10-22"
      ]
     },
     "execution_count": 7,
     "metadata": {},
     "output_type": "execute_result"
    }
   ],
   "source": [
    "dataset = create_dataset(config.SAMPLE_SIZE)\n",
    "dataset  = dataset.drop_duplicates(subset=['human_readable']).sample(frac=1.0).reset_index(drop=True)\n",
    "print(dataset.shape)\n",
    "dataset.head()"
   ]
  },
  {
   "cell_type": "code",
   "execution_count": 8,
   "metadata": {
    "execution": {
     "iopub.execute_input": "2021-11-10T06:56:51.420569Z",
     "iopub.status.busy": "2021-11-10T06:56:51.410302Z",
     "iopub.status.idle": "2021-11-10T06:56:53.299519Z",
     "shell.execute_reply": "2021-11-10T06:56:53.300489Z",
     "shell.execute_reply.started": "2021-11-10T06:32:31.960383Z"
    },
    "papermill": {
     "duration": 1.921085,
     "end_time": "2021-11-10T06:56:53.300689",
     "exception": false,
     "start_time": "2021-11-10T06:56:51.379604",
     "status": "completed"
    },
    "tags": []
   },
   "outputs": [
    {
     "name": "stdout",
     "output_type": "stream",
     "text": [
      "{' ': 1, '1': 2, '2': 3, '9': 4, '0': 5, 'a': 6, 'e': 7, 'r': 8, 'u': 9, '/': 10, '8': 11, '7': 12, 'y': 13, 'o': 14, 'n': 15, 'd': 16, 'm': 17, 't': 18, 's': 19, '3': 20, 'b': 21, '5': 22, '6': 23, '4': 24, 'f': 25, 'j': 26, 'c': 27, 'p': 28, 'l': 29, 'h': 30, 'i': 31, 'g': 32, 'v': 33, 'w': 34}\n",
      "{'-': 1, '0': 2, '1': 3, '2': 4, '9': 5, '@': 6, '8': 7, '7': 8, '3': 9, '6': 10, '4': 11, '5': 12}\n"
     ]
    }
   ],
   "source": [
    "human_tokenizer = Tokenizer(char_level=True)\n",
    "machine_tokenizer = Tokenizer(char_level=True)\n",
    "\n",
    "human_tokenizer.fit_on_texts(dataset['human_readable'].values)\n",
    "machine_tokenizer.fit_on_texts(dataset['machine_readable'].values)\n",
    "\n",
    "print(human_tokenizer.word_index)\n",
    "print(machine_tokenizer.word_index)"
   ]
  },
  {
   "cell_type": "code",
   "execution_count": 9,
   "metadata": {
    "execution": {
     "iopub.execute_input": "2021-11-10T06:56:53.339559Z",
     "iopub.status.busy": "2021-11-10T06:56:53.338856Z",
     "iopub.status.idle": "2021-11-10T06:56:53.341868Z",
     "shell.execute_reply": "2021-11-10T06:56:53.341436Z",
     "shell.execute_reply.started": "2021-11-10T06:32:33.841096Z"
    },
    "papermill": {
     "duration": 0.024203,
     "end_time": "2021-11-10T06:56:53.341973",
     "exception": false,
     "start_time": "2021-11-10T06:56:53.317770",
     "status": "completed"
    },
    "tags": []
   },
   "outputs": [],
   "source": [
    "def preprocess_input(date, tokenizer, max_len):\n",
    "    seq = [i[0] for i in tokenizer.texts_to_sequences(date.lower().replace(',', ''))]\n",
    "    seq = pad_sequences([seq], padding='post', maxlen=max_len)[0]\n",
    "    return seq"
   ]
  },
  {
   "cell_type": "code",
   "execution_count": 10,
   "metadata": {
    "execution": {
     "iopub.execute_input": "2021-11-10T06:56:53.939905Z",
     "iopub.status.busy": "2021-11-10T06:56:53.701876Z",
     "iopub.status.idle": "2021-11-10T06:57:07.677708Z",
     "shell.execute_reply": "2021-11-10T06:57:07.678322Z",
     "shell.execute_reply.started": "2021-11-10T06:32:33.848404Z"
    },
    "papermill": {
     "duration": 14.319891,
     "end_time": "2021-11-10T06:57:07.678533",
     "exception": false,
     "start_time": "2021-11-10T06:56:53.358642",
     "status": "completed"
    },
    "tags": []
   },
   "outputs": [
    {
     "name": "stdout",
     "output_type": "stream",
     "text": [
      "CPU times: user 14.2 s, sys: 206 ms, total: 14.4 s\n",
      "Wall time: 14.3 s\n"
     ]
    },
    {
     "data": {
      "text/plain": [
       "((185984, 30), (185984, 13))"
      ]
     },
     "execution_count": 10,
     "metadata": {},
     "output_type": "execute_result"
    }
   ],
   "source": [
    "%%time\n",
    "\n",
    "X = np.array(list(map(lambda x: preprocess_input(x, human_tokenizer, config.X_LEN), dataset['human_readable'])))\n",
    "y = np.array(list(map(lambda x: preprocess_input(x, machine_tokenizer, config.Y_LEN), dataset['machine_readable'])))\n",
    "\n",
    "X.shape, y.shape"
   ]
  },
  {
   "cell_type": "code",
   "execution_count": 11,
   "metadata": {
    "execution": {
     "iopub.execute_input": "2021-11-10T06:57:07.717767Z",
     "iopub.status.busy": "2021-11-10T06:57:07.717002Z",
     "iopub.status.idle": "2021-11-10T06:57:07.911300Z",
     "shell.execute_reply": "2021-11-10T06:57:07.910820Z",
     "shell.execute_reply.started": "2021-11-10T06:32:47.378347Z"
    },
    "papermill": {
     "duration": 0.215518,
     "end_time": "2021-11-10T06:57:07.911440",
     "exception": false,
     "start_time": "2021-11-10T06:57:07.695922",
     "status": "completed"
    },
    "tags": []
   },
   "outputs": [],
   "source": [
    "from sklearn.model_selection import train_test_split\n",
    "X_train, X_valid, y_train, y_valid = train_test_split(X, y, test_size=config.VALIDATION_SIZE, random_state=19)"
   ]
  },
  {
   "cell_type": "code",
   "execution_count": 12,
   "metadata": {
    "execution": {
     "iopub.execute_input": "2021-11-10T06:57:07.952847Z",
     "iopub.status.busy": "2021-11-10T06:57:07.952082Z",
     "iopub.status.idle": "2021-11-10T06:57:07.955162Z",
     "shell.execute_reply": "2021-11-10T06:57:07.954638Z",
     "shell.execute_reply.started": "2021-11-10T06:32:47.586771Z"
    },
    "papermill": {
     "duration": 0.026282,
     "end_time": "2021-11-10T06:57:07.955283",
     "exception": false,
     "start_time": "2021-11-10T06:57:07.929001",
     "status": "completed"
    },
    "tags": []
   },
   "outputs": [],
   "source": [
    "def generate_batch(X, y, batch_size=config.BATCH_SIZE):\n",
    "    ''' Generate a batch of data '''\n",
    "    while True:\n",
    "        for j in range(0, len(X), batch_size):\n",
    "            encoder_input_data = X[j:j+batch_size]\n",
    "            decoder_input_data = y[j:j+batch_size]\n",
    "            output = y[j:j+batch_size]\n",
    "            decoder_output_data = np.zeros_like(output)\n",
    "            decoder_output_data[:,:-1] = output[:, 1:]\n",
    "            decoder_target_data = utils.to_categorical(decoder_output_data, num_classes=config.NUM_DECODER_TOKENS)\n",
    "            yield([encoder_input_data, decoder_input_data], decoder_target_data)"
   ]
  },
  {
   "cell_type": "markdown",
   "metadata": {
    "papermill": {
     "duration": 0.016697,
     "end_time": "2021-11-10T06:57:07.988922",
     "exception": false,
     "start_time": "2021-11-10T06:57:07.972225",
     "status": "completed"
    },
    "tags": []
   },
   "source": [
    "# Modelling"
   ]
  },
  {
   "cell_type": "code",
   "execution_count": 13,
   "metadata": {
    "execution": {
     "iopub.execute_input": "2021-11-10T06:57:08.030863Z",
     "iopub.status.busy": "2021-11-10T06:57:08.030355Z",
     "iopub.status.idle": "2021-11-10T06:57:10.747359Z",
     "shell.execute_reply": "2021-11-10T06:57:10.746370Z",
     "shell.execute_reply.started": "2021-11-10T06:32:47.595846Z"
    },
    "papermill": {
     "duration": 2.741739,
     "end_time": "2021-11-10T06:57:10.747509",
     "exception": false,
     "start_time": "2021-11-10T06:57:08.005770",
     "status": "completed"
    },
    "tags": []
   },
   "outputs": [],
   "source": [
    "# Encoder\n",
    "encoder_inputs = Input(shape=(None,))\n",
    "enc_emb =  layers.Embedding(config.NUM_ENCODER_TOKENS, config.LATENT_DIM)(encoder_inputs)\n",
    "encoder_lstm = layers.LSTM(config.LATENT_DIM, return_state=True)\n",
    "encoder_outputs, state_h, state_c = encoder_lstm(enc_emb)\n",
    "# We discard `encoder_outputs` and only keep the states.\n",
    "encoder_states = [state_h, state_c]\n",
    "\n",
    "# Set up the decoder, using `encoder_states` as initial state.\n",
    "decoder_inputs = Input(shape=(None,))\n",
    "dec_emb_layer = layers.Embedding(config.NUM_DECODER_TOKENS, config.LATENT_DIM)\n",
    "dec_emb = dec_emb_layer(decoder_inputs)\n",
    "# We set up our decoder to return full output sequences,\n",
    "# and to return internal states as well. We don't use the\n",
    "# return states in the training model, but we will use them in inference.\n",
    "decoder_lstm = layers.LSTM(config.LATENT_DIM, return_sequences=True, return_state=True)\n",
    "decoder_outputs, _, _ = decoder_lstm(dec_emb, initial_state=encoder_states)\n",
    "decoder_dense = layers.Dense(config.NUM_DECODER_TOKENS, activation='softmax')\n",
    "decoder_outputs = decoder_dense(decoder_outputs)\n",
    "\n",
    "\n",
    "# Define the model that will turn\n",
    "# `encoder_input_data` & `decoder_input_data` into `decoder_target_data`\n",
    "model = Model([encoder_inputs, decoder_inputs], decoder_outputs)\n",
    "model.compile(optimizer='adam', loss='categorical_crossentropy', metrics=['acc'])"
   ]
  },
  {
   "cell_type": "code",
   "execution_count": 14,
   "metadata": {
    "execution": {
     "iopub.execute_input": "2021-11-10T06:57:10.790916Z",
     "iopub.status.busy": "2021-11-10T06:57:10.786669Z",
     "iopub.status.idle": "2021-11-10T06:57:11.293775Z",
     "shell.execute_reply": "2021-11-10T06:57:11.293316Z",
     "shell.execute_reply.started": "2021-11-10T06:32:50.393227Z"
    },
    "papermill": {
     "duration": 0.529065,
     "end_time": "2021-11-10T06:57:11.293898",
     "exception": false,
     "start_time": "2021-11-10T06:57:10.764833",
     "status": "completed"
    },
    "tags": []
   },
   "outputs": [
    {
     "name": "stdout",
     "output_type": "stream",
     "text": [
      "Model: \"model\"\n",
      "__________________________________________________________________________________________________\n",
      "Layer (type)                    Output Shape         Param #     Connected to                     \n",
      "==================================================================================================\n",
      "input_1 (InputLayer)            [(None, None)]       0                                            \n",
      "__________________________________________________________________________________________________\n",
      "input_2 (InputLayer)            [(None, None)]       0                                            \n",
      "__________________________________________________________________________________________________\n",
      "embedding (Embedding)           (None, None, 8)      280         input_1[0][0]                    \n",
      "__________________________________________________________________________________________________\n",
      "embedding_1 (Embedding)         (None, None, 8)      104         input_2[0][0]                    \n",
      "__________________________________________________________________________________________________\n",
      "lstm (LSTM)                     [(None, 8), (None, 8 544         embedding[0][0]                  \n",
      "__________________________________________________________________________________________________\n",
      "lstm_1 (LSTM)                   [(None, None, 8), (N 544         embedding_1[0][0]                \n",
      "                                                                 lstm[0][1]                       \n",
      "                                                                 lstm[0][2]                       \n",
      "__________________________________________________________________________________________________\n",
      "dense (Dense)                   (None, None, 13)     117         lstm_1[0][0]                     \n",
      "==================================================================================================\n",
      "Total params: 1,589\n",
      "Trainable params: 1,589\n",
      "Non-trainable params: 0\n",
      "__________________________________________________________________________________________________\n"
     ]
    },
    {
     "data": {
      "image/png": "[encoded data removed]",
      "text/plain": [
       "<IPython.core.display.Image object>"
      ]
     },
     "execution_count": 14,
     "metadata": {},
     "output_type": "execute_result"
    }
   ],
   "source": [
    "model.summary()\n",
    "utils.plot_model(model, show_shapes=True, expand_nested=True)"
   ]
  },
  {
   "cell_type": "code",
   "execution_count": 15,
   "metadata": {
    "execution": {
     "iopub.execute_input": "2021-11-10T06:57:11.337347Z",
     "iopub.status.busy": "2021-11-10T06:57:11.336679Z",
     "iopub.status.idle": "2021-11-10T07:13:01.569649Z",
     "shell.execute_reply": "2021-11-10T07:13:01.570083Z",
     "shell.execute_reply.started": "2021-11-10T06:32:50.879641Z"
    },
    "papermill": {
     "duration": 950.257572,
     "end_time": "2021-11-10T07:13:01.570338",
     "exception": false,
     "start_time": "2021-11-10T06:57:11.312766",
     "status": "completed"
    },
    "tags": []
   },
   "outputs": [
    {
     "name": "stderr",
     "output_type": "stream",
     "text": [
      "/opt/conda/lib/python3.7/site-packages/tensorflow/python/keras/engine/training.py:1844: UserWarning: `Model.fit_generator` is deprecated and will be removed in a future version. Please use `Model.fit`, which supports generators.\n",
      "  warnings.warn('`Model.fit_generator` is deprecated and '\n"
     ]
    },
    {
     "name": "stdout",
     "output_type": "stream",
     "text": [
      "Epoch 1/25\n",
      "5231/5231 [==============================] - 42s 7ms/step - loss: 1.2170 - acc: 0.5923 - val_loss: 0.6605 - val_acc: 0.7374\n",
      "Epoch 2/25\n",
      "5231/5231 [==============================] - 37s 7ms/step - loss: 0.6105 - acc: 0.7590 - val_loss: 0.4829 - val_acc: 0.8112\n",
      "Epoch 3/25\n",
      "5231/5231 [==============================] - 37s 7ms/step - loss: 0.4572 - acc: 0.8225 - val_loss: 0.4162 - val_acc: 0.8372\n",
      "Epoch 4/25\n",
      "5231/5231 [==============================] - 37s 7ms/step - loss: 0.4004 - acc: 0.8457 - val_loss: 0.3648 - val_acc: 0.8635\n",
      "Epoch 5/25\n",
      "5231/5231 [==============================] - 37s 7ms/step - loss: 0.3478 - acc: 0.8720 - val_loss: 0.3127 - val_acc: 0.8824\n",
      "Epoch 6/25\n",
      "5231/5231 [==============================] - 37s 7ms/step - loss: 0.3007 - acc: 0.8890 - val_loss: 0.2762 - val_acc: 0.8957\n",
      "Epoch 7/25\n",
      "5231/5231 [==============================] - 37s 7ms/step - loss: 0.2690 - acc: 0.9003 - val_loss: 0.2496 - val_acc: 0.9090\n",
      "Epoch 8/25\n",
      "5231/5231 [==============================] - 37s 7ms/step - loss: 0.2437 - acc: 0.9120 - val_loss: 0.2311 - val_acc: 0.9173\n",
      "Epoch 9/25\n",
      "5231/5231 [==============================] - 38s 7ms/step - loss: 0.2205 - acc: 0.9224 - val_loss: 0.2085 - val_acc: 0.9263\n",
      "Epoch 10/25\n",
      "5231/5231 [==============================] - 37s 7ms/step - loss: 0.1999 - acc: 0.9316 - val_loss: 0.1870 - val_acc: 0.9374\n",
      "Epoch 11/25\n",
      "5231/5231 [==============================] - 39s 7ms/step - loss: 0.1817 - acc: 0.9407 - val_loss: 0.1666 - val_acc: 0.9469\n",
      "Epoch 12/25\n",
      "5231/5231 [==============================] - 39s 7ms/step - loss: 0.1649 - acc: 0.9481 - val_loss: 0.1517 - val_acc: 0.9532\n",
      "Epoch 13/25\n",
      "5231/5231 [==============================] - 38s 7ms/step - loss: 0.1496 - acc: 0.9545 - val_loss: 0.1382 - val_acc: 0.9581\n",
      "Epoch 14/25\n",
      "5231/5231 [==============================] - 37s 7ms/step - loss: 0.1360 - acc: 0.9592 - val_loss: 0.1256 - val_acc: 0.9626\n",
      "Epoch 15/25\n",
      "5231/5231 [==============================] - 38s 7ms/step - loss: 0.1250 - acc: 0.9629 - val_loss: 0.1152 - val_acc: 0.9665\n",
      "Epoch 16/25\n",
      "5231/5231 [==============================] - 38s 7ms/step - loss: 0.1158 - acc: 0.9659 - val_loss: 0.1063 - val_acc: 0.9695\n",
      "Epoch 17/25\n",
      "5231/5231 [==============================] - 38s 7ms/step - loss: 0.1075 - acc: 0.9684 - val_loss: 0.0961 - val_acc: 0.9731\n",
      "Epoch 18/25\n",
      "5231/5231 [==============================] - 39s 7ms/step - loss: 0.0976 - acc: 0.9720 - val_loss: 0.0894 - val_acc: 0.9749\n",
      "Epoch 19/25\n",
      "5231/5231 [==============================] - 38s 7ms/step - loss: 0.0910 - acc: 0.9739 - val_loss: 0.0845 - val_acc: 0.9762\n",
      "Epoch 20/25\n",
      "5231/5231 [==============================] - 38s 7ms/step - loss: 0.0859 - acc: 0.9754 - val_loss: 0.0807 - val_acc: 0.9774\n",
      "Epoch 21/25\n",
      "5231/5231 [==============================] - 38s 7ms/step - loss: 0.0818 - acc: 0.9766 - val_loss: 0.0777 - val_acc: 0.9782\n",
      "Epoch 22/25\n",
      "5231/5231 [==============================] - 39s 7ms/step - loss: 0.0783 - acc: 0.9777 - val_loss: 0.0749 - val_acc: 0.9790\n",
      "Epoch 23/25\n",
      "5231/5231 [==============================] - 36s 7ms/step - loss: 0.0752 - acc: 0.9787 - val_loss: 0.0717 - val_acc: 0.9800\n",
      "Epoch 24/25\n",
      "5231/5231 [==============================] - 39s 8ms/step - loss: 0.0723 - acc: 0.9796 - val_loss: 0.0683 - val_acc: 0.9808\n",
      "Epoch 25/25\n",
      "5231/5231 [==============================] - 39s 7ms/step - loss: 0.0698 - acc: 0.9805 - val_loss: 0.0655 - val_acc: 0.9816\n"
     ]
    }
   ],
   "source": [
    "es = callbacks.EarlyStopping(monitor=\"val_loss\", patience=5, verbose=1, restore_best_weights=True)\n",
    "rlp = callbacks.ReduceLROnPlateau(monitor='val_loss', patience=2, verbose=1)\n",
    "\n",
    "\n",
    "history = model.fit_generator(\n",
    "    generator=generate_batch(X_train, y_train), steps_per_epoch = np.ceil(len(X_train)/config.BATCH_SIZE),\n",
    "    validation_data=generate_batch(X_valid, y_valid), validation_steps=np.ceil(len(X_valid)/config.BATCH_SIZE),\n",
    "    epochs=config.MAX_EPOCHS, callbacks=[es, rlp], \n",
    ")"
   ]
  },
  {
   "cell_type": "code",
   "execution_count": 16,
   "metadata": {
    "execution": {
     "iopub.execute_input": "2021-11-10T07:13:10.354826Z",
     "iopub.status.busy": "2021-11-10T07:13:10.353955Z",
     "iopub.status.idle": "2021-11-10T07:13:10.595348Z",
     "shell.execute_reply": "2021-11-10T07:13:10.594792Z",
     "shell.execute_reply.started": "2021-11-10T06:48:53.755220Z"
    },
    "papermill": {
     "duration": 4.411943,
     "end_time": "2021-11-10T07:13:10.595533",
     "exception": false,
     "start_time": "2021-11-10T07:13:06.183590",
     "status": "completed"
    },
    "tags": []
   },
   "outputs": [
    {
     "data": {
      "image/png": "[encoded data removed]",
      "text/plain": [
       "<Figure size 1440x432 with 1 Axes>"
      ]
     },
     "metadata": {},
     "output_type": "display_data"
    }
   ],
   "source": [
    "fig, ax = plt.subplots(figsize=(20, 6))\n",
    "pd.DataFrame(history.history).plot(ax=ax)\n",
    "del history"
   ]
  },
  {
   "cell_type": "markdown",
   "metadata": {
    "papermill": {
     "duration": 4.192026,
     "end_time": "2021-11-10T07:13:19.254952",
     "exception": false,
     "start_time": "2021-11-10T07:13:15.062926",
     "status": "completed"
    },
    "tags": []
   },
   "source": [
    "# Evaluation"
   ]
  },
  {
   "cell_type": "code",
   "execution_count": 17,
   "metadata": {
    "execution": {
     "iopub.execute_input": "2021-11-10T07:13:28.327027Z",
     "iopub.status.busy": "2021-11-10T07:13:28.326071Z",
     "iopub.status.idle": "2021-11-10T07:13:28.515600Z",
     "shell.execute_reply": "2021-11-10T07:13:28.515125Z",
     "shell.execute_reply.started": "2021-11-10T06:48:54.021917Z"
    },
    "papermill": {
     "duration": 4.63841,
     "end_time": "2021-11-10T07:13:28.515725",
     "exception": false,
     "start_time": "2021-11-10T07:13:23.877315",
     "status": "completed"
    },
    "tags": []
   },
   "outputs": [],
   "source": [
    "# Encode the input sequence to get the \"thought vectors\"\n",
    "encoder_model = Model(encoder_inputs, encoder_states)\n",
    "\n",
    "# Decoder setup\n",
    "# Below tensors will hold the states of the previous time step\n",
    "decoder_state_input_h = Input(shape=(config.LATENT_DIM,))\n",
    "decoder_state_input_c = Input(shape=(config.LATENT_DIM,))\n",
    "decoder_states_inputs = [decoder_state_input_h, decoder_state_input_c]\n",
    "\n",
    "dec_emb2= dec_emb_layer(decoder_inputs) # Get the embeddings of the decoder sequence\n",
    "\n",
    "# To predict the next word in the sequence, set the initial states to the states from the previous time step\n",
    "decoder_outputs2, state_h2, state_c2 = decoder_lstm(dec_emb2, initial_state=decoder_states_inputs)\n",
    "decoder_states2 = [state_h2, state_c2]\n",
    "decoder_outputs2 = decoder_dense(decoder_outputs2) # A dense softmax layer to generate prob dist. over the target vocabulary\n",
    "\n",
    "# Final decoder model\n",
    "decoder_model = Model(\n",
    "    [decoder_inputs] + decoder_states_inputs,\n",
    "    [decoder_outputs2] + decoder_states2)"
   ]
  },
  {
   "cell_type": "code",
   "execution_count": 18,
   "metadata": {
    "execution": {
     "iopub.execute_input": "2021-11-10T07:13:37.177200Z",
     "iopub.status.busy": "2021-11-10T07:13:37.176397Z",
     "iopub.status.idle": "2021-11-10T07:13:37.184241Z",
     "shell.execute_reply": "2021-11-10T07:13:37.183686Z",
     "shell.execute_reply.started": "2021-11-10T06:48:54.226188Z"
    },
    "papermill": {
     "duration": 4.460893,
     "end_time": "2021-11-10T07:13:37.184363",
     "exception": false,
     "start_time": "2021-11-10T07:13:32.723470",
     "status": "completed"
    },
    "tags": []
   },
   "outputs": [],
   "source": [
    "def word_for_id(integer, tokenizer):\n",
    "    for word, index in tokenizer.word_index.items():\n",
    "        if index == integer:\n",
    "            return word\n",
    "    return None\n",
    "\n",
    "def predict_sequence(source):\n",
    "    states_value = encoder_model.predict(source)\n",
    "    target_seq = np.ones((1,1))*machine_tokenizer.word_index[\"@\"]\n",
    "    prediction = []\n",
    "    for i in range(13):\n",
    "        output_tokens, h, c = decoder_model.predict([target_seq] + states_value)\n",
    "        token_index = np.argmax(output_tokens[0, -1, :])\n",
    "#         print(token_index)\n",
    "        prediction.append(token_index)\n",
    "        target_seq[0, 0] = token_index\n",
    "        states_value = [h, c]\n",
    "        \n",
    "    return decode_sequence(machine_tokenizer, prediction)\n",
    "\n",
    "def decode_sequence(tokenizer, source):\n",
    "    target = list()\n",
    "    for i in source:\n",
    "        word = word_for_id(i, tokenizer)\n",
    "        if word is None:\n",
    "            break\n",
    "        target.append(word)\n",
    "    return ''.join(target)"
   ]
  },
  {
   "cell_type": "code",
   "execution_count": 19,
   "metadata": {
    "execution": {
     "iopub.execute_input": "2021-11-10T07:13:45.565403Z",
     "iopub.status.busy": "2021-11-10T07:13:45.564599Z",
     "iopub.status.idle": "2021-11-10T07:13:46.640354Z",
     "shell.execute_reply": "2021-11-10T07:13:46.639647Z",
     "shell.execute_reply.started": "2021-11-10T06:48:54.238328Z"
    },
    "papermill": {
     "duration": 5.288298,
     "end_time": "2021-11-10T07:13:46.640489",
     "exception": false,
     "start_time": "2021-11-10T07:13:41.352191",
     "status": "completed"
    },
    "tags": []
   },
   "outputs": [
    {
     "name": "stdout",
     "output_type": "stream",
     "text": [
      "SOURCE     : 25 jan 2018\n",
      "TARGET     : @2018-01-25\n",
      "PREDICTION : 2018-01-25\n"
     ]
    }
   ],
   "source": [
    "query_idx = 19\n",
    "\n",
    "print('SOURCE     :', decode_sequence(human_tokenizer, np.squeeze(X[query_idx:query_idx+1])))\n",
    "print('TARGET     :', decode_sequence(machine_tokenizer, np.squeeze(y[query_idx:query_idx+1])))\n",
    "print('PREDICTION :', predict_sequence(X[query_idx:query_idx+1]))"
   ]
  },
  {
   "cell_type": "code",
   "execution_count": 20,
   "metadata": {
    "execution": {
     "iopub.execute_input": "2021-11-10T07:13:55.698483Z",
     "iopub.status.busy": "2021-11-10T07:13:55.697672Z",
     "iopub.status.idle": "2021-11-10T07:13:56.194324Z",
     "shell.execute_reply": "2021-11-10T07:13:56.195235Z",
     "shell.execute_reply.started": "2021-11-10T06:48:55.554633Z"
    },
    "papermill": {
     "duration": 5.176895,
     "end_time": "2021-11-10T07:13:56.195404",
     "exception": false,
     "start_time": "2021-11-10T07:13:51.018509",
     "status": "completed"
    },
    "tags": []
   },
   "outputs": [
    {
     "name": "stdout",
     "output_type": "stream",
     "text": [
      "SOURCE     : saturday 19 september 1998\n",
      "PREDICTION : 1998-09-19\n"
     ]
    }
   ],
   "source": [
    "query_text = 'saturday 19 september 1998'\n",
    "query = np.array(list(map(lambda x: preprocess_input(x, human_tokenizer, config.X_LEN), [query_text])))\n",
    "\n",
    "print('SOURCE     :', query_text)\n",
    "print('PREDICTION :', predict_sequence(query))"
   ]
  },
  {
   "cell_type": "code",
   "execution_count": null,
   "metadata": {
    "papermill": {
     "duration": 4.282802,
     "end_time": "2021-11-10T07:14:04.937395",
     "exception": false,
     "start_time": "2021-11-10T07:14:00.654593",
     "status": "completed"
    },
    "tags": []
   },
   "outputs": [],
   "source": []
  }
 ],
 "metadata": {
  "kernelspec": {
   "display_name": "Python 3",
   "language": "python",
   "name": "python3"
  },
  "language_info": {
   "codemirror_mode": {
    "name": "ipython",
    "version": 3
   },
   "file_extension": ".py",
   "mimetype": "text/x-python",
   "name": "python",
   "nbconvert_exporter": "python",
   "pygments_lexer": "ipython3",
   "version": "3.8.8"
  },
  "papermill": {
   "default_parameters": {},
   "duration": 1355.387624,
   "end_time": "2021-11-10T07:14:11.154964",
   "environment_variables": {},
   "exception": null,
   "input_path": "__notebook__.ipynb",
   "output_path": "__notebook__.ipynb",
   "parameters": {},
   "start_time": "2021-11-10T06:51:35.767340",
   "version": "2.2.2"
  },
  "widgets": {
   "application/vnd.jupyter.widget-state+json": {
    "state": {
     "04bbf39e49f04789b1b7ca2e739e8694": {
      "model_module": "@jupyter-widgets/controls",
      "model_module_version": "1.5.0",
      "model_name": "HTMLModel",
      "state": {
       "_dom_classes": [],
       "_model_module": "@jupyter-widgets/controls",
       "_model_module_version": "1.5.0",
       "_model_name": "HTMLModel",
       "_view_count": null,
       "_view_module": "@jupyter-widgets/controls",
       "_view_module_version": "1.5.0",
       "_view_name": "HTMLView",
       "description": "",
       "description_tooltip": null,
       "layout": "IPY_MODEL_cea2e833a3f74af8b72333720a3f39d8",
       "placeholder": "​",
       "style": "IPY_MODEL_91893fdb3c7d4861bd21eaf90f4f30db",
       "value": " 1000000/1000000 [04:39&lt;00:00, 2663.41it/s]"
      }
     },
     "0b9ec50f1ccf46af8a0859a7e83108b1": {
      "model_module": "@jupyter-widgets/base",
      "model_module_version": "1.2.0",
      "model_name": "LayoutModel",
      "state": {
       "_model_module": "@jupyter-widgets/base",
       "_model_module_version": "1.2.0",
       "_model_name": "LayoutModel",
       "_view_count": null,
       "_view_module": "@jupyter-widgets/base",
       "_view_module_version": "1.2.0",
       "_view_name": "LayoutView",
       "align_content": null,
       "align_items": null,
       "align_self": null,
       "border": null,
       "bottom": null,
       "display": null,
       "flex": null,
       "flex_flow": null,
       "grid_area": null,
       "grid_auto_columns": null,
       "grid_auto_flow": null,
       "grid_auto_rows": null,
       "grid_column": null,
       "grid_gap": null,
       "grid_row": null,
       "grid_template_areas": null,
       "grid_template_columns": null,
       "grid_template_rows": null,
       "height": null,
       "justify_content": null,
       "justify_items": null,
       "left": null,
       "margin": null,
       "max_height": null,
       "max_width": null,
       "min_height": null,
       "min_width": null,
       "object_fit": null,
       "object_position": null,
       "order": null,
       "overflow": null,
       "overflow_x": null,
       "overflow_y": null,
       "padding": null,
       "right": null,
       "top": null,
       "visibility": null,
       "width": null
      }
     },
     "35eb52a04ee94060b8a9bafe5a5ad3a9": {
      "model_module": "@jupyter-widgets/base",
      "model_module_version": "1.2.0",
      "model_name": "LayoutModel",
      "state": {
       "_model_module": "@jupyter-widgets/base",
       "_model_module_version": "1.2.0",
       "_model_name": "LayoutModel",
       "_view_count": null,
       "_view_module": "@jupyter-widgets/base",
       "_view_module_version": "1.2.0",
       "_view_name": "LayoutView",
       "align_content": null,
       "align_items": null,
       "align_self": null,
       "border": null,
       "bottom": null,
       "display": null,
       "flex": null,
       "flex_flow": null,
       "grid_area": null,
       "grid_auto_columns": null,
       "grid_auto_flow": null,
       "grid_auto_rows": null,
       "grid_column": null,
       "grid_gap": null,
       "grid_row": null,
       "grid_template_areas": null,
       "grid_template_columns": null,
       "grid_template_rows": null,
       "height": null,
       "justify_content": null,
       "justify_items": null,
       "left": null,
       "margin": null,
       "max_height": null,
       "max_width": null,
       "min_height": null,
       "min_width": null,
       "object_fit": null,
       "object_position": null,
       "order": null,
       "overflow": null,
       "overflow_x": null,
       "overflow_y": null,
       "padding": null,
       "right": null,
       "top": null,
       "visibility": null,
       "width": null
      }
     },
     "3955f878dbcc469c82210d5acdba2c70": {
      "model_module": "@jupyter-widgets/controls",
      "model_module_version": "1.5.0",
      "model_name": "DescriptionStyleModel",
      "state": {
       "_model_module": "@jupyter-widgets/controls",
       "_model_module_version": "1.5.0",
       "_model_name": "DescriptionStyleModel",
       "_view_count": null,
       "_view_module": "@jupyter-widgets/base",
       "_view_module_version": "1.2.0",
       "_view_name": "StyleView",
       "description_width": ""
      }
     },
     "5cceeed8449447ccb45cb5341a1f0303": {
      "model_module": "@jupyter-widgets/base",
      "model_module_version": "1.2.0",
      "model_name": "LayoutModel",
      "state": {
       "_model_module": "@jupyter-widgets/base",
       "_model_module_version": "1.2.0",
       "_model_name": "LayoutModel",
       "_view_count": null,
       "_view_module": "@jupyter-widgets/base",
       "_view_module_version": "1.2.0",
       "_view_name": "LayoutView",
       "align_content": null,
       "align_items": null,
       "align_self": null,
       "border": null,
       "bottom": null,
       "display": null,
       "flex": null,
       "flex_flow": null,
       "grid_area": null,
       "grid_auto_columns": null,
       "grid_auto_flow": null,
       "grid_auto_rows": null,
       "grid_column": null,
       "grid_gap": null,
       "grid_row": null,
       "grid_template_areas": null,
       "grid_template_columns": null,
       "grid_template_rows": null,
       "height": null,
       "justify_content": null,
       "justify_items": null,
       "left": null,
       "margin": null,
       "max_height": null,
       "max_width": null,
       "min_height": null,
       "min_width": null,
       "object_fit": null,
       "object_position": null,
       "order": null,
       "overflow": null,
       "overflow_x": null,
       "overflow_y": null,
       "padding": null,
       "right": null,
       "top": null,
       "visibility": null,
       "width": null
      }
     },
     "6f13d983b1e34e83a64f175482de8bf1": {
      "model_module": "@jupyter-widgets/controls",
      "model_module_version": "1.5.0",
      "model_name": "HBoxModel",
      "state": {
       "_dom_classes": [],
       "_model_module": "@jupyter-widgets/controls",
       "_model_module_version": "1.5.0",
       "_model_name": "HBoxModel",
       "_view_count": null,
       "_view_module": "@jupyter-widgets/controls",
       "_view_module_version": "1.5.0",
       "_view_name": "HBoxView",
       "box_style": "",
       "children": [
        "IPY_MODEL_8f1dc7bb424d471ea40477e1edef70cd",
        "IPY_MODEL_81881b1bf0f8455697b06552cd24e17d",
        "IPY_MODEL_04bbf39e49f04789b1b7ca2e739e8694"
       ],
       "layout": "IPY_MODEL_0b9ec50f1ccf46af8a0859a7e83108b1"
      }
     },
     "81881b1bf0f8455697b06552cd24e17d": {
      "model_module": "@jupyter-widgets/controls",
      "model_module_version": "1.5.0",
      "model_name": "FloatProgressModel",
      "state": {
       "_dom_classes": [],
       "_model_module": "@jupyter-widgets/controls",
       "_model_module_version": "1.5.0",
       "_model_name": "FloatProgressModel",
       "_view_count": null,
       "_view_module": "@jupyter-widgets/controls",
       "_view_module_version": "1.5.0",
       "_view_name": "ProgressView",
       "bar_style": "success",
       "description": "",
       "description_tooltip": null,
       "layout": "IPY_MODEL_5cceeed8449447ccb45cb5341a1f0303",
       "max": 1000000,
       "min": 0,
       "orientation": "horizontal",
       "style": "IPY_MODEL_8f86fc4ddcfc48798cd8f6e0beadebec",
       "value": 1000000
      }
     },
     "8f1dc7bb424d471ea40477e1edef70cd": {
      "model_module": "@jupyter-widgets/controls",
      "model_module_version": "1.5.0",
      "model_name": "HTMLModel",
      "state": {
       "_dom_classes": [],
       "_model_module": "@jupyter-widgets/controls",
       "_model_module_version": "1.5.0",
       "_model_name": "HTMLModel",
       "_view_count": null,
       "_view_module": "@jupyter-widgets/controls",
       "_view_module_version": "1.5.0",
       "_view_name": "HTMLView",
       "description": "",
       "description_tooltip": null,
       "layout": "IPY_MODEL_35eb52a04ee94060b8a9bafe5a5ad3a9",
       "placeholder": "​",
       "style": "IPY_MODEL_3955f878dbcc469c82210d5acdba2c70",
       "value": "100%"
      }
     },
     "8f86fc4ddcfc48798cd8f6e0beadebec": {
      "model_module": "@jupyter-widgets/controls",
      "model_module_version": "1.5.0",
      "model_name": "ProgressStyleModel",
      "state": {
       "_model_module": "@jupyter-widgets/controls",
       "_model_module_version": "1.5.0",
       "_model_name": "ProgressStyleModel",
       "_view_count": null,
       "_view_module": "@jupyter-widgets/base",
       "_view_module_version": "1.2.0",
       "_view_name": "StyleView",
       "bar_color": null,
       "description_width": ""
      }
     },
     "91893fdb3c7d4861bd21eaf90f4f30db": {
      "model_module": "@jupyter-widgets/controls",
      "model_module_version": "1.5.0",
      "model_name": "DescriptionStyleModel",
      "state": {
       "_model_module": "@jupyter-widgets/controls",
       "_model_module_version": "1.5.0",
       "_model_name": "DescriptionStyleModel",
       "_view_count": null,
       "_view_module": "@jupyter-widgets/base",
       "_view_module_version": "1.2.0",
       "_view_name": "StyleView",
       "description_width": ""
      }
     },
     "cea2e833a3f74af8b72333720a3f39d8": {
      "model_module": "@jupyter-widgets/base",
      "model_module_version": "1.2.0",
      "model_name": "LayoutModel",
      "state": {
       "_model_module": "@jupyter-widgets/base",
       "_model_module_version": "1.2.0",
       "_model_name": "LayoutModel",
       "_view_count": null,
       "_view_module": "@jupyter-widgets/base",
       "_view_module_version": "1.2.0",
       "_view_name": "LayoutView",
       "align_content": null,
       "align_items": null,
       "align_self": null,
       "border": null,
       "bottom": null,
       "display": null,
       "flex": null,
       "flex_flow": null,
       "grid_area": null,
       "grid_auto_columns": null,
       "grid_auto_flow": null,
       "grid_auto_rows": null,
       "grid_column": null,
       "grid_gap": null,
       "grid_row": null,
       "grid_template_areas": null,
       "grid_template_columns": null,
       "grid_template_rows": null,
       "height": null,
       "justify_content": null,
       "justify_items": null,
       "left": null,
       "margin": null,
       "max_height": null,
       "max_width": null,
       "min_height": null,
       "min_width": null,
       "object_fit": null,
       "object_position": null,
       "order": null,
       "overflow": null,
       "overflow_x": null,
       "overflow_y": null,
       "padding": null,
       "right": null,
       "top": null,
       "visibility": null,
       "width": null
      }
     }
    },
    "version_major": 2,
    "version_minor": 0
   }
  }
 },
 "nbformat": 4,
 "nbformat_minor": 4
}
