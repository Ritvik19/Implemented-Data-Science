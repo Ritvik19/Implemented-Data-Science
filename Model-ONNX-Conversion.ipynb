{
 "cells": [
  {
   "cell_type": "markdown",
   "id": "5ab28d3c",
   "metadata": {
    "papermill": {
     "duration": 0.00428,
     "end_time": "2022-07-02T11:56:16.438422",
     "exception": false,
     "start_time": "2022-07-02T11:56:16.434142",
     "status": "completed"
    },
    "tags": []
   },
   "source": [
    "# ONNX Conversion\n",
    "\n",
    "ONNX Runtime is a cross-platform machine-learning model accelerator, with a flexible interface to integrate hardware-specific libraries. ONNX Runtime can be used with models from PyTorch, Tensorflow/Keras, TFLite, scikit-learn, and other frameworks."
   ]
  },
  {
   "cell_type": "code",
   "execution_count": 1,
   "id": "2f6bdf43",
   "metadata": {
    "execution": {
     "iopub.execute_input": "2022-07-02T11:56:16.447272Z",
     "iopub.status.busy": "2022-07-02T11:56:16.446777Z",
     "iopub.status.idle": "2022-07-02T11:56:30.996491Z",
     "shell.execute_reply": "2022-07-02T11:56:30.995222Z"
    },
    "papermill": {
     "duration": 14.557424,
     "end_time": "2022-07-02T11:56:30.999488",
     "exception": false,
     "start_time": "2022-07-02T11:56:16.442064",
     "status": "completed"
    },
    "tags": []
   },
   "outputs": [],
   "source": [
    "%%capture\n",
    "!pip install tf2onnx onnxruntime"
   ]
  },
  {
   "cell_type": "code",
   "execution_count": 2,
   "id": "80e2a26d",
   "metadata": {
    "execution": {
     "iopub.execute_input": "2022-07-02T11:56:31.008274Z",
     "iopub.status.busy": "2022-07-02T11:56:31.007879Z",
     "iopub.status.idle": "2022-07-02T11:56:40.340685Z",
     "shell.execute_reply": "2022-07-02T11:56:40.339592Z"
    },
    "papermill": {
     "duration": 9.340986,
     "end_time": "2022-07-02T11:56:40.343911",
     "exception": false,
     "start_time": "2022-07-02T11:56:31.002925",
     "status": "completed"
    },
    "tags": []
   },
   "outputs": [],
   "source": [
    "import tensorflow as tf \n",
    "from tensorflow import keras \n",
    "import numpy as np\n",
    "import tf2onnx\n",
    "import onnx"
   ]
  },
  {
   "cell_type": "markdown",
   "id": "9731ac68",
   "metadata": {
    "papermill": {
     "duration": 0.003122,
     "end_time": "2022-07-02T11:56:40.350608",
     "exception": false,
     "start_time": "2022-07-02T11:56:40.347486",
     "status": "completed"
    },
    "tags": []
   },
   "source": [
    "# Train a Model"
   ]
  },
  {
   "cell_type": "code",
   "execution_count": 3,
   "id": "c5c67475",
   "metadata": {
    "execution": {
     "iopub.execute_input": "2022-07-02T11:56:40.359462Z",
     "iopub.status.busy": "2022-07-02T11:56:40.358800Z",
     "iopub.status.idle": "2022-07-02T11:57:22.607360Z",
     "shell.execute_reply": "2022-07-02T11:57:22.606492Z"
    },
    "papermill": {
     "duration": 42.255603,
     "end_time": "2022-07-02T11:57:22.609466",
     "exception": false,
     "start_time": "2022-07-02T11:56:40.353863",
     "status": "completed"
    },
    "tags": []
   },
   "outputs": [
    {
     "name": "stdout",
     "output_type": "stream",
     "text": [
      "Downloading data from https://storage.googleapis.com/tensorflow/tf-keras-datasets/mnist.npz\n",
      "11493376/11490434 [==============================] - 0s 0us/step\n",
      "11501568/11490434 [==============================] - 0s 0us/step\n",
      "Epoch 1/5\n",
      "1875/1875 [==============================] - 9s 5ms/step - loss: 0.2795 - accuracy: 0.9218 - val_loss: 0.1279 - val_accuracy: 0.9640\n",
      "Epoch 2/5\n",
      "1875/1875 [==============================] - 7s 4ms/step - loss: 0.1147 - accuracy: 0.9675 - val_loss: 0.0876 - val_accuracy: 0.9721\n",
      "Epoch 3/5\n",
      "1875/1875 [==============================] - 8s 4ms/step - loss: 0.0841 - accuracy: 0.9754 - val_loss: 0.0724 - val_accuracy: 0.9762\n",
      "Epoch 4/5\n",
      "1875/1875 [==============================] - 8s 4ms/step - loss: 0.0696 - accuracy: 0.9796 - val_loss: 0.0730 - val_accuracy: 0.9771\n",
      "Epoch 5/5\n",
      "1875/1875 [==============================] - 7s 4ms/step - loss: 0.0604 - accuracy: 0.9824 - val_loss: 0.0638 - val_accuracy: 0.9786\n"
     ]
    },
    {
     "data": {
      "text/plain": [
       "<keras.callbacks.History at 0x7f5cf18d9c10>"
      ]
     },
     "execution_count": 3,
     "metadata": {},
     "output_type": "execute_result"
    }
   ],
   "source": [
    "mnist = keras.datasets.mnist \n",
    "(train_images, train_labels), (test_images, test_labels) = mnist.load_data() \n",
    "\n",
    "# Normalize the input image so that each pixel value is between 0 to 1. \n",
    "train_images = (train_images / 255.0).astype(np.float32) \n",
    "test_images = (test_images / 255.0).astype(np.float32) \n",
    "\n",
    "# Define the model architecture \n",
    "model = keras.Sequential([ \n",
    "    keras.layers.InputLayer(input_shape=(28, 28)), \n",
    "    keras.layers.Reshape(target_shape=(28, 28, 1)), \n",
    "    keras.layers.Conv2D(filters=12, kernel_size=(3, 3), activation=tf.nn.relu), \n",
    "    keras.layers.MaxPooling2D(pool_size=(2, 2)),\n",
    "    keras.layers.Flatten(), \n",
    "    keras.layers.Dense(10) \n",
    "]) \n",
    "# Train the digit classification model \n",
    "model.compile(\n",
    "    optimizer='adam', \n",
    "    loss=keras.losses.SparseCategoricalCrossentropy(from_logits=True), \n",
    "    metrics=['accuracy']\n",
    ") \n",
    "\n",
    "model.fit(train_images, train_labels, epochs=5, validation_data=(test_images, test_labels))"
   ]
  },
  {
   "cell_type": "markdown",
   "id": "e3b13fb8",
   "metadata": {
    "papermill": {
     "duration": 0.051461,
     "end_time": "2022-07-02T11:57:22.714019",
     "exception": false,
     "start_time": "2022-07-02T11:57:22.662558",
     "status": "completed"
    },
    "tags": []
   },
   "source": [
    "# Convert to ONNX"
   ]
  },
  {
   "cell_type": "code",
   "execution_count": 4,
   "id": "05e070a5",
   "metadata": {
    "execution": {
     "iopub.execute_input": "2022-07-02T11:57:22.821696Z",
     "iopub.status.busy": "2022-07-02T11:57:22.820878Z",
     "iopub.status.idle": "2022-07-02T11:57:23.111947Z",
     "shell.execute_reply": "2022-07-02T11:57:23.110905Z"
    },
    "papermill": {
     "duration": 0.348054,
     "end_time": "2022-07-02T11:57:23.114683",
     "exception": false,
     "start_time": "2022-07-02T11:57:22.766629",
     "status": "completed"
    },
    "tags": []
   },
   "outputs": [],
   "source": [
    "input_signature = [tf.TensorSpec([1, 28, 28], tf.float32, name='x')]\n",
    "onnx_model, _ = tf2onnx.convert.from_keras(model, input_signature, opset=13)\n",
    "onnx.save(onnx_model, \"model.onnx\")"
   ]
  },
  {
   "cell_type": "markdown",
   "id": "9e12af90",
   "metadata": {
    "papermill": {
     "duration": 0.052846,
     "end_time": "2022-07-02T11:57:23.220507",
     "exception": false,
     "start_time": "2022-07-02T11:57:23.167661",
     "status": "completed"
    },
    "tags": []
   },
   "source": [
    "# Inference"
   ]
  },
  {
   "cell_type": "code",
   "execution_count": 5,
   "id": "d0a035d7",
   "metadata": {
    "execution": {
     "iopub.execute_input": "2022-07-02T11:57:23.326727Z",
     "iopub.status.busy": "2022-07-02T11:57:23.326324Z",
     "iopub.status.idle": "2022-07-02T11:57:23.359716Z",
     "shell.execute_reply": "2022-07-02T11:57:23.358295Z"
    },
    "papermill": {
     "duration": 0.090139,
     "end_time": "2022-07-02T11:57:23.362862",
     "exception": false,
     "start_time": "2022-07-02T11:57:23.272723",
     "status": "completed"
    },
    "tags": []
   },
   "outputs": [
    {
     "name": "stdout",
     "output_type": "stream",
     "text": [
      "[array([[-1.7204155 ,  5.6252193 , -0.12981272, -2.193227  , -1.0933723 ,\n",
      "         1.5632545 , -1.8942062 ,  2.3993464 , -6.854724  , -2.7378263 ]],\n",
      "      dtype=float32)]\n"
     ]
    }
   ],
   "source": [
    "import onnxruntime as ort\n",
    "import numpy as np\n",
    "\n",
    "input_ = np.zeros((1, 28, 28), np.float32)\n",
    "\n",
    "# Start from ORT 1.10, ORT requires explicitly setting the providers parameter if you want to use execution providers\n",
    "# other than the default CPU provider (as opposed to the previous behavior of providers getting set/registered by\n",
    "# default based on the build flags) when instantiating InferenceSession.\n",
    "# Following code assumes NVIDIA GPU is available, you can specify other execution providers or don't include \n",
    "# providers parameter to use default CPU provider.\n",
    "sess = ort.InferenceSession(\"model.onnx\")\n",
    "# For NVIDIA GPU\n",
    "# sess = ort.InferenceSession(\"dst/path/model.onnx\", providers=[\"CUDAExecutionProvider\"])\n",
    "\n",
    "# Set first argument of sess.run to None to use all model outputs in default order\n",
    "# Input/output names are printed by the CLI and can be set with --rename-inputs and --rename-outputs\n",
    "# If using the python API, names are determined from function arg names or TensorSpec names.\n",
    "results_ort = sess.run([sess.get_outputs()[0].name], {sess.get_inputs()[0].name: input_})\n",
    "print(results_ort)\n"
   ]
  },
  {
   "cell_type": "code",
   "execution_count": null,
   "id": "e295b26f",
   "metadata": {
    "papermill": {
     "duration": 0.051554,
     "end_time": "2022-07-02T11:57:23.466727",
     "exception": false,
     "start_time": "2022-07-02T11:57:23.415173",
     "status": "completed"
    },
    "tags": []
   },
   "outputs": [],
   "source": []
  }
 ],
 "metadata": {
  "kernelspec": {
   "display_name": "Python 3",
   "language": "python",
   "name": "python3"
  },
  "language_info": {
   "codemirror_mode": {
    "name": "ipython",
    "version": 3
   },
   "file_extension": ".py",
   "mimetype": "text/x-python",
   "name": "python",
   "nbconvert_exporter": "python",
   "pygments_lexer": "ipython3",
   "version": "3.7.12"
  },
  "papermill": {
   "default_parameters": {},
   "duration": 79.611915,
   "end_time": "2022-07-02T11:57:26.184883",
   "environment_variables": {},
   "exception": null,
   "input_path": "__notebook__.ipynb",
   "output_path": "__notebook__.ipynb",
   "parameters": {},
   "start_time": "2022-07-02T11:56:06.572968",
   "version": "2.3.4"
  }
 },
 "nbformat": 4,
 "nbformat_minor": 5
}
