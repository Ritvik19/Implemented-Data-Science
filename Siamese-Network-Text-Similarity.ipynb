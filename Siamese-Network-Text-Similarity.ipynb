{
 "cells": [
  {
   "cell_type": "code",
   "execution_count": 1,
   "metadata": {
    "_cell_guid": "b1076dfc-b9ad-4769-8c92-a6c4dae69d19",
    "_uuid": "8f2839f25d086af736a60e9eeb907d3b93b6e0e5",
    "execution": {
     "iopub.execute_input": "2021-12-18T12:04:16.467814Z",
     "iopub.status.busy": "2021-12-18T12:04:16.467316Z",
     "iopub.status.idle": "2021-12-18T12:04:22.586779Z",
     "shell.execute_reply": "2021-12-18T12:04:22.580018Z",
     "shell.execute_reply.started": "2021-12-18T12:04:16.467725Z"
    }
   },
   "outputs": [
    {
     "name": "stderr",
     "output_type": "stream",
     "text": [
      "/opt/conda/lib/python3.7/site-packages/tqdm/std.py:701: FutureWarning: The Panel class is removed from pandas. Accessing it from the top-level namespace will also be removed in the next version\n",
      "  from pandas import Panel\n"
     ]
    }
   ],
   "source": [
    "import numpy as np\n",
    "import pandas as pd\n",
    "import matplotlib.pyplot as plt\n",
    "import seaborn as sns\n",
    "import tensorflow as tf\n",
    "from tqdm.auto import tqdm\n",
    "\n",
    "tqdm.pandas()\n",
    "pd.options.display.max_colwidth = None\n",
    "sns.set_style('darkgrid')"
   ]
  },
  {
   "cell_type": "code",
   "execution_count": 2,
   "metadata": {
    "execution": {
     "iopub.execute_input": "2021-12-18T12:04:22.596646Z",
     "iopub.status.busy": "2021-12-18T12:04:22.590134Z",
     "iopub.status.idle": "2021-12-18T12:04:25.056856Z",
     "shell.execute_reply": "2021-12-18T12:04:25.055579Z",
     "shell.execute_reply.started": "2021-12-18T12:04:22.596581Z"
    }
   },
   "outputs": [
    {
     "name": "stdout",
     "output_type": "stream",
     "text": [
      "(404290, 6)\n"
     ]
    },
    {
     "data": {
      "text/html": [
       "<div>\n",
       "<style scoped>\n",
       "    .dataframe tbody tr th:only-of-type {\n",
       "        vertical-align: middle;\n",
       "    }\n",
       "\n",
       "    .dataframe tbody tr th {\n",
       "        vertical-align: top;\n",
       "    }\n",
       "\n",
       "    .dataframe thead th {\n",
       "        text-align: right;\n",
       "    }\n",
       "</style>\n",
       "<table border=\"1\" class=\"dataframe\">\n",
       "  <thead>\n",
       "    <tr style=\"text-align: right;\">\n",
       "      <th></th>\n",
       "      <th>id</th>\n",
       "      <th>qid1</th>\n",
       "      <th>qid2</th>\n",
       "      <th>question1</th>\n",
       "      <th>question2</th>\n",
       "      <th>is_duplicate</th>\n",
       "    </tr>\n",
       "  </thead>\n",
       "  <tbody>\n",
       "    <tr>\n",
       "      <th>0</th>\n",
       "      <td>0</td>\n",
       "      <td>1</td>\n",
       "      <td>2</td>\n",
       "      <td>What is the step by step guide to invest in share market in india?</td>\n",
       "      <td>What is the step by step guide to invest in share market?</td>\n",
       "      <td>0</td>\n",
       "    </tr>\n",
       "    <tr>\n",
       "      <th>1</th>\n",
       "      <td>1</td>\n",
       "      <td>3</td>\n",
       "      <td>4</td>\n",
       "      <td>What is the story of Kohinoor (Koh-i-Noor) Diamond?</td>\n",
       "      <td>What would happen if the Indian government stole the Kohinoor (Koh-i-Noor) diamond back?</td>\n",
       "      <td>0</td>\n",
       "    </tr>\n",
       "    <tr>\n",
       "      <th>2</th>\n",
       "      <td>2</td>\n",
       "      <td>5</td>\n",
       "      <td>6</td>\n",
       "      <td>How can I increase the speed of my internet connection while using a VPN?</td>\n",
       "      <td>How can Internet speed be increased by hacking through DNS?</td>\n",
       "      <td>0</td>\n",
       "    </tr>\n",
       "    <tr>\n",
       "      <th>3</th>\n",
       "      <td>3</td>\n",
       "      <td>7</td>\n",
       "      <td>8</td>\n",
       "      <td>Why am I mentally very lonely? How can I solve it?</td>\n",
       "      <td>Find the remainder when [math]23^{24}[/math] is divided by 24,23?</td>\n",
       "      <td>0</td>\n",
       "    </tr>\n",
       "    <tr>\n",
       "      <th>4</th>\n",
       "      <td>4</td>\n",
       "      <td>9</td>\n",
       "      <td>10</td>\n",
       "      <td>Which one dissolve in water quikly sugar, salt, methane and carbon di oxide?</td>\n",
       "      <td>Which fish would survive in salt water?</td>\n",
       "      <td>0</td>\n",
       "    </tr>\n",
       "  </tbody>\n",
       "</table>\n",
       "</div>"
      ],
      "text/plain": [
       "   id  qid1  qid2  \\\n",
       "0   0     1     2   \n",
       "1   1     3     4   \n",
       "2   2     5     6   \n",
       "3   3     7     8   \n",
       "4   4     9    10   \n",
       "\n",
       "                                                                      question1  \\\n",
       "0            What is the step by step guide to invest in share market in india?   \n",
       "1                           What is the story of Kohinoor (Koh-i-Noor) Diamond?   \n",
       "2     How can I increase the speed of my internet connection while using a VPN?   \n",
       "3                            Why am I mentally very lonely? How can I solve it?   \n",
       "4  Which one dissolve in water quikly sugar, salt, methane and carbon di oxide?   \n",
       "\n",
       "                                                                                  question2  \\\n",
       "0                                 What is the step by step guide to invest in share market?   \n",
       "1  What would happen if the Indian government stole the Kohinoor (Koh-i-Noor) diamond back?   \n",
       "2                               How can Internet speed be increased by hacking through DNS?   \n",
       "3                         Find the remainder when [math]23^{24}[/math] is divided by 24,23?   \n",
       "4                                                   Which fish would survive in salt water?   \n",
       "\n",
       "   is_duplicate  \n",
       "0             0  \n",
       "1             0  \n",
       "2             0  \n",
       "3             0  \n",
       "4             0  "
      ]
     },
     "execution_count": 2,
     "metadata": {},
     "output_type": "execute_result"
    }
   ],
   "source": [
    "dtrain = pd.read_csv('../input/quora-question-pairs/train.csv.zip')\n",
    "print(dtrain.shape)\n",
    "dtrain.head()"
   ]
  },
  {
   "cell_type": "code",
   "execution_count": 3,
   "metadata": {
    "execution": {
     "iopub.execute_input": "2021-12-18T12:04:25.059512Z",
     "iopub.status.busy": "2021-12-18T12:04:25.058717Z",
     "iopub.status.idle": "2021-12-18T12:04:32.961198Z",
     "shell.execute_reply": "2021-12-18T12:04:32.959886Z",
     "shell.execute_reply.started": "2021-12-18T12:04:25.059441Z"
    }
   },
   "outputs": [
    {
     "name": "stdout",
     "output_type": "stream",
     "text": [
      "(2345796, 3)\n"
     ]
    },
    {
     "data": {
      "text/html": [
       "<div>\n",
       "<style scoped>\n",
       "    .dataframe tbody tr th:only-of-type {\n",
       "        vertical-align: middle;\n",
       "    }\n",
       "\n",
       "    .dataframe tbody tr th {\n",
       "        vertical-align: top;\n",
       "    }\n",
       "\n",
       "    .dataframe thead th {\n",
       "        text-align: right;\n",
       "    }\n",
       "</style>\n",
       "<table border=\"1\" class=\"dataframe\">\n",
       "  <thead>\n",
       "    <tr style=\"text-align: right;\">\n",
       "      <th></th>\n",
       "      <th>test_id</th>\n",
       "      <th>question1</th>\n",
       "      <th>question2</th>\n",
       "    </tr>\n",
       "  </thead>\n",
       "  <tbody>\n",
       "    <tr>\n",
       "      <th>0</th>\n",
       "      <td>0</td>\n",
       "      <td>How does the Surface Pro himself 4 compare with iPad Pro?</td>\n",
       "      <td>Why did Microsoft choose core m3 and not core i3 home Surface Pro 4?</td>\n",
       "    </tr>\n",
       "    <tr>\n",
       "      <th>1</th>\n",
       "      <td>1</td>\n",
       "      <td>Should I have a hair transplant at age 24? How much would it cost?</td>\n",
       "      <td>How much cost does hair transplant require?</td>\n",
       "    </tr>\n",
       "    <tr>\n",
       "      <th>2</th>\n",
       "      <td>2</td>\n",
       "      <td>What but is the best way to send money from China to the US?</td>\n",
       "      <td>What you send money to China?</td>\n",
       "    </tr>\n",
       "    <tr>\n",
       "      <th>3</th>\n",
       "      <td>3</td>\n",
       "      <td>Which food not emulsifiers?</td>\n",
       "      <td>What foods fibre?</td>\n",
       "    </tr>\n",
       "    <tr>\n",
       "      <th>4</th>\n",
       "      <td>4</td>\n",
       "      <td>How \"aberystwyth\" start reading?</td>\n",
       "      <td>How their can I start reading?</td>\n",
       "    </tr>\n",
       "  </tbody>\n",
       "</table>\n",
       "</div>"
      ],
      "text/plain": [
       "   test_id  \\\n",
       "0        0   \n",
       "1        1   \n",
       "2        2   \n",
       "3        3   \n",
       "4        4   \n",
       "\n",
       "                                                            question1  \\\n",
       "0           How does the Surface Pro himself 4 compare with iPad Pro?   \n",
       "1  Should I have a hair transplant at age 24? How much would it cost?   \n",
       "2        What but is the best way to send money from China to the US?   \n",
       "3                                         Which food not emulsifiers?   \n",
       "4                                    How \"aberystwyth\" start reading?   \n",
       "\n",
       "                                                              question2  \n",
       "0  Why did Microsoft choose core m3 and not core i3 home Surface Pro 4?  \n",
       "1                           How much cost does hair transplant require?  \n",
       "2                                         What you send money to China?  \n",
       "3                                                     What foods fibre?  \n",
       "4                                        How their can I start reading?  "
      ]
     },
     "execution_count": 3,
     "metadata": {},
     "output_type": "execute_result"
    }
   ],
   "source": [
    "dtest = pd.read_csv('../input/quora-question-pairs/test.csv')\n",
    "print(dtest.shape)\n",
    "dtest.head()"
   ]
  },
  {
   "cell_type": "markdown",
   "metadata": {},
   "source": [
    "# Text Cleaning"
   ]
  },
  {
   "cell_type": "code",
   "execution_count": 4,
   "metadata": {
    "execution": {
     "iopub.execute_input": "2021-12-18T12:04:32.963535Z",
     "iopub.status.busy": "2021-12-18T12:04:32.96288Z",
     "iopub.status.idle": "2021-12-18T12:04:45.816174Z",
     "shell.execute_reply": "2021-12-18T12:04:45.814815Z",
     "shell.execute_reply.started": "2021-12-18T12:04:32.963479Z"
    }
   },
   "outputs": [
    {
     "name": "stdout",
     "output_type": "stream",
     "text": [
      "CPU times: user 9.05 s, sys: 919 ms, total: 9.96 s\n",
      "Wall time: 12.8 s\n"
     ]
    },
    {
     "data": {
      "text/html": [
       "<div>\n",
       "<style scoped>\n",
       "    .dataframe tbody tr th:only-of-type {\n",
       "        vertical-align: middle;\n",
       "    }\n",
       "\n",
       "    .dataframe tbody tr th {\n",
       "        vertical-align: top;\n",
       "    }\n",
       "\n",
       "    .dataframe thead th {\n",
       "        text-align: right;\n",
       "    }\n",
       "</style>\n",
       "<table border=\"1\" class=\"dataframe\">\n",
       "  <thead>\n",
       "    <tr style=\"text-align: right;\">\n",
       "      <th></th>\n",
       "      <th>RawText</th>\n",
       "      <th>CleanedText</th>\n",
       "    </tr>\n",
       "  </thead>\n",
       "  <tbody>\n",
       "    <tr>\n",
       "      <th>0</th>\n",
       "      <td>What is the step by step guide to invest in share market in india?</td>\n",
       "      <td>step step guide invest share market india</td>\n",
       "    </tr>\n",
       "    <tr>\n",
       "      <th>1</th>\n",
       "      <td>What is the story of Kohinoor (Koh-i-Noor) Diamond?</td>\n",
       "      <td>story kohinoor koh noor diamond</td>\n",
       "    </tr>\n",
       "    <tr>\n",
       "      <th>2</th>\n",
       "      <td>How can I increase the speed of my internet connection while using a VPN?</td>\n",
       "      <td>increase speed internet connection vpn</td>\n",
       "    </tr>\n",
       "    <tr>\n",
       "      <th>3</th>\n",
       "      <td>Why am I mentally very lonely? How can I solve it?</td>\n",
       "      <td>mentally lonely solve</td>\n",
       "    </tr>\n",
       "    <tr>\n",
       "      <th>4</th>\n",
       "      <td>Which one dissolve in water quikly sugar, salt, methane and carbon di oxide?</td>\n",
       "      <td>dissolve water quikly sugar salt methane carbon di oxide</td>\n",
       "    </tr>\n",
       "  </tbody>\n",
       "</table>\n",
       "</div>"
      ],
      "text/plain": [
       "                                                                        RawText  \\\n",
       "0            What is the step by step guide to invest in share market in india?   \n",
       "1                           What is the story of Kohinoor (Koh-i-Noor) Diamond?   \n",
       "2     How can I increase the speed of my internet connection while using a VPN?   \n",
       "3                            Why am I mentally very lonely? How can I solve it?   \n",
       "4  Which one dissolve in water quikly sugar, salt, methane and carbon di oxide?   \n",
       "\n",
       "                                                 CleanedText  \n",
       "0                 step step guide invest share market india   \n",
       "1                           story kohinoor koh noor diamond   \n",
       "2                    increase speed internet connection vpn   \n",
       "3                                     mentally lonely solve   \n",
       "4  dissolve water quikly sugar salt methane carbon di oxide   "
      ]
     },
     "execution_count": 4,
     "metadata": {},
     "output_type": "execute_result"
    }
   ],
   "source": [
    "%%time\n",
    "\n",
    "all_ques = pd.read_csv('../input/qqp-cleaned/quora-ques-pair-all-ques.csv')\n",
    "all_ques.head()"
   ]
  },
  {
   "cell_type": "code",
   "execution_count": 5,
   "metadata": {
    "execution": {
     "iopub.execute_input": "2021-12-18T12:04:45.820782Z",
     "iopub.status.busy": "2021-12-18T12:04:45.820467Z",
     "iopub.status.idle": "2021-12-18T12:04:53.377631Z",
     "shell.execute_reply": "2021-12-18T12:04:53.375359Z",
     "shell.execute_reply.started": "2021-12-18T12:04:45.82075Z"
    }
   },
   "outputs": [
    {
     "name": "stdout",
     "output_type": "stream",
     "text": [
      "CPU times: user 7.32 s, sys: 225 ms, total: 7.55 s\n",
      "Wall time: 7.55 s\n"
     ]
    }
   ],
   "source": [
    "%%time\n",
    "\n",
    "text_map = {x:y for x, y in zip(all_ques['RawText'].values, all_ques['CleanedText'].values)}\n",
    "\n",
    "dtrain['question1'] = dtrain['question1'].apply(lambda x: text_map[x])\n",
    "dtrain['question2'] = dtrain['question2'].apply(lambda x: text_map[x])\n",
    "\n",
    "dtest['question1'] = dtest['question1'].apply(lambda x: text_map[x])\n",
    "dtest['question2'] = dtest['question2'].apply(lambda x: text_map[x])\n",
    "\n",
    "del text_map"
   ]
  },
  {
   "cell_type": "markdown",
   "metadata": {},
   "source": [
    "# Cross Validation"
   ]
  },
  {
   "cell_type": "code",
   "execution_count": 6,
   "metadata": {
    "execution": {
     "iopub.execute_input": "2021-12-18T12:04:53.38034Z",
     "iopub.status.busy": "2021-12-18T12:04:53.379908Z",
     "iopub.status.idle": "2021-12-18T12:04:53.843646Z",
     "shell.execute_reply": "2021-12-18T12:04:53.842659Z",
     "shell.execute_reply.started": "2021-12-18T12:04:53.380293Z"
    }
   },
   "outputs": [],
   "source": [
    "from sklearn.model_selection import StratifiedShuffleSplit\n",
    "\n",
    "sss = StratifiedShuffleSplit(n_splits=1, test_size=0.01, random_state=19)\n",
    "train_index, valid_index = list(sss.split(dtrain[['question1', 'question2']].values, dtrain['is_duplicate']))[0]"
   ]
  },
  {
   "cell_type": "code",
   "execution_count": 7,
   "metadata": {
    "execution": {
     "iopub.execute_input": "2021-12-18T12:04:53.846606Z",
     "iopub.status.busy": "2021-12-18T12:04:53.846285Z",
     "iopub.status.idle": "2021-12-18T12:04:53.854076Z",
     "shell.execute_reply": "2021-12-18T12:04:53.852578Z",
     "shell.execute_reply.started": "2021-12-18T12:04:53.846575Z"
    }
   },
   "outputs": [],
   "source": [
    "from sklearn.metrics import confusion_matrix, classification_report\n",
    "\n",
    "def evaluate_model(model, x_train, x_valid, y_train, y_valid):\n",
    "    print('Train Set:')\n",
    "    print()\n",
    "    print(classification_report(y_train, model.predict(x_train)))\n",
    "    \n",
    "    print()\n",
    "    print()\n",
    "    \n",
    "    print('Validation Set:')\n",
    "    print()\n",
    "    print(classification_report(y_valid, model.predict(x_valid)))"
   ]
  },
  {
   "cell_type": "markdown",
   "metadata": {},
   "source": [
    "# Vectorization"
   ]
  },
  {
   "cell_type": "code",
   "execution_count": 8,
   "metadata": {
    "execution": {
     "iopub.execute_input": "2021-12-18T12:04:53.856053Z",
     "iopub.status.busy": "2021-12-18T12:04:53.855572Z",
     "iopub.status.idle": "2021-12-18T12:05:47.081707Z",
     "shell.execute_reply": "2021-12-18T12:05:47.080575Z",
     "shell.execute_reply.started": "2021-12-18T12:04:53.855995Z"
    }
   },
   "outputs": [
    {
     "name": "stdout",
     "output_type": "stream",
     "text": [
      "CPU times: user 52.2 s, sys: 844 ms, total: 53 s\n",
      "Wall time: 53.2 s\n"
     ]
    },
    {
     "data": {
      "text/plain": [
       "((400247,), (4043,))"
      ]
     },
     "execution_count": 8,
     "metadata": {},
     "output_type": "execute_result"
    }
   ],
   "source": [
    "%%time\n",
    "\n",
    "from sklearn.feature_extraction.text import TfidfVectorizer\n",
    "\n",
    "vectorizer = TfidfVectorizer(\n",
    "    ngram_range=(1, 1),\n",
    "    min_df=1,\n",
    "    max_df=1.0,\n",
    "    sublinear_tf=True\n",
    ").fit(all_ques['CleanedText'].fillna('').values)\n",
    "\n",
    "x_train = dtrain[['question1', 'question2']].iloc[train_index].reset_index(drop=True)\n",
    "x_valid = dtrain[['question1', 'question2']].iloc[valid_index].reset_index(drop=True)\n",
    "\n",
    "y_train = dtrain['is_duplicate'].iloc[train_index].reset_index(drop=True).values\n",
    "y_valid = dtrain['is_duplicate'].iloc[valid_index].reset_index(drop=True).values\n",
    "\n",
    "del all_ques\n",
    "\n",
    "y_train.shape, y_valid.shape"
   ]
  },
  {
   "cell_type": "code",
   "execution_count": 9,
   "metadata": {
    "execution": {
     "iopub.execute_input": "2021-12-18T12:05:47.083838Z",
     "iopub.status.busy": "2021-12-18T12:05:47.083357Z",
     "iopub.status.idle": "2021-12-18T12:05:47.091748Z",
     "shell.execute_reply": "2021-12-18T12:05:47.090332Z",
     "shell.execute_reply.started": "2021-12-18T12:05:47.083793Z"
    }
   },
   "outputs": [],
   "source": [
    "def sparse_tensor(X):\n",
    "    coo = X.tocoo()\n",
    "    indices = np.mat([coo.row, coo.col]).transpose()\n",
    "    return tf.sparse.reorder(tf.SparseTensor(indices, coo.data, coo.shape))"
   ]
  },
  {
   "cell_type": "code",
   "execution_count": 10,
   "metadata": {
    "execution": {
     "iopub.execute_input": "2021-12-18T12:05:47.094044Z",
     "iopub.status.busy": "2021-12-18T12:05:47.09352Z",
     "iopub.status.idle": "2021-12-18T12:06:55.719007Z",
     "shell.execute_reply": "2021-12-18T12:06:55.71623Z",
     "shell.execute_reply.started": "2021-12-18T12:05:47.093995Z"
    }
   },
   "outputs": [
    {
     "name": "stdout",
     "output_type": "stream",
     "text": [
      "CPU times: user 1min 4s, sys: 2.23 s, total: 1min 6s\n",
      "Wall time: 1min 8s\n"
     ]
    },
    {
     "data": {
      "text/plain": [
       "(TensorShape([400247, 102967]),\n",
       " TensorShape([4043, 102967]),\n",
       " TensorShape([2345796, 102967]))"
      ]
     },
     "execution_count": 10,
     "metadata": {},
     "output_type": "execute_result"
    }
   ],
   "source": [
    "%%time\n",
    "\n",
    "from scipy import sparse\n",
    "\n",
    "x_train_1 = vectorizer.transform(x_train['question1'].fillna(''))\n",
    "x_train_2 = vectorizer.transform(x_train['question2'].fillna(''))\n",
    "\n",
    "x_valid_1 = vectorizer.transform(x_valid['question1'].fillna(''))\n",
    "x_valid_2 = vectorizer.transform(x_valid['question2'].fillna(''))\n",
    "\n",
    "x_test_1 = vectorizer.transform(dtest['question1'].fillna(''))\n",
    "x_test_2 = vectorizer.transform(dtest['question2'].fillna(''))\n",
    "\n",
    "x_train = [sparse_tensor(x_train_1), sparse_tensor(x_train_2)]\n",
    "x_valid = [sparse_tensor(x_valid_1), sparse_tensor(x_valid_2)]\n",
    "x_test = [sparse_tensor(x_test_1), sparse_tensor(x_test_2)]\n",
    "\n",
    "x = [\n",
    "    sparse_tensor(sparse.vstack([x_train_1, x_valid_1])), \n",
    "    sparse_tensor(sparse.vstack([x_train_2, x_valid_2]))\n",
    "]\n",
    "y = np.concatenate([y_train, y_valid])\n",
    "\n",
    "del x_train_1, x_train_2, x_valid_1, x_valid_2, x_test_1, x_test_2\n",
    "\n",
    "x_train[0].shape, x_valid[0].shape, x_test[0].shape"
   ]
  },
  {
   "cell_type": "markdown",
   "metadata": {},
   "source": [
    "# Modelling"
   ]
  },
  {
   "cell_type": "code",
   "execution_count": 11,
   "metadata": {
    "execution": {
     "iopub.execute_input": "2021-12-18T12:06:55.721275Z",
     "iopub.status.busy": "2021-12-18T12:06:55.720816Z",
     "iopub.status.idle": "2021-12-18T12:06:55.727558Z",
     "shell.execute_reply": "2021-12-18T12:06:55.726302Z",
     "shell.execute_reply.started": "2021-12-18T12:06:55.72123Z"
    }
   },
   "outputs": [],
   "source": [
    "import tensorflow.keras.backend as K\n",
    "from tensorflow.keras.models import Model, Sequential\n",
    "from tensorflow.keras import layers, utils, callbacks, optimizers, regularizers"
   ]
  },
  {
   "cell_type": "code",
   "execution_count": 12,
   "metadata": {
    "execution": {
     "iopub.execute_input": "2021-12-18T12:06:55.730173Z",
     "iopub.status.busy": "2021-12-18T12:06:55.729616Z",
     "iopub.status.idle": "2021-12-18T12:06:55.740422Z",
     "shell.execute_reply": "2021-12-18T12:06:55.738871Z",
     "shell.execute_reply.started": "2021-12-18T12:06:55.730126Z"
    }
   },
   "outputs": [],
   "source": [
    "def euclidean_distance(vectors):\n",
    "    (featsA, featsB) = vectors\n",
    "    sumSquared = K.sum(K.square(featsA - featsB), axis=1, keepdims=True)\n",
    "    return K.sqrt(K.maximum(sumSquared, K.epsilon()))\n",
    "\n",
    "def cosine_similarity(vectors):\n",
    "    (featsA, featsB) = vectors\n",
    "    featsA = K.l2_normalize(featsA, axis=-1)\n",
    "    featsB = K.l2_normalize(featsB, axis=-1)\n",
    "    return K.mean(featsA * featsB, axis=-1, keepdims=True)"
   ]
  },
  {
   "cell_type": "code",
   "execution_count": 13,
   "metadata": {
    "execution": {
     "iopub.execute_input": "2021-12-18T12:06:55.74334Z",
     "iopub.status.busy": "2021-12-18T12:06:55.742505Z",
     "iopub.status.idle": "2021-12-18T12:06:56.275152Z",
     "shell.execute_reply": "2021-12-18T12:06:56.2737Z",
     "shell.execute_reply.started": "2021-12-18T12:06:55.743291Z"
    }
   },
   "outputs": [],
   "source": [
    "class SiameseNetwork(Model):\n",
    "    def __init__(self, inputShape, featExtractorConfig):\n",
    "        super(SiameseNetwork, self).__init__()\n",
    "        \n",
    "        inpA = layers.Input(shape=inputShape)\n",
    "        inpB = layers.Input(shape=inputShape)\n",
    "        featureExtractor = self.build_feature_extractor(inputShape, featExtractorConfig)\n",
    "        featsA = featureExtractor(inpA)\n",
    "        featsB = featureExtractor(inpB)\n",
    "        distance = layers.Concatenate()([featsA, featsB])\n",
    "        outputs = layers.Dense(1, activation=\"sigmoid\")(distance)\n",
    "        self.model = Model(inputs=[inpA, inpB], outputs=outputs)        \n",
    "        \n",
    "    def build_feature_extractor(self, inputShape, featExtractorConfig):\n",
    "        \n",
    "        layers_config = [layers.Input(inputShape)]\n",
    "        for i, n_units in enumerate(featExtractorConfig):\n",
    "            layers_config.append(layers.Dense(n_units))\n",
    "            layers_config.append(layers.Dropout(0.5))\n",
    "            layers_config.append(layers.BatchNormalization())\n",
    "            layers_config.append(layers.Activation('relu'))\n",
    "        \n",
    "        model = Sequential(layers_config, name='feature_extractor')\n",
    "\n",
    "        return model  \n",
    "        \n",
    "    def call(self, x):\n",
    "        return self.model(x)\n",
    "\n",
    "model = SiameseNetwork(inputShape=x_train[0].shape[1], featExtractorConfig=[100])\n",
    "model.compile(\n",
    "    loss=\"binary_crossentropy\", \n",
    "    optimizer=optimizers.Adam(learning_rate=0.0001),\n",
    "    metrics=[\"accuracy\"]\n",
    ")"
   ]
  },
  {
   "cell_type": "code",
   "execution_count": 14,
   "metadata": {
    "execution": {
     "iopub.execute_input": "2021-12-18T12:06:56.281609Z",
     "iopub.status.busy": "2021-12-18T12:06:56.280956Z",
     "iopub.status.idle": "2021-12-18T12:06:57.178066Z",
     "shell.execute_reply": "2021-12-18T12:06:57.176558Z",
     "shell.execute_reply.started": "2021-12-18T12:06:56.28156Z"
    }
   },
   "outputs": [
    {
     "name": "stdout",
     "output_type": "stream",
     "text": [
      "Model: \"feature_extractor\"\n",
      "_________________________________________________________________\n",
      "Layer (type)                 Output Shape              Param #   \n",
      "=================================================================\n",
      "dense (Dense)                (None, 100)               10296800  \n",
      "_________________________________________________________________\n",
      "dropout (Dropout)            (None, 100)               0         \n",
      "_________________________________________________________________\n",
      "batch_normalization (BatchNo (None, 100)               400       \n",
      "_________________________________________________________________\n",
      "activation (Activation)      (None, 100)               0         \n",
      "=================================================================\n",
      "Total params: 10,297,200\n",
      "Trainable params: 10,297,000\n",
      "Non-trainable params: 200\n",
      "_________________________________________________________________\n",
      "Model: \"model\"\n",
      "__________________________________________________________________________________________________\n",
      "Layer (type)                    Output Shape         Param #     Connected to                     \n",
      "==================================================================================================\n",
      "input_1 (InputLayer)            [(None, 102967)]     0                                            \n",
      "__________________________________________________________________________________________________\n",
      "input_2 (InputLayer)            [(None, 102967)]     0                                            \n",
      "__________________________________________________________________________________________________\n",
      "feature_extractor (Sequential)  (None, 100)          10297200    input_1[0][0]                    \n",
      "                                                                 input_2[0][0]                    \n",
      "__________________________________________________________________________________________________\n",
      "concatenate (Concatenate)       (None, 200)          0           feature_extractor[0][0]          \n",
      "                                                                 feature_extractor[1][0]          \n",
      "__________________________________________________________________________________________________\n",
      "dense_1 (Dense)                 (None, 1)            201         concatenate[0][0]                \n",
      "==================================================================================================\n",
      "Total params: 10,297,401\n",
      "Trainable params: 10,297,201\n",
      "Non-trainable params: 200\n",
      "__________________________________________________________________________________________________\n"
     ]
    },
    {
     "data": {
      "image/png": "[encoded data removed]",
      "text/plain": [
       "<IPython.core.display.Image object>"
      ]
     },
     "execution_count": 14,
     "metadata": {},
     "output_type": "execute_result"
    }
   ],
   "source": [
    "model.model.layers[2].summary()\n",
    "model.model.summary()\n",
    "utils.plot_model(model.model, show_shapes=True, expand_nested=True)"
   ]
  },
  {
   "cell_type": "code",
   "execution_count": 15,
   "metadata": {
    "execution": {
     "iopub.execute_input": "2021-12-18T12:06:57.180732Z",
     "iopub.status.busy": "2021-12-18T12:06:57.180256Z",
     "iopub.status.idle": "2021-12-18T12:21:20.794851Z",
     "shell.execute_reply": "2021-12-18T12:21:20.793542Z",
     "shell.execute_reply.started": "2021-12-18T12:06:57.180693Z"
    }
   },
   "outputs": [
    {
     "name": "stdout",
     "output_type": "stream",
     "text": [
      "Epoch 1/100\n",
      "12508/12508 [==============================] - 82s 6ms/step - loss: 0.5586 - accuracy: 0.7233 - val_loss: 0.5181 - val_accuracy: 0.7504\n",
      "Epoch 2/100\n",
      "12508/12508 [==============================] - 78s 6ms/step - loss: 0.4802 - accuracy: 0.7730 - val_loss: 0.5016 - val_accuracy: 0.7591\n",
      "Epoch 3/100\n",
      "12508/12508 [==============================] - 78s 6ms/step - loss: 0.4522 - accuracy: 0.7892 - val_loss: 0.4996 - val_accuracy: 0.7608\n",
      "Epoch 4/100\n",
      "12508/12508 [==============================] - 79s 6ms/step - loss: 0.4350 - accuracy: 0.7988 - val_loss: 0.4946 - val_accuracy: 0.7638\n",
      "Epoch 5/100\n",
      "12508/12508 [==============================] - 78s 6ms/step - loss: 0.4181 - accuracy: 0.8088 - val_loss: 0.4919 - val_accuracy: 0.7727\n",
      "Epoch 6/100\n",
      "12508/12508 [==============================] - 77s 6ms/step - loss: 0.4053 - accuracy: 0.8152 - val_loss: 0.4902 - val_accuracy: 0.7685\n",
      "Epoch 7/100\n",
      "12508/12508 [==============================] - 78s 6ms/step - loss: 0.3922 - accuracy: 0.8224 - val_loss: 0.4922 - val_accuracy: 0.7700\n",
      "Epoch 8/100\n",
      "12508/12508 [==============================] - 77s 6ms/step - loss: 0.3820 - accuracy: 0.8282 - val_loss: 0.4906 - val_accuracy: 0.7722\n",
      "\n",
      "Epoch 00008: ReduceLROnPlateau reducing learning rate to 9.999999747378752e-06.\n",
      "Epoch 9/100\n",
      "12508/12508 [==============================] - 77s 6ms/step - loss: 0.3639 - accuracy: 0.8382 - val_loss: 0.4906 - val_accuracy: 0.7727\n",
      "Epoch 10/100\n",
      "12508/12508 [==============================] - 78s 6ms/step - loss: 0.3600 - accuracy: 0.8411 - val_loss: 0.4909 - val_accuracy: 0.7744\n",
      "\n",
      "Epoch 00010: ReduceLROnPlateau reducing learning rate to 9.999999747378752e-07.\n",
      "Epoch 11/100\n",
      "12508/12508 [==============================] - 79s 6ms/step - loss: 0.3572 - accuracy: 0.8417 - val_loss: 0.4915 - val_accuracy: 0.7759\n",
      "Restoring model weights from the end of the best epoch.\n",
      "Epoch 00011: early stopping\n"
     ]
    }
   ],
   "source": [
    "es = callbacks.EarlyStopping(\n",
    "    monitor='val_loss', patience=5, verbose=1, restore_best_weights=True\n",
    ")\n",
    "\n",
    "rlp = callbacks.ReduceLROnPlateau(\n",
    "    monitor='val_loss', factor=0.1, patience=2, min_lr=1e-10, mode='min', verbose=1\n",
    ")\n",
    "\n",
    "history = model.fit(\n",
    "    x_train, y_train,\n",
    "    validation_data=(x_valid, y_valid),\n",
    "    batch_size=32, \n",
    "    epochs=100,\n",
    "    callbacks=[es, rlp]\n",
    ")"
   ]
  },
  {
   "cell_type": "code",
   "execution_count": 16,
   "metadata": {
    "execution": {
     "iopub.execute_input": "2021-12-18T12:21:20.798429Z",
     "iopub.status.busy": "2021-12-18T12:21:20.797742Z",
     "iopub.status.idle": "2021-12-18T12:21:21.777532Z",
     "shell.execute_reply": "2021-12-18T12:21:21.776329Z",
     "shell.execute_reply.started": "2021-12-18T12:21:20.798384Z"
    }
   },
   "outputs": [
    {
     "data": {
      "image/png": "[encoded data removed]",
      "text/plain": [
       "<Figure size 1440x576 with 2 Axes>"
      ]
     },
     "metadata": {},
     "output_type": "display_data"
    }
   ],
   "source": [
    "fig, ax = plt.subplots(2, 1, figsize=(20, 8))\n",
    "df = pd.DataFrame(history.history)\n",
    "df[['accuracy', 'val_accuracy']].plot(ax=ax[0])\n",
    "df[['loss', 'val_loss']].plot(ax=ax[1])\n",
    "ax[0].set_title('Model Accuracy', fontsize=12)\n",
    "ax[1].set_title('Model Loss', fontsize=12)\n",
    "fig.suptitle('Siamese Network: Learning Curve', fontsize=18);"
   ]
  },
  {
   "cell_type": "code",
   "execution_count": 17,
   "metadata": {
    "execution": {
     "iopub.execute_input": "2021-12-18T12:21:21.779886Z",
     "iopub.status.busy": "2021-12-18T12:21:21.779208Z",
     "iopub.status.idle": "2021-12-18T12:23:51.446591Z",
     "shell.execute_reply": "2021-12-18T12:23:51.445283Z",
     "shell.execute_reply.started": "2021-12-18T12:21:21.779839Z"
    }
   },
   "outputs": [
    {
     "name": "stdout",
     "output_type": "stream",
     "text": [
      "CPU times: user 3min 6s, sys: 22.1 s, total: 3min 28s\n",
      "Wall time: 2min 29s\n"
     ]
    }
   ],
   "source": [
    "%%time\n",
    "\n",
    "submission = pd.DataFrame({\n",
    "    'test_id': dtest.test_id.values,\n",
    "    'is_duplicate': np.ravel(model.predict(x_test, batch_size=32))\n",
    "})\n",
    "submission.to_csv('submission.csv', index=False)"
   ]
  },
  {
   "cell_type": "code",
   "execution_count": null,
   "metadata": {},
   "outputs": [],
   "source": []
  }
 ],
 "metadata": {
  "kernelspec": {
   "display_name": "Python 3",
   "language": "python",
   "name": "python3"
  },
  "language_info": {
   "codemirror_mode": {
    "name": "ipython",
    "version": 3
   },
   "file_extension": ".py",
   "mimetype": "text/x-python",
   "name": "python",
   "nbconvert_exporter": "python",
   "pygments_lexer": "ipython3",
   "version": "3.8.8"
  }
 },
 "nbformat": 4,
 "nbformat_minor": 4
}
