{
 "cells": [
  {
   "cell_type": "code",
   "execution_count": 1,
   "id": "7902d4cd",
   "metadata": {
    "_cell_guid": "b1076dfc-b9ad-4769-8c92-a6c4dae69d19",
    "_uuid": "8f2839f25d086af736a60e9eeb907d3b93b6e0e5",
    "execution": {
     "iopub.execute_input": "2022-07-02T08:59:58.238769Z",
     "iopub.status.busy": "2022-07-02T08:59:58.238045Z",
     "iopub.status.idle": "2022-07-02T09:00:06.038348Z",
     "shell.execute_reply": "2022-07-02T09:00:06.037316Z"
    },
    "papermill": {
     "duration": 7.811851,
     "end_time": "2022-07-02T09:00:06.041788",
     "exception": false,
     "start_time": "2022-07-02T08:59:58.229937",
     "status": "completed"
    },
    "tags": []
   },
   "outputs": [],
   "source": [
    "import os, re\n",
    "import numpy as np\n",
    "import pandas as pd\n",
    "import tensorflow as tf\n",
    "from sklearn.datasets import fetch_20newsgroups\n",
    "from sklearn.metrics import precision_recall_fscore_support, confusion_matrix\n",
    "from transformers import RobertaTokenizer, RobertaConfig, TFRobertaForSequenceClassification\n",
    "from tokenizers import ByteLevelBPETokenizer\n",
    "pd.options.display.max_columns = 30"
   ]
  },
  {
   "cell_type": "markdown",
   "id": "8bfaca54",
   "metadata": {
    "papermill": {
     "duration": 0.006331,
     "end_time": "2022-07-02T09:00:06.056136",
     "exception": false,
     "start_time": "2022-07-02T09:00:06.049805",
     "status": "completed"
    },
    "tags": []
   },
   "source": [
    "# Get the Data"
   ]
  },
  {
   "cell_type": "code",
   "execution_count": 2,
   "id": "aa706b43",
   "metadata": {
    "execution": {
     "iopub.execute_input": "2022-07-02T09:00:06.071316Z",
     "iopub.status.busy": "2022-07-02T09:00:06.070547Z",
     "iopub.status.idle": "2022-07-02T09:00:19.644874Z",
     "shell.execute_reply": "2022-07-02T09:00:19.643887Z"
    },
    "papermill": {
     "duration": 13.584385,
     "end_time": "2022-07-02T09:00:19.647150",
     "exception": false,
     "start_time": "2022-07-02T09:00:06.062765",
     "status": "completed"
    },
    "tags": []
   },
   "outputs": [],
   "source": [
    "x_train, y_train = fetch_20newsgroups(subset='train', return_X_y=True)\n",
    "x_valid, y_valid = fetch_20newsgroups(subset='test', return_X_y=True)"
   ]
  },
  {
   "cell_type": "markdown",
   "id": "4b254a86",
   "metadata": {
    "papermill": {
     "duration": 0.004159,
     "end_time": "2022-07-02T09:00:19.655985",
     "exception": false,
     "start_time": "2022-07-02T09:00:19.651826",
     "status": "completed"
    },
    "tags": []
   },
   "source": [
    "# Build Tokenizer"
   ]
  },
  {
   "cell_type": "code",
   "execution_count": 3,
   "id": "97133e29",
   "metadata": {
    "execution": {
     "iopub.execute_input": "2022-07-02T09:00:19.666083Z",
     "iopub.status.busy": "2022-07-02T09:00:19.665482Z",
     "iopub.status.idle": "2022-07-02T09:00:21.641402Z",
     "shell.execute_reply": "2022-07-02T09:00:21.640455Z"
    },
    "papermill": {
     "duration": 1.983663,
     "end_time": "2022-07-02T09:00:21.643989",
     "exception": false,
     "start_time": "2022-07-02T09:00:19.660326",
     "status": "completed"
    },
    "tags": []
   },
   "outputs": [],
   "source": [
    "os.mkdir('text_files')\n",
    "for e, text in enumerate(x_train):\n",
    "    with open(f\"text_files/train_{e+1:05}.txt\", 'w') as f:\n",
    "        f.write(re.sub(r'\\s+', ' ', text))"
   ]
  },
  {
   "cell_type": "code",
   "execution_count": 4,
   "id": "1e1ec840",
   "metadata": {
    "execution": {
     "iopub.execute_input": "2022-07-02T09:00:21.654182Z",
     "iopub.status.busy": "2022-07-02T09:00:21.653910Z",
     "iopub.status.idle": "2022-07-02T09:00:33.823137Z",
     "shell.execute_reply": "2022-07-02T09:00:33.821613Z"
    },
    "papermill": {
     "duration": 12.177139,
     "end_time": "2022-07-02T09:00:33.825757",
     "exception": false,
     "start_time": "2022-07-02T09:00:21.648618",
     "status": "completed"
    },
    "tags": []
   },
   "outputs": [
    {
     "name": "stdout",
     "output_type": "stream",
     "text": [
      "\n",
      "\n",
      "\n"
     ]
    },
    {
     "data": {
      "text/plain": [
       "['tokenizer/vocab.json', 'tokenizer/merges.txt']"
      ]
     },
     "execution_count": 4,
     "metadata": {},
     "output_type": "execute_result"
    }
   ],
   "source": [
    "tokenizer = ByteLevelBPETokenizer()\n",
    "tokenizer.train(\n",
    "    files=[f\"text_files/train_{e+1:05}.txt\" for e in range(len(x_train))], vocab_size=30_522,\n",
    "    special_tokens=['<s>', '<pad>', '</s>', '<unk>', '<mask>']\n",
    ")\n",
    "os.mkdir('tokenizer')\n",
    "tokenizer.save_model('tokenizer')"
   ]
  },
  {
   "cell_type": "markdown",
   "id": "fe4a9eaf",
   "metadata": {
    "papermill": {
     "duration": 0.004381,
     "end_time": "2022-07-02T09:00:33.835192",
     "exception": false,
     "start_time": "2022-07-02T09:00:33.830811",
     "status": "completed"
    },
    "tags": []
   },
   "source": [
    "# Tokenize Data"
   ]
  },
  {
   "cell_type": "code",
   "execution_count": 5,
   "id": "4498fb60",
   "metadata": {
    "execution": {
     "iopub.execute_input": "2022-07-02T09:00:33.845543Z",
     "iopub.status.busy": "2022-07-02T09:00:33.845263Z",
     "iopub.status.idle": "2022-07-02T09:00:33.905662Z",
     "shell.execute_reply": "2022-07-02T09:00:33.904739Z"
    },
    "papermill": {
     "duration": 0.068114,
     "end_time": "2022-07-02T09:00:33.907824",
     "exception": false,
     "start_time": "2022-07-02T09:00:33.839710",
     "status": "completed"
    },
    "tags": []
   },
   "outputs": [],
   "source": [
    "tokenizer = RobertaTokenizer.from_pretrained('tokenizer')\n",
    "def tokenize(texts):\n",
    "    return tokenizer(\n",
    "        texts, padding='max_length', truncation=True, max_length=512, return_tensors='np'\n",
    "    )"
   ]
  },
  {
   "cell_type": "code",
   "execution_count": 6,
   "id": "de117dc8",
   "metadata": {
    "execution": {
     "iopub.execute_input": "2022-07-02T09:00:33.919431Z",
     "iopub.status.busy": "2022-07-02T09:00:33.918667Z",
     "iopub.status.idle": "2022-07-02T09:02:02.512382Z",
     "shell.execute_reply": "2022-07-02T09:02:02.511395Z"
    },
    "papermill": {
     "duration": 88.602486,
     "end_time": "2022-07-02T09:02:02.515200",
     "exception": false,
     "start_time": "2022-07-02T09:00:33.912714",
     "status": "completed"
    },
    "tags": []
   },
   "outputs": [],
   "source": [
    "x_train_tokenized = tokenize(x_train)\n",
    "x_valid_tokenized = tokenize(x_valid)"
   ]
  },
  {
   "cell_type": "markdown",
   "id": "7b15e105",
   "metadata": {
    "papermill": {
     "duration": 0.004607,
     "end_time": "2022-07-02T09:02:02.524943",
     "exception": false,
     "start_time": "2022-07-02T09:02:02.520336",
     "status": "completed"
    },
    "tags": []
   },
   "source": [
    "# Prepare Data Loaders"
   ]
  },
  {
   "cell_type": "code",
   "execution_count": 7,
   "id": "981a0c92",
   "metadata": {
    "execution": {
     "iopub.execute_input": "2022-07-02T09:02:02.536365Z",
     "iopub.status.busy": "2022-07-02T09:02:02.534986Z",
     "iopub.status.idle": "2022-07-02T09:02:07.658221Z",
     "shell.execute_reply": "2022-07-02T09:02:07.657127Z"
    },
    "papermill": {
     "duration": 5.131112,
     "end_time": "2022-07-02T09:02:07.660565",
     "exception": false,
     "start_time": "2022-07-02T09:02:02.529453",
     "status": "completed"
    },
    "tags": []
   },
   "outputs": [
    {
     "name": "stderr",
     "output_type": "stream",
     "text": [
      "2022-07-02 09:02:02.597933: I tensorflow/stream_executor/cuda/cuda_gpu_executor.cc:937] successful NUMA node read from SysFS had negative value (-1), but there must be at least one NUMA node, so returning NUMA node zero\n",
      "2022-07-02 09:02:02.598987: I tensorflow/stream_executor/cuda/cuda_gpu_executor.cc:937] successful NUMA node read from SysFS had negative value (-1), but there must be at least one NUMA node, so returning NUMA node zero\n",
      "2022-07-02 09:02:02.599670: I tensorflow/stream_executor/cuda/cuda_gpu_executor.cc:937] successful NUMA node read from SysFS had negative value (-1), but there must be at least one NUMA node, so returning NUMA node zero\n",
      "2022-07-02 09:02:02.602330: I tensorflow/core/platform/cpu_feature_guard.cc:142] This TensorFlow binary is optimized with oneAPI Deep Neural Network Library (oneDNN) to use the following CPU instructions in performance-critical operations:  AVX2 AVX512F FMA\n",
      "To enable them in other operations, rebuild TensorFlow with the appropriate compiler flags.\n",
      "2022-07-02 09:02:02.602640: I tensorflow/stream_executor/cuda/cuda_gpu_executor.cc:937] successful NUMA node read from SysFS had negative value (-1), but there must be at least one NUMA node, so returning NUMA node zero\n",
      "2022-07-02 09:02:02.603323: I tensorflow/stream_executor/cuda/cuda_gpu_executor.cc:937] successful NUMA node read from SysFS had negative value (-1), but there must be at least one NUMA node, so returning NUMA node zero\n",
      "2022-07-02 09:02:02.604007: I tensorflow/stream_executor/cuda/cuda_gpu_executor.cc:937] successful NUMA node read from SysFS had negative value (-1), but there must be at least one NUMA node, so returning NUMA node zero\n",
      "2022-07-02 09:02:07.080200: I tensorflow/stream_executor/cuda/cuda_gpu_executor.cc:937] successful NUMA node read from SysFS had negative value (-1), but there must be at least one NUMA node, so returning NUMA node zero\n",
      "2022-07-02 09:02:07.081191: I tensorflow/stream_executor/cuda/cuda_gpu_executor.cc:937] successful NUMA node read from SysFS had negative value (-1), but there must be at least one NUMA node, so returning NUMA node zero\n",
      "2022-07-02 09:02:07.081931: I tensorflow/stream_executor/cuda/cuda_gpu_executor.cc:937] successful NUMA node read from SysFS had negative value (-1), but there must be at least one NUMA node, so returning NUMA node zero\n",
      "2022-07-02 09:02:07.082536: I tensorflow/core/common_runtime/gpu/gpu_device.cc:1510] Created device /job:localhost/replica:0/task:0/device:GPU:0 with 15047 MB memory:  -> device: 0, name: Tesla P100-PCIE-16GB, pci bus id: 0000:00:04.0, compute capability: 6.0\n"
     ]
    }
   ],
   "source": [
    "train_data = tf.data.Dataset.from_tensor_slices((dict(x_train_tokenized), y_train)).batch(8)\n",
    "valid_data = tf.data.Dataset.from_tensor_slices((dict(x_valid_tokenized), y_valid)).batch(8)"
   ]
  },
  {
   "cell_type": "markdown",
   "id": "267baab8",
   "metadata": {
    "papermill": {
     "duration": 0.005633,
     "end_time": "2022-07-02T09:02:07.671874",
     "exception": false,
     "start_time": "2022-07-02T09:02:07.666241",
     "status": "completed"
    },
    "tags": []
   },
   "source": [
    "# Build Model"
   ]
  },
  {
   "cell_type": "code",
   "execution_count": 8,
   "id": "ea79ded8",
   "metadata": {
    "execution": {
     "iopub.execute_input": "2022-07-02T09:02:07.683113Z",
     "iopub.status.busy": "2022-07-02T09:02:07.682763Z",
     "iopub.status.idle": "2022-07-02T09:02:07.775596Z",
     "shell.execute_reply": "2022-07-02T09:02:07.774667Z"
    },
    "papermill": {
     "duration": 0.101409,
     "end_time": "2022-07-02T09:02:07.778036",
     "exception": false,
     "start_time": "2022-07-02T09:02:07.676627",
     "status": "completed"
    },
    "tags": []
   },
   "outputs": [],
   "source": [
    "config = RobertaConfig(\n",
    "    vocab_size=30_522,\n",
    "    max_position_embeddings=514,\n",
    "    hidden_size=768,\n",
    "    num_attention_heads=12,\n",
    "    num_hidden_layers=6,\n",
    "    type_vocab_size=1, \n",
    "    num_labels=20,\n",
    ")\n",
    "model = TFRobertaForSequenceClassification(config)"
   ]
  },
  {
   "cell_type": "markdown",
   "id": "f8634e6f",
   "metadata": {
    "papermill": {
     "duration": 0.005025,
     "end_time": "2022-07-02T09:02:07.788322",
     "exception": false,
     "start_time": "2022-07-02T09:02:07.783297",
     "status": "completed"
    },
    "tags": []
   },
   "source": [
    "# Train"
   ]
  },
  {
   "cell_type": "code",
   "execution_count": 9,
   "id": "43cc8cd2",
   "metadata": {
    "execution": {
     "iopub.execute_input": "2022-07-02T09:02:07.799267Z",
     "iopub.status.busy": "2022-07-02T09:02:07.798975Z",
     "iopub.status.idle": "2022-07-02T09:10:45.699724Z",
     "shell.execute_reply": "2022-07-02T09:10:45.698728Z"
    },
    "papermill": {
     "duration": 517.908738,
     "end_time": "2022-07-02T09:10:45.702178",
     "exception": false,
     "start_time": "2022-07-02T09:02:07.793440",
     "status": "completed"
    },
    "tags": []
   },
   "outputs": [
    {
     "name": "stderr",
     "output_type": "stream",
     "text": [
      "2022-07-02 09:02:19.420427: I tensorflow/compiler/mlir/mlir_graph_optimization_pass.cc:185] None of the MLIR Optimization Passes are enabled (registered 2)\n"
     ]
    },
    {
     "name": "stdout",
     "output_type": "stream",
     "text": [
      "1415/1415 [==============================] - 517s 356ms/step - loss: 3.0515 - accuracy: 0.0495 - val_loss: 3.0625 - val_accuracy: 0.0530\n"
     ]
    }
   ],
   "source": [
    "model.compile(\n",
    "    optimizer=tf.optimizers.Adam(1e-4), \n",
    "    loss=tf.keras.losses.SparseCategoricalCrossentropy(from_logits=True), \n",
    "    metrics='accuracy'\n",
    ")\n",
    "model.fit(train_data, validation_data=valid_data, epochs=1)\n",
    "model.save_pretrained('news-classifier')"
   ]
  },
  {
   "cell_type": "markdown",
   "id": "e88899d7",
   "metadata": {
    "papermill": {
     "duration": 0.086349,
     "end_time": "2022-07-02T09:10:45.875778",
     "exception": false,
     "start_time": "2022-07-02T09:10:45.789429",
     "status": "completed"
    },
    "tags": []
   },
   "source": [
    "# Inference"
   ]
  },
  {
   "cell_type": "code",
   "execution_count": 10,
   "id": "8039c6b9",
   "metadata": {
    "execution": {
     "iopub.execute_input": "2022-07-02T09:10:46.051424Z",
     "iopub.status.busy": "2022-07-02T09:10:46.050888Z",
     "iopub.status.idle": "2022-07-02T09:12:18.278286Z",
     "shell.execute_reply": "2022-07-02T09:12:18.277362Z"
    },
    "papermill": {
     "duration": 92.318384,
     "end_time": "2022-07-02T09:12:18.280490",
     "exception": false,
     "start_time": "2022-07-02T09:10:45.962106",
     "status": "completed"
    },
    "tags": []
   },
   "outputs": [
    {
     "name": "stderr",
     "output_type": "stream",
     "text": [
      "All model checkpoint layers were used when initializing TFRobertaForSequenceClassification.\n",
      "\n",
      "All the layers of TFRobertaForSequenceClassification were initialized from the model checkpoint at news-classifier.\n",
      "If your task is similar to the task the model of the checkpoint was trained on, you can already use TFRobertaForSequenceClassification for predictions without further training.\n"
     ]
    },
    {
     "name": "stdout",
     "output_type": "stream",
     "text": [
      "942/942 [==============================] - 92s 96ms/step\n"
     ]
    }
   ],
   "source": [
    "model = TFRobertaForSequenceClassification.from_pretrained('news-classifier')\n",
    "logits = model.predict(valid_data, verbose=1).logits\n",
    "preds_proba = tf.nn.softmax(logits).numpy()\n",
    "preds = preds_proba.argmax(axis=1)"
   ]
  },
  {
   "cell_type": "markdown",
   "id": "64006590",
   "metadata": {
    "papermill": {
     "duration": 0.14216,
     "end_time": "2022-07-02T09:12:18.563799",
     "exception": false,
     "start_time": "2022-07-02T09:12:18.421639",
     "status": "completed"
    },
    "tags": []
   },
   "source": [
    "# Evaluation"
   ]
  },
  {
   "cell_type": "code",
   "execution_count": 11,
   "id": "ba88eaca",
   "metadata": {
    "execution": {
     "iopub.execute_input": "2022-07-02T09:12:18.844952Z",
     "iopub.status.busy": "2022-07-02T09:12:18.844542Z",
     "iopub.status.idle": "2022-07-02T09:12:18.892491Z",
     "shell.execute_reply": "2022-07-02T09:12:18.890879Z"
    },
    "papermill": {
     "duration": 0.191701,
     "end_time": "2022-07-02T09:12:18.895294",
     "exception": false,
     "start_time": "2022-07-02T09:12:18.703593",
     "status": "completed"
    },
    "tags": []
   },
   "outputs": [
    {
     "name": "stderr",
     "output_type": "stream",
     "text": [
      "/opt/conda/lib/python3.7/site-packages/sklearn/metrics/_classification.py:1318: UndefinedMetricWarning: Precision and F-score are ill-defined and being set to 0.0 in labels with no predicted samples. Use `zero_division` parameter to control this behavior.\n",
      "  _warn_prf(average, modifier, msg_start, len(result))\n"
     ]
    },
    {
     "data": {
      "text/html": [
       "<div>\n",
       "<style scoped>\n",
       "    .dataframe tbody tr th:only-of-type {\n",
       "        vertical-align: middle;\n",
       "    }\n",
       "\n",
       "    .dataframe tbody tr th {\n",
       "        vertical-align: top;\n",
       "    }\n",
       "\n",
       "    .dataframe thead th {\n",
       "        text-align: right;\n",
       "    }\n",
       "</style>\n",
       "<table border=\"1\" class=\"dataframe\">\n",
       "  <thead>\n",
       "    <tr style=\"text-align: right;\">\n",
       "      <th></th>\n",
       "      <th>0</th>\n",
       "      <th>1</th>\n",
       "      <th>2</th>\n",
       "      <th>3</th>\n",
       "      <th>4</th>\n",
       "      <th>5</th>\n",
       "      <th>6</th>\n",
       "      <th>7</th>\n",
       "      <th>8</th>\n",
       "      <th>9</th>\n",
       "      <th>10</th>\n",
       "      <th>11</th>\n",
       "      <th>12</th>\n",
       "      <th>13</th>\n",
       "      <th>14</th>\n",
       "      <th>15</th>\n",
       "      <th>16</th>\n",
       "      <th>17</th>\n",
       "      <th>18</th>\n",
       "      <th>19</th>\n",
       "      <th>precision</th>\n",
       "      <th>recall</th>\n",
       "      <th>fscore</th>\n",
       "      <th>support</th>\n",
       "    </tr>\n",
       "  </thead>\n",
       "  <tbody>\n",
       "    <tr>\n",
       "      <th>0</th>\n",
       "      <td>0</td>\n",
       "      <td>0</td>\n",
       "      <td>0</td>\n",
       "      <td>0</td>\n",
       "      <td>0</td>\n",
       "      <td>0</td>\n",
       "      <td>0</td>\n",
       "      <td>0</td>\n",
       "      <td>0</td>\n",
       "      <td>0</td>\n",
       "      <td>319</td>\n",
       "      <td>0</td>\n",
       "      <td>0</td>\n",
       "      <td>0</td>\n",
       "      <td>0</td>\n",
       "      <td>0</td>\n",
       "      <td>0</td>\n",
       "      <td>0</td>\n",
       "      <td>0</td>\n",
       "      <td>0</td>\n",
       "      <td>0.000000</td>\n",
       "      <td>0.0</td>\n",
       "      <td>0.000000</td>\n",
       "      <td>319</td>\n",
       "    </tr>\n",
       "    <tr>\n",
       "      <th>1</th>\n",
       "      <td>0</td>\n",
       "      <td>0</td>\n",
       "      <td>0</td>\n",
       "      <td>0</td>\n",
       "      <td>0</td>\n",
       "      <td>0</td>\n",
       "      <td>0</td>\n",
       "      <td>0</td>\n",
       "      <td>0</td>\n",
       "      <td>0</td>\n",
       "      <td>389</td>\n",
       "      <td>0</td>\n",
       "      <td>0</td>\n",
       "      <td>0</td>\n",
       "      <td>0</td>\n",
       "      <td>0</td>\n",
       "      <td>0</td>\n",
       "      <td>0</td>\n",
       "      <td>0</td>\n",
       "      <td>0</td>\n",
       "      <td>0.000000</td>\n",
       "      <td>0.0</td>\n",
       "      <td>0.000000</td>\n",
       "      <td>389</td>\n",
       "    </tr>\n",
       "    <tr>\n",
       "      <th>2</th>\n",
       "      <td>0</td>\n",
       "      <td>0</td>\n",
       "      <td>0</td>\n",
       "      <td>0</td>\n",
       "      <td>0</td>\n",
       "      <td>0</td>\n",
       "      <td>0</td>\n",
       "      <td>0</td>\n",
       "      <td>0</td>\n",
       "      <td>0</td>\n",
       "      <td>394</td>\n",
       "      <td>0</td>\n",
       "      <td>0</td>\n",
       "      <td>0</td>\n",
       "      <td>0</td>\n",
       "      <td>0</td>\n",
       "      <td>0</td>\n",
       "      <td>0</td>\n",
       "      <td>0</td>\n",
       "      <td>0</td>\n",
       "      <td>0.000000</td>\n",
       "      <td>0.0</td>\n",
       "      <td>0.000000</td>\n",
       "      <td>394</td>\n",
       "    </tr>\n",
       "    <tr>\n",
       "      <th>3</th>\n",
       "      <td>0</td>\n",
       "      <td>0</td>\n",
       "      <td>0</td>\n",
       "      <td>0</td>\n",
       "      <td>0</td>\n",
       "      <td>0</td>\n",
       "      <td>0</td>\n",
       "      <td>0</td>\n",
       "      <td>0</td>\n",
       "      <td>0</td>\n",
       "      <td>392</td>\n",
       "      <td>0</td>\n",
       "      <td>0</td>\n",
       "      <td>0</td>\n",
       "      <td>0</td>\n",
       "      <td>0</td>\n",
       "      <td>0</td>\n",
       "      <td>0</td>\n",
       "      <td>0</td>\n",
       "      <td>0</td>\n",
       "      <td>0.000000</td>\n",
       "      <td>0.0</td>\n",
       "      <td>0.000000</td>\n",
       "      <td>392</td>\n",
       "    </tr>\n",
       "    <tr>\n",
       "      <th>4</th>\n",
       "      <td>0</td>\n",
       "      <td>0</td>\n",
       "      <td>0</td>\n",
       "      <td>0</td>\n",
       "      <td>0</td>\n",
       "      <td>0</td>\n",
       "      <td>0</td>\n",
       "      <td>0</td>\n",
       "      <td>0</td>\n",
       "      <td>0</td>\n",
       "      <td>385</td>\n",
       "      <td>0</td>\n",
       "      <td>0</td>\n",
       "      <td>0</td>\n",
       "      <td>0</td>\n",
       "      <td>0</td>\n",
       "      <td>0</td>\n",
       "      <td>0</td>\n",
       "      <td>0</td>\n",
       "      <td>0</td>\n",
       "      <td>0.000000</td>\n",
       "      <td>0.0</td>\n",
       "      <td>0.000000</td>\n",
       "      <td>385</td>\n",
       "    </tr>\n",
       "    <tr>\n",
       "      <th>5</th>\n",
       "      <td>0</td>\n",
       "      <td>0</td>\n",
       "      <td>0</td>\n",
       "      <td>0</td>\n",
       "      <td>0</td>\n",
       "      <td>0</td>\n",
       "      <td>0</td>\n",
       "      <td>0</td>\n",
       "      <td>0</td>\n",
       "      <td>0</td>\n",
       "      <td>395</td>\n",
       "      <td>0</td>\n",
       "      <td>0</td>\n",
       "      <td>0</td>\n",
       "      <td>0</td>\n",
       "      <td>0</td>\n",
       "      <td>0</td>\n",
       "      <td>0</td>\n",
       "      <td>0</td>\n",
       "      <td>0</td>\n",
       "      <td>0.000000</td>\n",
       "      <td>0.0</td>\n",
       "      <td>0.000000</td>\n",
       "      <td>395</td>\n",
       "    </tr>\n",
       "    <tr>\n",
       "      <th>6</th>\n",
       "      <td>0</td>\n",
       "      <td>0</td>\n",
       "      <td>0</td>\n",
       "      <td>0</td>\n",
       "      <td>0</td>\n",
       "      <td>0</td>\n",
       "      <td>0</td>\n",
       "      <td>0</td>\n",
       "      <td>0</td>\n",
       "      <td>0</td>\n",
       "      <td>390</td>\n",
       "      <td>0</td>\n",
       "      <td>0</td>\n",
       "      <td>0</td>\n",
       "      <td>0</td>\n",
       "      <td>0</td>\n",
       "      <td>0</td>\n",
       "      <td>0</td>\n",
       "      <td>0</td>\n",
       "      <td>0</td>\n",
       "      <td>0.000000</td>\n",
       "      <td>0.0</td>\n",
       "      <td>0.000000</td>\n",
       "      <td>390</td>\n",
       "    </tr>\n",
       "    <tr>\n",
       "      <th>7</th>\n",
       "      <td>0</td>\n",
       "      <td>0</td>\n",
       "      <td>0</td>\n",
       "      <td>0</td>\n",
       "      <td>0</td>\n",
       "      <td>0</td>\n",
       "      <td>0</td>\n",
       "      <td>0</td>\n",
       "      <td>0</td>\n",
       "      <td>0</td>\n",
       "      <td>396</td>\n",
       "      <td>0</td>\n",
       "      <td>0</td>\n",
       "      <td>0</td>\n",
       "      <td>0</td>\n",
       "      <td>0</td>\n",
       "      <td>0</td>\n",
       "      <td>0</td>\n",
       "      <td>0</td>\n",
       "      <td>0</td>\n",
       "      <td>0.000000</td>\n",
       "      <td>0.0</td>\n",
       "      <td>0.000000</td>\n",
       "      <td>396</td>\n",
       "    </tr>\n",
       "    <tr>\n",
       "      <th>8</th>\n",
       "      <td>0</td>\n",
       "      <td>0</td>\n",
       "      <td>0</td>\n",
       "      <td>0</td>\n",
       "      <td>0</td>\n",
       "      <td>0</td>\n",
       "      <td>0</td>\n",
       "      <td>0</td>\n",
       "      <td>0</td>\n",
       "      <td>0</td>\n",
       "      <td>398</td>\n",
       "      <td>0</td>\n",
       "      <td>0</td>\n",
       "      <td>0</td>\n",
       "      <td>0</td>\n",
       "      <td>0</td>\n",
       "      <td>0</td>\n",
       "      <td>0</td>\n",
       "      <td>0</td>\n",
       "      <td>0</td>\n",
       "      <td>0.000000</td>\n",
       "      <td>0.0</td>\n",
       "      <td>0.000000</td>\n",
       "      <td>398</td>\n",
       "    </tr>\n",
       "    <tr>\n",
       "      <th>9</th>\n",
       "      <td>0</td>\n",
       "      <td>0</td>\n",
       "      <td>0</td>\n",
       "      <td>0</td>\n",
       "      <td>0</td>\n",
       "      <td>0</td>\n",
       "      <td>0</td>\n",
       "      <td>0</td>\n",
       "      <td>0</td>\n",
       "      <td>0</td>\n",
       "      <td>397</td>\n",
       "      <td>0</td>\n",
       "      <td>0</td>\n",
       "      <td>0</td>\n",
       "      <td>0</td>\n",
       "      <td>0</td>\n",
       "      <td>0</td>\n",
       "      <td>0</td>\n",
       "      <td>0</td>\n",
       "      <td>0</td>\n",
       "      <td>0.000000</td>\n",
       "      <td>0.0</td>\n",
       "      <td>0.000000</td>\n",
       "      <td>397</td>\n",
       "    </tr>\n",
       "    <tr>\n",
       "      <th>10</th>\n",
       "      <td>0</td>\n",
       "      <td>0</td>\n",
       "      <td>0</td>\n",
       "      <td>0</td>\n",
       "      <td>0</td>\n",
       "      <td>0</td>\n",
       "      <td>0</td>\n",
       "      <td>0</td>\n",
       "      <td>0</td>\n",
       "      <td>0</td>\n",
       "      <td>399</td>\n",
       "      <td>0</td>\n",
       "      <td>0</td>\n",
       "      <td>0</td>\n",
       "      <td>0</td>\n",
       "      <td>0</td>\n",
       "      <td>0</td>\n",
       "      <td>0</td>\n",
       "      <td>0</td>\n",
       "      <td>0</td>\n",
       "      <td>0.052974</td>\n",
       "      <td>1.0</td>\n",
       "      <td>0.100618</td>\n",
       "      <td>399</td>\n",
       "    </tr>\n",
       "    <tr>\n",
       "      <th>11</th>\n",
       "      <td>0</td>\n",
       "      <td>0</td>\n",
       "      <td>0</td>\n",
       "      <td>0</td>\n",
       "      <td>0</td>\n",
       "      <td>0</td>\n",
       "      <td>0</td>\n",
       "      <td>0</td>\n",
       "      <td>0</td>\n",
       "      <td>0</td>\n",
       "      <td>396</td>\n",
       "      <td>0</td>\n",
       "      <td>0</td>\n",
       "      <td>0</td>\n",
       "      <td>0</td>\n",
       "      <td>0</td>\n",
       "      <td>0</td>\n",
       "      <td>0</td>\n",
       "      <td>0</td>\n",
       "      <td>0</td>\n",
       "      <td>0.000000</td>\n",
       "      <td>0.0</td>\n",
       "      <td>0.000000</td>\n",
       "      <td>396</td>\n",
       "    </tr>\n",
       "    <tr>\n",
       "      <th>12</th>\n",
       "      <td>0</td>\n",
       "      <td>0</td>\n",
       "      <td>0</td>\n",
       "      <td>0</td>\n",
       "      <td>0</td>\n",
       "      <td>0</td>\n",
       "      <td>0</td>\n",
       "      <td>0</td>\n",
       "      <td>0</td>\n",
       "      <td>0</td>\n",
       "      <td>393</td>\n",
       "      <td>0</td>\n",
       "      <td>0</td>\n",
       "      <td>0</td>\n",
       "      <td>0</td>\n",
       "      <td>0</td>\n",
       "      <td>0</td>\n",
       "      <td>0</td>\n",
       "      <td>0</td>\n",
       "      <td>0</td>\n",
       "      <td>0.000000</td>\n",
       "      <td>0.0</td>\n",
       "      <td>0.000000</td>\n",
       "      <td>393</td>\n",
       "    </tr>\n",
       "    <tr>\n",
       "      <th>13</th>\n",
       "      <td>0</td>\n",
       "      <td>0</td>\n",
       "      <td>0</td>\n",
       "      <td>0</td>\n",
       "      <td>0</td>\n",
       "      <td>0</td>\n",
       "      <td>0</td>\n",
       "      <td>0</td>\n",
       "      <td>0</td>\n",
       "      <td>0</td>\n",
       "      <td>396</td>\n",
       "      <td>0</td>\n",
       "      <td>0</td>\n",
       "      <td>0</td>\n",
       "      <td>0</td>\n",
       "      <td>0</td>\n",
       "      <td>0</td>\n",
       "      <td>0</td>\n",
       "      <td>0</td>\n",
       "      <td>0</td>\n",
       "      <td>0.000000</td>\n",
       "      <td>0.0</td>\n",
       "      <td>0.000000</td>\n",
       "      <td>396</td>\n",
       "    </tr>\n",
       "    <tr>\n",
       "      <th>14</th>\n",
       "      <td>0</td>\n",
       "      <td>0</td>\n",
       "      <td>0</td>\n",
       "      <td>0</td>\n",
       "      <td>0</td>\n",
       "      <td>0</td>\n",
       "      <td>0</td>\n",
       "      <td>0</td>\n",
       "      <td>0</td>\n",
       "      <td>0</td>\n",
       "      <td>394</td>\n",
       "      <td>0</td>\n",
       "      <td>0</td>\n",
       "      <td>0</td>\n",
       "      <td>0</td>\n",
       "      <td>0</td>\n",
       "      <td>0</td>\n",
       "      <td>0</td>\n",
       "      <td>0</td>\n",
       "      <td>0</td>\n",
       "      <td>0.000000</td>\n",
       "      <td>0.0</td>\n",
       "      <td>0.000000</td>\n",
       "      <td>394</td>\n",
       "    </tr>\n",
       "    <tr>\n",
       "      <th>15</th>\n",
       "      <td>0</td>\n",
       "      <td>0</td>\n",
       "      <td>0</td>\n",
       "      <td>0</td>\n",
       "      <td>0</td>\n",
       "      <td>0</td>\n",
       "      <td>0</td>\n",
       "      <td>0</td>\n",
       "      <td>0</td>\n",
       "      <td>0</td>\n",
       "      <td>398</td>\n",
       "      <td>0</td>\n",
       "      <td>0</td>\n",
       "      <td>0</td>\n",
       "      <td>0</td>\n",
       "      <td>0</td>\n",
       "      <td>0</td>\n",
       "      <td>0</td>\n",
       "      <td>0</td>\n",
       "      <td>0</td>\n",
       "      <td>0.000000</td>\n",
       "      <td>0.0</td>\n",
       "      <td>0.000000</td>\n",
       "      <td>398</td>\n",
       "    </tr>\n",
       "    <tr>\n",
       "      <th>16</th>\n",
       "      <td>0</td>\n",
       "      <td>0</td>\n",
       "      <td>0</td>\n",
       "      <td>0</td>\n",
       "      <td>0</td>\n",
       "      <td>0</td>\n",
       "      <td>0</td>\n",
       "      <td>0</td>\n",
       "      <td>0</td>\n",
       "      <td>0</td>\n",
       "      <td>364</td>\n",
       "      <td>0</td>\n",
       "      <td>0</td>\n",
       "      <td>0</td>\n",
       "      <td>0</td>\n",
       "      <td>0</td>\n",
       "      <td>0</td>\n",
       "      <td>0</td>\n",
       "      <td>0</td>\n",
       "      <td>0</td>\n",
       "      <td>0.000000</td>\n",
       "      <td>0.0</td>\n",
       "      <td>0.000000</td>\n",
       "      <td>364</td>\n",
       "    </tr>\n",
       "    <tr>\n",
       "      <th>17</th>\n",
       "      <td>0</td>\n",
       "      <td>0</td>\n",
       "      <td>0</td>\n",
       "      <td>0</td>\n",
       "      <td>0</td>\n",
       "      <td>0</td>\n",
       "      <td>0</td>\n",
       "      <td>0</td>\n",
       "      <td>0</td>\n",
       "      <td>0</td>\n",
       "      <td>376</td>\n",
       "      <td>0</td>\n",
       "      <td>0</td>\n",
       "      <td>0</td>\n",
       "      <td>0</td>\n",
       "      <td>0</td>\n",
       "      <td>0</td>\n",
       "      <td>0</td>\n",
       "      <td>0</td>\n",
       "      <td>0</td>\n",
       "      <td>0.000000</td>\n",
       "      <td>0.0</td>\n",
       "      <td>0.000000</td>\n",
       "      <td>376</td>\n",
       "    </tr>\n",
       "    <tr>\n",
       "      <th>18</th>\n",
       "      <td>0</td>\n",
       "      <td>0</td>\n",
       "      <td>0</td>\n",
       "      <td>0</td>\n",
       "      <td>0</td>\n",
       "      <td>0</td>\n",
       "      <td>0</td>\n",
       "      <td>0</td>\n",
       "      <td>0</td>\n",
       "      <td>0</td>\n",
       "      <td>310</td>\n",
       "      <td>0</td>\n",
       "      <td>0</td>\n",
       "      <td>0</td>\n",
       "      <td>0</td>\n",
       "      <td>0</td>\n",
       "      <td>0</td>\n",
       "      <td>0</td>\n",
       "      <td>0</td>\n",
       "      <td>0</td>\n",
       "      <td>0.000000</td>\n",
       "      <td>0.0</td>\n",
       "      <td>0.000000</td>\n",
       "      <td>310</td>\n",
       "    </tr>\n",
       "    <tr>\n",
       "      <th>19</th>\n",
       "      <td>0</td>\n",
       "      <td>0</td>\n",
       "      <td>0</td>\n",
       "      <td>0</td>\n",
       "      <td>0</td>\n",
       "      <td>0</td>\n",
       "      <td>0</td>\n",
       "      <td>0</td>\n",
       "      <td>0</td>\n",
       "      <td>0</td>\n",
       "      <td>251</td>\n",
       "      <td>0</td>\n",
       "      <td>0</td>\n",
       "      <td>0</td>\n",
       "      <td>0</td>\n",
       "      <td>0</td>\n",
       "      <td>0</td>\n",
       "      <td>0</td>\n",
       "      <td>0</td>\n",
       "      <td>0</td>\n",
       "      <td>0.000000</td>\n",
       "      <td>0.0</td>\n",
       "      <td>0.000000</td>\n",
       "      <td>251</td>\n",
       "    </tr>\n",
       "  </tbody>\n",
       "</table>\n",
       "</div>"
      ],
      "text/plain": [
       "    0  1  2  3  4  5  6  7  8  9   10  11  12  13  14  15  16  17  18  19  \\\n",
       "0   0  0  0  0  0  0  0  0  0  0  319   0   0   0   0   0   0   0   0   0   \n",
       "1   0  0  0  0  0  0  0  0  0  0  389   0   0   0   0   0   0   0   0   0   \n",
       "2   0  0  0  0  0  0  0  0  0  0  394   0   0   0   0   0   0   0   0   0   \n",
       "3   0  0  0  0  0  0  0  0  0  0  392   0   0   0   0   0   0   0   0   0   \n",
       "4   0  0  0  0  0  0  0  0  0  0  385   0   0   0   0   0   0   0   0   0   \n",
       "5   0  0  0  0  0  0  0  0  0  0  395   0   0   0   0   0   0   0   0   0   \n",
       "6   0  0  0  0  0  0  0  0  0  0  390   0   0   0   0   0   0   0   0   0   \n",
       "7   0  0  0  0  0  0  0  0  0  0  396   0   0   0   0   0   0   0   0   0   \n",
       "8   0  0  0  0  0  0  0  0  0  0  398   0   0   0   0   0   0   0   0   0   \n",
       "9   0  0  0  0  0  0  0  0  0  0  397   0   0   0   0   0   0   0   0   0   \n",
       "10  0  0  0  0  0  0  0  0  0  0  399   0   0   0   0   0   0   0   0   0   \n",
       "11  0  0  0  0  0  0  0  0  0  0  396   0   0   0   0   0   0   0   0   0   \n",
       "12  0  0  0  0  0  0  0  0  0  0  393   0   0   0   0   0   0   0   0   0   \n",
       "13  0  0  0  0  0  0  0  0  0  0  396   0   0   0   0   0   0   0   0   0   \n",
       "14  0  0  0  0  0  0  0  0  0  0  394   0   0   0   0   0   0   0   0   0   \n",
       "15  0  0  0  0  0  0  0  0  0  0  398   0   0   0   0   0   0   0   0   0   \n",
       "16  0  0  0  0  0  0  0  0  0  0  364   0   0   0   0   0   0   0   0   0   \n",
       "17  0  0  0  0  0  0  0  0  0  0  376   0   0   0   0   0   0   0   0   0   \n",
       "18  0  0  0  0  0  0  0  0  0  0  310   0   0   0   0   0   0   0   0   0   \n",
       "19  0  0  0  0  0  0  0  0  0  0  251   0   0   0   0   0   0   0   0   0   \n",
       "\n",
       "    precision  recall    fscore  support  \n",
       "0    0.000000     0.0  0.000000      319  \n",
       "1    0.000000     0.0  0.000000      389  \n",
       "2    0.000000     0.0  0.000000      394  \n",
       "3    0.000000     0.0  0.000000      392  \n",
       "4    0.000000     0.0  0.000000      385  \n",
       "5    0.000000     0.0  0.000000      395  \n",
       "6    0.000000     0.0  0.000000      390  \n",
       "7    0.000000     0.0  0.000000      396  \n",
       "8    0.000000     0.0  0.000000      398  \n",
       "9    0.000000     0.0  0.000000      397  \n",
       "10   0.052974     1.0  0.100618      399  \n",
       "11   0.000000     0.0  0.000000      396  \n",
       "12   0.000000     0.0  0.000000      393  \n",
       "13   0.000000     0.0  0.000000      396  \n",
       "14   0.000000     0.0  0.000000      394  \n",
       "15   0.000000     0.0  0.000000      398  \n",
       "16   0.000000     0.0  0.000000      364  \n",
       "17   0.000000     0.0  0.000000      376  \n",
       "18   0.000000     0.0  0.000000      310  \n",
       "19   0.000000     0.0  0.000000      251  "
      ]
     },
     "execution_count": 11,
     "metadata": {},
     "output_type": "execute_result"
    }
   ],
   "source": [
    "clf_report = pd.DataFrame(confusion_matrix(y_valid, preds))\n",
    "precision, recall, fscore, support = precision_recall_fscore_support(y_valid, preds)\n",
    "clf_report['precision'] = precision\n",
    "clf_report['recall'] = recall\n",
    "clf_report['fscore'] = fscore\n",
    "clf_report['support'] = support\n",
    "clf_report"
   ]
  },
  {
   "cell_type": "code",
   "execution_count": null,
   "id": "54fec9f3",
   "metadata": {
    "papermill": {
     "duration": 0.140308,
     "end_time": "2022-07-02T09:12:19.179573",
     "exception": false,
     "start_time": "2022-07-02T09:12:19.039265",
     "status": "completed"
    },
    "tags": []
   },
   "outputs": [],
   "source": []
  }
 ],
 "metadata": {
  "kernelspec": {
   "display_name": "Python 3",
   "language": "python",
   "name": "python3"
  },
  "language_info": {
   "codemirror_mode": {
    "name": "ipython",
    "version": 3
   },
   "file_extension": ".py",
   "mimetype": "text/x-python",
   "name": "python",
   "nbconvert_exporter": "python",
   "pygments_lexer": "ipython3",
   "version": "3.7.12"
  },
  "papermill": {
   "default_parameters": {},
   "duration": 752.607472,
   "end_time": "2022-07-02T09:12:23.028764",
   "environment_variables": {},
   "exception": null,
   "input_path": "__notebook__.ipynb",
   "output_path": "__notebook__.ipynb",
   "parameters": {},
   "start_time": "2022-07-02T08:59:50.421292",
   "version": "2.3.4"
  }
 },
 "nbformat": 4,
 "nbformat_minor": 5
}
