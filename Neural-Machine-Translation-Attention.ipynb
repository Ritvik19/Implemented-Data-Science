{
 "cells": [
  {
   "cell_type": "markdown",
   "id": "eea58ad9",
   "metadata": {
    "papermill": {
     "duration": 0.01953,
     "end_time": "2022-04-19T17:09:39.123240",
     "exception": false,
     "start_time": "2022-04-19T17:09:39.103710",
     "status": "completed"
    },
    "tags": []
   },
   "source": [
    "# Neural Machine Translation\n",
    "\n",
    "In this notebook we will implement a small transformer model for machine translation task. Our model would be able to translate human readabke dates in any format to YYYY-MM-DD format.\n",
    "\n",
    "We will be using `faker` module to generate our dataset"
   ]
  },
  {
   "cell_type": "code",
   "execution_count": 1,
   "id": "4f15b8f3",
   "metadata": {
    "_cell_guid": "b1076dfc-b9ad-4769-8c92-a6c4dae69d19",
    "_kg_hide-output": true,
    "_uuid": "8f2839f25d086af736a60e9eeb907d3b93b6e0e5",
    "execution": {
     "iopub.execute_input": "2022-04-19T17:09:39.165791Z",
     "iopub.status.busy": "2022-04-19T17:09:39.164311Z",
     "iopub.status.idle": "2022-04-19T17:09:51.020422Z",
     "shell.execute_reply": "2022-04-19T17:09:51.019834Z",
     "shell.execute_reply.started": "2022-04-19T16:26:16.961398Z"
    },
    "papermill": {
     "duration": 11.87833,
     "end_time": "2022-04-19T17:09:51.020579",
     "exception": false,
     "start_time": "2022-04-19T17:09:39.142249",
     "status": "completed"
    },
    "tags": []
   },
   "outputs": [],
   "source": [
    "%%capture\n",
    "!pip install -q faker"
   ]
  },
  {
   "cell_type": "code",
   "execution_count": 2,
   "id": "72747262",
   "metadata": {
    "execution": {
     "iopub.execute_input": "2022-04-19T17:09:51.064603Z",
     "iopub.status.busy": "2022-04-19T17:09:51.063890Z",
     "iopub.status.idle": "2022-04-19T17:09:51.939467Z",
     "shell.execute_reply": "2022-04-19T17:09:51.939924Z",
     "shell.execute_reply.started": "2022-04-19T16:26:27.654284Z"
    },
    "papermill": {
     "duration": 0.899865,
     "end_time": "2022-04-19T17:09:51.940100",
     "exception": false,
     "start_time": "2022-04-19T17:09:51.040235",
     "status": "completed"
    },
    "tags": []
   },
   "outputs": [],
   "source": [
    "import numpy as np\n",
    "import pandas as pd\n",
    "import matplotlib.pyplot as plt\n",
    "import seaborn as sns\n",
    "from tqdm.auto import tqdm\n",
    "import re, random\n",
    "\n",
    "from faker import Faker\n",
    "from babel.dates import format_date\n",
    "\n",
    "pd.options.display.max_colwidth = None\n",
    "sns.set_style('darkgrid')"
   ]
  },
  {
   "cell_type": "code",
   "execution_count": 3,
   "id": "aaa08590",
   "metadata": {
    "execution": {
     "iopub.execute_input": "2022-04-19T17:09:51.986753Z",
     "iopub.status.busy": "2022-04-19T17:09:51.986001Z",
     "iopub.status.idle": "2022-04-19T17:09:56.373183Z",
     "shell.execute_reply": "2022-04-19T17:09:56.372645Z",
     "shell.execute_reply.started": "2022-04-19T16:26:28.610487Z"
    },
    "papermill": {
     "duration": 4.41297,
     "end_time": "2022-04-19T17:09:56.373332",
     "exception": false,
     "start_time": "2022-04-19T17:09:51.960362",
     "status": "completed"
    },
    "tags": []
   },
   "outputs": [],
   "source": [
    "import tensorflow as tf\n",
    "from tensorflow import keras\n",
    "from tensorflow.keras.preprocessing.text import Tokenizer\n",
    "from tensorflow.keras.preprocessing.sequence import pad_sequences\n",
    "from tensorflow.keras.models import Model, Sequential\n",
    "from tensorflow.keras import losses, callbacks, utils, models, Input\n",
    "from tensorflow.keras import layers as L"
   ]
  },
  {
   "cell_type": "markdown",
   "id": "5aa3910c",
   "metadata": {
    "papermill": {
     "duration": 0.019209,
     "end_time": "2022-04-19T17:09:56.411691",
     "exception": false,
     "start_time": "2022-04-19T17:09:56.392482",
     "status": "completed"
    },
    "tags": []
   },
   "source": [
    "# Data Generation"
   ]
  },
  {
   "cell_type": "code",
   "execution_count": 4,
   "id": "86eeb03e",
   "metadata": {
    "execution": {
     "iopub.execute_input": "2022-04-19T17:09:56.454573Z",
     "iopub.status.busy": "2022-04-19T17:09:56.453776Z",
     "iopub.status.idle": "2022-04-19T17:09:56.456276Z",
     "shell.execute_reply": "2022-04-19T17:09:56.455821Z",
     "shell.execute_reply.started": "2022-04-19T16:26:33.512965Z"
    },
    "papermill": {
     "duration": 0.026236,
     "end_time": "2022-04-19T17:09:56.456385",
     "exception": false,
     "start_time": "2022-04-19T17:09:56.430149",
     "status": "completed"
    },
    "tags": []
   },
   "outputs": [],
   "source": [
    "# Constants\n",
    "class config():  \n",
    "    SAMPLE_SIZE = 10_00_000        \n",
    "    DATE_FORMATS = [\n",
    "        'short', 'medium', 'long', 'full',\n",
    "        'd MMM YYY', 'd MMMM YYY', 'dd/MM/YYY',\n",
    "        'EE d, MMM YYY', 'EEEE d, MMMM YYY', 'd of MMMM YYY',\n",
    "    ]\n",
    "    VALIDATION_SIZE = 0.1\n",
    "    BATCH_SIZE = 32\n",
    "    MAX_EPOCHS = 25\n",
    "    EMBED_DIM = 16\n",
    "    DENSE_DIM = 16\n",
    "    NUM_HEADS = 2\n",
    "    X_LEN = 30\n",
    "    Y_LEN = 14\n",
    "    NUM_ENCODER_TOKENS = 35\n",
    "    NUM_DECODER_TOKENS = 14"
   ]
  },
  {
   "cell_type": "code",
   "execution_count": 5,
   "id": "b0ce1618",
   "metadata": {
    "execution": {
     "iopub.execute_input": "2022-04-19T17:09:56.497409Z",
     "iopub.status.busy": "2022-04-19T17:09:56.496869Z",
     "iopub.status.idle": "2022-04-19T17:09:56.550468Z",
     "shell.execute_reply": "2022-04-19T17:09:56.551032Z",
     "shell.execute_reply.started": "2022-04-19T16:26:33.526883Z"
    },
    "papermill": {
     "duration": 0.076264,
     "end_time": "2022-04-19T17:09:56.551205",
     "exception": false,
     "start_time": "2022-04-19T17:09:56.474941",
     "status": "completed"
    },
    "tags": []
   },
   "outputs": [
    {
     "name": "stdout",
     "output_type": "stream",
     "text": [
      "Sample dates for each format\n",
      "\n",
      "d MMMM YYY           =>  24 October 2007\n",
      "short                =>  11/19/75\n",
      "dd/MM/YYY            =>  22/12/1982\n",
      "long                 =>  June 11, 2013\n",
      "d of MMMM YYY        =>  16 of June 1971\n",
      "d MMM YYY            =>  23 Aug 1976\n",
      "EEEE d, MMMM YYY     =>  Saturday 19, October 2013\n",
      "EE d, MMM YYY        =>  Sun 12, Nov 2017\n",
      "full                 =>  Friday, May 24, 1996\n",
      "medium               =>  Jul 24, 2012\n"
     ]
    }
   ],
   "source": [
    "faker = Faker()\n",
    "print('Sample dates for each format\\n')\n",
    "\n",
    "for fmt in set(config.DATE_FORMATS):\n",
    "    print(f'{fmt:20} =>  {format_date(faker.date_object(), format=fmt, locale=\"en\")}')"
   ]
  },
  {
   "cell_type": "code",
   "execution_count": 6,
   "id": "60475f85",
   "metadata": {
    "execution": {
     "iopub.execute_input": "2022-04-19T17:09:56.597660Z",
     "iopub.status.busy": "2022-04-19T17:09:56.596963Z",
     "iopub.status.idle": "2022-04-19T17:09:56.599245Z",
     "shell.execute_reply": "2022-04-19T17:09:56.599632Z",
     "shell.execute_reply.started": "2022-04-19T16:31:12.688221Z"
    },
    "papermill": {
     "duration": 0.028292,
     "end_time": "2022-04-19T17:09:56.599753",
     "exception": false,
     "start_time": "2022-04-19T17:09:56.571461",
     "status": "completed"
    },
    "tags": []
   },
   "outputs": [],
   "source": [
    "# a utility data cleaning function\n",
    "def clean_date(raw_date):\n",
    "    return raw_date.lower().replace(',', '')\n",
    "\n",
    "# this function will generate our data in a data frame\n",
    "def create_dataset(num_rows):\n",
    "    dataset = []\n",
    "    \n",
    "    for i in tqdm(range(num_rows)):\n",
    "        dt = faker.date_object()\n",
    "        for fmt in config.DATE_FORMATS:\n",
    "            try:\n",
    "                date = format_date(dt, format=fmt, locale='en')\n",
    "                human_readable = clean_date(date)\n",
    "                machine_readable = f\"@{dt.isoformat()}#\" # adding a start token '@' and end token '#'\n",
    "            except AttributeError as e:\n",
    "                date = None\n",
    "                human_readable = None\n",
    "                machine_readable = None\n",
    "            if human_readable is not None and machine_readable is not None:\n",
    "                dataset.append((human_readable, machine_readable))\n",
    " \n",
    "    return pd.DataFrame(dataset, columns=['human_readable', 'machine_readable'])"
   ]
  },
  {
   "cell_type": "code",
   "execution_count": 7,
   "id": "6def5add",
   "metadata": {
    "execution": {
     "iopub.execute_input": "2022-04-19T17:09:56.642243Z",
     "iopub.status.busy": "2022-04-19T17:09:56.641504Z",
     "iopub.status.idle": "2022-04-19T17:14:50.497206Z",
     "shell.execute_reply": "2022-04-19T17:14:50.497826Z",
     "shell.execute_reply.started": "2022-04-19T16:31:13.00423Z"
    },
    "papermill": {
     "duration": 293.879505,
     "end_time": "2022-04-19T17:14:50.498045",
     "exception": false,
     "start_time": "2022-04-19T17:09:56.618540",
     "status": "completed"
    },
    "tags": []
   },
   "outputs": [
    {
     "data": {
      "application/vnd.jupyter.widget-view+json": {
       "model_id": "0ac32bd68ce545b59c43e0b6b6e5614d",
       "version_major": 2,
       "version_minor": 0
      },
      "text/plain": [
       "  0%|          | 0/1000000 [00:00<?, ?it/s]"
      ]
     },
     "metadata": {},
     "output_type": "display_data"
    },
    {
     "name": "stdout",
     "output_type": "stream",
     "text": [
      "(187584, 2)\n"
     ]
    },
    {
     "data": {
      "text/html": [
       "<div>\n",
       "<style scoped>\n",
       "    .dataframe tbody tr th:only-of-type {\n",
       "        vertical-align: middle;\n",
       "    }\n",
       "\n",
       "    .dataframe tbody tr th {\n",
       "        vertical-align: top;\n",
       "    }\n",
       "\n",
       "    .dataframe thead th {\n",
       "        text-align: right;\n",
       "    }\n",
       "</style>\n",
       "<table border=\"1\" class=\"dataframe\">\n",
       "  <thead>\n",
       "    <tr style=\"text-align: right;\">\n",
       "      <th></th>\n",
       "      <th>human_readable</th>\n",
       "      <th>machine_readable</th>\n",
       "    </tr>\n",
       "  </thead>\n",
       "  <tbody>\n",
       "    <tr>\n",
       "      <th>0</th>\n",
       "      <td>06/10/2001</td>\n",
       "      <td>@2001-10-06#</td>\n",
       "    </tr>\n",
       "    <tr>\n",
       "      <th>1</th>\n",
       "      <td>sun 14 aug 2005</td>\n",
       "      <td>@2005-08-14#</td>\n",
       "    </tr>\n",
       "    <tr>\n",
       "      <th>2</th>\n",
       "      <td>thu 5 oct 1972</td>\n",
       "      <td>@1972-10-05#</td>\n",
       "    </tr>\n",
       "    <tr>\n",
       "      <th>3</th>\n",
       "      <td>tuesday 27 october 1970</td>\n",
       "      <td>@1970-10-27#</td>\n",
       "    </tr>\n",
       "    <tr>\n",
       "      <th>4</th>\n",
       "      <td>saturday 5 april 2014</td>\n",
       "      <td>@2014-04-05#</td>\n",
       "    </tr>\n",
       "  </tbody>\n",
       "</table>\n",
       "</div>"
      ],
      "text/plain": [
       "            human_readable machine_readable\n",
       "0               06/10/2001     @2001-10-06#\n",
       "1          sun 14 aug 2005     @2005-08-14#\n",
       "2           thu 5 oct 1972     @1972-10-05#\n",
       "3  tuesday 27 october 1970     @1970-10-27#\n",
       "4    saturday 5 april 2014     @2014-04-05#"
      ]
     },
     "execution_count": 7,
     "metadata": {},
     "output_type": "execute_result"
    }
   ],
   "source": [
    "# generate the dataset using the function defined above\n",
    "dataset = create_dataset(config.SAMPLE_SIZE)\n",
    "dataset  = dataset.drop_duplicates(subset=['human_readable']).sample(frac=1.0).reset_index(drop=True)\n",
    "print(dataset.shape)\n",
    "dataset.head()"
   ]
  },
  {
   "cell_type": "markdown",
   "id": "a05b6bea",
   "metadata": {
    "papermill": {
     "duration": 0.021212,
     "end_time": "2022-04-19T17:14:50.541382",
     "exception": false,
     "start_time": "2022-04-19T17:14:50.520170",
     "status": "completed"
    },
    "tags": []
   },
   "source": [
    "**Define tokenizers for both the languages (human readable and machine readable dates)**"
   ]
  },
  {
   "cell_type": "code",
   "execution_count": 8,
   "id": "c9ecad19",
   "metadata": {
    "execution": {
     "iopub.execute_input": "2022-04-19T17:14:50.640648Z",
     "iopub.status.busy": "2022-04-19T17:14:50.625463Z",
     "iopub.status.idle": "2022-04-19T17:14:52.799618Z",
     "shell.execute_reply": "2022-04-19T17:14:52.799144Z",
     "shell.execute_reply.started": "2022-04-19T16:36:12.52806Z"
    },
    "papermill": {
     "duration": 2.237894,
     "end_time": "2022-04-19T17:14:52.799745",
     "exception": false,
     "start_time": "2022-04-19T17:14:50.561851",
     "status": "completed"
    },
    "tags": []
   },
   "outputs": [
    {
     "name": "stdout",
     "output_type": "stream",
     "text": [
      "{' ': 1, '1': 2, '2': 3, '9': 4, '0': 5, 'a': 6, 'e': 7, 'r': 8, 'u': 9, '/': 10, '8': 11, '7': 12, 'y': 13, 'o': 14, 'n': 15, 'd': 16, 'm': 17, 't': 18, 's': 19, '3': 20, 'b': 21, '5': 22, '4': 23, '6': 24, 'f': 25, 'j': 26, 'c': 27, 'p': 28, 'l': 29, 'h': 30, 'i': 31, 'g': 32, 'v': 33, 'w': 34}\n",
      "{'-': 1, '0': 2, '1': 3, '2': 4, '9': 5, '@': 6, '#': 7, '8': 8, '7': 9, '3': 10, '4': 11, '6': 12, '5': 13}\n"
     ]
    }
   ],
   "source": [
    "human_tokenizer = Tokenizer(char_level=True)\n",
    "machine_tokenizer = Tokenizer(char_level=True)\n",
    "\n",
    "human_tokenizer.fit_on_texts(dataset['human_readable'].values)\n",
    "machine_tokenizer.fit_on_texts(dataset['machine_readable'].values)\n",
    "\n",
    "print(human_tokenizer.word_index)\n",
    "print(machine_tokenizer.word_index)"
   ]
  },
  {
   "cell_type": "code",
   "execution_count": 9,
   "id": "a2446345",
   "metadata": {
    "execution": {
     "iopub.execute_input": "2022-04-19T17:14:52.847036Z",
     "iopub.status.busy": "2022-04-19T17:14:52.845469Z",
     "iopub.status.idle": "2022-04-19T17:14:52.847655Z",
     "shell.execute_reply": "2022-04-19T17:14:52.848052Z",
     "shell.execute_reply.started": "2022-04-19T16:36:14.614322Z"
    },
    "papermill": {
     "duration": 0.02753,
     "end_time": "2022-04-19T17:14:52.848199",
     "exception": false,
     "start_time": "2022-04-19T17:14:52.820669",
     "status": "completed"
    },
    "tags": []
   },
   "outputs": [],
   "source": [
    "# A utility function to clean and tokenize the text and then pad the sequence\n",
    "def preprocess_input(date, tokenizer, max_len):\n",
    "    seq = [i[0] for i in tokenizer.texts_to_sequences(date.lower().replace(',', ''))]\n",
    "    seq = pad_sequences([seq], padding='post', maxlen=max_len)[0]\n",
    "    return seq"
   ]
  },
  {
   "cell_type": "markdown",
   "id": "a82b63eb",
   "metadata": {
    "papermill": {
     "duration": 0.019917,
     "end_time": "2022-04-19T17:14:52.888246",
     "exception": false,
     "start_time": "2022-04-19T17:14:52.868329",
     "status": "completed"
    },
    "tags": []
   },
   "source": [
    "**Preprocessing the data**"
   ]
  },
  {
   "cell_type": "code",
   "execution_count": 10,
   "id": "c22eef4b",
   "metadata": {
    "execution": {
     "iopub.execute_input": "2022-04-19T17:14:53.534066Z",
     "iopub.status.busy": "2022-04-19T17:14:53.044005Z",
     "iopub.status.idle": "2022-04-19T17:15:07.244362Z",
     "shell.execute_reply": "2022-04-19T17:15:07.244775Z",
     "shell.execute_reply.started": "2022-04-19T16:36:14.62205Z"
    },
    "papermill": {
     "duration": 14.336399,
     "end_time": "2022-04-19T17:15:07.244929",
     "exception": false,
     "start_time": "2022-04-19T17:14:52.908530",
     "status": "completed"
    },
    "tags": []
   },
   "outputs": [
    {
     "name": "stdout",
     "output_type": "stream",
     "text": [
      "CPU times: user 14.3 s, sys: 143 ms, total: 14.4 s\n",
      "Wall time: 14.3 s\n"
     ]
    },
    {
     "data": {
      "text/plain": [
       "((187584, 30), (187584, 14))"
      ]
     },
     "execution_count": 10,
     "metadata": {},
     "output_type": "execute_result"
    }
   ],
   "source": [
    "%%time\n",
    "\n",
    "X = np.array(list(map(lambda x: preprocess_input(x, human_tokenizer, config.X_LEN), dataset['human_readable'])))\n",
    "y = np.array(list(map(lambda x: preprocess_input(x, machine_tokenizer, config.Y_LEN), dataset['machine_readable'])))\n",
    "\n",
    "X.shape, y.shape"
   ]
  },
  {
   "cell_type": "code",
   "execution_count": 11,
   "id": "b196d522",
   "metadata": {
    "execution": {
     "iopub.execute_input": "2022-04-19T17:15:07.290991Z",
     "iopub.status.busy": "2022-04-19T17:15:07.290336Z",
     "iopub.status.idle": "2022-04-19T17:15:07.444257Z",
     "shell.execute_reply": "2022-04-19T17:15:07.444685Z",
     "shell.execute_reply.started": "2022-04-19T16:36:28.203578Z"
    },
    "papermill": {
     "duration": 0.178932,
     "end_time": "2022-04-19T17:15:07.444844",
     "exception": false,
     "start_time": "2022-04-19T17:15:07.265912",
     "status": "completed"
    },
    "tags": []
   },
   "outputs": [],
   "source": [
    "# Cross Validation\n",
    "from sklearn.model_selection import train_test_split\n",
    "X_train, X_valid, y_train, y_valid = train_test_split(X, y, test_size=config.VALIDATION_SIZE, random_state=19)"
   ]
  },
  {
   "cell_type": "markdown",
   "id": "aefc8974",
   "metadata": {
    "papermill": {
     "duration": 0.020711,
     "end_time": "2022-04-19T17:15:07.486561",
     "exception": false,
     "start_time": "2022-04-19T17:15:07.465850",
     "status": "completed"
    },
    "tags": []
   },
   "source": [
    "A utility function to generate batches of data\n",
    "* encoder input data would be source language text\n",
    "* decoder input data would be target language text\n",
    "* decoder output data would be target language text shifted one time stamp forward (one hot encoded)"
   ]
  },
  {
   "cell_type": "code",
   "execution_count": 12,
   "id": "78ae0af8",
   "metadata": {
    "execution": {
     "iopub.execute_input": "2022-04-19T17:15:07.534541Z",
     "iopub.status.busy": "2022-04-19T17:15:07.533826Z",
     "iopub.status.idle": "2022-04-19T17:15:07.535804Z",
     "shell.execute_reply": "2022-04-19T17:15:07.536201Z",
     "shell.execute_reply.started": "2022-04-19T16:36:28.380373Z"
    },
    "papermill": {
     "duration": 0.02915,
     "end_time": "2022-04-19T17:15:07.536332",
     "exception": false,
     "start_time": "2022-04-19T17:15:07.507182",
     "status": "completed"
    },
    "tags": []
   },
   "outputs": [],
   "source": [
    "def generate_batch(X, y, batch_size=config.BATCH_SIZE):\n",
    "    ''' Generate a batch of data '''\n",
    "    while True:\n",
    "        for j in range(0, len(X), batch_size):\n",
    "            encoder_input_data = X[j:j+batch_size]\n",
    "            decoder_input_data = y[j:j+batch_size]\n",
    "            output = y[j:j+batch_size]\n",
    "            decoder_output_data = np.zeros_like(output)\n",
    "            decoder_output_data[:,:-1] = output[:, 1:]\n",
    "            decoder_target_data = utils.to_categorical(decoder_output_data, num_classes=config.NUM_DECODER_TOKENS)\n",
    "            yield([encoder_input_data, decoder_input_data], decoder_target_data)"
   ]
  },
  {
   "cell_type": "markdown",
   "id": "387ce58f",
   "metadata": {
    "papermill": {
     "duration": 0.020439,
     "end_time": "2022-04-19T17:15:07.577265",
     "exception": false,
     "start_time": "2022-04-19T17:15:07.556826",
     "status": "completed"
    },
    "tags": []
   },
   "source": [
    "# Model"
   ]
  },
  {
   "cell_type": "markdown",
   "id": "34ca7f45",
   "metadata": {
    "papermill": {
     "duration": 0.020627,
     "end_time": "2022-04-19T17:15:07.618444",
     "exception": false,
     "start_time": "2022-04-19T17:15:07.597817",
     "status": "completed"
    },
    "tags": []
   },
   "source": [
    "Let's define the key components for our model\n",
    "* Positional Embedding Layer\n",
    "* Encoder Block\n",
    "* Decoder Block"
   ]
  },
  {
   "cell_type": "code",
   "execution_count": 13,
   "id": "0a78e9a7",
   "metadata": {
    "execution": {
     "iopub.execute_input": "2022-04-19T17:15:07.681954Z",
     "iopub.status.busy": "2022-04-19T17:15:07.681151Z",
     "iopub.status.idle": "2022-04-19T17:15:07.683582Z",
     "shell.execute_reply": "2022-04-19T17:15:07.683101Z",
     "shell.execute_reply.started": "2022-04-19T16:41:41.27963Z"
    },
    "papermill": {
     "duration": 0.044262,
     "end_time": "2022-04-19T17:15:07.683694",
     "exception": false,
     "start_time": "2022-04-19T17:15:07.639432",
     "status": "completed"
    },
    "tags": []
   },
   "outputs": [],
   "source": [
    "class PositionalEmbedding(L.Layer):\n",
    "    def __init__(self, sequence_length, input_dim, output_dim, **kwargs):\n",
    "        super().__init__(**kwargs)\n",
    "        self.token_embeddings = L.Embedding(input_dim, output_dim)\n",
    "        self.position_embeddings = L.Embedding(sequence_length, output_dim)\n",
    "        self.sequence_length = sequence_length\n",
    "        self.input_dim = input_dim\n",
    "        self.output_dim = output_dim\n",
    "        \n",
    "    def call(self, inputs):\n",
    "        length = tf.shape(inputs)[-1]\n",
    "        positions = tf.range(start=0, limit=length, delta=1)\n",
    "        embedded_tokens = self.token_embeddings(inputs)\n",
    "        embedded_positions = self.position_embeddings(positions)\n",
    "        return embedded_tokens + embedded_positions\n",
    "    \n",
    "    def get_config(self):\n",
    "        config = super().get_config()\n",
    "        config.update({\n",
    "            \"output_dim\": self.output_dim,\n",
    "            \"sequence_length\": self.sequence_length,\n",
    "            \"input_dim\": self.input_dim,\n",
    "        })\n",
    "        return config\n",
    "    \n",
    "class TransformerEncoder(L.Layer):\n",
    "    def __init__(self, embed_dim, dense_dim, num_heads, **kwargs):\n",
    "        super().__init__(**kwargs)\n",
    "        self.embed_dim = embed_dim\n",
    "        self.dense_dim = dense_dim\n",
    "        self.num_heads = num_heads\n",
    "        self.attention = L.MultiHeadAttention(num_heads=num_heads, key_dim=embed_dim)\n",
    "        self.dense_proj = keras.Sequential([L.Dense(dense_dim, activation='relu'), L.Dense(embed_dim)])\n",
    "        self.layernorm1 = L.LayerNormalization()\n",
    "        self.layernorm2 = L.LayerNormalization()\n",
    "    \n",
    "    def call(self, inputs, mask=None):\n",
    "        if mask is not None:\n",
    "            mask = mask[: tf.newaxis, :]\n",
    "        attention_output = self.attention(inputs, inputs, attention_mask=mask)\n",
    "        proj_input = self.layernorm1(inputs + attention_output)\n",
    "        proj_output = self.dense_proj(proj_input)\n",
    "        return self.layernorm2(proj_input + proj_output)\n",
    "    \n",
    "    def get_config(self):\n",
    "        config = super().get_confog()\n",
    "        config.update({\n",
    "            \"embed_dim\": self.embed_dim,\n",
    "            \"num_heads\": self.num_heads,\n",
    "            \"dense_dim\": self.dense_dim\n",
    "        })\n",
    "        return config    \n",
    "    \n",
    "class TransformerDecoder(L.Layer):\n",
    "    def __init__(self, embed_dim, dense_dim, num_heads, **kwargs):\n",
    "        super().__init__(**kwargs)\n",
    "        self.embed_dim = embed_dim\n",
    "        self.dense_dim = dense_dim\n",
    "        self.num_heads = num_heads\n",
    "        self.attention_1 = L.MultiHeadAttention(num_heads=num_heads, key_dim=embed_dim)\n",
    "        self.attention_2 = L.MultiHeadAttention(num_heads=num_heads, key_dim=embed_dim)\n",
    "        self.dense_proj = keras.Sequential([\n",
    "            L.Dense(dense_dim, activation='relu'), L.Dense(embed_dim)\n",
    "        ])\n",
    "        self.layernorm_1 = L.LayerNormalization()\n",
    "        self.layernorm_2 = L.LayerNormalization()\n",
    "        self.layernorm_3 = L.LayerNormalization()\n",
    "        self.support_masking = False\n",
    "        \n",
    "    def get_config(self):\n",
    "        config = super().get_config()\n",
    "        config.update({\n",
    "            'embed_dim': self.embed_dim,\n",
    "            \"num_heads\": self.num_heads,\n",
    "            \"dense_dim\": self.dense_dim,\n",
    "        })\n",
    "        return config\n",
    "    \n",
    "    def call(self, inputs, encoder_outputs, mask=None):\n",
    "        if mask is not None:\n",
    "            padding_mask = tf.cast(mask[:, tf.newaxis, :], dtype=\"int32\")\n",
    "            padding_mask = tf.minimum(padding_mask, causal_mask)\n",
    "        attention_output_1 = self.attention_1(\n",
    "            query=inputs, value=inputs, key=inputs, attention_mask=None\n",
    "        )\n",
    "        attention_output_1 = self.layernorm_1(inputs + attention_output_1)\n",
    "        attention_output_2 = self.attention_2(\n",
    "            query=attention_output_1, value=encoder_outputs, key=encoder_outputs, attention_mask=None\n",
    "        )\n",
    "        attention_output_2 = self.layernorm_2(\n",
    "            attention_output_1 + attention_output_2\n",
    "        )\n",
    "        proj_output = self.dense_proj(attention_output_2)\n",
    "        return self.layernorm_3(attention_output_2 + proj_output)"
   ]
  },
  {
   "cell_type": "markdown",
   "id": "59041ce3",
   "metadata": {
    "papermill": {
     "duration": 0.02078,
     "end_time": "2022-04-19T17:15:07.725525",
     "exception": false,
     "start_time": "2022-04-19T17:15:07.704745",
     "status": "completed"
    },
    "tags": []
   },
   "source": [
    "Lets Define our model\n",
    "\n",
    "* Positional Embedding is applied to Encoder Inputs\n",
    "* Embedded Encoder Inputs are fed to the Transformer Encoder\n",
    "* Positional Embedding is applied to Decoder Inputs \n",
    "* Encoder Outputs and along with the Embedded Decoder Inputs are fed to the transformer Decoder\n",
    "* We optionally apply dropout to the outputs from the decoder block before feeding it to the output layer"
   ]
  },
  {
   "cell_type": "code",
   "execution_count": 14,
   "id": "6b6b27af",
   "metadata": {
    "execution": {
     "iopub.execute_input": "2022-04-19T17:15:07.769789Z",
     "iopub.status.busy": "2022-04-19T17:15:07.769002Z",
     "iopub.status.idle": "2022-04-19T17:15:11.474914Z",
     "shell.execute_reply": "2022-04-19T17:15:11.475446Z",
     "shell.execute_reply.started": "2022-04-19T16:41:42.112793Z"
    },
    "papermill": {
     "duration": 3.729544,
     "end_time": "2022-04-19T17:15:11.475593",
     "exception": false,
     "start_time": "2022-04-19T17:15:07.746049",
     "status": "completed"
    },
    "tags": []
   },
   "outputs": [
    {
     "name": "stderr",
     "output_type": "stream",
     "text": [
      "2022-04-19 17:15:07.919085: I tensorflow/stream_executor/cuda/cuda_gpu_executor.cc:937] successful NUMA node read from SysFS had negative value (-1), but there must be at least one NUMA node, so returning NUMA node zero\n",
      "2022-04-19 17:15:08.014929: I tensorflow/stream_executor/cuda/cuda_gpu_executor.cc:937] successful NUMA node read from SysFS had negative value (-1), but there must be at least one NUMA node, so returning NUMA node zero\n",
      "2022-04-19 17:15:08.015752: I tensorflow/stream_executor/cuda/cuda_gpu_executor.cc:937] successful NUMA node read from SysFS had negative value (-1), but there must be at least one NUMA node, so returning NUMA node zero\n",
      "2022-04-19 17:15:08.017094: I tensorflow/core/platform/cpu_feature_guard.cc:142] This TensorFlow binary is optimized with oneAPI Deep Neural Network Library (oneDNN) to use the following CPU instructions in performance-critical operations:  AVX2 AVX512F FMA\n",
      "To enable them in other operations, rebuild TensorFlow with the appropriate compiler flags.\n",
      "2022-04-19 17:15:08.018224: I tensorflow/stream_executor/cuda/cuda_gpu_executor.cc:937] successful NUMA node read from SysFS had negative value (-1), but there must be at least one NUMA node, so returning NUMA node zero\n",
      "2022-04-19 17:15:08.018906: I tensorflow/stream_executor/cuda/cuda_gpu_executor.cc:937] successful NUMA node read from SysFS had negative value (-1), but there must be at least one NUMA node, so returning NUMA node zero\n",
      "2022-04-19 17:15:08.019575: I tensorflow/stream_executor/cuda/cuda_gpu_executor.cc:937] successful NUMA node read from SysFS had negative value (-1), but there must be at least one NUMA node, so returning NUMA node zero\n",
      "2022-04-19 17:15:09.689143: I tensorflow/stream_executor/cuda/cuda_gpu_executor.cc:937] successful NUMA node read from SysFS had negative value (-1), but there must be at least one NUMA node, so returning NUMA node zero\n",
      "2022-04-19 17:15:09.690007: I tensorflow/stream_executor/cuda/cuda_gpu_executor.cc:937] successful NUMA node read from SysFS had negative value (-1), but there must be at least one NUMA node, so returning NUMA node zero\n",
      "2022-04-19 17:15:09.690787: I tensorflow/stream_executor/cuda/cuda_gpu_executor.cc:937] successful NUMA node read from SysFS had negative value (-1), but there must be at least one NUMA node, so returning NUMA node zero\n",
      "2022-04-19 17:15:09.691425: I tensorflow/core/common_runtime/gpu/gpu_device.cc:1510] Created device /job:localhost/replica:0/task:0/device:GPU:0 with 15403 MB memory:  -> device: 0, name: Tesla P100-PCIE-16GB, pci bus id: 0000:00:04.0, compute capability: 6.0\n"
     ]
    },
    {
     "name": "stdout",
     "output_type": "stream",
     "text": [
      "Model: \"model\"\n",
      "__________________________________________________________________________________________________\n",
      "Layer (type)                    Output Shape         Param #     Connected to                     \n",
      "==================================================================================================\n",
      "human (InputLayer)              [(None, None)]       0                                            \n",
      "__________________________________________________________________________________________________\n",
      "machine (InputLayer)            [(None, None)]       0                                            \n",
      "__________________________________________________________________________________________________\n",
      "positional_embedding (Positiona (None, None, 16)     1040        human[0][0]                      \n",
      "__________________________________________________________________________________________________\n",
      "positional_embedding_1 (Positio (None, None, 16)     448         machine[0][0]                    \n",
      "__________________________________________________________________________________________________\n",
      "transformer_encoder (Transforme (None, None, 16)     2768        positional_embedding[0][0]       \n",
      "__________________________________________________________________________________________________\n",
      "transformer_decoder (Transforme (None, None, 16)     4960        positional_embedding_1[0][0]     \n",
      "                                                                 transformer_encoder[0][0]        \n",
      "__________________________________________________________________________________________________\n",
      "dropout (Dropout)               (None, None, 16)     0           transformer_decoder[0][0]        \n",
      "__________________________________________________________________________________________________\n",
      "dense_4 (Dense)                 (None, None, 14)     238         dropout[0][0]                    \n",
      "==================================================================================================\n",
      "Total params: 9,454\n",
      "Trainable params: 9,454\n",
      "Non-trainable params: 0\n",
      "__________________________________________________________________________________________________\n"
     ]
    },
    {
     "data": {
      "image/png": "[encoded data removed]",
      "text/plain": [
       "<IPython.core.display.Image object>"
      ]
     },
     "execution_count": 14,
     "metadata": {},
     "output_type": "execute_result"
    }
   ],
   "source": [
    "encoder_inputs = keras.Input(shape=(None, ), dtype=\"int64\", name=\"human\")\n",
    "x = PositionalEmbedding(config.X_LEN, config.NUM_ENCODER_TOKENS, config.EMBED_DIM)(encoder_inputs)\n",
    "encoder_outputs = TransformerEncoder(config.EMBED_DIM, config.DENSE_DIM, config.NUM_HEADS)(x)\n",
    "\n",
    "decoder_inputs = keras.Input(shape=(None, ), dtype=\"int64\", name=\"machine\" )\n",
    "x = PositionalEmbedding(config.Y_LEN, config.NUM_DECODER_TOKENS, config.EMBED_DIM)(decoder_inputs)\n",
    "x = TransformerDecoder(config.EMBED_DIM, config.DENSE_DIM, config.NUM_HEADS)(x, encoder_outputs)\n",
    "x = L.Dropout(0.5)(x)\n",
    "decoder_outputs = L.Dense(config.NUM_DECODER_TOKENS, activation=\"softmax\")(x)\n",
    "\n",
    "transformer = keras.Model([encoder_inputs, decoder_inputs], decoder_outputs)\n",
    "transformer.compile(optimizer=\"adam\", loss=\"categorical_crossentropy\", metrics=\"accuracy\")\n",
    "\n",
    "transformer.summary()\n",
    "utils.plot_model(transformer, show_shapes=True, expand_nested=True)"
   ]
  },
  {
   "cell_type": "code",
   "execution_count": 15,
   "id": "8664f4c1",
   "metadata": {
    "execution": {
     "iopub.execute_input": "2022-04-19T17:15:11.530241Z",
     "iopub.status.busy": "2022-04-19T17:15:11.528519Z",
     "iopub.status.idle": "2022-04-19T17:15:11.530831Z",
     "shell.execute_reply": "2022-04-19T17:15:11.531287Z",
     "shell.execute_reply.started": "2022-04-19T16:41:46.074568Z"
    },
    "papermill": {
     "duration": 0.0324,
     "end_time": "2022-04-19T17:15:11.531437",
     "exception": false,
     "start_time": "2022-04-19T17:15:11.499037",
     "status": "completed"
    },
    "tags": []
   },
   "outputs": [],
   "source": [
    "es = callbacks.EarlyStopping(monitor=\"val_loss\", patience=3, verbose=1, restore_best_weights=True, min_delta=1e-4)\n",
    "rlp = callbacks.ReduceLROnPlateau(monitor='val_loss', patience=2, verbose=1)"
   ]
  },
  {
   "cell_type": "code",
   "execution_count": 16,
   "id": "986826c9",
   "metadata": {
    "execution": {
     "iopub.execute_input": "2022-04-19T17:15:11.589487Z",
     "iopub.status.busy": "2022-04-19T17:15:11.588613Z",
     "iopub.status.idle": "2022-04-19T17:19:29.560469Z",
     "shell.execute_reply": "2022-04-19T17:19:29.561005Z",
     "shell.execute_reply.started": "2022-04-19T16:41:46.082314Z"
    },
    "papermill": {
     "duration": 258.005138,
     "end_time": "2022-04-19T17:19:29.561211",
     "exception": false,
     "start_time": "2022-04-19T17:15:11.556073",
     "status": "completed"
    },
    "tags": []
   },
   "outputs": [
    {
     "name": "stderr",
     "output_type": "stream",
     "text": [
      "2022-04-19 17:15:11.668989: I tensorflow/compiler/mlir/mlir_graph_optimization_pass.cc:185] None of the MLIR Optimization Passes are enabled (registered 2)\n",
      "2022-04-19 17:15:15.266490: I tensorflow/stream_executor/cuda/cuda_dnn.cc:369] Loaded cuDNN version 8005\n"
     ]
    }
   ],
   "source": [
    "%%capture training_log\n",
    "\n",
    "history = transformer.fit(\n",
    "    generate_batch(X_train, y_train), steps_per_epoch = np.ceil(len(X_train)/config.BATCH_SIZE),\n",
    "    validation_data=generate_batch(X_valid, y_valid), validation_steps=np.ceil(len(X_valid)/config.BATCH_SIZE),\n",
    "    epochs=config.MAX_EPOCHS, callbacks=[es, rlp], \n",
    ")"
   ]
  },
  {
   "cell_type": "code",
   "execution_count": 17,
   "id": "d8fc94d6",
   "metadata": {
    "execution": {
     "iopub.execute_input": "2022-04-19T17:19:29.614789Z",
     "iopub.status.busy": "2022-04-19T17:19:29.613915Z",
     "iopub.status.idle": "2022-04-19T17:19:29.616847Z",
     "shell.execute_reply": "2022-04-19T17:19:29.617319Z",
     "shell.execute_reply.started": "2022-04-19T16:41:46.082314Z"
    },
    "papermill": {
     "duration": 0.03217,
     "end_time": "2022-04-19T17:19:29.617449",
     "exception": false,
     "start_time": "2022-04-19T17:19:29.585279",
     "status": "completed"
    },
    "tags": []
   },
   "outputs": [],
   "source": [
    "with open('training.log', 'w') as f: f.write(training_log.stdout)"
   ]
  },
  {
   "cell_type": "code",
   "execution_count": 18,
   "id": "036a2d44",
   "metadata": {
    "execution": {
     "iopub.execute_input": "2022-04-19T17:19:29.669598Z",
     "iopub.status.busy": "2022-04-19T17:19:29.668798Z",
     "iopub.status.idle": "2022-04-19T17:19:30.028795Z",
     "shell.execute_reply": "2022-04-19T17:19:30.029237Z",
     "shell.execute_reply.started": "2022-04-19T16:42:22.93183Z"
    },
    "papermill": {
     "duration": 0.388763,
     "end_time": "2022-04-19T17:19:30.029386",
     "exception": false,
     "start_time": "2022-04-19T17:19:29.640623",
     "status": "completed"
    },
    "tags": []
   },
   "outputs": [
    {
     "data": {
      "image/png": "[encoded data removed]",
      "text/plain": [
       "<Figure size 1440x432 with 1 Axes>"
      ]
     },
     "metadata": {},
     "output_type": "display_data"
    }
   ],
   "source": [
    "fig, ax = plt.subplots(figsize=(20, 6))\n",
    "pd.DataFrame(history.history).plot(ax=ax)\n",
    "del history"
   ]
  },
  {
   "cell_type": "markdown",
   "id": "546982b5",
   "metadata": {
    "papermill": {
     "duration": 0.023925,
     "end_time": "2022-04-19T17:19:30.077703",
     "exception": false,
     "start_time": "2022-04-19T17:19:30.053778",
     "status": "completed"
    },
    "tags": []
   },
   "source": [
    "# Evaluation"
   ]
  },
  {
   "cell_type": "markdown",
   "id": "a8492d32",
   "metadata": {
    "papermill": {
     "duration": 0.023713,
     "end_time": "2022-04-19T17:19:30.125341",
     "exception": false,
     "start_time": "2022-04-19T17:19:30.101628",
     "status": "completed"
    },
    "tags": []
   },
   "source": [
    "**Lets see our model in action**"
   ]
  },
  {
   "cell_type": "code",
   "execution_count": 19,
   "id": "c2b8eaa5",
   "metadata": {
    "execution": {
     "iopub.execute_input": "2022-04-19T17:19:30.181573Z",
     "iopub.status.busy": "2022-04-19T17:19:30.180896Z",
     "iopub.status.idle": "2022-04-19T17:19:30.183571Z",
     "shell.execute_reply": "2022-04-19T17:19:30.183144Z",
     "shell.execute_reply.started": "2022-04-19T16:42:23.208867Z"
    },
    "papermill": {
     "duration": 0.034088,
     "end_time": "2022-04-19T17:19:30.183677",
     "exception": false,
     "start_time": "2022-04-19T17:19:30.149589",
     "status": "completed"
    },
    "tags": []
   },
   "outputs": [],
   "source": [
    "# this function converts the token ids to token text\n",
    "def word_for_id(integer, tokenizer):\n",
    "    for word, index in tokenizer.word_index.items():\n",
    "        if index == integer:\n",
    "            return word\n",
    "    return \"\"\n",
    "\n",
    "# this function is used to generate predictions\n",
    "# target sequence is intialised as the start token\n",
    "# then predictions are taken from the model iteratively \n",
    "def predict_sequence(source):\n",
    "    target_seq = \"@\"\n",
    "    for i in range(14):\n",
    "        tok_target_seq = preprocess_input(target_seq, machine_tokenizer, config.Y_LEN).reshape(1, -1)\n",
    "        output_tokens = transformer.predict([source, tok_target_seq])\n",
    "        token_index = np.argmax(output_tokens[0, i, :])\n",
    "        token = word_for_id(token_index, machine_tokenizer)\n",
    "        target_seq += token\n",
    "        \n",
    "    return target_seq\n",
    "\n",
    "# this function decodes the complete sequence of token ids into text\n",
    "def decode_sequence(tokenizer, source):\n",
    "    target = list()\n",
    "    for i in source:\n",
    "        word = word_for_id(i, tokenizer)\n",
    "        if word is None:\n",
    "            break\n",
    "        target.append(word)\n",
    "    return ''.join(target)"
   ]
  },
  {
   "cell_type": "code",
   "execution_count": 20,
   "id": "321eea53",
   "metadata": {
    "execution": {
     "iopub.execute_input": "2022-04-19T17:19:30.236734Z",
     "iopub.status.busy": "2022-04-19T17:19:30.235849Z",
     "iopub.status.idle": "2022-04-19T17:19:31.166237Z",
     "shell.execute_reply": "2022-04-19T17:19:31.167189Z",
     "shell.execute_reply.started": "2022-04-19T16:42:23.210716Z"
    },
    "papermill": {
     "duration": 0.95973,
     "end_time": "2022-04-19T17:19:31.167348",
     "exception": false,
     "start_time": "2022-04-19T17:19:30.207618",
     "status": "completed"
    },
    "tags": []
   },
   "outputs": [
    {
     "name": "stdout",
     "output_type": "stream",
     "text": [
      "SOURCE     : saturday 19 september 1998\n",
      "PREDICTION : @1989-09-19#\n"
     ]
    }
   ],
   "source": [
    "query_text = 'saturday 19 september 1998'\n",
    "query = np.array(list(map(lambda x: preprocess_input(x, human_tokenizer, config.X_LEN), [query_text])))\n",
    "print('SOURCE     :', query_text)\n",
    "print('PREDICTION :', predict_sequence(query))"
   ]
  },
  {
   "cell_type": "code",
   "execution_count": null,
   "id": "e0d15d13",
   "metadata": {
    "papermill": {
     "duration": 0.024883,
     "end_time": "2022-04-19T17:19:31.216970",
     "exception": false,
     "start_time": "2022-04-19T17:19:31.192087",
     "status": "completed"
    },
    "tags": []
   },
   "outputs": [],
   "source": []
  }
 ],
 "metadata": {
  "kernelspec": {
   "display_name": "Python 3",
   "language": "python",
   "name": "python3"
  },
  "language_info": {
   "codemirror_mode": {
    "name": "ipython",
    "version": 3
   },
   "file_extension": ".py",
   "mimetype": "text/x-python",
   "name": "python",
   "nbconvert_exporter": "python",
   "pygments_lexer": "ipython3",
   "version": "3.7.12"
  },
  "papermill": {
   "default_parameters": {},
   "duration": 603.501486,
   "end_time": "2022-04-19T17:19:34.167951",
   "environment_variables": {},
   "exception": null,
   "input_path": "__notebook__.ipynb",
   "output_path": "__notebook__.ipynb",
   "parameters": {},
   "start_time": "2022-04-19T17:09:30.666465",
   "version": "2.3.3"
  },
  "widgets": {
   "application/vnd.jupyter.widget-state+json": {
    "state": {
     "0ac32bd68ce545b59c43e0b6b6e5614d": {
      "model_module": "@jupyter-widgets/controls",
      "model_module_version": "1.5.0",
      "model_name": "HBoxModel",
      "state": {
       "_dom_classes": [],
       "_model_module": "@jupyter-widgets/controls",
       "_model_module_version": "1.5.0",
       "_model_name": "HBoxModel",
       "_view_count": null,
       "_view_module": "@jupyter-widgets/controls",
       "_view_module_version": "1.5.0",
       "_view_name": "HBoxView",
       "box_style": "",
       "children": [
        "IPY_MODEL_c86493c34c5e43a3a731a0ebb3bc2d38",
        "IPY_MODEL_e1212c7c98b54be4b4427218bfb6a307",
        "IPY_MODEL_2aab22dca6dc4a8a87939405ab7bd591"
       ],
       "layout": "IPY_MODEL_fbd74a2375a24323a31cf42c95e7c10d"
      }
     },
     "176e23fde1d743b994c5ef57f4851555": {
      "model_module": "@jupyter-widgets/controls",
      "model_module_version": "1.5.0",
      "model_name": "ProgressStyleModel",
      "state": {
       "_model_module": "@jupyter-widgets/controls",
       "_model_module_version": "1.5.0",
       "_model_name": "ProgressStyleModel",
       "_view_count": null,
       "_view_module": "@jupyter-widgets/base",
       "_view_module_version": "1.2.0",
       "_view_name": "StyleView",
       "bar_color": null,
       "description_width": ""
      }
     },
     "2aab22dca6dc4a8a87939405ab7bd591": {
      "model_module": "@jupyter-widgets/controls",
      "model_module_version": "1.5.0",
      "model_name": "HTMLModel",
      "state": {
       "_dom_classes": [],
       "_model_module": "@jupyter-widgets/controls",
       "_model_module_version": "1.5.0",
       "_model_name": "HTMLModel",
       "_view_count": null,
       "_view_module": "@jupyter-widgets/controls",
       "_view_module_version": "1.5.0",
       "_view_name": "HTMLView",
       "description": "",
       "description_tooltip": null,
       "layout": "IPY_MODEL_d5e7dcedbdf544648727355c3f800a72",
       "placeholder": "​",
       "style": "IPY_MODEL_3c4d6d6d22bd4eae90d28620940d42ec",
       "value": " 1000000/1000000 [04:47&lt;00:00, 3625.43it/s]"
      }
     },
     "3c4d6d6d22bd4eae90d28620940d42ec": {
      "model_module": "@jupyter-widgets/controls",
      "model_module_version": "1.5.0",
      "model_name": "DescriptionStyleModel",
      "state": {
       "_model_module": "@jupyter-widgets/controls",
       "_model_module_version": "1.5.0",
       "_model_name": "DescriptionStyleModel",
       "_view_count": null,
       "_view_module": "@jupyter-widgets/base",
       "_view_module_version": "1.2.0",
       "_view_name": "StyleView",
       "description_width": ""
      }
     },
     "4384144155d447c99606dcc98d04e79d": {
      "model_module": "@jupyter-widgets/base",
      "model_module_version": "1.2.0",
      "model_name": "LayoutModel",
      "state": {
       "_model_module": "@jupyter-widgets/base",
       "_model_module_version": "1.2.0",
       "_model_name": "LayoutModel",
       "_view_count": null,
       "_view_module": "@jupyter-widgets/base",
       "_view_module_version": "1.2.0",
       "_view_name": "LayoutView",
       "align_content": null,
       "align_items": null,
       "align_self": null,
       "border": null,
       "bottom": null,
       "display": null,
       "flex": null,
       "flex_flow": null,
       "grid_area": null,
       "grid_auto_columns": null,
       "grid_auto_flow": null,
       "grid_auto_rows": null,
       "grid_column": null,
       "grid_gap": null,
       "grid_row": null,
       "grid_template_areas": null,
       "grid_template_columns": null,
       "grid_template_rows": null,
       "height": null,
       "justify_content": null,
       "justify_items": null,
       "left": null,
       "margin": null,
       "max_height": null,
       "max_width": null,
       "min_height": null,
       "min_width": null,
       "object_fit": null,
       "object_position": null,
       "order": null,
       "overflow": null,
       "overflow_x": null,
       "overflow_y": null,
       "padding": null,
       "right": null,
       "top": null,
       "visibility": null,
       "width": null
      }
     },
     "495b42cf04bf466ca67e9eabc385afcc": {
      "model_module": "@jupyter-widgets/base",
      "model_module_version": "1.2.0",
      "model_name": "LayoutModel",
      "state": {
       "_model_module": "@jupyter-widgets/base",
       "_model_module_version": "1.2.0",
       "_model_name": "LayoutModel",
       "_view_count": null,
       "_view_module": "@jupyter-widgets/base",
       "_view_module_version": "1.2.0",
       "_view_name": "LayoutView",
       "align_content": null,
       "align_items": null,
       "align_self": null,
       "border": null,
       "bottom": null,
       "display": null,
       "flex": null,
       "flex_flow": null,
       "grid_area": null,
       "grid_auto_columns": null,
       "grid_auto_flow": null,
       "grid_auto_rows": null,
       "grid_column": null,
       "grid_gap": null,
       "grid_row": null,
       "grid_template_areas": null,
       "grid_template_columns": null,
       "grid_template_rows": null,
       "height": null,
       "justify_content": null,
       "justify_items": null,
       "left": null,
       "margin": null,
       "max_height": null,
       "max_width": null,
       "min_height": null,
       "min_width": null,
       "object_fit": null,
       "object_position": null,
       "order": null,
       "overflow": null,
       "overflow_x": null,
       "overflow_y": null,
       "padding": null,
       "right": null,
       "top": null,
       "visibility": null,
       "width": null
      }
     },
     "c09972bcde064249b470112db02250a7": {
      "model_module": "@jupyter-widgets/controls",
      "model_module_version": "1.5.0",
      "model_name": "DescriptionStyleModel",
      "state": {
       "_model_module": "@jupyter-widgets/controls",
       "_model_module_version": "1.5.0",
       "_model_name": "DescriptionStyleModel",
       "_view_count": null,
       "_view_module": "@jupyter-widgets/base",
       "_view_module_version": "1.2.0",
       "_view_name": "StyleView",
       "description_width": ""
      }
     },
     "c86493c34c5e43a3a731a0ebb3bc2d38": {
      "model_module": "@jupyter-widgets/controls",
      "model_module_version": "1.5.0",
      "model_name": "HTMLModel",
      "state": {
       "_dom_classes": [],
       "_model_module": "@jupyter-widgets/controls",
       "_model_module_version": "1.5.0",
       "_model_name": "HTMLModel",
       "_view_count": null,
       "_view_module": "@jupyter-widgets/controls",
       "_view_module_version": "1.5.0",
       "_view_name": "HTMLView",
       "description": "",
       "description_tooltip": null,
       "layout": "IPY_MODEL_4384144155d447c99606dcc98d04e79d",
       "placeholder": "​",
       "style": "IPY_MODEL_c09972bcde064249b470112db02250a7",
       "value": "100%"
      }
     },
     "d5e7dcedbdf544648727355c3f800a72": {
      "model_module": "@jupyter-widgets/base",
      "model_module_version": "1.2.0",
      "model_name": "LayoutModel",
      "state": {
       "_model_module": "@jupyter-widgets/base",
       "_model_module_version": "1.2.0",
       "_model_name": "LayoutModel",
       "_view_count": null,
       "_view_module": "@jupyter-widgets/base",
       "_view_module_version": "1.2.0",
       "_view_name": "LayoutView",
       "align_content": null,
       "align_items": null,
       "align_self": null,
       "border": null,
       "bottom": null,
       "display": null,
       "flex": null,
       "flex_flow": null,
       "grid_area": null,
       "grid_auto_columns": null,
       "grid_auto_flow": null,
       "grid_auto_rows": null,
       "grid_column": null,
       "grid_gap": null,
       "grid_row": null,
       "grid_template_areas": null,
       "grid_template_columns": null,
       "grid_template_rows": null,
       "height": null,
       "justify_content": null,
       "justify_items": null,
       "left": null,
       "margin": null,
       "max_height": null,
       "max_width": null,
       "min_height": null,
       "min_width": null,
       "object_fit": null,
       "object_position": null,
       "order": null,
       "overflow": null,
       "overflow_x": null,
       "overflow_y": null,
       "padding": null,
       "right": null,
       "top": null,
       "visibility": null,
       "width": null
      }
     },
     "e1212c7c98b54be4b4427218bfb6a307": {
      "model_module": "@jupyter-widgets/controls",
      "model_module_version": "1.5.0",
      "model_name": "FloatProgressModel",
      "state": {
       "_dom_classes": [],
       "_model_module": "@jupyter-widgets/controls",
       "_model_module_version": "1.5.0",
       "_model_name": "FloatProgressModel",
       "_view_count": null,
       "_view_module": "@jupyter-widgets/controls",
       "_view_module_version": "1.5.0",
       "_view_name": "ProgressView",
       "bar_style": "success",
       "description": "",
       "description_tooltip": null,
       "layout": "IPY_MODEL_495b42cf04bf466ca67e9eabc385afcc",
       "max": 1000000.0,
       "min": 0.0,
       "orientation": "horizontal",
       "style": "IPY_MODEL_176e23fde1d743b994c5ef57f4851555",
       "value": 1000000.0
      }
     },
     "fbd74a2375a24323a31cf42c95e7c10d": {
      "model_module": "@jupyter-widgets/base",
      "model_module_version": "1.2.0",
      "model_name": "LayoutModel",
      "state": {
       "_model_module": "@jupyter-widgets/base",
       "_model_module_version": "1.2.0",
       "_model_name": "LayoutModel",
       "_view_count": null,
       "_view_module": "@jupyter-widgets/base",
       "_view_module_version": "1.2.0",
       "_view_name": "LayoutView",
       "align_content": null,
       "align_items": null,
       "align_self": null,
       "border": null,
       "bottom": null,
       "display": null,
       "flex": null,
       "flex_flow": null,
       "grid_area": null,
       "grid_auto_columns": null,
       "grid_auto_flow": null,
       "grid_auto_rows": null,
       "grid_column": null,
       "grid_gap": null,
       "grid_row": null,
       "grid_template_areas": null,
       "grid_template_columns": null,
       "grid_template_rows": null,
       "height": null,
       "justify_content": null,
       "justify_items": null,
       "left": null,
       "margin": null,
       "max_height": null,
       "max_width": null,
       "min_height": null,
       "min_width": null,
       "object_fit": null,
       "object_position": null,
       "order": null,
       "overflow": null,
       "overflow_x": null,
       "overflow_y": null,
       "padding": null,
       "right": null,
       "top": null,
       "visibility": null,
       "width": null
      }
     }
    },
    "version_major": 2,
    "version_minor": 0
   }
  }
 },
 "nbformat": 4,
 "nbformat_minor": 5
}
