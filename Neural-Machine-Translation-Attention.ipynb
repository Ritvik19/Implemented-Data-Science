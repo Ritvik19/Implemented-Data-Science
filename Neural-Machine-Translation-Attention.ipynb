{
 "cells": [
  {
   "cell_type": "markdown",
   "id": "a969728d",
   "metadata": {
    "papermill": {
     "duration": 0.020255,
     "end_time": "2022-04-19T16:56:54.886736",
     "exception": false,
     "start_time": "2022-04-19T16:56:54.866481",
     "status": "completed"
    },
    "tags": []
   },
   "source": [
    "# Neural Machine Translation\n",
    "\n",
    "In this notebook we will implement a small transformer model for machine translation task. Our model would be able to translate human readabke dates in any format to YYYY-MM-DD format.\n",
    "\n",
    "We will be using `faker` module to generate our dataset"
   ]
  },
  {
   "cell_type": "code",
   "execution_count": 1,
   "id": "28305f41",
   "metadata": {
    "_cell_guid": "b1076dfc-b9ad-4769-8c92-a6c4dae69d19",
    "_kg_hide-output": true,
    "_uuid": "8f2839f25d086af736a60e9eeb907d3b93b6e0e5",
    "execution": {
     "iopub.execute_input": "2022-04-19T16:56:54.930697Z",
     "iopub.status.busy": "2022-04-19T16:56:54.929232Z",
     "iopub.status.idle": "2022-04-19T16:57:07.565874Z",
     "shell.execute_reply": "2022-04-19T16:57:07.564913Z",
     "shell.execute_reply.started": "2022-04-19T16:26:16.961398Z"
    },
    "papermill": {
     "duration": 12.659608,
     "end_time": "2022-04-19T16:57:07.566034",
     "exception": false,
     "start_time": "2022-04-19T16:56:54.906426",
     "status": "completed"
    },
    "tags": []
   },
   "outputs": [],
   "source": [
    "%%capture\n",
    "!pip install -q faker"
   ]
  },
  {
   "cell_type": "code",
   "execution_count": 2,
   "id": "345b129c",
   "metadata": {
    "execution": {
     "iopub.execute_input": "2022-04-19T16:57:07.611619Z",
     "iopub.status.busy": "2022-04-19T16:57:07.610942Z",
     "iopub.status.idle": "2022-04-19T16:57:08.517964Z",
     "shell.execute_reply": "2022-04-19T16:57:08.517379Z",
     "shell.execute_reply.started": "2022-04-19T16:26:27.654284Z"
    },
    "papermill": {
     "duration": 0.933248,
     "end_time": "2022-04-19T16:57:08.518102",
     "exception": false,
     "start_time": "2022-04-19T16:57:07.584854",
     "status": "completed"
    },
    "tags": []
   },
   "outputs": [],
   "source": [
    "import numpy as np\n",
    "import pandas as pd\n",
    "import matplotlib.pyplot as plt\n",
    "import seaborn as sns\n",
    "from tqdm.auto import tqdm\n",
    "import re, random\n",
    "\n",
    "from faker import Faker\n",
    "from babel.dates import format_date\n",
    "\n",
    "pd.options.display.max_colwidth = None\n",
    "sns.set_style('darkgrid')"
   ]
  },
  {
   "cell_type": "code",
   "execution_count": 3,
   "id": "50b8515b",
   "metadata": {
    "execution": {
     "iopub.execute_input": "2022-04-19T16:57:08.566539Z",
     "iopub.status.busy": "2022-04-19T16:57:08.565954Z",
     "iopub.status.idle": "2022-04-19T16:57:12.972566Z",
     "shell.execute_reply": "2022-04-19T16:57:12.971602Z",
     "shell.execute_reply.started": "2022-04-19T16:26:28.610487Z"
    },
    "papermill": {
     "duration": 4.43301,
     "end_time": "2022-04-19T16:57:12.972727",
     "exception": false,
     "start_time": "2022-04-19T16:57:08.539717",
     "status": "completed"
    },
    "tags": []
   },
   "outputs": [],
   "source": [
    "import tensorflow as tf\n",
    "from tensorflow import keras\n",
    "from tensorflow.keras.preprocessing.text import Tokenizer\n",
    "from tensorflow.keras.preprocessing.sequence import pad_sequences\n",
    "from tensorflow.keras.models import Model, Sequential\n",
    "from tensorflow.keras import losses, callbacks, utils, models, Input\n",
    "from tensorflow.keras import layers as L"
   ]
  },
  {
   "cell_type": "markdown",
   "id": "7940bc98",
   "metadata": {
    "papermill": {
     "duration": 0.020443,
     "end_time": "2022-04-19T16:57:13.012563",
     "exception": false,
     "start_time": "2022-04-19T16:57:12.992120",
     "status": "completed"
    },
    "tags": []
   },
   "source": [
    "# Data Generation"
   ]
  },
  {
   "cell_type": "code",
   "execution_count": 4,
   "id": "8c9f90d2",
   "metadata": {
    "execution": {
     "iopub.execute_input": "2022-04-19T16:57:13.056317Z",
     "iopub.status.busy": "2022-04-19T16:57:13.055538Z",
     "iopub.status.idle": "2022-04-19T16:57:13.057630Z",
     "shell.execute_reply": "2022-04-19T16:57:13.058042Z",
     "shell.execute_reply.started": "2022-04-19T16:26:33.512965Z"
    },
    "papermill": {
     "duration": 0.026906,
     "end_time": "2022-04-19T16:57:13.058176",
     "exception": false,
     "start_time": "2022-04-19T16:57:13.031270",
     "status": "completed"
    },
    "tags": []
   },
   "outputs": [],
   "source": [
    "# Constants\n",
    "class config():  \n",
    "    SAMPLE_SIZE = 10_00_000        \n",
    "    DATE_FORMATS = [\n",
    "        'short', 'medium', 'long', 'full',\n",
    "        'd MMM YYY', 'd MMMM YYY', 'dd/MM/YYY',\n",
    "        'EE d, MMM YYY', 'EEEE d, MMMM YYY', 'd of MMMM YYY',\n",
    "    ]\n",
    "    VALIDATION_SIZE = 0.1\n",
    "    BATCH_SIZE = 32\n",
    "    MAX_EPOCHS = 25\n",
    "    EMBED_DIM = 16\n",
    "    DENSE_DIM = 16\n",
    "    NUM_HEADS = 2\n",
    "    X_LEN = 30\n",
    "    Y_LEN = 14\n",
    "    NUM_ENCODER_TOKENS = 35\n",
    "    NUM_DECODER_TOKENS = 14"
   ]
  },
  {
   "cell_type": "code",
   "execution_count": 5,
   "id": "00262eb7",
   "metadata": {
    "execution": {
     "iopub.execute_input": "2022-04-19T16:57:13.099601Z",
     "iopub.status.busy": "2022-04-19T16:57:13.098775Z",
     "iopub.status.idle": "2022-04-19T16:57:13.150233Z",
     "shell.execute_reply": "2022-04-19T16:57:13.149654Z",
     "shell.execute_reply.started": "2022-04-19T16:26:33.526883Z"
    },
    "papermill": {
     "duration": 0.073881,
     "end_time": "2022-04-19T16:57:13.150353",
     "exception": false,
     "start_time": "2022-04-19T16:57:13.076472",
     "status": "completed"
    },
    "tags": []
   },
   "outputs": [
    {
     "name": "stdout",
     "output_type": "stream",
     "text": [
      "Sample dates for each format\n",
      "\n",
      "d of MMMM YYY        =>  1 of March 1996\n",
      "d MMM YYY            =>  7 Apr 2014\n",
      "short                =>  9/6/20\n",
      "medium               =>  Jan 23, 1997\n",
      "dd/MM/YYY            =>  01/12/1987\n",
      "d MMMM YYY           =>  7 August 1994\n",
      "long                 =>  August 13, 2018\n",
      "full                 =>  Wednesday, January 23, 1974\n",
      "EE d, MMM YYY        =>  Tue 11, Oct 2005\n",
      "EEEE d, MMMM YYY     =>  Thursday 12, May 2011\n"
     ]
    }
   ],
   "source": [
    "faker = Faker()\n",
    "print('Sample dates for each format\\n')\n",
    "\n",
    "for fmt in set(config.DATE_FORMATS):\n",
    "    print(f'{fmt:20} =>  {format_date(faker.date_object(), format=fmt, locale=\"en\")}')"
   ]
  },
  {
   "cell_type": "code",
   "execution_count": 6,
   "id": "25691ebc",
   "metadata": {
    "execution": {
     "iopub.execute_input": "2022-04-19T16:57:13.195535Z",
     "iopub.status.busy": "2022-04-19T16:57:13.194816Z",
     "iopub.status.idle": "2022-04-19T16:57:13.197352Z",
     "shell.execute_reply": "2022-04-19T16:57:13.196943Z",
     "shell.execute_reply.started": "2022-04-19T16:31:12.688221Z"
    },
    "papermill": {
     "duration": 0.027736,
     "end_time": "2022-04-19T16:57:13.197457",
     "exception": false,
     "start_time": "2022-04-19T16:57:13.169721",
     "status": "completed"
    },
    "tags": []
   },
   "outputs": [],
   "source": [
    "# a utility data cleaning function\n",
    "def clean_date(raw_date):\n",
    "    return raw_date.lower().replace(',', '')\n",
    "\n",
    "# this function will generate our data in a data frame\n",
    "def create_dataset(num_rows):\n",
    "    dataset = []\n",
    "    \n",
    "    for i in tqdm(range(num_rows)):\n",
    "        dt = faker.date_object()\n",
    "        for fmt in config.DATE_FORMATS:\n",
    "            try:\n",
    "                date = format_date(dt, format=fmt, locale='en')\n",
    "                human_readable = clean_date(date)\n",
    "                machine_readable = f\"@{dt.isoformat()}#\" # adding a start token '@' and end token '#'\n",
    "            except AttributeError as e:\n",
    "                date = None\n",
    "                human_readable = None\n",
    "                machine_readable = None\n",
    "            if human_readable is not None and machine_readable is not None:\n",
    "                dataset.append((human_readable, machine_readable))\n",
    " \n",
    "    return pd.DataFrame(dataset, columns=['human_readable', 'machine_readable'])"
   ]
  },
  {
   "cell_type": "code",
   "execution_count": 7,
   "id": "0e0d8840",
   "metadata": {
    "execution": {
     "iopub.execute_input": "2022-04-19T16:57:13.240072Z",
     "iopub.status.busy": "2022-04-19T16:57:13.239380Z",
     "iopub.status.idle": "2022-04-19T17:02:09.482297Z",
     "shell.execute_reply": "2022-04-19T17:02:09.482708Z",
     "shell.execute_reply.started": "2022-04-19T16:31:13.00423Z"
    },
    "papermill": {
     "duration": 296.266673,
     "end_time": "2022-04-19T17:02:09.482869",
     "exception": false,
     "start_time": "2022-04-19T16:57:13.216196",
     "status": "completed"
    },
    "tags": []
   },
   "outputs": [
    {
     "data": {
      "application/vnd.jupyter.widget-view+json": {
       "model_id": "4f194902dc27448e8f8519b231d1fc9d",
       "version_major": 2,
       "version_minor": 0
      },
      "text/plain": [
       "  0%|          | 0/1000000 [00:00<?, ?it/s]"
      ]
     },
     "metadata": {},
     "output_type": "display_data"
    },
    {
     "name": "stdout",
     "output_type": "stream",
     "text": [
      "(187584, 2)\n"
     ]
    },
    {
     "data": {
      "text/html": [
       "<div>\n",
       "<style scoped>\n",
       "    .dataframe tbody tr th:only-of-type {\n",
       "        vertical-align: middle;\n",
       "    }\n",
       "\n",
       "    .dataframe tbody tr th {\n",
       "        vertical-align: top;\n",
       "    }\n",
       "\n",
       "    .dataframe thead th {\n",
       "        text-align: right;\n",
       "    }\n",
       "</style>\n",
       "<table border=\"1\" class=\"dataframe\">\n",
       "  <thead>\n",
       "    <tr style=\"text-align: right;\">\n",
       "      <th></th>\n",
       "      <th>human_readable</th>\n",
       "      <th>machine_readable</th>\n",
       "    </tr>\n",
       "  </thead>\n",
       "  <tbody>\n",
       "    <tr>\n",
       "      <th>0</th>\n",
       "      <td>sunday 24 july 1977</td>\n",
       "      <td>@1977-07-24#</td>\n",
       "    </tr>\n",
       "    <tr>\n",
       "      <th>1</th>\n",
       "      <td>wed 26 oct 1988</td>\n",
       "      <td>@1988-10-26#</td>\n",
       "    </tr>\n",
       "    <tr>\n",
       "      <th>2</th>\n",
       "      <td>7 mar 1989</td>\n",
       "      <td>@1989-03-07#</td>\n",
       "    </tr>\n",
       "    <tr>\n",
       "      <th>3</th>\n",
       "      <td>4 july 2005</td>\n",
       "      <td>@2005-07-04#</td>\n",
       "    </tr>\n",
       "    <tr>\n",
       "      <th>4</th>\n",
       "      <td>21 december 1975</td>\n",
       "      <td>@1975-12-21#</td>\n",
       "    </tr>\n",
       "  </tbody>\n",
       "</table>\n",
       "</div>"
      ],
      "text/plain": [
       "        human_readable machine_readable\n",
       "0  sunday 24 july 1977     @1977-07-24#\n",
       "1      wed 26 oct 1988     @1988-10-26#\n",
       "2           7 mar 1989     @1989-03-07#\n",
       "3          4 july 2005     @2005-07-04#\n",
       "4     21 december 1975     @1975-12-21#"
      ]
     },
     "execution_count": 7,
     "metadata": {},
     "output_type": "execute_result"
    }
   ],
   "source": [
    "# generate the dataset using the function defined above\n",
    "dataset = create_dataset(config.SAMPLE_SIZE)\n",
    "dataset  = dataset.drop_duplicates(subset=['human_readable']).sample(frac=1.0).reset_index(drop=True)\n",
    "print(dataset.shape)\n",
    "dataset.head()"
   ]
  },
  {
   "cell_type": "markdown",
   "id": "6def44fc",
   "metadata": {
    "papermill": {
     "duration": 0.020176,
     "end_time": "2022-04-19T17:02:09.523407",
     "exception": false,
     "start_time": "2022-04-19T17:02:09.503231",
     "status": "completed"
    },
    "tags": []
   },
   "source": [
    "**Define tokenizers for both the languages (human readable and machine readable dates)**"
   ]
  },
  {
   "cell_type": "code",
   "execution_count": 8,
   "id": "06dedafb",
   "metadata": {
    "execution": {
     "iopub.execute_input": "2022-04-19T17:02:09.603157Z",
     "iopub.status.busy": "2022-04-19T17:02:09.587802Z",
     "iopub.status.idle": "2022-04-19T17:02:11.566442Z",
     "shell.execute_reply": "2022-04-19T17:02:11.565989Z",
     "shell.execute_reply.started": "2022-04-19T16:36:12.52806Z"
    },
    "papermill": {
     "duration": 2.023294,
     "end_time": "2022-04-19T17:02:11.566564",
     "exception": false,
     "start_time": "2022-04-19T17:02:09.543270",
     "status": "completed"
    },
    "tags": []
   },
   "outputs": [
    {
     "name": "stdout",
     "output_type": "stream",
     "text": [
      "{' ': 1, '1': 2, '2': 3, '9': 4, '0': 5, 'a': 6, 'e': 7, 'r': 8, 'u': 9, '/': 10, '8': 11, '7': 12, 'y': 13, 'o': 14, 'n': 15, 'd': 16, 'm': 17, 't': 18, 's': 19, '3': 20, 'b': 21, '5': 22, '4': 23, '6': 24, 'f': 25, 'j': 26, 'c': 27, 'p': 28, 'l': 29, 'h': 30, 'i': 31, 'g': 32, 'v': 33, 'w': 34}\n",
      "{'-': 1, '0': 2, '1': 3, '2': 4, '9': 5, '@': 6, '#': 7, '8': 8, '7': 9, '3': 10, '4': 11, '6': 12, '5': 13}\n"
     ]
    }
   ],
   "source": [
    "human_tokenizer = Tokenizer(char_level=True)\n",
    "machine_tokenizer = Tokenizer(char_level=True)\n",
    "\n",
    "human_tokenizer.fit_on_texts(dataset['human_readable'].values)\n",
    "machine_tokenizer.fit_on_texts(dataset['machine_readable'].values)\n",
    "\n",
    "print(human_tokenizer.word_index)\n",
    "print(machine_tokenizer.word_index)"
   ]
  },
  {
   "cell_type": "code",
   "execution_count": 9,
   "id": "94afd69f",
   "metadata": {
    "execution": {
     "iopub.execute_input": "2022-04-19T17:02:11.611984Z",
     "iopub.status.busy": "2022-04-19T17:02:11.611333Z",
     "iopub.status.idle": "2022-04-19T17:02:11.613481Z",
     "shell.execute_reply": "2022-04-19T17:02:11.613875Z",
     "shell.execute_reply.started": "2022-04-19T16:36:14.614322Z"
    },
    "papermill": {
     "duration": 0.027035,
     "end_time": "2022-04-19T17:02:11.613998",
     "exception": false,
     "start_time": "2022-04-19T17:02:11.586963",
     "status": "completed"
    },
    "tags": []
   },
   "outputs": [],
   "source": [
    "# A utility function to clean and tokenize the text and then pad the sequence\n",
    "def preprocess_input(date, tokenizer, max_len):\n",
    "    seq = [i[0] for i in tokenizer.texts_to_sequences(date.lower().replace(',', ''))]\n",
    "    seq = pad_sequences([seq], padding='post', maxlen=max_len)[0]\n",
    "    return seq"
   ]
  },
  {
   "cell_type": "markdown",
   "id": "f130cd48",
   "metadata": {
    "papermill": {
     "duration": 0.020091,
     "end_time": "2022-04-19T17:02:11.654082",
     "exception": false,
     "start_time": "2022-04-19T17:02:11.633991",
     "status": "completed"
    },
    "tags": []
   },
   "source": [
    "**Preprocessing the data**"
   ]
  },
  {
   "cell_type": "code",
   "execution_count": 10,
   "id": "d0bf1a25",
   "metadata": {
    "execution": {
     "iopub.execute_input": "2022-04-19T17:02:12.719970Z",
     "iopub.status.busy": "2022-04-19T17:02:12.247538Z",
     "iopub.status.idle": "2022-04-19T17:02:25.931590Z",
     "shell.execute_reply": "2022-04-19T17:02:25.932027Z",
     "shell.execute_reply.started": "2022-04-19T16:36:14.62205Z"
    },
    "papermill": {
     "duration": 14.258198,
     "end_time": "2022-04-19T17:02:25.932225",
     "exception": false,
     "start_time": "2022-04-19T17:02:11.674027",
     "status": "completed"
    },
    "tags": []
   },
   "outputs": [
    {
     "name": "stdout",
     "output_type": "stream",
     "text": [
      "CPU times: user 14.3 s, sys: 226 ms, total: 14.5 s\n",
      "Wall time: 14.2 s\n"
     ]
    },
    {
     "data": {
      "text/plain": [
       "((187584, 30), (187584, 14))"
      ]
     },
     "execution_count": 10,
     "metadata": {},
     "output_type": "execute_result"
    }
   ],
   "source": [
    "%%time\n",
    "\n",
    "X = np.array(list(map(lambda x: preprocess_input(x, human_tokenizer, config.X_LEN), dataset['human_readable'])))\n",
    "y = np.array(list(map(lambda x: preprocess_input(x, machine_tokenizer, config.Y_LEN), dataset['machine_readable'])))\n",
    "\n",
    "X.shape, y.shape"
   ]
  },
  {
   "cell_type": "code",
   "execution_count": 11,
   "id": "091ac7fc",
   "metadata": {
    "execution": {
     "iopub.execute_input": "2022-04-19T17:02:25.979044Z",
     "iopub.status.busy": "2022-04-19T17:02:25.978368Z",
     "iopub.status.idle": "2022-04-19T17:02:26.136138Z",
     "shell.execute_reply": "2022-04-19T17:02:26.135633Z",
     "shell.execute_reply.started": "2022-04-19T16:36:28.203578Z"
    },
    "papermill": {
     "duration": 0.182932,
     "end_time": "2022-04-19T17:02:26.136285",
     "exception": false,
     "start_time": "2022-04-19T17:02:25.953353",
     "status": "completed"
    },
    "tags": []
   },
   "outputs": [],
   "source": [
    "# Cross Validation\n",
    "from sklearn.model_selection import train_test_split\n",
    "X_train, X_valid, y_train, y_valid = train_test_split(X, y, test_size=config.VALIDATION_SIZE, random_state=19)"
   ]
  },
  {
   "cell_type": "markdown",
   "id": "886fa3c2",
   "metadata": {
    "papermill": {
     "duration": 0.020729,
     "end_time": "2022-04-19T17:02:26.178026",
     "exception": false,
     "start_time": "2022-04-19T17:02:26.157297",
     "status": "completed"
    },
    "tags": []
   },
   "source": [
    "A utility function to generate batches of data\n",
    "* encoder input data would be source language text\n",
    "* decoder input data would be target language text\n",
    "* decoder output data would be target language text shifted one time stamp forward (one hot encoded)"
   ]
  },
  {
   "cell_type": "code",
   "execution_count": 12,
   "id": "1b47e201",
   "metadata": {
    "execution": {
     "iopub.execute_input": "2022-04-19T17:02:26.226577Z",
     "iopub.status.busy": "2022-04-19T17:02:26.225890Z",
     "iopub.status.idle": "2022-04-19T17:02:26.228523Z",
     "shell.execute_reply": "2022-04-19T17:02:26.228129Z",
     "shell.execute_reply.started": "2022-04-19T16:36:28.380373Z"
    },
    "papermill": {
     "duration": 0.029976,
     "end_time": "2022-04-19T17:02:26.228630",
     "exception": false,
     "start_time": "2022-04-19T17:02:26.198654",
     "status": "completed"
    },
    "tags": []
   },
   "outputs": [],
   "source": [
    "def generate_batch(X, y, batch_size=config.BATCH_SIZE):\n",
    "    ''' Generate a batch of data '''\n",
    "    while True:\n",
    "        for j in range(0, len(X), batch_size):\n",
    "            encoder_input_data = X[j:j+batch_size]\n",
    "            decoder_input_data = y[j:j+batch_size]\n",
    "            output = y[j:j+batch_size]\n",
    "            decoder_output_data = np.zeros_like(output)\n",
    "            decoder_output_data[:,:-1] = output[:, 1:]\n",
    "            decoder_target_data = utils.to_categorical(decoder_output_data, num_classes=config.NUM_DECODER_TOKENS)\n",
    "            yield([encoder_input_data, decoder_input_data], decoder_target_data)"
   ]
  },
  {
   "cell_type": "markdown",
   "id": "050ffc32",
   "metadata": {
    "papermill": {
     "duration": 0.021762,
     "end_time": "2022-04-19T17:02:26.271081",
     "exception": false,
     "start_time": "2022-04-19T17:02:26.249319",
     "status": "completed"
    },
    "tags": []
   },
   "source": [
    "# Model"
   ]
  },
  {
   "cell_type": "markdown",
   "id": "afa278ba",
   "metadata": {
    "papermill": {
     "duration": 0.020264,
     "end_time": "2022-04-19T17:02:26.312615",
     "exception": false,
     "start_time": "2022-04-19T17:02:26.292351",
     "status": "completed"
    },
    "tags": []
   },
   "source": [
    "Let's define the key components for our model\n",
    "* Positional Embedding Layer\n",
    "* Encoder Block\n",
    "* Decoder Block"
   ]
  },
  {
   "cell_type": "code",
   "execution_count": 13,
   "id": "08a0f7ac",
   "metadata": {
    "execution": {
     "iopub.execute_input": "2022-04-19T17:02:26.374633Z",
     "iopub.status.busy": "2022-04-19T17:02:26.373810Z",
     "iopub.status.idle": "2022-04-19T17:02:26.376130Z",
     "shell.execute_reply": "2022-04-19T17:02:26.375702Z",
     "shell.execute_reply.started": "2022-04-19T16:41:41.27963Z"
    },
    "papermill": {
     "duration": 0.043237,
     "end_time": "2022-04-19T17:02:26.376246",
     "exception": false,
     "start_time": "2022-04-19T17:02:26.333009",
     "status": "completed"
    },
    "tags": []
   },
   "outputs": [],
   "source": [
    "class PositionalEmbedding(L.Layer):\n",
    "    def __init__(self, sequence_length, input_dim, output_dim, **kwargs):\n",
    "        super().__init__(**kwargs)\n",
    "        self.token_embeddings = L.Embedding(input_dim, output_dim)\n",
    "        self.position_embeddings = L.Embedding(sequence_length, output_dim)\n",
    "        self.sequence_length = sequence_length\n",
    "        self.input_dim = input_dim\n",
    "        self.output_dim = output_dim\n",
    "        \n",
    "    def call(self, inputs):\n",
    "        length = tf.shape(inputs)[-1]\n",
    "        positions = tf.range(start=0, limit=length, delta=1)\n",
    "        embedded_tokens = self.token_embeddings(inputs)\n",
    "        embedded_positions = self.position_embeddings(positions)\n",
    "        return embedded_tokens + embedded_positions\n",
    "    \n",
    "    def get_config(self):\n",
    "        config = super().get_config()\n",
    "        config.update({\n",
    "            \"output_dim\": self.output_dim,\n",
    "            \"sequence_length\": self.sequence_length,\n",
    "            \"input_dim\": self.input_dim,\n",
    "        })\n",
    "        return config\n",
    "    \n",
    "class TransformerEncoder(L.Layer):\n",
    "    def __init__(self, embed_dim, dense_dim, num_heads, **kwargs):\n",
    "        super().__init__(**kwargs)\n",
    "        self.embed_dim = embed_dim\n",
    "        self.dense_dim = dense_dim\n",
    "        self.num_heads = num_heads\n",
    "        self.attention = L.MultiHeadAttention(num_heads=num_heads, key_dim=embed_dim)\n",
    "        self.dense_proj = keras.Sequential([L.Dense(dense_dim, activation='relu'), L.Dense(embed_dim)])\n",
    "        self.layernorm1 = L.LayerNormalization()\n",
    "        self.layernorm2 = L.LayerNormalization()\n",
    "    \n",
    "    def call(self, inputs, mask=None):\n",
    "        if mask is not None:\n",
    "            mask = mask[: tf.newaxis, :]\n",
    "        attention_output = self.attention(inputs, inputs, attention_mask=mask)\n",
    "        proj_input = self.layernorm1(inputs + attention_output)\n",
    "        proj_output = self.dense_proj(proj_input)\n",
    "        return self.layernorm2(proj_input + proj_output)\n",
    "    \n",
    "    def get_config(self):\n",
    "        config = super().get_confog()\n",
    "        config.update({\n",
    "            \"embed_dim\": self.embed_dim,\n",
    "            \"num_heads\": self.num_heads,\n",
    "            \"dense_dim\": self.dense_dim\n",
    "        })\n",
    "        return config    \n",
    "    \n",
    "class TransformerDecoder(L.Layer):\n",
    "    def __init__(self, embed_dim, dense_dim, num_heads, **kwargs):\n",
    "        super().__init__(**kwargs)\n",
    "        self.embed_dim = embed_dim\n",
    "        self.dense_dim = dense_dim\n",
    "        self.num_heads = num_heads\n",
    "        self.attention_1 = L.MultiHeadAttention(num_heads=num_heads, key_dim=embed_dim)\n",
    "        self.attention_2 = L.MultiHeadAttention(num_heads=num_heads, key_dim=embed_dim)\n",
    "        self.dense_proj = keras.Sequential([\n",
    "            L.Dense(dense_dim, activation='relu'), L.Dense(embed_dim)\n",
    "        ])\n",
    "        self.layernorm_1 = L.LayerNormalization()\n",
    "        self.layernorm_2 = L.LayerNormalization()\n",
    "        self.layernorm_3 = L.LayerNormalization()\n",
    "        self.support_masking = False\n",
    "        \n",
    "    def get_config(self):\n",
    "        config = super().get_config()\n",
    "        config.update({\n",
    "            'embed_dim': self.embed_dim,\n",
    "            \"num_heads\": self.num_heads,\n",
    "            \"dense_dim\": self.dense_dim,\n",
    "        })\n",
    "        return config\n",
    "    \n",
    "    def call(self, inputs, encoder_outputs, mask=None):\n",
    "        if mask is not None:\n",
    "            padding_mask = tf.cast(mask[:, tf.newaxis, :], dtype=\"int32\")\n",
    "            padding_mask = tf.minimum(padding_mask, causal_mask)\n",
    "        attention_output_1 = self.attention_1(\n",
    "            query=inputs, value=inputs, key=inputs, attention_mask=None\n",
    "        )\n",
    "        attention_output_1 = self.layernorm_1(inputs + attention_output_1)\n",
    "        attention_output_2 = self.attention_2(\n",
    "            query=attention_output_1, value=encoder_outputs, key=encoder_outputs, attention_mask=None\n",
    "        )\n",
    "        attention_output_2 = self.layernorm_2(\n",
    "            attention_output_1 + attention_output_2\n",
    "        )\n",
    "        proj_output = self.dense_proj(attention_output_2)\n",
    "        return self.layernorm_3(attention_output_2 + proj_output)"
   ]
  },
  {
   "cell_type": "markdown",
   "id": "2ea5ca67",
   "metadata": {
    "papermill": {
     "duration": 0.020493,
     "end_time": "2022-04-19T17:02:26.417213",
     "exception": false,
     "start_time": "2022-04-19T17:02:26.396720",
     "status": "completed"
    },
    "tags": []
   },
   "source": [
    "Lets Define our model\n",
    "\n",
    "* Positional Embedding is applied to Encoder Inputs\n",
    "* Embedded Encoder Inputs are fed to the Transformer Encoder\n",
    "* Positional Embedding is applied to Decoder Inputs \n",
    "* Encoder Outputs and along with the Embedded Decoder Inputs are fed to the transformer Decoder\n",
    "* We optionally apply dropout to the outputs from the decoder block before feeding it to the output layer"
   ]
  },
  {
   "cell_type": "code",
   "execution_count": 14,
   "id": "cc029057",
   "metadata": {
    "execution": {
     "iopub.execute_input": "2022-04-19T17:02:26.466082Z",
     "iopub.status.busy": "2022-04-19T17:02:26.465529Z",
     "iopub.status.idle": "2022-04-19T17:02:30.064197Z",
     "shell.execute_reply": "2022-04-19T17:02:30.064628Z",
     "shell.execute_reply.started": "2022-04-19T16:41:42.112793Z"
    },
    "papermill": {
     "duration": 3.626609,
     "end_time": "2022-04-19T17:02:30.064793",
     "exception": false,
     "start_time": "2022-04-19T17:02:26.438184",
     "status": "completed"
    },
    "tags": []
   },
   "outputs": [
    {
     "name": "stderr",
     "output_type": "stream",
     "text": [
      "2022-04-19 17:02:26.614847: I tensorflow/stream_executor/cuda/cuda_gpu_executor.cc:937] successful NUMA node read from SysFS had negative value (-1), but there must be at least one NUMA node, so returning NUMA node zero\n",
      "2022-04-19 17:02:26.709857: I tensorflow/stream_executor/cuda/cuda_gpu_executor.cc:937] successful NUMA node read from SysFS had negative value (-1), but there must be at least one NUMA node, so returning NUMA node zero\n",
      "2022-04-19 17:02:26.710575: I tensorflow/stream_executor/cuda/cuda_gpu_executor.cc:937] successful NUMA node read from SysFS had negative value (-1), but there must be at least one NUMA node, so returning NUMA node zero\n",
      "2022-04-19 17:02:26.711692: I tensorflow/core/platform/cpu_feature_guard.cc:142] This TensorFlow binary is optimized with oneAPI Deep Neural Network Library (oneDNN) to use the following CPU instructions in performance-critical operations:  AVX2 AVX512F FMA\n",
      "To enable them in other operations, rebuild TensorFlow with the appropriate compiler flags.\n",
      "2022-04-19 17:02:26.712712: I tensorflow/stream_executor/cuda/cuda_gpu_executor.cc:937] successful NUMA node read from SysFS had negative value (-1), but there must be at least one NUMA node, so returning NUMA node zero\n",
      "2022-04-19 17:02:26.713392: I tensorflow/stream_executor/cuda/cuda_gpu_executor.cc:937] successful NUMA node read from SysFS had negative value (-1), but there must be at least one NUMA node, so returning NUMA node zero\n",
      "2022-04-19 17:02:26.714010: I tensorflow/stream_executor/cuda/cuda_gpu_executor.cc:937] successful NUMA node read from SysFS had negative value (-1), but there must be at least one NUMA node, so returning NUMA node zero\n",
      "2022-04-19 17:02:28.352755: I tensorflow/stream_executor/cuda/cuda_gpu_executor.cc:937] successful NUMA node read from SysFS had negative value (-1), but there must be at least one NUMA node, so returning NUMA node zero\n",
      "2022-04-19 17:02:28.353586: I tensorflow/stream_executor/cuda/cuda_gpu_executor.cc:937] successful NUMA node read from SysFS had negative value (-1), but there must be at least one NUMA node, so returning NUMA node zero\n",
      "2022-04-19 17:02:28.354297: I tensorflow/stream_executor/cuda/cuda_gpu_executor.cc:937] successful NUMA node read from SysFS had negative value (-1), but there must be at least one NUMA node, so returning NUMA node zero\n",
      "2022-04-19 17:02:28.354930: I tensorflow/core/common_runtime/gpu/gpu_device.cc:1510] Created device /job:localhost/replica:0/task:0/device:GPU:0 with 15403 MB memory:  -> device: 0, name: Tesla P100-PCIE-16GB, pci bus id: 0000:00:04.0, compute capability: 6.0\n"
     ]
    },
    {
     "name": "stdout",
     "output_type": "stream",
     "text": [
      "Model: \"model\"\n",
      "__________________________________________________________________________________________________\n",
      "Layer (type)                    Output Shape         Param #     Connected to                     \n",
      "==================================================================================================\n",
      "human (InputLayer)              [(None, None)]       0                                            \n",
      "__________________________________________________________________________________________________\n",
      "machine (InputLayer)            [(None, None)]       0                                            \n",
      "__________________________________________________________________________________________________\n",
      "positional_embedding (Positiona (None, None, 16)     1040        human[0][0]                      \n",
      "__________________________________________________________________________________________________\n",
      "positional_embedding_1 (Positio (None, None, 16)     448         machine[0][0]                    \n",
      "__________________________________________________________________________________________________\n",
      "transformer_encoder (Transforme (None, None, 16)     2768        positional_embedding[0][0]       \n",
      "__________________________________________________________________________________________________\n",
      "transformer_decoder (Transforme (None, None, 16)     4960        positional_embedding_1[0][0]     \n",
      "                                                                 transformer_encoder[0][0]        \n",
      "__________________________________________________________________________________________________\n",
      "dropout (Dropout)               (None, None, 16)     0           transformer_decoder[0][0]        \n",
      "__________________________________________________________________________________________________\n",
      "dense_4 (Dense)                 (None, None, 14)     238         dropout[0][0]                    \n",
      "==================================================================================================\n",
      "Total params: 9,454\n",
      "Trainable params: 9,454\n",
      "Non-trainable params: 0\n",
      "__________________________________________________________________________________________________\n"
     ]
    },
    {
     "data": {
      "image/png": "[encoded data removed]",
      "text/plain": [
       "<IPython.core.display.Image object>"
      ]
     },
     "execution_count": 14,
     "metadata": {},
     "output_type": "execute_result"
    }
   ],
   "source": [
    "encoder_inputs = keras.Input(shape=(None, ), dtype=\"int64\", name=\"human\")\n",
    "x = PositionalEmbedding(config.X_LEN, config.NUM_ENCODER_TOKENS, config.EMBED_DIM)(encoder_inputs)\n",
    "encoder_outputs = TransformerEncoder(config.EMBED_DIM, config.DENSE_DIM, config.NUM_HEADS)(x)\n",
    "\n",
    "decoder_inputs = keras.Input(shape=(None, ), dtype=\"int64\", name=\"machine\" )\n",
    "x = PositionalEmbedding(config.Y_LEN, config.NUM_DECODER_TOKENS, config.EMBED_DIM)(decoder_inputs)\n",
    "x = TransformerDecoder(config.EMBED_DIM, config.DENSE_DIM, config.NUM_HEADS)(x, encoder_outputs)\n",
    "x = L.Dropout(0.5)(x)\n",
    "decoder_outputs = L.Dense(config.NUM_DECODER_TOKENS, activation=\"softmax\")(x)\n",
    "\n",
    "transformer = keras.Model([encoder_inputs, decoder_inputs], decoder_outputs)\n",
    "transformer.compile(optimizer=\"adam\", loss=\"categorical_crossentropy\", metrics=\"accuracy\")\n",
    "\n",
    "transformer.summary()\n",
    "utils.plot_model(transformer, show_shapes=True, expand_nested=True)"
   ]
  },
  {
   "cell_type": "code",
   "execution_count": 15,
   "id": "335d64b6",
   "metadata": {
    "execution": {
     "iopub.execute_input": "2022-04-19T17:02:30.116341Z",
     "iopub.status.busy": "2022-04-19T17:02:30.115694Z",
     "iopub.status.idle": "2022-04-19T17:02:30.118951Z",
     "shell.execute_reply": "2022-04-19T17:02:30.118495Z",
     "shell.execute_reply.started": "2022-04-19T16:41:46.074568Z"
    },
    "papermill": {
     "duration": 0.031213,
     "end_time": "2022-04-19T17:02:30.119059",
     "exception": false,
     "start_time": "2022-04-19T17:02:30.087846",
     "status": "completed"
    },
    "tags": []
   },
   "outputs": [],
   "source": [
    "es = callbacks.EarlyStopping(monitor=\"val_loss\", patience=3, verbose=1, restore_best_weights=True, min_delta=1e-4)\n",
    "rlp = callbacks.ReduceLROnPlateau(monitor='val_loss', patience=2, verbose=1)"
   ]
  },
  {
   "cell_type": "code",
   "execution_count": 16,
   "id": "3ac330d7",
   "metadata": {
    "execution": {
     "iopub.execute_input": "2022-04-19T17:02:30.172603Z",
     "iopub.status.busy": "2022-04-19T17:02:30.171882Z",
     "iopub.status.idle": "2022-04-19T17:06:43.682989Z",
     "shell.execute_reply": "2022-04-19T17:06:43.680229Z",
     "shell.execute_reply.started": "2022-04-19T16:41:46.082314Z"
    },
    "papermill": {
     "duration": 253.541063,
     "end_time": "2022-04-19T17:06:43.683369",
     "exception": false,
     "start_time": "2022-04-19T17:02:30.142306",
     "status": "completed"
    },
    "tags": []
   },
   "outputs": [
    {
     "name": "stderr",
     "output_type": "stream",
     "text": [
      "2022-04-19 17:02:30.246564: I tensorflow/compiler/mlir/mlir_graph_optimization_pass.cc:185] None of the MLIR Optimization Passes are enabled (registered 2)\n",
      "2022-04-19 17:02:34.073265: I tensorflow/stream_executor/cuda/cuda_dnn.cc:369] Loaded cuDNN version 8005\n"
     ]
    }
   ],
   "source": [
    "%%capture training_log\n",
    "\n",
    "history = transformer.fit(\n",
    "    generate_batch(X_train, y_train), steps_per_epoch = np.ceil(len(X_train)/config.BATCH_SIZE),\n",
    "    validation_data=generate_batch(X_valid, y_valid), validation_steps=np.ceil(len(X_valid)/config.BATCH_SIZE),\n",
    "    epochs=config.MAX_EPOCHS, callbacks=[es, rlp], \n",
    ")"
   ]
  },
  {
   "cell_type": "code",
   "execution_count": 17,
   "id": "736d347a",
   "metadata": {
    "execution": {
     "iopub.execute_input": "2022-04-19T17:06:43.775890Z",
     "iopub.status.busy": "2022-04-19T17:06:43.775011Z",
     "iopub.status.idle": "2022-04-19T17:06:43.779936Z",
     "shell.execute_reply": "2022-04-19T17:06:43.780482Z",
     "shell.execute_reply.started": "2022-04-19T16:41:46.082314Z"
    },
    "papermill": {
     "duration": 0.052541,
     "end_time": "2022-04-19T17:06:43.780617",
     "exception": false,
     "start_time": "2022-04-19T17:06:43.728076",
     "status": "completed"
    },
    "tags": []
   },
   "outputs": [],
   "source": [
    "with open('training.log', 'w') as f: f.write(training_log.stdout)"
   ]
  },
  {
   "cell_type": "code",
   "execution_count": 18,
   "id": "4a68cdba",
   "metadata": {
    "execution": {
     "iopub.execute_input": "2022-04-19T17:06:43.861683Z",
     "iopub.status.busy": "2022-04-19T17:06:43.860931Z",
     "iopub.status.idle": "2022-04-19T17:06:54.826295Z",
     "shell.execute_reply": "2022-04-19T17:06:54.826948Z",
     "shell.execute_reply.started": "2022-04-19T16:42:22.93183Z"
    },
    "papermill": {
     "duration": 11.00909,
     "end_time": "2022-04-19T17:06:54.827151",
     "exception": false,
     "start_time": "2022-04-19T17:06:43.818061",
     "status": "completed"
    },
    "tags": []
   },
   "outputs": [
    {
     "data": {
      "image/png": "[encoded data removed]",
      "text/plain": [
       "<Figure size 1440x432 with 1 Axes>"
      ]
     },
     "metadata": {},
     "output_type": "display_data"
    }
   ],
   "source": [
    "fig, ax = plt.subplots(figsize=(20, 6))\n",
    "pd.DataFrame(history.history).plot(ax=ax)\n",
    "del history"
   ]
  },
  {
   "cell_type": "markdown",
   "id": "d3a7d8f0",
   "metadata": {
    "papermill": {
     "duration": 0.044792,
     "end_time": "2022-04-19T17:06:54.920203",
     "exception": false,
     "start_time": "2022-04-19T17:06:54.875411",
     "status": "completed"
    },
    "tags": []
   },
   "source": [
    "# Evaluation"
   ]
  },
  {
   "cell_type": "markdown",
   "id": "f7128377",
   "metadata": {
    "papermill": {
     "duration": 0.039406,
     "end_time": "2022-04-19T17:06:54.999354",
     "exception": false,
     "start_time": "2022-04-19T17:06:54.959948",
     "status": "completed"
    },
    "tags": []
   },
   "source": [
    "**Lets see our model in action**"
   ]
  },
  {
   "cell_type": "code",
   "execution_count": 19,
   "id": "438bdbe1",
   "metadata": {
    "execution": {
     "iopub.execute_input": "2022-04-19T17:06:55.088205Z",
     "iopub.status.busy": "2022-04-19T17:06:55.087423Z",
     "iopub.status.idle": "2022-04-19T17:06:55.095055Z",
     "shell.execute_reply": "2022-04-19T17:06:55.094033Z",
     "shell.execute_reply.started": "2022-04-19T16:42:23.208867Z"
    },
    "papermill": {
     "duration": 0.055368,
     "end_time": "2022-04-19T17:06:55.095219",
     "exception": false,
     "start_time": "2022-04-19T17:06:55.039851",
     "status": "completed"
    },
    "tags": []
   },
   "outputs": [],
   "source": [
    "# this function converts the token ids to token text\n",
    "def word_for_id(integer, tokenizer):\n",
    "    for word, index in tokenizer.word_index.items():\n",
    "        if index == integer:\n",
    "            return word\n",
    "    return \"\"\n",
    "\n",
    "# this function is used to generate predictions\n",
    "# target sequence is intialised as the start token\n",
    "# then predictions are taken from the model iteratively \n",
    "def predict_sequence(source):\n",
    "    target_seq = \"@\"\n",
    "    for i in range(14):\n",
    "        tok_target_seq = preprocess_input(target_seq, machine_tokenizer, config.Y_LEN).reshape(1, -1)\n",
    "        output_tokens = transformer.predict([source, tok_target_seq])\n",
    "        token_index = np.argmax(output_tokens[0, i, :])\n",
    "        token = word_for_id(token_index, machine_tokenizer)\n",
    "        target_seq += token\n",
    "        \n",
    "    return target_seq\n",
    "\n",
    "# this function decodes the complete sequence of token ids into text\n",
    "def decode_sequence(tokenizer, source):\n",
    "    target = list()\n",
    "    for i in source:\n",
    "        word = word_for_id(i, tokenizer)\n",
    "        if word is None:\n",
    "            break\n",
    "        target.append(word)\n",
    "    return ''.join(target)"
   ]
  },
  {
   "cell_type": "code",
   "execution_count": 20,
   "id": "10802665",
   "metadata": {
    "execution": {
     "iopub.execute_input": "2022-04-19T17:06:55.184317Z",
     "iopub.status.busy": "2022-04-19T17:06:55.183575Z",
     "iopub.status.idle": "2022-04-19T17:06:56.091158Z",
     "shell.execute_reply": "2022-04-19T17:06:56.090694Z",
     "shell.execute_reply.started": "2022-04-19T16:42:23.210716Z"
    },
    "papermill": {
     "duration": 0.95633,
     "end_time": "2022-04-19T17:06:56.091288",
     "exception": false,
     "start_time": "2022-04-19T17:06:55.134958",
     "status": "completed"
    },
    "tags": []
   },
   "outputs": [
    {
     "name": "stdout",
     "output_type": "stream",
     "text": [
      "SOURCE     : saturday 19 september 1998\n",
      "PREDICTION : @6099-09-09#\n"
     ]
    }
   ],
   "source": [
    "query_text = 'saturday 19 september 1998'\n",
    "query = np.array(list(map(lambda x: preprocess_input(x, human_tokenizer, config.X_LEN), [query_text])))\n",
    "print('SOURCE     :', query_text)\n",
    "print('PREDICTION :', predict_sequence(query))"
   ]
  },
  {
   "cell_type": "code",
   "execution_count": null,
   "id": "3d82f94e",
   "metadata": {
    "papermill": {
     "duration": 0.0246,
     "end_time": "2022-04-19T17:06:56.141281",
     "exception": false,
     "start_time": "2022-04-19T17:06:56.116681",
     "status": "completed"
    },
    "tags": []
   },
   "outputs": [],
   "source": []
  }
 ],
 "metadata": {
  "kernelspec": {
   "display_name": "Python 3",
   "language": "python",
   "name": "python3"
  },
  "language_info": {
   "codemirror_mode": {
    "name": "ipython",
    "version": 3
   },
   "file_extension": ".py",
   "mimetype": "text/x-python",
   "name": "python",
   "nbconvert_exporter": "python",
   "pygments_lexer": "ipython3",
   "version": "3.7.12"
  },
  "papermill": {
   "default_parameters": {},
   "duration": 612.468677,
   "end_time": "2022-04-19T17:06:59.249795",
   "environment_variables": {},
   "exception": null,
   "input_path": "__notebook__.ipynb",
   "output_path": "__notebook__.ipynb",
   "parameters": {},
   "start_time": "2022-04-19T16:56:46.781118",
   "version": "2.3.3"
  },
  "widgets": {
   "application/vnd.jupyter.widget-state+json": {
    "state": {
     "153598a0731e4cea98f81ebdbc84e360": {
      "model_module": "@jupyter-widgets/controls",
      "model_module_version": "1.5.0",
      "model_name": "HTMLModel",
      "state": {
       "_dom_classes": [],
       "_model_module": "@jupyter-widgets/controls",
       "_model_module_version": "1.5.0",
       "_model_name": "HTMLModel",
       "_view_count": null,
       "_view_module": "@jupyter-widgets/controls",
       "_view_module_version": "1.5.0",
       "_view_name": "HTMLView",
       "description": "",
       "description_tooltip": null,
       "layout": "IPY_MODEL_32d3ca38a81e4e19ae0fb046f9727c39",
       "placeholder": "​",
       "style": "IPY_MODEL_482132e59be74915b4da870f95344f47",
       "value": " 1000000/1000000 [04:50&lt;00:00, 3660.82it/s]"
      }
     },
     "223b15ec19264f41beb4019b9fdcd810": {
      "model_module": "@jupyter-widgets/base",
      "model_module_version": "1.2.0",
      "model_name": "LayoutModel",
      "state": {
       "_model_module": "@jupyter-widgets/base",
       "_model_module_version": "1.2.0",
       "_model_name": "LayoutModel",
       "_view_count": null,
       "_view_module": "@jupyter-widgets/base",
       "_view_module_version": "1.2.0",
       "_view_name": "LayoutView",
       "align_content": null,
       "align_items": null,
       "align_self": null,
       "border": null,
       "bottom": null,
       "display": null,
       "flex": null,
       "flex_flow": null,
       "grid_area": null,
       "grid_auto_columns": null,
       "grid_auto_flow": null,
       "grid_auto_rows": null,
       "grid_column": null,
       "grid_gap": null,
       "grid_row": null,
       "grid_template_areas": null,
       "grid_template_columns": null,
       "grid_template_rows": null,
       "height": null,
       "justify_content": null,
       "justify_items": null,
       "left": null,
       "margin": null,
       "max_height": null,
       "max_width": null,
       "min_height": null,
       "min_width": null,
       "object_fit": null,
       "object_position": null,
       "order": null,
       "overflow": null,
       "overflow_x": null,
       "overflow_y": null,
       "padding": null,
       "right": null,
       "top": null,
       "visibility": null,
       "width": null
      }
     },
     "32d3ca38a81e4e19ae0fb046f9727c39": {
      "model_module": "@jupyter-widgets/base",
      "model_module_version": "1.2.0",
      "model_name": "LayoutModel",
      "state": {
       "_model_module": "@jupyter-widgets/base",
       "_model_module_version": "1.2.0",
       "_model_name": "LayoutModel",
       "_view_count": null,
       "_view_module": "@jupyter-widgets/base",
       "_view_module_version": "1.2.0",
       "_view_name": "LayoutView",
       "align_content": null,
       "align_items": null,
       "align_self": null,
       "border": null,
       "bottom": null,
       "display": null,
       "flex": null,
       "flex_flow": null,
       "grid_area": null,
       "grid_auto_columns": null,
       "grid_auto_flow": null,
       "grid_auto_rows": null,
       "grid_column": null,
       "grid_gap": null,
       "grid_row": null,
       "grid_template_areas": null,
       "grid_template_columns": null,
       "grid_template_rows": null,
       "height": null,
       "justify_content": null,
       "justify_items": null,
       "left": null,
       "margin": null,
       "max_height": null,
       "max_width": null,
       "min_height": null,
       "min_width": null,
       "object_fit": null,
       "object_position": null,
       "order": null,
       "overflow": null,
       "overflow_x": null,
       "overflow_y": null,
       "padding": null,
       "right": null,
       "top": null,
       "visibility": null,
       "width": null
      }
     },
     "482132e59be74915b4da870f95344f47": {
      "model_module": "@jupyter-widgets/controls",
      "model_module_version": "1.5.0",
      "model_name": "DescriptionStyleModel",
      "state": {
       "_model_module": "@jupyter-widgets/controls",
       "_model_module_version": "1.5.0",
       "_model_name": "DescriptionStyleModel",
       "_view_count": null,
       "_view_module": "@jupyter-widgets/base",
       "_view_module_version": "1.2.0",
       "_view_name": "StyleView",
       "description_width": ""
      }
     },
     "4f194902dc27448e8f8519b231d1fc9d": {
      "model_module": "@jupyter-widgets/controls",
      "model_module_version": "1.5.0",
      "model_name": "HBoxModel",
      "state": {
       "_dom_classes": [],
       "_model_module": "@jupyter-widgets/controls",
       "_model_module_version": "1.5.0",
       "_model_name": "HBoxModel",
       "_view_count": null,
       "_view_module": "@jupyter-widgets/controls",
       "_view_module_version": "1.5.0",
       "_view_name": "HBoxView",
       "box_style": "",
       "children": [
        "IPY_MODEL_7afd2d1478f54acf9ec51a8df305e96a",
        "IPY_MODEL_93ddf2548b2242c381325668fdec30ba",
        "IPY_MODEL_153598a0731e4cea98f81ebdbc84e360"
       ],
       "layout": "IPY_MODEL_a77823d6e4d840b59975536d498845aa"
      }
     },
     "7afd2d1478f54acf9ec51a8df305e96a": {
      "model_module": "@jupyter-widgets/controls",
      "model_module_version": "1.5.0",
      "model_name": "HTMLModel",
      "state": {
       "_dom_classes": [],
       "_model_module": "@jupyter-widgets/controls",
       "_model_module_version": "1.5.0",
       "_model_name": "HTMLModel",
       "_view_count": null,
       "_view_module": "@jupyter-widgets/controls",
       "_view_module_version": "1.5.0",
       "_view_name": "HTMLView",
       "description": "",
       "description_tooltip": null,
       "layout": "IPY_MODEL_223b15ec19264f41beb4019b9fdcd810",
       "placeholder": "​",
       "style": "IPY_MODEL_f5d5f47d37dd415a8c0e285bd68a4bc6",
       "value": "100%"
      }
     },
     "8731ea15b9874a6485c76b11f2cbce6f": {
      "model_module": "@jupyter-widgets/base",
      "model_module_version": "1.2.0",
      "model_name": "LayoutModel",
      "state": {
       "_model_module": "@jupyter-widgets/base",
       "_model_module_version": "1.2.0",
       "_model_name": "LayoutModel",
       "_view_count": null,
       "_view_module": "@jupyter-widgets/base",
       "_view_module_version": "1.2.0",
       "_view_name": "LayoutView",
       "align_content": null,
       "align_items": null,
       "align_self": null,
       "border": null,
       "bottom": null,
       "display": null,
       "flex": null,
       "flex_flow": null,
       "grid_area": null,
       "grid_auto_columns": null,
       "grid_auto_flow": null,
       "grid_auto_rows": null,
       "grid_column": null,
       "grid_gap": null,
       "grid_row": null,
       "grid_template_areas": null,
       "grid_template_columns": null,
       "grid_template_rows": null,
       "height": null,
       "justify_content": null,
       "justify_items": null,
       "left": null,
       "margin": null,
       "max_height": null,
       "max_width": null,
       "min_height": null,
       "min_width": null,
       "object_fit": null,
       "object_position": null,
       "order": null,
       "overflow": null,
       "overflow_x": null,
       "overflow_y": null,
       "padding": null,
       "right": null,
       "top": null,
       "visibility": null,
       "width": null
      }
     },
     "93ddf2548b2242c381325668fdec30ba": {
      "model_module": "@jupyter-widgets/controls",
      "model_module_version": "1.5.0",
      "model_name": "FloatProgressModel",
      "state": {
       "_dom_classes": [],
       "_model_module": "@jupyter-widgets/controls",
       "_model_module_version": "1.5.0",
       "_model_name": "FloatProgressModel",
       "_view_count": null,
       "_view_module": "@jupyter-widgets/controls",
       "_view_module_version": "1.5.0",
       "_view_name": "ProgressView",
       "bar_style": "success",
       "description": "",
       "description_tooltip": null,
       "layout": "IPY_MODEL_8731ea15b9874a6485c76b11f2cbce6f",
       "max": 1000000.0,
       "min": 0.0,
       "orientation": "horizontal",
       "style": "IPY_MODEL_9e0075a42a9245fa80e636cc70db0aed",
       "value": 1000000.0
      }
     },
     "9e0075a42a9245fa80e636cc70db0aed": {
      "model_module": "@jupyter-widgets/controls",
      "model_module_version": "1.5.0",
      "model_name": "ProgressStyleModel",
      "state": {
       "_model_module": "@jupyter-widgets/controls",
       "_model_module_version": "1.5.0",
       "_model_name": "ProgressStyleModel",
       "_view_count": null,
       "_view_module": "@jupyter-widgets/base",
       "_view_module_version": "1.2.0",
       "_view_name": "StyleView",
       "bar_color": null,
       "description_width": ""
      }
     },
     "a77823d6e4d840b59975536d498845aa": {
      "model_module": "@jupyter-widgets/base",
      "model_module_version": "1.2.0",
      "model_name": "LayoutModel",
      "state": {
       "_model_module": "@jupyter-widgets/base",
       "_model_module_version": "1.2.0",
       "_model_name": "LayoutModel",
       "_view_count": null,
       "_view_module": "@jupyter-widgets/base",
       "_view_module_version": "1.2.0",
       "_view_name": "LayoutView",
       "align_content": null,
       "align_items": null,
       "align_self": null,
       "border": null,
       "bottom": null,
       "display": null,
       "flex": null,
       "flex_flow": null,
       "grid_area": null,
       "grid_auto_columns": null,
       "grid_auto_flow": null,
       "grid_auto_rows": null,
       "grid_column": null,
       "grid_gap": null,
       "grid_row": null,
       "grid_template_areas": null,
       "grid_template_columns": null,
       "grid_template_rows": null,
       "height": null,
       "justify_content": null,
       "justify_items": null,
       "left": null,
       "margin": null,
       "max_height": null,
       "max_width": null,
       "min_height": null,
       "min_width": null,
       "object_fit": null,
       "object_position": null,
       "order": null,
       "overflow": null,
       "overflow_x": null,
       "overflow_y": null,
       "padding": null,
       "right": null,
       "top": null,
       "visibility": null,
       "width": null
      }
     },
     "f5d5f47d37dd415a8c0e285bd68a4bc6": {
      "model_module": "@jupyter-widgets/controls",
      "model_module_version": "1.5.0",
      "model_name": "DescriptionStyleModel",
      "state": {
       "_model_module": "@jupyter-widgets/controls",
       "_model_module_version": "1.5.0",
       "_model_name": "DescriptionStyleModel",
       "_view_count": null,
       "_view_module": "@jupyter-widgets/base",
       "_view_module_version": "1.2.0",
       "_view_name": "StyleView",
       "description_width": ""
      }
     }
    },
    "version_major": 2,
    "version_minor": 0
   }
  }
 },
 "nbformat": 4,
 "nbformat_minor": 5
}
