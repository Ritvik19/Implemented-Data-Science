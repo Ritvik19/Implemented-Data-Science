{
 "cells": [
  {
   "cell_type": "markdown",
   "id": "ab1eaba8",
   "metadata": {
    "id": "840a5334",
    "papermill": {
     "duration": 0.022331,
     "end_time": "2024-04-12T11:54:55.009083",
     "exception": false,
     "start_time": "2024-04-12T11:54:54.986752",
     "status": "completed"
    },
    "tags": []
   },
   "source": [
    "# DSPy 🤝 LangChain\n",
    "\n",
    "This Jupyter notebook demonstrates the integration of DSPy AI with LangChain to leverage DSPy to self-improve the prompts instead of hand crafting\n",
    "\n",
    "Ensure the following imports are set up correctly:"
   ]
  },
  {
   "cell_type": "code",
   "execution_count": 1,
   "id": "51cd3386",
   "metadata": {
    "execution": {
     "iopub.execute_input": "2024-04-12T11:54:55.056056Z",
     "iopub.status.busy": "2024-04-12T11:54:55.055393Z",
     "iopub.status.idle": "2024-04-12T11:55:57.956275Z",
     "shell.execute_reply": "2024-04-12T11:55:57.954563Z"
    },
    "id": "hRx8GCEpREEA",
    "outputId": "34171868-1e13-4236-9018-75d76ae86a63",
    "papermill": {
     "duration": 62.927738,
     "end_time": "2024-04-12T11:55:57.959429",
     "exception": false,
     "start_time": "2024-04-12T11:54:55.031691",
     "status": "completed"
    },
    "tags": []
   },
   "outputs": [],
   "source": [
    "%%capture\n",
    "\n",
    "!pip install dspy-ai==2.2.0 -q\n",
    "!pip install langchain==0.1.16  -q\n",
    "!pip install langchain-openai==0.1.3 -q\n",
    "!pip install wikipedia -q"
   ]
  },
  {
   "cell_type": "code",
   "execution_count": 2,
   "id": "bf6ee543",
   "metadata": {
    "execution": {
     "iopub.execute_input": "2024-04-12T11:55:58.008986Z",
     "iopub.status.busy": "2024-04-12T11:55:58.007752Z",
     "iopub.status.idle": "2024-04-12T11:56:05.816608Z",
     "shell.execute_reply": "2024-04-12T11:56:05.815522Z"
    },
    "id": "Ypm4Ces_WDcW",
    "outputId": "74f032b2-8d92-4e93-f9d3-5735131e1221",
    "papermill": {
     "duration": 7.836377,
     "end_time": "2024-04-12T11:56:05.819233",
     "exception": false,
     "start_time": "2024-04-12T11:55:57.982856",
     "status": "completed"
    },
    "tags": []
   },
   "outputs": [
    {
     "name": "stdout",
     "output_type": "stream",
     "text": [
      "langchain==0.1.16\r\n",
      "langchain-community==0.0.32\r\n",
      "langchain-core==0.1.42\r\n",
      "langchain-openai==0.1.3\r\n",
      "langchain-text-splitters==0.0.1\r\n",
      "dspy-ai==2.2.0\r\n",
      "langchain-openai==0.1.3\r\n",
      "openai==1.17.0\r\n"
     ]
    }
   ],
   "source": [
    "!pip freeze | grep langchain\n",
    "!pip freeze | grep dspy\n",
    "!pip freeze | grep openai"
   ]
  },
  {
   "cell_type": "code",
   "execution_count": 3,
   "id": "ba635230",
   "metadata": {
    "execution": {
     "iopub.execute_input": "2024-04-12T11:56:05.870448Z",
     "iopub.status.busy": "2024-04-12T11:56:05.869980Z",
     "iopub.status.idle": "2024-04-12T11:56:06.082252Z",
     "shell.execute_reply": "2024-04-12T11:56:06.080996Z"
    },
    "papermill": {
     "duration": 0.241619,
     "end_time": "2024-04-12T11:56:06.085230",
     "exception": false,
     "start_time": "2024-04-12T11:56:05.843611",
     "status": "completed"
    },
    "tags": []
   },
   "outputs": [],
   "source": [
    "import os \n",
    "from kaggle_secrets import UserSecretsClient\n",
    "os.environ[\"OPENAI_API_KEY\"] = UserSecretsClient().get_secret(\"OPENAI_API_KEY\")"
   ]
  },
  {
   "cell_type": "code",
   "execution_count": 4,
   "id": "3e04373b",
   "metadata": {
    "execution": {
     "iopub.execute_input": "2024-04-12T11:56:06.133712Z",
     "iopub.status.busy": "2024-04-12T11:56:06.133311Z",
     "iopub.status.idle": "2024-04-12T11:56:11.606187Z",
     "shell.execute_reply": "2024-04-12T11:56:11.604489Z"
    },
    "id": "ii7xn0flQ3vx",
    "papermill": {
     "duration": 5.499837,
     "end_time": "2024-04-12T11:56:11.609239",
     "exception": false,
     "start_time": "2024-04-12T11:56:06.109402",
     "status": "completed"
    },
    "tags": []
   },
   "outputs": [],
   "source": [
    "import dspy\n",
    "\n",
    "from langchain.cache import SQLiteCache\n",
    "from langchain.globals import set_llm_cache\n",
    "from langchain_openai import ChatOpenAI\n",
    "from langchain_community.retrievers import WikipediaRetriever\n",
    "\n",
    "set_llm_cache(SQLiteCache(database_path=\"cache.db\"))\n",
    "llm = ChatOpenAI(model_name=\"gpt-3.5-turbo\", temperature=0)\n",
    "retriever = WikipediaRetriever(load_max_docs=1)\n",
    "\n",
    "def retrieve(inputs):\n",
    "    return [doc.page_content[:1024] for doc in retriever.get_relevant_documents(query=inputs[\"question\"])]\n",
    "\n",
    "def retrieve_eval(inputs):\n",
    "    return [{\"text\": doc.page_content[:1024]} for doc in retriever.get_relevant_documents(query=inputs[\"question\"])]\n",
    "\n",
    "question = \"where was MS Dhoni born?\""
   ]
  },
  {
   "cell_type": "code",
   "execution_count": 5,
   "id": "05db33db",
   "metadata": {
    "execution": {
     "iopub.execute_input": "2024-04-12T11:56:11.658335Z",
     "iopub.status.busy": "2024-04-12T11:56:11.657587Z",
     "iopub.status.idle": "2024-04-12T11:56:13.997067Z",
     "shell.execute_reply": "2024-04-12T11:56:13.994849Z"
    },
    "id": "Ljw7SzyQ1APe",
    "outputId": "42593dde-cc7a-41da-b21a-167690c55996",
    "papermill": {
     "duration": 2.368999,
     "end_time": "2024-04-12T11:56:14.001109",
     "exception": false,
     "start_time": "2024-04-12T11:56:11.632110",
     "status": "completed"
    },
    "tags": []
   },
   "outputs": [
    {
     "data": {
      "text/plain": [
       "['Mahendra Singh Dhoni ( ; born 7 July 1981) is an Indian professional cricketer. He is a right handed batter and a wicket-keeper. Widely regarded as one of the most prolific wicket-keeper-batsmen and captains, he represented the Indian cricket team and was the captain of the side in limited-overs formats from 2007 to 2017 and in test cricket from 2008 to 2014. Dhoni has captained the most international matches and is the most successful Indian captain. He has led India to victory in the 2011 Cricket World Cup, the 2007 ICC World Twenty20 and the 2013 ICC Champions Trophy, the only captain to win three different limited overs tournaments. He also led the teams that won the Asia Cup in 2010, 2016 and was a member of the title winning squad in 2018.\\nBorn in Ranchi, Dhoni made his first class debut for Bihar in 1999. He made his debut for the Indian cricket team on 23 December 2004 in an ODI against Bangladesh and played his first test a year later against Sri Lanka. In 2007, he became the captain of the ODI side ',\n",
       " \"Rishabh Rajendra Pant (born 4 October 1997) is an Indian international cricketer who plays for the Indian cricket team as a wicket-keeper batter. Having played all formats for India, he is best known for his consistency to score runs in Test cricket. Pant plays for Delhi in domestic cricket and captains Delhi Capitals in the Indian Premier League. He was the vice-captain of the India U-19 team that was runner up at the 2016 Under-19 Cricket World Cup.He made his Twenty20 International (T20I) debut for India in January 2017, his Test debut in August 2018, and his One Day International (ODI) debut in October 2018. In January 2019, Pant was named the ICC Men's Emerging Cricketer of the Year at the 2018 ICC Awards. In February 2021, Pant was named the Men's Player of the Month in the first edition of the ICC Player of the Month Awards.In June 2022, Pant was named as the Indian captain for the T20I series against South Africa, after the designated captain KL Rahul was ruled of the series due to an injury.\\n\\n\\n== Ear\",\n",
       " \"Let's Get Married is a 2023 Indian Tamil-language romantic comedy film directed by Ramesh Thamilmani in his directorial debut. It stars Harish Kalyan, Nadhiya and Ivana with Yogi Babu and RJ Vijay in supporting roles. It was produced by Dhoni Entertainment.The film was announced in October 2022, without a title, which was announced in January 2023. Principal photography commenced in January 2023 and wrapped in May 2023. The film has music composed by Ramesh Thamilmani, cinematography handled by Vishwajith Odukkathil and editing by Pradeep E. Ragav.\\n\\n\\n== Plot ==\\nThe movie begins with Gautham, a software engineer, proposing marriage to his colleague and girlfriend Meera during their second love anniversary, with Meera agreeing to the proposal. Both sets of parents, including Gautham's widowed mother Leela, meet to finalise the alliance, but when Meera realises that Gautham expects her to live in his home along with Leela post marriage, she calls off the wedding, leaving Gautham and Leela angry and frustrated. M\"]"
      ]
     },
     "execution_count": 5,
     "metadata": {},
     "output_type": "execute_result"
    }
   ],
   "source": [
    "retrieve({'question': question})"
   ]
  },
  {
   "cell_type": "markdown",
   "id": "4b28e878",
   "metadata": {
    "id": "WFrBWPCsRfgC",
    "papermill": {
     "duration": 0.02539,
     "end_time": "2024-04-12T11:56:14.050097",
     "exception": false,
     "start_time": "2024-04-12T11:56:14.024707",
     "status": "completed"
    },
    "tags": []
   },
   "source": [
    "# Regular LCEL\n",
    "This section illustrates the use of standard LCEL operations to process and analyze language data."
   ]
  },
  {
   "cell_type": "code",
   "execution_count": 6,
   "id": "18c4141d",
   "metadata": {
    "execution": {
     "iopub.execute_input": "2024-04-12T11:56:14.097962Z",
     "iopub.status.busy": "2024-04-12T11:56:14.097267Z",
     "iopub.status.idle": "2024-04-12T11:56:14.162068Z",
     "shell.execute_reply": "2024-04-12T11:56:14.160431Z"
    },
    "id": "lckfeW1WRcq-",
    "papermill": {
     "duration": 0.092178,
     "end_time": "2024-04-12T11:56:14.164766",
     "exception": false,
     "start_time": "2024-04-12T11:56:14.072588",
     "status": "completed"
    },
    "tags": []
   },
   "outputs": [],
   "source": [
    "from langchain_core.output_parsers import StrOutputParser\n",
    "from langchain_core.prompts import PromptTemplate\n",
    "from langchain_core.runnables import RunnablePassthrough\n",
    "\n",
    "prompt = PromptTemplate.from_template(\n",
    "    \"Given {context}, answer the question `{question}` as a tweet.\"\n",
    ")\n",
    "\n",
    "vanilla_chain = (\n",
    "    RunnablePassthrough.assign(context=retrieve) | prompt | llm | StrOutputParser()\n",
    ")"
   ]
  },
  {
   "cell_type": "code",
   "execution_count": 7,
   "id": "42d1de90",
   "metadata": {
    "execution": {
     "iopub.execute_input": "2024-04-12T11:56:14.212753Z",
     "iopub.status.busy": "2024-04-12T11:56:14.212345Z",
     "iopub.status.idle": "2024-04-12T11:56:17.178097Z",
     "shell.execute_reply": "2024-04-12T11:56:17.176900Z"
    },
    "id": "VjUpeKNqzg51",
    "outputId": "e473a077-2807-43e5-9636-310becc376a3",
    "papermill": {
     "duration": 2.992679,
     "end_time": "2024-04-12T11:56:17.180913",
     "exception": false,
     "start_time": "2024-04-12T11:56:14.188234",
     "status": "completed"
    },
    "tags": []
   },
   "outputs": [
    {
     "data": {
      "text/plain": [
       "'MS Dhoni, widely regarded as one of the most successful Indian cricket captains, was born in Ranchi, India on July 7, 1981. #MSDhoni #Ranchi #IndianCricket 🏏🇮🇳'"
      ]
     },
     "execution_count": 7,
     "metadata": {},
     "output_type": "execute_result"
    }
   ],
   "source": [
    "vanilla_chain.invoke({\"question\": question})"
   ]
  },
  {
   "cell_type": "markdown",
   "id": "4c81acdb",
   "metadata": {
    "id": "1c1xrQrDSGH_",
    "papermill": {
     "duration": 0.021893,
     "end_time": "2024-04-12T11:56:17.226394",
     "exception": false,
     "start_time": "2024-04-12T11:56:17.204501",
     "status": "completed"
    },
    "tags": []
   },
   "source": [
    "# DSPy <> LCEL\n",
    "This section illustrates how with some minimal modifications,we can convert a LCEL chain to a DSPy compatible chain"
   ]
  },
  {
   "cell_type": "code",
   "execution_count": 8,
   "id": "656da87d",
   "metadata": {
    "execution": {
     "iopub.execute_input": "2024-04-12T11:56:17.273458Z",
     "iopub.status.busy": "2024-04-12T11:56:17.272724Z",
     "iopub.status.idle": "2024-04-12T11:56:21.694164Z",
     "shell.execute_reply": "2024-04-12T11:56:21.693126Z"
    },
    "id": "Jl53yddGRxFG",
    "papermill": {
     "duration": 4.448063,
     "end_time": "2024-04-12T11:56:21.696657",
     "exception": false,
     "start_time": "2024-04-12T11:56:17.248594",
     "status": "completed"
    },
    "tags": []
   },
   "outputs": [],
   "source": [
    "from dspy.predict.langchain import LangChainModule, LangChainPredict\n",
    "\n",
    "zeroshot_chain = LangChainModule(\n",
    "    RunnablePassthrough.assign(context=retrieve)\n",
    "    | LangChainPredict(prompt, llm)\n",
    "    | StrOutputParser()\n",
    ")"
   ]
  },
  {
   "cell_type": "code",
   "execution_count": 9,
   "id": "881ae238",
   "metadata": {
    "execution": {
     "iopub.execute_input": "2024-04-12T11:56:21.751587Z",
     "iopub.status.busy": "2024-04-12T11:56:21.751066Z",
     "iopub.status.idle": "2024-04-12T11:56:24.995085Z",
     "shell.execute_reply": "2024-04-12T11:56:24.994198Z"
    },
    "id": "dUfdO6N8UlEv",
    "outputId": "1689dfdd-cbb5-4dcc-8f92-8c1664dd05e0",
    "papermill": {
     "duration": 3.278449,
     "end_time": "2024-04-12T11:56:24.997915",
     "exception": false,
     "start_time": "2024-04-12T11:56:21.719466",
     "status": "completed"
    },
    "tags": []
   },
   "outputs": [
    {
     "data": {
      "text/plain": [
       "'Context: Mahendra Singh Dhoni is a renowned Indian cricketer with an impressive career.\\nQuestion: Where was MS Dhoni born?\\nTweet Response: MS Dhoni was born in Ranchi, India. 🏏 #MSDhoni #Cricket #Ranchi'"
      ]
     },
     "execution_count": 9,
     "metadata": {},
     "output_type": "execute_result"
    }
   ],
   "source": [
    "zeroshot_chain.invoke({\"question\": question})"
   ]
  },
  {
   "cell_type": "markdown",
   "id": "b36535b9",
   "metadata": {
    "id": "cUy3A7swdBCL",
    "papermill": {
     "duration": 0.02558,
     "end_time": "2024-04-12T11:56:25.048235",
     "exception": false,
     "start_time": "2024-04-12T11:56:25.022655",
     "status": "completed"
    },
    "tags": []
   },
   "source": [
    "# Data\n",
    "\n",
    "Loading any dataset into DSPy compatible format\n"
   ]
  },
  {
   "cell_type": "code",
   "execution_count": 10,
   "id": "09a14df0",
   "metadata": {
    "execution": {
     "iopub.execute_input": "2024-04-12T11:56:25.097721Z",
     "iopub.status.busy": "2024-04-12T11:56:25.096935Z",
     "iopub.status.idle": "2024-04-12T11:57:43.623094Z",
     "shell.execute_reply": "2024-04-12T11:57:43.621841Z"
    },
    "id": "Mv4mDxIFmxJt",
    "outputId": "57ca2d83-059f-4390-b18d-05e0e6961247",
    "papermill": {
     "duration": 78.554622,
     "end_time": "2024-04-12T11:57:43.625607",
     "exception": false,
     "start_time": "2024-04-12T11:56:25.070985",
     "status": "completed"
    },
    "tags": []
   },
   "outputs": [
    {
     "data": {
      "application/vnd.jupyter.widget-view+json": {
       "model_id": "592c0a780fb94768bded9c60772b54a2",
       "version_major": 2,
       "version_minor": 0
      },
      "text/plain": [
       "Downloading builder script:   0%|          | 0.00/6.42k [00:00<?, ?B/s]"
      ]
     },
     "metadata": {},
     "output_type": "display_data"
    },
    {
     "data": {
      "application/vnd.jupyter.widget-view+json": {
       "model_id": "2b5fe89387474ed89f1179c470cc7221",
       "version_major": 2,
       "version_minor": 0
      },
      "text/plain": [
       "Downloading readme:   0%|          | 0.00/9.19k [00:00<?, ?B/s]"
      ]
     },
     "metadata": {},
     "output_type": "display_data"
    },
    {
     "data": {
      "application/vnd.jupyter.widget-view+json": {
       "model_id": "48d1cd8f9a1048559eb2b6b5a6f31182",
       "version_major": 2,
       "version_minor": 0
      },
      "text/plain": [
       "Downloading data files:   0%|          | 0/3 [00:00<?, ?it/s]"
      ]
     },
     "metadata": {},
     "output_type": "display_data"
    },
    {
     "data": {
      "application/vnd.jupyter.widget-view+json": {
       "model_id": "8347320f52a544dcbad750043b609a96",
       "version_major": 2,
       "version_minor": 0
      },
      "text/plain": [
       "Downloading data:   0%|          | 0.00/566M [00:00<?, ?B/s]"
      ]
     },
     "metadata": {},
     "output_type": "display_data"
    },
    {
     "data": {
      "application/vnd.jupyter.widget-view+json": {
       "model_id": "f98934a02589461b80df16a4751b3d4e",
       "version_major": 2,
       "version_minor": 0
      },
      "text/plain": [
       "Downloading data:   0%|          | 0.00/47.5M [00:00<?, ?B/s]"
      ]
     },
     "metadata": {},
     "output_type": "display_data"
    },
    {
     "data": {
      "application/vnd.jupyter.widget-view+json": {
       "model_id": "a116acc7d82d41b7ad2585b26766a4e2",
       "version_major": 2,
       "version_minor": 0
      },
      "text/plain": [
       "Downloading data:   0%|          | 0.00/46.2M [00:00<?, ?B/s]"
      ]
     },
     "metadata": {},
     "output_type": "display_data"
    },
    {
     "data": {
      "application/vnd.jupyter.widget-view+json": {
       "model_id": "4997c36bab964c408c7b33b082e93035",
       "version_major": 2,
       "version_minor": 0
      },
      "text/plain": [
       "Generating train split:   0%|          | 0/90447 [00:00<?, ? examples/s]"
      ]
     },
     "metadata": {},
     "output_type": "display_data"
    },
    {
     "data": {
      "application/vnd.jupyter.widget-view+json": {
       "model_id": "b9c3dc02e8ea40d1a293a340aaf20ecd",
       "version_major": 2,
       "version_minor": 0
      },
      "text/plain": [
       "Generating validation split:   0%|          | 0/7405 [00:00<?, ? examples/s]"
      ]
     },
     "metadata": {},
     "output_type": "display_data"
    },
    {
     "data": {
      "application/vnd.jupyter.widget-view+json": {
       "model_id": "0efbf4fd9a214930b6cc2d50dc1e8d38",
       "version_major": 2,
       "version_minor": 0
      },
      "text/plain": [
       "Generating test split:   0%|          | 0/7405 [00:00<?, ? examples/s]"
      ]
     },
     "metadata": {},
     "output_type": "display_data"
    },
    {
     "name": "stderr",
     "output_type": "stream",
     "text": [
      "/opt/conda/lib/python3.10/site-packages/datasets/table.py:1421: FutureWarning: promote has been superseded by promote_options='default'.\n",
      "  table = cls._concat_blocks(blocks, axis=0)\n"
     ]
    }
   ],
   "source": [
    "from dspy.primitives.example import Example\n",
    "from datasets import load_dataset\n",
    "\n",
    "dataset = load_dataset('hotpot_qa', 'fullwiki')\n",
    "\n",
    "trainset = [\n",
    "    Example(dataset['train'][i]).without(\"id\", \"type\", \"level\", \"supporting_facts\", \"context\").with_inputs(\"question\")\n",
    "    for i in range(0, 50)\n",
    "]\n",
    "valset = [\n",
    "    Example(dataset['validation'][i]).without(\"id\", \"type\", \"level\", \"supporting_facts\", \"context\").with_inputs(\"question\")\n",
    "    for i in range(0, 10)\n",
    "]\n",
    "testset = [\n",
    "    Example(dataset['validation'][i]).without(\"id\", \"type\", \"level\", \"supporting_facts\", \"context\").with_inputs(\"question\")\n",
    "    for i in range(10, 20)\n",
    "]"
   ]
  },
  {
   "cell_type": "code",
   "execution_count": 11,
   "id": "e692218a",
   "metadata": {
    "execution": {
     "iopub.execute_input": "2024-04-12T11:57:43.675820Z",
     "iopub.status.busy": "2024-04-12T11:57:43.675217Z",
     "iopub.status.idle": "2024-04-12T11:57:43.680499Z",
     "shell.execute_reply": "2024-04-12T11:57:43.679727Z"
    },
    "id": "_hMNkIpqm0Y5",
    "outputId": "928873cd-5539-4fa7-f4bc-74c8c0d04b8b",
    "papermill": {
     "duration": 0.03267,
     "end_time": "2024-04-12T11:57:43.682425",
     "exception": false,
     "start_time": "2024-04-12T11:57:43.649755",
     "status": "completed"
    },
    "tags": []
   },
   "outputs": [
    {
     "data": {
      "text/plain": [
       "Example({'question': \"Which magazine was started first Arthur's Magazine or First for Women?\", 'answer': \"Arthur's Magazine\"}) (input_keys={'question'})"
      ]
     },
     "execution_count": 11,
     "metadata": {},
     "output_type": "execute_result"
    }
   ],
   "source": [
    "trainset[0]"
   ]
  },
  {
   "cell_type": "markdown",
   "id": "af48d8b4",
   "metadata": {
    "id": "ZOWlfNXIeWG1",
    "papermill": {
     "duration": 0.023902,
     "end_time": "2024-04-12T11:57:43.730904",
     "exception": false,
     "start_time": "2024-04-12T11:57:43.707002",
     "status": "completed"
    },
    "tags": []
   },
   "source": [
    "# Metric\n",
    "Here we define metrics to evaluate the models."
   ]
  },
  {
   "cell_type": "code",
   "execution_count": 12,
   "id": "98b27741",
   "metadata": {
    "execution": {
     "iopub.execute_input": "2024-04-12T11:57:43.782047Z",
     "iopub.status.busy": "2024-04-12T11:57:43.781412Z",
     "iopub.status.idle": "2024-04-12T11:57:43.791890Z",
     "shell.execute_reply": "2024-04-12T11:57:43.791064Z"
    },
    "id": "B5yNAt6gdi91",
    "papermill": {
     "duration": 0.038673,
     "end_time": "2024-04-12T11:57:43.794352",
     "exception": false,
     "start_time": "2024-04-12T11:57:43.755679",
     "status": "completed"
    },
    "tags": []
   },
   "outputs": [],
   "source": [
    "class Assess(dspy.Signature):\n",
    "    \"\"\"Assess the quality of a tweet along the specified dimension.\"\"\"\n",
    "\n",
    "    context = dspy.InputField(desc=\"ignore if N/A\")\n",
    "    assessed_text = dspy.InputField()\n",
    "    assessment_question = dspy.InputField()\n",
    "    assessment_answer = dspy.OutputField(desc=\"Yes or No\")\n",
    "\n",
    "\n",
    "optimiser_model = dspy.OpenAI(model=\"gpt-4-turbo\", max_tokens=1000, model_type=\"chat\")\n",
    "METRIC = None\n",
    "\n",
    "\n",
    "def metric(gold, pred, trace=None):\n",
    "    question, answer, tweet = gold.question, gold.answer, pred.output\n",
    "    context = retrieve_eval({'question': question})\n",
    "\n",
    "    engaging = \"Does the assessed text make for a self-contained, engaging tweet?\"\n",
    "    faithful = \"Is the assessed text grounded in the context? Say no if it includes significant facts not in the context.\"\n",
    "    correct = f\"The text above is should answer `{question}`. The gold answer is `{answer}`. Does the assessed text above contain the gold answer?\"\n",
    "\n",
    "    with dspy.context(lm=optimiser_model):\n",
    "        faithful = dspy.Predict(Assess)(\n",
    "            context=context, assessed_text=tweet, assessment_question=faithful\n",
    "        )\n",
    "        correct = dspy.Predict(Assess)(\n",
    "            context=\"N/A\", assessed_text=tweet, assessment_question=correct\n",
    "        )\n",
    "        engaging = dspy.Predict(Assess)(\n",
    "            context=\"N/A\", assessed_text=tweet, assessment_question=engaging\n",
    "        )\n",
    "\n",
    "    correct, engaging, faithful = [\n",
    "        m.assessment_answer.split()[0].lower() == \"yes\"\n",
    "        for m in [correct, engaging, faithful]\n",
    "    ]\n",
    "    score = (correct + engaging + faithful) if correct and (len(tweet) <= 280) else 0\n",
    "\n",
    "    if METRIC is not None:\n",
    "        if METRIC == \"correct\":\n",
    "            return correct\n",
    "        if METRIC == \"engaging\":\n",
    "            return engaging\n",
    "        if METRIC == \"faithful\":\n",
    "            return faithful\n",
    "\n",
    "    if trace is not None:\n",
    "        return score >= 3\n",
    "    return score / 3.0"
   ]
  },
  {
   "cell_type": "markdown",
   "id": "c33001b8",
   "metadata": {
    "id": "apw-1LO9e_OI",
    "papermill": {
     "duration": 0.024204,
     "end_time": "2024-04-12T11:57:43.843506",
     "exception": false,
     "start_time": "2024-04-12T11:57:43.819302",
     "status": "completed"
    },
    "tags": []
   },
   "source": [
    "# Optimize"
   ]
  },
  {
   "cell_type": "code",
   "execution_count": 13,
   "id": "e02e5adb",
   "metadata": {
    "execution": {
     "iopub.execute_input": "2024-04-12T11:57:43.893195Z",
     "iopub.status.busy": "2024-04-12T11:57:43.892613Z",
     "iopub.status.idle": "2024-04-12T12:04:57.669636Z",
     "shell.execute_reply": "2024-04-12T12:04:57.668647Z"
    },
    "id": "KCXkbMhefA_d",
    "outputId": "02a0163d-fe51-4366-c75e-a1f84d4ea8a5",
    "papermill": {
     "duration": 433.804526,
     "end_time": "2024-04-12T12:04:57.671864",
     "exception": false,
     "start_time": "2024-04-12T11:57:43.867338",
     "status": "completed"
    },
    "tags": []
   },
   "outputs": [
    {
     "name": "stdout",
     "output_type": "stream",
     "text": [
      "Going to sample between 1 and 3 traces per predictor.\n",
      "Will attempt to train 3 candidate sets.\n"
     ]
    },
    {
     "name": "stderr",
     "output_type": "stream",
     "text": [
      "Average Metric: 3.6666666666666665 / 10  (36.7): 100%|██████████| 10/10 [00:17<00:00,  1.72s/it]\n",
      "/opt/conda/lib/python3.10/site-packages/dspy/evaluate/evaluate.py:142: FutureWarning: DataFrame.applymap has been deprecated. Use DataFrame.map instead.\n",
      "  df = df.applymap(truncate_cell)\n"
     ]
    },
    {
     "name": "stdout",
     "output_type": "stream",
     "text": [
      "Average Metric: 3.6666666666666665 / 10  (36.7%)\n",
      "Score: 36.67 for set: [0]\n",
      "New best score: 36.67 for seed -3\n",
      "Scores so far: [36.67]\n",
      "Best score: 36.67\n"
     ]
    },
    {
     "name": "stderr",
     "output_type": "stream",
     "text": [
      "Average Metric: 3.6666666666666665 / 10  (36.7): 100%|██████████| 10/10 [00:05<00:00,  1.79it/s]\n",
      "/opt/conda/lib/python3.10/site-packages/dspy/evaluate/evaluate.py:142: FutureWarning: DataFrame.applymap has been deprecated. Use DataFrame.map instead.\n",
      "  df = df.applymap(truncate_cell)\n"
     ]
    },
    {
     "name": "stdout",
     "output_type": "stream",
     "text": [
      "Average Metric: 3.6666666666666665 / 10  (36.7%)\n",
      "Score: 36.67 for set: [16]\n",
      "Scores so far: [36.67, 36.67]\n",
      "Best score: 36.67\n"
     ]
    },
    {
     "name": "stderr",
     "output_type": "stream",
     "text": [
      " 30%|███       | 15/50 [02:17<05:21,  9.18s/it]\n"
     ]
    },
    {
     "name": "stdout",
     "output_type": "stream",
     "text": [
      "Bootstrapped 3 full traces after 16 examples in round 0.\n"
     ]
    },
    {
     "name": "stderr",
     "output_type": "stream",
     "text": [
      "Average Metric: 2.0 / 10  (20.0): 100%|██████████| 10/10 [00:18<00:00,  1.81s/it]\n",
      "/opt/conda/lib/python3.10/site-packages/dspy/evaluate/evaluate.py:142: FutureWarning: DataFrame.applymap has been deprecated. Use DataFrame.map instead.\n",
      "  df = df.applymap(truncate_cell)\n"
     ]
    },
    {
     "name": "stdout",
     "output_type": "stream",
     "text": [
      "Average Metric: 2.0 / 10  (20.0%)\n",
      "Score: 20.0 for set: [16]\n",
      "Scores so far: [36.67, 36.67, 20.0]\n",
      "Best score: 36.67\n",
      "Average of max per entry across top 1 scores: 0.36666666666666664\n",
      "Average of max per entry across top 2 scores: 0.5666666666666667\n",
      "Average of max per entry across top 3 scores: 0.6666666666666666\n",
      "Average of max per entry across top 5 scores: 0.6666666666666666\n",
      "Average of max per entry across top 8 scores: 0.6666666666666666\n",
      "Average of max per entry across top 9999 scores: 0.6666666666666666\n"
     ]
    },
    {
     "name": "stderr",
     "output_type": "stream",
     "text": [
      " 54%|█████▍    | 27/50 [02:35<02:12,  5.77s/it]\n"
     ]
    },
    {
     "name": "stdout",
     "output_type": "stream",
     "text": [
      "Bootstrapped 2 full traces after 28 examples in round 0.\n"
     ]
    },
    {
     "name": "stderr",
     "output_type": "stream",
     "text": [
      "Average Metric: 2.333333333333333 / 10  (23.3): 100%|██████████| 10/10 [00:27<00:00,  2.79s/it]\n",
      "/opt/conda/lib/python3.10/site-packages/dspy/evaluate/evaluate.py:142: FutureWarning: DataFrame.applymap has been deprecated. Use DataFrame.map instead.\n",
      "  df = df.applymap(truncate_cell)\n"
     ]
    },
    {
     "name": "stdout",
     "output_type": "stream",
     "text": [
      "Average Metric: 2.333333333333333 / 10  (23.3%)\n",
      "Score: 23.33 for set: [16]\n",
      "Scores so far: [36.67, 36.67, 20.0, 23.33]\n",
      "Best score: 36.67\n",
      "Average of max per entry across top 1 scores: 0.36666666666666664\n",
      "Average of max per entry across top 2 scores: 0.5666666666666667\n",
      "Average of max per entry across top 3 scores: 0.6666666666666666\n",
      "Average of max per entry across top 5 scores: 0.7666666666666666\n",
      "Average of max per entry across top 8 scores: 0.7666666666666666\n",
      "Average of max per entry across top 9999 scores: 0.7666666666666666\n"
     ]
    },
    {
     "name": "stderr",
     "output_type": "stream",
     "text": [
      " 12%|█▏        | 6/50 [00:16<02:00,  2.74s/it]\n"
     ]
    },
    {
     "name": "stdout",
     "output_type": "stream",
     "text": [
      "Bootstrapped 1 full traces after 7 examples in round 0.\n"
     ]
    },
    {
     "name": "stderr",
     "output_type": "stream",
     "text": [
      "Average Metric: 2.6666666666666665 / 10  (26.7): 100%|██████████| 10/10 [00:21<00:00,  2.12s/it]\n",
      "/opt/conda/lib/python3.10/site-packages/dspy/evaluate/evaluate.py:142: FutureWarning: DataFrame.applymap has been deprecated. Use DataFrame.map instead.\n",
      "  df = df.applymap(truncate_cell)\n"
     ]
    },
    {
     "name": "stdout",
     "output_type": "stream",
     "text": [
      "Average Metric: 2.6666666666666665 / 10  (26.7%)\n",
      "Score: 26.67 for set: [16]\n",
      "Scores so far: [36.67, 36.67, 20.0, 23.33, 26.67]\n",
      "Best score: 36.67\n",
      "Average of max per entry across top 1 scores: 0.36666666666666664\n",
      "Average of max per entry across top 2 scores: 0.5666666666666667\n",
      "Average of max per entry across top 3 scores: 0.7333333333333333\n",
      "Average of max per entry across top 5 scores: 0.7666666666666666\n",
      "Average of max per entry across top 8 scores: 0.7666666666666666\n",
      "Average of max per entry across top 9999 scores: 0.7666666666666666\n"
     ]
    },
    {
     "name": "stderr",
     "output_type": "stream",
     "text": [
      "  8%|▊         | 4/50 [00:15<03:01,  3.95s/it]\n"
     ]
    },
    {
     "name": "stdout",
     "output_type": "stream",
     "text": [
      "Bootstrapped 1 full traces after 5 examples in round 0.\n"
     ]
    },
    {
     "name": "stderr",
     "output_type": "stream",
     "text": [
      "Average Metric: 2.6666666666666665 / 10  (26.7): 100%|██████████| 10/10 [00:17<00:00,  1.74s/it]"
     ]
    },
    {
     "name": "stdout",
     "output_type": "stream",
     "text": [
      "Average Metric: 2.6666666666666665 / 10  (26.7%)\n",
      "Score: 26.67 for set: [16]\n",
      "Scores so far: [36.67, 36.67, 20.0, 23.33, 26.67, 26.67]\n",
      "Best score: 36.67\n",
      "Average of max per entry across top 1 scores: 0.36666666666666664\n",
      "Average of max per entry across top 2 scores: 0.5666666666666667\n",
      "Average of max per entry across top 3 scores: 0.7333333333333333\n",
      "Average of max per entry across top 5 scores: 0.7666666666666666\n",
      "Average of max per entry across top 8 scores: 0.7666666666666666\n",
      "Average of max per entry across top 9999 scores: 0.7666666666666666\n",
      "6 candidate programs found.\n",
      "CPU times: user 34.9 s, sys: 2.11 s, total: 37 s\n",
      "Wall time: 7min 13s\n"
     ]
    },
    {
     "name": "stderr",
     "output_type": "stream",
     "text": [
      "\n",
      "/opt/conda/lib/python3.10/site-packages/dspy/evaluate/evaluate.py:142: FutureWarning: DataFrame.applymap has been deprecated. Use DataFrame.map instead.\n",
      "  df = df.applymap(truncate_cell)\n"
     ]
    }
   ],
   "source": [
    "%%time\n",
    "\n",
    "from dspy.teleprompt import BootstrapFewShotWithRandomSearch\n",
    "\n",
    "optimizer = BootstrapFewShotWithRandomSearch(\n",
    "    metric=metric, max_bootstrapped_demos=3, num_candidate_programs=3\n",
    ")\n",
    "\n",
    "optimized_chain = optimizer.compile(zeroshot_chain, trainset=trainset, valset=valset)"
   ]
  },
  {
   "cell_type": "markdown",
   "id": "c17ee5ad",
   "metadata": {
    "id": "06HAaXATeiEf",
    "papermill": {
     "duration": 0.035934,
     "end_time": "2024-04-12T12:04:57.744535",
     "exception": false,
     "start_time": "2024-04-12T12:04:57.708601",
     "status": "completed"
    },
    "tags": []
   },
   "source": [
    "# Evaluate"
   ]
  },
  {
   "cell_type": "code",
   "execution_count": 14,
   "id": "6322786d",
   "metadata": {
    "execution": {
     "iopub.execute_input": "2024-04-12T12:04:57.819406Z",
     "iopub.status.busy": "2024-04-12T12:04:57.819045Z",
     "iopub.status.idle": "2024-04-12T12:04:57.823255Z",
     "shell.execute_reply": "2024-04-12T12:04:57.822488Z"
    },
    "id": "4cMAfqTMeglI",
    "papermill": {
     "duration": 0.043994,
     "end_time": "2024-04-12T12:04:57.825079",
     "exception": false,
     "start_time": "2024-04-12T12:04:57.781085",
     "status": "completed"
    },
    "tags": []
   },
   "outputs": [],
   "source": [
    "from dspy.evaluate.evaluate import Evaluate\n",
    "\n",
    "evaluate = Evaluate(\n",
    "    metric=metric, devset=testset, num_threads=8, display_progress=True, display_table=5\n",
    ")"
   ]
  },
  {
   "cell_type": "code",
   "execution_count": 15,
   "id": "3856f6fb",
   "metadata": {
    "execution": {
     "iopub.execute_input": "2024-04-12T12:04:57.899981Z",
     "iopub.status.busy": "2024-04-12T12:04:57.899578Z",
     "iopub.status.idle": "2024-04-12T12:05:20.257794Z",
     "shell.execute_reply": "2024-04-12T12:05:20.256595Z"
    },
    "id": "n13H_qcldupX",
    "outputId": "db361ea3-b747-410f-a4a2-7825cc88ef06",
    "papermill": {
     "duration": 22.398486,
     "end_time": "2024-04-12T12:05:20.260131",
     "exception": false,
     "start_time": "2024-04-12T12:04:57.861645",
     "status": "completed"
    },
    "tags": []
   },
   "outputs": [
    {
     "name": "stderr",
     "output_type": "stream",
     "text": [
      "Average Metric: 3.0 / 10  (30.0): 100%|██████████| 10/10 [00:22<00:00,  2.22s/it]"
     ]
    },
    {
     "name": "stdout",
     "output_type": "stream",
     "text": [
      "Average Metric: 3.0 / 10  (30.0%)\n"
     ]
    },
    {
     "name": "stderr",
     "output_type": "stream",
     "text": [
      "\n",
      "/opt/conda/lib/python3.10/site-packages/dspy/evaluate/evaluate.py:142: FutureWarning: DataFrame.applymap has been deprecated. Use DataFrame.map instead.\n",
      "  df = df.applymap(truncate_cell)\n",
      "/opt/conda/lib/python3.10/site-packages/dspy/evaluate/evaluate.py:215: FutureWarning: Setting an item of incompatible dtype is deprecated and will raise in a future error of pandas. Value '['0.0' '1.0' '0.0' '0.0' '1.0']' has dtype incompatible with float64, please explicitly cast to a compatible dtype first.\n",
      "  df.loc[:, metric_name] = df[metric_name].apply(lambda x: f'✔️ [{x}]' if x is True else f'{x}')\n"
     ]
    },
    {
     "data": {
      "text/html": [
       "<style type=\"text/css\">\n",
       "#T_1c54c th {\n",
       "  text-align: left;\n",
       "}\n",
       "#T_1c54c td {\n",
       "  text-align: left;\n",
       "}\n",
       "#T_1c54c_row0_col0, #T_1c54c_row0_col1, #T_1c54c_row0_col2, #T_1c54c_row0_col3, #T_1c54c_row0_col4, #T_1c54c_row1_col0, #T_1c54c_row1_col1, #T_1c54c_row1_col2, #T_1c54c_row1_col3, #T_1c54c_row1_col4, #T_1c54c_row2_col0, #T_1c54c_row2_col1, #T_1c54c_row2_col2, #T_1c54c_row2_col3, #T_1c54c_row2_col4, #T_1c54c_row3_col0, #T_1c54c_row3_col1, #T_1c54c_row3_col2, #T_1c54c_row3_col3, #T_1c54c_row3_col4, #T_1c54c_row4_col0, #T_1c54c_row4_col1, #T_1c54c_row4_col2, #T_1c54c_row4_col3, #T_1c54c_row4_col4 {\n",
       "  text-align: left;\n",
       "  white-space: pre-wrap;\n",
       "  word-wrap: break-word;\n",
       "  max-width: 400px;\n",
       "}\n",
       "</style>\n",
       "<table id=\"T_1c54c\">\n",
       "  <thead>\n",
       "    <tr>\n",
       "      <th class=\"blank level0\" >&nbsp;</th>\n",
       "      <th id=\"T_1c54c_level0_col0\" class=\"col_heading level0 col0\" >question</th>\n",
       "      <th id=\"T_1c54c_level0_col1\" class=\"col_heading level0 col1\" >answer</th>\n",
       "      <th id=\"T_1c54c_level0_col2\" class=\"col_heading level0 col2\" >output</th>\n",
       "      <th id=\"T_1c54c_level0_col3\" class=\"col_heading level0 col3\" >tweet_response</th>\n",
       "      <th id=\"T_1c54c_level0_col4\" class=\"col_heading level0 col4\" >metric</th>\n",
       "    </tr>\n",
       "  </thead>\n",
       "  <tbody>\n",
       "    <tr>\n",
       "      <th id=\"T_1c54c_level0_row0\" class=\"row_heading level0 row0\" >0</th>\n",
       "      <td id=\"T_1c54c_row0_col0\" class=\"data row0 col0\" >What is the name of the fight song of the university whose main campus is in Lawrence, Kansas and whose branch campuses are in the...</td>\n",
       "      <td id=\"T_1c54c_row0_col1\" class=\"data row0 col1\" >Kansas Song</td>\n",
       "      <td id=\"T_1c54c_row0_col2\" class=\"data row0 col2\" >Tweet Response: The fight song of the University of Kansas is \"I'm a Jayhawk.\" 🎶 #RockChalkJayhawk #KU #FightSong</td>\n",
       "      <td id=\"T_1c54c_row0_col3\" class=\"data row0 col3\" >Tweet Response: The fight song of the University of Kansas is \"I'm a Jayhawk.\" 🎶 #RockChalkJayhawk #KU #FightSong</td>\n",
       "      <td id=\"T_1c54c_row0_col4\" class=\"data row0 col4\" >0.0</td>\n",
       "    </tr>\n",
       "    <tr>\n",
       "      <th id=\"T_1c54c_level0_row1\" class=\"row_heading level0 row1\" >1</th>\n",
       "      <td id=\"T_1c54c_row1_col0\" class=\"data row1 col0\" >What screenwriter with credits for \"Evolution\" co-wrote a film starring Nicolas Cage and Téa Leoni?</td>\n",
       "      <td id=\"T_1c54c_row1_col1\" class=\"data row1 col1\" >David Weissman</td>\n",
       "      <td id=\"T_1c54c_row1_col2\" class=\"data row1 col2\" >Screenwriter David Weissman co-wrote a film starring Nicolas Cage and Téa Leoni, known for his work on \"Evolution\" and \"The Family Man.\" #DavidWeissman #Screenwriter #TheFamilyMan</td>\n",
       "      <td id=\"T_1c54c_row1_col3\" class=\"data row1 col3\" >Screenwriter David Weissman co-wrote a film starring Nicolas Cage and Téa Leoni, known for his work on \"Evolution\" and \"The Family Man.\" #DavidWeissman #Screenwriter #TheFamilyMan</td>\n",
       "      <td id=\"T_1c54c_row1_col4\" class=\"data row1 col4\" >1.0</td>\n",
       "    </tr>\n",
       "    <tr>\n",
       "      <th id=\"T_1c54c_level0_row2\" class=\"row_heading level0 row2\" >2</th>\n",
       "      <td id=\"T_1c54c_row2_col0\" class=\"data row2 col0\" >What year did Guns N Roses perform a promo for a movie starring Arnold Schwarzenegger as a former New York Police detective?</td>\n",
       "      <td id=\"T_1c54c_row2_col1\" class=\"data row2 col1\" >1999</td>\n",
       "      <td id=\"T_1c54c_row2_col2\" class=\"data row2 col2\" >Context: SNL ad parodies and Super Bowl commercials are popular. Question: What year did Guns N Roses perform a promo for a movie starring Arnold...</td>\n",
       "      <td id=\"T_1c54c_row2_col3\" class=\"data row2 col3\" >Context: SNL ad parodies and Super Bowl commercials are popular. Question: What year did Guns N Roses perform a promo for a movie starring Arnold...</td>\n",
       "      <td id=\"T_1c54c_row2_col4\" class=\"data row2 col4\" >0.0</td>\n",
       "    </tr>\n",
       "    <tr>\n",
       "      <th id=\"T_1c54c_level0_row3\" class=\"row_heading level0 row3\" >3</th>\n",
       "      <td id=\"T_1c54c_row3_col0\" class=\"data row3 col0\" >Are Random House Tower and 888 7th Avenue both used for real estate?</td>\n",
       "      <td id=\"T_1c54c_row3_col1\" class=\"data row3 col1\" >no</td>\n",
       "      <td id=\"T_1c54c_row3_col2\" class=\"data row3 col2\" >Context: Information about buildings in Midtown Manhattan, New York City. Question: Are Random House Tower and 888 7th Avenue both used for real estate? Tweet...</td>\n",
       "      <td id=\"T_1c54c_row3_col3\" class=\"data row3 col3\" >Context: Information about buildings in Midtown Manhattan, New York City. Question: Are Random House Tower and 888 7th Avenue both used for real estate? Tweet...</td>\n",
       "      <td id=\"T_1c54c_row3_col4\" class=\"data row3 col4\" >0.0</td>\n",
       "    </tr>\n",
       "    <tr>\n",
       "      <th id=\"T_1c54c_level0_row4\" class=\"row_heading level0 row4\" >4</th>\n",
       "      <td id=\"T_1c54c_row4_col0\" class=\"data row4 col0\" >The football manager who recruited David Beckham managed Manchester United during what timeframe?</td>\n",
       "      <td id=\"T_1c54c_row4_col1\" class=\"data row4 col1\" >from 1986 to 2013</td>\n",
       "      <td id=\"T_1c54c_row4_col2\" class=\"data row4 col2\" >Context: N/A Question: The football manager who recruited David Beckham managed Manchester United during what timeframe? Tweet Response: Sir Alex Ferguson managed Manchester United from...</td>\n",
       "      <td id=\"T_1c54c_row4_col3\" class=\"data row4 col3\" >Context: N/A Question: The football manager who recruited David Beckham managed Manchester United during what timeframe? Tweet Response: Sir Alex Ferguson managed Manchester United from...</td>\n",
       "      <td id=\"T_1c54c_row4_col4\" class=\"data row4 col4\" >1.0</td>\n",
       "    </tr>\n",
       "  </tbody>\n",
       "</table>\n"
      ],
      "text/plain": [
       "<pandas.io.formats.style.Styler at 0x7cf3a2b1f1f0>"
      ]
     },
     "metadata": {},
     "output_type": "display_data"
    },
    {
     "data": {
      "text/html": [
       "\n",
       "                <div style='\n",
       "                    text-align: center; \n",
       "                    font-size: 16px; \n",
       "                    font-weight: bold; \n",
       "                    color: #555; \n",
       "                    margin: 10px 0;'>\n",
       "                    ... 5 more rows not displayed ...\n",
       "                </div>\n",
       "                "
      ],
      "text/plain": [
       "<IPython.core.display.HTML object>"
      ]
     },
     "metadata": {},
     "output_type": "display_data"
    },
    {
     "data": {
      "text/plain": [
       "30.0"
      ]
     },
     "execution_count": 15,
     "metadata": {},
     "output_type": "execute_result"
    }
   ],
   "source": [
    "evaluate(zeroshot_chain)"
   ]
  },
  {
   "cell_type": "code",
   "execution_count": 16,
   "id": "12bf6186",
   "metadata": {
    "execution": {
     "iopub.execute_input": "2024-04-12T12:05:20.339078Z",
     "iopub.status.busy": "2024-04-12T12:05:20.338433Z",
     "iopub.status.idle": "2024-04-12T12:05:26.420219Z",
     "shell.execute_reply": "2024-04-12T12:05:26.419094Z"
    },
    "id": "q0I8ARXneoZr",
    "outputId": "553bd771-2a3f-4cfc-eede-3345a457d497",
    "papermill": {
     "duration": 6.123669,
     "end_time": "2024-04-12T12:05:26.422221",
     "exception": false,
     "start_time": "2024-04-12T12:05:20.298552",
     "status": "completed"
    },
    "tags": []
   },
   "outputs": [
    {
     "name": "stderr",
     "output_type": "stream",
     "text": [
      "Average Metric: 3.0 / 10  (30.0): 100%|██████████| 10/10 [00:05<00:00,  1.68it/s]"
     ]
    },
    {
     "name": "stdout",
     "output_type": "stream",
     "text": [
      "Average Metric: 3.0 / 10  (30.0%)\n"
     ]
    },
    {
     "name": "stderr",
     "output_type": "stream",
     "text": [
      "\n",
      "/opt/conda/lib/python3.10/site-packages/dspy/evaluate/evaluate.py:142: FutureWarning: DataFrame.applymap has been deprecated. Use DataFrame.map instead.\n",
      "  df = df.applymap(truncate_cell)\n",
      "/opt/conda/lib/python3.10/site-packages/dspy/evaluate/evaluate.py:215: FutureWarning: Setting an item of incompatible dtype is deprecated and will raise in a future error of pandas. Value '['0.0' '1.0' '0.0' '0.0' '1.0']' has dtype incompatible with float64, please explicitly cast to a compatible dtype first.\n",
      "  df.loc[:, metric_name] = df[metric_name].apply(lambda x: f'✔️ [{x}]' if x is True else f'{x}')\n"
     ]
    },
    {
     "data": {
      "text/html": [
       "<style type=\"text/css\">\n",
       "#T_9085c th {\n",
       "  text-align: left;\n",
       "}\n",
       "#T_9085c td {\n",
       "  text-align: left;\n",
       "}\n",
       "#T_9085c_row0_col0, #T_9085c_row0_col1, #T_9085c_row0_col2, #T_9085c_row0_col3, #T_9085c_row0_col4, #T_9085c_row1_col0, #T_9085c_row1_col1, #T_9085c_row1_col2, #T_9085c_row1_col3, #T_9085c_row1_col4, #T_9085c_row2_col0, #T_9085c_row2_col1, #T_9085c_row2_col2, #T_9085c_row2_col3, #T_9085c_row2_col4, #T_9085c_row3_col0, #T_9085c_row3_col1, #T_9085c_row3_col2, #T_9085c_row3_col3, #T_9085c_row3_col4, #T_9085c_row4_col0, #T_9085c_row4_col1, #T_9085c_row4_col2, #T_9085c_row4_col3, #T_9085c_row4_col4 {\n",
       "  text-align: left;\n",
       "  white-space: pre-wrap;\n",
       "  word-wrap: break-word;\n",
       "  max-width: 400px;\n",
       "}\n",
       "</style>\n",
       "<table id=\"T_9085c\">\n",
       "  <thead>\n",
       "    <tr>\n",
       "      <th class=\"blank level0\" >&nbsp;</th>\n",
       "      <th id=\"T_9085c_level0_col0\" class=\"col_heading level0 col0\" >question</th>\n",
       "      <th id=\"T_9085c_level0_col1\" class=\"col_heading level0 col1\" >answer</th>\n",
       "      <th id=\"T_9085c_level0_col2\" class=\"col_heading level0 col2\" >output</th>\n",
       "      <th id=\"T_9085c_level0_col3\" class=\"col_heading level0 col3\" >tweet_response</th>\n",
       "      <th id=\"T_9085c_level0_col4\" class=\"col_heading level0 col4\" >metric</th>\n",
       "    </tr>\n",
       "  </thead>\n",
       "  <tbody>\n",
       "    <tr>\n",
       "      <th id=\"T_9085c_level0_row0\" class=\"row_heading level0 row0\" >0</th>\n",
       "      <td id=\"T_9085c_row0_col0\" class=\"data row0 col0\" >What is the name of the fight song of the university whose main campus is in Lawrence, Kansas and whose branch campuses are in the...</td>\n",
       "      <td id=\"T_9085c_row0_col1\" class=\"data row0 col1\" >Kansas Song</td>\n",
       "      <td id=\"T_9085c_row0_col2\" class=\"data row0 col2\" >Tweet Response: The fight song of the University of Kansas is \"I'm a Jayhawk.\" 🎶 #RockChalkJayhawk #KU #FightSong</td>\n",
       "      <td id=\"T_9085c_row0_col3\" class=\"data row0 col3\" >Tweet Response: The fight song of the University of Kansas is \"I'm a Jayhawk.\" 🎶 #RockChalkJayhawk #KU #FightSong</td>\n",
       "      <td id=\"T_9085c_row0_col4\" class=\"data row0 col4\" >0.0</td>\n",
       "    </tr>\n",
       "    <tr>\n",
       "      <th id=\"T_9085c_level0_row1\" class=\"row_heading level0 row1\" >1</th>\n",
       "      <td id=\"T_9085c_row1_col0\" class=\"data row1 col0\" >What screenwriter with credits for \"Evolution\" co-wrote a film starring Nicolas Cage and Téa Leoni?</td>\n",
       "      <td id=\"T_9085c_row1_col1\" class=\"data row1 col1\" >David Weissman</td>\n",
       "      <td id=\"T_9085c_row1_col2\" class=\"data row1 col2\" >Screenwriter David Weissman co-wrote a film starring Nicolas Cage and Téa Leoni, known for his work on \"Evolution\" and \"The Family Man.\" #DavidWeissman #Screenwriter #TheFamilyMan</td>\n",
       "      <td id=\"T_9085c_row1_col3\" class=\"data row1 col3\" >Screenwriter David Weissman co-wrote a film starring Nicolas Cage and Téa Leoni, known for his work on \"Evolution\" and \"The Family Man.\" #DavidWeissman #Screenwriter #TheFamilyMan</td>\n",
       "      <td id=\"T_9085c_row1_col4\" class=\"data row1 col4\" >1.0</td>\n",
       "    </tr>\n",
       "    <tr>\n",
       "      <th id=\"T_9085c_level0_row2\" class=\"row_heading level0 row2\" >2</th>\n",
       "      <td id=\"T_9085c_row2_col0\" class=\"data row2 col0\" >What year did Guns N Roses perform a promo for a movie starring Arnold Schwarzenegger as a former New York Police detective?</td>\n",
       "      <td id=\"T_9085c_row2_col1\" class=\"data row2 col1\" >1999</td>\n",
       "      <td id=\"T_9085c_row2_col2\" class=\"data row2 col2\" >Context: SNL ad parodies and Super Bowl commercials are popular. Question: What year did Guns N Roses perform a promo for a movie starring Arnold...</td>\n",
       "      <td id=\"T_9085c_row2_col3\" class=\"data row2 col3\" >Context: SNL ad parodies and Super Bowl commercials are popular. Question: What year did Guns N Roses perform a promo for a movie starring Arnold...</td>\n",
       "      <td id=\"T_9085c_row2_col4\" class=\"data row2 col4\" >0.0</td>\n",
       "    </tr>\n",
       "    <tr>\n",
       "      <th id=\"T_9085c_level0_row3\" class=\"row_heading level0 row3\" >3</th>\n",
       "      <td id=\"T_9085c_row3_col0\" class=\"data row3 col0\" >Are Random House Tower and 888 7th Avenue both used for real estate?</td>\n",
       "      <td id=\"T_9085c_row3_col1\" class=\"data row3 col1\" >no</td>\n",
       "      <td id=\"T_9085c_row3_col2\" class=\"data row3 col2\" >Context: Information about buildings in Midtown Manhattan, New York City. Question: Are Random House Tower and 888 7th Avenue both used for real estate? Tweet...</td>\n",
       "      <td id=\"T_9085c_row3_col3\" class=\"data row3 col3\" >Context: Information about buildings in Midtown Manhattan, New York City. Question: Are Random House Tower and 888 7th Avenue both used for real estate? Tweet...</td>\n",
       "      <td id=\"T_9085c_row3_col4\" class=\"data row3 col4\" >0.0</td>\n",
       "    </tr>\n",
       "    <tr>\n",
       "      <th id=\"T_9085c_level0_row4\" class=\"row_heading level0 row4\" >4</th>\n",
       "      <td id=\"T_9085c_row4_col0\" class=\"data row4 col0\" >The football manager who recruited David Beckham managed Manchester United during what timeframe?</td>\n",
       "      <td id=\"T_9085c_row4_col1\" class=\"data row4 col1\" >from 1986 to 2013</td>\n",
       "      <td id=\"T_9085c_row4_col2\" class=\"data row4 col2\" >Context: N/A Question: The football manager who recruited David Beckham managed Manchester United during what timeframe? Tweet Response: Sir Alex Ferguson managed Manchester United from...</td>\n",
       "      <td id=\"T_9085c_row4_col3\" class=\"data row4 col3\" >Context: N/A Question: The football manager who recruited David Beckham managed Manchester United during what timeframe? Tweet Response: Sir Alex Ferguson managed Manchester United from...</td>\n",
       "      <td id=\"T_9085c_row4_col4\" class=\"data row4 col4\" >1.0</td>\n",
       "    </tr>\n",
       "  </tbody>\n",
       "</table>\n"
      ],
      "text/plain": [
       "<pandas.io.formats.style.Styler at 0x7cf3a485d090>"
      ]
     },
     "metadata": {},
     "output_type": "display_data"
    },
    {
     "data": {
      "text/html": [
       "\n",
       "                <div style='\n",
       "                    text-align: center; \n",
       "                    font-size: 16px; \n",
       "                    font-weight: bold; \n",
       "                    color: #555; \n",
       "                    margin: 10px 0;'>\n",
       "                    ... 5 more rows not displayed ...\n",
       "                </div>\n",
       "                "
      ],
      "text/plain": [
       "<IPython.core.display.HTML object>"
      ]
     },
     "metadata": {},
     "output_type": "display_data"
    },
    {
     "data": {
      "text/plain": [
       "30.0"
      ]
     },
     "execution_count": 16,
     "metadata": {},
     "output_type": "execute_result"
    }
   ],
   "source": [
    "evaluate(optimized_chain)"
   ]
  },
  {
   "cell_type": "markdown",
   "id": "218d54cb",
   "metadata": {
    "id": "-8v2LrzCfNsv",
    "papermill": {
     "duration": 0.039645,
     "end_time": "2024-04-12T12:05:26.502232",
     "exception": false,
     "start_time": "2024-04-12T12:05:26.462587",
     "status": "completed"
    },
    "tags": []
   },
   "source": [
    "# Inspect"
   ]
  },
  {
   "cell_type": "code",
   "execution_count": 17,
   "id": "e1be4757",
   "metadata": {
    "execution": {
     "iopub.execute_input": "2024-04-12T12:05:26.584398Z",
     "iopub.status.busy": "2024-04-12T12:05:26.583973Z",
     "iopub.status.idle": "2024-04-12T12:05:26.590372Z",
     "shell.execute_reply": "2024-04-12T12:05:26.589105Z"
    },
    "id": "hHspy3tVfKye",
    "outputId": "9cbefe46-d1b4-4d71-b1a5-342d045f4252",
    "papermill": {
     "duration": 0.050605,
     "end_time": "2024-04-12T12:05:26.592680",
     "exception": false,
     "start_time": "2024-04-12T12:05:26.542075",
     "status": "completed"
    },
    "tags": []
   },
   "outputs": [
    {
     "name": "stdout",
     "output_type": "stream",
     "text": [
      "Essential Instructions: Respond to the provided question based on the given context in the style of a tweet, ensuring the response is concise and within the character limit of a tweet (up to 280 characters).\n",
      "\n",
      "---\n",
      "\n",
      "Follow the following format.\n",
      "\n",
      "Context: ${context}\n",
      "Question: ${question}\n",
      "Tweet Response: ${tweet_response}\n",
      "\n",
      "---\n",
      "\n",
      "Context:\n",
      "[1] «American literature is literature written or produced in the United States of America and in the colonies that preceded it. The American literary tradition is part of the broader tradition of English-language literature, but it also includes literature produced in the United States in languages other than English.The American Revolutionary Period (1775–1783) is notable for the political writings of Benjamin Franklin, Alexander Hamilton, Thomas Paine, and Thomas Jefferson. An early novel is William Hill Brown's The Power of Sympathy, published in 1791. Writer and critic John Neal in the early- to mid-nineteenth century helped advance America  toward a unique literature and culture, by criticizing predecessors such as Washington Irving for imitating their British counterparts and by influencing writers such as Edgar Allan Poe. Edgar Allan Poe took American poetry and short fiction in new directions. Ralph Waldo Emerson pioneered the influential Transcendentalism movement; Henry David Thoreau, author of Walden, »\n",
      "[2] «Literature of the 20th century refers to world literature produced during the 20th century (1901 to 2000).\n",
      "The main periods in question are often grouped by scholars as Modernist literature, Postmodern literature, flowering from roughly 1900 to 1940 and 1960 to 1990 respectively, roughly using World War II as a transition point. After 1960, the somewhat malleable term \"contemporary literature\" widely appears.  \n",
      "Although these terms (modern, contemporary and postmodern) are generally applicable to and stem from Western literary history, scholars often use them in reference to Asian, Latin American and African literatures. Non-western writers, in particular in Postcolonial literature, have been at the forefront of literary evolution during the twentieth century.\n",
      "Technological advances facilitated lower production cost for books, coupled with rising populations and literacy rates, which resulted in a significant rise in production of popular literature and trivial literature, comparable to the similar developmen»\n",
      "[3] «Cormac McCarthy (born Charles Joseph McCarthy Jr.; July 20, 1933 – June 13, 2023) was an American writer who authored twelve novels, two plays, five screenplays, and three short stories, spanning the Western and postapocalyptic genres. His works often include graphic depictions of violence, and his writing style is characterised by a sparse use of punctuation and attribution. He is widely regarded as one of the greatest American novelists.McCarthy was born in Providence, Rhode Island, although he was raised primarily in Tennessee. In 1951, he enrolled in the University of Tennessee, but dropped out to join the U.S. Air Force. His debut novel, The Orchard Keeper, was published in 1965. Awarded literary grants, McCarthy was able to travel to southern Europe, where he wrote his second novel, Outer Dark (1968). Suttree (1979), like his other early novels, received generally positive reviews, but was not a commercial success. A MacArthur Fellowship enabled him to travel to the American Southwest, where he research»\n",
      "Question: Which writer was from England, Henry Roth or Robert Erskine Childers?\n",
      "Tweet Response:\n"
     ]
    }
   ],
   "source": [
    "prompt_used, output = dspy.settings.langchain_history[-1]\n",
    "print(prompt_used)"
   ]
  }
 ],
 "metadata": {
  "colab": {
   "provenance": []
  },
  "kaggle": {
   "accelerator": "none",
   "dataSources": [],
   "dockerImageVersionId": 30684,
   "isGpuEnabled": false,
   "isInternetEnabled": true,
   "language": "python",
   "sourceType": "notebook"
  },
  "kernelspec": {
   "display_name": "Python 3",
   "language": "python",
   "name": "python3"
  },
  "language_info": {
   "codemirror_mode": {
    "name": "ipython",
    "version": 3
   },
   "file_extension": ".py",
   "mimetype": "text/x-python",
   "name": "python",
   "nbconvert_exporter": "python",
   "pygments_lexer": "ipython3",
   "version": "3.10.13"
  },
  "papermill": {
   "default_parameters": {},
   "duration": 635.665402,
   "end_time": "2024-04-12T12:05:27.860113",
   "environment_variables": {},
   "exception": null,
   "input_path": "__notebook__.ipynb",
   "output_path": "__notebook__.ipynb",
   "parameters": {},
   "start_time": "2024-04-12T11:54:52.194711",
   "version": "2.5.0"
  },
  "widgets": {
   "application/vnd.jupyter.widget-state+json": {
    "state": {
     "00325000f85b42bc93924dbd9b6a547c": {
      "model_module": "@jupyter-widgets/controls",
      "model_module_version": "1.5.0",
      "model_name": "HTMLModel",
      "state": {
       "_dom_classes": [],
       "_model_module": "@jupyter-widgets/controls",
       "_model_module_version": "1.5.0",
       "_model_name": "HTMLModel",
       "_view_count": null,
       "_view_module": "@jupyter-widgets/controls",
       "_view_module_version": "1.5.0",
       "_view_name": "HTMLView",
       "description": "",
       "description_tooltip": null,
       "layout": "IPY_MODEL_093a97c6b1aa42899da2b943ff2cac4c",
       "placeholder": "​",
       "style": "IPY_MODEL_c5a43bdab0874f209a12957d196c16e6",
       "value": "Downloading readme: 100%"
      }
     },
     "093a97c6b1aa42899da2b943ff2cac4c": {
      "model_module": "@jupyter-widgets/base",
      "model_module_version": "1.2.0",
      "model_name": "LayoutModel",
      "state": {
       "_model_module": "@jupyter-widgets/base",
       "_model_module_version": "1.2.0",
       "_model_name": "LayoutModel",
       "_view_count": null,
       "_view_module": "@jupyter-widgets/base",
       "_view_module_version": "1.2.0",
       "_view_name": "LayoutView",
       "align_content": null,
       "align_items": null,
       "align_self": null,
       "border": null,
       "bottom": null,
       "display": null,
       "flex": null,
       "flex_flow": null,
       "grid_area": null,
       "grid_auto_columns": null,
       "grid_auto_flow": null,
       "grid_auto_rows": null,
       "grid_column": null,
       "grid_gap": null,
       "grid_row": null,
       "grid_template_areas": null,
       "grid_template_columns": null,
       "grid_template_rows": null,
       "height": null,
       "justify_content": null,
       "justify_items": null,
       "left": null,
       "margin": null,
       "max_height": null,
       "max_width": null,
       "min_height": null,
       "min_width": null,
       "object_fit": null,
       "object_position": null,
       "order": null,
       "overflow": null,
       "overflow_x": null,
       "overflow_y": null,
       "padding": null,
       "right": null,
       "top": null,
       "visibility": null,
       "width": null
      }
     },
     "0bdf35c246044897a726c5caab22293b": {
      "model_module": "@jupyter-widgets/controls",
      "model_module_version": "1.5.0",
      "model_name": "ProgressStyleModel",
      "state": {
       "_model_module": "@jupyter-widgets/controls",
       "_model_module_version": "1.5.0",
       "_model_name": "ProgressStyleModel",
       "_view_count": null,
       "_view_module": "@jupyter-widgets/base",
       "_view_module_version": "1.2.0",
       "_view_name": "StyleView",
       "bar_color": null,
       "description_width": ""
      }
     },
     "0c6db09127a4465db03f4559e7c4da19": {
      "model_module": "@jupyter-widgets/base",
      "model_module_version": "1.2.0",
      "model_name": "LayoutModel",
      "state": {
       "_model_module": "@jupyter-widgets/base",
       "_model_module_version": "1.2.0",
       "_model_name": "LayoutModel",
       "_view_count": null,
       "_view_module": "@jupyter-widgets/base",
       "_view_module_version": "1.2.0",
       "_view_name": "LayoutView",
       "align_content": null,
       "align_items": null,
       "align_self": null,
       "border": null,
       "bottom": null,
       "display": null,
       "flex": null,
       "flex_flow": null,
       "grid_area": null,
       "grid_auto_columns": null,
       "grid_auto_flow": null,
       "grid_auto_rows": null,
       "grid_column": null,
       "grid_gap": null,
       "grid_row": null,
       "grid_template_areas": null,
       "grid_template_columns": null,
       "grid_template_rows": null,
       "height": null,
       "justify_content": null,
       "justify_items": null,
       "left": null,
       "margin": null,
       "max_height": null,
       "max_width": null,
       "min_height": null,
       "min_width": null,
       "object_fit": null,
       "object_position": null,
       "order": null,
       "overflow": null,
       "overflow_x": null,
       "overflow_y": null,
       "padding": null,
       "right": null,
       "top": null,
       "visibility": null,
       "width": null
      }
     },
     "0efbf4fd9a214930b6cc2d50dc1e8d38": {
      "model_module": "@jupyter-widgets/controls",
      "model_module_version": "1.5.0",
      "model_name": "HBoxModel",
      "state": {
       "_dom_classes": [],
       "_model_module": "@jupyter-widgets/controls",
       "_model_module_version": "1.5.0",
       "_model_name": "HBoxModel",
       "_view_count": null,
       "_view_module": "@jupyter-widgets/controls",
       "_view_module_version": "1.5.0",
       "_view_name": "HBoxView",
       "box_style": "",
       "children": [
        "IPY_MODEL_a8808cff39464ed6be624fa2ac0ab0dc",
        "IPY_MODEL_ef7f684e887042b3aef36266399ebbea",
        "IPY_MODEL_f6ac5801b1db4f05b30495f30bc65c18"
       ],
       "layout": "IPY_MODEL_9e688bd4c1d4440fbdfa452f97607bed"
      }
     },
     "137b26661c8a40ca8ad5c295c73c7e39": {
      "model_module": "@jupyter-widgets/controls",
      "model_module_version": "1.5.0",
      "model_name": "FloatProgressModel",
      "state": {
       "_dom_classes": [],
       "_model_module": "@jupyter-widgets/controls",
       "_model_module_version": "1.5.0",
       "_model_name": "FloatProgressModel",
       "_view_count": null,
       "_view_module": "@jupyter-widgets/controls",
       "_view_module_version": "1.5.0",
       "_view_name": "ProgressView",
       "bar_style": "success",
       "description": "",
       "description_tooltip": null,
       "layout": "IPY_MODEL_400a03f0e9114fe79ebcc0ffddc8d897",
       "max": 46213747.0,
       "min": 0.0,
       "orientation": "horizontal",
       "style": "IPY_MODEL_51b4e84d57c04d91b04b41f34ef5cdde",
       "value": 46213747.0
      }
     },
     "14b083ad79b04261bdc8a03afb995f49": {
      "model_module": "@jupyter-widgets/controls",
      "model_module_version": "1.5.0",
      "model_name": "ProgressStyleModel",
      "state": {
       "_model_module": "@jupyter-widgets/controls",
       "_model_module_version": "1.5.0",
       "_model_name": "ProgressStyleModel",
       "_view_count": null,
       "_view_module": "@jupyter-widgets/base",
       "_view_module_version": "1.2.0",
       "_view_name": "StyleView",
       "bar_color": null,
       "description_width": ""
      }
     },
     "16d51d0c89774c2a8b165f9c73319273": {
      "model_module": "@jupyter-widgets/controls",
      "model_module_version": "1.5.0",
      "model_name": "ProgressStyleModel",
      "state": {
       "_model_module": "@jupyter-widgets/controls",
       "_model_module_version": "1.5.0",
       "_model_name": "ProgressStyleModel",
       "_view_count": null,
       "_view_module": "@jupyter-widgets/base",
       "_view_module_version": "1.2.0",
       "_view_name": "StyleView",
       "bar_color": null,
       "description_width": ""
      }
     },
     "2183198ac01547b6bfae67145baf5f37": {
      "model_module": "@jupyter-widgets/base",
      "model_module_version": "1.2.0",
      "model_name": "LayoutModel",
      "state": {
       "_model_module": "@jupyter-widgets/base",
       "_model_module_version": "1.2.0",
       "_model_name": "LayoutModel",
       "_view_count": null,
       "_view_module": "@jupyter-widgets/base",
       "_view_module_version": "1.2.0",
       "_view_name": "LayoutView",
       "align_content": null,
       "align_items": null,
       "align_self": null,
       "border": null,
       "bottom": null,
       "display": null,
       "flex": null,
       "flex_flow": null,
       "grid_area": null,
       "grid_auto_columns": null,
       "grid_auto_flow": null,
       "grid_auto_rows": null,
       "grid_column": null,
       "grid_gap": null,
       "grid_row": null,
       "grid_template_areas": null,
       "grid_template_columns": null,
       "grid_template_rows": null,
       "height": null,
       "justify_content": null,
       "justify_items": null,
       "left": null,
       "margin": null,
       "max_height": null,
       "max_width": null,
       "min_height": null,
       "min_width": null,
       "object_fit": null,
       "object_position": null,
       "order": null,
       "overflow": null,
       "overflow_x": null,
       "overflow_y": null,
       "padding": null,
       "right": null,
       "top": null,
       "visibility": null,
       "width": null
      }
     },
     "244a347db8ef4dc78d5aa062c1885b1b": {
      "model_module": "@jupyter-widgets/base",
      "model_module_version": "1.2.0",
      "model_name": "LayoutModel",
      "state": {
       "_model_module": "@jupyter-widgets/base",
       "_model_module_version": "1.2.0",
       "_model_name": "LayoutModel",
       "_view_count": null,
       "_view_module": "@jupyter-widgets/base",
       "_view_module_version": "1.2.0",
       "_view_name": "LayoutView",
       "align_content": null,
       "align_items": null,
       "align_self": null,
       "border": null,
       "bottom": null,
       "display": null,
       "flex": null,
       "flex_flow": null,
       "grid_area": null,
       "grid_auto_columns": null,
       "grid_auto_flow": null,
       "grid_auto_rows": null,
       "grid_column": null,
       "grid_gap": null,
       "grid_row": null,
       "grid_template_areas": null,
       "grid_template_columns": null,
       "grid_template_rows": null,
       "height": null,
       "justify_content": null,
       "justify_items": null,
       "left": null,
       "margin": null,
       "max_height": null,
       "max_width": null,
       "min_height": null,
       "min_width": null,
       "object_fit": null,
       "object_position": null,
       "order": null,
       "overflow": null,
       "overflow_x": null,
       "overflow_y": null,
       "padding": null,
       "right": null,
       "top": null,
       "visibility": null,
       "width": null
      }
     },
     "258e694fc384453fbf0bbf0f5cb64963": {
      "model_module": "@jupyter-widgets/controls",
      "model_module_version": "1.5.0",
      "model_name": "DescriptionStyleModel",
      "state": {
       "_model_module": "@jupyter-widgets/controls",
       "_model_module_version": "1.5.0",
       "_model_name": "DescriptionStyleModel",
       "_view_count": null,
       "_view_module": "@jupyter-widgets/base",
       "_view_module_version": "1.2.0",
       "_view_name": "StyleView",
       "description_width": ""
      }
     },
     "269ccd1dcc1f4c63ad3121daa31b1aca": {
      "model_module": "@jupyter-widgets/controls",
      "model_module_version": "1.5.0",
      "model_name": "DescriptionStyleModel",
      "state": {
       "_model_module": "@jupyter-widgets/controls",
       "_model_module_version": "1.5.0",
       "_model_name": "DescriptionStyleModel",
       "_view_count": null,
       "_view_module": "@jupyter-widgets/base",
       "_view_module_version": "1.2.0",
       "_view_name": "StyleView",
       "description_width": ""
      }
     },
     "272f659f7539421fbd9b9900124d4fa4": {
      "model_module": "@jupyter-widgets/controls",
      "model_module_version": "1.5.0",
      "model_name": "DescriptionStyleModel",
      "state": {
       "_model_module": "@jupyter-widgets/controls",
       "_model_module_version": "1.5.0",
       "_model_name": "DescriptionStyleModel",
       "_view_count": null,
       "_view_module": "@jupyter-widgets/base",
       "_view_module_version": "1.2.0",
       "_view_name": "StyleView",
       "description_width": ""
      }
     },
     "2b14698ae1954cbd83387c7d3a525081": {
      "model_module": "@jupyter-widgets/base",
      "model_module_version": "1.2.0",
      "model_name": "LayoutModel",
      "state": {
       "_model_module": "@jupyter-widgets/base",
       "_model_module_version": "1.2.0",
       "_model_name": "LayoutModel",
       "_view_count": null,
       "_view_module": "@jupyter-widgets/base",
       "_view_module_version": "1.2.0",
       "_view_name": "LayoutView",
       "align_content": null,
       "align_items": null,
       "align_self": null,
       "border": null,
       "bottom": null,
       "display": null,
       "flex": null,
       "flex_flow": null,
       "grid_area": null,
       "grid_auto_columns": null,
       "grid_auto_flow": null,
       "grid_auto_rows": null,
       "grid_column": null,
       "grid_gap": null,
       "grid_row": null,
       "grid_template_areas": null,
       "grid_template_columns": null,
       "grid_template_rows": null,
       "height": null,
       "justify_content": null,
       "justify_items": null,
       "left": null,
       "margin": null,
       "max_height": null,
       "max_width": null,
       "min_height": null,
       "min_width": null,
       "object_fit": null,
       "object_position": null,
       "order": null,
       "overflow": null,
       "overflow_x": null,
       "overflow_y": null,
       "padding": null,
       "right": null,
       "top": null,
       "visibility": null,
       "width": null
      }
     },
     "2b5fe89387474ed89f1179c470cc7221": {
      "model_module": "@jupyter-widgets/controls",
      "model_module_version": "1.5.0",
      "model_name": "HBoxModel",
      "state": {
       "_dom_classes": [],
       "_model_module": "@jupyter-widgets/controls",
       "_model_module_version": "1.5.0",
       "_model_name": "HBoxModel",
       "_view_count": null,
       "_view_module": "@jupyter-widgets/controls",
       "_view_module_version": "1.5.0",
       "_view_name": "HBoxView",
       "box_style": "",
       "children": [
        "IPY_MODEL_00325000f85b42bc93924dbd9b6a547c",
        "IPY_MODEL_86a544b8913e4c85a632b92c6b52f762",
        "IPY_MODEL_bda060b0ec2f4c14aebb642c0ed420fb"
       ],
       "layout": "IPY_MODEL_8ce703ad9d8c48d2989ba0e380e8bd00"
      }
     },
     "308f11f214e24731a5241da510f8014f": {
      "model_module": "@jupyter-widgets/base",
      "model_module_version": "1.2.0",
      "model_name": "LayoutModel",
      "state": {
       "_model_module": "@jupyter-widgets/base",
       "_model_module_version": "1.2.0",
       "_model_name": "LayoutModel",
       "_view_count": null,
       "_view_module": "@jupyter-widgets/base",
       "_view_module_version": "1.2.0",
       "_view_name": "LayoutView",
       "align_content": null,
       "align_items": null,
       "align_self": null,
       "border": null,
       "bottom": null,
       "display": null,
       "flex": null,
       "flex_flow": null,
       "grid_area": null,
       "grid_auto_columns": null,
       "grid_auto_flow": null,
       "grid_auto_rows": null,
       "grid_column": null,
       "grid_gap": null,
       "grid_row": null,
       "grid_template_areas": null,
       "grid_template_columns": null,
       "grid_template_rows": null,
       "height": null,
       "justify_content": null,
       "justify_items": null,
       "left": null,
       "margin": null,
       "max_height": null,
       "max_width": null,
       "min_height": null,
       "min_width": null,
       "object_fit": null,
       "object_position": null,
       "order": null,
       "overflow": null,
       "overflow_x": null,
       "overflow_y": null,
       "padding": null,
       "right": null,
       "top": null,
       "visibility": null,
       "width": null
      }
     },
     "31f43abb655d4dd493e2767a211029c6": {
      "model_module": "@jupyter-widgets/controls",
      "model_module_version": "1.5.0",
      "model_name": "HTMLModel",
      "state": {
       "_dom_classes": [],
       "_model_module": "@jupyter-widgets/controls",
       "_model_module_version": "1.5.0",
       "_model_name": "HTMLModel",
       "_view_count": null,
       "_view_module": "@jupyter-widgets/controls",
       "_view_module_version": "1.5.0",
       "_view_name": "HTMLView",
       "description": "",
       "description_tooltip": null,
       "layout": "IPY_MODEL_69daaca064144ac087b4275f0c050474",
       "placeholder": "​",
       "style": "IPY_MODEL_f2991539f76745638e9664e544374831",
       "value": " 6.42k/6.42k [00:00&lt;00:00, 476kB/s]"
      }
     },
     "328d50c10be74093a425c753775c6169": {
      "model_module": "@jupyter-widgets/base",
      "model_module_version": "1.2.0",
      "model_name": "LayoutModel",
      "state": {
       "_model_module": "@jupyter-widgets/base",
       "_model_module_version": "1.2.0",
       "_model_name": "LayoutModel",
       "_view_count": null,
       "_view_module": "@jupyter-widgets/base",
       "_view_module_version": "1.2.0",
       "_view_name": "LayoutView",
       "align_content": null,
       "align_items": null,
       "align_self": null,
       "border": null,
       "bottom": null,
       "display": null,
       "flex": null,
       "flex_flow": null,
       "grid_area": null,
       "grid_auto_columns": null,
       "grid_auto_flow": null,
       "grid_auto_rows": null,
       "grid_column": null,
       "grid_gap": null,
       "grid_row": null,
       "grid_template_areas": null,
       "grid_template_columns": null,
       "grid_template_rows": null,
       "height": null,
       "justify_content": null,
       "justify_items": null,
       "left": null,
       "margin": null,
       "max_height": null,
       "max_width": null,
       "min_height": null,
       "min_width": null,
       "object_fit": null,
       "object_position": null,
       "order": null,
       "overflow": null,
       "overflow_x": null,
       "overflow_y": null,
       "padding": null,
       "right": null,
       "top": null,
       "visibility": null,
       "width": null
      }
     },
     "3647af26ca634ef8a2d7301eb51de2a0": {
      "model_module": "@jupyter-widgets/controls",
      "model_module_version": "1.5.0",
      "model_name": "DescriptionStyleModel",
      "state": {
       "_model_module": "@jupyter-widgets/controls",
       "_model_module_version": "1.5.0",
       "_model_name": "DescriptionStyleModel",
       "_view_count": null,
       "_view_module": "@jupyter-widgets/base",
       "_view_module_version": "1.2.0",
       "_view_name": "StyleView",
       "description_width": ""
      }
     },
     "3aeb28ecb4454c34a8ddf2fb3d920ab1": {
      "model_module": "@jupyter-widgets/base",
      "model_module_version": "1.2.0",
      "model_name": "LayoutModel",
      "state": {
       "_model_module": "@jupyter-widgets/base",
       "_model_module_version": "1.2.0",
       "_model_name": "LayoutModel",
       "_view_count": null,
       "_view_module": "@jupyter-widgets/base",
       "_view_module_version": "1.2.0",
       "_view_name": "LayoutView",
       "align_content": null,
       "align_items": null,
       "align_self": null,
       "border": null,
       "bottom": null,
       "display": null,
       "flex": null,
       "flex_flow": null,
       "grid_area": null,
       "grid_auto_columns": null,
       "grid_auto_flow": null,
       "grid_auto_rows": null,
       "grid_column": null,
       "grid_gap": null,
       "grid_row": null,
       "grid_template_areas": null,
       "grid_template_columns": null,
       "grid_template_rows": null,
       "height": null,
       "justify_content": null,
       "justify_items": null,
       "left": null,
       "margin": null,
       "max_height": null,
       "max_width": null,
       "min_height": null,
       "min_width": null,
       "object_fit": null,
       "object_position": null,
       "order": null,
       "overflow": null,
       "overflow_x": null,
       "overflow_y": null,
       "padding": null,
       "right": null,
       "top": null,
       "visibility": null,
       "width": null
      }
     },
     "3cf7cec71e054e0590177b0cb9101997": {
      "model_module": "@jupyter-widgets/controls",
      "model_module_version": "1.5.0",
      "model_name": "ProgressStyleModel",
      "state": {
       "_model_module": "@jupyter-widgets/controls",
       "_model_module_version": "1.5.0",
       "_model_name": "ProgressStyleModel",
       "_view_count": null,
       "_view_module": "@jupyter-widgets/base",
       "_view_module_version": "1.2.0",
       "_view_name": "StyleView",
       "bar_color": null,
       "description_width": ""
      }
     },
     "3d925a45fb3b4338846b9c9f05dfaa07": {
      "model_module": "@jupyter-widgets/controls",
      "model_module_version": "1.5.0",
      "model_name": "DescriptionStyleModel",
      "state": {
       "_model_module": "@jupyter-widgets/controls",
       "_model_module_version": "1.5.0",
       "_model_name": "DescriptionStyleModel",
       "_view_count": null,
       "_view_module": "@jupyter-widgets/base",
       "_view_module_version": "1.2.0",
       "_view_name": "StyleView",
       "description_width": ""
      }
     },
     "400a03f0e9114fe79ebcc0ffddc8d897": {
      "model_module": "@jupyter-widgets/base",
      "model_module_version": "1.2.0",
      "model_name": "LayoutModel",
      "state": {
       "_model_module": "@jupyter-widgets/base",
       "_model_module_version": "1.2.0",
       "_model_name": "LayoutModel",
       "_view_count": null,
       "_view_module": "@jupyter-widgets/base",
       "_view_module_version": "1.2.0",
       "_view_name": "LayoutView",
       "align_content": null,
       "align_items": null,
       "align_self": null,
       "border": null,
       "bottom": null,
       "display": null,
       "flex": null,
       "flex_flow": null,
       "grid_area": null,
       "grid_auto_columns": null,
       "grid_auto_flow": null,
       "grid_auto_rows": null,
       "grid_column": null,
       "grid_gap": null,
       "grid_row": null,
       "grid_template_areas": null,
       "grid_template_columns": null,
       "grid_template_rows": null,
       "height": null,
       "justify_content": null,
       "justify_items": null,
       "left": null,
       "margin": null,
       "max_height": null,
       "max_width": null,
       "min_height": null,
       "min_width": null,
       "object_fit": null,
       "object_position": null,
       "order": null,
       "overflow": null,
       "overflow_x": null,
       "overflow_y": null,
       "padding": null,
       "right": null,
       "top": null,
       "visibility": null,
       "width": null
      }
     },
     "48d1cd8f9a1048559eb2b6b5a6f31182": {
      "model_module": "@jupyter-widgets/controls",
      "model_module_version": "1.5.0",
      "model_name": "HBoxModel",
      "state": {
       "_dom_classes": [],
       "_model_module": "@jupyter-widgets/controls",
       "_model_module_version": "1.5.0",
       "_model_name": "HBoxModel",
       "_view_count": null,
       "_view_module": "@jupyter-widgets/controls",
       "_view_module_version": "1.5.0",
       "_view_name": "HBoxView",
       "box_style": "",
       "children": [
        "IPY_MODEL_8e36fa6f20e04096ac67e503951fcabf",
        "IPY_MODEL_8707b7a65fb145cc9109f20490179eac",
        "IPY_MODEL_dae084af0ae54b288dba8712da662b05"
       ],
       "layout": "IPY_MODEL_88e109f886c9483ab30842cf98224062"
      }
     },
     "4904a9d3ae7745f1b168f715655365f8": {
      "model_module": "@jupyter-widgets/base",
      "model_module_version": "1.2.0",
      "model_name": "LayoutModel",
      "state": {
       "_model_module": "@jupyter-widgets/base",
       "_model_module_version": "1.2.0",
       "_model_name": "LayoutModel",
       "_view_count": null,
       "_view_module": "@jupyter-widgets/base",
       "_view_module_version": "1.2.0",
       "_view_name": "LayoutView",
       "align_content": null,
       "align_items": null,
       "align_self": null,
       "border": null,
       "bottom": null,
       "display": null,
       "flex": null,
       "flex_flow": null,
       "grid_area": null,
       "grid_auto_columns": null,
       "grid_auto_flow": null,
       "grid_auto_rows": null,
       "grid_column": null,
       "grid_gap": null,
       "grid_row": null,
       "grid_template_areas": null,
       "grid_template_columns": null,
       "grid_template_rows": null,
       "height": null,
       "justify_content": null,
       "justify_items": null,
       "left": null,
       "margin": null,
       "max_height": null,
       "max_width": null,
       "min_height": null,
       "min_width": null,
       "object_fit": null,
       "object_position": null,
       "order": null,
       "overflow": null,
       "overflow_x": null,
       "overflow_y": null,
       "padding": null,
       "right": null,
       "top": null,
       "visibility": null,
       "width": null
      }
     },
     "4997c36bab964c408c7b33b082e93035": {
      "model_module": "@jupyter-widgets/controls",
      "model_module_version": "1.5.0",
      "model_name": "HBoxModel",
      "state": {
       "_dom_classes": [],
       "_model_module": "@jupyter-widgets/controls",
       "_model_module_version": "1.5.0",
       "_model_name": "HBoxModel",
       "_view_count": null,
       "_view_module": "@jupyter-widgets/controls",
       "_view_module_version": "1.5.0",
       "_view_name": "HBoxView",
       "box_style": "",
       "children": [
        "IPY_MODEL_e4f1ea86461d44c086d578a765d9bd4b",
        "IPY_MODEL_7156672e886649e992fb404c3918beb9",
        "IPY_MODEL_589ef26e33f445b0af6479cf7c8f4829"
       ],
       "layout": "IPY_MODEL_c93f2cf9fd464016a8d52e59ed885e72"
      }
     },
     "49ecb00433184558a3c8bc8ced42eac9": {
      "model_module": "@jupyter-widgets/base",
      "model_module_version": "1.2.0",
      "model_name": "LayoutModel",
      "state": {
       "_model_module": "@jupyter-widgets/base",
       "_model_module_version": "1.2.0",
       "_model_name": "LayoutModel",
       "_view_count": null,
       "_view_module": "@jupyter-widgets/base",
       "_view_module_version": "1.2.0",
       "_view_name": "LayoutView",
       "align_content": null,
       "align_items": null,
       "align_self": null,
       "border": null,
       "bottom": null,
       "display": null,
       "flex": null,
       "flex_flow": null,
       "grid_area": null,
       "grid_auto_columns": null,
       "grid_auto_flow": null,
       "grid_auto_rows": null,
       "grid_column": null,
       "grid_gap": null,
       "grid_row": null,
       "grid_template_areas": null,
       "grid_template_columns": null,
       "grid_template_rows": null,
       "height": null,
       "justify_content": null,
       "justify_items": null,
       "left": null,
       "margin": null,
       "max_height": null,
       "max_width": null,
       "min_height": null,
       "min_width": null,
       "object_fit": null,
       "object_position": null,
       "order": null,
       "overflow": null,
       "overflow_x": null,
       "overflow_y": null,
       "padding": null,
       "right": null,
       "top": null,
       "visibility": null,
       "width": null
      }
     },
     "51983211aa2843a8ad0a11f5b9779ab8": {
      "model_module": "@jupyter-widgets/controls",
      "model_module_version": "1.5.0",
      "model_name": "HTMLModel",
      "state": {
       "_dom_classes": [],
       "_model_module": "@jupyter-widgets/controls",
       "_model_module_version": "1.5.0",
       "_model_name": "HTMLModel",
       "_view_count": null,
       "_view_module": "@jupyter-widgets/controls",
       "_view_module_version": "1.5.0",
       "_view_name": "HTMLView",
       "description": "",
       "description_tooltip": null,
       "layout": "IPY_MODEL_6bbaf21e326c4c93a963aa6f9423ff7e",
       "placeholder": "​",
       "style": "IPY_MODEL_269ccd1dcc1f4c63ad3121daa31b1aca",
       "value": " 3/3 [00:00&lt;00:00, 308.96it/s]"
      }
     },
     "51b4e84d57c04d91b04b41f34ef5cdde": {
      "model_module": "@jupyter-widgets/controls",
      "model_module_version": "1.5.0",
      "model_name": "ProgressStyleModel",
      "state": {
       "_model_module": "@jupyter-widgets/controls",
       "_model_module_version": "1.5.0",
       "_model_name": "ProgressStyleModel",
       "_view_count": null,
       "_view_module": "@jupyter-widgets/base",
       "_view_module_version": "1.2.0",
       "_view_name": "StyleView",
       "bar_color": null,
       "description_width": ""
      }
     },
     "54f1f09b11f74d8ea9cfc1fa81197aa2": {
      "model_module": "@jupyter-widgets/base",
      "model_module_version": "1.2.0",
      "model_name": "LayoutModel",
      "state": {
       "_model_module": "@jupyter-widgets/base",
       "_model_module_version": "1.2.0",
       "_model_name": "LayoutModel",
       "_view_count": null,
       "_view_module": "@jupyter-widgets/base",
       "_view_module_version": "1.2.0",
       "_view_name": "LayoutView",
       "align_content": null,
       "align_items": null,
       "align_self": null,
       "border": null,
       "bottom": null,
       "display": null,
       "flex": null,
       "flex_flow": null,
       "grid_area": null,
       "grid_auto_columns": null,
       "grid_auto_flow": null,
       "grid_auto_rows": null,
       "grid_column": null,
       "grid_gap": null,
       "grid_row": null,
       "grid_template_areas": null,
       "grid_template_columns": null,
       "grid_template_rows": null,
       "height": null,
       "justify_content": null,
       "justify_items": null,
       "left": null,
       "margin": null,
       "max_height": null,
       "max_width": null,
       "min_height": null,
       "min_width": null,
       "object_fit": null,
       "object_position": null,
       "order": null,
       "overflow": null,
       "overflow_x": null,
       "overflow_y": null,
       "padding": null,
       "right": null,
       "top": null,
       "visibility": null,
       "width": null
      }
     },
     "589ef26e33f445b0af6479cf7c8f4829": {
      "model_module": "@jupyter-widgets/controls",
      "model_module_version": "1.5.0",
      "model_name": "HTMLModel",
      "state": {
       "_dom_classes": [],
       "_model_module": "@jupyter-widgets/controls",
       "_model_module_version": "1.5.0",
       "_model_name": "HTMLModel",
       "_view_count": null,
       "_view_module": "@jupyter-widgets/controls",
       "_view_module_version": "1.5.0",
       "_view_name": "HTMLView",
       "description": "",
       "description_tooltip": null,
       "layout": "IPY_MODEL_608f889daa5c4b59a8bbff8c891b92e4",
       "placeholder": "​",
       "style": "IPY_MODEL_cf40fae176d9441d977ac58104051011",
       "value": " 90447/90447 [00:44&lt;00:00, 1144.87 examples/s]"
      }
     },
     "592c0a780fb94768bded9c60772b54a2": {
      "model_module": "@jupyter-widgets/controls",
      "model_module_version": "1.5.0",
      "model_name": "HBoxModel",
      "state": {
       "_dom_classes": [],
       "_model_module": "@jupyter-widgets/controls",
       "_model_module_version": "1.5.0",
       "_model_name": "HBoxModel",
       "_view_count": null,
       "_view_module": "@jupyter-widgets/controls",
       "_view_module_version": "1.5.0",
       "_view_name": "HBoxView",
       "box_style": "",
       "children": [
        "IPY_MODEL_60bd2c920f3b4dfbb216c963357726fd",
        "IPY_MODEL_eab257dcde0e49869ef842c26ccd1378",
        "IPY_MODEL_31f43abb655d4dd493e2767a211029c6"
       ],
       "layout": "IPY_MODEL_4904a9d3ae7745f1b168f715655365f8"
      }
     },
     "5b874a3f9cbc4c55a576214b14c0a05e": {
      "model_module": "@jupyter-widgets/base",
      "model_module_version": "1.2.0",
      "model_name": "LayoutModel",
      "state": {
       "_model_module": "@jupyter-widgets/base",
       "_model_module_version": "1.2.0",
       "_model_name": "LayoutModel",
       "_view_count": null,
       "_view_module": "@jupyter-widgets/base",
       "_view_module_version": "1.2.0",
       "_view_name": "LayoutView",
       "align_content": null,
       "align_items": null,
       "align_self": null,
       "border": null,
       "bottom": null,
       "display": null,
       "flex": null,
       "flex_flow": null,
       "grid_area": null,
       "grid_auto_columns": null,
       "grid_auto_flow": null,
       "grid_auto_rows": null,
       "grid_column": null,
       "grid_gap": null,
       "grid_row": null,
       "grid_template_areas": null,
       "grid_template_columns": null,
       "grid_template_rows": null,
       "height": null,
       "justify_content": null,
       "justify_items": null,
       "left": null,
       "margin": null,
       "max_height": null,
       "max_width": null,
       "min_height": null,
       "min_width": null,
       "object_fit": null,
       "object_position": null,
       "order": null,
       "overflow": null,
       "overflow_x": null,
       "overflow_y": null,
       "padding": null,
       "right": null,
       "top": null,
       "visibility": null,
       "width": null
      }
     },
     "608f889daa5c4b59a8bbff8c891b92e4": {
      "model_module": "@jupyter-widgets/base",
      "model_module_version": "1.2.0",
      "model_name": "LayoutModel",
      "state": {
       "_model_module": "@jupyter-widgets/base",
       "_model_module_version": "1.2.0",
       "_model_name": "LayoutModel",
       "_view_count": null,
       "_view_module": "@jupyter-widgets/base",
       "_view_module_version": "1.2.0",
       "_view_name": "LayoutView",
       "align_content": null,
       "align_items": null,
       "align_self": null,
       "border": null,
       "bottom": null,
       "display": null,
       "flex": null,
       "flex_flow": null,
       "grid_area": null,
       "grid_auto_columns": null,
       "grid_auto_flow": null,
       "grid_auto_rows": null,
       "grid_column": null,
       "grid_gap": null,
       "grid_row": null,
       "grid_template_areas": null,
       "grid_template_columns": null,
       "grid_template_rows": null,
       "height": null,
       "justify_content": null,
       "justify_items": null,
       "left": null,
       "margin": null,
       "max_height": null,
       "max_width": null,
       "min_height": null,
       "min_width": null,
       "object_fit": null,
       "object_position": null,
       "order": null,
       "overflow": null,
       "overflow_x": null,
       "overflow_y": null,
       "padding": null,
       "right": null,
       "top": null,
       "visibility": null,
       "width": null
      }
     },
     "60bd2c920f3b4dfbb216c963357726fd": {
      "model_module": "@jupyter-widgets/controls",
      "model_module_version": "1.5.0",
      "model_name": "HTMLModel",
      "state": {
       "_dom_classes": [],
       "_model_module": "@jupyter-widgets/controls",
       "_model_module_version": "1.5.0",
       "_model_name": "HTMLModel",
       "_view_count": null,
       "_view_module": "@jupyter-widgets/controls",
       "_view_module_version": "1.5.0",
       "_view_name": "HTMLView",
       "description": "",
       "description_tooltip": null,
       "layout": "IPY_MODEL_9c1a016f0545440aa2501bff7c278a72",
       "placeholder": "​",
       "style": "IPY_MODEL_3647af26ca634ef8a2d7301eb51de2a0",
       "value": "Downloading builder script: 100%"
      }
     },
     "6792729ad9e84d96a9564e35eab680f9": {
      "model_module": "@jupyter-widgets/base",
      "model_module_version": "1.2.0",
      "model_name": "LayoutModel",
      "state": {
       "_model_module": "@jupyter-widgets/base",
       "_model_module_version": "1.2.0",
       "_model_name": "LayoutModel",
       "_view_count": null,
       "_view_module": "@jupyter-widgets/base",
       "_view_module_version": "1.2.0",
       "_view_name": "LayoutView",
       "align_content": null,
       "align_items": null,
       "align_self": null,
       "border": null,
       "bottom": null,
       "display": null,
       "flex": null,
       "flex_flow": null,
       "grid_area": null,
       "grid_auto_columns": null,
       "grid_auto_flow": null,
       "grid_auto_rows": null,
       "grid_column": null,
       "grid_gap": null,
       "grid_row": null,
       "grid_template_areas": null,
       "grid_template_columns": null,
       "grid_template_rows": null,
       "height": null,
       "justify_content": null,
       "justify_items": null,
       "left": null,
       "margin": null,
       "max_height": null,
       "max_width": null,
       "min_height": null,
       "min_width": null,
       "object_fit": null,
       "object_position": null,
       "order": null,
       "overflow": null,
       "overflow_x": null,
       "overflow_y": null,
       "padding": null,
       "right": null,
       "top": null,
       "visibility": null,
       "width": null
      }
     },
     "688263326dc24d3583d5cf46ae463717": {
      "model_module": "@jupyter-widgets/base",
      "model_module_version": "1.2.0",
      "model_name": "LayoutModel",
      "state": {
       "_model_module": "@jupyter-widgets/base",
       "_model_module_version": "1.2.0",
       "_model_name": "LayoutModel",
       "_view_count": null,
       "_view_module": "@jupyter-widgets/base",
       "_view_module_version": "1.2.0",
       "_view_name": "LayoutView",
       "align_content": null,
       "align_items": null,
       "align_self": null,
       "border": null,
       "bottom": null,
       "display": null,
       "flex": null,
       "flex_flow": null,
       "grid_area": null,
       "grid_auto_columns": null,
       "grid_auto_flow": null,
       "grid_auto_rows": null,
       "grid_column": null,
       "grid_gap": null,
       "grid_row": null,
       "grid_template_areas": null,
       "grid_template_columns": null,
       "grid_template_rows": null,
       "height": null,
       "justify_content": null,
       "justify_items": null,
       "left": null,
       "margin": null,
       "max_height": null,
       "max_width": null,
       "min_height": null,
       "min_width": null,
       "object_fit": null,
       "object_position": null,
       "order": null,
       "overflow": null,
       "overflow_x": null,
       "overflow_y": null,
       "padding": null,
       "right": null,
       "top": null,
       "visibility": null,
       "width": null
      }
     },
     "69daaca064144ac087b4275f0c050474": {
      "model_module": "@jupyter-widgets/base",
      "model_module_version": "1.2.0",
      "model_name": "LayoutModel",
      "state": {
       "_model_module": "@jupyter-widgets/base",
       "_model_module_version": "1.2.0",
       "_model_name": "LayoutModel",
       "_view_count": null,
       "_view_module": "@jupyter-widgets/base",
       "_view_module_version": "1.2.0",
       "_view_name": "LayoutView",
       "align_content": null,
       "align_items": null,
       "align_self": null,
       "border": null,
       "bottom": null,
       "display": null,
       "flex": null,
       "flex_flow": null,
       "grid_area": null,
       "grid_auto_columns": null,
       "grid_auto_flow": null,
       "grid_auto_rows": null,
       "grid_column": null,
       "grid_gap": null,
       "grid_row": null,
       "grid_template_areas": null,
       "grid_template_columns": null,
       "grid_template_rows": null,
       "height": null,
       "justify_content": null,
       "justify_items": null,
       "left": null,
       "margin": null,
       "max_height": null,
       "max_width": null,
       "min_height": null,
       "min_width": null,
       "object_fit": null,
       "object_position": null,
       "order": null,
       "overflow": null,
       "overflow_x": null,
       "overflow_y": null,
       "padding": null,
       "right": null,
       "top": null,
       "visibility": null,
       "width": null
      }
     },
     "6b510436d2cf4ff9b0e2120ad3b2c649": {
      "model_module": "@jupyter-widgets/controls",
      "model_module_version": "1.5.0",
      "model_name": "DescriptionStyleModel",
      "state": {
       "_model_module": "@jupyter-widgets/controls",
       "_model_module_version": "1.5.0",
       "_model_name": "DescriptionStyleModel",
       "_view_count": null,
       "_view_module": "@jupyter-widgets/base",
       "_view_module_version": "1.2.0",
       "_view_name": "StyleView",
       "description_width": ""
      }
     },
     "6bbaf21e326c4c93a963aa6f9423ff7e": {
      "model_module": "@jupyter-widgets/base",
      "model_module_version": "1.2.0",
      "model_name": "LayoutModel",
      "state": {
       "_model_module": "@jupyter-widgets/base",
       "_model_module_version": "1.2.0",
       "_model_name": "LayoutModel",
       "_view_count": null,
       "_view_module": "@jupyter-widgets/base",
       "_view_module_version": "1.2.0",
       "_view_name": "LayoutView",
       "align_content": null,
       "align_items": null,
       "align_self": null,
       "border": null,
       "bottom": null,
       "display": null,
       "flex": null,
       "flex_flow": null,
       "grid_area": null,
       "grid_auto_columns": null,
       "grid_auto_flow": null,
       "grid_auto_rows": null,
       "grid_column": null,
       "grid_gap": null,
       "grid_row": null,
       "grid_template_areas": null,
       "grid_template_columns": null,
       "grid_template_rows": null,
       "height": null,
       "justify_content": null,
       "justify_items": null,
       "left": null,
       "margin": null,
       "max_height": null,
       "max_width": null,
       "min_height": null,
       "min_width": null,
       "object_fit": null,
       "object_position": null,
       "order": null,
       "overflow": null,
       "overflow_x": null,
       "overflow_y": null,
       "padding": null,
       "right": null,
       "top": null,
       "visibility": null,
       "width": null
      }
     },
     "6d92082ee782482e8ab823fc761f8eab": {
      "model_module": "@jupyter-widgets/controls",
      "model_module_version": "1.5.0",
      "model_name": "HTMLModel",
      "state": {
       "_dom_classes": [],
       "_model_module": "@jupyter-widgets/controls",
       "_model_module_version": "1.5.0",
       "_model_name": "HTMLModel",
       "_view_count": null,
       "_view_module": "@jupyter-widgets/controls",
       "_view_module_version": "1.5.0",
       "_view_name": "HTMLView",
       "description": "",
       "description_tooltip": null,
       "layout": "IPY_MODEL_a5decedfd2b541df94ba0167319852ed",
       "placeholder": "​",
       "style": "IPY_MODEL_272f659f7539421fbd9b9900124d4fa4",
       "value": "Computing checksums: 100%"
      }
     },
     "7156672e886649e992fb404c3918beb9": {
      "model_module": "@jupyter-widgets/controls",
      "model_module_version": "1.5.0",
      "model_name": "FloatProgressModel",
      "state": {
       "_dom_classes": [],
       "_model_module": "@jupyter-widgets/controls",
       "_model_module_version": "1.5.0",
       "_model_name": "FloatProgressModel",
       "_view_count": null,
       "_view_module": "@jupyter-widgets/controls",
       "_view_module_version": "1.5.0",
       "_view_name": "ProgressView",
       "bar_style": "success",
       "description": "",
       "description_tooltip": null,
       "layout": "IPY_MODEL_5b874a3f9cbc4c55a576214b14c0a05e",
       "max": 90447.0,
       "min": 0.0,
       "orientation": "horizontal",
       "style": "IPY_MODEL_edd69f70c40843a4881dd1eaeb38af7e",
       "value": 90447.0
      }
     },
     "73f81b34a6bd459494b3f8b404695a07": {
      "model_module": "@jupyter-widgets/base",
      "model_module_version": "1.2.0",
      "model_name": "LayoutModel",
      "state": {
       "_model_module": "@jupyter-widgets/base",
       "_model_module_version": "1.2.0",
       "_model_name": "LayoutModel",
       "_view_count": null,
       "_view_module": "@jupyter-widgets/base",
       "_view_module_version": "1.2.0",
       "_view_name": "LayoutView",
       "align_content": null,
       "align_items": null,
       "align_self": null,
       "border": null,
       "bottom": null,
       "display": null,
       "flex": null,
       "flex_flow": null,
       "grid_area": null,
       "grid_auto_columns": null,
       "grid_auto_flow": null,
       "grid_auto_rows": null,
       "grid_column": null,
       "grid_gap": null,
       "grid_row": null,
       "grid_template_areas": null,
       "grid_template_columns": null,
       "grid_template_rows": null,
       "height": null,
       "justify_content": null,
       "justify_items": null,
       "left": null,
       "margin": null,
       "max_height": null,
       "max_width": null,
       "min_height": null,
       "min_width": null,
       "object_fit": null,
       "object_position": null,
       "order": null,
       "overflow": null,
       "overflow_x": null,
       "overflow_y": null,
       "padding": null,
       "right": null,
       "top": null,
       "visibility": null,
       "width": null
      }
     },
     "747ac91984134f1cb36b60f6b1d9d8f7": {
      "model_module": "@jupyter-widgets/base",
      "model_module_version": "1.2.0",
      "model_name": "LayoutModel",
      "state": {
       "_model_module": "@jupyter-widgets/base",
       "_model_module_version": "1.2.0",
       "_model_name": "LayoutModel",
       "_view_count": null,
       "_view_module": "@jupyter-widgets/base",
       "_view_module_version": "1.2.0",
       "_view_name": "LayoutView",
       "align_content": null,
       "align_items": null,
       "align_self": null,
       "border": null,
       "bottom": null,
       "display": null,
       "flex": null,
       "flex_flow": null,
       "grid_area": null,
       "grid_auto_columns": null,
       "grid_auto_flow": null,
       "grid_auto_rows": null,
       "grid_column": null,
       "grid_gap": null,
       "grid_row": null,
       "grid_template_areas": null,
       "grid_template_columns": null,
       "grid_template_rows": null,
       "height": null,
       "justify_content": null,
       "justify_items": null,
       "left": null,
       "margin": null,
       "max_height": null,
       "max_width": null,
       "min_height": null,
       "min_width": null,
       "object_fit": null,
       "object_position": null,
       "order": null,
       "overflow": null,
       "overflow_x": null,
       "overflow_y": null,
       "padding": null,
       "right": null,
       "top": null,
       "visibility": null,
       "width": null
      }
     },
     "7a6bc3a194914825b05dd44410143bd7": {
      "model_module": "@jupyter-widgets/base",
      "model_module_version": "1.2.0",
      "model_name": "LayoutModel",
      "state": {
       "_model_module": "@jupyter-widgets/base",
       "_model_module_version": "1.2.0",
       "_model_name": "LayoutModel",
       "_view_count": null,
       "_view_module": "@jupyter-widgets/base",
       "_view_module_version": "1.2.0",
       "_view_name": "LayoutView",
       "align_content": null,
       "align_items": null,
       "align_self": null,
       "border": null,
       "bottom": null,
       "display": null,
       "flex": null,
       "flex_flow": null,
       "grid_area": null,
       "grid_auto_columns": null,
       "grid_auto_flow": null,
       "grid_auto_rows": null,
       "grid_column": null,
       "grid_gap": null,
       "grid_row": null,
       "grid_template_areas": null,
       "grid_template_columns": null,
       "grid_template_rows": null,
       "height": null,
       "justify_content": null,
       "justify_items": null,
       "left": null,
       "margin": null,
       "max_height": null,
       "max_width": null,
       "min_height": null,
       "min_width": null,
       "object_fit": null,
       "object_position": null,
       "order": null,
       "overflow": null,
       "overflow_x": null,
       "overflow_y": null,
       "padding": null,
       "right": null,
       "top": null,
       "visibility": null,
       "width": null
      }
     },
     "7e3d0f2c237f4ed88d9f73cdee187372": {
      "model_module": "@jupyter-widgets/controls",
      "model_module_version": "1.5.0",
      "model_name": "HTMLModel",
      "state": {
       "_dom_classes": [],
       "_model_module": "@jupyter-widgets/controls",
       "_model_module_version": "1.5.0",
       "_model_name": "HTMLModel",
       "_view_count": null,
       "_view_module": "@jupyter-widgets/controls",
       "_view_module_version": "1.5.0",
       "_view_name": "HTMLView",
       "description": "",
       "description_tooltip": null,
       "layout": "IPY_MODEL_308f11f214e24731a5241da510f8014f",
       "placeholder": "​",
       "style": "IPY_MODEL_c18e9d6f2f4546448d86f26d60fdd321",
       "value": "Downloading data: 100%"
      }
     },
     "81bb1ff9bc734626a46321f761261c1b": {
      "model_module": "@jupyter-widgets/base",
      "model_module_version": "1.2.0",
      "model_name": "LayoutModel",
      "state": {
       "_model_module": "@jupyter-widgets/base",
       "_model_module_version": "1.2.0",
       "_model_name": "LayoutModel",
       "_view_count": null,
       "_view_module": "@jupyter-widgets/base",
       "_view_module_version": "1.2.0",
       "_view_name": "LayoutView",
       "align_content": null,
       "align_items": null,
       "align_self": null,
       "border": null,
       "bottom": null,
       "display": null,
       "flex": null,
       "flex_flow": null,
       "grid_area": null,
       "grid_auto_columns": null,
       "grid_auto_flow": null,
       "grid_auto_rows": null,
       "grid_column": null,
       "grid_gap": null,
       "grid_row": null,
       "grid_template_areas": null,
       "grid_template_columns": null,
       "grid_template_rows": null,
       "height": null,
       "justify_content": null,
       "justify_items": null,
       "left": null,
       "margin": null,
       "max_height": null,
       "max_width": null,
       "min_height": null,
       "min_width": null,
       "object_fit": null,
       "object_position": null,
       "order": null,
       "overflow": null,
       "overflow_x": null,
       "overflow_y": null,
       "padding": null,
       "right": null,
       "top": null,
       "visibility": null,
       "width": null
      }
     },
     "826d0bb018294474b2aa09572a8b4bdb": {
      "model_module": "@jupyter-widgets/controls",
      "model_module_version": "1.5.0",
      "model_name": "DescriptionStyleModel",
      "state": {
       "_model_module": "@jupyter-widgets/controls",
       "_model_module_version": "1.5.0",
       "_model_name": "DescriptionStyleModel",
       "_view_count": null,
       "_view_module": "@jupyter-widgets/base",
       "_view_module_version": "1.2.0",
       "_view_name": "StyleView",
       "description_width": ""
      }
     },
     "8347320f52a544dcbad750043b609a96": {
      "model_module": "@jupyter-widgets/controls",
      "model_module_version": "1.5.0",
      "model_name": "HBoxModel",
      "state": {
       "_dom_classes": [],
       "_model_module": "@jupyter-widgets/controls",
       "_model_module_version": "1.5.0",
       "_model_name": "HBoxModel",
       "_view_count": null,
       "_view_module": "@jupyter-widgets/controls",
       "_view_module_version": "1.5.0",
       "_view_name": "HBoxView",
       "box_style": "",
       "children": [
        "IPY_MODEL_bca1752eda664450ab927eed493775f5",
        "IPY_MODEL_c7a86287c6f349dbb9083788d1dd5dc8",
        "IPY_MODEL_e1fa840d77874f8ca09265dc9b1ef15f"
       ],
       "layout": "IPY_MODEL_73f81b34a6bd459494b3f8b404695a07"
      }
     },
     "84baf8fbdfb247628a638bb86e516901": {
      "model_module": "@jupyter-widgets/controls",
      "model_module_version": "1.5.0",
      "model_name": "HTMLModel",
      "state": {
       "_dom_classes": [],
       "_model_module": "@jupyter-widgets/controls",
       "_model_module_version": "1.5.0",
       "_model_name": "HTMLModel",
       "_view_count": null,
       "_view_module": "@jupyter-widgets/controls",
       "_view_module_version": "1.5.0",
       "_view_name": "HTMLView",
       "description": "",
       "description_tooltip": null,
       "layout": "IPY_MODEL_b2c9a11cfbfe4506a9c929df5f1accfe",
       "placeholder": "​",
       "style": "IPY_MODEL_258e694fc384453fbf0bbf0f5cb64963",
       "value": " 47.5M/47.5M [00:02&lt;00:00, 33.3MB/s]"
      }
     },
     "86a544b8913e4c85a632b92c6b52f762": {
      "model_module": "@jupyter-widgets/controls",
      "model_module_version": "1.5.0",
      "model_name": "FloatProgressModel",
      "state": {
       "_dom_classes": [],
       "_model_module": "@jupyter-widgets/controls",
       "_model_module_version": "1.5.0",
       "_model_name": "FloatProgressModel",
       "_view_count": null,
       "_view_module": "@jupyter-widgets/controls",
       "_view_module_version": "1.5.0",
       "_view_name": "ProgressView",
       "bar_style": "success",
       "description": "",
       "description_tooltip": null,
       "layout": "IPY_MODEL_81bb1ff9bc734626a46321f761261c1b",
       "max": 9193.0,
       "min": 0.0,
       "orientation": "horizontal",
       "style": "IPY_MODEL_0bdf35c246044897a726c5caab22293b",
       "value": 9193.0
      }
     },
     "8707b7a65fb145cc9109f20490179eac": {
      "model_module": "@jupyter-widgets/controls",
      "model_module_version": "1.5.0",
      "model_name": "FloatProgressModel",
      "state": {
       "_dom_classes": [],
       "_model_module": "@jupyter-widgets/controls",
       "_model_module_version": "1.5.0",
       "_model_name": "FloatProgressModel",
       "_view_count": null,
       "_view_module": "@jupyter-widgets/controls",
       "_view_module_version": "1.5.0",
       "_view_name": "ProgressView",
       "bar_style": "success",
       "description": "",
       "description_tooltip": null,
       "layout": "IPY_MODEL_f8048f1d2d464161a560e65a3df2633c",
       "max": 3.0,
       "min": 0.0,
       "orientation": "horizontal",
       "style": "IPY_MODEL_aa2d975829834906861343d1e73d4d0a",
       "value": 3.0
      }
     },
     "87ca0638ac5b48cc856ebd4b45095fb6": {
      "model_module": "@jupyter-widgets/controls",
      "model_module_version": "1.5.0",
      "model_name": "HTMLModel",
      "state": {
       "_dom_classes": [],
       "_model_module": "@jupyter-widgets/controls",
       "_model_module_version": "1.5.0",
       "_model_name": "HTMLModel",
       "_view_count": null,
       "_view_module": "@jupyter-widgets/controls",
       "_view_module_version": "1.5.0",
       "_view_name": "HTMLView",
       "description": "",
       "description_tooltip": null,
       "layout": "IPY_MODEL_54f1f09b11f74d8ea9cfc1fa81197aa2",
       "placeholder": "​",
       "style": "IPY_MODEL_826d0bb018294474b2aa09572a8b4bdb",
       "value": " 7405/7405 [00:03&lt;00:00, 2495.39 examples/s]"
      }
     },
     "88bc5fb16bcc43c7b20998c3c83ae840": {
      "model_module": "@jupyter-widgets/base",
      "model_module_version": "1.2.0",
      "model_name": "LayoutModel",
      "state": {
       "_model_module": "@jupyter-widgets/base",
       "_model_module_version": "1.2.0",
       "_model_name": "LayoutModel",
       "_view_count": null,
       "_view_module": "@jupyter-widgets/base",
       "_view_module_version": "1.2.0",
       "_view_name": "LayoutView",
       "align_content": null,
       "align_items": null,
       "align_self": null,
       "border": null,
       "bottom": null,
       "display": null,
       "flex": null,
       "flex_flow": null,
       "grid_area": null,
       "grid_auto_columns": null,
       "grid_auto_flow": null,
       "grid_auto_rows": null,
       "grid_column": null,
       "grid_gap": null,
       "grid_row": null,
       "grid_template_areas": null,
       "grid_template_columns": null,
       "grid_template_rows": null,
       "height": null,
       "justify_content": null,
       "justify_items": null,
       "left": null,
       "margin": null,
       "max_height": null,
       "max_width": null,
       "min_height": null,
       "min_width": null,
       "object_fit": null,
       "object_position": null,
       "order": null,
       "overflow": null,
       "overflow_x": null,
       "overflow_y": null,
       "padding": null,
       "right": null,
       "top": null,
       "visibility": null,
       "width": null
      }
     },
     "88e109f886c9483ab30842cf98224062": {
      "model_module": "@jupyter-widgets/base",
      "model_module_version": "1.2.0",
      "model_name": "LayoutModel",
      "state": {
       "_model_module": "@jupyter-widgets/base",
       "_model_module_version": "1.2.0",
       "_model_name": "LayoutModel",
       "_view_count": null,
       "_view_module": "@jupyter-widgets/base",
       "_view_module_version": "1.2.0",
       "_view_name": "LayoutView",
       "align_content": null,
       "align_items": null,
       "align_self": null,
       "border": null,
       "bottom": null,
       "display": null,
       "flex": null,
       "flex_flow": null,
       "grid_area": null,
       "grid_auto_columns": null,
       "grid_auto_flow": null,
       "grid_auto_rows": null,
       "grid_column": null,
       "grid_gap": null,
       "grid_row": null,
       "grid_template_areas": null,
       "grid_template_columns": null,
       "grid_template_rows": null,
       "height": null,
       "justify_content": null,
       "justify_items": null,
       "left": null,
       "margin": null,
       "max_height": null,
       "max_width": null,
       "min_height": null,
       "min_width": null,
       "object_fit": null,
       "object_position": null,
       "order": null,
       "overflow": null,
       "overflow_x": null,
       "overflow_y": null,
       "padding": null,
       "right": null,
       "top": null,
       "visibility": null,
       "width": null
      }
     },
     "8bdf9c543f3e416cb889110f9607d793": {
      "model_module": "@jupyter-widgets/controls",
      "model_module_version": "1.5.0",
      "model_name": "FloatProgressModel",
      "state": {
       "_dom_classes": [],
       "_model_module": "@jupyter-widgets/controls",
       "_model_module_version": "1.5.0",
       "_model_name": "FloatProgressModel",
       "_view_count": null,
       "_view_module": "@jupyter-widgets/controls",
       "_view_module_version": "1.5.0",
       "_view_name": "ProgressView",
       "bar_style": "success",
       "description": "",
       "description_tooltip": null,
       "layout": "IPY_MODEL_747ac91984134f1cb36b60f6b1d9d8f7",
       "max": 47454698.0,
       "min": 0.0,
       "orientation": "horizontal",
       "style": "IPY_MODEL_3cf7cec71e054e0590177b0cb9101997",
       "value": 47454698.0
      }
     },
     "8c941db3fdbf4fb480b734b1c5c61ea5": {
      "model_module": "@jupyter-widgets/controls",
      "model_module_version": "1.5.0",
      "model_name": "DescriptionStyleModel",
      "state": {
       "_model_module": "@jupyter-widgets/controls",
       "_model_module_version": "1.5.0",
       "_model_name": "DescriptionStyleModel",
       "_view_count": null,
       "_view_module": "@jupyter-widgets/base",
       "_view_module_version": "1.2.0",
       "_view_name": "StyleView",
       "description_width": ""
      }
     },
     "8ce703ad9d8c48d2989ba0e380e8bd00": {
      "model_module": "@jupyter-widgets/base",
      "model_module_version": "1.2.0",
      "model_name": "LayoutModel",
      "state": {
       "_model_module": "@jupyter-widgets/base",
       "_model_module_version": "1.2.0",
       "_model_name": "LayoutModel",
       "_view_count": null,
       "_view_module": "@jupyter-widgets/base",
       "_view_module_version": "1.2.0",
       "_view_name": "LayoutView",
       "align_content": null,
       "align_items": null,
       "align_self": null,
       "border": null,
       "bottom": null,
       "display": null,
       "flex": null,
       "flex_flow": null,
       "grid_area": null,
       "grid_auto_columns": null,
       "grid_auto_flow": null,
       "grid_auto_rows": null,
       "grid_column": null,
       "grid_gap": null,
       "grid_row": null,
       "grid_template_areas": null,
       "grid_template_columns": null,
       "grid_template_rows": null,
       "height": null,
       "justify_content": null,
       "justify_items": null,
       "left": null,
       "margin": null,
       "max_height": null,
       "max_width": null,
       "min_height": null,
       "min_width": null,
       "object_fit": null,
       "object_position": null,
       "order": null,
       "overflow": null,
       "overflow_x": null,
       "overflow_y": null,
       "padding": null,
       "right": null,
       "top": null,
       "visibility": null,
       "width": null
      }
     },
     "8e36fa6f20e04096ac67e503951fcabf": {
      "model_module": "@jupyter-widgets/controls",
      "model_module_version": "1.5.0",
      "model_name": "HTMLModel",
      "state": {
       "_dom_classes": [],
       "_model_module": "@jupyter-widgets/controls",
       "_model_module_version": "1.5.0",
       "_model_name": "HTMLModel",
       "_view_count": null,
       "_view_module": "@jupyter-widgets/controls",
       "_view_module_version": "1.5.0",
       "_view_name": "HTMLView",
       "description": "",
       "description_tooltip": null,
       "layout": "IPY_MODEL_c292414d2a6248c7bbd7e500185fe708",
       "placeholder": "​",
       "style": "IPY_MODEL_c8b4825b04214bebbc83d9c603735e4d",
       "value": "Downloading data files: 100%"
      }
     },
     "91d6f3e9cb7c4cefb5d65cd2b8b9cf7c": {
      "model_module": "@jupyter-widgets/controls",
      "model_module_version": "1.5.0",
      "model_name": "ProgressStyleModel",
      "state": {
       "_model_module": "@jupyter-widgets/controls",
       "_model_module_version": "1.5.0",
       "_model_name": "ProgressStyleModel",
       "_view_count": null,
       "_view_module": "@jupyter-widgets/base",
       "_view_module_version": "1.2.0",
       "_view_name": "StyleView",
       "bar_color": null,
       "description_width": ""
      }
     },
     "95f3979801154b58b572cfe8dda382a0": {
      "model_module": "@jupyter-widgets/controls",
      "model_module_version": "1.5.0",
      "model_name": "HTMLModel",
      "state": {
       "_dom_classes": [],
       "_model_module": "@jupyter-widgets/controls",
       "_model_module_version": "1.5.0",
       "_model_name": "HTMLModel",
       "_view_count": null,
       "_view_module": "@jupyter-widgets/controls",
       "_view_module_version": "1.5.0",
       "_view_name": "HTMLView",
       "description": "",
       "description_tooltip": null,
       "layout": "IPY_MODEL_fbf060e2e3824ca99b049843406e9041",
       "placeholder": "​",
       "style": "IPY_MODEL_b300e629906246fcb116bd4f4089b5ee",
       "value": "Generating validation split: 100%"
      }
     },
     "97daaee746ba4a5c9111162b9266a4b0": {
      "model_module": "@jupyter-widgets/controls",
      "model_module_version": "1.5.0",
      "model_name": "HTMLModel",
      "state": {
       "_dom_classes": [],
       "_model_module": "@jupyter-widgets/controls",
       "_model_module_version": "1.5.0",
       "_model_name": "HTMLModel",
       "_view_count": null,
       "_view_module": "@jupyter-widgets/controls",
       "_view_module_version": "1.5.0",
       "_view_name": "HTMLView",
       "description": "",
       "description_tooltip": null,
       "layout": "IPY_MODEL_eac14805d472412e945c51819f74dcfa",
       "placeholder": "​",
       "style": "IPY_MODEL_eae6322b7da14efe8e46b3df18573b04",
       "value": "Downloading data: 100%"
      }
     },
     "98407e4381b84ae5bf3eaa8f8dc1a081": {
      "model_module": "@jupyter-widgets/controls",
      "model_module_version": "1.5.0",
      "model_name": "HBoxModel",
      "state": {
       "_dom_classes": [],
       "_model_module": "@jupyter-widgets/controls",
       "_model_module_version": "1.5.0",
       "_model_name": "HBoxModel",
       "_view_count": null,
       "_view_module": "@jupyter-widgets/controls",
       "_view_module_version": "1.5.0",
       "_view_name": "HBoxView",
       "box_style": "",
       "children": [
        "IPY_MODEL_6d92082ee782482e8ab823fc761f8eab",
        "IPY_MODEL_c0b67e9bb6fb4bebb230cc0064da2fa3",
        "IPY_MODEL_51983211aa2843a8ad0a11f5b9779ab8"
       ],
       "layout": "IPY_MODEL_88bc5fb16bcc43c7b20998c3c83ae840"
      }
     },
     "99d514f3877948c4b2eb63725ee49040": {
      "model_module": "@jupyter-widgets/controls",
      "model_module_version": "1.5.0",
      "model_name": "DescriptionStyleModel",
      "state": {
       "_model_module": "@jupyter-widgets/controls",
       "_model_module_version": "1.5.0",
       "_model_name": "DescriptionStyleModel",
       "_view_count": null,
       "_view_module": "@jupyter-widgets/base",
       "_view_module_version": "1.2.0",
       "_view_name": "StyleView",
       "description_width": ""
      }
     },
     "9c1a016f0545440aa2501bff7c278a72": {
      "model_module": "@jupyter-widgets/base",
      "model_module_version": "1.2.0",
      "model_name": "LayoutModel",
      "state": {
       "_model_module": "@jupyter-widgets/base",
       "_model_module_version": "1.2.0",
       "_model_name": "LayoutModel",
       "_view_count": null,
       "_view_module": "@jupyter-widgets/base",
       "_view_module_version": "1.2.0",
       "_view_name": "LayoutView",
       "align_content": null,
       "align_items": null,
       "align_self": null,
       "border": null,
       "bottom": null,
       "display": null,
       "flex": null,
       "flex_flow": null,
       "grid_area": null,
       "grid_auto_columns": null,
       "grid_auto_flow": null,
       "grid_auto_rows": null,
       "grid_column": null,
       "grid_gap": null,
       "grid_row": null,
       "grid_template_areas": null,
       "grid_template_columns": null,
       "grid_template_rows": null,
       "height": null,
       "justify_content": null,
       "justify_items": null,
       "left": null,
       "margin": null,
       "max_height": null,
       "max_width": null,
       "min_height": null,
       "min_width": null,
       "object_fit": null,
       "object_position": null,
       "order": null,
       "overflow": null,
       "overflow_x": null,
       "overflow_y": null,
       "padding": null,
       "right": null,
       "top": null,
       "visibility": null,
       "width": null
      }
     },
     "9c1a1c456dfa4abd9a4f10b05edc0ad2": {
      "model_module": "@jupyter-widgets/controls",
      "model_module_version": "1.5.0",
      "model_name": "DescriptionStyleModel",
      "state": {
       "_model_module": "@jupyter-widgets/controls",
       "_model_module_version": "1.5.0",
       "_model_name": "DescriptionStyleModel",
       "_view_count": null,
       "_view_module": "@jupyter-widgets/base",
       "_view_module_version": "1.2.0",
       "_view_name": "StyleView",
       "description_width": ""
      }
     },
     "9ce8b03305cc40d7b0c7e0fee6607436": {
      "model_module": "@jupyter-widgets/base",
      "model_module_version": "1.2.0",
      "model_name": "LayoutModel",
      "state": {
       "_model_module": "@jupyter-widgets/base",
       "_model_module_version": "1.2.0",
       "_model_name": "LayoutModel",
       "_view_count": null,
       "_view_module": "@jupyter-widgets/base",
       "_view_module_version": "1.2.0",
       "_view_name": "LayoutView",
       "align_content": null,
       "align_items": null,
       "align_self": null,
       "border": null,
       "bottom": null,
       "display": null,
       "flex": null,
       "flex_flow": null,
       "grid_area": null,
       "grid_auto_columns": null,
       "grid_auto_flow": null,
       "grid_auto_rows": null,
       "grid_column": null,
       "grid_gap": null,
       "grid_row": null,
       "grid_template_areas": null,
       "grid_template_columns": null,
       "grid_template_rows": null,
       "height": null,
       "justify_content": null,
       "justify_items": null,
       "left": null,
       "margin": null,
       "max_height": null,
       "max_width": null,
       "min_height": null,
       "min_width": null,
       "object_fit": null,
       "object_position": null,
       "order": null,
       "overflow": null,
       "overflow_x": null,
       "overflow_y": null,
       "padding": null,
       "right": null,
       "top": null,
       "visibility": null,
       "width": null
      }
     },
     "9e688bd4c1d4440fbdfa452f97607bed": {
      "model_module": "@jupyter-widgets/base",
      "model_module_version": "1.2.0",
      "model_name": "LayoutModel",
      "state": {
       "_model_module": "@jupyter-widgets/base",
       "_model_module_version": "1.2.0",
       "_model_name": "LayoutModel",
       "_view_count": null,
       "_view_module": "@jupyter-widgets/base",
       "_view_module_version": "1.2.0",
       "_view_name": "LayoutView",
       "align_content": null,
       "align_items": null,
       "align_self": null,
       "border": null,
       "bottom": null,
       "display": null,
       "flex": null,
       "flex_flow": null,
       "grid_area": null,
       "grid_auto_columns": null,
       "grid_auto_flow": null,
       "grid_auto_rows": null,
       "grid_column": null,
       "grid_gap": null,
       "grid_row": null,
       "grid_template_areas": null,
       "grid_template_columns": null,
       "grid_template_rows": null,
       "height": null,
       "justify_content": null,
       "justify_items": null,
       "left": null,
       "margin": null,
       "max_height": null,
       "max_width": null,
       "min_height": null,
       "min_width": null,
       "object_fit": null,
       "object_position": null,
       "order": null,
       "overflow": null,
       "overflow_x": null,
       "overflow_y": null,
       "padding": null,
       "right": null,
       "top": null,
       "visibility": null,
       "width": null
      }
     },
     "a116acc7d82d41b7ad2585b26766a4e2": {
      "model_module": "@jupyter-widgets/controls",
      "model_module_version": "1.5.0",
      "model_name": "HBoxModel",
      "state": {
       "_dom_classes": [],
       "_model_module": "@jupyter-widgets/controls",
       "_model_module_version": "1.5.0",
       "_model_name": "HBoxModel",
       "_view_count": null,
       "_view_module": "@jupyter-widgets/controls",
       "_view_module_version": "1.5.0",
       "_view_name": "HBoxView",
       "box_style": "",
       "children": [
        "IPY_MODEL_7e3d0f2c237f4ed88d9f73cdee187372",
        "IPY_MODEL_137b26661c8a40ca8ad5c295c73c7e39",
        "IPY_MODEL_c319cb34f67745ab8581bd8f700f8448"
       ],
       "layout": "IPY_MODEL_688263326dc24d3583d5cf46ae463717"
      }
     },
     "a4420ff5379044a19522df04745ef0a6": {
      "model_module": "@jupyter-widgets/base",
      "model_module_version": "1.2.0",
      "model_name": "LayoutModel",
      "state": {
       "_model_module": "@jupyter-widgets/base",
       "_model_module_version": "1.2.0",
       "_model_name": "LayoutModel",
       "_view_count": null,
       "_view_module": "@jupyter-widgets/base",
       "_view_module_version": "1.2.0",
       "_view_name": "LayoutView",
       "align_content": null,
       "align_items": null,
       "align_self": null,
       "border": null,
       "bottom": null,
       "display": null,
       "flex": null,
       "flex_flow": null,
       "grid_area": null,
       "grid_auto_columns": null,
       "grid_auto_flow": null,
       "grid_auto_rows": null,
       "grid_column": null,
       "grid_gap": null,
       "grid_row": null,
       "grid_template_areas": null,
       "grid_template_columns": null,
       "grid_template_rows": null,
       "height": null,
       "justify_content": null,
       "justify_items": null,
       "left": null,
       "margin": null,
       "max_height": null,
       "max_width": null,
       "min_height": null,
       "min_width": null,
       "object_fit": null,
       "object_position": null,
       "order": null,
       "overflow": null,
       "overflow_x": null,
       "overflow_y": null,
       "padding": null,
       "right": null,
       "top": null,
       "visibility": null,
       "width": null
      }
     },
     "a5decedfd2b541df94ba0167319852ed": {
      "model_module": "@jupyter-widgets/base",
      "model_module_version": "1.2.0",
      "model_name": "LayoutModel",
      "state": {
       "_model_module": "@jupyter-widgets/base",
       "_model_module_version": "1.2.0",
       "_model_name": "LayoutModel",
       "_view_count": null,
       "_view_module": "@jupyter-widgets/base",
       "_view_module_version": "1.2.0",
       "_view_name": "LayoutView",
       "align_content": null,
       "align_items": null,
       "align_self": null,
       "border": null,
       "bottom": null,
       "display": null,
       "flex": null,
       "flex_flow": null,
       "grid_area": null,
       "grid_auto_columns": null,
       "grid_auto_flow": null,
       "grid_auto_rows": null,
       "grid_column": null,
       "grid_gap": null,
       "grid_row": null,
       "grid_template_areas": null,
       "grid_template_columns": null,
       "grid_template_rows": null,
       "height": null,
       "justify_content": null,
       "justify_items": null,
       "left": null,
       "margin": null,
       "max_height": null,
       "max_width": null,
       "min_height": null,
       "min_width": null,
       "object_fit": null,
       "object_position": null,
       "order": null,
       "overflow": null,
       "overflow_x": null,
       "overflow_y": null,
       "padding": null,
       "right": null,
       "top": null,
       "visibility": null,
       "width": null
      }
     },
     "a8508a4f306e4ac996c367d9b99588fd": {
      "model_module": "@jupyter-widgets/base",
      "model_module_version": "1.2.0",
      "model_name": "LayoutModel",
      "state": {
       "_model_module": "@jupyter-widgets/base",
       "_model_module_version": "1.2.0",
       "_model_name": "LayoutModel",
       "_view_count": null,
       "_view_module": "@jupyter-widgets/base",
       "_view_module_version": "1.2.0",
       "_view_name": "LayoutView",
       "align_content": null,
       "align_items": null,
       "align_self": null,
       "border": null,
       "bottom": null,
       "display": null,
       "flex": null,
       "flex_flow": null,
       "grid_area": null,
       "grid_auto_columns": null,
       "grid_auto_flow": null,
       "grid_auto_rows": null,
       "grid_column": null,
       "grid_gap": null,
       "grid_row": null,
       "grid_template_areas": null,
       "grid_template_columns": null,
       "grid_template_rows": null,
       "height": null,
       "justify_content": null,
       "justify_items": null,
       "left": null,
       "margin": null,
       "max_height": null,
       "max_width": null,
       "min_height": null,
       "min_width": null,
       "object_fit": null,
       "object_position": null,
       "order": null,
       "overflow": null,
       "overflow_x": null,
       "overflow_y": null,
       "padding": null,
       "right": null,
       "top": null,
       "visibility": null,
       "width": null
      }
     },
     "a8808cff39464ed6be624fa2ac0ab0dc": {
      "model_module": "@jupyter-widgets/controls",
      "model_module_version": "1.5.0",
      "model_name": "HTMLModel",
      "state": {
       "_dom_classes": [],
       "_model_module": "@jupyter-widgets/controls",
       "_model_module_version": "1.5.0",
       "_model_name": "HTMLModel",
       "_view_count": null,
       "_view_module": "@jupyter-widgets/controls",
       "_view_module_version": "1.5.0",
       "_view_name": "HTMLView",
       "description": "",
       "description_tooltip": null,
       "layout": "IPY_MODEL_dbe83b20c39747709ab5170313ede313",
       "placeholder": "​",
       "style": "IPY_MODEL_6b510436d2cf4ff9b0e2120ad3b2c649",
       "value": "Generating test split: 100%"
      }
     },
     "a88279adabc1441a8e023734decaee74": {
      "model_module": "@jupyter-widgets/base",
      "model_module_version": "1.2.0",
      "model_name": "LayoutModel",
      "state": {
       "_model_module": "@jupyter-widgets/base",
       "_model_module_version": "1.2.0",
       "_model_name": "LayoutModel",
       "_view_count": null,
       "_view_module": "@jupyter-widgets/base",
       "_view_module_version": "1.2.0",
       "_view_name": "LayoutView",
       "align_content": null,
       "align_items": null,
       "align_self": null,
       "border": null,
       "bottom": null,
       "display": null,
       "flex": null,
       "flex_flow": null,
       "grid_area": null,
       "grid_auto_columns": null,
       "grid_auto_flow": null,
       "grid_auto_rows": null,
       "grid_column": null,
       "grid_gap": null,
       "grid_row": null,
       "grid_template_areas": null,
       "grid_template_columns": null,
       "grid_template_rows": null,
       "height": null,
       "justify_content": null,
       "justify_items": null,
       "left": null,
       "margin": null,
       "max_height": null,
       "max_width": null,
       "min_height": null,
       "min_width": null,
       "object_fit": null,
       "object_position": null,
       "order": null,
       "overflow": null,
       "overflow_x": null,
       "overflow_y": null,
       "padding": null,
       "right": null,
       "top": null,
       "visibility": null,
       "width": null
      }
     },
     "aa2d975829834906861343d1e73d4d0a": {
      "model_module": "@jupyter-widgets/controls",
      "model_module_version": "1.5.0",
      "model_name": "ProgressStyleModel",
      "state": {
       "_model_module": "@jupyter-widgets/controls",
       "_model_module_version": "1.5.0",
       "_model_name": "ProgressStyleModel",
       "_view_count": null,
       "_view_module": "@jupyter-widgets/base",
       "_view_module_version": "1.2.0",
       "_view_name": "StyleView",
       "bar_color": null,
       "description_width": ""
      }
     },
     "ab74d2e463ea4a2d83d78239b991e1d2": {
      "model_module": "@jupyter-widgets/controls",
      "model_module_version": "1.5.0",
      "model_name": "ProgressStyleModel",
      "state": {
       "_model_module": "@jupyter-widgets/controls",
       "_model_module_version": "1.5.0",
       "_model_name": "ProgressStyleModel",
       "_view_count": null,
       "_view_module": "@jupyter-widgets/base",
       "_view_module_version": "1.2.0",
       "_view_name": "StyleView",
       "bar_color": null,
       "description_width": ""
      }
     },
     "aeb625d9ff3d4b9c8e209dae4253df5a": {
      "model_module": "@jupyter-widgets/controls",
      "model_module_version": "1.5.0",
      "model_name": "FloatProgressModel",
      "state": {
       "_dom_classes": [],
       "_model_module": "@jupyter-widgets/controls",
       "_model_module_version": "1.5.0",
       "_model_name": "FloatProgressModel",
       "_view_count": null,
       "_view_module": "@jupyter-widgets/controls",
       "_view_module_version": "1.5.0",
       "_view_name": "ProgressView",
       "bar_style": "success",
       "description": "",
       "description_tooltip": null,
       "layout": "IPY_MODEL_6792729ad9e84d96a9564e35eab680f9",
       "max": 7405.0,
       "min": 0.0,
       "orientation": "horizontal",
       "style": "IPY_MODEL_91d6f3e9cb7c4cefb5d65cd2b8b9cf7c",
       "value": 7405.0
      }
     },
     "b2c9a11cfbfe4506a9c929df5f1accfe": {
      "model_module": "@jupyter-widgets/base",
      "model_module_version": "1.2.0",
      "model_name": "LayoutModel",
      "state": {
       "_model_module": "@jupyter-widgets/base",
       "_model_module_version": "1.2.0",
       "_model_name": "LayoutModel",
       "_view_count": null,
       "_view_module": "@jupyter-widgets/base",
       "_view_module_version": "1.2.0",
       "_view_name": "LayoutView",
       "align_content": null,
       "align_items": null,
       "align_self": null,
       "border": null,
       "bottom": null,
       "display": null,
       "flex": null,
       "flex_flow": null,
       "grid_area": null,
       "grid_auto_columns": null,
       "grid_auto_flow": null,
       "grid_auto_rows": null,
       "grid_column": null,
       "grid_gap": null,
       "grid_row": null,
       "grid_template_areas": null,
       "grid_template_columns": null,
       "grid_template_rows": null,
       "height": null,
       "justify_content": null,
       "justify_items": null,
       "left": null,
       "margin": null,
       "max_height": null,
       "max_width": null,
       "min_height": null,
       "min_width": null,
       "object_fit": null,
       "object_position": null,
       "order": null,
       "overflow": null,
       "overflow_x": null,
       "overflow_y": null,
       "padding": null,
       "right": null,
       "top": null,
       "visibility": null,
       "width": null
      }
     },
     "b300e629906246fcb116bd4f4089b5ee": {
      "model_module": "@jupyter-widgets/controls",
      "model_module_version": "1.5.0",
      "model_name": "DescriptionStyleModel",
      "state": {
       "_model_module": "@jupyter-widgets/controls",
       "_model_module_version": "1.5.0",
       "_model_name": "DescriptionStyleModel",
       "_view_count": null,
       "_view_module": "@jupyter-widgets/base",
       "_view_module_version": "1.2.0",
       "_view_name": "StyleView",
       "description_width": ""
      }
     },
     "b9c3dc02e8ea40d1a293a340aaf20ecd": {
      "model_module": "@jupyter-widgets/controls",
      "model_module_version": "1.5.0",
      "model_name": "HBoxModel",
      "state": {
       "_dom_classes": [],
       "_model_module": "@jupyter-widgets/controls",
       "_model_module_version": "1.5.0",
       "_model_name": "HBoxModel",
       "_view_count": null,
       "_view_module": "@jupyter-widgets/controls",
       "_view_module_version": "1.5.0",
       "_view_name": "HBoxView",
       "box_style": "",
       "children": [
        "IPY_MODEL_95f3979801154b58b572cfe8dda382a0",
        "IPY_MODEL_aeb625d9ff3d4b9c8e209dae4253df5a",
        "IPY_MODEL_87ca0638ac5b48cc856ebd4b45095fb6"
       ],
       "layout": "IPY_MODEL_2183198ac01547b6bfae67145baf5f37"
      }
     },
     "bca1752eda664450ab927eed493775f5": {
      "model_module": "@jupyter-widgets/controls",
      "model_module_version": "1.5.0",
      "model_name": "HTMLModel",
      "state": {
       "_dom_classes": [],
       "_model_module": "@jupyter-widgets/controls",
       "_model_module_version": "1.5.0",
       "_model_name": "HTMLModel",
       "_view_count": null,
       "_view_module": "@jupyter-widgets/controls",
       "_view_module_version": "1.5.0",
       "_view_name": "HTMLView",
       "description": "",
       "description_tooltip": null,
       "layout": "IPY_MODEL_a8508a4f306e4ac996c367d9b99588fd",
       "placeholder": "​",
       "style": "IPY_MODEL_99d514f3877948c4b2eb63725ee49040",
       "value": "Downloading data: 100%"
      }
     },
     "bda060b0ec2f4c14aebb642c0ed420fb": {
      "model_module": "@jupyter-widgets/controls",
      "model_module_version": "1.5.0",
      "model_name": "HTMLModel",
      "state": {
       "_dom_classes": [],
       "_model_module": "@jupyter-widgets/controls",
       "_model_module_version": "1.5.0",
       "_model_name": "HTMLModel",
       "_view_count": null,
       "_view_module": "@jupyter-widgets/controls",
       "_view_module_version": "1.5.0",
       "_view_name": "HTMLView",
       "description": "",
       "description_tooltip": null,
       "layout": "IPY_MODEL_0c6db09127a4465db03f4559e7c4da19",
       "placeholder": "​",
       "style": "IPY_MODEL_fcb28462f9374a709ac190337f3a1d5a",
       "value": " 9.19k/9.19k [00:00&lt;00:00, 613kB/s]"
      }
     },
     "c0b67e9bb6fb4bebb230cc0064da2fa3": {
      "model_module": "@jupyter-widgets/controls",
      "model_module_version": "1.5.0",
      "model_name": "FloatProgressModel",
      "state": {
       "_dom_classes": [],
       "_model_module": "@jupyter-widgets/controls",
       "_model_module_version": "1.5.0",
       "_model_name": "FloatProgressModel",
       "_view_count": null,
       "_view_module": "@jupyter-widgets/controls",
       "_view_module_version": "1.5.0",
       "_view_name": "ProgressView",
       "bar_style": "success",
       "description": "",
       "description_tooltip": null,
       "layout": "IPY_MODEL_2b14698ae1954cbd83387c7d3a525081",
       "max": 3.0,
       "min": 0.0,
       "orientation": "horizontal",
       "style": "IPY_MODEL_16d51d0c89774c2a8b165f9c73319273",
       "value": 3.0
      }
     },
     "c18e9d6f2f4546448d86f26d60fdd321": {
      "model_module": "@jupyter-widgets/controls",
      "model_module_version": "1.5.0",
      "model_name": "DescriptionStyleModel",
      "state": {
       "_model_module": "@jupyter-widgets/controls",
       "_model_module_version": "1.5.0",
       "_model_name": "DescriptionStyleModel",
       "_view_count": null,
       "_view_module": "@jupyter-widgets/base",
       "_view_module_version": "1.2.0",
       "_view_name": "StyleView",
       "description_width": ""
      }
     },
     "c292414d2a6248c7bbd7e500185fe708": {
      "model_module": "@jupyter-widgets/base",
      "model_module_version": "1.2.0",
      "model_name": "LayoutModel",
      "state": {
       "_model_module": "@jupyter-widgets/base",
       "_model_module_version": "1.2.0",
       "_model_name": "LayoutModel",
       "_view_count": null,
       "_view_module": "@jupyter-widgets/base",
       "_view_module_version": "1.2.0",
       "_view_name": "LayoutView",
       "align_content": null,
       "align_items": null,
       "align_self": null,
       "border": null,
       "bottom": null,
       "display": null,
       "flex": null,
       "flex_flow": null,
       "grid_area": null,
       "grid_auto_columns": null,
       "grid_auto_flow": null,
       "grid_auto_rows": null,
       "grid_column": null,
       "grid_gap": null,
       "grid_row": null,
       "grid_template_areas": null,
       "grid_template_columns": null,
       "grid_template_rows": null,
       "height": null,
       "justify_content": null,
       "justify_items": null,
       "left": null,
       "margin": null,
       "max_height": null,
       "max_width": null,
       "min_height": null,
       "min_width": null,
       "object_fit": null,
       "object_position": null,
       "order": null,
       "overflow": null,
       "overflow_x": null,
       "overflow_y": null,
       "padding": null,
       "right": null,
       "top": null,
       "visibility": null,
       "width": null
      }
     },
     "c319cb34f67745ab8581bd8f700f8448": {
      "model_module": "@jupyter-widgets/controls",
      "model_module_version": "1.5.0",
      "model_name": "HTMLModel",
      "state": {
       "_dom_classes": [],
       "_model_module": "@jupyter-widgets/controls",
       "_model_module_version": "1.5.0",
       "_model_name": "HTMLModel",
       "_view_count": null,
       "_view_module": "@jupyter-widgets/controls",
       "_view_module_version": "1.5.0",
       "_view_name": "HTMLView",
       "description": "",
       "description_tooltip": null,
       "layout": "IPY_MODEL_3aeb28ecb4454c34a8ddf2fb3d920ab1",
       "placeholder": "​",
       "style": "IPY_MODEL_9c1a1c456dfa4abd9a4f10b05edc0ad2",
       "value": " 46.2M/46.2M [00:02&lt;00:00, 33.7MB/s]"
      }
     },
     "c471eb63eda64933a1d0b556bb6660d2": {
      "model_module": "@jupyter-widgets/controls",
      "model_module_version": "1.5.0",
      "model_name": "ProgressStyleModel",
      "state": {
       "_model_module": "@jupyter-widgets/controls",
       "_model_module_version": "1.5.0",
       "_model_name": "ProgressStyleModel",
       "_view_count": null,
       "_view_module": "@jupyter-widgets/base",
       "_view_module_version": "1.2.0",
       "_view_name": "StyleView",
       "bar_color": null,
       "description_width": ""
      }
     },
     "c5a43bdab0874f209a12957d196c16e6": {
      "model_module": "@jupyter-widgets/controls",
      "model_module_version": "1.5.0",
      "model_name": "DescriptionStyleModel",
      "state": {
       "_model_module": "@jupyter-widgets/controls",
       "_model_module_version": "1.5.0",
       "_model_name": "DescriptionStyleModel",
       "_view_count": null,
       "_view_module": "@jupyter-widgets/base",
       "_view_module_version": "1.2.0",
       "_view_name": "StyleView",
       "description_width": ""
      }
     },
     "c7a86287c6f349dbb9083788d1dd5dc8": {
      "model_module": "@jupyter-widgets/controls",
      "model_module_version": "1.5.0",
      "model_name": "FloatProgressModel",
      "state": {
       "_dom_classes": [],
       "_model_module": "@jupyter-widgets/controls",
       "_model_module_version": "1.5.0",
       "_model_name": "FloatProgressModel",
       "_view_count": null,
       "_view_module": "@jupyter-widgets/controls",
       "_view_module_version": "1.5.0",
       "_view_name": "ProgressView",
       "bar_style": "success",
       "description": "",
       "description_tooltip": null,
       "layout": "IPY_MODEL_244a347db8ef4dc78d5aa062c1885b1b",
       "max": 566426227.0,
       "min": 0.0,
       "orientation": "horizontal",
       "style": "IPY_MODEL_c471eb63eda64933a1d0b556bb6660d2",
       "value": 566426227.0
      }
     },
     "c8b4825b04214bebbc83d9c603735e4d": {
      "model_module": "@jupyter-widgets/controls",
      "model_module_version": "1.5.0",
      "model_name": "DescriptionStyleModel",
      "state": {
       "_model_module": "@jupyter-widgets/controls",
       "_model_module_version": "1.5.0",
       "_model_name": "DescriptionStyleModel",
       "_view_count": null,
       "_view_module": "@jupyter-widgets/base",
       "_view_module_version": "1.2.0",
       "_view_name": "StyleView",
       "description_width": ""
      }
     },
     "c93f2cf9fd464016a8d52e59ed885e72": {
      "model_module": "@jupyter-widgets/base",
      "model_module_version": "1.2.0",
      "model_name": "LayoutModel",
      "state": {
       "_model_module": "@jupyter-widgets/base",
       "_model_module_version": "1.2.0",
       "_model_name": "LayoutModel",
       "_view_count": null,
       "_view_module": "@jupyter-widgets/base",
       "_view_module_version": "1.2.0",
       "_view_name": "LayoutView",
       "align_content": null,
       "align_items": null,
       "align_self": null,
       "border": null,
       "bottom": null,
       "display": null,
       "flex": null,
       "flex_flow": null,
       "grid_area": null,
       "grid_auto_columns": null,
       "grid_auto_flow": null,
       "grid_auto_rows": null,
       "grid_column": null,
       "grid_gap": null,
       "grid_row": null,
       "grid_template_areas": null,
       "grid_template_columns": null,
       "grid_template_rows": null,
       "height": null,
       "justify_content": null,
       "justify_items": null,
       "left": null,
       "margin": null,
       "max_height": null,
       "max_width": null,
       "min_height": null,
       "min_width": null,
       "object_fit": null,
       "object_position": null,
       "order": null,
       "overflow": null,
       "overflow_x": null,
       "overflow_y": null,
       "padding": null,
       "right": null,
       "top": null,
       "visibility": null,
       "width": null
      }
     },
     "cf40fae176d9441d977ac58104051011": {
      "model_module": "@jupyter-widgets/controls",
      "model_module_version": "1.5.0",
      "model_name": "DescriptionStyleModel",
      "state": {
       "_model_module": "@jupyter-widgets/controls",
       "_model_module_version": "1.5.0",
       "_model_name": "DescriptionStyleModel",
       "_view_count": null,
       "_view_module": "@jupyter-widgets/base",
       "_view_module_version": "1.2.0",
       "_view_name": "StyleView",
       "description_width": ""
      }
     },
     "d0470b61cfee4723b07c66745054b6b8": {
      "model_module": "@jupyter-widgets/base",
      "model_module_version": "1.2.0",
      "model_name": "LayoutModel",
      "state": {
       "_model_module": "@jupyter-widgets/base",
       "_model_module_version": "1.2.0",
       "_model_name": "LayoutModel",
       "_view_count": null,
       "_view_module": "@jupyter-widgets/base",
       "_view_module_version": "1.2.0",
       "_view_name": "LayoutView",
       "align_content": null,
       "align_items": null,
       "align_self": null,
       "border": null,
       "bottom": null,
       "display": null,
       "flex": null,
       "flex_flow": null,
       "grid_area": null,
       "grid_auto_columns": null,
       "grid_auto_flow": null,
       "grid_auto_rows": null,
       "grid_column": null,
       "grid_gap": null,
       "grid_row": null,
       "grid_template_areas": null,
       "grid_template_columns": null,
       "grid_template_rows": null,
       "height": null,
       "justify_content": null,
       "justify_items": null,
       "left": null,
       "margin": null,
       "max_height": null,
       "max_width": null,
       "min_height": null,
       "min_width": null,
       "object_fit": null,
       "object_position": null,
       "order": null,
       "overflow": null,
       "overflow_x": null,
       "overflow_y": null,
       "padding": null,
       "right": null,
       "top": null,
       "visibility": null,
       "width": null
      }
     },
     "d5315beac37e4ee48e239e4f73973739": {
      "model_module": "@jupyter-widgets/controls",
      "model_module_version": "1.5.0",
      "model_name": "DescriptionStyleModel",
      "state": {
       "_model_module": "@jupyter-widgets/controls",
       "_model_module_version": "1.5.0",
       "_model_name": "DescriptionStyleModel",
       "_view_count": null,
       "_view_module": "@jupyter-widgets/base",
       "_view_module_version": "1.2.0",
       "_view_name": "StyleView",
       "description_width": ""
      }
     },
     "dae084af0ae54b288dba8712da662b05": {
      "model_module": "@jupyter-widgets/controls",
      "model_module_version": "1.5.0",
      "model_name": "HTMLModel",
      "state": {
       "_dom_classes": [],
       "_model_module": "@jupyter-widgets/controls",
       "_model_module_version": "1.5.0",
       "_model_name": "HTMLModel",
       "_view_count": null,
       "_view_module": "@jupyter-widgets/controls",
       "_view_module_version": "1.5.0",
       "_view_name": "HTMLView",
       "description": "",
       "description_tooltip": null,
       "layout": "IPY_MODEL_49ecb00433184558a3c8bc8ced42eac9",
       "placeholder": "​",
       "style": "IPY_MODEL_8c941db3fdbf4fb480b734b1c5c61ea5",
       "value": " 3/3 [00:24&lt;00:00,  6.39s/it]"
      }
     },
     "dbe83b20c39747709ab5170313ede313": {
      "model_module": "@jupyter-widgets/base",
      "model_module_version": "1.2.0",
      "model_name": "LayoutModel",
      "state": {
       "_model_module": "@jupyter-widgets/base",
       "_model_module_version": "1.2.0",
       "_model_name": "LayoutModel",
       "_view_count": null,
       "_view_module": "@jupyter-widgets/base",
       "_view_module_version": "1.2.0",
       "_view_name": "LayoutView",
       "align_content": null,
       "align_items": null,
       "align_self": null,
       "border": null,
       "bottom": null,
       "display": null,
       "flex": null,
       "flex_flow": null,
       "grid_area": null,
       "grid_auto_columns": null,
       "grid_auto_flow": null,
       "grid_auto_rows": null,
       "grid_column": null,
       "grid_gap": null,
       "grid_row": null,
       "grid_template_areas": null,
       "grid_template_columns": null,
       "grid_template_rows": null,
       "height": null,
       "justify_content": null,
       "justify_items": null,
       "left": null,
       "margin": null,
       "max_height": null,
       "max_width": null,
       "min_height": null,
       "min_width": null,
       "object_fit": null,
       "object_position": null,
       "order": null,
       "overflow": null,
       "overflow_x": null,
       "overflow_y": null,
       "padding": null,
       "right": null,
       "top": null,
       "visibility": null,
       "width": null
      }
     },
     "e1fa840d77874f8ca09265dc9b1ef15f": {
      "model_module": "@jupyter-widgets/controls",
      "model_module_version": "1.5.0",
      "model_name": "HTMLModel",
      "state": {
       "_dom_classes": [],
       "_model_module": "@jupyter-widgets/controls",
       "_model_module_version": "1.5.0",
       "_model_name": "HTMLModel",
       "_view_count": null,
       "_view_module": "@jupyter-widgets/controls",
       "_view_module_version": "1.5.0",
       "_view_name": "HTMLView",
       "description": "",
       "description_tooltip": null,
       "layout": "IPY_MODEL_7a6bc3a194914825b05dd44410143bd7",
       "placeholder": "​",
       "style": "IPY_MODEL_3d925a45fb3b4338846b9c9f05dfaa07",
       "value": " 566M/566M [00:18&lt;00:00, 32.3MB/s]"
      }
     },
     "e4f1ea86461d44c086d578a765d9bd4b": {
      "model_module": "@jupyter-widgets/controls",
      "model_module_version": "1.5.0",
      "model_name": "HTMLModel",
      "state": {
       "_dom_classes": [],
       "_model_module": "@jupyter-widgets/controls",
       "_model_module_version": "1.5.0",
       "_model_name": "HTMLModel",
       "_view_count": null,
       "_view_module": "@jupyter-widgets/controls",
       "_view_module_version": "1.5.0",
       "_view_name": "HTMLView",
       "description": "",
       "description_tooltip": null,
       "layout": "IPY_MODEL_a4420ff5379044a19522df04745ef0a6",
       "placeholder": "​",
       "style": "IPY_MODEL_e7703abff53b44c3bdb8053c071d878f",
       "value": "Generating train split: 100%"
      }
     },
     "e7703abff53b44c3bdb8053c071d878f": {
      "model_module": "@jupyter-widgets/controls",
      "model_module_version": "1.5.0",
      "model_name": "DescriptionStyleModel",
      "state": {
       "_model_module": "@jupyter-widgets/controls",
       "_model_module_version": "1.5.0",
       "_model_name": "DescriptionStyleModel",
       "_view_count": null,
       "_view_module": "@jupyter-widgets/base",
       "_view_module_version": "1.2.0",
       "_view_name": "StyleView",
       "description_width": ""
      }
     },
     "eab257dcde0e49869ef842c26ccd1378": {
      "model_module": "@jupyter-widgets/controls",
      "model_module_version": "1.5.0",
      "model_name": "FloatProgressModel",
      "state": {
       "_dom_classes": [],
       "_model_module": "@jupyter-widgets/controls",
       "_model_module_version": "1.5.0",
       "_model_name": "FloatProgressModel",
       "_view_count": null,
       "_view_module": "@jupyter-widgets/controls",
       "_view_module_version": "1.5.0",
       "_view_name": "ProgressView",
       "bar_style": "success",
       "description": "",
       "description_tooltip": null,
       "layout": "IPY_MODEL_a88279adabc1441a8e023734decaee74",
       "max": 6422.0,
       "min": 0.0,
       "orientation": "horizontal",
       "style": "IPY_MODEL_14b083ad79b04261bdc8a03afb995f49",
       "value": 6422.0
      }
     },
     "eac14805d472412e945c51819f74dcfa": {
      "model_module": "@jupyter-widgets/base",
      "model_module_version": "1.2.0",
      "model_name": "LayoutModel",
      "state": {
       "_model_module": "@jupyter-widgets/base",
       "_model_module_version": "1.2.0",
       "_model_name": "LayoutModel",
       "_view_count": null,
       "_view_module": "@jupyter-widgets/base",
       "_view_module_version": "1.2.0",
       "_view_name": "LayoutView",
       "align_content": null,
       "align_items": null,
       "align_self": null,
       "border": null,
       "bottom": null,
       "display": null,
       "flex": null,
       "flex_flow": null,
       "grid_area": null,
       "grid_auto_columns": null,
       "grid_auto_flow": null,
       "grid_auto_rows": null,
       "grid_column": null,
       "grid_gap": null,
       "grid_row": null,
       "grid_template_areas": null,
       "grid_template_columns": null,
       "grid_template_rows": null,
       "height": null,
       "justify_content": null,
       "justify_items": null,
       "left": null,
       "margin": null,
       "max_height": null,
       "max_width": null,
       "min_height": null,
       "min_width": null,
       "object_fit": null,
       "object_position": null,
       "order": null,
       "overflow": null,
       "overflow_x": null,
       "overflow_y": null,
       "padding": null,
       "right": null,
       "top": null,
       "visibility": null,
       "width": null
      }
     },
     "eae6322b7da14efe8e46b3df18573b04": {
      "model_module": "@jupyter-widgets/controls",
      "model_module_version": "1.5.0",
      "model_name": "DescriptionStyleModel",
      "state": {
       "_model_module": "@jupyter-widgets/controls",
       "_model_module_version": "1.5.0",
       "_model_name": "DescriptionStyleModel",
       "_view_count": null,
       "_view_module": "@jupyter-widgets/base",
       "_view_module_version": "1.2.0",
       "_view_name": "StyleView",
       "description_width": ""
      }
     },
     "edd69f70c40843a4881dd1eaeb38af7e": {
      "model_module": "@jupyter-widgets/controls",
      "model_module_version": "1.5.0",
      "model_name": "ProgressStyleModel",
      "state": {
       "_model_module": "@jupyter-widgets/controls",
       "_model_module_version": "1.5.0",
       "_model_name": "ProgressStyleModel",
       "_view_count": null,
       "_view_module": "@jupyter-widgets/base",
       "_view_module_version": "1.2.0",
       "_view_name": "StyleView",
       "bar_color": null,
       "description_width": ""
      }
     },
     "ef7f684e887042b3aef36266399ebbea": {
      "model_module": "@jupyter-widgets/controls",
      "model_module_version": "1.5.0",
      "model_name": "FloatProgressModel",
      "state": {
       "_dom_classes": [],
       "_model_module": "@jupyter-widgets/controls",
       "_model_module_version": "1.5.0",
       "_model_name": "FloatProgressModel",
       "_view_count": null,
       "_view_module": "@jupyter-widgets/controls",
       "_view_module_version": "1.5.0",
       "_view_name": "ProgressView",
       "bar_style": "success",
       "description": "",
       "description_tooltip": null,
       "layout": "IPY_MODEL_9ce8b03305cc40d7b0c7e0fee6607436",
       "max": 7405.0,
       "min": 0.0,
       "orientation": "horizontal",
       "style": "IPY_MODEL_ab74d2e463ea4a2d83d78239b991e1d2",
       "value": 7405.0
      }
     },
     "f2991539f76745638e9664e544374831": {
      "model_module": "@jupyter-widgets/controls",
      "model_module_version": "1.5.0",
      "model_name": "DescriptionStyleModel",
      "state": {
       "_model_module": "@jupyter-widgets/controls",
       "_model_module_version": "1.5.0",
       "_model_name": "DescriptionStyleModel",
       "_view_count": null,
       "_view_module": "@jupyter-widgets/base",
       "_view_module_version": "1.2.0",
       "_view_name": "StyleView",
       "description_width": ""
      }
     },
     "f6ac5801b1db4f05b30495f30bc65c18": {
      "model_module": "@jupyter-widgets/controls",
      "model_module_version": "1.5.0",
      "model_name": "HTMLModel",
      "state": {
       "_dom_classes": [],
       "_model_module": "@jupyter-widgets/controls",
       "_model_module_version": "1.5.0",
       "_model_name": "HTMLModel",
       "_view_count": null,
       "_view_module": "@jupyter-widgets/controls",
       "_view_module_version": "1.5.0",
       "_view_name": "HTMLView",
       "description": "",
       "description_tooltip": null,
       "layout": "IPY_MODEL_328d50c10be74093a425c753775c6169",
       "placeholder": "​",
       "style": "IPY_MODEL_d5315beac37e4ee48e239e4f73973739",
       "value": " 7405/7405 [00:03&lt;00:00, 2869.07 examples/s]"
      }
     },
     "f8048f1d2d464161a560e65a3df2633c": {
      "model_module": "@jupyter-widgets/base",
      "model_module_version": "1.2.0",
      "model_name": "LayoutModel",
      "state": {
       "_model_module": "@jupyter-widgets/base",
       "_model_module_version": "1.2.0",
       "_model_name": "LayoutModel",
       "_view_count": null,
       "_view_module": "@jupyter-widgets/base",
       "_view_module_version": "1.2.0",
       "_view_name": "LayoutView",
       "align_content": null,
       "align_items": null,
       "align_self": null,
       "border": null,
       "bottom": null,
       "display": null,
       "flex": null,
       "flex_flow": null,
       "grid_area": null,
       "grid_auto_columns": null,
       "grid_auto_flow": null,
       "grid_auto_rows": null,
       "grid_column": null,
       "grid_gap": null,
       "grid_row": null,
       "grid_template_areas": null,
       "grid_template_columns": null,
       "grid_template_rows": null,
       "height": null,
       "justify_content": null,
       "justify_items": null,
       "left": null,
       "margin": null,
       "max_height": null,
       "max_width": null,
       "min_height": null,
       "min_width": null,
       "object_fit": null,
       "object_position": null,
       "order": null,
       "overflow": null,
       "overflow_x": null,
       "overflow_y": null,
       "padding": null,
       "right": null,
       "top": null,
       "visibility": null,
       "width": null
      }
     },
     "f98934a02589461b80df16a4751b3d4e": {
      "model_module": "@jupyter-widgets/controls",
      "model_module_version": "1.5.0",
      "model_name": "HBoxModel",
      "state": {
       "_dom_classes": [],
       "_model_module": "@jupyter-widgets/controls",
       "_model_module_version": "1.5.0",
       "_model_name": "HBoxModel",
       "_view_count": null,
       "_view_module": "@jupyter-widgets/controls",
       "_view_module_version": "1.5.0",
       "_view_name": "HBoxView",
       "box_style": "",
       "children": [
        "IPY_MODEL_97daaee746ba4a5c9111162b9266a4b0",
        "IPY_MODEL_8bdf9c543f3e416cb889110f9607d793",
        "IPY_MODEL_84baf8fbdfb247628a638bb86e516901"
       ],
       "layout": "IPY_MODEL_d0470b61cfee4723b07c66745054b6b8"
      }
     },
     "fbf060e2e3824ca99b049843406e9041": {
      "model_module": "@jupyter-widgets/base",
      "model_module_version": "1.2.0",
      "model_name": "LayoutModel",
      "state": {
       "_model_module": "@jupyter-widgets/base",
       "_model_module_version": "1.2.0",
       "_model_name": "LayoutModel",
       "_view_count": null,
       "_view_module": "@jupyter-widgets/base",
       "_view_module_version": "1.2.0",
       "_view_name": "LayoutView",
       "align_content": null,
       "align_items": null,
       "align_self": null,
       "border": null,
       "bottom": null,
       "display": null,
       "flex": null,
       "flex_flow": null,
       "grid_area": null,
       "grid_auto_columns": null,
       "grid_auto_flow": null,
       "grid_auto_rows": null,
       "grid_column": null,
       "grid_gap": null,
       "grid_row": null,
       "grid_template_areas": null,
       "grid_template_columns": null,
       "grid_template_rows": null,
       "height": null,
       "justify_content": null,
       "justify_items": null,
       "left": null,
       "margin": null,
       "max_height": null,
       "max_width": null,
       "min_height": null,
       "min_width": null,
       "object_fit": null,
       "object_position": null,
       "order": null,
       "overflow": null,
       "overflow_x": null,
       "overflow_y": null,
       "padding": null,
       "right": null,
       "top": null,
       "visibility": null,
       "width": null
      }
     },
     "fcb28462f9374a709ac190337f3a1d5a": {
      "model_module": "@jupyter-widgets/controls",
      "model_module_version": "1.5.0",
      "model_name": "DescriptionStyleModel",
      "state": {
       "_model_module": "@jupyter-widgets/controls",
       "_model_module_version": "1.5.0",
       "_model_name": "DescriptionStyleModel",
       "_view_count": null,
       "_view_module": "@jupyter-widgets/base",
       "_view_module_version": "1.2.0",
       "_view_name": "StyleView",
       "description_width": ""
      }
     }
    },
    "version_major": 2,
    "version_minor": 0
   }
  }
 },
 "nbformat": 4,
 "nbformat_minor": 5
}
