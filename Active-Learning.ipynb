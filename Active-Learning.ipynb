{
 "cells": [
  {
   "cell_type": "markdown",
   "id": "98bd1706",
   "metadata": {
    "papermill": {
     "duration": 0.004977,
     "end_time": "2022-11-13T05:08:36.104512",
     "exception": false,
     "start_time": "2022-11-13T05:08:36.099535",
     "status": "completed"
    },
    "tags": []
   },
   "source": [
    "# Active Learning\n",
    "\n",
    "Active Learning is an interesting supervised learning paradigm, usually applied when obtaining labels is costly. The idea is to start learning with relatively few labeled samples and a large number of unlabeled ones, and then label only those samples that contribute the most to the model quality"
   ]
  },
  {
   "cell_type": "markdown",
   "id": "c4bd2dce",
   "metadata": {
    "papermill": {
     "duration": 0.003442,
     "end_time": "2022-11-13T05:08:36.111986",
     "exception": false,
     "start_time": "2022-11-13T05:08:36.108544",
     "status": "completed"
    },
    "tags": []
   },
   "source": [
    "## Data Prepraration\n",
    "\n",
    "We have generated three sets of data here:\n",
    "* **train**: the set of labeled data, containing 1000 samples\n",
    "* **unlabeled**: the set of unlabeled data, containing 25,000 samples\n",
    "* **valid**: the set against which we will evaluate our model, containing 1000 samples"
   ]
  },
  {
   "cell_type": "code",
   "execution_count": 1,
   "id": "7bc4aae7",
   "metadata": {
    "execution": {
     "iopub.execute_input": "2022-11-13T05:08:36.122237Z",
     "iopub.status.busy": "2022-11-13T05:08:36.121237Z",
     "iopub.status.idle": "2022-11-13T05:08:37.255228Z",
     "shell.execute_reply": "2022-11-13T05:08:37.253931Z"
    },
    "papermill": {
     "duration": 1.142991,
     "end_time": "2022-11-13T05:08:37.258700",
     "exception": false,
     "start_time": "2022-11-13T05:08:36.115709",
     "status": "completed"
    },
    "tags": []
   },
   "outputs": [
    {
     "data": {
      "text/plain": [
       "(1000, 25000, 1000)"
      ]
     },
     "execution_count": 1,
     "metadata": {},
     "output_type": "execute_result"
    }
   ],
   "source": [
    "from sklearn.datasets import make_classification\n",
    "import numpy as np\n",
    "\n",
    "x, y = make_classification(n_samples=27_000, n_classes=2, random_state=0)\n",
    "\n",
    "x_train, y_train = x[:1000], y[:1000]\n",
    "x_unlbl, y_unlbl = x[1000:-1000], y[1000:-1000]\n",
    "x_valid, y_valid = x[-1000:], y[-1000:]\n",
    "\n",
    "len(y_train), len(y_unlbl), len(y_valid)"
   ]
  },
  {
   "cell_type": "markdown",
   "id": "d836d6bd",
   "metadata": {
    "papermill": {
     "duration": 0.003847,
     "end_time": "2022-11-13T05:08:37.266942",
     "exception": false,
     "start_time": "2022-11-13T05:08:37.263095",
     "status": "completed"
    },
    "tags": []
   },
   "source": [
    "## Strategy\n",
    "\n",
    "* The strategy is to apply the current model **f** (trained using existing labeled samples) to each of the remaining unlabeled samples\n",
    "* For each unlabeled examples **x**, an importance score is calculated:\n",
    "    * importance(x) = density(x) * uncertainity_f(x)\n",
    "    * density reflects how many examples surround **x** in its close neighborhood\n",
    "    * uncertaininty_f(x) reflect how uncertain the prediction of the model **f** is for **x**\n",
    "    \n"
   ]
  },
  {
   "cell_type": "markdown",
   "id": "e12d1fa1",
   "metadata": {
    "papermill": {
     "duration": 0.003892,
     "end_time": "2022-11-13T05:08:37.274769",
     "exception": false,
     "start_time": "2022-11-13T05:08:37.270877",
     "status": "completed"
    },
    "tags": []
   },
   "source": [
    "### Training model f"
   ]
  },
  {
   "cell_type": "code",
   "execution_count": 2,
   "id": "1b8cba7a",
   "metadata": {
    "execution": {
     "iopub.execute_input": "2022-11-13T05:08:37.284985Z",
     "iopub.status.busy": "2022-11-13T05:08:37.284324Z",
     "iopub.status.idle": "2022-11-13T05:08:37.407491Z",
     "shell.execute_reply": "2022-11-13T05:08:37.406342Z"
    },
    "papermill": {
     "duration": 0.131829,
     "end_time": "2022-11-13T05:08:37.410722",
     "exception": false,
     "start_time": "2022-11-13T05:08:37.278893",
     "status": "completed"
    },
    "tags": []
   },
   "outputs": [],
   "source": [
    "from sklearn.linear_model import LogisticRegression"
   ]
  },
  {
   "cell_type": "code",
   "execution_count": 3,
   "id": "04b31b7d",
   "metadata": {
    "execution": {
     "iopub.execute_input": "2022-11-13T05:08:37.420543Z",
     "iopub.status.busy": "2022-11-13T05:08:37.419653Z",
     "iopub.status.idle": "2022-11-13T05:08:37.443363Z",
     "shell.execute_reply": "2022-11-13T05:08:37.442176Z"
    },
    "papermill": {
     "duration": 0.03178,
     "end_time": "2022-11-13T05:08:37.446475",
     "exception": false,
     "start_time": "2022-11-13T05:08:37.414695",
     "status": "completed"
    },
    "tags": []
   },
   "outputs": [
    {
     "data": {
      "text/plain": [
       "0.841"
      ]
     },
     "execution_count": 3,
     "metadata": {},
     "output_type": "execute_result"
    }
   ],
   "source": [
    "model = LogisticRegression().fit(x_train, y_train)\n",
    "model.score(x_valid, y_valid)"
   ]
  },
  {
   "cell_type": "markdown",
   "id": "ad2ea041",
   "metadata": {
    "papermill": {
     "duration": 0.006126,
     "end_time": "2022-11-13T05:08:37.459226",
     "exception": false,
     "start_time": "2022-11-13T05:08:37.453100",
     "status": "completed"
    },
    "tags": []
   },
   "source": [
    "### Computing Importance"
   ]
  },
  {
   "cell_type": "code",
   "execution_count": 4,
   "id": "0ec852e1",
   "metadata": {
    "execution": {
     "iopub.execute_input": "2022-11-13T05:08:37.474078Z",
     "iopub.status.busy": "2022-11-13T05:08:37.473509Z",
     "iopub.status.idle": "2022-11-13T05:08:37.545041Z",
     "shell.execute_reply": "2022-11-13T05:08:37.543727Z"
    },
    "papermill": {
     "duration": 0.083373,
     "end_time": "2022-11-13T05:08:37.549003",
     "exception": false,
     "start_time": "2022-11-13T05:08:37.465630",
     "status": "completed"
    },
    "tags": []
   },
   "outputs": [],
   "source": [
    "from sklearn.neighbors import NearestNeighbors\n",
    "\n",
    "class SampleImportance:\n",
    "    def __init__(self, model):\n",
    "        self.model = model\n",
    "    \n",
    "    def get_density(self, x):\n",
    "        nbrs = NearestNeighbors(n_neighbors=6).fit(x)\n",
    "        distances, _ = nbrs.kneighbors(x)\n",
    "        mean_distances = distances[:, 1:].mean(axis=1)\n",
    "        return 1.0 / mean_distances\n",
    "    \n",
    "    def get_uncertainity(self, x):\n",
    "        preds = model.predict_proba(x)[:, 1]\n",
    "        uncertainity = (1.0 - (0.5 - preds)**2)\n",
    "        return uncertainity\n",
    "    \n",
    "    def __call__(self, x):\n",
    "        return self.get_density(x) * self.get_uncertainity(x)"
   ]
  },
  {
   "cell_type": "code",
   "execution_count": 5,
   "id": "07b353f7",
   "metadata": {
    "execution": {
     "iopub.execute_input": "2022-11-13T05:08:37.563508Z",
     "iopub.status.busy": "2022-11-13T05:08:37.562558Z",
     "iopub.status.idle": "2022-11-13T05:08:49.871066Z",
     "shell.execute_reply": "2022-11-13T05:08:49.869733Z"
    },
    "papermill": {
     "duration": 12.319578,
     "end_time": "2022-11-13T05:08:49.874877",
     "exception": false,
     "start_time": "2022-11-13T05:08:37.555299",
     "status": "completed"
    },
    "tags": []
   },
   "outputs": [],
   "source": [
    "si = SampleImportance(model)\n",
    "importance = si(x_unlbl)"
   ]
  },
  {
   "cell_type": "code",
   "execution_count": 6,
   "id": "a632fa16",
   "metadata": {
    "execution": {
     "iopub.execute_input": "2022-11-13T05:08:49.890625Z",
     "iopub.status.busy": "2022-11-13T05:08:49.889255Z",
     "iopub.status.idle": "2022-11-13T05:08:49.905619Z",
     "shell.execute_reply": "2022-11-13T05:08:49.904361Z"
    },
    "papermill": {
     "duration": 0.027373,
     "end_time": "2022-11-13T05:08:49.908913",
     "exception": false,
     "start_time": "2022-11-13T05:08:49.881540",
     "status": "completed"
    },
    "tags": []
   },
   "outputs": [],
   "source": [
    "# sorting unlabeled data based on importance\n",
    "\n",
    "p = importance.argsort()\n",
    "x_unlbl = x_unlbl[p]\n",
    "y_unlbl = y_unlbl[p]\n",
    "\n",
    "# taking the 1000 most important samples\n",
    "\n",
    "x_addtn = x_unlbl[-1000:]\n",
    "y_addtn = y_unlbl[-1000:]"
   ]
  },
  {
   "cell_type": "code",
   "execution_count": 7,
   "id": "8066ee69",
   "metadata": {
    "execution": {
     "iopub.execute_input": "2022-11-13T05:08:49.923454Z",
     "iopub.status.busy": "2022-11-13T05:08:49.922891Z",
     "iopub.status.idle": "2022-11-13T05:08:49.944426Z",
     "shell.execute_reply": "2022-11-13T05:08:49.943231Z"
    },
    "papermill": {
     "duration": 0.032494,
     "end_time": "2022-11-13T05:08:49.947680",
     "exception": false,
     "start_time": "2022-11-13T05:08:49.915186",
     "status": "completed"
    },
    "tags": []
   },
   "outputs": [
    {
     "data": {
      "text/plain": [
       "0.846"
      ]
     },
     "execution_count": 7,
     "metadata": {},
     "output_type": "execute_result"
    }
   ],
   "source": [
    "x_train = np.vstack([x_train, x_addtn])\n",
    "y_train = np.hstack([y_train, y_addtn])\n",
    "\n",
    "model = LogisticRegression().fit(x_train, y_train)\n",
    "model.score(x_valid, y_valid)"
   ]
  },
  {
   "cell_type": "markdown",
   "id": "ee77c616",
   "metadata": {
    "papermill": {
     "duration": 0.006045,
     "end_time": "2022-11-13T05:08:49.960027",
     "exception": false,
     "start_time": "2022-11-13T05:08:49.953982",
     "status": "completed"
    },
    "tags": []
   },
   "source": [
    "**By adding an additional 1000 samples (instead of 25000) to our training data, we already got an improvement**"
   ]
  },
  {
   "cell_type": "code",
   "execution_count": null,
   "id": "969ddd83",
   "metadata": {
    "papermill": {
     "duration": 0.005896,
     "end_time": "2022-11-13T05:08:49.972360",
     "exception": false,
     "start_time": "2022-11-13T05:08:49.966464",
     "status": "completed"
    },
    "tags": []
   },
   "outputs": [],
   "source": []
  }
 ],
 "metadata": {
  "kernelspec": {
   "display_name": "Python 3",
   "language": "python",
   "name": "python3"
  },
  "language_info": {
   "codemirror_mode": {
    "name": "ipython",
    "version": 3
   },
   "file_extension": ".py",
   "mimetype": "text/x-python",
   "name": "python",
   "nbconvert_exporter": "python",
   "pygments_lexer": "ipython3",
   "version": "3.7.12"
  },
  "papermill": {
   "default_parameters": {},
   "duration": 23.135983,
   "end_time": "2022-11-13T05:08:50.706042",
   "environment_variables": {},
   "exception": null,
   "input_path": "__notebook__.ipynb",
   "output_path": "__notebook__.ipynb",
   "parameters": {},
   "start_time": "2022-11-13T05:08:27.570059",
   "version": "2.3.4"
  }
 },
 "nbformat": 4,
 "nbformat_minor": 5
}
