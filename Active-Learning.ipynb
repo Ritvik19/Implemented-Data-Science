{
 "cells": [
  {
   "cell_type": "markdown",
   "id": "7c76b863",
   "metadata": {
    "papermill": {
     "duration": 0.005649,
     "end_time": "2022-11-13T05:12:12.781755",
     "exception": false,
     "start_time": "2022-11-13T05:12:12.776106",
     "status": "completed"
    },
    "tags": []
   },
   "source": [
    "# Active Learning\n",
    "\n",
    "Active Learning is an interesting supervised learning paradigm, usually applied when obtaining labels is costly. The idea is to start learning with relatively few labeled samples and a large number of unlabeled ones, and then label only those samples that contribute the most to the model quality"
   ]
  },
  {
   "cell_type": "markdown",
   "id": "f7386498",
   "metadata": {
    "papermill": {
     "duration": 0.003779,
     "end_time": "2022-11-13T05:12:12.789963",
     "exception": false,
     "start_time": "2022-11-13T05:12:12.786184",
     "status": "completed"
    },
    "tags": []
   },
   "source": [
    "## Data Prepraration\n",
    "\n",
    "We have generated three sets of data here:\n",
    "* **train**: the set of labeled data, containing 1000 samples\n",
    "* **unlabeled**: the set of unlabeled data, containing 25,000 samples\n",
    "* **valid**: the set against which we will evaluate our model, containing 1000 samples"
   ]
  },
  {
   "cell_type": "code",
   "execution_count": 1,
   "id": "cb603f9f",
   "metadata": {
    "execution": {
     "iopub.execute_input": "2022-11-13T05:12:12.800571Z",
     "iopub.status.busy": "2022-11-13T05:12:12.800082Z",
     "iopub.status.idle": "2022-11-13T05:12:14.099105Z",
     "shell.execute_reply": "2022-11-13T05:12:14.097547Z"
    },
    "papermill": {
     "duration": 1.30884,
     "end_time": "2022-11-13T05:12:14.103012",
     "exception": false,
     "start_time": "2022-11-13T05:12:12.794172",
     "status": "completed"
    },
    "tags": []
   },
   "outputs": [
    {
     "data": {
      "text/plain": [
       "(1000, 25000, 1000)"
      ]
     },
     "execution_count": 1,
     "metadata": {},
     "output_type": "execute_result"
    }
   ],
   "source": [
    "from sklearn.datasets import make_classification\n",
    "import numpy as np\n",
    "\n",
    "x, y = make_classification(n_samples=27_000, n_classes=2, random_state=0)\n",
    "\n",
    "x_train, y_train = x[:1000], y[:1000]\n",
    "x_unlbl, y_unlbl = x[1000:-1000], y[1000:-1000]\n",
    "x_valid, y_valid = x[-1000:], y[-1000:]\n",
    "\n",
    "len(y_train), len(y_unlbl), len(y_valid)"
   ]
  },
  {
   "cell_type": "markdown",
   "id": "95bc4bbb",
   "metadata": {
    "papermill": {
     "duration": 0.004135,
     "end_time": "2022-11-13T05:12:14.111769",
     "exception": false,
     "start_time": "2022-11-13T05:12:14.107634",
     "status": "completed"
    },
    "tags": []
   },
   "source": [
    "## Strategy\n",
    "\n",
    "* The strategy is to apply the current model **f** (trained using existing labeled samples) to each of the remaining unlabeled samples\n",
    "* For each unlabeled examples **x**, an importance score is calculated:\n",
    "    * importance(x) = density(x) * uncertainity_f(x)\n",
    "    * density reflects how many examples surround **x** in its close neighborhood\n",
    "    * uncertaininty_f(x) reflect how uncertain the prediction of the model **f** is for **x**\n",
    "    \n"
   ]
  },
  {
   "cell_type": "markdown",
   "id": "98fd7c98",
   "metadata": {
    "papermill": {
     "duration": 0.003855,
     "end_time": "2022-11-13T05:12:14.120108",
     "exception": false,
     "start_time": "2022-11-13T05:12:14.116253",
     "status": "completed"
    },
    "tags": []
   },
   "source": [
    "### Training model f"
   ]
  },
  {
   "cell_type": "code",
   "execution_count": 2,
   "id": "668bf301",
   "metadata": {
    "execution": {
     "iopub.execute_input": "2022-11-13T05:12:14.130596Z",
     "iopub.status.busy": "2022-11-13T05:12:14.130101Z",
     "iopub.status.idle": "2022-11-13T05:12:14.264263Z",
     "shell.execute_reply": "2022-11-13T05:12:14.262951Z"
    },
    "papermill": {
     "duration": 0.143098,
     "end_time": "2022-11-13T05:12:14.267397",
     "exception": false,
     "start_time": "2022-11-13T05:12:14.124299",
     "status": "completed"
    },
    "tags": []
   },
   "outputs": [],
   "source": [
    "from sklearn.linear_model import LogisticRegression"
   ]
  },
  {
   "cell_type": "code",
   "execution_count": 3,
   "id": "8824167b",
   "metadata": {
    "execution": {
     "iopub.execute_input": "2022-11-13T05:12:14.277958Z",
     "iopub.status.busy": "2022-11-13T05:12:14.277441Z",
     "iopub.status.idle": "2022-11-13T05:12:14.307571Z",
     "shell.execute_reply": "2022-11-13T05:12:14.305895Z"
    },
    "papermill": {
     "duration": 0.040424,
     "end_time": "2022-11-13T05:12:14.312118",
     "exception": false,
     "start_time": "2022-11-13T05:12:14.271694",
     "status": "completed"
    },
    "tags": []
   },
   "outputs": [
    {
     "data": {
      "text/plain": [
       "0.841"
      ]
     },
     "execution_count": 3,
     "metadata": {},
     "output_type": "execute_result"
    }
   ],
   "source": [
    "model = LogisticRegression().fit(x_train, y_train)\n",
    "model.score(x_valid, y_valid)"
   ]
  },
  {
   "cell_type": "markdown",
   "id": "950f5c3b",
   "metadata": {
    "papermill": {
     "duration": 0.00959,
     "end_time": "2022-11-13T05:12:14.331765",
     "exception": false,
     "start_time": "2022-11-13T05:12:14.322175",
     "status": "completed"
    },
    "tags": []
   },
   "source": [
    "### Computing Importance"
   ]
  },
  {
   "cell_type": "code",
   "execution_count": 4,
   "id": "11f27a85",
   "metadata": {
    "execution": {
     "iopub.execute_input": "2022-11-13T05:12:14.354860Z",
     "iopub.status.busy": "2022-11-13T05:12:14.354028Z",
     "iopub.status.idle": "2022-11-13T05:12:14.433251Z",
     "shell.execute_reply": "2022-11-13T05:12:14.432135Z"
    },
    "papermill": {
     "duration": 0.094201,
     "end_time": "2022-11-13T05:12:14.436025",
     "exception": false,
     "start_time": "2022-11-13T05:12:14.341824",
     "status": "completed"
    },
    "tags": []
   },
   "outputs": [],
   "source": [
    "from sklearn.neighbors import NearestNeighbors\n",
    "\n",
    "class SampleImportance:\n",
    "    def __init__(self, model):\n",
    "        self.model = model\n",
    "    \n",
    "    def get_density(self, x):\n",
    "        nbrs = NearestNeighbors(n_neighbors=6).fit(x)\n",
    "        distances, _ = nbrs.kneighbors(x)\n",
    "        mean_distances = distances[:, 1:].mean(axis=1)\n",
    "        return 1.0 / mean_distances\n",
    "    \n",
    "    def get_uncertainity(self, x):\n",
    "        preds = model.predict_proba(x)[:, 1]\n",
    "        uncertainity = (1.0 - (0.5 - preds)**2)\n",
    "        return uncertainity\n",
    "    \n",
    "    def __call__(self, x):\n",
    "        return self.get_density(x) * self.get_uncertainity(x)"
   ]
  },
  {
   "cell_type": "code",
   "execution_count": 5,
   "id": "a8c147d3",
   "metadata": {
    "execution": {
     "iopub.execute_input": "2022-11-13T05:12:14.446414Z",
     "iopub.status.busy": "2022-11-13T05:12:14.445910Z",
     "iopub.status.idle": "2022-11-13T05:12:29.042041Z",
     "shell.execute_reply": "2022-11-13T05:12:29.039750Z"
    },
    "papermill": {
     "duration": 14.60713,
     "end_time": "2022-11-13T05:12:29.047355",
     "exception": false,
     "start_time": "2022-11-13T05:12:14.440225",
     "status": "completed"
    },
    "tags": []
   },
   "outputs": [],
   "source": [
    "si = SampleImportance(model)\n",
    "importance = si(x_unlbl)"
   ]
  },
  {
   "cell_type": "code",
   "execution_count": 6,
   "id": "2c6040d1",
   "metadata": {
    "execution": {
     "iopub.execute_input": "2022-11-13T05:12:29.075779Z",
     "iopub.status.busy": "2022-11-13T05:12:29.074588Z",
     "iopub.status.idle": "2022-11-13T05:12:29.098124Z",
     "shell.execute_reply": "2022-11-13T05:12:29.096434Z"
    },
    "papermill": {
     "duration": 0.042312,
     "end_time": "2022-11-13T05:12:29.102654",
     "exception": false,
     "start_time": "2022-11-13T05:12:29.060342",
     "status": "completed"
    },
    "tags": []
   },
   "outputs": [],
   "source": [
    "# sorting unlabeled data based on importance\n",
    "\n",
    "p = importance.argsort()\n",
    "x_unlbl = x_unlbl[p]\n",
    "y_unlbl = y_unlbl[p]\n",
    "\n",
    "# taking the 1000 most important samples\n",
    "\n",
    "x_addtn = x_unlbl[-1000:]\n",
    "y_addtn = y_unlbl[-1000:]"
   ]
  },
  {
   "cell_type": "markdown",
   "id": "d1cae12f",
   "metadata": {
    "papermill": {
     "duration": 0.009834,
     "end_time": "2022-11-13T05:12:29.123789",
     "exception": false,
     "start_time": "2022-11-13T05:12:29.113955",
     "status": "completed"
    },
    "tags": []
   },
   "source": [
    "### Training with additional data"
   ]
  },
  {
   "cell_type": "code",
   "execution_count": 7,
   "id": "df56c920",
   "metadata": {
    "execution": {
     "iopub.execute_input": "2022-11-13T05:12:29.148065Z",
     "iopub.status.busy": "2022-11-13T05:12:29.147231Z",
     "iopub.status.idle": "2022-11-13T05:12:29.176773Z",
     "shell.execute_reply": "2022-11-13T05:12:29.175185Z"
    },
    "papermill": {
     "duration": 0.04688,
     "end_time": "2022-11-13T05:12:29.181224",
     "exception": false,
     "start_time": "2022-11-13T05:12:29.134344",
     "status": "completed"
    },
    "tags": []
   },
   "outputs": [
    {
     "data": {
      "text/plain": [
       "0.846"
      ]
     },
     "execution_count": 7,
     "metadata": {},
     "output_type": "execute_result"
    }
   ],
   "source": [
    "x_train = np.vstack([x_train, x_addtn])\n",
    "y_train = np.hstack([y_train, y_addtn])\n",
    "\n",
    "model = LogisticRegression().fit(x_train, y_train)\n",
    "model.score(x_valid, y_valid)"
   ]
  },
  {
   "cell_type": "markdown",
   "id": "e9cc6f94",
   "metadata": {
    "papermill": {
     "duration": 0.010052,
     "end_time": "2022-11-13T05:12:29.201989",
     "exception": false,
     "start_time": "2022-11-13T05:12:29.191937",
     "status": "completed"
    },
    "tags": []
   },
   "source": [
    "**By adding an additional 1000 samples (instead of 25000) to our training data, we already got an improvement**"
   ]
  },
  {
   "cell_type": "code",
   "execution_count": null,
   "id": "91c671c4",
   "metadata": {
    "papermill": {
     "duration": 0.010711,
     "end_time": "2022-11-13T05:12:29.223267",
     "exception": false,
     "start_time": "2022-11-13T05:12:29.212556",
     "status": "completed"
    },
    "tags": []
   },
   "outputs": [],
   "source": []
  }
 ],
 "metadata": {
  "kernelspec": {
   "display_name": "Python 3",
   "language": "python",
   "name": "python3"
  },
  "language_info": {
   "codemirror_mode": {
    "name": "ipython",
    "version": 3
   },
   "file_extension": ".py",
   "mimetype": "text/x-python",
   "name": "python",
   "nbconvert_exporter": "python",
   "pygments_lexer": "ipython3",
   "version": "3.7.12"
  },
  "papermill": {
   "default_parameters": {},
   "duration": 27.471189,
   "end_time": "2022-11-13T05:12:30.273244",
   "environment_variables": {},
   "exception": null,
   "input_path": "__notebook__.ipynb",
   "output_path": "__notebook__.ipynb",
   "parameters": {},
   "start_time": "2022-11-13T05:12:02.802055",
   "version": "2.3.4"
  }
 },
 "nbformat": 4,
 "nbformat_minor": 5
}
