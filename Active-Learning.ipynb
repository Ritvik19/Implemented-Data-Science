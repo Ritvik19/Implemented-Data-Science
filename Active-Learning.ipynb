{
 "cells": [
  {
   "cell_type": "markdown",
   "id": "3c175ee3",
   "metadata": {
    "papermill": {
     "duration": 0.004744,
     "end_time": "2022-11-13T05:04:44.835286",
     "exception": false,
     "start_time": "2022-11-13T05:04:44.830542",
     "status": "completed"
    },
    "tags": []
   },
   "source": [
    "# Active Learning\n",
    "\n",
    "Active Learning is an interesting supervised learning paradigm, usually applied when obtaining labels is costly. The idea is to start learning with relatively few labeled samples and a large number of unlabeled ones, and then label only those samples that contribute the most to the model quality"
   ]
  },
  {
   "cell_type": "markdown",
   "id": "3ffbb68d",
   "metadata": {
    "papermill": {
     "duration": 0.003646,
     "end_time": "2022-11-13T05:04:44.843246",
     "exception": false,
     "start_time": "2022-11-13T05:04:44.839600",
     "status": "completed"
    },
    "tags": []
   },
   "source": [
    "## Data Prepraration\n",
    "\n",
    "We have generated three sets of data here:\n",
    "* **train**: the set of labeled data, containing 1000 samples\n",
    "* **unlabeled**: the set of unlabeled data, containing 25,000 samples\n",
    "* **valid**: the set against which we will evaluate our model, containing 1000 samples"
   ]
  },
  {
   "cell_type": "code",
   "execution_count": 1,
   "id": "2e56ecf2",
   "metadata": {
    "execution": {
     "iopub.execute_input": "2022-11-13T05:04:44.855512Z",
     "iopub.status.busy": "2022-11-13T05:04:44.854149Z",
     "iopub.status.idle": "2022-11-13T05:04:46.038537Z",
     "shell.execute_reply": "2022-11-13T05:04:46.037318Z"
    },
    "papermill": {
     "duration": 1.19277,
     "end_time": "2022-11-13T05:04:46.041708",
     "exception": false,
     "start_time": "2022-11-13T05:04:44.848938",
     "status": "completed"
    },
    "tags": []
   },
   "outputs": [
    {
     "data": {
      "text/plain": [
       "(1000, 25000, 1000)"
      ]
     },
     "execution_count": 1,
     "metadata": {},
     "output_type": "execute_result"
    }
   ],
   "source": [
    "from sklearn.datasets import make_classification\n",
    "import numpy as np\n",
    "\n",
    "x, y = make_classification(n_samples=27_000, n_classes=2, random_state=0)\n",
    "\n",
    "x_train, y_train = x[:1000], y[:1000]\n",
    "x_unlbl, y_unlbl = x[1000:-1000], y[1000:-1000]\n",
    "x_valid, y_valid = x[-1000:], y[-1000:]\n",
    "\n",
    "len(y_train), len(y_unlbl), len(y_valid)"
   ]
  },
  {
   "cell_type": "markdown",
   "id": "aae58850",
   "metadata": {
    "papermill": {
     "duration": 0.003299,
     "end_time": "2022-11-13T05:04:46.048992",
     "exception": false,
     "start_time": "2022-11-13T05:04:46.045693",
     "status": "completed"
    },
    "tags": []
   },
   "source": [
    "## Strategy\n",
    "\n",
    "* The strategy is to apply the current model **f** (trained using existing labeled samples) to each of the remaining unlabeled samples\n",
    "* For each unlabeled examples **x**, an importance score is calculated:\n",
    "    * importance(x) = density(x) * uncertainity_f(x)\n",
    "    * density reflects how many examples surround **x** in its close neighborhood\n",
    "    * uncertaininty_f(x) reflect how uncertain the prediction of the model **f** is for **x**\n",
    "    \n"
   ]
  },
  {
   "cell_type": "markdown",
   "id": "3502c38d",
   "metadata": {
    "papermill": {
     "duration": 0.003133,
     "end_time": "2022-11-13T05:04:46.055510",
     "exception": false,
     "start_time": "2022-11-13T05:04:46.052377",
     "status": "completed"
    },
    "tags": []
   },
   "source": [
    "### Training model f"
   ]
  },
  {
   "cell_type": "code",
   "execution_count": 2,
   "id": "141734ee",
   "metadata": {
    "execution": {
     "iopub.execute_input": "2022-11-13T05:04:46.064883Z",
     "iopub.status.busy": "2022-11-13T05:04:46.063772Z",
     "iopub.status.idle": "2022-11-13T05:04:46.181237Z",
     "shell.execute_reply": "2022-11-13T05:04:46.179814Z"
    },
    "papermill": {
     "duration": 0.125324,
     "end_time": "2022-11-13T05:04:46.184229",
     "exception": false,
     "start_time": "2022-11-13T05:04:46.058905",
     "status": "completed"
    },
    "tags": []
   },
   "outputs": [],
   "source": [
    "from sklearn.linear_model import LogisticRegression"
   ]
  },
  {
   "cell_type": "code",
   "execution_count": 3,
   "id": "5e3073a6",
   "metadata": {
    "execution": {
     "iopub.execute_input": "2022-11-13T05:04:46.193422Z",
     "iopub.status.busy": "2022-11-13T05:04:46.193036Z",
     "iopub.status.idle": "2022-11-13T05:04:46.223597Z",
     "shell.execute_reply": "2022-11-13T05:04:46.222034Z"
    },
    "papermill": {
     "duration": 0.039944,
     "end_time": "2022-11-13T05:04:46.227936",
     "exception": false,
     "start_time": "2022-11-13T05:04:46.187992",
     "status": "completed"
    },
    "tags": []
   },
   "outputs": [
    {
     "data": {
      "text/plain": [
       "0.841"
      ]
     },
     "execution_count": 3,
     "metadata": {},
     "output_type": "execute_result"
    }
   ],
   "source": [
    "model = LogisticRegression().fit(x_train, y_train)\n",
    "model.score(x_valid, y_valid)"
   ]
  },
  {
   "cell_type": "markdown",
   "id": "972ee1a5",
   "metadata": {
    "papermill": {
     "duration": 0.008285,
     "end_time": "2022-11-13T05:04:46.244891",
     "exception": false,
     "start_time": "2022-11-13T05:04:46.236606",
     "status": "completed"
    },
    "tags": []
   },
   "source": [
    "### Computing Importance"
   ]
  },
  {
   "cell_type": "code",
   "execution_count": 4,
   "id": "881ad5a5",
   "metadata": {
    "execution": {
     "iopub.execute_input": "2022-11-13T05:04:46.265621Z",
     "iopub.status.busy": "2022-11-13T05:04:46.264844Z",
     "iopub.status.idle": "2022-11-13T05:04:46.340687Z",
     "shell.execute_reply": "2022-11-13T05:04:46.339693Z"
    },
    "papermill": {
     "duration": 0.089717,
     "end_time": "2022-11-13T05:04:46.343324",
     "exception": false,
     "start_time": "2022-11-13T05:04:46.253607",
     "status": "completed"
    },
    "tags": []
   },
   "outputs": [],
   "source": [
    "from sklearn.neighbors import NearestNeighbors\n",
    "\n",
    "class SampleImportance:\n",
    "    def __init__(self, model):\n",
    "        self.model = model\n",
    "    \n",
    "    def get_density(self, x):\n",
    "        nbrs = NearestNeighbors(n_neighbors=6).fit(x)\n",
    "        distances, _ = nbrs.kneighbors(x)\n",
    "        mean_distances = distances[:, 1:].mean(axis=1)\n",
    "        return 1.0 / mean_distances\n",
    "    \n",
    "    def get_uncertainity(self, x):\n",
    "        preds = model.predict_proba(x)[:, 1]\n",
    "        uncertainity = (1.0 - (0.5 - preds)**2)\n",
    "        return uncertainity\n",
    "    \n",
    "    def __call__(self, x):\n",
    "        return self.get_density(x) * self.get_uncertainity(x)"
   ]
  },
  {
   "cell_type": "code",
   "execution_count": 5,
   "id": "b12218ab",
   "metadata": {
    "execution": {
     "iopub.execute_input": "2022-11-13T05:04:46.353006Z",
     "iopub.status.busy": "2022-11-13T05:04:46.352272Z",
     "iopub.status.idle": "2022-11-13T05:04:58.746899Z",
     "shell.execute_reply": "2022-11-13T05:04:58.745088Z"
    },
    "papermill": {
     "duration": 12.404826,
     "end_time": "2022-11-13T05:04:58.752037",
     "exception": false,
     "start_time": "2022-11-13T05:04:46.347211",
     "status": "completed"
    },
    "tags": []
   },
   "outputs": [],
   "source": [
    "si = SampleImportance(model)\n",
    "importance = si(x_unlbl)"
   ]
  },
  {
   "cell_type": "code",
   "execution_count": 6,
   "id": "be61e697",
   "metadata": {
    "execution": {
     "iopub.execute_input": "2022-11-13T05:04:58.773439Z",
     "iopub.status.busy": "2022-11-13T05:04:58.772498Z",
     "iopub.status.idle": "2022-11-13T05:04:58.791236Z",
     "shell.execute_reply": "2022-11-13T05:04:58.789313Z"
    },
    "papermill": {
     "duration": 0.034724,
     "end_time": "2022-11-13T05:04:58.795885",
     "exception": false,
     "start_time": "2022-11-13T05:04:58.761161",
     "status": "completed"
    },
    "tags": []
   },
   "outputs": [],
   "source": [
    "# sorting unlabeled data based on importance\n",
    "\n",
    "p = importance.argsort()\n",
    "x_unlbl = x_unlbl[p]\n",
    "y_unlbl = y_unlbl[p]\n",
    "\n",
    "# taking the 1000 most important samples\n",
    "\n",
    "x_addtn = x_unlbl[-1000:]\n",
    "y_addtn = y_unlbl[-1000:]"
   ]
  },
  {
   "cell_type": "code",
   "execution_count": 7,
   "id": "f35b1da7",
   "metadata": {
    "execution": {
     "iopub.execute_input": "2022-11-13T05:04:58.817307Z",
     "iopub.status.busy": "2022-11-13T05:04:58.816410Z",
     "iopub.status.idle": "2022-11-13T05:04:58.845232Z",
     "shell.execute_reply": "2022-11-13T05:04:58.843647Z"
    },
    "papermill": {
     "duration": 0.045114,
     "end_time": "2022-11-13T05:04:58.850000",
     "exception": false,
     "start_time": "2022-11-13T05:04:58.804886",
     "status": "completed"
    },
    "tags": []
   },
   "outputs": [
    {
     "data": {
      "text/plain": [
       "0.846"
      ]
     },
     "execution_count": 7,
     "metadata": {},
     "output_type": "execute_result"
    }
   ],
   "source": [
    "x_train = np.vstack([x_train, x_addtn])\n",
    "y_train = np.hstack([y_train, y_addtn])\n",
    "\n",
    "model = LogisticRegression().fit(x_train, y_train)\n",
    "model.score(x_valid, y_valid)"
   ]
  }
 ],
 "metadata": {
  "kernelspec": {
   "display_name": "Python 3",
   "language": "python",
   "name": "python3"
  },
  "language_info": {
   "codemirror_mode": {
    "name": "ipython",
    "version": 3
   },
   "file_extension": ".py",
   "mimetype": "text/x-python",
   "name": "python",
   "nbconvert_exporter": "python",
   "pygments_lexer": "ipython3",
   "version": "3.7.12"
  },
  "papermill": {
   "default_parameters": {},
   "duration": 24.904001,
   "end_time": "2022-11-13T05:04:59.690006",
   "environment_variables": {},
   "exception": null,
   "input_path": "__notebook__.ipynb",
   "output_path": "__notebook__.ipynb",
   "parameters": {},
   "start_time": "2022-11-13T05:04:34.786005",
   "version": "2.3.4"
  }
 },
 "nbformat": 4,
 "nbformat_minor": 5
}
