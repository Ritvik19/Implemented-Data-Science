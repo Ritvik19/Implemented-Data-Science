{
 "cells": [
  {
   "cell_type": "code",
   "execution_count": 1,
   "id": "80e196a4",
   "metadata": {
    "_cell_guid": "b1076dfc-b9ad-4769-8c92-a6c4dae69d19",
    "_uuid": "8f2839f25d086af736a60e9eeb907d3b93b6e0e5",
    "execution": {
     "iopub.execute_input": "2021-12-19T11:43:00.501871Z",
     "iopub.status.busy": "2021-12-19T11:43:00.500815Z",
     "iopub.status.idle": "2021-12-19T11:43:07.297388Z",
     "shell.execute_reply": "2021-12-19T11:43:07.297922Z",
     "shell.execute_reply.started": "2021-12-19T11:39:54.698586Z"
    },
    "papermill": {
     "duration": 6.827675,
     "end_time": "2021-12-19T11:43:07.298243",
     "exception": false,
     "start_time": "2021-12-19T11:43:00.470568",
     "status": "completed"
    },
    "tags": []
   },
   "outputs": [],
   "source": [
    "import numpy as np\n",
    "import pandas as pd\n",
    "from sklearn.datasets import fetch_20newsgroups\n",
    "from sklearn.model_selection import train_test_split\n",
    "\n",
    "import tensorflow as tf\n",
    "from tensorflow import keras\n",
    "from tensorflow.keras import layers as L\n",
    "from keras.preprocessing import sequence\n",
    "from keras.preprocessing.text import Tokenizer"
   ]
  },
  {
   "cell_type": "code",
   "execution_count": 2,
   "id": "7f7d936e",
   "metadata": {
    "execution": {
     "iopub.execute_input": "2021-12-19T11:43:07.325770Z",
     "iopub.status.busy": "2021-12-19T11:43:07.324539Z",
     "iopub.status.idle": "2021-12-19T11:43:18.264380Z",
     "shell.execute_reply": "2021-12-19T11:43:18.263404Z",
     "shell.execute_reply.started": "2021-12-19T11:40:00.239693Z"
    },
    "papermill": {
     "duration": 10.955562,
     "end_time": "2021-12-19T11:43:18.264587",
     "exception": false,
     "start_time": "2021-12-19T11:43:07.309025",
     "status": "completed"
    },
    "tags": []
   },
   "outputs": [],
   "source": [
    "dataset = fetch_20newsgroups(subset='all')\n",
    "\n",
    "X = pd.Series(dataset['data'])\n",
    "y = pd.Series(dataset['target'])\n",
    "X_train, X_valid, y_train, y_valid = train_test_split(X, y, test_size=0.1, stratify=y, random_state=19)\n",
    "y_train = pd.get_dummies(y_train)\n",
    "y_valid = pd.get_dummies(y_valid)"
   ]
  },
  {
   "cell_type": "code",
   "execution_count": 3,
   "id": "848c0d30",
   "metadata": {
    "execution": {
     "iopub.execute_input": "2021-12-19T11:43:18.293807Z",
     "iopub.status.busy": "2021-12-19T11:43:18.292763Z",
     "iopub.status.idle": "2021-12-19T11:43:18.298323Z",
     "shell.execute_reply": "2021-12-19T11:43:18.297816Z",
     "shell.execute_reply.started": "2021-12-19T11:40:08.799053Z"
    },
    "papermill": {
     "duration": 0.023692,
     "end_time": "2021-12-19T11:43:18.298448",
     "exception": false,
     "start_time": "2021-12-19T11:43:18.274756",
     "status": "completed"
    },
    "tags": []
   },
   "outputs": [],
   "source": [
    "class TransformerEncoder(L.Layer):\n",
    "    def __init__(self, embed_dim, dense_dim, num_heads, **kwargs):\n",
    "        super().__init__(**kwargs)\n",
    "        self.embed_dim = embed_dim\n",
    "        self.dense_dim = dense_dim\n",
    "        self.num_heads = num_heads\n",
    "        self.attention = L.MultiHeadAttention(num_heads=num_heads, key_dim=embed_dim)\n",
    "        self.dense_proj = keras.Sequential([L.Dense(dense_dim, activation='relu'), L.Dense(embed_dim)])\n",
    "        self.layernorm1 = L.LayerNormalization()\n",
    "        self.layernorm2 = L.LayerNormalization()\n",
    "    \n",
    "    def call(self, inputs, mask=None):\n",
    "        if mask is not None:\n",
    "            mask = mask[: tf.newaxis, :]\n",
    "        attention_output = self.attention(inputs, inputs, attention_mask=mask)\n",
    "        proj_input = self.layernorm1(inputs + attention_output)\n",
    "        proj_output = self.dense_proj(proj_input)\n",
    "        return self.layernorm2(proj_input + proj_output)\n",
    "    \n",
    "    def get_config(self):\n",
    "        config = super().get_confog()\n",
    "        config.update({\n",
    "            \"embed_dim\": self.embed_dim,\n",
    "            \"num_heads\": self.num_heads,\n",
    "            \"dense_dim\": self.dense_dim\n",
    "        })\n",
    "        return config"
   ]
  },
  {
   "cell_type": "code",
   "execution_count": 4,
   "id": "2029bc3b",
   "metadata": {
    "execution": {
     "iopub.execute_input": "2021-12-19T11:43:18.323256Z",
     "iopub.status.busy": "2021-12-19T11:43:18.322325Z",
     "iopub.status.idle": "2021-12-19T11:43:18.325394Z",
     "shell.execute_reply": "2021-12-19T11:43:18.325846Z",
     "shell.execute_reply.started": "2021-12-19T11:40:08.818037Z"
    },
    "papermill": {
     "duration": 0.017487,
     "end_time": "2021-12-19T11:43:18.326008",
     "exception": false,
     "start_time": "2021-12-19T11:43:18.308521",
     "status": "completed"
    },
    "tags": []
   },
   "outputs": [],
   "source": [
    "vocab_size = 10_000\n",
    "embed_dim = 256\n",
    "num_heads = 2\n",
    "dense_dim = 32\n",
    "seq_length = 256"
   ]
  },
  {
   "cell_type": "code",
   "execution_count": 5,
   "id": "752850a1",
   "metadata": {
    "execution": {
     "iopub.execute_input": "2021-12-19T11:43:18.407319Z",
     "iopub.status.busy": "2021-12-19T11:43:18.386642Z",
     "iopub.status.idle": "2021-12-19T11:43:27.499252Z",
     "shell.execute_reply": "2021-12-19T11:43:27.498676Z",
     "shell.execute_reply.started": "2021-12-19T11:40:08.880983Z"
    },
    "papermill": {
     "duration": 9.163099,
     "end_time": "2021-12-19T11:43:27.499430",
     "exception": false,
     "start_time": "2021-12-19T11:43:18.336331",
     "status": "completed"
    },
    "tags": []
   },
   "outputs": [],
   "source": [
    "tokenizer = Tokenizer(num_words=vocab_size, oov_token='<unw>')\n",
    "tokenizer.fit_on_texts(X_train)\n",
    "X_train = tokenizer.texts_to_sequences(X_train)\n",
    "X_train = sequence.pad_sequences(X_train, maxlen=seq_length)\n",
    "X_valid = tokenizer.texts_to_sequences(X_valid)\n",
    "X_valid = sequence.pad_sequences(X_valid, maxlen=seq_length)"
   ]
  },
  {
   "cell_type": "code",
   "execution_count": 6,
   "id": "cb7043d8",
   "metadata": {
    "execution": {
     "iopub.execute_input": "2021-12-19T11:43:27.531531Z",
     "iopub.status.busy": "2021-12-19T11:43:27.530676Z",
     "iopub.status.idle": "2021-12-19T11:43:30.548017Z",
     "shell.execute_reply": "2021-12-19T11:43:30.547415Z",
     "shell.execute_reply.started": "2021-12-19T11:40:17.074349Z"
    },
    "papermill": {
     "duration": 3.034438,
     "end_time": "2021-12-19T11:43:30.548166",
     "exception": false,
     "start_time": "2021-12-19T11:43:27.513728",
     "status": "completed"
    },
    "tags": []
   },
   "outputs": [
    {
     "name": "stderr",
     "output_type": "stream",
     "text": [
      "2021-12-19 11:43:27.623350: I tensorflow/stream_executor/cuda/cuda_gpu_executor.cc:937] successful NUMA node read from SysFS had negative value (-1), but there must be at least one NUMA node, so returning NUMA node zero\n",
      "2021-12-19 11:43:27.738838: I tensorflow/stream_executor/cuda/cuda_gpu_executor.cc:937] successful NUMA node read from SysFS had negative value (-1), but there must be at least one NUMA node, so returning NUMA node zero\n",
      "2021-12-19 11:43:27.740041: I tensorflow/stream_executor/cuda/cuda_gpu_executor.cc:937] successful NUMA node read from SysFS had negative value (-1), but there must be at least one NUMA node, so returning NUMA node zero\n",
      "2021-12-19 11:43:27.741743: I tensorflow/core/platform/cpu_feature_guard.cc:142] This TensorFlow binary is optimized with oneAPI Deep Neural Network Library (oneDNN) to use the following CPU instructions in performance-critical operations:  AVX2 FMA\n",
      "To enable them in other operations, rebuild TensorFlow with the appropriate compiler flags.\n",
      "2021-12-19 11:43:27.743167: I tensorflow/stream_executor/cuda/cuda_gpu_executor.cc:937] successful NUMA node read from SysFS had negative value (-1), but there must be at least one NUMA node, so returning NUMA node zero\n",
      "2021-12-19 11:43:27.744236: I tensorflow/stream_executor/cuda/cuda_gpu_executor.cc:937] successful NUMA node read from SysFS had negative value (-1), but there must be at least one NUMA node, so returning NUMA node zero\n",
      "2021-12-19 11:43:27.745286: I tensorflow/stream_executor/cuda/cuda_gpu_executor.cc:937] successful NUMA node read from SysFS had negative value (-1), but there must be at least one NUMA node, so returning NUMA node zero\n",
      "2021-12-19 11:43:29.885088: I tensorflow/stream_executor/cuda/cuda_gpu_executor.cc:937] successful NUMA node read from SysFS had negative value (-1), but there must be at least one NUMA node, so returning NUMA node zero\n",
      "2021-12-19 11:43:29.886242: I tensorflow/stream_executor/cuda/cuda_gpu_executor.cc:937] successful NUMA node read from SysFS had negative value (-1), but there must be at least one NUMA node, so returning NUMA node zero\n",
      "2021-12-19 11:43:29.887289: I tensorflow/stream_executor/cuda/cuda_gpu_executor.cc:937] successful NUMA node read from SysFS had negative value (-1), but there must be at least one NUMA node, so returning NUMA node zero\n",
      "2021-12-19 11:43:29.888278: I tensorflow/core/common_runtime/gpu/gpu_device.cc:1510] Created device /job:localhost/replica:0/task:0/device:GPU:0 with 15403 MB memory:  -> device: 0, name: Tesla P100-PCIE-16GB, pci bus id: 0000:00:04.0, compute capability: 6.0\n"
     ]
    }
   ],
   "source": [
    "inputs = keras.Input(shape=(None, ), dtype=\"int64\")\n",
    "x = L.Embedding(vocab_size, embed_dim)(inputs)\n",
    "x = TransformerEncoder(embed_dim, dense_dim, num_heads)(x)\n",
    "x = L.GlobalMaxPooling1D()(x)\n",
    "x = L.Dropout(0.5)(x)\n",
    "outputs = L.Dense(20, activation='softmax')(x)\n",
    "\n",
    "model = keras.Model(inputs, outputs)\n",
    "model.compile(optimizer='adam', loss='categorical_crossentropy', metrics=['accuracy'])"
   ]
  },
  {
   "cell_type": "code",
   "execution_count": 7,
   "id": "112feedf",
   "metadata": {
    "execution": {
     "iopub.execute_input": "2021-12-19T11:43:30.580417Z",
     "iopub.status.busy": "2021-12-19T11:43:30.578776Z",
     "iopub.status.idle": "2021-12-19T11:43:30.586636Z",
     "shell.execute_reply": "2021-12-19T11:43:30.587905Z",
     "shell.execute_reply.started": "2021-12-19T11:40:17.074349Z"
    },
    "papermill": {
     "duration": 0.028126,
     "end_time": "2021-12-19T11:43:30.588073",
     "exception": false,
     "start_time": "2021-12-19T11:43:30.559947",
     "status": "completed"
    },
    "tags": []
   },
   "outputs": [
    {
     "name": "stdout",
     "output_type": "stream",
     "text": [
      "Model: \"model\"\n",
      "_________________________________________________________________\n",
      "Layer (type)                 Output Shape              Param #   \n",
      "=================================================================\n",
      "input_1 (InputLayer)         [(None, None)]            0         \n",
      "_________________________________________________________________\n",
      "embedding (Embedding)        (None, None, 256)         2560000   \n",
      "_________________________________________________________________\n",
      "transformer_encoder (Transfo (None, None, 256)         543776    \n",
      "_________________________________________________________________\n",
      "global_max_pooling1d (Global (None, 256)               0         \n",
      "_________________________________________________________________\n",
      "dropout (Dropout)            (None, 256)               0         \n",
      "_________________________________________________________________\n",
      "dense_2 (Dense)              (None, 20)                5140      \n",
      "=================================================================\n",
      "Total params: 3,108,916\n",
      "Trainable params: 3,108,916\n",
      "Non-trainable params: 0\n",
      "_________________________________________________________________\n"
     ]
    }
   ],
   "source": [
    "model.summary()"
   ]
  },
  {
   "cell_type": "code",
   "execution_count": 8,
   "id": "ff13b1eb",
   "metadata": {
    "execution": {
     "iopub.execute_input": "2021-12-19T11:43:30.616662Z",
     "iopub.status.busy": "2021-12-19T11:43:30.615529Z",
     "iopub.status.idle": "2021-12-19T11:43:30.618592Z",
     "shell.execute_reply": "2021-12-19T11:43:30.617883Z",
     "shell.execute_reply.started": "2021-12-19T11:40:19.510681Z"
    },
    "papermill": {
     "duration": 0.019272,
     "end_time": "2021-12-19T11:43:30.618737",
     "exception": false,
     "start_time": "2021-12-19T11:43:30.599465",
     "status": "completed"
    },
    "tags": []
   },
   "outputs": [],
   "source": [
    "es = keras.callbacks.EarlyStopping(verbose=1, patience=5, restore_best_weights=True)\n",
    "rlp = keras.callbacks.ReduceLROnPlateau(patience=3, verbose=1)"
   ]
  },
  {
   "cell_type": "code",
   "execution_count": 9,
   "id": "515abd97",
   "metadata": {
    "execution": {
     "iopub.execute_input": "2021-12-19T11:43:30.647403Z",
     "iopub.status.busy": "2021-12-19T11:43:30.646366Z",
     "iopub.status.idle": "2021-12-19T11:44:54.817513Z",
     "shell.execute_reply": "2021-12-19T11:44:54.816871Z",
     "shell.execute_reply.started": "2021-12-19T11:40:19.519774Z"
    },
    "papermill": {
     "duration": 84.187812,
     "end_time": "2021-12-19T11:44:54.817661",
     "exception": false,
     "start_time": "2021-12-19T11:43:30.629849",
     "status": "completed"
    },
    "tags": []
   },
   "outputs": [
    {
     "name": "stderr",
     "output_type": "stream",
     "text": [
      "2021-12-19 11:43:30.733322: I tensorflow/compiler/mlir/mlir_graph_optimization_pass.cc:185] None of the MLIR Optimization Passes are enabled (registered 2)\n"
     ]
    },
    {
     "name": "stdout",
     "output_type": "stream",
     "text": [
      "Epoch 1/100\n"
     ]
    },
    {
     "name": "stderr",
     "output_type": "stream",
     "text": [
      "2021-12-19 11:43:34.086634: I tensorflow/stream_executor/cuda/cuda_dnn.cc:369] Loaded cuDNN version 8005\n"
     ]
    },
    {
     "name": "stdout",
     "output_type": "stream",
     "text": [
      "531/531 [==============================] - 14s 19ms/step - loss: 2.0350 - accuracy: 0.4602 - val_loss: 0.7296 - val_accuracy: 0.7963\n",
      "Epoch 2/100\n",
      "531/531 [==============================] - 10s 19ms/step - loss: 0.6954 - accuracy: 0.7944 - val_loss: 0.5188 - val_accuracy: 0.8419\n",
      "Epoch 3/100\n",
      "531/531 [==============================] - 10s 19ms/step - loss: 0.3575 - accuracy: 0.8860 - val_loss: 0.4742 - val_accuracy: 0.8594\n",
      "Epoch 4/100\n",
      "531/531 [==============================] - 10s 19ms/step - loss: 0.1928 - accuracy: 0.9377 - val_loss: 0.4820 - val_accuracy: 0.8828\n",
      "Epoch 5/100\n",
      "531/531 [==============================] - 10s 19ms/step - loss: 0.0988 - accuracy: 0.9708 - val_loss: 0.5476 - val_accuracy: 0.8690\n",
      "Epoch 6/100\n",
      "531/531 [==============================] - 10s 19ms/step - loss: 0.0581 - accuracy: 0.9836 - val_loss: 0.5503 - val_accuracy: 0.8753\n",
      "\n",
      "Epoch 00006: ReduceLROnPlateau reducing learning rate to 0.00010000000474974513.\n",
      "Epoch 7/100\n",
      "531/531 [==============================] - 10s 19ms/step - loss: 0.0232 - accuracy: 0.9942 - val_loss: 0.5792 - val_accuracy: 0.8801\n",
      "Epoch 8/100\n",
      "531/531 [==============================] - 10s 19ms/step - loss: 0.0134 - accuracy: 0.9969 - val_loss: 0.5985 - val_accuracy: 0.8833\n",
      "Restoring model weights from the end of the best epoch.\n",
      "Epoch 00008: early stopping\n"
     ]
    }
   ],
   "source": [
    "history = model.fit(X_train, y_train, validation_data=(X_valid, y_valid),\n",
    "    callbacks=[es, rlp], epochs=100\n",
    ")"
   ]
  },
  {
   "cell_type": "code",
   "execution_count": 10,
   "id": "190ef941",
   "metadata": {
    "execution": {
     "iopub.execute_input": "2021-12-19T11:44:55.789654Z",
     "iopub.status.busy": "2021-12-19T11:44:55.788724Z",
     "iopub.status.idle": "2021-12-19T11:44:56.674003Z",
     "shell.execute_reply": "2021-12-19T11:44:56.673357Z",
     "shell.execute_reply.started": "2021-12-19T11:42:01.924638Z"
    },
    "papermill": {
     "duration": 1.375435,
     "end_time": "2021-12-19T11:44:56.674156",
     "exception": false,
     "start_time": "2021-12-19T11:44:55.298721",
     "status": "completed"
    },
    "tags": []
   },
   "outputs": [
    {
     "data": {
      "image/png": "[encoded data removed]",
      "text/plain": [
       "<Figure size 1440x864 with 2 Axes>"
      ]
     },
     "metadata": {},
     "output_type": "display_data"
    }
   ],
   "source": [
    "import matplotlib.pyplot as plt\n",
    "import seaborn as sns\n",
    "sns.set_style('darkgrid')\n",
    "\n",
    "history = pd.DataFrame(history.history)\n",
    "fig, ax = plt.subplots(2, 1, figsize=(20, 12))\n",
    "fig.suptitle('Learning Curve', fontsize=24)\n",
    "history[['loss', 'val_loss']].plot(ax=ax[0])\n",
    "history[['accuracy', 'val_accuracy']].plot(ax=ax[1])\n",
    "ax[0].set_title('Loss', fontsize=18)\n",
    "ax[1].set_title('Accuarcy', fontsize=18);"
   ]
  },
  {
   "cell_type": "code",
   "execution_count": null,
   "id": "487e633b",
   "metadata": {
    "papermill": {
     "duration": 0.490851,
     "end_time": "2021-12-19T11:44:57.651109",
     "exception": false,
     "start_time": "2021-12-19T11:44:57.160258",
     "status": "completed"
    },
    "tags": []
   },
   "outputs": [],
   "source": []
  }
 ],
 "metadata": {
  "kernelspec": {
   "display_name": "Python 3",
   "language": "python",
   "name": "python3"
  },
  "language_info": {
   "codemirror_mode": {
    "name": "ipython",
    "version": 3
   },
   "file_extension": ".py",
   "mimetype": "text/x-python",
   "name": "python",
   "nbconvert_exporter": "python",
   "pygments_lexer": "ipython3",
   "version": "3.8.8"
  },
  "papermill": {
   "default_parameters": {},
   "duration": 130.661772,
   "end_time": "2021-12-19T11:45:01.423199",
   "environment_variables": {},
   "exception": null,
   "input_path": "__notebook__.ipynb",
   "output_path": "__notebook__.ipynb",
   "parameters": {},
   "start_time": "2021-12-19T11:42:50.761427",
   "version": "2.3.3"
  }
 },
 "nbformat": 4,
 "nbformat_minor": 5
}
