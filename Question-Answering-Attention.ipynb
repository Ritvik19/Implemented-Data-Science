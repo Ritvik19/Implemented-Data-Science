{
 "cells": [
  {
   "cell_type": "code",
   "execution_count": 1,
   "id": "5c97844d",
   "metadata": {
    "_cell_guid": "b1076dfc-b9ad-4769-8c92-a6c4dae69d19",
    "_uuid": "8f2839f25d086af736a60e9eeb907d3b93b6e0e5",
    "execution": {
     "iopub.execute_input": "2022-04-24T16:30:04.031442Z",
     "iopub.status.busy": "2022-04-24T16:30:04.030126Z",
     "iopub.status.idle": "2022-04-24T16:30:05.101732Z",
     "shell.execute_reply": "2022-04-24T16:30:05.100456Z",
     "shell.execute_reply.started": "2022-01-09T09:36:29.774377Z"
    },
    "papermill": {
     "duration": 1.090765,
     "end_time": "2022-04-24T16:30:05.101954",
     "exception": false,
     "start_time": "2022-04-24T16:30:04.011189",
     "status": "completed"
    },
    "tags": []
   },
   "outputs": [],
   "source": [
    "import numpy as np\n",
    "import pandas as pd\n",
    "from sklearn.model_selection import train_test_split"
   ]
  },
  {
   "cell_type": "code",
   "execution_count": 2,
   "id": "8eb33890",
   "metadata": {
    "execution": {
     "iopub.execute_input": "2022-04-24T16:30:05.135504Z",
     "iopub.status.busy": "2022-04-24T16:30:05.134720Z",
     "iopub.status.idle": "2022-04-24T16:30:11.483210Z",
     "shell.execute_reply": "2022-04-24T16:30:11.482514Z",
     "shell.execute_reply.started": "2022-01-09T09:36:31.012746Z"
    },
    "papermill": {
     "duration": 6.366958,
     "end_time": "2022-04-24T16:30:11.483354",
     "exception": false,
     "start_time": "2022-04-24T16:30:05.116396",
     "status": "completed"
    },
    "tags": []
   },
   "outputs": [],
   "source": [
    "import tensorflow as tf\n",
    "from tensorflow import keras\n",
    "from tensorflow.keras import layers as L\n",
    "from tensorflow.keras.preprocessing.text import Tokenizer\n",
    "from tensorflow.keras.preprocessing.sequence import pad_sequences"
   ]
  },
  {
   "cell_type": "markdown",
   "id": "e12e808f",
   "metadata": {
    "papermill": {
     "duration": 0.012995,
     "end_time": "2022-04-24T16:30:11.509733",
     "exception": false,
     "start_time": "2022-04-24T16:30:11.496738",
     "status": "completed"
    },
    "tags": []
   },
   "source": [
    "#  Data Preparation\n",
    "\n",
    "Our model would take in 2 inputs, ie context and question, and based on that it should be able to find a substring of the context as the answer to the question.\n",
    "\n",
    "Since answer is a substring of the context, we will use the same tokenizer for context and answer.\n",
    "\n",
    "We will prepare the context, question and answer tensors:\n",
    "* tokenize and pad the context using context tokenizer to form context tensor\n",
    "* tokenize and pad the answer using context tokenizer\n",
    "* calculate the beginning and ending index of answer sub array in the context array as one hot encoded arrays and pad them\n",
    "* tokenize and pad the question using question tokenizer to form question tensor\n",
    "* concatenate beginning and ending indicies tensors to form the answer tensor"
   ]
  },
  {
   "cell_type": "code",
   "execution_count": 3,
   "id": "c5b145ce",
   "metadata": {
    "execution": {
     "iopub.execute_input": "2022-04-24T16:30:11.541349Z",
     "iopub.status.busy": "2022-04-24T16:30:11.540588Z",
     "iopub.status.idle": "2022-04-24T16:30:11.746767Z",
     "shell.execute_reply": "2022-04-24T16:30:11.747320Z",
     "shell.execute_reply.started": "2022-01-09T09:36:37.782937Z"
    },
    "papermill": {
     "duration": 0.224598,
     "end_time": "2022-04-24T16:30:11.747504",
     "exception": false,
     "start_time": "2022-04-24T16:30:11.522906",
     "status": "completed"
    },
    "tags": []
   },
   "outputs": [
    {
     "data": {
      "text/html": [
       "<div>\n",
       "<style scoped>\n",
       "    .dataframe tbody tr th:only-of-type {\n",
       "        vertical-align: middle;\n",
       "    }\n",
       "\n",
       "    .dataframe tbody tr th {\n",
       "        vertical-align: top;\n",
       "    }\n",
       "\n",
       "    .dataframe thead th {\n",
       "        text-align: right;\n",
       "    }\n",
       "</style>\n",
       "<table border=\"1\" class=\"dataframe\">\n",
       "  <thead>\n",
       "    <tr style=\"text-align: right;\">\n",
       "      <th></th>\n",
       "      <th>textID</th>\n",
       "      <th>text</th>\n",
       "      <th>selected_text</th>\n",
       "      <th>sentiment</th>\n",
       "    </tr>\n",
       "  </thead>\n",
       "  <tbody>\n",
       "    <tr>\n",
       "      <th>0</th>\n",
       "      <td>cb774db0d1</td>\n",
       "      <td>I`d have responded, if I were going</td>\n",
       "      <td>I`d have responded, if I were going</td>\n",
       "      <td>neutral</td>\n",
       "    </tr>\n",
       "    <tr>\n",
       "      <th>1</th>\n",
       "      <td>549e992a42</td>\n",
       "      <td>Sooo SAD I will miss you here in San Diego!!!</td>\n",
       "      <td>Sooo SAD</td>\n",
       "      <td>negative</td>\n",
       "    </tr>\n",
       "    <tr>\n",
       "      <th>2</th>\n",
       "      <td>088c60f138</td>\n",
       "      <td>my boss is bullying me...</td>\n",
       "      <td>bullying me</td>\n",
       "      <td>negative</td>\n",
       "    </tr>\n",
       "    <tr>\n",
       "      <th>3</th>\n",
       "      <td>9642c003ef</td>\n",
       "      <td>what interview! leave me alone</td>\n",
       "      <td>leave me alone</td>\n",
       "      <td>negative</td>\n",
       "    </tr>\n",
       "    <tr>\n",
       "      <th>4</th>\n",
       "      <td>358bd9e861</td>\n",
       "      <td>Sons of ****, why couldn`t they put them on t...</td>\n",
       "      <td>Sons of ****,</td>\n",
       "      <td>negative</td>\n",
       "    </tr>\n",
       "  </tbody>\n",
       "</table>\n",
       "</div>"
      ],
      "text/plain": [
       "       textID                                               text  \\\n",
       "0  cb774db0d1                I`d have responded, if I were going   \n",
       "1  549e992a42      Sooo SAD I will miss you here in San Diego!!!   \n",
       "2  088c60f138                          my boss is bullying me...   \n",
       "3  9642c003ef                     what interview! leave me alone   \n",
       "4  358bd9e861   Sons of ****, why couldn`t they put them on t...   \n",
       "\n",
       "                         selected_text sentiment  \n",
       "0  I`d have responded, if I were going   neutral  \n",
       "1                             Sooo SAD  negative  \n",
       "2                          bullying me  negative  \n",
       "3                       leave me alone  negative  \n",
       "4                        Sons of ****,  negative  "
      ]
     },
     "execution_count": 3,
     "metadata": {},
     "output_type": "execute_result"
    }
   ],
   "source": [
    "df = pd.read_csv('../input/tweet-sentiment-extraction/train.csv')\n",
    "df.head()"
   ]
  },
  {
   "cell_type": "code",
   "execution_count": 4,
   "id": "de14fbf5",
   "metadata": {
    "execution": {
     "iopub.execute_input": "2022-04-24T16:30:11.787026Z",
     "iopub.status.busy": "2022-04-24T16:30:11.786015Z",
     "iopub.status.idle": "2022-04-24T16:30:13.695006Z",
     "shell.execute_reply": "2022-04-24T16:30:13.694432Z",
     "shell.execute_reply.started": "2022-01-09T09:36:37.957566Z"
    },
    "papermill": {
     "duration": 1.933558,
     "end_time": "2022-04-24T16:30:13.695194",
     "exception": false,
     "start_time": "2022-04-24T16:30:11.761636",
     "status": "completed"
    },
    "tags": []
   },
   "outputs": [],
   "source": [
    "context_tokenizer = Tokenizer()\n",
    "context_tokenizer.fit_on_texts(df.text.fillna(''))\n",
    "context = context_tokenizer.texts_to_sequences(df.text.fillna(''))\n",
    "\n",
    "answers = context_tokenizer.texts_to_sequences(df.selected_text.fillna(''))\n",
    "beg_pos = [[1 if a[x:x+len(b)] == b else 0 for x in range(len(a))] for a, b in zip(context, answers)]\n",
    "end_pos = [[1 if a[x:x+len(b)] == b else 0 for x in range(len(a))] for a, b in zip(context, answers)]"
   ]
  },
  {
   "cell_type": "code",
   "execution_count": 5,
   "id": "54876270",
   "metadata": {
    "execution": {
     "iopub.execute_input": "2022-04-24T16:30:13.735294Z",
     "iopub.status.busy": "2022-04-24T16:30:13.731375Z",
     "iopub.status.idle": "2022-04-24T16:30:14.454904Z",
     "shell.execute_reply": "2022-04-24T16:30:14.454357Z",
     "shell.execute_reply.started": "2022-01-09T09:36:40.012988Z"
    },
    "papermill": {
     "duration": 0.745732,
     "end_time": "2022-04-24T16:30:14.455055",
     "exception": false,
     "start_time": "2022-04-24T16:30:13.709323",
     "status": "completed"
    },
    "tags": []
   },
   "outputs": [
    {
     "data": {
      "text/plain": [
       "((26235, 36), (26235, 36, 1), (26235, 36, 1), (26235, 36, 2))"
      ]
     },
     "execution_count": 5,
     "metadata": {},
     "output_type": "execute_result"
    }
   ],
   "source": [
    "context = np.array(pad_sequences(context, maxlen=36, padding='post', truncating='post'))\n",
    "beg_pos = np.array(pad_sequences(beg_pos, maxlen=36, padding='post', truncating='post'))\n",
    "end_pos = np.array(pad_sequences(end_pos, maxlen=36, padding='post', truncating='post'))\n",
    "\n",
    "all_zero = np.all((beg_pos == 0), axis=1)\n",
    "\n",
    "context = context[~all_zero]\n",
    "beg_pos = beg_pos[~all_zero]\n",
    "end_pos = end_pos[~all_zero]\n",
    "\n",
    "beg_pos = np.expand_dims(beg_pos, axis=2)\n",
    "end_pos = np.expand_dims(end_pos, axis=2)\n",
    "ans_vec = np.concatenate((beg_pos, end_pos), axis=2)\n",
    "\n",
    "context.shape, beg_pos.shape, end_pos.shape, ans_vec.shape"
   ]
  },
  {
   "cell_type": "code",
   "execution_count": 6,
   "id": "aa0089e4",
   "metadata": {
    "execution": {
     "iopub.execute_input": "2022-04-24T16:30:14.503382Z",
     "iopub.status.busy": "2022-04-24T16:30:14.492085Z",
     "iopub.status.idle": "2022-04-24T16:30:15.119833Z",
     "shell.execute_reply": "2022-04-24T16:30:15.119241Z",
     "shell.execute_reply.started": "2022-01-09T09:36:40.765368Z"
    },
    "papermill": {
     "duration": 0.651155,
     "end_time": "2022-04-24T16:30:15.120072",
     "exception": false,
     "start_time": "2022-04-24T16:30:14.468917",
     "status": "completed"
    },
    "tags": []
   },
   "outputs": [
    {
     "data": {
      "text/plain": [
       "(26235, 36)"
      ]
     },
     "execution_count": 6,
     "metadata": {},
     "output_type": "execute_result"
    }
   ],
   "source": [
    "question_tokenizer = Tokenizer()\n",
    "question_tokenizer.fit_on_texts(df.sentiment.fillna(''))\n",
    "question = question_tokenizer.texts_to_sequences(df.sentiment.fillna(''))\n",
    "question = np.array(pad_sequences(question, maxlen=36, padding='post', truncating='post'))\n",
    "question = question[~all_zero]\n",
    "question.shape"
   ]
  },
  {
   "cell_type": "code",
   "execution_count": 7,
   "id": "30941510",
   "metadata": {
    "execution": {
     "iopub.execute_input": "2022-04-24T16:30:15.164864Z",
     "iopub.status.busy": "2022-04-24T16:30:15.164142Z",
     "iopub.status.idle": "2022-04-24T16:30:15.188558Z",
     "shell.execute_reply": "2022-04-24T16:30:15.189271Z",
     "shell.execute_reply.started": "2022-01-09T09:36:41.37355Z"
    },
    "papermill": {
     "duration": 0.051086,
     "end_time": "2022-04-24T16:30:15.189511",
     "exception": false,
     "start_time": "2022-04-24T16:30:15.138425",
     "status": "completed"
    },
    "tags": []
   },
   "outputs": [
    {
     "data": {
      "text/plain": [
       "((23611, 36),\n",
       " (2624, 36),\n",
       " (23611, 36),\n",
       " (2624, 36),\n",
       " (23611, 36, 2),\n",
       " (2624, 36, 2))"
      ]
     },
     "execution_count": 7,
     "metadata": {},
     "output_type": "execute_result"
    }
   ],
   "source": [
    "context_train, context_valid, question_train, question_valid, ans_vec_train, ans_vec_valid = train_test_split(\n",
    "    context, question, ans_vec, test_size=0.1, random_state=0\n",
    ")\n",
    "(\n",
    "    context_train.shape, context_valid.shape, question_train.shape, \n",
    "    question_valid.shape, ans_vec_train.shape, ans_vec_valid.shape\n",
    ")"
   ]
  },
  {
   "cell_type": "markdown",
   "id": "b8b4d278",
   "metadata": {
    "papermill": {
     "duration": 0.014548,
     "end_time": "2022-04-24T16:30:15.224916",
     "exception": false,
     "start_time": "2022-04-24T16:30:15.210368",
     "status": "completed"
    },
    "tags": []
   },
   "source": [
    "# Model\n",
    "\n",
    "An Extractive Question Answering Model is pretty simple and similar to that of token classification, ie there are only a couple of changes, since we need two text inputs, we embed both of them and then pass through the encoder blocks and then we concatenate them, and the final output layer does a multilabel token classification with two classes, where 1 class represent beginning of answer and other class means end of the asnwer therefore the architechture looks something like:\n",
    "\n",
    "* Input Layers\n",
    "* Embeddingss\n",
    "* Transformer Encoder Blocks\n",
    "* Dropout (optional)\n",
    "* Concatenation\n",
    "* Classification Layer"
   ]
  },
  {
   "cell_type": "code",
   "execution_count": 8,
   "id": "4a228369",
   "metadata": {
    "execution": {
     "iopub.execute_input": "2022-04-24T16:30:15.258270Z",
     "iopub.status.busy": "2022-04-24T16:30:15.257512Z",
     "iopub.status.idle": "2022-04-24T16:30:15.276078Z",
     "shell.execute_reply": "2022-04-24T16:30:15.276876Z",
     "shell.execute_reply.started": "2022-01-09T09:36:41.40053Z"
    },
    "papermill": {
     "duration": 0.037477,
     "end_time": "2022-04-24T16:30:15.277123",
     "exception": false,
     "start_time": "2022-04-24T16:30:15.239646",
     "status": "completed"
    },
    "tags": []
   },
   "outputs": [],
   "source": [
    "class PositionalEmbedding(L.Layer):\n",
    "    def __init__(self, sequence_length, input_dim, output_dim, **kwargs):\n",
    "        super().__init__(**kwargs)\n",
    "        self.token_embeddings = L.Embedding(input_dim, output_dim)\n",
    "        self.position_embeddings = L.Embedding(sequence_length, output_dim)\n",
    "        self.sequence_length = sequence_length\n",
    "        self.input_dim = input_dim\n",
    "        self.output_dim = output_dim\n",
    "        \n",
    "    def call(self, inputs):\n",
    "        length = tf.shape(inputs)[-1]\n",
    "        positions = tf.range(start=0, limit=length, delta=1)\n",
    "        embedded_tokens = self.token_embeddings(inputs)\n",
    "        embedded_positions = self.position_embeddings(positions)\n",
    "        return embedded_tokens + embedded_positions\n",
    "        \n",
    "    def get_config(self):\n",
    "        config = super().get_config()\n",
    "        config.update({\n",
    "            \"output_dim\": self.output_dim,\n",
    "            \"sequence_length\": self.sequence_length,\n",
    "            \"input_dim\": self.input_dim,\n",
    "        })\n",
    "        return config\n",
    "    \n",
    "class TransformerEncoder(L.Layer):\n",
    "    def __init__(self, embed_dim, dense_dim, num_heads, **kwargs):\n",
    "        super().__init__(**kwargs)\n",
    "        self.embed_dim = embed_dim\n",
    "        self.dense_dim = dense_dim\n",
    "        self.num_heads = num_heads\n",
    "        self.attention = L.MultiHeadAttention(num_heads=num_heads, key_dim=embed_dim)\n",
    "        self.dense_proj = keras.Sequential([L.Dense(dense_dim, activation='relu'), L.Dense(embed_dim)])\n",
    "        self.layernorm1 = L.LayerNormalization()\n",
    "        self.layernorm2 = L.LayerNormalization()\n",
    "    \n",
    "    def call(self, inputs, mask=None):\n",
    "        if mask is not None:\n",
    "            mask = mask[: tf.newaxis, :]\n",
    "        attention_output = self.attention(inputs, inputs, attention_mask=mask)\n",
    "        proj_input = self.layernorm1(inputs + attention_output)\n",
    "        proj_output = self.dense_proj(proj_input)\n",
    "        return self.layernorm2(proj_input + proj_output)\n",
    "    \n",
    "    def get_config(self):\n",
    "        config = super().get_confog()\n",
    "        config.update({\n",
    "            \"embed_dim\": self.embed_dim,\n",
    "            \"num_heads\": self.num_heads,\n",
    "            \"dense_dim\": self.dense_dim\n",
    "        })\n",
    "        return config    "
   ]
  },
  {
   "cell_type": "code",
   "execution_count": 9,
   "id": "a5a8dbea",
   "metadata": {
    "execution": {
     "iopub.execute_input": "2022-04-24T16:30:15.315770Z",
     "iopub.status.busy": "2022-04-24T16:30:15.315157Z",
     "iopub.status.idle": "2022-04-24T16:30:17.182036Z",
     "shell.execute_reply": "2022-04-24T16:30:17.181454Z",
     "shell.execute_reply.started": "2022-01-09T09:36:41.418698Z"
    },
    "papermill": {
     "duration": 1.884868,
     "end_time": "2022-04-24T16:30:17.182198",
     "exception": false,
     "start_time": "2022-04-24T16:30:15.297330",
     "status": "completed"
    },
    "tags": []
   },
   "outputs": [
    {
     "name": "stderr",
     "output_type": "stream",
     "text": [
      "\n",
      "User settings:\n",
      "\n",
      "   KMP_AFFINITY=granularity=fine,verbose,compact,1,0\n",
      "   KMP_BLOCKTIME=0\n",
      "   KMP_DUPLICATE_LIB_OK=True\n",
      "   KMP_INIT_AT_FORK=FALSE\n",
      "   KMP_SETTINGS=1\n",
      "   KMP_WARNINGS=0\n",
      "\n",
      "Effective settings:\n",
      "\n",
      "   KMP_ABORT_DELAY=0\n",
      "   KMP_ADAPTIVE_LOCK_PROPS='1,1024'\n",
      "   KMP_ALIGN_ALLOC=64\n",
      "   KMP_ALL_THREADPRIVATE=128\n",
      "   KMP_ATOMIC_MODE=2\n",
      "   KMP_BLOCKTIME=0\n",
      "   KMP_CPUINFO_FILE: value is not defined\n",
      "   KMP_DETERMINISTIC_REDUCTION=false\n",
      "   KMP_DEVICE_THREAD_LIMIT=2147483647\n",
      "   KMP_DISP_NUM_BUFFERS=7\n",
      "   KMP_DUPLICATE_LIB_OK=true\n",
      "   KMP_ENABLE_TASK_THROTTLING=true\n",
      "   KMP_FORCE_REDUCTION: value is not defined\n",
      "   KMP_FOREIGN_THREADS_THREADPRIVATE=true\n",
      "   KMP_FORKJOIN_BARRIER='2,2'\n",
      "   KMP_FORKJOIN_BARRIER_PATTERN='hyper,hyper'\n",
      "   KMP_GTID_MODE=3\n",
      "   KMP_HANDLE_SIGNALS=false\n",
      "   KMP_HOT_TEAMS_MAX_LEVEL=1\n",
      "   KMP_HOT_TEAMS_MODE=0\n",
      "   KMP_INIT_AT_FORK=true\n",
      "   KMP_LIBRARY=throughput\n",
      "   KMP_LOCK_KIND=queuing\n",
      "   KMP_MALLOC_POOL_INCR=1M\n",
      "   KMP_NUM_LOCKS_IN_BLOCK=1\n",
      "   KMP_PLAIN_BARRIER='2,2'\n",
      "   KMP_PLAIN_BARRIER_PATTERN='hyper,hyper'\n",
      "   KMP_REDUCTION_BARRIER='1,1'\n",
      "   KMP_REDUCTION_BARRIER_PATTERN='hyper,hyper'\n",
      "   KMP_SCHEDULE='static,balanced;guided,iterative'\n",
      "   KMP_SETTINGS=true\n",
      "   KMP_SPIN_BACKOFF_PARAMS='4096,100'\n",
      "   KMP_STACKOFFSET=64\n",
      "   KMP_STACKPAD=0\n",
      "   KMP_STACKSIZE=8M\n",
      "   KMP_STORAGE_MAP=false\n",
      "   KMP_TASKING=2\n",
      "   KMP_TASKLOOP_MIN_TASKS=0\n",
      "   KMP_TASK_STEALING_CONSTRAINT=1\n",
      "   KMP_TEAMS_THREAD_LIMIT=4\n",
      "   KMP_TOPOLOGY_METHOD=all\n",
      "   KMP_USE_YIELD=1\n",
      "   KMP_VERSION=false\n",
      "   KMP_WARNINGS=false\n",
      "   OMP_AFFINITY_FORMAT='OMP: pid %P tid %i thread %n bound to OS proc set {%A}'\n",
      "   OMP_ALLOCATOR=omp_default_mem_alloc\n",
      "   OMP_CANCELLATION=false\n",
      "   OMP_DEFAULT_DEVICE=0\n",
      "   OMP_DISPLAY_AFFINITY=false\n",
      "   OMP_DISPLAY_ENV=false\n",
      "   OMP_DYNAMIC=false\n",
      "   OMP_MAX_ACTIVE_LEVELS=1\n",
      "   OMP_MAX_TASK_PRIORITY=0\n",
      "   OMP_NESTED: deprecated; max-active-levels-var=1\n",
      "   OMP_NUM_THREADS: value is not defined\n",
      "   OMP_PLACES: value is not defined\n",
      "   OMP_PROC_BIND='intel'\n",
      "   OMP_SCHEDULE='static'\n",
      "   OMP_STACKSIZE=8M\n",
      "   OMP_TARGET_OFFLOAD=DEFAULT\n",
      "   OMP_THREAD_LIMIT=2147483647\n",
      "   OMP_WAIT_POLICY=PASSIVE\n",
      "   KMP_AFFINITY='verbose,warnings,respect,granularity=fine,compact,1,0'\n",
      "\n",
      "2022-04-24 16:30:15.452341: I tensorflow/core/common_runtime/process_util.cc:146] Creating new thread pool with default inter op setting: 2. Tune using inter_op_parallelism_threads for best performance.\n"
     ]
    },
    {
     "name": "stdout",
     "output_type": "stream",
     "text": [
      "Model: \"model\"\n",
      "__________________________________________________________________________________________________\n",
      "Layer (type)                    Output Shape         Param #     Connected to                     \n",
      "==================================================================================================\n",
      "context (InputLayer)            [(None, 36)]         0                                            \n",
      "__________________________________________________________________________________________________\n",
      "question (InputLayer)           [(None, 36)]         0                                            \n",
      "__________________________________________________________________________________________________\n",
      "context_embeddings (PositionalE (None, 36, 64)       1704640     context[0][0]                    \n",
      "__________________________________________________________________________________________________\n",
      "question_embeddings (Positional (None, 36, 64)       2560        question[0][0]                   \n",
      "__________________________________________________________________________________________________\n",
      "context_encoder (TransformerEnc (None, 36, 64)       41792       context_embeddings[0][0]         \n",
      "__________________________________________________________________________________________________\n",
      "question_encoder (TransformerEn (None, 36, 64)       41792       question_embeddings[0][0]        \n",
      "__________________________________________________________________________________________________\n",
      "concatenate (Concatenate)       (None, 36, 128)      0           context_encoder[0][0]            \n",
      "                                                                 question_encoder[0][0]           \n",
      "__________________________________________________________________________________________________\n",
      "outputs (Dense)                 (None, 36, 2)        258         concatenate[0][0]                \n",
      "==================================================================================================\n",
      "Total params: 1,791,042\n",
      "Trainable params: 1,791,042\n",
      "Non-trainable params: 0\n",
      "__________________________________________________________________________________________________\n"
     ]
    },
    {
     "data": {
      "image/png": "[encoded data removed]",
      "text/plain": [
       "<IPython.core.display.Image object>"
      ]
     },
     "execution_count": 9,
     "metadata": {},
     "output_type": "execute_result"
    }
   ],
   "source": [
    "MAX_LEN = 36\n",
    "EMBED_DIM = 64\n",
    "DENSE_DIM = 64\n",
    "NUM_HEADS = 2\n",
    "\n",
    "context_inp = L.Input(shape=(MAX_LEN, ), name='context')\n",
    "question_inp = L.Input(shape=(MAX_LEN, ), name='question')\n",
    "\n",
    "context_emb = PositionalEmbedding(\n",
    "    MAX_LEN, len(context_tokenizer.word_index)+1, EMBED_DIM, name='context_embeddings'\n",
    ")(context_inp)\n",
    "question_emb = PositionalEmbedding(\n",
    "    MAX_LEN, len(question_tokenizer.word_index)+1, EMBED_DIM, name='question_embeddings'\n",
    ")(question_inp)\n",
    "\n",
    "context_emb = TransformerEncoder(EMBED_DIM, DENSE_DIM, NUM_HEADS, name='context_encoder')(context_emb)\n",
    "question_emb = TransformerEncoder(EMBED_DIM, DENSE_DIM, NUM_HEADS, name='question_encoder')(question_emb)\n",
    "\n",
    "concat_emb = L.Concatenate(axis=-1, name='concatenate')([context_emb, question_emb])\n",
    "\n",
    "outputs = L.Dense(2, activation='sigmoid', name='outputs')(concat_emb)\n",
    "\n",
    "model = keras.Model(inputs=[context_inp, question_inp], outputs=outputs)\n",
    "model.compile(loss='binary_crossentropy', optimizer=keras.optimizers.Adam(1e-4))\n",
    "model.summary()\n",
    "keras.utils.plot_model(model, show_shapes=True)"
   ]
  },
  {
   "cell_type": "code",
   "execution_count": 10,
   "id": "13658f24",
   "metadata": {
    "execution": {
     "iopub.execute_input": "2022-04-24T16:30:17.225751Z",
     "iopub.status.busy": "2022-04-24T16:30:17.225069Z",
     "iopub.status.idle": "2022-04-24T16:34:58.662012Z",
     "shell.execute_reply": "2022-04-24T16:34:58.660875Z",
     "shell.execute_reply.started": "2022-01-09T09:36:43.01377Z"
    },
    "papermill": {
     "duration": 281.462358,
     "end_time": "2022-04-24T16:34:58.662183",
     "exception": false,
     "start_time": "2022-04-24T16:30:17.199825",
     "status": "completed"
    },
    "tags": []
   },
   "outputs": [
    {
     "name": "stderr",
     "output_type": "stream",
     "text": [
      "2022-04-24 16:30:17.310580: I tensorflow/compiler/mlir/mlir_graph_optimization_pass.cc:185] None of the MLIR Optimization Passes are enabled (registered 2)\n"
     ]
    },
    {
     "name": "stdout",
     "output_type": "stream",
     "text": [
      "Epoch 1/25\n",
      "738/738 [==============================] - 31s 38ms/step - loss: 0.0794 - val_loss: 0.0555\n",
      "Epoch 2/25\n",
      "738/738 [==============================] - 27s 37ms/step - loss: 0.0539 - val_loss: 0.0528\n",
      "Epoch 3/25\n",
      "738/738 [==============================] - 28s 38ms/step - loss: 0.0505 - val_loss: 0.0520\n",
      "Epoch 4/25\n",
      "738/738 [==============================] - 28s 37ms/step - loss: 0.0480 - val_loss: 0.0499\n",
      "Epoch 5/25\n",
      "738/738 [==============================] - 28s 38ms/step - loss: 0.0444 - val_loss: 0.0492\n",
      "Epoch 6/25\n",
      "738/738 [==============================] - 28s 38ms/step - loss: 0.0430 - val_loss: 0.0497\n",
      "Epoch 7/25\n",
      "738/738 [==============================] - 28s 38ms/step - loss: 0.0419 - val_loss: 0.0502\n",
      "\n",
      "Epoch 00007: ReduceLROnPlateau reducing learning rate to 9.999999747378752e-06.\n",
      "Epoch 8/25\n",
      "738/738 [==============================] - 28s 38ms/step - loss: 0.0399 - val_loss: 0.0501\n",
      "Epoch 9/25\n",
      "738/738 [==============================] - 28s 38ms/step - loss: 0.0397 - val_loss: 0.0504\n",
      "\n",
      "Epoch 00009: ReduceLROnPlateau reducing learning rate to 9.999999747378752e-07.\n",
      "Epoch 10/25\n",
      "738/738 [==============================] - 27s 36ms/step - loss: 0.0394 - val_loss: 0.0503\n",
      "Restoring model weights from the end of the best epoch.\n",
      "Epoch 00010: early stopping\n"
     ]
    }
   ],
   "source": [
    "es = keras.callbacks.EarlyStopping(min_delta=1e-4, patience=5, verbose=1, restore_best_weights=True)\n",
    "rlp = keras.callbacks.ReduceLROnPlateau(patience=2, verbose=1)\n",
    "\n",
    "history = model.fit(\n",
    "    [context_train, question_train], ans_vec_train, validation_data=([context_valid, question_valid], ans_vec_valid),\n",
    "    epochs=25, callbacks=[es, rlp]\n",
    ")"
   ]
  },
  {
   "cell_type": "code",
   "execution_count": 11,
   "id": "b3f773b0",
   "metadata": {
    "execution": {
     "iopub.execute_input": "2022-04-24T16:35:01.146558Z",
     "iopub.status.busy": "2022-04-24T16:35:01.145750Z",
     "iopub.status.idle": "2022-04-24T16:35:01.442965Z",
     "shell.execute_reply": "2022-04-24T16:35:01.443452Z",
     "shell.execute_reply.started": "2022-01-09T09:41:03.387657Z"
    },
    "papermill": {
     "duration": 1.596811,
     "end_time": "2022-04-24T16:35:01.443629",
     "exception": false,
     "start_time": "2022-04-24T16:34:59.846818",
     "status": "completed"
    },
    "tags": []
   },
   "outputs": [
    {
     "data": {
      "image/png": "[encoded data removed]",
      "text/plain": [
       "<Figure size 432x288 with 1 Axes>"
      ]
     },
     "metadata": {
      "needs_background": "light"
     },
     "output_type": "display_data"
    }
   ],
   "source": [
    "pd.DataFrame(history.history)[['loss', 'val_loss']].plot();"
   ]
  },
  {
   "cell_type": "markdown",
   "id": "7730335c",
   "metadata": {
    "papermill": {
     "duration": 1.167837,
     "end_time": "2022-04-24T16:35:03.767230",
     "exception": false,
     "start_time": "2022-04-24T16:35:02.599393",
     "status": "completed"
    },
    "tags": []
   },
   "source": [
    "# Inference"
   ]
  },
  {
   "cell_type": "code",
   "execution_count": 12,
   "id": "1a6e3731",
   "metadata": {
    "execution": {
     "iopub.execute_input": "2022-04-24T16:35:06.100275Z",
     "iopub.status.busy": "2022-04-24T16:35:06.099550Z",
     "iopub.status.idle": "2022-04-24T16:35:06.151928Z",
     "shell.execute_reply": "2022-04-24T16:35:06.152482Z",
     "shell.execute_reply.started": "2022-01-09T09:41:08.751644Z"
    },
    "papermill": {
     "duration": 1.226252,
     "end_time": "2022-04-24T16:35:06.152671",
     "exception": false,
     "start_time": "2022-04-24T16:35:04.926419",
     "status": "completed"
    },
    "tags": []
   },
   "outputs": [
    {
     "name": "stdout",
     "output_type": "stream",
     "text": [
      "Context: ['benson loved the macaramber']\n",
      "Question: ['positive']\n",
      "Answer: ['loved']\n",
      "Predicted Answer: ['loved']\n"
     ]
    }
   ],
   "source": [
    "idx = 28\n",
    "query_context = context_valid[idx:idx+1]\n",
    "query_question = question_valid[idx:idx+1]\n",
    "query_ans_vec = ans_vec_valid[idx:idx+1]\n",
    "query_ans_beg, query_ans_end  = np.ravel(ans_vec_valid[idx:idx+1].argmax(axis=1))\n",
    "print('Context:', context_tokenizer.sequences_to_texts(query_context))\n",
    "print('Question:', question_tokenizer.sequences_to_texts(query_question))\n",
    "print('Answer:', context_tokenizer.sequences_to_texts([query_context[0][query_ans_beg: query_ans_end+1]]))\n",
    "pred_ans_beg, pred_ans_end = np.ravel(model([query_context, query_question]).numpy().argmax(axis=1))\n",
    "print('Predicted Answer:', context_tokenizer.sequences_to_texts([query_context[0][pred_ans_beg: pred_ans_end+1]]))"
   ]
  },
  {
   "cell_type": "code",
   "execution_count": null,
   "id": "8ffb7c95",
   "metadata": {
    "papermill": {
     "duration": 1.15326,
     "end_time": "2022-04-24T16:35:08.462530",
     "exception": false,
     "start_time": "2022-04-24T16:35:07.309270",
     "status": "completed"
    },
    "tags": []
   },
   "outputs": [],
   "source": []
  }
 ],
 "metadata": {
  "kernelspec": {
   "display_name": "Python 3",
   "language": "python",
   "name": "python3"
  },
  "language_info": {
   "codemirror_mode": {
    "name": "ipython",
    "version": 3
   },
   "file_extension": ".py",
   "mimetype": "text/x-python",
   "name": "python",
   "nbconvert_exporter": "python",
   "pygments_lexer": "ipython3",
   "version": "3.7.12"
  },
  "papermill": {
   "default_parameters": {},
   "duration": 319.026913,
   "end_time": "2022-04-24T16:35:12.785983",
   "environment_variables": {},
   "exception": null,
   "input_path": "__notebook__.ipynb",
   "output_path": "__notebook__.ipynb",
   "parameters": {},
   "start_time": "2022-04-24T16:29:53.759070",
   "version": "2.3.3"
  }
 },
 "nbformat": 4,
 "nbformat_minor": 5
}
