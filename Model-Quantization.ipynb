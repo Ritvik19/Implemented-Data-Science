{
 "cells": [
  {
   "cell_type": "code",
   "execution_count": 1,
   "id": "90ec96b3",
   "metadata": {
    "_cell_guid": "b1076dfc-b9ad-4769-8c92-a6c4dae69d19",
    "_uuid": "8f2839f25d086af736a60e9eeb907d3b93b6e0e5",
    "execution": {
     "iopub.execute_input": "2022-07-02T05:22:34.643945Z",
     "iopub.status.busy": "2022-07-02T05:22:34.642897Z",
     "iopub.status.idle": "2022-07-02T05:22:44.442400Z",
     "shell.execute_reply": "2022-07-02T05:22:44.440680Z"
    },
    "papermill": {
     "duration": 9.812766,
     "end_time": "2022-07-02T05:22:44.445522",
     "exception": false,
     "start_time": "2022-07-02T05:22:34.632756",
     "status": "completed"
    },
    "tags": []
   },
   "outputs": [],
   "source": [
    "import tensorflow as tf\n",
    "from tensorflow import keras\n",
    "import numpy as np\n",
    "import pathlib"
   ]
  },
  {
   "cell_type": "markdown",
   "id": "431c8fa5",
   "metadata": {
    "papermill": {
     "duration": 0.005895,
     "end_time": "2022-07-02T05:22:44.457988",
     "exception": false,
     "start_time": "2022-07-02T05:22:44.452093",
     "status": "completed"
    },
    "tags": []
   },
   "source": [
    "# Train a model"
   ]
  },
  {
   "cell_type": "code",
   "execution_count": 2,
   "id": "90372228",
   "metadata": {
    "execution": {
     "iopub.execute_input": "2022-07-02T05:22:44.472674Z",
     "iopub.status.busy": "2022-07-02T05:22:44.471865Z",
     "iopub.status.idle": "2022-07-02T05:24:11.085816Z",
     "shell.execute_reply": "2022-07-02T05:24:11.084305Z"
    },
    "papermill": {
     "duration": 86.694278,
     "end_time": "2022-07-02T05:24:11.158282",
     "exception": false,
     "start_time": "2022-07-02T05:22:44.464004",
     "status": "completed"
    },
    "tags": []
   },
   "outputs": [
    {
     "name": "stdout",
     "output_type": "stream",
     "text": [
      "Downloading data from https://storage.googleapis.com/tensorflow/tf-keras-datasets/mnist.npz\n",
      "11493376/11490434 [==============================] - 1s 0us/step\n",
      "11501568/11490434 [==============================] - 1s 0us/step\n"
     ]
    },
    {
     "name": "stderr",
     "output_type": "stream",
     "text": [
      "2022-07-02 05:22:48.304245: I tensorflow/core/common_runtime/process_util.cc:146] Creating new thread pool with default inter op setting: 2. Tune using inter_op_parallelism_threads for best performance.\n",
      "2022-07-02 05:22:48.639325: I tensorflow/compiler/mlir/mlir_graph_optimization_pass.cc:185] None of the MLIR Optimization Passes are enabled (registered 2)\n"
     ]
    },
    {
     "name": "stdout",
     "output_type": "stream",
     "text": [
      "Epoch 1/5\n",
      "1875/1875 [==============================] - 10s 5ms/step - loss: 0.2951 - accuracy: 0.9166 - val_loss: 0.1398 - val_accuracy: 0.9602\n",
      "Epoch 2/5\n",
      "1875/1875 [==============================] - 9s 5ms/step - loss: 0.1163 - accuracy: 0.9667 - val_loss: 0.0867 - val_accuracy: 0.9740\n",
      "Epoch 3/5\n",
      "1875/1875 [==============================] - 10s 5ms/step - loss: 0.0836 - accuracy: 0.9757 - val_loss: 0.0725 - val_accuracy: 0.9764\n",
      "Epoch 4/5\n",
      "1875/1875 [==============================] - 9s 5ms/step - loss: 0.0689 - accuracy: 0.9796 - val_loss: 0.0685 - val_accuracy: 0.9781\n",
      "Epoch 5/5\n",
      "1875/1875 [==============================] - 9s 5ms/step - loss: 0.0596 - accuracy: 0.9826 - val_loss: 0.0572 - val_accuracy: 0.9809\n"
     ]
    },
    {
     "data": {
      "text/plain": [
       "<keras.callbacks.History at 0x7f5fcb283150>"
      ]
     },
     "execution_count": 2,
     "metadata": {},
     "output_type": "execute_result"
    }
   ],
   "source": [
    "mnist = keras.datasets.mnist\n",
    "(train_images, train_labels), (test_images, test_labels) = mnist.load_data()\n",
    "\n",
    "# Normalize the input image so that each pixel value is between 0 to 1.\n",
    "train_images = (train_images / 255.0).astype(np.float32)\n",
    "test_images = (test_images / 255.0).astype(np.float32)\n",
    "\n",
    "# Define the model architecture\n",
    "model = keras.Sequential([\n",
    "  keras.layers.InputLayer(input_shape=(28, 28)),\n",
    "  keras.layers.Reshape(target_shape=(28, 28, 1)),\n",
    "  keras.layers.Conv2D(filters=12, kernel_size=(3, 3), activation=tf.nn.relu),\n",
    "  keras.layers.MaxPooling2D(pool_size=(2, 2)),\n",
    "  keras.layers.Flatten(),\n",
    "  keras.layers.Dense(10)\n",
    "])\n",
    "\n",
    "# Train the digit classification model\n",
    "model.compile(optimizer='adam',\n",
    "              loss=keras.losses.SparseCategoricalCrossentropy(from_logits=True),\n",
    "              metrics=['accuracy'])\n",
    "model.fit(\n",
    "  train_images,\n",
    "  train_labels,\n",
    "  epochs=5,\n",
    "  validation_data=(test_images, test_labels)\n",
    ")"
   ]
  },
  {
   "cell_type": "code",
   "execution_count": 3,
   "id": "2e5861f3",
   "metadata": {
    "execution": {
     "iopub.execute_input": "2022-07-02T05:24:11.293796Z",
     "iopub.status.busy": "2022-07-02T05:24:11.292607Z",
     "iopub.status.idle": "2022-07-02T05:24:11.320065Z",
     "shell.execute_reply": "2022-07-02T05:24:11.318996Z"
    },
    "papermill": {
     "duration": 0.098549,
     "end_time": "2022-07-02T05:24:11.323060",
     "exception": false,
     "start_time": "2022-07-02T05:24:11.224511",
     "status": "completed"
    },
    "tags": []
   },
   "outputs": [],
   "source": [
    "models_dir = pathlib.Path('models')\n",
    "models_dir.mkdir(exist_ok=True, parents=True)\n",
    "model.save(f'{models_dir}/tf_model.h5')"
   ]
  },
  {
   "cell_type": "markdown",
   "id": "0643b841",
   "metadata": {
    "papermill": {
     "duration": 0.067947,
     "end_time": "2022-07-02T05:24:11.463644",
     "exception": false,
     "start_time": "2022-07-02T05:24:11.395697",
     "status": "completed"
    },
    "tags": []
   },
   "source": [
    "# Various Quantization Techniques\n",
    "\n",
    "**Convert to a TensorFlow Lite model**\n",
    "\n",
    "TensorFlow Lite converts weights to 8 bit precision as part of model conversion from tensorflow graphdefs to TensorFlow Lite's flat buffer format."
   ]
  },
  {
   "cell_type": "code",
   "execution_count": 4,
   "id": "4ffc43f5",
   "metadata": {
    "execution": {
     "iopub.execute_input": "2022-07-02T05:24:11.603110Z",
     "iopub.status.busy": "2022-07-02T05:24:11.601844Z",
     "iopub.status.idle": "2022-07-02T05:24:12.935555Z",
     "shell.execute_reply": "2022-07-02T05:24:12.934082Z"
    },
    "papermill": {
     "duration": 1.406223,
     "end_time": "2022-07-02T05:24:12.938785",
     "exception": false,
     "start_time": "2022-07-02T05:24:11.532562",
     "status": "completed"
    },
    "tags": []
   },
   "outputs": [
    {
     "name": "stderr",
     "output_type": "stream",
     "text": [
      "2022-07-02 05:24:12.013618: W tensorflow/python/util/util.cc:348] Sets are not currently considered sequences, but this may change in the future, so consider avoiding using them.\n",
      "2022-07-02 05:24:12.712141: I tensorflow/core/grappler/devices.cc:75] Number of eligible GPUs (core count >= 8, compute capability >= 0.0): 0 (Note: TensorFlow was not compiled with CUDA or ROCm support)\n",
      "2022-07-02 05:24:12.712472: I tensorflow/core/grappler/clusters/single_machine.cc:357] Starting new session\n",
      "2022-07-02 05:24:12.718218: I tensorflow/core/grappler/optimizers/meta_optimizer.cc:1137] Optimization results for grappler item: graph_to_optimize\n",
      "  function_optimizer: function_optimizer did nothing. time = 0.015ms.\n",
      "  function_optimizer: function_optimizer did nothing. time = 0.001ms.\n",
      "\n",
      "2022-07-02 05:24:12.785490: W tensorflow/compiler/mlir/lite/python/tf_tfl_flatbuffer_helpers.cc:351] Ignored output_format.\n",
      "2022-07-02 05:24:12.785591: W tensorflow/compiler/mlir/lite/python/tf_tfl_flatbuffer_helpers.cc:354] Ignored drop_control_dependency.\n",
      "2022-07-02 05:24:12.819155: I tensorflow/compiler/mlir/tensorflow/utils/dump_mlir_util.cc:210] disabling MLIR crash reproducer, set env var `MLIR_CRASH_REPRODUCER_DIRECTORY` to enable.\n",
      "2022-07-02 05:24:12.858921: I tensorflow/core/common_runtime/process_util.cc:146] Creating new thread pool with default inter op setting: 2. Tune using inter_op_parallelism_threads for best performance.\n"
     ]
    },
    {
     "data": {
      "text/plain": [
       "84500"
      ]
     },
     "execution_count": 4,
     "metadata": {},
     "output_type": "execute_result"
    }
   ],
   "source": [
    "converter = tf.lite.TFLiteConverter.from_keras_model(model)\n",
    "tflite_model = converter.convert()\n",
    "tflite_model_file = models_dir/\"tflite_model.tflite\"\n",
    "tflite_model_file.write_bytes(tflite_model)"
   ]
  },
  {
   "cell_type": "markdown",
   "id": "da1ec2e4",
   "metadata": {
    "papermill": {
     "duration": 0.071809,
     "end_time": "2022-07-02T05:24:13.080995",
     "exception": false,
     "start_time": "2022-07-02T05:24:13.009186",
     "status": "completed"
    },
    "tags": []
   },
   "source": [
    "**Dynamic Quantization**\n",
    "\n",
    "Dynamic range quantization achieves a 4x reduction in the model size.\n",
    "The weights are quantized post training and the activations are quantized dynamically at inference in this method."
   ]
  },
  {
   "cell_type": "code",
   "execution_count": 5,
   "id": "4aff0eb9",
   "metadata": {
    "execution": {
     "iopub.execute_input": "2022-07-02T05:24:13.212946Z",
     "iopub.status.busy": "2022-07-02T05:24:13.211852Z",
     "iopub.status.idle": "2022-07-02T05:24:14.227999Z",
     "shell.execute_reply": "2022-07-02T05:24:14.226825Z"
    },
    "papermill": {
     "duration": 1.084449,
     "end_time": "2022-07-02T05:24:14.230462",
     "exception": false,
     "start_time": "2022-07-02T05:24:13.146013",
     "status": "completed"
    },
    "tags": []
   },
   "outputs": [
    {
     "name": "stderr",
     "output_type": "stream",
     "text": [
      "2022-07-02 05:24:14.151124: I tensorflow/core/grappler/devices.cc:75] Number of eligible GPUs (core count >= 8, compute capability >= 0.0): 0 (Note: TensorFlow was not compiled with CUDA or ROCm support)\n",
      "2022-07-02 05:24:14.151344: I tensorflow/core/grappler/clusters/single_machine.cc:357] Starting new session\n",
      "2022-07-02 05:24:14.152997: I tensorflow/core/grappler/optimizers/meta_optimizer.cc:1137] Optimization results for grappler item: graph_to_optimize\n",
      "  function_optimizer: function_optimizer did nothing. time = 0.009ms.\n",
      "  function_optimizer: function_optimizer did nothing. time = 0.001ms.\n",
      "\n",
      "2022-07-02 05:24:14.193063: W tensorflow/compiler/mlir/lite/python/tf_tfl_flatbuffer_helpers.cc:351] Ignored output_format.\n",
      "2022-07-02 05:24:14.193140: W tensorflow/compiler/mlir/lite/python/tf_tfl_flatbuffer_helpers.cc:354] Ignored drop_control_dependency.\n",
      "2022-07-02 05:24:14.214368: I tensorflow/lite/tools/optimize/quantize_weights.cc:225] Skipping quantization of tensor sequential/conv2d/Conv2D because it has fewer than 1024 elements (108).\n"
     ]
    },
    {
     "data": {
      "text/plain": [
       "23904"
      ]
     },
     "execution_count": 5,
     "metadata": {},
     "output_type": "execute_result"
    }
   ],
   "source": [
    "converter = tf.lite.TFLiteConverter.from_keras_model(model)\n",
    "converter.optimizations = [tf.lite.Optimize.DEFAULT]\n",
    "tflite_dynamic_quant_model = converter.convert()\n",
    "tflite_dynamic_quant_model_file = models_dir/\"tflite_dynamic_quant_model.tflite\"\n",
    "tflite_dynamic_quant_model_file.write_bytes(tflite_dynamic_quant_model)"
   ]
  },
  {
   "cell_type": "markdown",
   "id": "6cfb8f2f",
   "metadata": {
    "papermill": {
     "duration": 0.068165,
     "end_time": "2022-07-02T05:24:14.366097",
     "exception": false,
     "start_time": "2022-07-02T05:24:14.297932",
     "status": "completed"
    },
    "tags": []
   },
   "source": [
    "**Integer Quantization**\n",
    "\n",
    "Integer quantization is an optimization strategy that converts 32-bit floating-point numbers (such as weights and activation outputs) to the nearest 8-bit fixed-point numbers. This results in a smaller model and increased inferencing speed.\n",
    "\n",
    "To quantize the variable data (such as model input/output and intermediates between layers), you need to provide a RepresentativeDataset. This is a generator function that provides a set of input data that's large enough to represent typical values. It allows the converter to estimate a dynamic range for all the variable data. (The dataset does not need to be unique compared to the training or evaluation dataset.) To support multiple inputs, each representative data point is a list and elements in the list are fed to the model according to their indices."
   ]
  },
  {
   "cell_type": "code",
   "execution_count": 6,
   "id": "0246046d",
   "metadata": {
    "execution": {
     "iopub.execute_input": "2022-07-02T05:24:14.500986Z",
     "iopub.status.busy": "2022-07-02T05:24:14.500554Z",
     "iopub.status.idle": "2022-07-02T05:24:16.024206Z",
     "shell.execute_reply": "2022-07-02T05:24:16.022044Z"
    },
    "papermill": {
     "duration": 1.594629,
     "end_time": "2022-07-02T05:24:16.027441",
     "exception": false,
     "start_time": "2022-07-02T05:24:14.432812",
     "status": "completed"
    },
    "tags": []
   },
   "outputs": [
    {
     "name": "stderr",
     "output_type": "stream",
     "text": [
      "2022-07-02 05:24:15.276001: I tensorflow/core/grappler/devices.cc:75] Number of eligible GPUs (core count >= 8, compute capability >= 0.0): 0 (Note: TensorFlow was not compiled with CUDA or ROCm support)\n",
      "2022-07-02 05:24:15.276232: I tensorflow/core/grappler/clusters/single_machine.cc:357] Starting new session\n",
      "2022-07-02 05:24:15.278271: I tensorflow/core/grappler/optimizers/meta_optimizer.cc:1137] Optimization results for grappler item: graph_to_optimize\n",
      "  function_optimizer: function_optimizer did nothing. time = 0.015ms.\n",
      "  function_optimizer: function_optimizer did nothing. time = 0.001ms.\n",
      "\n",
      "2022-07-02 05:24:15.322859: W tensorflow/compiler/mlir/lite/python/tf_tfl_flatbuffer_helpers.cc:351] Ignored output_format.\n",
      "2022-07-02 05:24:15.322950: W tensorflow/compiler/mlir/lite/python/tf_tfl_flatbuffer_helpers.cc:354] Ignored drop_control_dependency.\n",
      "fully_quantize: 0, inference_type: 6, input_inference_type: 3, output_inference_type: 3\n"
     ]
    },
    {
     "data": {
      "text/plain": [
       "23904"
      ]
     },
     "execution_count": 6,
     "metadata": {},
     "output_type": "execute_result"
    }
   ],
   "source": [
    "def representative_data_gen():\n",
    "    for input_value in tf.data.Dataset.from_tensor_slices(train_images).batch(1).take(100):\n",
    "        yield [input_value]\n",
    "\n",
    "converter = tf.lite.TFLiteConverter.from_keras_model(model)\n",
    "converter.optimizations = [tf.lite.Optimize.DEFAULT]\n",
    "converter.representative_dataset = representative_data_gen\n",
    "# Ensure that if any ops can't be quantized, the converter throws an error\n",
    "converter.target_spec.supported_ops = [tf.lite.OpsSet.TFLITE_BUILTINS_INT8]\n",
    "# Set the input and output tensors to uint8 \n",
    "converter.inference_input_type = tf.uint8\n",
    "converter.inference_output_type = tf.uint8\n",
    "\n",
    "tflite_int_quant_model = converter.convert()\n",
    "tflite_int_quant_model_file = models_dir/\"tflite_int_quant_model.tflite\"\n",
    "tflite_int_quant_model_file.write_bytes(tflite_dynamic_quant_model)"
   ]
  },
  {
   "cell_type": "markdown",
   "id": "a44c7df2",
   "metadata": {
    "papermill": {
     "duration": 0.064334,
     "end_time": "2022-07-02T05:24:16.157526",
     "exception": false,
     "start_time": "2022-07-02T05:24:16.093192",
     "status": "completed"
    },
    "tags": []
   },
   "source": [
    "**Float 16 Quantization**\n",
    "\n",
    "Converting weights to 16-bit floating point values during model conversion from TensorFlow to TensorFlow Lite's flat buffer format, results in a 2x reduction in model size. Some hardware, like GPUs, can compute natively in this reduced precision arithmetic, realizing a speedup over traditional floating point execution. The Tensorflow Lite GPU delegate can be configured to run in this way. However, a model converted to float16 weights can still run on the CPU without additional modification: the float16 weights are upsampled to float32 prior to the first inference. This permits a significant reduction in model size in exchange for a minimal impacts to latency and accuracy."
   ]
  },
  {
   "cell_type": "code",
   "execution_count": 7,
   "id": "e4e7244b",
   "metadata": {
    "execution": {
     "iopub.execute_input": "2022-07-02T05:24:16.288073Z",
     "iopub.status.busy": "2022-07-02T05:24:16.287238Z",
     "iopub.status.idle": "2022-07-02T05:24:17.174603Z",
     "shell.execute_reply": "2022-07-02T05:24:17.172278Z"
    },
    "papermill": {
     "duration": 0.957053,
     "end_time": "2022-07-02T05:24:17.178586",
     "exception": false,
     "start_time": "2022-07-02T05:24:16.221533",
     "status": "completed"
    },
    "tags": []
   },
   "outputs": [
    {
     "name": "stderr",
     "output_type": "stream",
     "text": [
      "2022-07-02 05:24:17.091118: I tensorflow/core/grappler/devices.cc:75] Number of eligible GPUs (core count >= 8, compute capability >= 0.0): 0 (Note: TensorFlow was not compiled with CUDA or ROCm support)\n",
      "2022-07-02 05:24:17.091313: I tensorflow/core/grappler/clusters/single_machine.cc:357] Starting new session\n",
      "2022-07-02 05:24:17.093040: I tensorflow/core/grappler/optimizers/meta_optimizer.cc:1137] Optimization results for grappler item: graph_to_optimize\n",
      "  function_optimizer: function_optimizer did nothing. time = 0.008ms.\n",
      "  function_optimizer: function_optimizer did nothing. time = 0.001ms.\n",
      "\n",
      "2022-07-02 05:24:17.135349: W tensorflow/compiler/mlir/lite/python/tf_tfl_flatbuffer_helpers.cc:351] Ignored output_format.\n",
      "2022-07-02 05:24:17.135410: W tensorflow/compiler/mlir/lite/python/tf_tfl_flatbuffer_helpers.cc:354] Ignored drop_control_dependency.\n"
     ]
    },
    {
     "data": {
      "text/plain": [
       "44432"
      ]
     },
     "execution_count": 7,
     "metadata": {},
     "output_type": "execute_result"
    }
   ],
   "source": [
    "converter = tf.lite.TFLiteConverter.from_keras_model(model)\n",
    "converter.optimizations = [tf.lite.Optimize.DEFAULT]\n",
    "converter.target_spec.supported_types = [tf.float16]\n",
    "tflite_float16_quant_model = converter.convert()\n",
    "tflite_float16_quant_model_file = models_dir/\"tflite_float16_quant_model.tflite\"\n",
    "tflite_float16_quant_model_file.write_bytes(tflite_float16_quant_model)"
   ]
  },
  {
   "cell_type": "markdown",
   "id": "2096e949",
   "metadata": {
    "papermill": {
     "duration": 0.070029,
     "end_time": "2022-07-02T05:24:17.323066",
     "exception": false,
     "start_time": "2022-07-02T05:24:17.253037",
     "status": "completed"
    },
    "tags": []
   },
   "source": [
    "**16x8 Quantization**\n",
    "\n",
    "Converting activations to 16-bit integer values and weights to 8-bit integer values during model conversion from TensorFlow to TensorFlow Lite's flat buffer format can improve accuracy of the quantized model significantly, when activations are sensitive to the quantization, while still achieving almost 3-4x reduction in model size. Moreover, this fully quantized model can be consumed by integer-only hardware accelerators."
   ]
  },
  {
   "cell_type": "code",
   "execution_count": 8,
   "id": "90aa7c88",
   "metadata": {
    "execution": {
     "iopub.execute_input": "2022-07-02T05:24:17.474251Z",
     "iopub.status.busy": "2022-07-02T05:24:17.472946Z",
     "iopub.status.idle": "2022-07-02T05:24:18.460671Z",
     "shell.execute_reply": "2022-07-02T05:24:18.459382Z"
    },
    "papermill": {
     "duration": 1.065518,
     "end_time": "2022-07-02T05:24:18.462812",
     "exception": false,
     "start_time": "2022-07-02T05:24:17.397294",
     "status": "completed"
    },
    "tags": []
   },
   "outputs": [
    {
     "name": "stderr",
     "output_type": "stream",
     "text": [
      "2022-07-02 05:24:18.381922: I tensorflow/core/grappler/devices.cc:75] Number of eligible GPUs (core count >= 8, compute capability >= 0.0): 0 (Note: TensorFlow was not compiled with CUDA or ROCm support)\n",
      "2022-07-02 05:24:18.382130: I tensorflow/core/grappler/clusters/single_machine.cc:357] Starting new session\n",
      "2022-07-02 05:24:18.383737: I tensorflow/core/grappler/optimizers/meta_optimizer.cc:1137] Optimization results for grappler item: graph_to_optimize\n",
      "  function_optimizer: function_optimizer did nothing. time = 0.007ms.\n",
      "  function_optimizer: function_optimizer did nothing. time = 0.001ms.\n",
      "\n",
      "2022-07-02 05:24:18.426805: W tensorflow/compiler/mlir/lite/python/tf_tfl_flatbuffer_helpers.cc:351] Ignored output_format.\n",
      "2022-07-02 05:24:18.426879: W tensorflow/compiler/mlir/lite/python/tf_tfl_flatbuffer_helpers.cc:354] Ignored drop_control_dependency.\n",
      "2022-07-02 05:24:18.449787: I tensorflow/lite/tools/optimize/quantize_weights.cc:225] Skipping quantization of tensor sequential/conv2d/Conv2D because it has fewer than 1024 elements (108).\n"
     ]
    },
    {
     "data": {
      "text/plain": [
       "23904"
      ]
     },
     "execution_count": 8,
     "metadata": {},
     "output_type": "execute_result"
    }
   ],
   "source": [
    "converter = tf.lite.TFLiteConverter.from_keras_model(model)\n",
    "converter.optimizations = [tf.lite.Optimize.DEFAULT]\n",
    "converter.target_spec.supported_ops = [tf.lite.OpsSet.EXPERIMENTAL_TFLITE_BUILTINS_ACTIVATIONS_INT16_WEIGHTS_INT8]\n",
    "tflite_16x8_quant_model = converter.convert()\n",
    "tflite_16x8_quant_model_file = models_dir/\"tflite_16x8_quant_model.tflite\"\n",
    "tflite_16x8_quant_model_file.write_bytes(tflite_16x8_quant_model)"
   ]
  },
  {
   "cell_type": "markdown",
   "id": "d73394e8",
   "metadata": {
    "papermill": {
     "duration": 0.064878,
     "end_time": "2022-07-02T05:24:18.593324",
     "exception": false,
     "start_time": "2022-07-02T05:24:18.528446",
     "status": "completed"
    },
    "tags": []
   },
   "source": [
    "# Comparison and Evaluation"
   ]
  },
  {
   "cell_type": "code",
   "execution_count": 9,
   "id": "bd37f994",
   "metadata": {
    "execution": {
     "iopub.execute_input": "2022-07-02T05:24:18.726005Z",
     "iopub.status.busy": "2022-07-02T05:24:18.724672Z",
     "iopub.status.idle": "2022-07-02T05:24:19.516172Z",
     "shell.execute_reply": "2022-07-02T05:24:19.514116Z"
    },
    "papermill": {
     "duration": 0.861421,
     "end_time": "2022-07-02T05:24:19.519707",
     "exception": false,
     "start_time": "2022-07-02T05:24:18.658286",
     "status": "completed"
    },
    "tags": []
   },
   "outputs": [
    {
     "name": "stdout",
     "output_type": "stream",
     "text": [
      "total 476\r\n",
      "drwxr-xr-x 2 root root   4096 Jul  2 05:24 \u001b[0m\u001b[01;34m.\u001b[0m/\r\n",
      "drwxr-xr-x 3 root root   4096 Jul  2 05:24 \u001b[01;34m..\u001b[0m/\r\n",
      "-rw-r--r-- 1 root root 271416 Jul  2 05:24 tf_model.h5\r\n",
      "-rw-r--r-- 1 root root  23904 Jul  2 05:24 tflite_16x8_quant_model.tflite\r\n",
      "-rw-r--r-- 1 root root  23904 Jul  2 05:24 tflite_dynamic_quant_model.tflite\r\n",
      "-rw-r--r-- 1 root root  44432 Jul  2 05:24 tflite_float16_quant_model.tflite\r\n",
      "-rw-r--r-- 1 root root  23904 Jul  2 05:24 tflite_int_quant_model.tflite\r\n",
      "-rw-r--r-- 1 root root  84500 Jul  2 05:24 tflite_model.tflite\r\n"
     ]
    }
   ],
   "source": [
    "ls -la models/"
   ]
  },
  {
   "cell_type": "code",
   "execution_count": 10,
   "id": "da9b50ab",
   "metadata": {
    "execution": {
     "iopub.execute_input": "2022-07-02T05:24:19.657304Z",
     "iopub.status.busy": "2022-07-02T05:24:19.656522Z",
     "iopub.status.idle": "2022-07-02T05:24:19.666106Z",
     "shell.execute_reply": "2022-07-02T05:24:19.665217Z"
    },
    "papermill": {
     "duration": 0.080758,
     "end_time": "2022-07-02T05:24:19.668737",
     "exception": false,
     "start_time": "2022-07-02T05:24:19.587979",
     "status": "completed"
    },
    "tags": []
   },
   "outputs": [],
   "source": [
    "# A helper function to evaluate the TF Lite model using \"test\" dataset.\n",
    "def evaluate_model(interpreter):\n",
    "    input_index = interpreter.get_input_details()[0][\"index\"]\n",
    "    output_index = interpreter.get_output_details()[0][\"index\"]\n",
    "\n",
    "    # Run predictions on every image in the \"test\" dataset.\n",
    "    prediction_digits = []\n",
    "    for test_image in test_images:\n",
    "        # Pre-processing: add batch dimension and convert to float32 to match with\n",
    "        # the model's input data format.\n",
    "        test_image = np.expand_dims(test_image, axis=0).astype(np.float32)\n",
    "        interpreter.set_tensor(input_index, test_image)\n",
    "\n",
    "        # Run inference.\n",
    "        interpreter.invoke()\n",
    "\n",
    "        # Post-processing: remove batch dimension and find the digit with highest\n",
    "        # probability.\n",
    "        output = interpreter.tensor(output_index)\n",
    "        digit = np.argmax(output()[0])\n",
    "        prediction_digits.append(digit)\n",
    "\n",
    "    # Compare prediction results with ground truth labels to calculate accuracy.\n",
    "    accurate_count = 0\n",
    "    for index in range(len(prediction_digits)):\n",
    "        if prediction_digits[index] == test_labels[index]:\n",
    "            accurate_count += 1\n",
    "    accuracy = accurate_count * 1.0 / len(prediction_digits)\n",
    "\n",
    "    return accuracy"
   ]
  },
  {
   "cell_type": "code",
   "execution_count": 11,
   "id": "c4840487",
   "metadata": {
    "execution": {
     "iopub.execute_input": "2022-07-02T05:24:19.810750Z",
     "iopub.status.busy": "2022-07-02T05:24:19.810037Z",
     "iopub.status.idle": "2022-07-02T05:24:21.423784Z",
     "shell.execute_reply": "2022-07-02T05:24:21.422636Z"
    },
    "papermill": {
     "duration": 1.689914,
     "end_time": "2022-07-02T05:24:21.426374",
     "exception": false,
     "start_time": "2022-07-02T05:24:19.736460",
     "status": "completed"
    },
    "tags": []
   },
   "outputs": [
    {
     "data": {
      "text/plain": [
       "0.9809"
      ]
     },
     "execution_count": 11,
     "metadata": {},
     "output_type": "execute_result"
    }
   ],
   "source": [
    "interpreter = tf.lite.Interpreter(model_path=str(tflite_model_file))\n",
    "interpreter.allocate_tensors()\n",
    "evaluate_model(interpreter)"
   ]
  },
  {
   "cell_type": "code",
   "execution_count": 12,
   "id": "3e41036d",
   "metadata": {
    "execution": {
     "iopub.execute_input": "2022-07-02T05:24:21.565550Z",
     "iopub.status.busy": "2022-07-02T05:24:21.565155Z",
     "iopub.status.idle": "2022-07-02T05:24:23.202245Z",
     "shell.execute_reply": "2022-07-02T05:24:23.201152Z"
    },
    "papermill": {
     "duration": 1.708397,
     "end_time": "2022-07-02T05:24:23.204518",
     "exception": false,
     "start_time": "2022-07-02T05:24:21.496121",
     "status": "completed"
    },
    "tags": []
   },
   "outputs": [
    {
     "data": {
      "text/plain": [
       "0.9803"
      ]
     },
     "execution_count": 12,
     "metadata": {},
     "output_type": "execute_result"
    }
   ],
   "source": [
    "interpreter_dynamic_quant = tf.lite.Interpreter(model_path=str(tflite_dynamic_quant_model_file))\n",
    "interpreter_dynamic_quant.allocate_tensors()\n",
    "evaluate_model(interpreter_dynamic_quant)"
   ]
  },
  {
   "cell_type": "code",
   "execution_count": 13,
   "id": "ca45a3ce",
   "metadata": {
    "execution": {
     "iopub.execute_input": "2022-07-02T05:24:23.336791Z",
     "iopub.status.busy": "2022-07-02T05:24:23.335978Z",
     "iopub.status.idle": "2022-07-02T05:24:24.974776Z",
     "shell.execute_reply": "2022-07-02T05:24:24.973652Z"
    },
    "papermill": {
     "duration": 1.707841,
     "end_time": "2022-07-02T05:24:24.977632",
     "exception": false,
     "start_time": "2022-07-02T05:24:23.269791",
     "status": "completed"
    },
    "tags": []
   },
   "outputs": [
    {
     "data": {
      "text/plain": [
       "0.9803"
      ]
     },
     "execution_count": 13,
     "metadata": {},
     "output_type": "execute_result"
    }
   ],
   "source": [
    "interpreter_int_quant = tf.lite.Interpreter(model_path=str(tflite_int_quant_model_file))\n",
    "interpreter_int_quant.allocate_tensors()\n",
    "evaluate_model(interpreter_int_quant)"
   ]
  },
  {
   "cell_type": "code",
   "execution_count": 14,
   "id": "2cb947ff",
   "metadata": {
    "execution": {
     "iopub.execute_input": "2022-07-02T05:24:25.113872Z",
     "iopub.status.busy": "2022-07-02T05:24:25.113255Z",
     "iopub.status.idle": "2022-07-02T05:24:26.690028Z",
     "shell.execute_reply": "2022-07-02T05:24:26.688374Z"
    },
    "papermill": {
     "duration": 1.647626,
     "end_time": "2022-07-02T05:24:26.692449",
     "exception": false,
     "start_time": "2022-07-02T05:24:25.044823",
     "status": "completed"
    },
    "tags": []
   },
   "outputs": [
    {
     "data": {
      "text/plain": [
       "0.9808"
      ]
     },
     "execution_count": 14,
     "metadata": {},
     "output_type": "execute_result"
    }
   ],
   "source": [
    "interpreter_float16_quant = tf.lite.Interpreter(model_path=str(tflite_float16_quant_model_file))\n",
    "interpreter_float16_quant.allocate_tensors()\n",
    "evaluate_model(interpreter_float16_quant)"
   ]
  },
  {
   "cell_type": "code",
   "execution_count": 15,
   "id": "b4f73ae8",
   "metadata": {
    "execution": {
     "iopub.execute_input": "2022-07-02T05:24:26.825958Z",
     "iopub.status.busy": "2022-07-02T05:24:26.825604Z",
     "iopub.status.idle": "2022-07-02T05:24:28.454147Z",
     "shell.execute_reply": "2022-07-02T05:24:28.452990Z"
    },
    "papermill": {
     "duration": 1.698938,
     "end_time": "2022-07-02T05:24:28.456779",
     "exception": false,
     "start_time": "2022-07-02T05:24:26.757841",
     "status": "completed"
    },
    "tags": []
   },
   "outputs": [
    {
     "data": {
      "text/plain": [
       "0.9803"
      ]
     },
     "execution_count": 15,
     "metadata": {},
     "output_type": "execute_result"
    }
   ],
   "source": [
    "interpreter_16x8_quant = tf.lite.Interpreter(model_path=str(tflite_16x8_quant_model_file))\n",
    "interpreter_16x8_quant.allocate_tensors()\n",
    "evaluate_model(interpreter_16x8_quant)"
   ]
  }
 ],
 "metadata": {
  "kernelspec": {
   "display_name": "Python 3",
   "language": "python",
   "name": "python3"
  },
  "language_info": {
   "codemirror_mode": {
    "name": "ipython",
    "version": 3
   },
   "file_extension": ".py",
   "mimetype": "text/x-python",
   "name": "python",
   "nbconvert_exporter": "python",
   "pygments_lexer": "ipython3",
   "version": "3.7.12"
  },
  "papermill": {
   "default_parameters": {},
   "duration": 127.759206,
   "end_time": "2022-07-02T05:24:32.098054",
   "environment_variables": {},
   "exception": null,
   "input_path": "__notebook__.ipynb",
   "output_path": "__notebook__.ipynb",
   "parameters": {},
   "start_time": "2022-07-02T05:22:24.338848",
   "version": "2.3.4"
  }
 },
 "nbformat": 4,
 "nbformat_minor": 5
}
