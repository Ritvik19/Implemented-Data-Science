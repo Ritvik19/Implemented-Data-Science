{
 "cells": [
  {
   "cell_type": "markdown",
   "id": "2783bc1f",
   "metadata": {
    "papermill": {
     "duration": 0.003605,
     "end_time": "2022-11-22T16:52:57.956743",
     "exception": false,
     "start_time": "2022-11-22T16:52:57.953138",
     "status": "completed"
    },
    "tags": []
   },
   "source": [
    "# Significant Collocations"
   ]
  },
  {
   "cell_type": "code",
   "execution_count": 1,
   "id": "f66c8380",
   "metadata": {
    "_cell_guid": "b1076dfc-b9ad-4769-8c92-a6c4dae69d19",
    "_uuid": "8f2839f25d086af736a60e9eeb907d3b93b6e0e5",
    "execution": {
     "iopub.execute_input": "2022-11-22T16:52:57.963985Z",
     "iopub.status.busy": "2022-11-22T16:52:57.963545Z",
     "iopub.status.idle": "2022-11-22T16:52:59.713821Z",
     "shell.execute_reply": "2022-11-22T16:52:59.712963Z"
    },
    "papermill": {
     "duration": 1.75707,
     "end_time": "2022-11-22T16:52:59.716621",
     "exception": false,
     "start_time": "2022-11-22T16:52:57.959551",
     "status": "completed"
    },
    "tags": []
   },
   "outputs": [],
   "source": [
    "import numpy as np\n",
    "import pandas as pd\n",
    "from tqdm.auto import tqdm\n",
    "\n",
    "from sklearn.model_selection import StratifiedKFold\n",
    "from sklearn.base import BaseEstimator, TransformerMixin\n",
    "from sklearn.feature_extraction import DictVectorizer\n",
    "from sklearn.feature_extraction.text import TfidfVectorizer\n",
    "from sklearn.linear_model import LogisticRegression\n",
    "from sklearn.pipeline import Pipeline, FeatureUnion\n",
    "from sklearn.compose import ColumnTransformer\n",
    "from sklearn import set_config\n",
    "\n",
    "from nltk.collocations import BigramCollocationFinder, TrigramCollocationFinder, QuadgramCollocationFinder\n",
    "from nltk.metrics.association import BigramAssocMeasures, TrigramAssocMeasures, QuadgramAssocMeasures\n",
    "\n",
    "tqdm.pandas()\n",
    "set_config(display=\"diagram\")"
   ]
  },
  {
   "cell_type": "code",
   "execution_count": 2,
   "id": "d486ce23",
   "metadata": {
    "execution": {
     "iopub.execute_input": "2022-11-22T16:52:59.723221Z",
     "iopub.status.busy": "2022-11-22T16:52:59.722859Z",
     "iopub.status.idle": "2022-11-22T16:52:59.798926Z",
     "shell.execute_reply": "2022-11-22T16:52:59.797255Z"
    },
    "papermill": {
     "duration": 0.082308,
     "end_time": "2022-11-22T16:52:59.801631",
     "exception": false,
     "start_time": "2022-11-22T16:52:59.719323",
     "status": "completed"
    },
    "tags": []
   },
   "outputs": [
    {
     "name": "stdout",
     "output_type": "stream",
     "text": [
      "(4846, 2)\n"
     ]
    },
    {
     "data": {
      "text/html": [
       "<div>\n",
       "<style scoped>\n",
       "    .dataframe tbody tr th:only-of-type {\n",
       "        vertical-align: middle;\n",
       "    }\n",
       "\n",
       "    .dataframe tbody tr th {\n",
       "        vertical-align: top;\n",
       "    }\n",
       "\n",
       "    .dataframe thead th {\n",
       "        text-align: right;\n",
       "    }\n",
       "</style>\n",
       "<table border=\"1\" class=\"dataframe\">\n",
       "  <thead>\n",
       "    <tr style=\"text-align: right;\">\n",
       "      <th></th>\n",
       "      <th>sentiment</th>\n",
       "      <th>text</th>\n",
       "    </tr>\n",
       "  </thead>\n",
       "  <tbody>\n",
       "    <tr>\n",
       "      <th>0</th>\n",
       "      <td>neutral</td>\n",
       "      <td>According to Gran , the company has no plans t...</td>\n",
       "    </tr>\n",
       "    <tr>\n",
       "      <th>1</th>\n",
       "      <td>neutral</td>\n",
       "      <td>Technopolis plans to develop in stages an area...</td>\n",
       "    </tr>\n",
       "    <tr>\n",
       "      <th>2</th>\n",
       "      <td>negative</td>\n",
       "      <td>The international electronic industry company ...</td>\n",
       "    </tr>\n",
       "    <tr>\n",
       "      <th>3</th>\n",
       "      <td>positive</td>\n",
       "      <td>With the new production plant the company woul...</td>\n",
       "    </tr>\n",
       "    <tr>\n",
       "      <th>4</th>\n",
       "      <td>positive</td>\n",
       "      <td>According to the company 's updated strategy f...</td>\n",
       "    </tr>\n",
       "  </tbody>\n",
       "</table>\n",
       "</div>"
      ],
      "text/plain": [
       "  sentiment                                               text\n",
       "0   neutral  According to Gran , the company has no plans t...\n",
       "1   neutral  Technopolis plans to develop in stages an area...\n",
       "2  negative  The international electronic industry company ...\n",
       "3  positive  With the new production plant the company woul...\n",
       "4  positive  According to the company 's updated strategy f..."
      ]
     },
     "execution_count": 2,
     "metadata": {},
     "output_type": "execute_result"
    }
   ],
   "source": [
    "df = pd.read_csv('../input/sentiment-analysis-for-financial-news/all-data.csv', delimiter=',', encoding='latin-1', header=None).fillna('')\n",
    "df = df.rename(columns=lambda x: ['sentiment', 'text'][x])\n",
    "print(df.shape)\n",
    "df.head()"
   ]
  },
  {
   "cell_type": "code",
   "execution_count": 3,
   "id": "308470ec",
   "metadata": {
    "execution": {
     "iopub.execute_input": "2022-11-22T16:52:59.808791Z",
     "iopub.status.busy": "2022-11-22T16:52:59.808434Z",
     "iopub.status.idle": "2022-11-22T16:52:59.817892Z",
     "shell.execute_reply": "2022-11-22T16:52:59.816884Z"
    },
    "papermill": {
     "duration": 0.015522,
     "end_time": "2022-11-22T16:52:59.820013",
     "exception": false,
     "start_time": "2022-11-22T16:52:59.804491",
     "status": "completed"
    },
    "tags": []
   },
   "outputs": [],
   "source": [
    "class SignificantCollocations(BaseEstimator, TransformerMixin):\n",
    "    def __init__(self, ngram):\n",
    "        self.ngram=ngram\n",
    "        if ngram == 2:\n",
    "            self.ngram_class = BigramCollocationFinder\n",
    "            self.metric = BigramAssocMeasures\n",
    "        elif ngram == 3:\n",
    "            self.ngram_class = TrigramCollocationFinder\n",
    "            self.metric = TrigramAssocMeasures\n",
    "        elif ngram == 4:\n",
    "            self.ngram_class = QuadgramCollocationFinder\n",
    "            self.metric = QuadgramAssocMeasures\n",
    "        else:\n",
    "            raise ValueError(\"invalid ngram value\")\n",
    "    \n",
    "    def fit(self, X, y=None):\n",
    "        ngrams = self.ngram_class.from_documents(X)\n",
    "        self.scored_ = dict(ngrams.score_ngrams(self.metric.pmi))\n",
    "        return self\n",
    "    \n",
    "    def transform(self, X, y=None):\n",
    "        for x in X:\n",
    "            ngrams = self.ngram_class.from_words(x.split())\n",
    "            yield {\n",
    "                ngram: self.scored_.get(ngram, 0.0) for ngram in ngrams.nbest(self.metric.raw_freq, 5)\n",
    "            }\n",
    "    "
   ]
  },
  {
   "cell_type": "code",
   "execution_count": 4,
   "id": "888670fa",
   "metadata": {
    "execution": {
     "iopub.execute_input": "2022-11-22T16:52:59.827480Z",
     "iopub.status.busy": "2022-11-22T16:52:59.827040Z",
     "iopub.status.idle": "2022-11-22T16:52:59.926653Z",
     "shell.execute_reply": "2022-11-22T16:52:59.925491Z"
    },
    "papermill": {
     "duration": 0.106082,
     "end_time": "2022-11-22T16:52:59.929057",
     "exception": false,
     "start_time": "2022-11-22T16:52:59.822975",
     "status": "completed"
    },
    "tags": []
   },
   "outputs": [
    {
     "data": {
      "text/html": [
       "<style>#sk-d0dff27d-1a44-4314-a3bd-6b6cf7083a53 {color: black;background-color: white;}#sk-d0dff27d-1a44-4314-a3bd-6b6cf7083a53 pre{padding: 0;}#sk-d0dff27d-1a44-4314-a3bd-6b6cf7083a53 div.sk-toggleable {background-color: white;}#sk-d0dff27d-1a44-4314-a3bd-6b6cf7083a53 label.sk-toggleable__label {cursor: pointer;display: block;width: 100%;margin-bottom: 0;padding: 0.3em;box-sizing: border-box;text-align: center;}#sk-d0dff27d-1a44-4314-a3bd-6b6cf7083a53 label.sk-toggleable__label-arrow:before {content: \"▸\";float: left;margin-right: 0.25em;color: #696969;}#sk-d0dff27d-1a44-4314-a3bd-6b6cf7083a53 label.sk-toggleable__label-arrow:hover:before {color: black;}#sk-d0dff27d-1a44-4314-a3bd-6b6cf7083a53 div.sk-estimator:hover label.sk-toggleable__label-arrow:before {color: black;}#sk-d0dff27d-1a44-4314-a3bd-6b6cf7083a53 div.sk-toggleable__content {max-height: 0;max-width: 0;overflow: hidden;text-align: left;background-color: #f0f8ff;}#sk-d0dff27d-1a44-4314-a3bd-6b6cf7083a53 div.sk-toggleable__content pre {margin: 0.2em;color: black;border-radius: 0.25em;background-color: #f0f8ff;}#sk-d0dff27d-1a44-4314-a3bd-6b6cf7083a53 input.sk-toggleable__control:checked~div.sk-toggleable__content {max-height: 200px;max-width: 100%;overflow: auto;}#sk-d0dff27d-1a44-4314-a3bd-6b6cf7083a53 input.sk-toggleable__control:checked~label.sk-toggleable__label-arrow:before {content: \"▾\";}#sk-d0dff27d-1a44-4314-a3bd-6b6cf7083a53 div.sk-estimator input.sk-toggleable__control:checked~label.sk-toggleable__label {background-color: #d4ebff;}#sk-d0dff27d-1a44-4314-a3bd-6b6cf7083a53 div.sk-label input.sk-toggleable__control:checked~label.sk-toggleable__label {background-color: #d4ebff;}#sk-d0dff27d-1a44-4314-a3bd-6b6cf7083a53 input.sk-hidden--visually {border: 0;clip: rect(1px 1px 1px 1px);clip: rect(1px, 1px, 1px, 1px);height: 1px;margin: -1px;overflow: hidden;padding: 0;position: absolute;width: 1px;}#sk-d0dff27d-1a44-4314-a3bd-6b6cf7083a53 div.sk-estimator {font-family: monospace;background-color: #f0f8ff;border: 1px dotted black;border-radius: 0.25em;box-sizing: border-box;margin-bottom: 0.5em;}#sk-d0dff27d-1a44-4314-a3bd-6b6cf7083a53 div.sk-estimator:hover {background-color: #d4ebff;}#sk-d0dff27d-1a44-4314-a3bd-6b6cf7083a53 div.sk-parallel-item::after {content: \"\";width: 100%;border-bottom: 1px solid gray;flex-grow: 1;}#sk-d0dff27d-1a44-4314-a3bd-6b6cf7083a53 div.sk-label:hover label.sk-toggleable__label {background-color: #d4ebff;}#sk-d0dff27d-1a44-4314-a3bd-6b6cf7083a53 div.sk-serial::before {content: \"\";position: absolute;border-left: 1px solid gray;box-sizing: border-box;top: 2em;bottom: 0;left: 50%;}#sk-d0dff27d-1a44-4314-a3bd-6b6cf7083a53 div.sk-serial {display: flex;flex-direction: column;align-items: center;background-color: white;padding-right: 0.2em;padding-left: 0.2em;}#sk-d0dff27d-1a44-4314-a3bd-6b6cf7083a53 div.sk-item {z-index: 1;}#sk-d0dff27d-1a44-4314-a3bd-6b6cf7083a53 div.sk-parallel {display: flex;align-items: stretch;justify-content: center;background-color: white;}#sk-d0dff27d-1a44-4314-a3bd-6b6cf7083a53 div.sk-parallel::before {content: \"\";position: absolute;border-left: 1px solid gray;box-sizing: border-box;top: 2em;bottom: 0;left: 50%;}#sk-d0dff27d-1a44-4314-a3bd-6b6cf7083a53 div.sk-parallel-item {display: flex;flex-direction: column;position: relative;background-color: white;}#sk-d0dff27d-1a44-4314-a3bd-6b6cf7083a53 div.sk-parallel-item:first-child::after {align-self: flex-end;width: 50%;}#sk-d0dff27d-1a44-4314-a3bd-6b6cf7083a53 div.sk-parallel-item:last-child::after {align-self: flex-start;width: 50%;}#sk-d0dff27d-1a44-4314-a3bd-6b6cf7083a53 div.sk-parallel-item:only-child::after {width: 0;}#sk-d0dff27d-1a44-4314-a3bd-6b6cf7083a53 div.sk-dashed-wrapped {border: 1px dashed gray;margin: 0 0.4em 0.5em 0.4em;box-sizing: border-box;padding-bottom: 0.4em;background-color: white;position: relative;}#sk-d0dff27d-1a44-4314-a3bd-6b6cf7083a53 div.sk-label label {font-family: monospace;font-weight: bold;background-color: white;display: inline-block;line-height: 1.2em;}#sk-d0dff27d-1a44-4314-a3bd-6b6cf7083a53 div.sk-label-container {position: relative;z-index: 2;text-align: center;}#sk-d0dff27d-1a44-4314-a3bd-6b6cf7083a53 div.sk-container {/* jupyter's `normalize.less` sets `[hidden] { display: none; }` but bootstrap.min.css set `[hidden] { display: none !important; }` so we also need the `!important` here to be able to override the default hidden behavior on the sphinx rendered scikit-learn.org. See: https://github.com/scikit-learn/scikit-learn/issues/21755 */display: inline-block !important;position: relative;}#sk-d0dff27d-1a44-4314-a3bd-6b6cf7083a53 div.sk-text-repr-fallback {display: none;}</style><div id=\"sk-d0dff27d-1a44-4314-a3bd-6b6cf7083a53\" class=\"sk-top-container\"><div class=\"sk-text-repr-fallback\"><pre>Pipeline(steps=[(&#x27;vectorizer&#x27;,\n",
       "                 FeatureUnion(transformer_list=[(&#x27;uni&#x27;,\n",
       "                                                 TfidfVectorizer(sublinear_tf=True)),\n",
       "                                                (&#x27;bi&#x27;,\n",
       "                                                 Pipeline(steps=[(&#x27;extractor&#x27;,\n",
       "                                                                  SignificantCollocations(ngram=2)),\n",
       "                                                                 (&#x27;vectorizer&#x27;,\n",
       "                                                                  DictVectorizer())])),\n",
       "                                                (&#x27;tri&#x27;,\n",
       "                                                 Pipeline(steps=[(&#x27;extractor&#x27;,\n",
       "                                                                  SignificantCollocations(ngram=3)),\n",
       "                                                                 (&#x27;vectorizer&#x27;,\n",
       "                                                                  DictVectorizer())])),\n",
       "                                                (&#x27;quad&#x27;,\n",
       "                                                 Pipeline(steps=[(&#x27;extractor&#x27;,\n",
       "                                                                  SignificantCollocations(ngram=4)),\n",
       "                                                                 (&#x27;vectorizer&#x27;,\n",
       "                                                                  DictVectorizer())]))])),\n",
       "                (&#x27;estimator&#x27;,\n",
       "                 LogisticRegression(class_weight=&#x27;balanced&#x27;, max_iter=100000,\n",
       "                                    random_state=19))])</pre><b>Please rerun this cell to show the HTML repr or trust the notebook.</b></div><div class=\"sk-container\" hidden><div class=\"sk-item sk-dashed-wrapped\"><div class=\"sk-label-container\"><div class=\"sk-label sk-toggleable\"><input class=\"sk-toggleable__control sk-hidden--visually\" id=\"92dc7e83-d8c5-4452-b8b8-c74a397a80a7\" type=\"checkbox\" ><label for=\"92dc7e83-d8c5-4452-b8b8-c74a397a80a7\" class=\"sk-toggleable__label sk-toggleable__label-arrow\">Pipeline</label><div class=\"sk-toggleable__content\"><pre>Pipeline(steps=[(&#x27;vectorizer&#x27;,\n",
       "                 FeatureUnion(transformer_list=[(&#x27;uni&#x27;,\n",
       "                                                 TfidfVectorizer(sublinear_tf=True)),\n",
       "                                                (&#x27;bi&#x27;,\n",
       "                                                 Pipeline(steps=[(&#x27;extractor&#x27;,\n",
       "                                                                  SignificantCollocations(ngram=2)),\n",
       "                                                                 (&#x27;vectorizer&#x27;,\n",
       "                                                                  DictVectorizer())])),\n",
       "                                                (&#x27;tri&#x27;,\n",
       "                                                 Pipeline(steps=[(&#x27;extractor&#x27;,\n",
       "                                                                  SignificantCollocations(ngram=3)),\n",
       "                                                                 (&#x27;vectorizer&#x27;,\n",
       "                                                                  DictVectorizer())])),\n",
       "                                                (&#x27;quad&#x27;,\n",
       "                                                 Pipeline(steps=[(&#x27;extractor&#x27;,\n",
       "                                                                  SignificantCollocations(ngram=4)),\n",
       "                                                                 (&#x27;vectorizer&#x27;,\n",
       "                                                                  DictVectorizer())]))])),\n",
       "                (&#x27;estimator&#x27;,\n",
       "                 LogisticRegression(class_weight=&#x27;balanced&#x27;, max_iter=100000,\n",
       "                                    random_state=19))])</pre></div></div></div><div class=\"sk-serial\"><div class=\"sk-item sk-dashed-wrapped\"><div class=\"sk-label-container\"><div class=\"sk-label sk-toggleable\"><input class=\"sk-toggleable__control sk-hidden--visually\" id=\"b88fd85e-f7ac-468c-94c8-f86bd85aa549\" type=\"checkbox\" ><label for=\"b88fd85e-f7ac-468c-94c8-f86bd85aa549\" class=\"sk-toggleable__label sk-toggleable__label-arrow\">vectorizer: FeatureUnion</label><div class=\"sk-toggleable__content\"><pre>FeatureUnion(transformer_list=[(&#x27;uni&#x27;, TfidfVectorizer(sublinear_tf=True)),\n",
       "                               (&#x27;bi&#x27;,\n",
       "                                Pipeline(steps=[(&#x27;extractor&#x27;,\n",
       "                                                 SignificantCollocations(ngram=2)),\n",
       "                                                (&#x27;vectorizer&#x27;,\n",
       "                                                 DictVectorizer())])),\n",
       "                               (&#x27;tri&#x27;,\n",
       "                                Pipeline(steps=[(&#x27;extractor&#x27;,\n",
       "                                                 SignificantCollocations(ngram=3)),\n",
       "                                                (&#x27;vectorizer&#x27;,\n",
       "                                                 DictVectorizer())])),\n",
       "                               (&#x27;quad&#x27;,\n",
       "                                Pipeline(steps=[(&#x27;extractor&#x27;,\n",
       "                                                 SignificantCollocations(ngram=4)),\n",
       "                                                (&#x27;vectorizer&#x27;,\n",
       "                                                 DictVectorizer())]))])</pre></div></div></div><div class=\"sk-parallel\"><div class=\"sk-parallel-item\"><div class=\"sk-item\"><div class=\"sk-label-container\"><div class=\"sk-label sk-toggleable\"><label>uni</label></div></div><div class=\"sk-serial\"><div class=\"sk-item\"><div class=\"sk-estimator sk-toggleable\"><input class=\"sk-toggleable__control sk-hidden--visually\" id=\"a6d0e724-6649-47cb-b9ab-6d7ab1b6de42\" type=\"checkbox\" ><label for=\"a6d0e724-6649-47cb-b9ab-6d7ab1b6de42\" class=\"sk-toggleable__label sk-toggleable__label-arrow\">TfidfVectorizer</label><div class=\"sk-toggleable__content\"><pre>TfidfVectorizer(sublinear_tf=True)</pre></div></div></div></div></div></div><div class=\"sk-parallel-item\"><div class=\"sk-item\"><div class=\"sk-label-container\"><div class=\"sk-label sk-toggleable\"><label>bi</label></div></div><div class=\"sk-serial\"><div class=\"sk-item\"><div class=\"sk-serial\"><div class=\"sk-item\"><div class=\"sk-estimator sk-toggleable\"><input class=\"sk-toggleable__control sk-hidden--visually\" id=\"6cd1d0cb-e19f-4758-8a39-90e92328e4a9\" type=\"checkbox\" ><label for=\"6cd1d0cb-e19f-4758-8a39-90e92328e4a9\" class=\"sk-toggleable__label sk-toggleable__label-arrow\">SignificantCollocations</label><div class=\"sk-toggleable__content\"><pre>SignificantCollocations(ngram=2)</pre></div></div></div><div class=\"sk-item\"><div class=\"sk-estimator sk-toggleable\"><input class=\"sk-toggleable__control sk-hidden--visually\" id=\"a4539765-77a5-4604-9b7f-f6fee015c587\" type=\"checkbox\" ><label for=\"a4539765-77a5-4604-9b7f-f6fee015c587\" class=\"sk-toggleable__label sk-toggleable__label-arrow\">DictVectorizer</label><div class=\"sk-toggleable__content\"><pre>DictVectorizer()</pre></div></div></div></div></div></div></div></div><div class=\"sk-parallel-item\"><div class=\"sk-item\"><div class=\"sk-label-container\"><div class=\"sk-label sk-toggleable\"><label>tri</label></div></div><div class=\"sk-serial\"><div class=\"sk-item\"><div class=\"sk-serial\"><div class=\"sk-item\"><div class=\"sk-estimator sk-toggleable\"><input class=\"sk-toggleable__control sk-hidden--visually\" id=\"44734e41-5889-4fdb-a6b0-85a7920712d2\" type=\"checkbox\" ><label for=\"44734e41-5889-4fdb-a6b0-85a7920712d2\" class=\"sk-toggleable__label sk-toggleable__label-arrow\">SignificantCollocations</label><div class=\"sk-toggleable__content\"><pre>SignificantCollocations(ngram=3)</pre></div></div></div><div class=\"sk-item\"><div class=\"sk-estimator sk-toggleable\"><input class=\"sk-toggleable__control sk-hidden--visually\" id=\"23605a9e-fab4-4578-9975-d5150247f091\" type=\"checkbox\" ><label for=\"23605a9e-fab4-4578-9975-d5150247f091\" class=\"sk-toggleable__label sk-toggleable__label-arrow\">DictVectorizer</label><div class=\"sk-toggleable__content\"><pre>DictVectorizer()</pre></div></div></div></div></div></div></div></div><div class=\"sk-parallel-item\"><div class=\"sk-item\"><div class=\"sk-label-container\"><div class=\"sk-label sk-toggleable\"><label>quad</label></div></div><div class=\"sk-serial\"><div class=\"sk-item\"><div class=\"sk-serial\"><div class=\"sk-item\"><div class=\"sk-estimator sk-toggleable\"><input class=\"sk-toggleable__control sk-hidden--visually\" id=\"1831e853-dafd-4536-bdb8-a92e12ea2739\" type=\"checkbox\" ><label for=\"1831e853-dafd-4536-bdb8-a92e12ea2739\" class=\"sk-toggleable__label sk-toggleable__label-arrow\">SignificantCollocations</label><div class=\"sk-toggleable__content\"><pre>SignificantCollocations(ngram=4)</pre></div></div></div><div class=\"sk-item\"><div class=\"sk-estimator sk-toggleable\"><input class=\"sk-toggleable__control sk-hidden--visually\" id=\"418259f4-b915-427b-8981-bc027cdddfcd\" type=\"checkbox\" ><label for=\"418259f4-b915-427b-8981-bc027cdddfcd\" class=\"sk-toggleable__label sk-toggleable__label-arrow\">DictVectorizer</label><div class=\"sk-toggleable__content\"><pre>DictVectorizer()</pre></div></div></div></div></div></div></div></div></div></div><div class=\"sk-item\"><div class=\"sk-estimator sk-toggleable\"><input class=\"sk-toggleable__control sk-hidden--visually\" id=\"67cec502-1fdf-4011-9a5f-211cd49b8ad8\" type=\"checkbox\" ><label for=\"67cec502-1fdf-4011-9a5f-211cd49b8ad8\" class=\"sk-toggleable__label sk-toggleable__label-arrow\">LogisticRegression</label><div class=\"sk-toggleable__content\"><pre>LogisticRegression(class_weight=&#x27;balanced&#x27;, max_iter=100000, random_state=19)</pre></div></div></div></div></div></div></div>"
      ],
      "text/plain": [
       "Pipeline(steps=[('vectorizer',\n",
       "                 FeatureUnion(transformer_list=[('uni',\n",
       "                                                 TfidfVectorizer(sublinear_tf=True)),\n",
       "                                                ('bi',\n",
       "                                                 Pipeline(steps=[('extractor',\n",
       "                                                                  SignificantCollocations(ngram=2)),\n",
       "                                                                 ('vectorizer',\n",
       "                                                                  DictVectorizer())])),\n",
       "                                                ('tri',\n",
       "                                                 Pipeline(steps=[('extractor',\n",
       "                                                                  SignificantCollocations(ngram=3)),\n",
       "                                                                 ('vectorizer',\n",
       "                                                                  DictVectorizer())])),\n",
       "                                                ('quad',\n",
       "                                                 Pipeline(steps=[('extractor',\n",
       "                                                                  SignificantCollocations(ngram=4)),\n",
       "                                                                 ('vectorizer',\n",
       "                                                                  DictVectorizer())]))])),\n",
       "                ('estimator',\n",
       "                 LogisticRegression(class_weight='balanced', max_iter=100000,\n",
       "                                    random_state=19))])"
      ]
     },
     "execution_count": 4,
     "metadata": {},
     "output_type": "execute_result"
    }
   ],
   "source": [
    "get_model = lambda: Pipeline([\n",
    "    ('vectorizer', FeatureUnion([\n",
    "        ('uni', TfidfVectorizer(sublinear_tf=True)),\n",
    "        ('bi', Pipeline([('extractor', SignificantCollocations(2)), ('vectorizer', DictVectorizer())])),\n",
    "        ('tri', Pipeline([('extractor', SignificantCollocations(3)), ('vectorizer', DictVectorizer())])),\n",
    "        ('quad', Pipeline([('extractor', SignificantCollocations(4)), ('vectorizer', DictVectorizer())])),\n",
    "    ])),\n",
    "    ('estimator', LogisticRegression(max_iter=100_000, random_state=19, class_weight=\"balanced\"))\n",
    "])\n",
    "get_model()"
   ]
  },
  {
   "cell_type": "code",
   "execution_count": 5,
   "id": "20669b2e",
   "metadata": {
    "execution": {
     "iopub.execute_input": "2022-11-22T16:52:59.936809Z",
     "iopub.status.busy": "2022-11-22T16:52:59.936474Z",
     "iopub.status.idle": "2022-11-22T16:56:11.662947Z",
     "shell.execute_reply": "2022-11-22T16:56:11.661815Z"
    },
    "papermill": {
     "duration": 191.734587,
     "end_time": "2022-11-22T16:56:11.666902",
     "exception": false,
     "start_time": "2022-11-22T16:52:59.932315",
     "status": "completed"
    },
    "tags": []
   },
   "outputs": [
    {
     "data": {
      "application/vnd.jupyter.widget-view+json": {
       "model_id": "3a4fc2050c694ac794bac0a3f0b4d5ce",
       "version_major": 2,
       "version_minor": 0
      },
      "text/plain": [
       "  0%|          | 0/10 [00:00<?, ?it/s]"
      ]
     },
     "metadata": {},
     "output_type": "display_data"
    },
    {
     "name": "stdout",
     "output_type": "stream",
     "text": [
      "0.7600076680582772\n"
     ]
    }
   ],
   "source": [
    "x = df['text']\n",
    "y = df['sentiment']\n",
    "\n",
    "skf = StratifiedKFold(n_splits=10, shuffle=True, random_state=19)\n",
    "scores = []\n",
    "for train_index, valid_index in tqdm(skf.split(x, y), total=10):\n",
    "    x_train, x_valid = x.iloc[train_index], x.iloc[valid_index]\n",
    "    y_train, y_valid = y.iloc[train_index], y.iloc[valid_index]\n",
    "    \n",
    "    model = get_model().fit(x_train, y_train)\n",
    "    scores.append(model.score(x_valid, y_valid))\n",
    "print(np.mean(scores))"
   ]
  },
  {
   "cell_type": "code",
   "execution_count": null,
   "id": "8b65b77a",
   "metadata": {
    "papermill": {
     "duration": 0.003235,
     "end_time": "2022-11-22T16:56:11.673763",
     "exception": false,
     "start_time": "2022-11-22T16:56:11.670528",
     "status": "completed"
    },
    "tags": []
   },
   "outputs": [],
   "source": []
  }
 ],
 "metadata": {
  "kernelspec": {
   "display_name": "Python 3",
   "language": "python",
   "name": "python3"
  },
  "language_info": {
   "codemirror_mode": {
    "name": "ipython",
    "version": 3
   },
   "file_extension": ".py",
   "mimetype": "text/x-python",
   "name": "python",
   "nbconvert_exporter": "python",
   "pygments_lexer": "ipython3",
   "version": "3.7.12"
  },
  "papermill": {
   "default_parameters": {},
   "duration": 202.856197,
   "end_time": "2022-11-22T16:56:12.500139",
   "environment_variables": {},
   "exception": null,
   "input_path": "__notebook__.ipynb",
   "output_path": "__notebook__.ipynb",
   "parameters": {},
   "start_time": "2022-11-22T16:52:49.643942",
   "version": "2.3.4"
  },
  "widgets": {
   "application/vnd.jupyter.widget-state+json": {
    "state": {
     "045c46bc4a0e4ecbab276c221e2e41ad": {
      "model_module": "@jupyter-widgets/base",
      "model_module_version": "1.2.0",
      "model_name": "LayoutModel",
      "state": {
       "_model_module": "@jupyter-widgets/base",
       "_model_module_version": "1.2.0",
       "_model_name": "LayoutModel",
       "_view_count": null,
       "_view_module": "@jupyter-widgets/base",
       "_view_module_version": "1.2.0",
       "_view_name": "LayoutView",
       "align_content": null,
       "align_items": null,
       "align_self": null,
       "border": null,
       "bottom": null,
       "display": null,
       "flex": null,
       "flex_flow": null,
       "grid_area": null,
       "grid_auto_columns": null,
       "grid_auto_flow": null,
       "grid_auto_rows": null,
       "grid_column": null,
       "grid_gap": null,
       "grid_row": null,
       "grid_template_areas": null,
       "grid_template_columns": null,
       "grid_template_rows": null,
       "height": null,
       "justify_content": null,
       "justify_items": null,
       "left": null,
       "margin": null,
       "max_height": null,
       "max_width": null,
       "min_height": null,
       "min_width": null,
       "object_fit": null,
       "object_position": null,
       "order": null,
       "overflow": null,
       "overflow_x": null,
       "overflow_y": null,
       "padding": null,
       "right": null,
       "top": null,
       "visibility": null,
       "width": null
      }
     },
     "2691e2c2112f4667a35817206fec0b4a": {
      "model_module": "@jupyter-widgets/controls",
      "model_module_version": "1.5.0",
      "model_name": "DescriptionStyleModel",
      "state": {
       "_model_module": "@jupyter-widgets/controls",
       "_model_module_version": "1.5.0",
       "_model_name": "DescriptionStyleModel",
       "_view_count": null,
       "_view_module": "@jupyter-widgets/base",
       "_view_module_version": "1.2.0",
       "_view_name": "StyleView",
       "description_width": ""
      }
     },
     "3a4fc2050c694ac794bac0a3f0b4d5ce": {
      "model_module": "@jupyter-widgets/controls",
      "model_module_version": "1.5.0",
      "model_name": "HBoxModel",
      "state": {
       "_dom_classes": [],
       "_model_module": "@jupyter-widgets/controls",
       "_model_module_version": "1.5.0",
       "_model_name": "HBoxModel",
       "_view_count": null,
       "_view_module": "@jupyter-widgets/controls",
       "_view_module_version": "1.5.0",
       "_view_name": "HBoxView",
       "box_style": "",
       "children": [
        "IPY_MODEL_d3f2b2ecb4bb4aa3b9dec2aaf7a624a7",
        "IPY_MODEL_a7c5f67162c14f8eb57aff68864e53d7",
        "IPY_MODEL_75d5161866d24e0a96c8dd726326cc1a"
       ],
       "layout": "IPY_MODEL_4e07a3e359034c83899d1582034bd2b4"
      }
     },
     "4e07a3e359034c83899d1582034bd2b4": {
      "model_module": "@jupyter-widgets/base",
      "model_module_version": "1.2.0",
      "model_name": "LayoutModel",
      "state": {
       "_model_module": "@jupyter-widgets/base",
       "_model_module_version": "1.2.0",
       "_model_name": "LayoutModel",
       "_view_count": null,
       "_view_module": "@jupyter-widgets/base",
       "_view_module_version": "1.2.0",
       "_view_name": "LayoutView",
       "align_content": null,
       "align_items": null,
       "align_self": null,
       "border": null,
       "bottom": null,
       "display": null,
       "flex": null,
       "flex_flow": null,
       "grid_area": null,
       "grid_auto_columns": null,
       "grid_auto_flow": null,
       "grid_auto_rows": null,
       "grid_column": null,
       "grid_gap": null,
       "grid_row": null,
       "grid_template_areas": null,
       "grid_template_columns": null,
       "grid_template_rows": null,
       "height": null,
       "justify_content": null,
       "justify_items": null,
       "left": null,
       "margin": null,
       "max_height": null,
       "max_width": null,
       "min_height": null,
       "min_width": null,
       "object_fit": null,
       "object_position": null,
       "order": null,
       "overflow": null,
       "overflow_x": null,
       "overflow_y": null,
       "padding": null,
       "right": null,
       "top": null,
       "visibility": null,
       "width": null
      }
     },
     "6b183470012548f08ed39fdd38543ba2": {
      "model_module": "@jupyter-widgets/controls",
      "model_module_version": "1.5.0",
      "model_name": "ProgressStyleModel",
      "state": {
       "_model_module": "@jupyter-widgets/controls",
       "_model_module_version": "1.5.0",
       "_model_name": "ProgressStyleModel",
       "_view_count": null,
       "_view_module": "@jupyter-widgets/base",
       "_view_module_version": "1.2.0",
       "_view_name": "StyleView",
       "bar_color": null,
       "description_width": ""
      }
     },
     "6ef9fe749a0e48599442ff7ac61fa5cb": {
      "model_module": "@jupyter-widgets/base",
      "model_module_version": "1.2.0",
      "model_name": "LayoutModel",
      "state": {
       "_model_module": "@jupyter-widgets/base",
       "_model_module_version": "1.2.0",
       "_model_name": "LayoutModel",
       "_view_count": null,
       "_view_module": "@jupyter-widgets/base",
       "_view_module_version": "1.2.0",
       "_view_name": "LayoutView",
       "align_content": null,
       "align_items": null,
       "align_self": null,
       "border": null,
       "bottom": null,
       "display": null,
       "flex": null,
       "flex_flow": null,
       "grid_area": null,
       "grid_auto_columns": null,
       "grid_auto_flow": null,
       "grid_auto_rows": null,
       "grid_column": null,
       "grid_gap": null,
       "grid_row": null,
       "grid_template_areas": null,
       "grid_template_columns": null,
       "grid_template_rows": null,
       "height": null,
       "justify_content": null,
       "justify_items": null,
       "left": null,
       "margin": null,
       "max_height": null,
       "max_width": null,
       "min_height": null,
       "min_width": null,
       "object_fit": null,
       "object_position": null,
       "order": null,
       "overflow": null,
       "overflow_x": null,
       "overflow_y": null,
       "padding": null,
       "right": null,
       "top": null,
       "visibility": null,
       "width": null
      }
     },
     "75d5161866d24e0a96c8dd726326cc1a": {
      "model_module": "@jupyter-widgets/controls",
      "model_module_version": "1.5.0",
      "model_name": "HTMLModel",
      "state": {
       "_dom_classes": [],
       "_model_module": "@jupyter-widgets/controls",
       "_model_module_version": "1.5.0",
       "_model_name": "HTMLModel",
       "_view_count": null,
       "_view_module": "@jupyter-widgets/controls",
       "_view_module_version": "1.5.0",
       "_view_name": "HTMLView",
       "description": "",
       "description_tooltip": null,
       "layout": "IPY_MODEL_9354a9997bd74acb805050717a956d55",
       "placeholder": "​",
       "style": "IPY_MODEL_efa13e46be644835a9b55be86db8a876",
       "value": " 10/10 [03:11&lt;00:00, 19.25s/it]"
      }
     },
     "9354a9997bd74acb805050717a956d55": {
      "model_module": "@jupyter-widgets/base",
      "model_module_version": "1.2.0",
      "model_name": "LayoutModel",
      "state": {
       "_model_module": "@jupyter-widgets/base",
       "_model_module_version": "1.2.0",
       "_model_name": "LayoutModel",
       "_view_count": null,
       "_view_module": "@jupyter-widgets/base",
       "_view_module_version": "1.2.0",
       "_view_name": "LayoutView",
       "align_content": null,
       "align_items": null,
       "align_self": null,
       "border": null,
       "bottom": null,
       "display": null,
       "flex": null,
       "flex_flow": null,
       "grid_area": null,
       "grid_auto_columns": null,
       "grid_auto_flow": null,
       "grid_auto_rows": null,
       "grid_column": null,
       "grid_gap": null,
       "grid_row": null,
       "grid_template_areas": null,
       "grid_template_columns": null,
       "grid_template_rows": null,
       "height": null,
       "justify_content": null,
       "justify_items": null,
       "left": null,
       "margin": null,
       "max_height": null,
       "max_width": null,
       "min_height": null,
       "min_width": null,
       "object_fit": null,
       "object_position": null,
       "order": null,
       "overflow": null,
       "overflow_x": null,
       "overflow_y": null,
       "padding": null,
       "right": null,
       "top": null,
       "visibility": null,
       "width": null
      }
     },
     "a7c5f67162c14f8eb57aff68864e53d7": {
      "model_module": "@jupyter-widgets/controls",
      "model_module_version": "1.5.0",
      "model_name": "FloatProgressModel",
      "state": {
       "_dom_classes": [],
       "_model_module": "@jupyter-widgets/controls",
       "_model_module_version": "1.5.0",
       "_model_name": "FloatProgressModel",
       "_view_count": null,
       "_view_module": "@jupyter-widgets/controls",
       "_view_module_version": "1.5.0",
       "_view_name": "ProgressView",
       "bar_style": "success",
       "description": "",
       "description_tooltip": null,
       "layout": "IPY_MODEL_6ef9fe749a0e48599442ff7ac61fa5cb",
       "max": 10.0,
       "min": 0.0,
       "orientation": "horizontal",
       "style": "IPY_MODEL_6b183470012548f08ed39fdd38543ba2",
       "value": 10.0
      }
     },
     "d3f2b2ecb4bb4aa3b9dec2aaf7a624a7": {
      "model_module": "@jupyter-widgets/controls",
      "model_module_version": "1.5.0",
      "model_name": "HTMLModel",
      "state": {
       "_dom_classes": [],
       "_model_module": "@jupyter-widgets/controls",
       "_model_module_version": "1.5.0",
       "_model_name": "HTMLModel",
       "_view_count": null,
       "_view_module": "@jupyter-widgets/controls",
       "_view_module_version": "1.5.0",
       "_view_name": "HTMLView",
       "description": "",
       "description_tooltip": null,
       "layout": "IPY_MODEL_045c46bc4a0e4ecbab276c221e2e41ad",
       "placeholder": "​",
       "style": "IPY_MODEL_2691e2c2112f4667a35817206fec0b4a",
       "value": "100%"
      }
     },
     "efa13e46be644835a9b55be86db8a876": {
      "model_module": "@jupyter-widgets/controls",
      "model_module_version": "1.5.0",
      "model_name": "DescriptionStyleModel",
      "state": {
       "_model_module": "@jupyter-widgets/controls",
       "_model_module_version": "1.5.0",
       "_model_name": "DescriptionStyleModel",
       "_view_count": null,
       "_view_module": "@jupyter-widgets/base",
       "_view_module_version": "1.2.0",
       "_view_name": "StyleView",
       "description_width": ""
      }
     }
    },
    "version_major": 2,
    "version_minor": 0
   }
  }
 },
 "nbformat": 4,
 "nbformat_minor": 5
}
