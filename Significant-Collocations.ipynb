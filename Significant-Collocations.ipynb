{
 "cells": [
  {
   "cell_type": "markdown",
   "id": "d84ad028",
   "metadata": {
    "papermill": {
     "duration": 0.00377,
     "end_time": "2022-11-22T16:42:04.848800",
     "exception": false,
     "start_time": "2022-11-22T16:42:04.845030",
     "status": "completed"
    },
    "tags": []
   },
   "source": [
    "# Significant Collocations"
   ]
  },
  {
   "cell_type": "code",
   "execution_count": 1,
   "id": "2b4b2ff2",
   "metadata": {
    "_cell_guid": "b1076dfc-b9ad-4769-8c92-a6c4dae69d19",
    "_uuid": "8f2839f25d086af736a60e9eeb907d3b93b6e0e5",
    "execution": {
     "iopub.execute_input": "2022-11-22T16:42:04.856767Z",
     "iopub.status.busy": "2022-11-22T16:42:04.856100Z",
     "iopub.status.idle": "2022-11-22T16:42:07.033414Z",
     "shell.execute_reply": "2022-11-22T16:42:07.032084Z"
    },
    "papermill": {
     "duration": 2.184636,
     "end_time": "2022-11-22T16:42:07.036300",
     "exception": false,
     "start_time": "2022-11-22T16:42:04.851664",
     "status": "completed"
    },
    "tags": []
   },
   "outputs": [],
   "source": [
    "import numpy as np\n",
    "import pandas as pd\n",
    "from tqdm.auto import tqdm\n",
    "\n",
    "from sklearn.model_selection import StratifiedKFold\n",
    "from sklearn.base import BaseEstimator, TransformerMixin\n",
    "from sklearn.feature_extraction import DictVectorizer\n",
    "from sklearn.feature_extraction.text import TfidfVectorizer\n",
    "from sklearn.linear_model import LogisticRegression\n",
    "from sklearn.pipeline import Pipeline, FeatureUnion\n",
    "from sklearn.compose import ColumnTransformer\n",
    "from sklearn import set_config\n",
    "\n",
    "from nltk.collocations import BigramCollocationFinder, TrigramCollocationFinder, QuadgramCollocationFinder\n",
    "from nltk.metrics.association import BigramAssocMeasures, TrigramAssocMeasures, QuadgramAssocMeasures\n",
    "\n",
    "tqdm.pandas()\n",
    "set_config(display=\"diagram\")"
   ]
  },
  {
   "cell_type": "code",
   "execution_count": 2,
   "id": "9049fb05",
   "metadata": {
    "execution": {
     "iopub.execute_input": "2022-11-22T16:42:07.044633Z",
     "iopub.status.busy": "2022-11-22T16:42:07.043333Z",
     "iopub.status.idle": "2022-11-22T16:42:07.118593Z",
     "shell.execute_reply": "2022-11-22T16:42:07.116407Z"
    },
    "papermill": {
     "duration": 0.082643,
     "end_time": "2022-11-22T16:42:07.121808",
     "exception": false,
     "start_time": "2022-11-22T16:42:07.039165",
     "status": "completed"
    },
    "tags": []
   },
   "outputs": [
    {
     "name": "stdout",
     "output_type": "stream",
     "text": [
      "(4846, 2)\n"
     ]
    },
    {
     "data": {
      "text/html": [
       "<div>\n",
       "<style scoped>\n",
       "    .dataframe tbody tr th:only-of-type {\n",
       "        vertical-align: middle;\n",
       "    }\n",
       "\n",
       "    .dataframe tbody tr th {\n",
       "        vertical-align: top;\n",
       "    }\n",
       "\n",
       "    .dataframe thead th {\n",
       "        text-align: right;\n",
       "    }\n",
       "</style>\n",
       "<table border=\"1\" class=\"dataframe\">\n",
       "  <thead>\n",
       "    <tr style=\"text-align: right;\">\n",
       "      <th></th>\n",
       "      <th>sentiment</th>\n",
       "      <th>text</th>\n",
       "    </tr>\n",
       "  </thead>\n",
       "  <tbody>\n",
       "    <tr>\n",
       "      <th>0</th>\n",
       "      <td>neutral</td>\n",
       "      <td>According to Gran , the company has no plans t...</td>\n",
       "    </tr>\n",
       "    <tr>\n",
       "      <th>1</th>\n",
       "      <td>neutral</td>\n",
       "      <td>Technopolis plans to develop in stages an area...</td>\n",
       "    </tr>\n",
       "    <tr>\n",
       "      <th>2</th>\n",
       "      <td>negative</td>\n",
       "      <td>The international electronic industry company ...</td>\n",
       "    </tr>\n",
       "    <tr>\n",
       "      <th>3</th>\n",
       "      <td>positive</td>\n",
       "      <td>With the new production plant the company woul...</td>\n",
       "    </tr>\n",
       "    <tr>\n",
       "      <th>4</th>\n",
       "      <td>positive</td>\n",
       "      <td>According to the company 's updated strategy f...</td>\n",
       "    </tr>\n",
       "  </tbody>\n",
       "</table>\n",
       "</div>"
      ],
      "text/plain": [
       "  sentiment                                               text\n",
       "0   neutral  According to Gran , the company has no plans t...\n",
       "1   neutral  Technopolis plans to develop in stages an area...\n",
       "2  negative  The international electronic industry company ...\n",
       "3  positive  With the new production plant the company woul...\n",
       "4  positive  According to the company 's updated strategy f..."
      ]
     },
     "execution_count": 2,
     "metadata": {},
     "output_type": "execute_result"
    }
   ],
   "source": [
    "df = pd.read_csv('../input/sentiment-analysis-for-financial-news/all-data.csv', delimiter=',', encoding='latin-1', header=None).fillna('')\n",
    "df = df.rename(columns=lambda x: ['sentiment', 'text'][x])\n",
    "print(df.shape)\n",
    "df.head()"
   ]
  },
  {
   "cell_type": "code",
   "execution_count": 3,
   "id": "21217416",
   "metadata": {
    "execution": {
     "iopub.execute_input": "2022-11-22T16:42:07.131759Z",
     "iopub.status.busy": "2022-11-22T16:42:07.130023Z",
     "iopub.status.idle": "2022-11-22T16:42:07.141481Z",
     "shell.execute_reply": "2022-11-22T16:42:07.139761Z"
    },
    "papermill": {
     "duration": 0.019571,
     "end_time": "2022-11-22T16:42:07.144637",
     "exception": false,
     "start_time": "2022-11-22T16:42:07.125066",
     "status": "completed"
    },
    "tags": []
   },
   "outputs": [],
   "source": [
    "class SignificantCollocations(BaseEstimator, TransformerMixin):\n",
    "    def __init__(self, ngram):\n",
    "        self.ngram=ngram\n",
    "        if ngram == 2:\n",
    "            self.ngram_class = BigramCollocationFinder\n",
    "            self.metric = BigramAssocMeasures.pmi\n",
    "        elif ngram == 3:\n",
    "            self.ngram_class = TrigramCollocationFinder\n",
    "            self.metric = TrigramAssocMeasures.pmi\n",
    "        elif ngram == 4:\n",
    "            self.ngram_class = QuadgramCollocationFinder\n",
    "            self.metric = QuadgramAssocMeasures.pmi\n",
    "        else:\n",
    "            raise ValueError(\"invalid ngram value\")\n",
    "    \n",
    "    def fit(self, X, y=None):\n",
    "        ngrams = self.ngram_class.from_documents(X)\n",
    "        self.scored_ = dict(ngrams.score_ngrams(self.metric))\n",
    "        return self\n",
    "    \n",
    "    def transform(self, X, y=None):\n",
    "        for x in X:\n",
    "            ngrams = self.ngram_class.from_words(x.split())\n",
    "            yield {\n",
    "                ngram: self.scored_.get(ngram, 0.0) for ngram in ngrams.nbest(self.metric, 5)\n",
    "            }\n",
    "    "
   ]
  },
  {
   "cell_type": "code",
   "execution_count": 4,
   "id": "c7e72885",
   "metadata": {
    "execution": {
     "iopub.execute_input": "2022-11-22T16:42:07.152885Z",
     "iopub.status.busy": "2022-11-22T16:42:07.152441Z",
     "iopub.status.idle": "2022-11-22T16:42:07.251858Z",
     "shell.execute_reply": "2022-11-22T16:42:07.250640Z"
    },
    "papermill": {
     "duration": 0.10655,
     "end_time": "2022-11-22T16:42:07.254482",
     "exception": false,
     "start_time": "2022-11-22T16:42:07.147932",
     "status": "completed"
    },
    "tags": []
   },
   "outputs": [
    {
     "data": {
      "text/html": [
       "<style>#sk-d2f289cb-3800-42f3-ad7b-34527b1119f9 {color: black;background-color: white;}#sk-d2f289cb-3800-42f3-ad7b-34527b1119f9 pre{padding: 0;}#sk-d2f289cb-3800-42f3-ad7b-34527b1119f9 div.sk-toggleable {background-color: white;}#sk-d2f289cb-3800-42f3-ad7b-34527b1119f9 label.sk-toggleable__label {cursor: pointer;display: block;width: 100%;margin-bottom: 0;padding: 0.3em;box-sizing: border-box;text-align: center;}#sk-d2f289cb-3800-42f3-ad7b-34527b1119f9 label.sk-toggleable__label-arrow:before {content: \"▸\";float: left;margin-right: 0.25em;color: #696969;}#sk-d2f289cb-3800-42f3-ad7b-34527b1119f9 label.sk-toggleable__label-arrow:hover:before {color: black;}#sk-d2f289cb-3800-42f3-ad7b-34527b1119f9 div.sk-estimator:hover label.sk-toggleable__label-arrow:before {color: black;}#sk-d2f289cb-3800-42f3-ad7b-34527b1119f9 div.sk-toggleable__content {max-height: 0;max-width: 0;overflow: hidden;text-align: left;background-color: #f0f8ff;}#sk-d2f289cb-3800-42f3-ad7b-34527b1119f9 div.sk-toggleable__content pre {margin: 0.2em;color: black;border-radius: 0.25em;background-color: #f0f8ff;}#sk-d2f289cb-3800-42f3-ad7b-34527b1119f9 input.sk-toggleable__control:checked~div.sk-toggleable__content {max-height: 200px;max-width: 100%;overflow: auto;}#sk-d2f289cb-3800-42f3-ad7b-34527b1119f9 input.sk-toggleable__control:checked~label.sk-toggleable__label-arrow:before {content: \"▾\";}#sk-d2f289cb-3800-42f3-ad7b-34527b1119f9 div.sk-estimator input.sk-toggleable__control:checked~label.sk-toggleable__label {background-color: #d4ebff;}#sk-d2f289cb-3800-42f3-ad7b-34527b1119f9 div.sk-label input.sk-toggleable__control:checked~label.sk-toggleable__label {background-color: #d4ebff;}#sk-d2f289cb-3800-42f3-ad7b-34527b1119f9 input.sk-hidden--visually {border: 0;clip: rect(1px 1px 1px 1px);clip: rect(1px, 1px, 1px, 1px);height: 1px;margin: -1px;overflow: hidden;padding: 0;position: absolute;width: 1px;}#sk-d2f289cb-3800-42f3-ad7b-34527b1119f9 div.sk-estimator {font-family: monospace;background-color: #f0f8ff;border: 1px dotted black;border-radius: 0.25em;box-sizing: border-box;margin-bottom: 0.5em;}#sk-d2f289cb-3800-42f3-ad7b-34527b1119f9 div.sk-estimator:hover {background-color: #d4ebff;}#sk-d2f289cb-3800-42f3-ad7b-34527b1119f9 div.sk-parallel-item::after {content: \"\";width: 100%;border-bottom: 1px solid gray;flex-grow: 1;}#sk-d2f289cb-3800-42f3-ad7b-34527b1119f9 div.sk-label:hover label.sk-toggleable__label {background-color: #d4ebff;}#sk-d2f289cb-3800-42f3-ad7b-34527b1119f9 div.sk-serial::before {content: \"\";position: absolute;border-left: 1px solid gray;box-sizing: border-box;top: 2em;bottom: 0;left: 50%;}#sk-d2f289cb-3800-42f3-ad7b-34527b1119f9 div.sk-serial {display: flex;flex-direction: column;align-items: center;background-color: white;padding-right: 0.2em;padding-left: 0.2em;}#sk-d2f289cb-3800-42f3-ad7b-34527b1119f9 div.sk-item {z-index: 1;}#sk-d2f289cb-3800-42f3-ad7b-34527b1119f9 div.sk-parallel {display: flex;align-items: stretch;justify-content: center;background-color: white;}#sk-d2f289cb-3800-42f3-ad7b-34527b1119f9 div.sk-parallel::before {content: \"\";position: absolute;border-left: 1px solid gray;box-sizing: border-box;top: 2em;bottom: 0;left: 50%;}#sk-d2f289cb-3800-42f3-ad7b-34527b1119f9 div.sk-parallel-item {display: flex;flex-direction: column;position: relative;background-color: white;}#sk-d2f289cb-3800-42f3-ad7b-34527b1119f9 div.sk-parallel-item:first-child::after {align-self: flex-end;width: 50%;}#sk-d2f289cb-3800-42f3-ad7b-34527b1119f9 div.sk-parallel-item:last-child::after {align-self: flex-start;width: 50%;}#sk-d2f289cb-3800-42f3-ad7b-34527b1119f9 div.sk-parallel-item:only-child::after {width: 0;}#sk-d2f289cb-3800-42f3-ad7b-34527b1119f9 div.sk-dashed-wrapped {border: 1px dashed gray;margin: 0 0.4em 0.5em 0.4em;box-sizing: border-box;padding-bottom: 0.4em;background-color: white;position: relative;}#sk-d2f289cb-3800-42f3-ad7b-34527b1119f9 div.sk-label label {font-family: monospace;font-weight: bold;background-color: white;display: inline-block;line-height: 1.2em;}#sk-d2f289cb-3800-42f3-ad7b-34527b1119f9 div.sk-label-container {position: relative;z-index: 2;text-align: center;}#sk-d2f289cb-3800-42f3-ad7b-34527b1119f9 div.sk-container {/* jupyter's `normalize.less` sets `[hidden] { display: none; }` but bootstrap.min.css set `[hidden] { display: none !important; }` so we also need the `!important` here to be able to override the default hidden behavior on the sphinx rendered scikit-learn.org. See: https://github.com/scikit-learn/scikit-learn/issues/21755 */display: inline-block !important;position: relative;}#sk-d2f289cb-3800-42f3-ad7b-34527b1119f9 div.sk-text-repr-fallback {display: none;}</style><div id=\"sk-d2f289cb-3800-42f3-ad7b-34527b1119f9\" class=\"sk-top-container\"><div class=\"sk-text-repr-fallback\"><pre>Pipeline(steps=[(&#x27;vectorizer&#x27;,\n",
       "                 FeatureUnion(transformer_list=[(&#x27;uni&#x27;,\n",
       "                                                 TfidfVectorizer(sublinear_tf=True)),\n",
       "                                                (&#x27;bi&#x27;,\n",
       "                                                 Pipeline(steps=[(&#x27;extractor&#x27;,\n",
       "                                                                  SignificantCollocations(ngram=2)),\n",
       "                                                                 (&#x27;vectorizer&#x27;,\n",
       "                                                                  DictVectorizer())])),\n",
       "                                                (&#x27;tri&#x27;,\n",
       "                                                 Pipeline(steps=[(&#x27;extractor&#x27;,\n",
       "                                                                  SignificantCollocations(ngram=3)),\n",
       "                                                                 (&#x27;vectorizer&#x27;,\n",
       "                                                                  DictVectorizer())])),\n",
       "                                                (&#x27;quad&#x27;,\n",
       "                                                 Pipeline(steps=[(&#x27;extractor&#x27;,\n",
       "                                                                  SignificantCollocations(ngram=4)),\n",
       "                                                                 (&#x27;vectorizer&#x27;,\n",
       "                                                                  DictVectorizer())]))])),\n",
       "                (&#x27;estimator&#x27;,\n",
       "                 LogisticRegression(class_weight=&#x27;balanced&#x27;, max_iter=100000,\n",
       "                                    random_state=19))])</pre><b>Please rerun this cell to show the HTML repr or trust the notebook.</b></div><div class=\"sk-container\" hidden><div class=\"sk-item sk-dashed-wrapped\"><div class=\"sk-label-container\"><div class=\"sk-label sk-toggleable\"><input class=\"sk-toggleable__control sk-hidden--visually\" id=\"77f09828-388d-44e8-8539-675fe970fe53\" type=\"checkbox\" ><label for=\"77f09828-388d-44e8-8539-675fe970fe53\" class=\"sk-toggleable__label sk-toggleable__label-arrow\">Pipeline</label><div class=\"sk-toggleable__content\"><pre>Pipeline(steps=[(&#x27;vectorizer&#x27;,\n",
       "                 FeatureUnion(transformer_list=[(&#x27;uni&#x27;,\n",
       "                                                 TfidfVectorizer(sublinear_tf=True)),\n",
       "                                                (&#x27;bi&#x27;,\n",
       "                                                 Pipeline(steps=[(&#x27;extractor&#x27;,\n",
       "                                                                  SignificantCollocations(ngram=2)),\n",
       "                                                                 (&#x27;vectorizer&#x27;,\n",
       "                                                                  DictVectorizer())])),\n",
       "                                                (&#x27;tri&#x27;,\n",
       "                                                 Pipeline(steps=[(&#x27;extractor&#x27;,\n",
       "                                                                  SignificantCollocations(ngram=3)),\n",
       "                                                                 (&#x27;vectorizer&#x27;,\n",
       "                                                                  DictVectorizer())])),\n",
       "                                                (&#x27;quad&#x27;,\n",
       "                                                 Pipeline(steps=[(&#x27;extractor&#x27;,\n",
       "                                                                  SignificantCollocations(ngram=4)),\n",
       "                                                                 (&#x27;vectorizer&#x27;,\n",
       "                                                                  DictVectorizer())]))])),\n",
       "                (&#x27;estimator&#x27;,\n",
       "                 LogisticRegression(class_weight=&#x27;balanced&#x27;, max_iter=100000,\n",
       "                                    random_state=19))])</pre></div></div></div><div class=\"sk-serial\"><div class=\"sk-item sk-dashed-wrapped\"><div class=\"sk-label-container\"><div class=\"sk-label sk-toggleable\"><input class=\"sk-toggleable__control sk-hidden--visually\" id=\"933d7d4c-1a7d-4e2c-8410-8b34862f7222\" type=\"checkbox\" ><label for=\"933d7d4c-1a7d-4e2c-8410-8b34862f7222\" class=\"sk-toggleable__label sk-toggleable__label-arrow\">vectorizer: FeatureUnion</label><div class=\"sk-toggleable__content\"><pre>FeatureUnion(transformer_list=[(&#x27;uni&#x27;, TfidfVectorizer(sublinear_tf=True)),\n",
       "                               (&#x27;bi&#x27;,\n",
       "                                Pipeline(steps=[(&#x27;extractor&#x27;,\n",
       "                                                 SignificantCollocations(ngram=2)),\n",
       "                                                (&#x27;vectorizer&#x27;,\n",
       "                                                 DictVectorizer())])),\n",
       "                               (&#x27;tri&#x27;,\n",
       "                                Pipeline(steps=[(&#x27;extractor&#x27;,\n",
       "                                                 SignificantCollocations(ngram=3)),\n",
       "                                                (&#x27;vectorizer&#x27;,\n",
       "                                                 DictVectorizer())])),\n",
       "                               (&#x27;quad&#x27;,\n",
       "                                Pipeline(steps=[(&#x27;extractor&#x27;,\n",
       "                                                 SignificantCollocations(ngram=4)),\n",
       "                                                (&#x27;vectorizer&#x27;,\n",
       "                                                 DictVectorizer())]))])</pre></div></div></div><div class=\"sk-parallel\"><div class=\"sk-parallel-item\"><div class=\"sk-item\"><div class=\"sk-label-container\"><div class=\"sk-label sk-toggleable\"><label>uni</label></div></div><div class=\"sk-serial\"><div class=\"sk-item\"><div class=\"sk-estimator sk-toggleable\"><input class=\"sk-toggleable__control sk-hidden--visually\" id=\"69ba7f93-47f7-41ab-953d-d6251460c093\" type=\"checkbox\" ><label for=\"69ba7f93-47f7-41ab-953d-d6251460c093\" class=\"sk-toggleable__label sk-toggleable__label-arrow\">TfidfVectorizer</label><div class=\"sk-toggleable__content\"><pre>TfidfVectorizer(sublinear_tf=True)</pre></div></div></div></div></div></div><div class=\"sk-parallel-item\"><div class=\"sk-item\"><div class=\"sk-label-container\"><div class=\"sk-label sk-toggleable\"><label>bi</label></div></div><div class=\"sk-serial\"><div class=\"sk-item\"><div class=\"sk-serial\"><div class=\"sk-item\"><div class=\"sk-estimator sk-toggleable\"><input class=\"sk-toggleable__control sk-hidden--visually\" id=\"479c1ba6-a20e-4873-bbd3-d841cc4bf660\" type=\"checkbox\" ><label for=\"479c1ba6-a20e-4873-bbd3-d841cc4bf660\" class=\"sk-toggleable__label sk-toggleable__label-arrow\">SignificantCollocations</label><div class=\"sk-toggleable__content\"><pre>SignificantCollocations(ngram=2)</pre></div></div></div><div class=\"sk-item\"><div class=\"sk-estimator sk-toggleable\"><input class=\"sk-toggleable__control sk-hidden--visually\" id=\"b5b0f69d-d191-43be-b72d-cdbcef860512\" type=\"checkbox\" ><label for=\"b5b0f69d-d191-43be-b72d-cdbcef860512\" class=\"sk-toggleable__label sk-toggleable__label-arrow\">DictVectorizer</label><div class=\"sk-toggleable__content\"><pre>DictVectorizer()</pre></div></div></div></div></div></div></div></div><div class=\"sk-parallel-item\"><div class=\"sk-item\"><div class=\"sk-label-container\"><div class=\"sk-label sk-toggleable\"><label>tri</label></div></div><div class=\"sk-serial\"><div class=\"sk-item\"><div class=\"sk-serial\"><div class=\"sk-item\"><div class=\"sk-estimator sk-toggleable\"><input class=\"sk-toggleable__control sk-hidden--visually\" id=\"d5266969-1757-4b03-8845-05fb47499304\" type=\"checkbox\" ><label for=\"d5266969-1757-4b03-8845-05fb47499304\" class=\"sk-toggleable__label sk-toggleable__label-arrow\">SignificantCollocations</label><div class=\"sk-toggleable__content\"><pre>SignificantCollocations(ngram=3)</pre></div></div></div><div class=\"sk-item\"><div class=\"sk-estimator sk-toggleable\"><input class=\"sk-toggleable__control sk-hidden--visually\" id=\"d22fd022-9e62-4d50-a9d9-770584f78c3c\" type=\"checkbox\" ><label for=\"d22fd022-9e62-4d50-a9d9-770584f78c3c\" class=\"sk-toggleable__label sk-toggleable__label-arrow\">DictVectorizer</label><div class=\"sk-toggleable__content\"><pre>DictVectorizer()</pre></div></div></div></div></div></div></div></div><div class=\"sk-parallel-item\"><div class=\"sk-item\"><div class=\"sk-label-container\"><div class=\"sk-label sk-toggleable\"><label>quad</label></div></div><div class=\"sk-serial\"><div class=\"sk-item\"><div class=\"sk-serial\"><div class=\"sk-item\"><div class=\"sk-estimator sk-toggleable\"><input class=\"sk-toggleable__control sk-hidden--visually\" id=\"1b45d7e3-c55b-418e-b137-56162f61822a\" type=\"checkbox\" ><label for=\"1b45d7e3-c55b-418e-b137-56162f61822a\" class=\"sk-toggleable__label sk-toggleable__label-arrow\">SignificantCollocations</label><div class=\"sk-toggleable__content\"><pre>SignificantCollocations(ngram=4)</pre></div></div></div><div class=\"sk-item\"><div class=\"sk-estimator sk-toggleable\"><input class=\"sk-toggleable__control sk-hidden--visually\" id=\"a4d1e106-9bc5-41d2-8b4b-040e065adae1\" type=\"checkbox\" ><label for=\"a4d1e106-9bc5-41d2-8b4b-040e065adae1\" class=\"sk-toggleable__label sk-toggleable__label-arrow\">DictVectorizer</label><div class=\"sk-toggleable__content\"><pre>DictVectorizer()</pre></div></div></div></div></div></div></div></div></div></div><div class=\"sk-item\"><div class=\"sk-estimator sk-toggleable\"><input class=\"sk-toggleable__control sk-hidden--visually\" id=\"35c9be36-64bd-4a0a-927f-de0b0face9d6\" type=\"checkbox\" ><label for=\"35c9be36-64bd-4a0a-927f-de0b0face9d6\" class=\"sk-toggleable__label sk-toggleable__label-arrow\">LogisticRegression</label><div class=\"sk-toggleable__content\"><pre>LogisticRegression(class_weight=&#x27;balanced&#x27;, max_iter=100000, random_state=19)</pre></div></div></div></div></div></div></div>"
      ],
      "text/plain": [
       "Pipeline(steps=[('vectorizer',\n",
       "                 FeatureUnion(transformer_list=[('uni',\n",
       "                                                 TfidfVectorizer(sublinear_tf=True)),\n",
       "                                                ('bi',\n",
       "                                                 Pipeline(steps=[('extractor',\n",
       "                                                                  SignificantCollocations(ngram=2)),\n",
       "                                                                 ('vectorizer',\n",
       "                                                                  DictVectorizer())])),\n",
       "                                                ('tri',\n",
       "                                                 Pipeline(steps=[('extractor',\n",
       "                                                                  SignificantCollocations(ngram=3)),\n",
       "                                                                 ('vectorizer',\n",
       "                                                                  DictVectorizer())])),\n",
       "                                                ('quad',\n",
       "                                                 Pipeline(steps=[('extractor',\n",
       "                                                                  SignificantCollocations(ngram=4)),\n",
       "                                                                 ('vectorizer',\n",
       "                                                                  DictVectorizer())]))])),\n",
       "                ('estimator',\n",
       "                 LogisticRegression(class_weight='balanced', max_iter=100000,\n",
       "                                    random_state=19))])"
      ]
     },
     "execution_count": 4,
     "metadata": {},
     "output_type": "execute_result"
    }
   ],
   "source": [
    "get_model = lambda: Pipeline([\n",
    "    ('vectorizer', FeatureUnion([\n",
    "        ('uni', TfidfVectorizer(sublinear_tf=True)),\n",
    "        ('bi', Pipeline([('extractor', SignificantCollocations(2)), ('vectorizer', DictVectorizer())])),\n",
    "        ('tri', Pipeline([('extractor', SignificantCollocations(3)), ('vectorizer', DictVectorizer())])),\n",
    "        ('quad', Pipeline([('extractor', SignificantCollocations(4)), ('vectorizer', DictVectorizer())])),\n",
    "    ])),\n",
    "    ('estimator', LogisticRegression(max_iter=100_000, random_state=19, class_weight=\"balanced\"))\n",
    "])\n",
    "get_model()"
   ]
  },
  {
   "cell_type": "code",
   "execution_count": 5,
   "id": "bb582742",
   "metadata": {
    "execution": {
     "iopub.execute_input": "2022-11-22T16:42:07.263598Z",
     "iopub.status.busy": "2022-11-22T16:42:07.263131Z",
     "iopub.status.idle": "2022-11-22T16:45:25.009927Z",
     "shell.execute_reply": "2022-11-22T16:45:25.008710Z"
    },
    "papermill": {
     "duration": 197.760282,
     "end_time": "2022-11-22T16:45:25.018371",
     "exception": false,
     "start_time": "2022-11-22T16:42:07.258089",
     "status": "completed"
    },
    "tags": []
   },
   "outputs": [
    {
     "data": {
      "application/vnd.jupyter.widget-view+json": {
       "model_id": "0f1579c975124e30ade31f2ba466f1ca",
       "version_major": 2,
       "version_minor": 0
      },
      "text/plain": [
       "  0%|          | 0/10 [00:00<?, ?it/s]"
      ]
     },
     "metadata": {},
     "output_type": "display_data"
    },
    {
     "name": "stdout",
     "output_type": "stream",
     "text": [
      "0.7593891113572463\n"
     ]
    }
   ],
   "source": [
    "x = df['text']\n",
    "y = df['sentiment']\n",
    "\n",
    "skf = StratifiedKFold(n_splits=10, shuffle=True, random_state=19)\n",
    "scores = []\n",
    "for train_index, valid_index in tqdm(skf.split(x, y), total=10):\n",
    "    x_train, x_valid = x.iloc[train_index], x.iloc[valid_index]\n",
    "    y_train, y_valid = y.iloc[train_index], y.iloc[valid_index]\n",
    "    \n",
    "    model = get_model().fit(x_train, y_train)\n",
    "    scores.append(model.score(x_valid, y_valid))\n",
    "print(np.mean(scores))"
   ]
  },
  {
   "cell_type": "code",
   "execution_count": null,
   "id": "b874a2b2",
   "metadata": {
    "papermill": {
     "duration": 0.003411,
     "end_time": "2022-11-22T16:45:25.026525",
     "exception": false,
     "start_time": "2022-11-22T16:45:25.023114",
     "status": "completed"
    },
    "tags": []
   },
   "outputs": [],
   "source": []
  }
 ],
 "metadata": {
  "kernelspec": {
   "display_name": "Python 3",
   "language": "python",
   "name": "python3"
  },
  "language_info": {
   "codemirror_mode": {
    "name": "ipython",
    "version": 3
   },
   "file_extension": ".py",
   "mimetype": "text/x-python",
   "name": "python",
   "nbconvert_exporter": "python",
   "pygments_lexer": "ipython3",
   "version": "3.7.12"
  },
  "papermill": {
   "default_parameters": {},
   "duration": 212.810373,
   "end_time": "2022-11-22T16:45:25.954734",
   "environment_variables": {},
   "exception": null,
   "input_path": "__notebook__.ipynb",
   "output_path": "__notebook__.ipynb",
   "parameters": {},
   "start_time": "2022-11-22T16:41:53.144361",
   "version": "2.3.4"
  },
  "widgets": {
   "application/vnd.jupyter.widget-state+json": {
    "state": {
     "0f1579c975124e30ade31f2ba466f1ca": {
      "model_module": "@jupyter-widgets/controls",
      "model_module_version": "1.5.0",
      "model_name": "HBoxModel",
      "state": {
       "_dom_classes": [],
       "_model_module": "@jupyter-widgets/controls",
       "_model_module_version": "1.5.0",
       "_model_name": "HBoxModel",
       "_view_count": null,
       "_view_module": "@jupyter-widgets/controls",
       "_view_module_version": "1.5.0",
       "_view_name": "HBoxView",
       "box_style": "",
       "children": [
        "IPY_MODEL_801cb80cb2004354ab22dc31ceff19e4",
        "IPY_MODEL_2a18a2108ccb498ca19e4b8b475e1169",
        "IPY_MODEL_9e8ec26e5bb143618f71dc3df868598b"
       ],
       "layout": "IPY_MODEL_53a5014144e4458290e655362092dc97"
      }
     },
     "0fba72574d884b7b9cdccf047776af24": {
      "model_module": "@jupyter-widgets/controls",
      "model_module_version": "1.5.0",
      "model_name": "ProgressStyleModel",
      "state": {
       "_model_module": "@jupyter-widgets/controls",
       "_model_module_version": "1.5.0",
       "_model_name": "ProgressStyleModel",
       "_view_count": null,
       "_view_module": "@jupyter-widgets/base",
       "_view_module_version": "1.2.0",
       "_view_name": "StyleView",
       "bar_color": null,
       "description_width": ""
      }
     },
     "2a18a2108ccb498ca19e4b8b475e1169": {
      "model_module": "@jupyter-widgets/controls",
      "model_module_version": "1.5.0",
      "model_name": "FloatProgressModel",
      "state": {
       "_dom_classes": [],
       "_model_module": "@jupyter-widgets/controls",
       "_model_module_version": "1.5.0",
       "_model_name": "FloatProgressModel",
       "_view_count": null,
       "_view_module": "@jupyter-widgets/controls",
       "_view_module_version": "1.5.0",
       "_view_name": "ProgressView",
       "bar_style": "success",
       "description": "",
       "description_tooltip": null,
       "layout": "IPY_MODEL_8f102a9b2daf41fea2e08782a0d06c87",
       "max": 10.0,
       "min": 0.0,
       "orientation": "horizontal",
       "style": "IPY_MODEL_0fba72574d884b7b9cdccf047776af24",
       "value": 10.0
      }
     },
     "53a5014144e4458290e655362092dc97": {
      "model_module": "@jupyter-widgets/base",
      "model_module_version": "1.2.0",
      "model_name": "LayoutModel",
      "state": {
       "_model_module": "@jupyter-widgets/base",
       "_model_module_version": "1.2.0",
       "_model_name": "LayoutModel",
       "_view_count": null,
       "_view_module": "@jupyter-widgets/base",
       "_view_module_version": "1.2.0",
       "_view_name": "LayoutView",
       "align_content": null,
       "align_items": null,
       "align_self": null,
       "border": null,
       "bottom": null,
       "display": null,
       "flex": null,
       "flex_flow": null,
       "grid_area": null,
       "grid_auto_columns": null,
       "grid_auto_flow": null,
       "grid_auto_rows": null,
       "grid_column": null,
       "grid_gap": null,
       "grid_row": null,
       "grid_template_areas": null,
       "grid_template_columns": null,
       "grid_template_rows": null,
       "height": null,
       "justify_content": null,
       "justify_items": null,
       "left": null,
       "margin": null,
       "max_height": null,
       "max_width": null,
       "min_height": null,
       "min_width": null,
       "object_fit": null,
       "object_position": null,
       "order": null,
       "overflow": null,
       "overflow_x": null,
       "overflow_y": null,
       "padding": null,
       "right": null,
       "top": null,
       "visibility": null,
       "width": null
      }
     },
     "801cb80cb2004354ab22dc31ceff19e4": {
      "model_module": "@jupyter-widgets/controls",
      "model_module_version": "1.5.0",
      "model_name": "HTMLModel",
      "state": {
       "_dom_classes": [],
       "_model_module": "@jupyter-widgets/controls",
       "_model_module_version": "1.5.0",
       "_model_name": "HTMLModel",
       "_view_count": null,
       "_view_module": "@jupyter-widgets/controls",
       "_view_module_version": "1.5.0",
       "_view_name": "HTMLView",
       "description": "",
       "description_tooltip": null,
       "layout": "IPY_MODEL_d5b0c3263ec0469babf934a6f3c2bf27",
       "placeholder": "​",
       "style": "IPY_MODEL_c27141f2e12e497d854a8ee60a89128c",
       "value": "100%"
      }
     },
     "808785018398421d920da88b4a945da3": {
      "model_module": "@jupyter-widgets/controls",
      "model_module_version": "1.5.0",
      "model_name": "DescriptionStyleModel",
      "state": {
       "_model_module": "@jupyter-widgets/controls",
       "_model_module_version": "1.5.0",
       "_model_name": "DescriptionStyleModel",
       "_view_count": null,
       "_view_module": "@jupyter-widgets/base",
       "_view_module_version": "1.2.0",
       "_view_name": "StyleView",
       "description_width": ""
      }
     },
     "8f102a9b2daf41fea2e08782a0d06c87": {
      "model_module": "@jupyter-widgets/base",
      "model_module_version": "1.2.0",
      "model_name": "LayoutModel",
      "state": {
       "_model_module": "@jupyter-widgets/base",
       "_model_module_version": "1.2.0",
       "_model_name": "LayoutModel",
       "_view_count": null,
       "_view_module": "@jupyter-widgets/base",
       "_view_module_version": "1.2.0",
       "_view_name": "LayoutView",
       "align_content": null,
       "align_items": null,
       "align_self": null,
       "border": null,
       "bottom": null,
       "display": null,
       "flex": null,
       "flex_flow": null,
       "grid_area": null,
       "grid_auto_columns": null,
       "grid_auto_flow": null,
       "grid_auto_rows": null,
       "grid_column": null,
       "grid_gap": null,
       "grid_row": null,
       "grid_template_areas": null,
       "grid_template_columns": null,
       "grid_template_rows": null,
       "height": null,
       "justify_content": null,
       "justify_items": null,
       "left": null,
       "margin": null,
       "max_height": null,
       "max_width": null,
       "min_height": null,
       "min_width": null,
       "object_fit": null,
       "object_position": null,
       "order": null,
       "overflow": null,
       "overflow_x": null,
       "overflow_y": null,
       "padding": null,
       "right": null,
       "top": null,
       "visibility": null,
       "width": null
      }
     },
     "9e8ec26e5bb143618f71dc3df868598b": {
      "model_module": "@jupyter-widgets/controls",
      "model_module_version": "1.5.0",
      "model_name": "HTMLModel",
      "state": {
       "_dom_classes": [],
       "_model_module": "@jupyter-widgets/controls",
       "_model_module_version": "1.5.0",
       "_model_name": "HTMLModel",
       "_view_count": null,
       "_view_module": "@jupyter-widgets/controls",
       "_view_module_version": "1.5.0",
       "_view_name": "HTMLView",
       "description": "",
       "description_tooltip": null,
       "layout": "IPY_MODEL_c6838fb0567f451593b4afe413b654eb",
       "placeholder": "​",
       "style": "IPY_MODEL_808785018398421d920da88b4a945da3",
       "value": " 10/10 [03:17&lt;00:00, 19.25s/it]"
      }
     },
     "c27141f2e12e497d854a8ee60a89128c": {
      "model_module": "@jupyter-widgets/controls",
      "model_module_version": "1.5.0",
      "model_name": "DescriptionStyleModel",
      "state": {
       "_model_module": "@jupyter-widgets/controls",
       "_model_module_version": "1.5.0",
       "_model_name": "DescriptionStyleModel",
       "_view_count": null,
       "_view_module": "@jupyter-widgets/base",
       "_view_module_version": "1.2.0",
       "_view_name": "StyleView",
       "description_width": ""
      }
     },
     "c6838fb0567f451593b4afe413b654eb": {
      "model_module": "@jupyter-widgets/base",
      "model_module_version": "1.2.0",
      "model_name": "LayoutModel",
      "state": {
       "_model_module": "@jupyter-widgets/base",
       "_model_module_version": "1.2.0",
       "_model_name": "LayoutModel",
       "_view_count": null,
       "_view_module": "@jupyter-widgets/base",
       "_view_module_version": "1.2.0",
       "_view_name": "LayoutView",
       "align_content": null,
       "align_items": null,
       "align_self": null,
       "border": null,
       "bottom": null,
       "display": null,
       "flex": null,
       "flex_flow": null,
       "grid_area": null,
       "grid_auto_columns": null,
       "grid_auto_flow": null,
       "grid_auto_rows": null,
       "grid_column": null,
       "grid_gap": null,
       "grid_row": null,
       "grid_template_areas": null,
       "grid_template_columns": null,
       "grid_template_rows": null,
       "height": null,
       "justify_content": null,
       "justify_items": null,
       "left": null,
       "margin": null,
       "max_height": null,
       "max_width": null,
       "min_height": null,
       "min_width": null,
       "object_fit": null,
       "object_position": null,
       "order": null,
       "overflow": null,
       "overflow_x": null,
       "overflow_y": null,
       "padding": null,
       "right": null,
       "top": null,
       "visibility": null,
       "width": null
      }
     },
     "d5b0c3263ec0469babf934a6f3c2bf27": {
      "model_module": "@jupyter-widgets/base",
      "model_module_version": "1.2.0",
      "model_name": "LayoutModel",
      "state": {
       "_model_module": "@jupyter-widgets/base",
       "_model_module_version": "1.2.0",
       "_model_name": "LayoutModel",
       "_view_count": null,
       "_view_module": "@jupyter-widgets/base",
       "_view_module_version": "1.2.0",
       "_view_name": "LayoutView",
       "align_content": null,
       "align_items": null,
       "align_self": null,
       "border": null,
       "bottom": null,
       "display": null,
       "flex": null,
       "flex_flow": null,
       "grid_area": null,
       "grid_auto_columns": null,
       "grid_auto_flow": null,
       "grid_auto_rows": null,
       "grid_column": null,
       "grid_gap": null,
       "grid_row": null,
       "grid_template_areas": null,
       "grid_template_columns": null,
       "grid_template_rows": null,
       "height": null,
       "justify_content": null,
       "justify_items": null,
       "left": null,
       "margin": null,
       "max_height": null,
       "max_width": null,
       "min_height": null,
       "min_width": null,
       "object_fit": null,
       "object_position": null,
       "order": null,
       "overflow": null,
       "overflow_x": null,
       "overflow_y": null,
       "padding": null,
       "right": null,
       "top": null,
       "visibility": null,
       "width": null
      }
     }
    },
    "version_major": 2,
    "version_minor": 0
   }
  }
 },
 "nbformat": 4,
 "nbformat_minor": 5
}
