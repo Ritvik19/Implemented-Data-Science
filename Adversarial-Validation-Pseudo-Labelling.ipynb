{
 "cells": [
  {
   "cell_type": "code",
   "execution_count": 1,
   "id": "56958974",
   "metadata": {
    "_cell_guid": "b1076dfc-b9ad-4769-8c92-a6c4dae69d19",
    "_uuid": "8f2839f25d086af736a60e9eeb907d3b93b6e0e5",
    "execution": {
     "iopub.execute_input": "2022-08-28T05:54:23.450888Z",
     "iopub.status.busy": "2022-08-28T05:54:23.450344Z",
     "iopub.status.idle": "2022-08-28T05:54:25.038515Z",
     "shell.execute_reply": "2022-08-28T05:54:25.037063Z"
    },
    "papermill": {
     "duration": 1.600526,
     "end_time": "2022-08-28T05:54:25.041987",
     "exception": false,
     "start_time": "2022-08-28T05:54:23.441461",
     "status": "completed"
    },
    "tags": []
   },
   "outputs": [],
   "source": [
    "import numpy as np\n",
    "import pandas as pd\n",
    "pd.options.display.max_columns = 30\n",
    "\n",
    "from tqdm.notebook import tqdm\n",
    "\n",
    "from sklearn.pipeline import Pipeline\n",
    "from sklearn.compose import ColumnTransformer\n",
    "from sklearn.model_selection import StratifiedKFold, cross_val_predict\n",
    "from sklearn.impute import SimpleImputer\n",
    "from sklearn.preprocessing import StandardScaler, OneHotEncoder\n",
    "from sklearn.linear_model import LogisticRegression\n",
    "from sklearn.metrics import roc_auc_score"
   ]
  },
  {
   "cell_type": "markdown",
   "id": "2e917219",
   "metadata": {
    "papermill": {
     "duration": 0.00488,
     "end_time": "2022-08-28T05:54:25.052847",
     "exception": false,
     "start_time": "2022-08-28T05:54:25.047967",
     "status": "completed"
    },
    "tags": []
   },
   "source": [
    "# Data"
   ]
  },
  {
   "cell_type": "code",
   "execution_count": 2,
   "id": "00cb28ef",
   "metadata": {
    "execution": {
     "iopub.execute_input": "2022-08-28T05:54:25.065938Z",
     "iopub.status.busy": "2022-08-28T05:54:25.065263Z",
     "iopub.status.idle": "2022-08-28T05:54:25.264660Z",
     "shell.execute_reply": "2022-08-28T05:54:25.263196Z"
    },
    "papermill": {
     "duration": 0.211555,
     "end_time": "2022-08-28T05:54:25.269708",
     "exception": false,
     "start_time": "2022-08-28T05:54:25.058153",
     "status": "completed"
    },
    "tags": []
   },
   "outputs": [
    {
     "name": "stdout",
     "output_type": "stream",
     "text": [
      "(26570, 26)\n"
     ]
    },
    {
     "data": {
      "text/html": [
       "<div>\n",
       "<style scoped>\n",
       "    .dataframe tbody tr th:only-of-type {\n",
       "        vertical-align: middle;\n",
       "    }\n",
       "\n",
       "    .dataframe tbody tr th {\n",
       "        vertical-align: top;\n",
       "    }\n",
       "\n",
       "    .dataframe thead th {\n",
       "        text-align: right;\n",
       "    }\n",
       "</style>\n",
       "<table border=\"1\" class=\"dataframe\">\n",
       "  <thead>\n",
       "    <tr style=\"text-align: right;\">\n",
       "      <th></th>\n",
       "      <th>id</th>\n",
       "      <th>product_code</th>\n",
       "      <th>loading</th>\n",
       "      <th>attribute_0</th>\n",
       "      <th>attribute_1</th>\n",
       "      <th>attribute_2</th>\n",
       "      <th>attribute_3</th>\n",
       "      <th>measurement_0</th>\n",
       "      <th>measurement_1</th>\n",
       "      <th>measurement_2</th>\n",
       "      <th>measurement_3</th>\n",
       "      <th>measurement_4</th>\n",
       "      <th>measurement_5</th>\n",
       "      <th>measurement_6</th>\n",
       "      <th>measurement_7</th>\n",
       "      <th>measurement_8</th>\n",
       "      <th>measurement_9</th>\n",
       "      <th>measurement_10</th>\n",
       "      <th>measurement_11</th>\n",
       "      <th>measurement_12</th>\n",
       "      <th>measurement_13</th>\n",
       "      <th>measurement_14</th>\n",
       "      <th>measurement_15</th>\n",
       "      <th>measurement_16</th>\n",
       "      <th>measurement_17</th>\n",
       "      <th>failure</th>\n",
       "    </tr>\n",
       "  </thead>\n",
       "  <tbody>\n",
       "    <tr>\n",
       "      <th>0</th>\n",
       "      <td>0</td>\n",
       "      <td>A</td>\n",
       "      <td>80.10</td>\n",
       "      <td>material_7</td>\n",
       "      <td>material_8</td>\n",
       "      <td>9</td>\n",
       "      <td>5</td>\n",
       "      <td>7</td>\n",
       "      <td>8</td>\n",
       "      <td>4</td>\n",
       "      <td>18.040</td>\n",
       "      <td>12.518</td>\n",
       "      <td>15.748</td>\n",
       "      <td>19.292</td>\n",
       "      <td>11.739</td>\n",
       "      <td>20.155</td>\n",
       "      <td>10.672</td>\n",
       "      <td>15.859</td>\n",
       "      <td>17.594</td>\n",
       "      <td>15.193</td>\n",
       "      <td>15.029</td>\n",
       "      <td>NaN</td>\n",
       "      <td>13.034</td>\n",
       "      <td>14.684</td>\n",
       "      <td>764.100</td>\n",
       "      <td>0</td>\n",
       "    </tr>\n",
       "    <tr>\n",
       "      <th>1</th>\n",
       "      <td>1</td>\n",
       "      <td>A</td>\n",
       "      <td>84.89</td>\n",
       "      <td>material_7</td>\n",
       "      <td>material_8</td>\n",
       "      <td>9</td>\n",
       "      <td>5</td>\n",
       "      <td>14</td>\n",
       "      <td>3</td>\n",
       "      <td>3</td>\n",
       "      <td>18.213</td>\n",
       "      <td>11.540</td>\n",
       "      <td>17.717</td>\n",
       "      <td>17.893</td>\n",
       "      <td>12.748</td>\n",
       "      <td>17.889</td>\n",
       "      <td>12.448</td>\n",
       "      <td>17.947</td>\n",
       "      <td>17.915</td>\n",
       "      <td>11.755</td>\n",
       "      <td>14.732</td>\n",
       "      <td>15.425</td>\n",
       "      <td>14.395</td>\n",
       "      <td>15.631</td>\n",
       "      <td>682.057</td>\n",
       "      <td>0</td>\n",
       "    </tr>\n",
       "    <tr>\n",
       "      <th>2</th>\n",
       "      <td>2</td>\n",
       "      <td>A</td>\n",
       "      <td>82.43</td>\n",
       "      <td>material_7</td>\n",
       "      <td>material_8</td>\n",
       "      <td>9</td>\n",
       "      <td>5</td>\n",
       "      <td>12</td>\n",
       "      <td>1</td>\n",
       "      <td>5</td>\n",
       "      <td>18.057</td>\n",
       "      <td>11.652</td>\n",
       "      <td>16.738</td>\n",
       "      <td>18.240</td>\n",
       "      <td>12.718</td>\n",
       "      <td>18.288</td>\n",
       "      <td>12.715</td>\n",
       "      <td>15.607</td>\n",
       "      <td>NaN</td>\n",
       "      <td>13.798</td>\n",
       "      <td>16.711</td>\n",
       "      <td>18.631</td>\n",
       "      <td>14.094</td>\n",
       "      <td>17.946</td>\n",
       "      <td>663.376</td>\n",
       "      <td>0</td>\n",
       "    </tr>\n",
       "    <tr>\n",
       "      <th>3</th>\n",
       "      <td>3</td>\n",
       "      <td>A</td>\n",
       "      <td>101.07</td>\n",
       "      <td>material_7</td>\n",
       "      <td>material_8</td>\n",
       "      <td>9</td>\n",
       "      <td>5</td>\n",
       "      <td>13</td>\n",
       "      <td>2</td>\n",
       "      <td>6</td>\n",
       "      <td>17.295</td>\n",
       "      <td>11.188</td>\n",
       "      <td>18.576</td>\n",
       "      <td>18.339</td>\n",
       "      <td>12.583</td>\n",
       "      <td>19.060</td>\n",
       "      <td>12.471</td>\n",
       "      <td>16.346</td>\n",
       "      <td>18.377</td>\n",
       "      <td>10.020</td>\n",
       "      <td>15.250</td>\n",
       "      <td>15.562</td>\n",
       "      <td>16.154</td>\n",
       "      <td>17.172</td>\n",
       "      <td>826.282</td>\n",
       "      <td>0</td>\n",
       "    </tr>\n",
       "    <tr>\n",
       "      <th>4</th>\n",
       "      <td>4</td>\n",
       "      <td>A</td>\n",
       "      <td>188.06</td>\n",
       "      <td>material_7</td>\n",
       "      <td>material_8</td>\n",
       "      <td>9</td>\n",
       "      <td>5</td>\n",
       "      <td>9</td>\n",
       "      <td>2</td>\n",
       "      <td>8</td>\n",
       "      <td>19.346</td>\n",
       "      <td>12.950</td>\n",
       "      <td>16.990</td>\n",
       "      <td>15.746</td>\n",
       "      <td>11.306</td>\n",
       "      <td>18.093</td>\n",
       "      <td>10.337</td>\n",
       "      <td>17.082</td>\n",
       "      <td>19.932</td>\n",
       "      <td>12.428</td>\n",
       "      <td>16.182</td>\n",
       "      <td>12.760</td>\n",
       "      <td>13.153</td>\n",
       "      <td>16.412</td>\n",
       "      <td>579.885</td>\n",
       "      <td>0</td>\n",
       "    </tr>\n",
       "  </tbody>\n",
       "</table>\n",
       "</div>"
      ],
      "text/plain": [
       "   id product_code  loading attribute_0 attribute_1  attribute_2  attribute_3  \\\n",
       "0   0            A    80.10  material_7  material_8            9            5   \n",
       "1   1            A    84.89  material_7  material_8            9            5   \n",
       "2   2            A    82.43  material_7  material_8            9            5   \n",
       "3   3            A   101.07  material_7  material_8            9            5   \n",
       "4   4            A   188.06  material_7  material_8            9            5   \n",
       "\n",
       "   measurement_0  measurement_1  measurement_2  measurement_3  measurement_4  \\\n",
       "0              7              8              4         18.040         12.518   \n",
       "1             14              3              3         18.213         11.540   \n",
       "2             12              1              5         18.057         11.652   \n",
       "3             13              2              6         17.295         11.188   \n",
       "4              9              2              8         19.346         12.950   \n",
       "\n",
       "   measurement_5  measurement_6  measurement_7  measurement_8  measurement_9  \\\n",
       "0         15.748         19.292         11.739         20.155         10.672   \n",
       "1         17.717         17.893         12.748         17.889         12.448   \n",
       "2         16.738         18.240         12.718         18.288         12.715   \n",
       "3         18.576         18.339         12.583         19.060         12.471   \n",
       "4         16.990         15.746         11.306         18.093         10.337   \n",
       "\n",
       "   measurement_10  measurement_11  measurement_12  measurement_13  \\\n",
       "0          15.859          17.594          15.193          15.029   \n",
       "1          17.947          17.915          11.755          14.732   \n",
       "2          15.607             NaN          13.798          16.711   \n",
       "3          16.346          18.377          10.020          15.250   \n",
       "4          17.082          19.932          12.428          16.182   \n",
       "\n",
       "   measurement_14  measurement_15  measurement_16  measurement_17  failure  \n",
       "0             NaN          13.034          14.684         764.100        0  \n",
       "1          15.425          14.395          15.631         682.057        0  \n",
       "2          18.631          14.094          17.946         663.376        0  \n",
       "3          15.562          16.154          17.172         826.282        0  \n",
       "4          12.760          13.153          16.412         579.885        0  "
      ]
     },
     "execution_count": 2,
     "metadata": {},
     "output_type": "execute_result"
    }
   ],
   "source": [
    "df_train = pd.read_csv('../input/tabular-playground-series-aug-2022/train.csv')\n",
    "print(df_train.shape)\n",
    "df_train.head()"
   ]
  },
  {
   "cell_type": "code",
   "execution_count": 3,
   "id": "73366641",
   "metadata": {
    "execution": {
     "iopub.execute_input": "2022-08-28T05:54:25.283912Z",
     "iopub.status.busy": "2022-08-28T05:54:25.282843Z",
     "iopub.status.idle": "2022-08-28T05:54:25.435686Z",
     "shell.execute_reply": "2022-08-28T05:54:25.433820Z"
    },
    "papermill": {
     "duration": 0.163634,
     "end_time": "2022-08-28T05:54:25.439320",
     "exception": false,
     "start_time": "2022-08-28T05:54:25.275686",
     "status": "completed"
    },
    "tags": []
   },
   "outputs": [
    {
     "name": "stdout",
     "output_type": "stream",
     "text": [
      "(20775, 25)\n"
     ]
    },
    {
     "data": {
      "text/html": [
       "<div>\n",
       "<style scoped>\n",
       "    .dataframe tbody tr th:only-of-type {\n",
       "        vertical-align: middle;\n",
       "    }\n",
       "\n",
       "    .dataframe tbody tr th {\n",
       "        vertical-align: top;\n",
       "    }\n",
       "\n",
       "    .dataframe thead th {\n",
       "        text-align: right;\n",
       "    }\n",
       "</style>\n",
       "<table border=\"1\" class=\"dataframe\">\n",
       "  <thead>\n",
       "    <tr style=\"text-align: right;\">\n",
       "      <th></th>\n",
       "      <th>id</th>\n",
       "      <th>product_code</th>\n",
       "      <th>loading</th>\n",
       "      <th>attribute_0</th>\n",
       "      <th>attribute_1</th>\n",
       "      <th>attribute_2</th>\n",
       "      <th>attribute_3</th>\n",
       "      <th>measurement_0</th>\n",
       "      <th>measurement_1</th>\n",
       "      <th>measurement_2</th>\n",
       "      <th>measurement_3</th>\n",
       "      <th>measurement_4</th>\n",
       "      <th>measurement_5</th>\n",
       "      <th>measurement_6</th>\n",
       "      <th>measurement_7</th>\n",
       "      <th>measurement_8</th>\n",
       "      <th>measurement_9</th>\n",
       "      <th>measurement_10</th>\n",
       "      <th>measurement_11</th>\n",
       "      <th>measurement_12</th>\n",
       "      <th>measurement_13</th>\n",
       "      <th>measurement_14</th>\n",
       "      <th>measurement_15</th>\n",
       "      <th>measurement_16</th>\n",
       "      <th>measurement_17</th>\n",
       "    </tr>\n",
       "  </thead>\n",
       "  <tbody>\n",
       "    <tr>\n",
       "      <th>0</th>\n",
       "      <td>26570</td>\n",
       "      <td>F</td>\n",
       "      <td>119.57</td>\n",
       "      <td>material_5</td>\n",
       "      <td>material_6</td>\n",
       "      <td>6</td>\n",
       "      <td>4</td>\n",
       "      <td>6</td>\n",
       "      <td>9</td>\n",
       "      <td>6</td>\n",
       "      <td>19.305</td>\n",
       "      <td>10.178</td>\n",
       "      <td>17.534</td>\n",
       "      <td>18.168</td>\n",
       "      <td>11.598</td>\n",
       "      <td>18.654</td>\n",
       "      <td>10.802</td>\n",
       "      <td>15.909</td>\n",
       "      <td>18.070</td>\n",
       "      <td>13.772</td>\n",
       "      <td>13.659</td>\n",
       "      <td>16.825</td>\n",
       "      <td>13.742</td>\n",
       "      <td>17.710</td>\n",
       "      <td>634.612</td>\n",
       "    </tr>\n",
       "    <tr>\n",
       "      <th>1</th>\n",
       "      <td>26571</td>\n",
       "      <td>F</td>\n",
       "      <td>113.51</td>\n",
       "      <td>material_5</td>\n",
       "      <td>material_6</td>\n",
       "      <td>6</td>\n",
       "      <td>4</td>\n",
       "      <td>11</td>\n",
       "      <td>8</td>\n",
       "      <td>0</td>\n",
       "      <td>17.883</td>\n",
       "      <td>11.927</td>\n",
       "      <td>17.228</td>\n",
       "      <td>16.033</td>\n",
       "      <td>11.179</td>\n",
       "      <td>19.368</td>\n",
       "      <td>12.032</td>\n",
       "      <td>13.998</td>\n",
       "      <td>NaN</td>\n",
       "      <td>12.473</td>\n",
       "      <td>17.468</td>\n",
       "      <td>16.708</td>\n",
       "      <td>14.776</td>\n",
       "      <td>14.102</td>\n",
       "      <td>537.037</td>\n",
       "    </tr>\n",
       "    <tr>\n",
       "      <th>2</th>\n",
       "      <td>26572</td>\n",
       "      <td>F</td>\n",
       "      <td>112.16</td>\n",
       "      <td>material_5</td>\n",
       "      <td>material_6</td>\n",
       "      <td>6</td>\n",
       "      <td>4</td>\n",
       "      <td>8</td>\n",
       "      <td>12</td>\n",
       "      <td>4</td>\n",
       "      <td>18.475</td>\n",
       "      <td>10.481</td>\n",
       "      <td>16.619</td>\n",
       "      <td>18.189</td>\n",
       "      <td>12.126</td>\n",
       "      <td>17.774</td>\n",
       "      <td>11.743</td>\n",
       "      <td>17.046</td>\n",
       "      <td>18.086</td>\n",
       "      <td>10.907</td>\n",
       "      <td>13.363</td>\n",
       "      <td>15.737</td>\n",
       "      <td>17.065</td>\n",
       "      <td>16.021</td>\n",
       "      <td>658.995</td>\n",
       "    </tr>\n",
       "    <tr>\n",
       "      <th>3</th>\n",
       "      <td>26573</td>\n",
       "      <td>F</td>\n",
       "      <td>112.72</td>\n",
       "      <td>material_5</td>\n",
       "      <td>material_6</td>\n",
       "      <td>6</td>\n",
       "      <td>4</td>\n",
       "      <td>8</td>\n",
       "      <td>11</td>\n",
       "      <td>10</td>\n",
       "      <td>16.518</td>\n",
       "      <td>10.888</td>\n",
       "      <td>15.293</td>\n",
       "      <td>18.592</td>\n",
       "      <td>11.304</td>\n",
       "      <td>18.948</td>\n",
       "      <td>11.790</td>\n",
       "      <td>18.165</td>\n",
       "      <td>16.163</td>\n",
       "      <td>10.933</td>\n",
       "      <td>15.501</td>\n",
       "      <td>15.667</td>\n",
       "      <td>12.620</td>\n",
       "      <td>16.111</td>\n",
       "      <td>594.301</td>\n",
       "    </tr>\n",
       "    <tr>\n",
       "      <th>4</th>\n",
       "      <td>26574</td>\n",
       "      <td>F</td>\n",
       "      <td>208.00</td>\n",
       "      <td>material_5</td>\n",
       "      <td>material_6</td>\n",
       "      <td>6</td>\n",
       "      <td>4</td>\n",
       "      <td>14</td>\n",
       "      <td>16</td>\n",
       "      <td>8</td>\n",
       "      <td>17.808</td>\n",
       "      <td>12.693</td>\n",
       "      <td>17.678</td>\n",
       "      <td>15.814</td>\n",
       "      <td>13.431</td>\n",
       "      <td>19.141</td>\n",
       "      <td>12.370</td>\n",
       "      <td>14.578</td>\n",
       "      <td>17.849</td>\n",
       "      <td>11.941</td>\n",
       "      <td>16.070</td>\n",
       "      <td>16.183</td>\n",
       "      <td>13.324</td>\n",
       "      <td>17.150</td>\n",
       "      <td>801.044</td>\n",
       "    </tr>\n",
       "  </tbody>\n",
       "</table>\n",
       "</div>"
      ],
      "text/plain": [
       "      id product_code  loading attribute_0 attribute_1  attribute_2  \\\n",
       "0  26570            F   119.57  material_5  material_6            6   \n",
       "1  26571            F   113.51  material_5  material_6            6   \n",
       "2  26572            F   112.16  material_5  material_6            6   \n",
       "3  26573            F   112.72  material_5  material_6            6   \n",
       "4  26574            F   208.00  material_5  material_6            6   \n",
       "\n",
       "   attribute_3  measurement_0  measurement_1  measurement_2  measurement_3  \\\n",
       "0            4              6              9              6         19.305   \n",
       "1            4             11              8              0         17.883   \n",
       "2            4              8             12              4         18.475   \n",
       "3            4              8             11             10         16.518   \n",
       "4            4             14             16              8         17.808   \n",
       "\n",
       "   measurement_4  measurement_5  measurement_6  measurement_7  measurement_8  \\\n",
       "0         10.178         17.534         18.168         11.598         18.654   \n",
       "1         11.927         17.228         16.033         11.179         19.368   \n",
       "2         10.481         16.619         18.189         12.126         17.774   \n",
       "3         10.888         15.293         18.592         11.304         18.948   \n",
       "4         12.693         17.678         15.814         13.431         19.141   \n",
       "\n",
       "   measurement_9  measurement_10  measurement_11  measurement_12  \\\n",
       "0         10.802          15.909          18.070          13.772   \n",
       "1         12.032          13.998             NaN          12.473   \n",
       "2         11.743          17.046          18.086          10.907   \n",
       "3         11.790          18.165          16.163          10.933   \n",
       "4         12.370          14.578          17.849          11.941   \n",
       "\n",
       "   measurement_13  measurement_14  measurement_15  measurement_16  \\\n",
       "0          13.659          16.825          13.742          17.710   \n",
       "1          17.468          16.708          14.776          14.102   \n",
       "2          13.363          15.737          17.065          16.021   \n",
       "3          15.501          15.667          12.620          16.111   \n",
       "4          16.070          16.183          13.324          17.150   \n",
       "\n",
       "   measurement_17  \n",
       "0         634.612  \n",
       "1         537.037  \n",
       "2         658.995  \n",
       "3         594.301  \n",
       "4         801.044  "
      ]
     },
     "execution_count": 3,
     "metadata": {},
     "output_type": "execute_result"
    }
   ],
   "source": [
    "df_valid = pd.read_csv('../input/tabular-playground-series-aug-2022/test.csv')\n",
    "print(df_valid.shape)\n",
    "df_valid.head()"
   ]
  },
  {
   "cell_type": "markdown",
   "id": "7a8a735c",
   "metadata": {
    "papermill": {
     "duration": 0.0058,
     "end_time": "2022-08-28T05:54:25.451542",
     "exception": false,
     "start_time": "2022-08-28T05:54:25.445742",
     "status": "completed"
    },
    "tags": []
   },
   "source": [
    "## Preprocessing"
   ]
  },
  {
   "cell_type": "code",
   "execution_count": 4,
   "id": "d82995dc",
   "metadata": {
    "execution": {
     "iopub.execute_input": "2022-08-28T05:54:25.466167Z",
     "iopub.status.busy": "2022-08-28T05:54:25.465406Z",
     "iopub.status.idle": "2022-08-28T05:54:25.488961Z",
     "shell.execute_reply": "2022-08-28T05:54:25.487556Z"
    },
    "papermill": {
     "duration": 0.034485,
     "end_time": "2022-08-28T05:54:25.492014",
     "exception": false,
     "start_time": "2022-08-28T05:54:25.457529",
     "status": "completed"
    },
    "tags": []
   },
   "outputs": [],
   "source": [
    "FEATURE_COLUMNS = df_train.columns.tolist()[2:-1]\n",
    "CATEGORICAL_COLUMNS = ['attribute_0', 'attribute_1']\n",
    "NUMERIC_COLUMNS = list(set(FEATURE_COLUMNS) - set(CATEGORICAL_COLUMNS))\n",
    "x_train = df_train[FEATURE_COLUMNS]\n",
    "x_valid = df_valid[FEATURE_COLUMNS]\n",
    "y_train = df_train['failure']"
   ]
  },
  {
   "cell_type": "code",
   "execution_count": 5,
   "id": "8a130b11",
   "metadata": {
    "execution": {
     "iopub.execute_input": "2022-08-28T05:54:25.507508Z",
     "iopub.status.busy": "2022-08-28T05:54:25.506439Z",
     "iopub.status.idle": "2022-08-28T05:54:25.515465Z",
     "shell.execute_reply": "2022-08-28T05:54:25.514150Z"
    },
    "papermill": {
     "duration": 0.019951,
     "end_time": "2022-08-28T05:54:25.518057",
     "exception": false,
     "start_time": "2022-08-28T05:54:25.498106",
     "status": "completed"
    },
    "tags": []
   },
   "outputs": [],
   "source": [
    "numeric_pipeline = lambda: Pipeline([\n",
    "    ('imputer', SimpleImputer(strategy='median')), ('scaler', StandardScaler())\n",
    "])\n",
    "categorical_pipeline = lambda: Pipeline([\n",
    "    ('imputer', SimpleImputer(strategy='most_frequent')), ('encoder', OneHotEncoder(sparse=False, handle_unknown='ignore'))\n",
    "])\n",
    "\n",
    "preprocessor = lambda: ColumnTransformer([\n",
    "    ('numeric', numeric_pipeline(), NUMERIC_COLUMNS), ('categorical', categorical_pipeline(), CATEGORICAL_COLUMNS)\n",
    "])"
   ]
  },
  {
   "cell_type": "markdown",
   "id": "0ac08bb7",
   "metadata": {
    "papermill": {
     "duration": 0.005573,
     "end_time": "2022-08-28T05:54:25.529598",
     "exception": false,
     "start_time": "2022-08-28T05:54:25.524025",
     "status": "completed"
    },
    "tags": []
   },
   "source": [
    "# Adversarial Validation"
   ]
  },
  {
   "cell_type": "code",
   "execution_count": 6,
   "id": "994212ac",
   "metadata": {
    "execution": {
     "iopub.execute_input": "2022-08-28T05:54:25.543480Z",
     "iopub.status.busy": "2022-08-28T05:54:25.542821Z",
     "iopub.status.idle": "2022-08-28T05:54:25.582471Z",
     "shell.execute_reply": "2022-08-28T05:54:25.580995Z"
    },
    "papermill": {
     "duration": 0.049339,
     "end_time": "2022-08-28T05:54:25.584795",
     "exception": false,
     "start_time": "2022-08-28T05:54:25.535456",
     "status": "completed"
    },
    "tags": []
   },
   "outputs": [
    {
     "data": {
      "text/plain": [
       "((47345, 23), (47345,))"
      ]
     },
     "execution_count": 6,
     "metadata": {},
     "output_type": "execute_result"
    }
   ],
   "source": [
    "y_adv_train = pd.Series([0 for _ in range(len(x_train))], name='is_valid_set')\n",
    "y_adv_valid = pd.Series([1 for _ in range(len(x_valid))], name='is_valid_set')\n",
    "\n",
    "x_adv = pd.concat([x_train, x_valid])\n",
    "y_adv = pd.concat([y_adv_train, y_adv_valid])\n",
    "\n",
    "x_adv.shape, y_adv.shape"
   ]
  },
  {
   "cell_type": "code",
   "execution_count": 7,
   "id": "5373b057",
   "metadata": {
    "execution": {
     "iopub.execute_input": "2022-08-28T05:54:25.599607Z",
     "iopub.status.busy": "2022-08-28T05:54:25.598769Z",
     "iopub.status.idle": "2022-08-28T05:54:31.636291Z",
     "shell.execute_reply": "2022-08-28T05:54:31.635044Z"
    },
    "papermill": {
     "duration": 6.049727,
     "end_time": "2022-08-28T05:54:31.640698",
     "exception": false,
     "start_time": "2022-08-28T05:54:25.590971",
     "status": "completed"
    },
    "tags": []
   },
   "outputs": [
    {
     "data": {
      "text/plain": [
       "1.0"
      ]
     },
     "execution_count": 7,
     "metadata": {},
     "output_type": "execute_result"
    }
   ],
   "source": [
    "model_adv = Pipeline([('preprocessor', preprocessor()), ('estimator', LogisticRegression(random_state=0))])\n",
    "preds_adv = cross_val_predict(estimator=model_adv, X=x_adv, y=y_adv, cv=10, method='predict_proba')[:, 1]\n",
    "roc_auc_score(y_adv, preds_adv)"
   ]
  },
  {
   "cell_type": "markdown",
   "id": "a56b67ae",
   "metadata": {
    "papermill": {
     "duration": 0.015664,
     "end_time": "2022-08-28T05:54:31.672148",
     "exception": false,
     "start_time": "2022-08-28T05:54:31.656484",
     "status": "completed"
    },
    "tags": []
   },
   "source": [
    "**There is clear seperation between the distribution on training data and validation data**"
   ]
  },
  {
   "cell_type": "markdown",
   "id": "5bfb372c",
   "metadata": {
    "papermill": {
     "duration": 0.015347,
     "end_time": "2022-08-28T05:54:31.704942",
     "exception": false,
     "start_time": "2022-08-28T05:54:31.689595",
     "status": "completed"
    },
    "tags": []
   },
   "source": [
    "# Cross Validation Predictions"
   ]
  },
  {
   "cell_type": "code",
   "execution_count": 8,
   "id": "3bb63dc0",
   "metadata": {
    "execution": {
     "iopub.execute_input": "2022-08-28T05:54:31.720440Z",
     "iopub.status.busy": "2022-08-28T05:54:31.719947Z",
     "iopub.status.idle": "2022-08-28T05:54:35.811590Z",
     "shell.execute_reply": "2022-08-28T05:54:35.809949Z"
    },
    "papermill": {
     "duration": 4.104515,
     "end_time": "2022-08-28T05:54:35.816345",
     "exception": false,
     "start_time": "2022-08-28T05:54:31.711830",
     "status": "completed"
    },
    "tags": []
   },
   "outputs": [
    {
     "data": {
      "application/vnd.jupyter.widget-view+json": {
       "model_id": "896131f954ab449191f30ecf4ae64dcc",
       "version_major": 2,
       "version_minor": 0
      },
      "text/plain": [
       "  0%|          | 0/10 [00:00<?, ?it/s]"
      ]
     },
     "metadata": {},
     "output_type": "display_data"
    },
    {
     "data": {
      "text/plain": [
       "0.585361690200943"
      ]
     },
     "execution_count": 8,
     "metadata": {},
     "output_type": "execute_result"
    }
   ],
   "source": [
    "skf = StratifiedKFold(n_splits=10)\n",
    "\n",
    "preds_oof = pd.Series([-1 for _ in range(len(x_train))], name='oof_predictions')\n",
    "preds_val = []\n",
    "\n",
    "for train_index, valid_index in tqdm(skf.split(x_train, y_train), total=10):\n",
    "    x_tr, x_vl, x_ts = x_train.iloc[train_index], x_train.iloc[valid_index], x_valid\n",
    "    y_tr, y_vl = y_train.iloc[train_index], y_train.iloc[valid_index]\n",
    "    \n",
    "    model = Pipeline([('preprocessor', preprocessor()), ('estimator', LogisticRegression(random_state=0))])\n",
    "    model.fit(x_tr, y_tr)\n",
    "    \n",
    "    preds_oof.iloc[valid_index] = model.predict_proba(x_vl)[:, 1]\n",
    "    preds_val.append(model.predict_proba(x_ts)[:, 1])\n",
    "\n",
    "preds_val = pd.DataFrame(np.array(preds_val).T, columns=[f'model_{i}' for i in range(10)])\n",
    "roc_auc_score(y_train, preds_oof)"
   ]
  },
  {
   "cell_type": "markdown",
   "id": "737d1ec7",
   "metadata": {
    "papermill": {
     "duration": 0.017529,
     "end_time": "2022-08-28T05:54:35.850500",
     "exception": false,
     "start_time": "2022-08-28T05:54:35.832971",
     "status": "completed"
    },
    "tags": []
   },
   "source": [
    "# Pseudo Labelling"
   ]
  },
  {
   "cell_type": "code",
   "execution_count": 9,
   "id": "662630d7",
   "metadata": {
    "execution": {
     "iopub.execute_input": "2022-08-28T05:54:35.885024Z",
     "iopub.status.busy": "2022-08-28T05:54:35.884647Z",
     "iopub.status.idle": "2022-08-28T05:54:35.920155Z",
     "shell.execute_reply": "2022-08-28T05:54:35.918283Z"
    },
    "papermill": {
     "duration": 0.056914,
     "end_time": "2022-08-28T05:54:35.924005",
     "exception": false,
     "start_time": "2022-08-28T05:54:35.867091",
     "status": "completed"
    },
    "tags": []
   },
   "outputs": [],
   "source": [
    "preds_val_stats = pd.DataFrame()\n",
    "preds_val_stats['mean'] = preds_val.mean(axis=1)\n",
    "preds_val_stats['std'] = preds_val.std(axis=1)\n",
    "preds_val_stats['mean_conf'] = preds_val_stats['mean'].apply(lambda x: 1 - x if x < 0.5 else x)\n",
    "\n",
    "preds_val_pseudo = preds_val_stats['mean'].round().astype(int)\n",
    "preds_val_pseudo.name = 'failure'"
   ]
  },
  {
   "cell_type": "markdown",
   "id": "d6f113f3",
   "metadata": {
    "papermill": {
     "duration": 0.006368,
     "end_time": "2022-08-28T05:54:35.938715",
     "exception": false,
     "start_time": "2022-08-28T05:54:35.932347",
     "status": "completed"
    },
    "tags": []
   },
   "source": [
    "## Based on Mean Confidence"
   ]
  },
  {
   "cell_type": "code",
   "execution_count": 10,
   "id": "0cb8e514",
   "metadata": {
    "execution": {
     "iopub.execute_input": "2022-08-28T05:54:35.954341Z",
     "iopub.status.busy": "2022-08-28T05:54:35.953564Z",
     "iopub.status.idle": "2022-08-28T05:54:35.977817Z",
     "shell.execute_reply": "2022-08-28T05:54:35.976681Z"
    },
    "papermill": {
     "duration": 0.035175,
     "end_time": "2022-08-28T05:54:35.980862",
     "exception": false,
     "start_time": "2022-08-28T05:54:35.945687",
     "status": "completed"
    },
    "tags": []
   },
   "outputs": [
    {
     "data": {
      "text/plain": [
       "((26799, 23), (26799,))"
      ]
     },
     "execution_count": 10,
     "metadata": {},
     "output_type": "execute_result"
    }
   ],
   "source": [
    "thresh = 0.87\n",
    "pseudo_index = preds_val_stats[preds_val_stats['mean_conf'] > thresh].index\n",
    "x_pseudo = pd.concat([x_train, x_valid.iloc[pseudo_index]]).reset_index(drop=True)\n",
    "y_pseudo = pd.concat([y_train, preds_val_pseudo.iloc[pseudo_index]]).reset_index(drop=True)\n",
    "\n",
    "x_pseudo.shape, y_pseudo.shape"
   ]
  },
  {
   "cell_type": "code",
   "execution_count": 11,
   "id": "6f992c41",
   "metadata": {
    "execution": {
     "iopub.execute_input": "2022-08-28T05:54:35.997045Z",
     "iopub.status.busy": "2022-08-28T05:54:35.996572Z",
     "iopub.status.idle": "2022-08-28T05:54:41.895940Z",
     "shell.execute_reply": "2022-08-28T05:54:41.894447Z"
    },
    "papermill": {
     "duration": 5.912158,
     "end_time": "2022-08-28T05:54:41.900195",
     "exception": false,
     "start_time": "2022-08-28T05:54:35.988037",
     "status": "completed"
    },
    "tags": []
   },
   "outputs": [
    {
     "data": {
      "application/vnd.jupyter.widget-view+json": {
       "model_id": "83dd8584ddb24be597ea45e686bf17c8",
       "version_major": 2,
       "version_minor": 0
      },
      "text/plain": [
       "  0%|          | 0/10 [00:00<?, ?it/s]"
      ]
     },
     "metadata": {},
     "output_type": "display_data"
    },
    {
     "data": {
      "text/plain": [
       "0.5839692960154876"
      ]
     },
     "execution_count": 11,
     "metadata": {},
     "output_type": "execute_result"
    }
   ],
   "source": [
    "skf = StratifiedKFold(n_splits=10)\n",
    "\n",
    "preds_oof = pd.Series([-1 for _ in range(len(x_pseudo))], name='oof_predictions')\n",
    "preds_val = []\n",
    "\n",
    "for train_index, valid_index in tqdm(skf.split(x_pseudo, y_pseudo), total=10):\n",
    "    x_tr, x_vl, x_ts = x_pseudo.iloc[train_index], x_pseudo.iloc[valid_index], x_valid\n",
    "    y_tr, y_vl = y_pseudo.iloc[train_index], y_pseudo.iloc[valid_index]\n",
    "    \n",
    "    model = Pipeline([('preprocessor', preprocessor()), ('estimator', LogisticRegression(random_state=0))])\n",
    "    model.fit(x_tr, y_tr)\n",
    "    \n",
    "    preds_oof.iloc[valid_index] = model.predict_proba(x_vl)[:, 1]\n",
    "    preds_val.append(model.predict_proba(x_ts)[:, 1])\n",
    "\n",
    "preds_val = pd.DataFrame(np.array(preds_val).T, columns=[f'model_{i}' for i in range(10)])\n",
    "roc_auc_score(y_pseudo, preds_oof)"
   ]
  },
  {
   "cell_type": "markdown",
   "id": "1e15557e",
   "metadata": {
    "papermill": {
     "duration": 0.017259,
     "end_time": "2022-08-28T05:54:41.934913",
     "exception": false,
     "start_time": "2022-08-28T05:54:41.917654",
     "status": "completed"
    },
    "tags": []
   },
   "source": [
    "## Based on Strandard Deviation"
   ]
  },
  {
   "cell_type": "code",
   "execution_count": 12,
   "id": "1f841e83",
   "metadata": {
    "execution": {
     "iopub.execute_input": "2022-08-28T05:54:41.973395Z",
     "iopub.status.busy": "2022-08-28T05:54:41.972677Z",
     "iopub.status.idle": "2022-08-28T05:54:42.002102Z",
     "shell.execute_reply": "2022-08-28T05:54:42.001144Z"
    },
    "papermill": {
     "duration": 0.053227,
     "end_time": "2022-08-28T05:54:42.005770",
     "exception": false,
     "start_time": "2022-08-28T05:54:41.952543",
     "status": "completed"
    },
    "tags": []
   },
   "outputs": [
    {
     "data": {
      "text/plain": [
       "((26794, 23), (26794,))"
      ]
     },
     "execution_count": 12,
     "metadata": {},
     "output_type": "execute_result"
    }
   ],
   "source": [
    "thresh = 0.0023\n",
    "pseudo_index = preds_val_stats[preds_val_stats['std'] < thresh].index\n",
    "x_pseudo = pd.concat([x_train, x_valid.iloc[pseudo_index]]).reset_index(drop=True)\n",
    "y_pseudo = pd.concat([y_train, preds_val_pseudo.iloc[pseudo_index]]).reset_index(drop=True)\n",
    "\n",
    "x_pseudo.shape, y_pseudo.shape"
   ]
  },
  {
   "cell_type": "code",
   "execution_count": 13,
   "id": "f6769ef3",
   "metadata": {
    "execution": {
     "iopub.execute_input": "2022-08-28T05:54:42.023193Z",
     "iopub.status.busy": "2022-08-28T05:54:42.022495Z",
     "iopub.status.idle": "2022-08-28T05:54:47.768450Z",
     "shell.execute_reply": "2022-08-28T05:54:47.766948Z"
    },
    "papermill": {
     "duration": 5.759315,
     "end_time": "2022-08-28T05:54:47.772827",
     "exception": false,
     "start_time": "2022-08-28T05:54:42.013512",
     "status": "completed"
    },
    "tags": []
   },
   "outputs": [
    {
     "data": {
      "application/vnd.jupyter.widget-view+json": {
       "model_id": "c00e9b2cf56d49bcbcecfa54cefccb87",
       "version_major": 2,
       "version_minor": 0
      },
      "text/plain": [
       "  0%|          | 0/10 [00:00<?, ?it/s]"
      ]
     },
     "metadata": {},
     "output_type": "display_data"
    },
    {
     "name": "stderr",
     "output_type": "stream",
     "text": [
      "/opt/conda/lib/python3.7/site-packages/sklearn/linear_model/_logistic.py:818: ConvergenceWarning: lbfgs failed to converge (status=1):\n",
      "STOP: TOTAL NO. of ITERATIONS REACHED LIMIT.\n",
      "\n",
      "Increase the number of iterations (max_iter) or scale the data as shown in:\n",
      "    https://scikit-learn.org/stable/modules/preprocessing.html\n",
      "Please also refer to the documentation for alternative solver options:\n",
      "    https://scikit-learn.org/stable/modules/linear_model.html#logistic-regression\n",
      "  extra_warning_msg=_LOGISTIC_SOLVER_CONVERGENCE_MSG,\n"
     ]
    },
    {
     "data": {
      "text/plain": [
       "0.5819741803354687"
      ]
     },
     "execution_count": 13,
     "metadata": {},
     "output_type": "execute_result"
    }
   ],
   "source": [
    "skf = StratifiedKFold(n_splits=10)\n",
    "\n",
    "preds_oof = pd.Series([-1 for _ in range(len(x_pseudo))], name='oof_predictions')\n",
    "preds_val = []\n",
    "\n",
    "for train_index, valid_index in tqdm(skf.split(x_pseudo, y_pseudo), total=10):\n",
    "    x_tr, x_vl, x_ts = x_pseudo.iloc[train_index], x_pseudo.iloc[valid_index], x_valid\n",
    "    y_tr, y_vl = y_pseudo.iloc[train_index], y_pseudo.iloc[valid_index]\n",
    "    \n",
    "    model = Pipeline([('preprocessor', preprocessor()), ('estimator', LogisticRegression(random_state=0))])\n",
    "    model.fit(x_tr, y_tr)\n",
    "    \n",
    "    preds_oof.iloc[valid_index] = model.predict_proba(x_vl)[:, 1]\n",
    "    preds_val.append(model.predict_proba(x_ts)[:, 1])\n",
    "\n",
    "preds_val = pd.DataFrame(np.array(preds_val).T, columns=[f'model_{i}' for i in range(10)])\n",
    "roc_auc_score(y_pseudo, preds_oof)"
   ]
  }
 ],
 "metadata": {
  "kernelspec": {
   "display_name": "Python 3",
   "language": "python",
   "name": "python3"
  },
  "language_info": {
   "codemirror_mode": {
    "name": "ipython",
    "version": 3
   },
   "file_extension": ".py",
   "mimetype": "text/x-python",
   "name": "python",
   "nbconvert_exporter": "python",
   "pygments_lexer": "ipython3",
   "version": "3.7.12"
  },
  "papermill": {
   "default_parameters": {},
   "duration": 34.463254,
   "end_time": "2022-08-28T05:54:48.627284",
   "environment_variables": {},
   "exception": null,
   "input_path": "__notebook__.ipynb",
   "output_path": "__notebook__.ipynb",
   "parameters": {},
   "start_time": "2022-08-28T05:54:14.164030",
   "version": "2.3.4"
  },
  "widgets": {
   "application/vnd.jupyter.widget-state+json": {
    "state": {
     "02a6361fd4b74e348e096027b3a96f60": {
      "model_module": "@jupyter-widgets/controls",
      "model_module_version": "1.5.0",
      "model_name": "FloatProgressModel",
      "state": {
       "_dom_classes": [],
       "_model_module": "@jupyter-widgets/controls",
       "_model_module_version": "1.5.0",
       "_model_name": "FloatProgressModel",
       "_view_count": null,
       "_view_module": "@jupyter-widgets/controls",
       "_view_module_version": "1.5.0",
       "_view_name": "ProgressView",
       "bar_style": "success",
       "description": "",
       "description_tooltip": null,
       "layout": "IPY_MODEL_ff048370fb3d4f26aa674efafcd752cb",
       "max": 10.0,
       "min": 0.0,
       "orientation": "horizontal",
       "style": "IPY_MODEL_a959382cdc804de7baf328bbdc59d861",
       "value": 10.0
      }
     },
     "0d645c48f3954b59b7f0338e55bea9c3": {
      "model_module": "@jupyter-widgets/base",
      "model_module_version": "1.2.0",
      "model_name": "LayoutModel",
      "state": {
       "_model_module": "@jupyter-widgets/base",
       "_model_module_version": "1.2.0",
       "_model_name": "LayoutModel",
       "_view_count": null,
       "_view_module": "@jupyter-widgets/base",
       "_view_module_version": "1.2.0",
       "_view_name": "LayoutView",
       "align_content": null,
       "align_items": null,
       "align_self": null,
       "border": null,
       "bottom": null,
       "display": null,
       "flex": null,
       "flex_flow": null,
       "grid_area": null,
       "grid_auto_columns": null,
       "grid_auto_flow": null,
       "grid_auto_rows": null,
       "grid_column": null,
       "grid_gap": null,
       "grid_row": null,
       "grid_template_areas": null,
       "grid_template_columns": null,
       "grid_template_rows": null,
       "height": null,
       "justify_content": null,
       "justify_items": null,
       "left": null,
       "margin": null,
       "max_height": null,
       "max_width": null,
       "min_height": null,
       "min_width": null,
       "object_fit": null,
       "object_position": null,
       "order": null,
       "overflow": null,
       "overflow_x": null,
       "overflow_y": null,
       "padding": null,
       "right": null,
       "top": null,
       "visibility": null,
       "width": null
      }
     },
     "13a14508da754470a9f57633fd684d4f": {
      "model_module": "@jupyter-widgets/base",
      "model_module_version": "1.2.0",
      "model_name": "LayoutModel",
      "state": {
       "_model_module": "@jupyter-widgets/base",
       "_model_module_version": "1.2.0",
       "_model_name": "LayoutModel",
       "_view_count": null,
       "_view_module": "@jupyter-widgets/base",
       "_view_module_version": "1.2.0",
       "_view_name": "LayoutView",
       "align_content": null,
       "align_items": null,
       "align_self": null,
       "border": null,
       "bottom": null,
       "display": null,
       "flex": null,
       "flex_flow": null,
       "grid_area": null,
       "grid_auto_columns": null,
       "grid_auto_flow": null,
       "grid_auto_rows": null,
       "grid_column": null,
       "grid_gap": null,
       "grid_row": null,
       "grid_template_areas": null,
       "grid_template_columns": null,
       "grid_template_rows": null,
       "height": null,
       "justify_content": null,
       "justify_items": null,
       "left": null,
       "margin": null,
       "max_height": null,
       "max_width": null,
       "min_height": null,
       "min_width": null,
       "object_fit": null,
       "object_position": null,
       "order": null,
       "overflow": null,
       "overflow_x": null,
       "overflow_y": null,
       "padding": null,
       "right": null,
       "top": null,
       "visibility": null,
       "width": null
      }
     },
     "16ce4e607c62464c920aea76147a82d1": {
      "model_module": "@jupyter-widgets/controls",
      "model_module_version": "1.5.0",
      "model_name": "FloatProgressModel",
      "state": {
       "_dom_classes": [],
       "_model_module": "@jupyter-widgets/controls",
       "_model_module_version": "1.5.0",
       "_model_name": "FloatProgressModel",
       "_view_count": null,
       "_view_module": "@jupyter-widgets/controls",
       "_view_module_version": "1.5.0",
       "_view_name": "ProgressView",
       "bar_style": "success",
       "description": "",
       "description_tooltip": null,
       "layout": "IPY_MODEL_e6441390d80c40b6a4f745b05b6e78fd",
       "max": 10.0,
       "min": 0.0,
       "orientation": "horizontal",
       "style": "IPY_MODEL_72bfbea0a00c4bf69e51608701861c99",
       "value": 10.0
      }
     },
     "278f37bb7832462cab5bfcb3b8ea0f8b": {
      "model_module": "@jupyter-widgets/controls",
      "model_module_version": "1.5.0",
      "model_name": "FloatProgressModel",
      "state": {
       "_dom_classes": [],
       "_model_module": "@jupyter-widgets/controls",
       "_model_module_version": "1.5.0",
       "_model_name": "FloatProgressModel",
       "_view_count": null,
       "_view_module": "@jupyter-widgets/controls",
       "_view_module_version": "1.5.0",
       "_view_name": "ProgressView",
       "bar_style": "success",
       "description": "",
       "description_tooltip": null,
       "layout": "IPY_MODEL_c8808d1bd9b34649a38ce986d237e6c9",
       "max": 10.0,
       "min": 0.0,
       "orientation": "horizontal",
       "style": "IPY_MODEL_295d1a6e930945849b844d6c09a06b60",
       "value": 10.0
      }
     },
     "28847d23d6f44e3b9834b06006ceb36f": {
      "model_module": "@jupyter-widgets/base",
      "model_module_version": "1.2.0",
      "model_name": "LayoutModel",
      "state": {
       "_model_module": "@jupyter-widgets/base",
       "_model_module_version": "1.2.0",
       "_model_name": "LayoutModel",
       "_view_count": null,
       "_view_module": "@jupyter-widgets/base",
       "_view_module_version": "1.2.0",
       "_view_name": "LayoutView",
       "align_content": null,
       "align_items": null,
       "align_self": null,
       "border": null,
       "bottom": null,
       "display": null,
       "flex": null,
       "flex_flow": null,
       "grid_area": null,
       "grid_auto_columns": null,
       "grid_auto_flow": null,
       "grid_auto_rows": null,
       "grid_column": null,
       "grid_gap": null,
       "grid_row": null,
       "grid_template_areas": null,
       "grid_template_columns": null,
       "grid_template_rows": null,
       "height": null,
       "justify_content": null,
       "justify_items": null,
       "left": null,
       "margin": null,
       "max_height": null,
       "max_width": null,
       "min_height": null,
       "min_width": null,
       "object_fit": null,
       "object_position": null,
       "order": null,
       "overflow": null,
       "overflow_x": null,
       "overflow_y": null,
       "padding": null,
       "right": null,
       "top": null,
       "visibility": null,
       "width": null
      }
     },
     "295d1a6e930945849b844d6c09a06b60": {
      "model_module": "@jupyter-widgets/controls",
      "model_module_version": "1.5.0",
      "model_name": "ProgressStyleModel",
      "state": {
       "_model_module": "@jupyter-widgets/controls",
       "_model_module_version": "1.5.0",
       "_model_name": "ProgressStyleModel",
       "_view_count": null,
       "_view_module": "@jupyter-widgets/base",
       "_view_module_version": "1.2.0",
       "_view_name": "StyleView",
       "bar_color": null,
       "description_width": ""
      }
     },
     "3600c3a75e9348b4848e55ba409744df": {
      "model_module": "@jupyter-widgets/base",
      "model_module_version": "1.2.0",
      "model_name": "LayoutModel",
      "state": {
       "_model_module": "@jupyter-widgets/base",
       "_model_module_version": "1.2.0",
       "_model_name": "LayoutModel",
       "_view_count": null,
       "_view_module": "@jupyter-widgets/base",
       "_view_module_version": "1.2.0",
       "_view_name": "LayoutView",
       "align_content": null,
       "align_items": null,
       "align_self": null,
       "border": null,
       "bottom": null,
       "display": null,
       "flex": null,
       "flex_flow": null,
       "grid_area": null,
       "grid_auto_columns": null,
       "grid_auto_flow": null,
       "grid_auto_rows": null,
       "grid_column": null,
       "grid_gap": null,
       "grid_row": null,
       "grid_template_areas": null,
       "grid_template_columns": null,
       "grid_template_rows": null,
       "height": null,
       "justify_content": null,
       "justify_items": null,
       "left": null,
       "margin": null,
       "max_height": null,
       "max_width": null,
       "min_height": null,
       "min_width": null,
       "object_fit": null,
       "object_position": null,
       "order": null,
       "overflow": null,
       "overflow_x": null,
       "overflow_y": null,
       "padding": null,
       "right": null,
       "top": null,
       "visibility": null,
       "width": null
      }
     },
     "4ab11fb0d2634cc9a012e5298699d5a7": {
      "model_module": "@jupyter-widgets/controls",
      "model_module_version": "1.5.0",
      "model_name": "DescriptionStyleModel",
      "state": {
       "_model_module": "@jupyter-widgets/controls",
       "_model_module_version": "1.5.0",
       "_model_name": "DescriptionStyleModel",
       "_view_count": null,
       "_view_module": "@jupyter-widgets/base",
       "_view_module_version": "1.2.0",
       "_view_name": "StyleView",
       "description_width": ""
      }
     },
     "61358886065d4a62b4dc37e577c3428a": {
      "model_module": "@jupyter-widgets/controls",
      "model_module_version": "1.5.0",
      "model_name": "HTMLModel",
      "state": {
       "_dom_classes": [],
       "_model_module": "@jupyter-widgets/controls",
       "_model_module_version": "1.5.0",
       "_model_name": "HTMLModel",
       "_view_count": null,
       "_view_module": "@jupyter-widgets/controls",
       "_view_module_version": "1.5.0",
       "_view_name": "HTMLView",
       "description": "",
       "description_tooltip": null,
       "layout": "IPY_MODEL_0d645c48f3954b59b7f0338e55bea9c3",
       "placeholder": "​",
       "style": "IPY_MODEL_a22aab6b16694b22bcec158f5e48d4a3",
       "value": "100%"
      }
     },
     "6250e3dc120a495ab38008d3666a0262": {
      "model_module": "@jupyter-widgets/base",
      "model_module_version": "1.2.0",
      "model_name": "LayoutModel",
      "state": {
       "_model_module": "@jupyter-widgets/base",
       "_model_module_version": "1.2.0",
       "_model_name": "LayoutModel",
       "_view_count": null,
       "_view_module": "@jupyter-widgets/base",
       "_view_module_version": "1.2.0",
       "_view_name": "LayoutView",
       "align_content": null,
       "align_items": null,
       "align_self": null,
       "border": null,
       "bottom": null,
       "display": null,
       "flex": null,
       "flex_flow": null,
       "grid_area": null,
       "grid_auto_columns": null,
       "grid_auto_flow": null,
       "grid_auto_rows": null,
       "grid_column": null,
       "grid_gap": null,
       "grid_row": null,
       "grid_template_areas": null,
       "grid_template_columns": null,
       "grid_template_rows": null,
       "height": null,
       "justify_content": null,
       "justify_items": null,
       "left": null,
       "margin": null,
       "max_height": null,
       "max_width": null,
       "min_height": null,
       "min_width": null,
       "object_fit": null,
       "object_position": null,
       "order": null,
       "overflow": null,
       "overflow_x": null,
       "overflow_y": null,
       "padding": null,
       "right": null,
       "top": null,
       "visibility": null,
       "width": null
      }
     },
     "6b8a815cf39749088c1a44365b5c7f15": {
      "model_module": "@jupyter-widgets/controls",
      "model_module_version": "1.5.0",
      "model_name": "DescriptionStyleModel",
      "state": {
       "_model_module": "@jupyter-widgets/controls",
       "_model_module_version": "1.5.0",
       "_model_name": "DescriptionStyleModel",
       "_view_count": null,
       "_view_module": "@jupyter-widgets/base",
       "_view_module_version": "1.2.0",
       "_view_name": "StyleView",
       "description_width": ""
      }
     },
     "6f0c6fd22aa046aba31c1adedf74b06a": {
      "model_module": "@jupyter-widgets/controls",
      "model_module_version": "1.5.0",
      "model_name": "HTMLModel",
      "state": {
       "_dom_classes": [],
       "_model_module": "@jupyter-widgets/controls",
       "_model_module_version": "1.5.0",
       "_model_name": "HTMLModel",
       "_view_count": null,
       "_view_module": "@jupyter-widgets/controls",
       "_view_module_version": "1.5.0",
       "_view_name": "HTMLView",
       "description": "",
       "description_tooltip": null,
       "layout": "IPY_MODEL_28847d23d6f44e3b9834b06006ceb36f",
       "placeholder": "​",
       "style": "IPY_MODEL_bc28fdee89ce460e8e72315191971087",
       "value": " 10/10 [00:04&lt;00:00,  2.53it/s]"
      }
     },
     "72bfbea0a00c4bf69e51608701861c99": {
      "model_module": "@jupyter-widgets/controls",
      "model_module_version": "1.5.0",
      "model_name": "ProgressStyleModel",
      "state": {
       "_model_module": "@jupyter-widgets/controls",
       "_model_module_version": "1.5.0",
       "_model_name": "ProgressStyleModel",
       "_view_count": null,
       "_view_module": "@jupyter-widgets/base",
       "_view_module_version": "1.2.0",
       "_view_name": "StyleView",
       "bar_color": null,
       "description_width": ""
      }
     },
     "836004bd7d1a48a587af67016abf1793": {
      "model_module": "@jupyter-widgets/base",
      "model_module_version": "1.2.0",
      "model_name": "LayoutModel",
      "state": {
       "_model_module": "@jupyter-widgets/base",
       "_model_module_version": "1.2.0",
       "_model_name": "LayoutModel",
       "_view_count": null,
       "_view_module": "@jupyter-widgets/base",
       "_view_module_version": "1.2.0",
       "_view_name": "LayoutView",
       "align_content": null,
       "align_items": null,
       "align_self": null,
       "border": null,
       "bottom": null,
       "display": null,
       "flex": null,
       "flex_flow": null,
       "grid_area": null,
       "grid_auto_columns": null,
       "grid_auto_flow": null,
       "grid_auto_rows": null,
       "grid_column": null,
       "grid_gap": null,
       "grid_row": null,
       "grid_template_areas": null,
       "grid_template_columns": null,
       "grid_template_rows": null,
       "height": null,
       "justify_content": null,
       "justify_items": null,
       "left": null,
       "margin": null,
       "max_height": null,
       "max_width": null,
       "min_height": null,
       "min_width": null,
       "object_fit": null,
       "object_position": null,
       "order": null,
       "overflow": null,
       "overflow_x": null,
       "overflow_y": null,
       "padding": null,
       "right": null,
       "top": null,
       "visibility": null,
       "width": null
      }
     },
     "83dd8584ddb24be597ea45e686bf17c8": {
      "model_module": "@jupyter-widgets/controls",
      "model_module_version": "1.5.0",
      "model_name": "HBoxModel",
      "state": {
       "_dom_classes": [],
       "_model_module": "@jupyter-widgets/controls",
       "_model_module_version": "1.5.0",
       "_model_name": "HBoxModel",
       "_view_count": null,
       "_view_module": "@jupyter-widgets/controls",
       "_view_module_version": "1.5.0",
       "_view_name": "HBoxView",
       "box_style": "",
       "children": [
        "IPY_MODEL_d19132b11a824ea688520c0cee8df3b8",
        "IPY_MODEL_278f37bb7832462cab5bfcb3b8ea0f8b",
        "IPY_MODEL_963822a387864f64a87e33e61c70a0f7"
       ],
       "layout": "IPY_MODEL_aaeb945d46ac403f8386ddc596143104"
      }
     },
     "889d424d5c1a4590b8625d206d08c9f2": {
      "model_module": "@jupyter-widgets/controls",
      "model_module_version": "1.5.0",
      "model_name": "DescriptionStyleModel",
      "state": {
       "_model_module": "@jupyter-widgets/controls",
       "_model_module_version": "1.5.0",
       "_model_name": "DescriptionStyleModel",
       "_view_count": null,
       "_view_module": "@jupyter-widgets/base",
       "_view_module_version": "1.2.0",
       "_view_name": "StyleView",
       "description_width": ""
      }
     },
     "896131f954ab449191f30ecf4ae64dcc": {
      "model_module": "@jupyter-widgets/controls",
      "model_module_version": "1.5.0",
      "model_name": "HBoxModel",
      "state": {
       "_dom_classes": [],
       "_model_module": "@jupyter-widgets/controls",
       "_model_module_version": "1.5.0",
       "_model_name": "HBoxModel",
       "_view_count": null,
       "_view_module": "@jupyter-widgets/controls",
       "_view_module_version": "1.5.0",
       "_view_name": "HBoxView",
       "box_style": "",
       "children": [
        "IPY_MODEL_61358886065d4a62b4dc37e577c3428a",
        "IPY_MODEL_02a6361fd4b74e348e096027b3a96f60",
        "IPY_MODEL_6f0c6fd22aa046aba31c1adedf74b06a"
       ],
       "layout": "IPY_MODEL_836004bd7d1a48a587af67016abf1793"
      }
     },
     "963822a387864f64a87e33e61c70a0f7": {
      "model_module": "@jupyter-widgets/controls",
      "model_module_version": "1.5.0",
      "model_name": "HTMLModel",
      "state": {
       "_dom_classes": [],
       "_model_module": "@jupyter-widgets/controls",
       "_model_module_version": "1.5.0",
       "_model_name": "HTMLModel",
       "_view_count": null,
       "_view_module": "@jupyter-widgets/controls",
       "_view_module_version": "1.5.0",
       "_view_name": "HTMLView",
       "description": "",
       "description_tooltip": null,
       "layout": "IPY_MODEL_3600c3a75e9348b4848e55ba409744df",
       "placeholder": "​",
       "style": "IPY_MODEL_6b8a815cf39749088c1a44365b5c7f15",
       "value": " 10/10 [00:05&lt;00:00,  1.85it/s]"
      }
     },
     "a22aab6b16694b22bcec158f5e48d4a3": {
      "model_module": "@jupyter-widgets/controls",
      "model_module_version": "1.5.0",
      "model_name": "DescriptionStyleModel",
      "state": {
       "_model_module": "@jupyter-widgets/controls",
       "_model_module_version": "1.5.0",
       "_model_name": "DescriptionStyleModel",
       "_view_count": null,
       "_view_module": "@jupyter-widgets/base",
       "_view_module_version": "1.2.0",
       "_view_name": "StyleView",
       "description_width": ""
      }
     },
     "a959382cdc804de7baf328bbdc59d861": {
      "model_module": "@jupyter-widgets/controls",
      "model_module_version": "1.5.0",
      "model_name": "ProgressStyleModel",
      "state": {
       "_model_module": "@jupyter-widgets/controls",
       "_model_module_version": "1.5.0",
       "_model_name": "ProgressStyleModel",
       "_view_count": null,
       "_view_module": "@jupyter-widgets/base",
       "_view_module_version": "1.2.0",
       "_view_name": "StyleView",
       "bar_color": null,
       "description_width": ""
      }
     },
     "aaeb945d46ac403f8386ddc596143104": {
      "model_module": "@jupyter-widgets/base",
      "model_module_version": "1.2.0",
      "model_name": "LayoutModel",
      "state": {
       "_model_module": "@jupyter-widgets/base",
       "_model_module_version": "1.2.0",
       "_model_name": "LayoutModel",
       "_view_count": null,
       "_view_module": "@jupyter-widgets/base",
       "_view_module_version": "1.2.0",
       "_view_name": "LayoutView",
       "align_content": null,
       "align_items": null,
       "align_self": null,
       "border": null,
       "bottom": null,
       "display": null,
       "flex": null,
       "flex_flow": null,
       "grid_area": null,
       "grid_auto_columns": null,
       "grid_auto_flow": null,
       "grid_auto_rows": null,
       "grid_column": null,
       "grid_gap": null,
       "grid_row": null,
       "grid_template_areas": null,
       "grid_template_columns": null,
       "grid_template_rows": null,
       "height": null,
       "justify_content": null,
       "justify_items": null,
       "left": null,
       "margin": null,
       "max_height": null,
       "max_width": null,
       "min_height": null,
       "min_width": null,
       "object_fit": null,
       "object_position": null,
       "order": null,
       "overflow": null,
       "overflow_x": null,
       "overflow_y": null,
       "padding": null,
       "right": null,
       "top": null,
       "visibility": null,
       "width": null
      }
     },
     "ae0c17988e0c49f99b4ed35329fcb346": {
      "model_module": "@jupyter-widgets/base",
      "model_module_version": "1.2.0",
      "model_name": "LayoutModel",
      "state": {
       "_model_module": "@jupyter-widgets/base",
       "_model_module_version": "1.2.0",
       "_model_name": "LayoutModel",
       "_view_count": null,
       "_view_module": "@jupyter-widgets/base",
       "_view_module_version": "1.2.0",
       "_view_name": "LayoutView",
       "align_content": null,
       "align_items": null,
       "align_self": null,
       "border": null,
       "bottom": null,
       "display": null,
       "flex": null,
       "flex_flow": null,
       "grid_area": null,
       "grid_auto_columns": null,
       "grid_auto_flow": null,
       "grid_auto_rows": null,
       "grid_column": null,
       "grid_gap": null,
       "grid_row": null,
       "grid_template_areas": null,
       "grid_template_columns": null,
       "grid_template_rows": null,
       "height": null,
       "justify_content": null,
       "justify_items": null,
       "left": null,
       "margin": null,
       "max_height": null,
       "max_width": null,
       "min_height": null,
       "min_width": null,
       "object_fit": null,
       "object_position": null,
       "order": null,
       "overflow": null,
       "overflow_x": null,
       "overflow_y": null,
       "padding": null,
       "right": null,
       "top": null,
       "visibility": null,
       "width": null
      }
     },
     "bc28fdee89ce460e8e72315191971087": {
      "model_module": "@jupyter-widgets/controls",
      "model_module_version": "1.5.0",
      "model_name": "DescriptionStyleModel",
      "state": {
       "_model_module": "@jupyter-widgets/controls",
       "_model_module_version": "1.5.0",
       "_model_name": "DescriptionStyleModel",
       "_view_count": null,
       "_view_module": "@jupyter-widgets/base",
       "_view_module_version": "1.2.0",
       "_view_name": "StyleView",
       "description_width": ""
      }
     },
     "bf0b5e48aed44fbabc599450a71a826a": {
      "model_module": "@jupyter-widgets/controls",
      "model_module_version": "1.5.0",
      "model_name": "HTMLModel",
      "state": {
       "_dom_classes": [],
       "_model_module": "@jupyter-widgets/controls",
       "_model_module_version": "1.5.0",
       "_model_name": "HTMLModel",
       "_view_count": null,
       "_view_module": "@jupyter-widgets/controls",
       "_view_module_version": "1.5.0",
       "_view_name": "HTMLView",
       "description": "",
       "description_tooltip": null,
       "layout": "IPY_MODEL_edc8a0e2878f4bf889449cf62ef1a93d",
       "placeholder": "​",
       "style": "IPY_MODEL_889d424d5c1a4590b8625d206d08c9f2",
       "value": "100%"
      }
     },
     "c00e9b2cf56d49bcbcecfa54cefccb87": {
      "model_module": "@jupyter-widgets/controls",
      "model_module_version": "1.5.0",
      "model_name": "HBoxModel",
      "state": {
       "_dom_classes": [],
       "_model_module": "@jupyter-widgets/controls",
       "_model_module_version": "1.5.0",
       "_model_name": "HBoxModel",
       "_view_count": null,
       "_view_module": "@jupyter-widgets/controls",
       "_view_module_version": "1.5.0",
       "_view_name": "HBoxView",
       "box_style": "",
       "children": [
        "IPY_MODEL_bf0b5e48aed44fbabc599450a71a826a",
        "IPY_MODEL_16ce4e607c62464c920aea76147a82d1",
        "IPY_MODEL_e3b7541256654cd8b4a7e2ff8a158406"
       ],
       "layout": "IPY_MODEL_13a14508da754470a9f57633fd684d4f"
      }
     },
     "c8808d1bd9b34649a38ce986d237e6c9": {
      "model_module": "@jupyter-widgets/base",
      "model_module_version": "1.2.0",
      "model_name": "LayoutModel",
      "state": {
       "_model_module": "@jupyter-widgets/base",
       "_model_module_version": "1.2.0",
       "_model_name": "LayoutModel",
       "_view_count": null,
       "_view_module": "@jupyter-widgets/base",
       "_view_module_version": "1.2.0",
       "_view_name": "LayoutView",
       "align_content": null,
       "align_items": null,
       "align_self": null,
       "border": null,
       "bottom": null,
       "display": null,
       "flex": null,
       "flex_flow": null,
       "grid_area": null,
       "grid_auto_columns": null,
       "grid_auto_flow": null,
       "grid_auto_rows": null,
       "grid_column": null,
       "grid_gap": null,
       "grid_row": null,
       "grid_template_areas": null,
       "grid_template_columns": null,
       "grid_template_rows": null,
       "height": null,
       "justify_content": null,
       "justify_items": null,
       "left": null,
       "margin": null,
       "max_height": null,
       "max_width": null,
       "min_height": null,
       "min_width": null,
       "object_fit": null,
       "object_position": null,
       "order": null,
       "overflow": null,
       "overflow_x": null,
       "overflow_y": null,
       "padding": null,
       "right": null,
       "top": null,
       "visibility": null,
       "width": null
      }
     },
     "d19132b11a824ea688520c0cee8df3b8": {
      "model_module": "@jupyter-widgets/controls",
      "model_module_version": "1.5.0",
      "model_name": "HTMLModel",
      "state": {
       "_dom_classes": [],
       "_model_module": "@jupyter-widgets/controls",
       "_model_module_version": "1.5.0",
       "_model_name": "HTMLModel",
       "_view_count": null,
       "_view_module": "@jupyter-widgets/controls",
       "_view_module_version": "1.5.0",
       "_view_name": "HTMLView",
       "description": "",
       "description_tooltip": null,
       "layout": "IPY_MODEL_6250e3dc120a495ab38008d3666a0262",
       "placeholder": "​",
       "style": "IPY_MODEL_4ab11fb0d2634cc9a012e5298699d5a7",
       "value": "100%"
      }
     },
     "dff7a5b5499248ab93a2d556ffcca9bc": {
      "model_module": "@jupyter-widgets/controls",
      "model_module_version": "1.5.0",
      "model_name": "DescriptionStyleModel",
      "state": {
       "_model_module": "@jupyter-widgets/controls",
       "_model_module_version": "1.5.0",
       "_model_name": "DescriptionStyleModel",
       "_view_count": null,
       "_view_module": "@jupyter-widgets/base",
       "_view_module_version": "1.2.0",
       "_view_name": "StyleView",
       "description_width": ""
      }
     },
     "e3b7541256654cd8b4a7e2ff8a158406": {
      "model_module": "@jupyter-widgets/controls",
      "model_module_version": "1.5.0",
      "model_name": "HTMLModel",
      "state": {
       "_dom_classes": [],
       "_model_module": "@jupyter-widgets/controls",
       "_model_module_version": "1.5.0",
       "_model_name": "HTMLModel",
       "_view_count": null,
       "_view_module": "@jupyter-widgets/controls",
       "_view_module_version": "1.5.0",
       "_view_name": "HTMLView",
       "description": "",
       "description_tooltip": null,
       "layout": "IPY_MODEL_ae0c17988e0c49f99b4ed35329fcb346",
       "placeholder": "​",
       "style": "IPY_MODEL_dff7a5b5499248ab93a2d556ffcca9bc",
       "value": " 10/10 [00:05&lt;00:00,  1.90it/s]"
      }
     },
     "e6441390d80c40b6a4f745b05b6e78fd": {
      "model_module": "@jupyter-widgets/base",
      "model_module_version": "1.2.0",
      "model_name": "LayoutModel",
      "state": {
       "_model_module": "@jupyter-widgets/base",
       "_model_module_version": "1.2.0",
       "_model_name": "LayoutModel",
       "_view_count": null,
       "_view_module": "@jupyter-widgets/base",
       "_view_module_version": "1.2.0",
       "_view_name": "LayoutView",
       "align_content": null,
       "align_items": null,
       "align_self": null,
       "border": null,
       "bottom": null,
       "display": null,
       "flex": null,
       "flex_flow": null,
       "grid_area": null,
       "grid_auto_columns": null,
       "grid_auto_flow": null,
       "grid_auto_rows": null,
       "grid_column": null,
       "grid_gap": null,
       "grid_row": null,
       "grid_template_areas": null,
       "grid_template_columns": null,
       "grid_template_rows": null,
       "height": null,
       "justify_content": null,
       "justify_items": null,
       "left": null,
       "margin": null,
       "max_height": null,
       "max_width": null,
       "min_height": null,
       "min_width": null,
       "object_fit": null,
       "object_position": null,
       "order": null,
       "overflow": null,
       "overflow_x": null,
       "overflow_y": null,
       "padding": null,
       "right": null,
       "top": null,
       "visibility": null,
       "width": null
      }
     },
     "edc8a0e2878f4bf889449cf62ef1a93d": {
      "model_module": "@jupyter-widgets/base",
      "model_module_version": "1.2.0",
      "model_name": "LayoutModel",
      "state": {
       "_model_module": "@jupyter-widgets/base",
       "_model_module_version": "1.2.0",
       "_model_name": "LayoutModel",
       "_view_count": null,
       "_view_module": "@jupyter-widgets/base",
       "_view_module_version": "1.2.0",
       "_view_name": "LayoutView",
       "align_content": null,
       "align_items": null,
       "align_self": null,
       "border": null,
       "bottom": null,
       "display": null,
       "flex": null,
       "flex_flow": null,
       "grid_area": null,
       "grid_auto_columns": null,
       "grid_auto_flow": null,
       "grid_auto_rows": null,
       "grid_column": null,
       "grid_gap": null,
       "grid_row": null,
       "grid_template_areas": null,
       "grid_template_columns": null,
       "grid_template_rows": null,
       "height": null,
       "justify_content": null,
       "justify_items": null,
       "left": null,
       "margin": null,
       "max_height": null,
       "max_width": null,
       "min_height": null,
       "min_width": null,
       "object_fit": null,
       "object_position": null,
       "order": null,
       "overflow": null,
       "overflow_x": null,
       "overflow_y": null,
       "padding": null,
       "right": null,
       "top": null,
       "visibility": null,
       "width": null
      }
     },
     "ff048370fb3d4f26aa674efafcd752cb": {
      "model_module": "@jupyter-widgets/base",
      "model_module_version": "1.2.0",
      "model_name": "LayoutModel",
      "state": {
       "_model_module": "@jupyter-widgets/base",
       "_model_module_version": "1.2.0",
       "_model_name": "LayoutModel",
       "_view_count": null,
       "_view_module": "@jupyter-widgets/base",
       "_view_module_version": "1.2.0",
       "_view_name": "LayoutView",
       "align_content": null,
       "align_items": null,
       "align_self": null,
       "border": null,
       "bottom": null,
       "display": null,
       "flex": null,
       "flex_flow": null,
       "grid_area": null,
       "grid_auto_columns": null,
       "grid_auto_flow": null,
       "grid_auto_rows": null,
       "grid_column": null,
       "grid_gap": null,
       "grid_row": null,
       "grid_template_areas": null,
       "grid_template_columns": null,
       "grid_template_rows": null,
       "height": null,
       "justify_content": null,
       "justify_items": null,
       "left": null,
       "margin": null,
       "max_height": null,
       "max_width": null,
       "min_height": null,
       "min_width": null,
       "object_fit": null,
       "object_position": null,
       "order": null,
       "overflow": null,
       "overflow_x": null,
       "overflow_y": null,
       "padding": null,
       "right": null,
       "top": null,
       "visibility": null,
       "width": null
      }
     }
    },
    "version_major": 2,
    "version_minor": 0
   }
  }
 },
 "nbformat": 4,
 "nbformat_minor": 5
}
