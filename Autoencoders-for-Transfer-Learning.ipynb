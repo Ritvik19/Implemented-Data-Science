{
 "cells": [
  {
   "cell_type": "markdown",
   "id": "110c6677",
   "metadata": {
    "_cell_guid": "b1076dfc-b9ad-4769-8c92-a6c4dae69d19",
    "_uuid": "8f2839f25d086af736a60e9eeb907d3b93b6e0e5",
    "papermill": {
     "duration": 0.005442,
     "end_time": "2022-08-03T04:22:34.737797",
     "exception": false,
     "start_time": "2022-08-03T04:22:34.732355",
     "status": "completed"
    },
    "tags": []
   },
   "source": [
    "# Autoencoders for Transfer Learning\n",
    "\n",
    "This is an experiment to find out how well the encoder model performs when finetuned on image classification task.\n",
    "\n",
    "The motivation behind this experiment is to create a upstream model that can be trained on large amount of unlabelled data and then use it on a downstream task with fewer labelled data, or to create image encoder for clustering.\n",
    "\n",
    "## Experiment Setup\n",
    "\n",
    "We will be comparing two sets of model: \n",
    "1. A CNN pretrained on an upstream dataset and then finetuned on a downstream dataset \n",
    "2. An Autoencoder pretrained on the upstream dataset and then its encoder finetuned on the downstream dataset\n",
    "\n",
    "Datasets:\n",
    "* Upstream: [Fruit 360](https://www.kaggle.com/datasets/moltean/fruits)\n",
    "* Downstream: [Vegetable Image Dataset](https://www.kaggle.com/datasets/misrakahmed/vegetable-image-dataset)\n",
    "\n",
    "The CNN models used will have VGG like architecture\n"
   ]
  },
  {
   "cell_type": "code",
   "execution_count": 1,
   "id": "77fe0974",
   "metadata": {
    "execution": {
     "iopub.execute_input": "2022-08-03T04:22:34.748269Z",
     "iopub.status.busy": "2022-08-03T04:22:34.747697Z",
     "iopub.status.idle": "2022-08-03T04:22:40.892525Z",
     "shell.execute_reply": "2022-08-03T04:22:40.891550Z"
    },
    "papermill": {
     "duration": 6.153205,
     "end_time": "2022-08-03T04:22:40.895412",
     "exception": false,
     "start_time": "2022-08-03T04:22:34.742207",
     "status": "completed"
    },
    "tags": []
   },
   "outputs": [],
   "source": [
    "import numpy as np\n",
    "import pandas as pd\n",
    "import matplotlib.pyplot as plt\n",
    "plt.style.use('ggplot')\n",
    "\n",
    "import os\n",
    "from glob import glob\n",
    "from sklearn.model_selection import train_test_split\n",
    "\n",
    "import tensorflow as tf\n",
    "from tensorflow import keras\n",
    "from tensorflow.data import Dataset\n",
    "from tensorflow.keras.models import Model, Sequential, load_model\n",
    "from tensorflow.keras import layers as L\n",
    "from tensorflow.keras.optimizers import Adam\n",
    "from tensorflow.keras.callbacks import CSVLogger, ReduceLROnPlateau, EarlyStopping\n",
    "from tensorflow.keras.utils import plot_model"
   ]
  },
  {
   "cell_type": "markdown",
   "id": "1f41e7a0",
   "metadata": {
    "papermill": {
     "duration": 0.004054,
     "end_time": "2022-08-03T04:22:40.904075",
     "exception": false,
     "start_time": "2022-08-03T04:22:40.900021",
     "status": "completed"
    },
    "tags": []
   },
   "source": [
    "## Data Preparation"
   ]
  },
  {
   "cell_type": "code",
   "execution_count": 2,
   "id": "f20c7e9f",
   "metadata": {
    "execution": {
     "iopub.execute_input": "2022-08-03T04:22:40.914782Z",
     "iopub.status.busy": "2022-08-03T04:22:40.914241Z",
     "iopub.status.idle": "2022-08-03T04:23:18.092411Z",
     "shell.execute_reply": "2022-08-03T04:23:18.091400Z"
    },
    "papermill": {
     "duration": 37.186458,
     "end_time": "2022-08-03T04:23:18.094887",
     "exception": false,
     "start_time": "2022-08-03T04:22:40.908429",
     "status": "completed"
    },
    "tags": []
   },
   "outputs": [],
   "source": [
    "IMG_SIZE = (96, 96, 3)\n",
    "BATCH_SIZE = 32\n",
    "EPOCHS = 20\n",
    "\n",
    "images_u_train = glob(\"../input/fruits/fruits-360_dataset/fruits-360/Training/*/*\")\n",
    "images_u_valid = glob(\"../input/fruits/fruits-360_dataset/fruits-360/Test/*/*\")\n",
    "targets_u = os.listdir(\"../input/fruits/fruits-360_dataset/fruits-360/Training/\")\n",
    "\n",
    "images_d_train = glob(\"../input/vegetable-image-dataset/Vegetable Images/train/*/*\")\n",
    "images_d_valid = glob(\"../input/vegetable-image-dataset/Vegetable Images/test/*/*\")\n",
    "targets_d = os.listdir(\"../input/vegetable-image-dataset/Vegetable Images/train/\")"
   ]
  },
  {
   "cell_type": "code",
   "execution_count": 3,
   "id": "474d179b",
   "metadata": {
    "execution": {
     "iopub.execute_input": "2022-08-03T04:23:18.106922Z",
     "iopub.status.busy": "2022-08-03T04:23:18.105239Z",
     "iopub.status.idle": "2022-08-03T04:23:18.115211Z",
     "shell.execute_reply": "2022-08-03T04:23:18.114344Z"
    },
    "papermill": {
     "duration": 0.017577,
     "end_time": "2022-08-03T04:23:18.117187",
     "exception": false,
     "start_time": "2022-08-03T04:23:18.099610",
     "status": "completed"
    },
    "tags": []
   },
   "outputs": [],
   "source": [
    "def load_images_clf_u(imagePath):\n",
    "    image = tf.io.read_file(imagePath)\n",
    "    image = tf.image.decode_jpeg(image, channels=3)\n",
    "    image = tf.image.convert_image_dtype(image, dtype=tf.float32)\n",
    "    image = tf.image.resize(image, IMG_SIZE[:-1])    \n",
    "    label = tf.strings.split(imagePath, os.path.sep)[-2]\n",
    "    \n",
    "    oneHot = label == targets_u\n",
    "    encodedLabel = tf.argmax(oneHot)\n",
    "\n",
    "    return (image, encodedLabel)\n",
    "\n",
    "def load_images_clf_d(imagePath):\n",
    "    image = tf.io.read_file(imagePath)\n",
    "    image = tf.image.decode_jpeg(image, channels=3)\n",
    "    image = tf.image.convert_image_dtype(image, dtype=tf.float32)\n",
    "    image = tf.image.resize(image, IMG_SIZE[:-1])    \n",
    "    label = tf.strings.split(imagePath, os.path.sep)[-2]\n",
    "    \n",
    "    oneHot = label == targets_d\n",
    "    encodedLabel = tf.argmax(oneHot)\n",
    "\n",
    "    return (image, encodedLabel)\n",
    "\n",
    "def load_images_enc(imagePath):\n",
    "    image = tf.io.read_file(imagePath)\n",
    "    image = tf.image.decode_jpeg(image, channels=3)\n",
    "    image = tf.image.convert_image_dtype(image, dtype=tf.float32)\n",
    "    image = tf.image.resize(image, IMG_SIZE[:-1])\n",
    "\n",
    "    return (image, image)"
   ]
  },
  {
   "cell_type": "code",
   "execution_count": 4,
   "id": "a9f27741",
   "metadata": {
    "execution": {
     "iopub.execute_input": "2022-08-03T04:23:18.126863Z",
     "iopub.status.busy": "2022-08-03T04:23:18.126579Z",
     "iopub.status.idle": "2022-08-03T04:23:18.132515Z",
     "shell.execute_reply": "2022-08-03T04:23:18.131686Z"
    },
    "papermill": {
     "duration": 0.013245,
     "end_time": "2022-08-03T04:23:18.134623",
     "exception": false,
     "start_time": "2022-08-03T04:23:18.121378",
     "status": "completed"
    },
    "tags": []
   },
   "outputs": [],
   "source": [
    "def get_callbacks(log_path):\n",
    "    return [\n",
    "        CSVLogger(log_path), \n",
    "        ReduceLROnPlateau(patience=3, verbose=1, min_delta=1e-3),\n",
    "        EarlyStopping(min_delta=1e-3, patience=7, verbose=1, restore_best_weights=True)\n",
    "    ]"
   ]
  },
  {
   "cell_type": "markdown",
   "id": "fa92debb",
   "metadata": {
    "papermill": {
     "duration": 0.004001,
     "end_time": "2022-08-03T04:23:18.142771",
     "exception": false,
     "start_time": "2022-08-03T04:23:18.138770",
     "status": "completed"
    },
    "tags": []
   },
   "source": [
    "# Pretraining Autoencoder"
   ]
  },
  {
   "cell_type": "code",
   "execution_count": 5,
   "id": "f217edbb",
   "metadata": {
    "execution": {
     "iopub.execute_input": "2022-08-03T04:23:18.152325Z",
     "iopub.status.busy": "2022-08-03T04:23:18.152049Z",
     "iopub.status.idle": "2022-08-03T04:23:21.277238Z",
     "shell.execute_reply": "2022-08-03T04:23:21.273962Z"
    },
    "papermill": {
     "duration": 3.133243,
     "end_time": "2022-08-03T04:23:21.280241",
     "exception": false,
     "start_time": "2022-08-03T04:23:18.146998",
     "status": "completed"
    },
    "tags": []
   },
   "outputs": [
    {
     "name": "stderr",
     "output_type": "stream",
     "text": [
      "2022-08-03 04:23:18.264487: I tensorflow/stream_executor/cuda/cuda_gpu_executor.cc:937] successful NUMA node read from SysFS had negative value (-1), but there must be at least one NUMA node, so returning NUMA node zero\n",
      "2022-08-03 04:23:18.423816: I tensorflow/stream_executor/cuda/cuda_gpu_executor.cc:937] successful NUMA node read from SysFS had negative value (-1), but there must be at least one NUMA node, so returning NUMA node zero\n",
      "2022-08-03 04:23:18.424578: I tensorflow/stream_executor/cuda/cuda_gpu_executor.cc:937] successful NUMA node read from SysFS had negative value (-1), but there must be at least one NUMA node, so returning NUMA node zero\n",
      "2022-08-03 04:23:18.426753: I tensorflow/core/platform/cpu_feature_guard.cc:142] This TensorFlow binary is optimized with oneAPI Deep Neural Network Library (oneDNN) to use the following CPU instructions in performance-critical operations:  AVX2 AVX512F FMA\n",
      "To enable them in other operations, rebuild TensorFlow with the appropriate compiler flags.\n",
      "2022-08-03 04:23:18.431755: I tensorflow/stream_executor/cuda/cuda_gpu_executor.cc:937] successful NUMA node read from SysFS had negative value (-1), but there must be at least one NUMA node, so returning NUMA node zero\n",
      "2022-08-03 04:23:18.432478: I tensorflow/stream_executor/cuda/cuda_gpu_executor.cc:937] successful NUMA node read from SysFS had negative value (-1), but there must be at least one NUMA node, so returning NUMA node zero\n",
      "2022-08-03 04:23:18.433189: I tensorflow/stream_executor/cuda/cuda_gpu_executor.cc:937] successful NUMA node read from SysFS had negative value (-1), but there must be at least one NUMA node, so returning NUMA "
     ]
    },
    {
     "name": "stdout",
     "output_type": "stream",
     "text": [
      "Model: \"autoencoder\"\n",
      "_________________________________________________________________\n",
      "Layer (type)                 Output Shape              Param #   \n",
      "=================================================================\n",
      "encoder_inputs (InputLayer)  [(None, 96, 96, 3)]       0         \n",
      "_________________________________________________________________\n",
      "encoder_conv_1_1 (Conv2D)    (None, 96, 96, 32)        896       \n",
      "_________________________________________________________________\n",
      "encoder_drop_1 (Dropout)     (None, 96, 96, 32)        0         \n",
      "_________________________________________________________________\n",
      "encoder_conv_1_2 (Conv2D)    (None, 96, 96, 32)        9248      \n",
      "_________________________________________________________________\n",
      "encoder_pool_1 (MaxPooling2D (None, 48, 48, 32)        0         \n",
      "_________________________________________________________________\n",
      "encoder_conv_2_1 (Conv2D)    (None, 48, 48, 64)        18496     \n",
      "_________________________________________________________________\n",
      "encoder_drop_2 (Dropout)     (None, 48, 48, 64)        0         \n",
      "_________________________________________________________________\n",
      "encoder_conv_2_2 (Conv2D)    (None, 48, 48, 64)        36928     \n",
      "_________________________________________________________________\n",
      "encoder_pool_2 (MaxPooling2D (None, 24, 24, 64)        0         \n",
      "_________________________________________________________________\n",
      "decoder_conv_1_1 (Conv2D)    (None, 24, 24, 64)        36928     \n",
      "_________________________________________________________________\n",
      "decoder_drop_1 (Dropout)     (None, 24, 24, 64)        0         \n",
      "_________________________________________________________________\n",
      "decoder_conv_1_2 (Conv2D)    (None, 24, 24, 64)        36928     \n",
      "_________________________________________________________________\n",
      "decoder_upsample_1 (UpSampli (None, 48, 48, 64)        0         \n",
      "_________________________________________________________________\n",
      "decoder_conv_2_1 (Conv2D)    (None, 48, 48, 32)        18464     \n",
      "_________________________________________________________________\n",
      "decoder_drop_2 (Dropout)     (None, 48, 48, 32)        0         \n",
      "_________________________________________________________________\n",
      "decoder_conv_2_2 (Conv2D)    (None, 48, 48, 32)        9248      \n",
      "_________________________________________________________________\n",
      "decoder_upsample_2 (UpSampli (None, 96, 96, 32)        0         \n",
      "_________________________________________________________________\n",
      "decoder_output (Conv2D)      (None, 96, 96, 3)         99        \n",
      "=================================================================\n",
      "Total params: 167,235\n",
      "Trainable params: 167,235\n",
      "Non-trainable params: 0\n",
      "_________________________________________________________________\n"
     ]
    },
    {
     "name": "stderr",
     "output_type": "stream",
     "text": [
      "node zero\n",
      "2022-08-03 04:23:20.779246: I tensorflow/stream_executor/cuda/cuda_gpu_executor.cc:937] successful NUMA node read from SysFS had negative value (-1), but there must be at least one NUMA node, so returning NUMA node zero\n",
      "2022-08-03 04:23:20.780162: I tensorflow/stream_executor/cuda/cuda_gpu_executor.cc:937] successful NUMA node read from SysFS had negative value (-1), but there must be at least one NUMA node, so returning NUMA node zero\n",
      "2022-08-03 04:23:20.780919: I tensorflow/stream_executor/cuda/cuda_gpu_executor.cc:937] successful NUMA node read from SysFS had negative value (-1), but there must be at least one NUMA node, so returning NUMA node zero\n",
      "2022-08-03 04:23:20.781572: I tensorflow/core/common_runtime/gpu/gpu_device.cc:1510] Created device /job:localhost/replica:0/task:0/device:GPU:0 with 15403 MB memory:  -> device: 0, name: Tesla P100-PCIE-16GB, pci bus id: 0000:00:04.0, compute capability: 6.0\n"
     ]
    }
   ],
   "source": [
    "inputs = keras.Input(shape=IMG_SIZE, name='encoder_inputs')\n",
    "x = L.Conv2D(32, 3, padding='same', activation='relu', name='encoder_conv_1_1')(inputs)\n",
    "x = L.Dropout(0.2, name=\"encoder_drop_1\")(x)\n",
    "x = L.Conv2D(32, 3, padding='same', activation='relu', name='encoder_conv_1_2')(x)\n",
    "x = L.MaxPool2D(padding='same', name='encoder_pool_1')(x)\n",
    "x = L.Conv2D(64, 3, padding='same', activation='relu', name='encoder_conv_2_1')(x)\n",
    "x = L.Dropout(0.2, name=\"encoder_drop_2\")(x)\n",
    "x = L.Conv2D(64, 3, padding='same', activation='relu', name='encoder_conv_2_2')(x)\n",
    "encoded = L.MaxPool2D(padding='same', name='encoder_pool_2')(x)\n",
    "x = L.Conv2D(64, 3, padding='same', activation='relu', name='decoder_conv_1_1')(encoded)\n",
    "x = L.Dropout(0.2, name=\"decoder_drop_1\")(x)\n",
    "x = L.Conv2D(64, 3, padding='same', activation='relu', name='decoder_conv_1_2')(x)\n",
    "x = L.UpSampling2D(name='decoder_upsample_1')(x)\n",
    "x = L.Conv2D(32, 3, padding='same', activation='relu', name='decoder_conv_2_1')(x)\n",
    "x = L.Dropout(0.2, name=\"decoder_drop_2\")(x)\n",
    "x = L.Conv2D(32, 3, padding='same', activation='relu', name='decoder_conv_2_2')(x)\n",
    "x = L.UpSampling2D(name='decoder_upsample_2')(x)\n",
    "outputs = L.Conv2D(3, 1, padding='same', activation='sigmoid', name='decoder_output')(x)\n",
    "\n",
    "autoencoder = Model(inputs=inputs, outputs=outputs, name='autoencoder')\n",
    "autoencoder.compile(optimizer=Adam(1e-3), loss='binary_crossentropy')\n",
    "autoencoder.summary()"
   ]
  },
  {
   "cell_type": "code",
   "execution_count": 6,
   "id": "79718870",
   "metadata": {
    "execution": {
     "iopub.execute_input": "2022-08-03T04:23:21.291466Z",
     "iopub.status.busy": "2022-08-03T04:23:21.291182Z",
     "iopub.status.idle": "2022-08-03T04:23:21.653914Z",
     "shell.execute_reply": "2022-08-03T04:23:21.652913Z"
    },
    "papermill": {
     "duration": 0.37074,
     "end_time": "2022-08-03T04:23:21.656360",
     "exception": false,
     "start_time": "2022-08-03T04:23:21.285620",
     "status": "completed"
    },
    "tags": []
   },
   "outputs": [],
   "source": [
    "enc_train = (\n",
    "    Dataset.from_tensor_slices(images_u_train)\n",
    "    .shuffle(1024)\n",
    "    .map(load_images_enc, num_parallel_calls=-1)\n",
    "    .cache()\n",
    "    .batch(BATCH_SIZE)\n",
    ")\n",
    "enc_valid = (\n",
    "    Dataset.from_tensor_slices(images_u_valid)\n",
    "    .shuffle(1024)\n",
    "    .map(load_images_enc, num_parallel_calls=-1)\n",
    "    .cache()\n",
    "    .batch(BATCH_SIZE)\n",
    ")"
   ]
  },
  {
   "cell_type": "code",
   "execution_count": 7,
   "id": "c707f8c6",
   "metadata": {
    "execution": {
     "iopub.execute_input": "2022-08-03T04:23:21.667329Z",
     "iopub.status.busy": "2022-08-03T04:23:21.667029Z",
     "iopub.status.idle": "2022-08-03T04:38:57.123545Z",
     "shell.execute_reply": "2022-08-03T04:38:57.122639Z"
    },
    "papermill": {
     "duration": 935.464509,
     "end_time": "2022-08-03T04:38:57.125769",
     "exception": false,
     "start_time": "2022-08-03T04:23:21.661260",
     "status": "completed"
    },
    "tags": []
   },
   "outputs": [
    {
     "name": "stderr",
     "output_type": "stream",
     "text": [
      "2022-08-03 04:23:21.703131: I tensorflow/compiler/mlir/mlir_graph_optimization_pass.cc:185] None of the MLIR Optimization Passes are enabled (registered 2)\n"
     ]
    },
    {
     "name": "stdout",
     "output_type": "stream",
     "text": [
      "Epoch 1/20\n"
     ]
    },
    {
     "name": "stderr",
     "output_type": "stream",
     "text": [
      "2022-08-03 04:23:23.386836: I tensorflow/stream_executor/cuda/cuda_dnn.cc:369] Loaded cuDNN version 8005\n"
     ]
    },
    {
     "name": "stdout",
     "output_type": "stream",
     "text": [
      "2116/2116 [==============================] - 303s 140ms/step - loss: 0.3536 - val_loss: 0.3592\n",
      "Epoch 2/20\n",
      "2116/2116 [==============================] - 50s 24ms/step - loss: 0.3492 - val_loss: 0.3465\n",
      "Epoch 3/20\n",
      "2116/2116 [==============================] - 50s 23ms/step - loss: 0.3479 - val_loss: 0.3465\n",
      "Epoch 4/20\n",
      "2116/2116 [==============================] - 50s 24ms/step - loss: 0.3487 - val_loss: 0.3458\n",
      "Epoch 5/20\n",
      "2116/2116 [==============================] - 50s 24ms/step - loss: 0.3475 - val_loss: 0.3449\n",
      "Epoch 6/20\n",
      "2116/2116 [==============================] - 50s 24ms/step - loss: 0.3471 - val_loss: 0.3447\n",
      "Epoch 7/20\n",
      "2116/2116 [==============================] - 50s 23ms/step - loss: 0.3480 - val_loss: 0.3504\n",
      "Epoch 8/20\n",
      "2116/2116 [==============================] - 50s 23ms/step - loss: 0.3470 - val_loss: 0.3469\n",
      "\n",
      "Epoch 00008: ReduceLROnPlateau reducing learning rate to 0.00010000000474974513.\n",
      "Epoch 9/20\n",
      "2116/2116 [==============================] - 50s 24ms/step - loss: 0.3466 - val_loss: 0.3495\n",
      "Epoch 10/20\n",
      "2116/2116 [==============================] - 50s 23ms/step - loss: 0.3465 - val_loss: 0.3547\n",
      "Epoch 11/20\n",
      "2116/2116 [==============================] - 50s 23ms/step - loss: 0.3464 - val_loss: 0.3616\n",
      "\n",
      "Epoch 00011: ReduceLROnPlateau reducing learning rate to 1.0000000474974514e-05.\n",
      "Epoch 12/20\n",
      "2116/2116 [==============================] - 50s 24ms/step - loss: 0.3464 - val_loss: 0.3615\n",
      "Restoring model weights from the end of the best epoch.\n",
      "Epoch 00012: early stopping\n"
     ]
    },
    {
     "data": {
      "image/png": "[encoded data removed]",
      "text/plain": [
       "<Figure size 1440x360 with 1 Axes>"
      ]
     },
     "metadata": {},
     "output_type": "display_data"
    }
   ],
   "source": [
    "history_ae_u = autoencoder.fit(\n",
    "    enc_train, validation_data=enc_valid,epochs=EPOCHS, batch_size=BATCH_SIZE, shuffle=True, \n",
    "    callbacks=get_callbacks('autoencoder_pretraining.csv')\n",
    ")\n",
    "encoder_base = keras.Model(inputs, encoded, name='encoder_base')\n",
    "encoder_base.save('encoder_base.h5')\n",
    "\n",
    "hist_df = pd.DataFrame(history_ae_u.history)\n",
    "fig, ax = plt.subplots(figsize=(20, 5))\n",
    "hist_df.iloc[:, :-1].plot(ax=ax);"
   ]
  },
  {
   "cell_type": "code",
   "execution_count": 8,
   "id": "632f1f21",
   "metadata": {
    "execution": {
     "iopub.execute_input": "2022-08-03T04:38:58.202293Z",
     "iopub.status.busy": "2022-08-03T04:38:58.201902Z",
     "iopub.status.idle": "2022-08-03T04:38:58.841816Z",
     "shell.execute_reply": "2022-08-03T04:38:58.840666Z"
    },
    "papermill": {
     "duration": 1.157704,
     "end_time": "2022-08-03T04:38:58.844300",
     "exception": false,
     "start_time": "2022-08-03T04:38:57.686596",
     "status": "completed"
    },
    "tags": []
   },
   "outputs": [],
   "source": [
    "del enc_train, enc_valid, autoencoder, encoder_base"
   ]
  },
  {
   "cell_type": "markdown",
   "id": "781bc607",
   "metadata": {
    "papermill": {
     "duration": 0.570283,
     "end_time": "2022-08-03T04:38:59.925678",
     "exception": false,
     "start_time": "2022-08-03T04:38:59.355395",
     "status": "completed"
    },
    "tags": []
   },
   "source": [
    "# Pretraining CNN"
   ]
  },
  {
   "cell_type": "code",
   "execution_count": 9,
   "id": "66653d81",
   "metadata": {
    "execution": {
     "iopub.execute_input": "2022-08-03T04:39:01.007990Z",
     "iopub.status.busy": "2022-08-03T04:39:01.007081Z",
     "iopub.status.idle": "2022-08-03T04:39:01.068420Z",
     "shell.execute_reply": "2022-08-03T04:39:01.066880Z"
    },
    "papermill": {
     "duration": 0.627242,
     "end_time": "2022-08-03T04:39:01.070964",
     "exception": false,
     "start_time": "2022-08-03T04:39:00.443722",
     "status": "completed"
    },
    "tags": []
   },
   "outputs": [
    {
     "name": "stdout",
     "output_type": "stream",
     "text": [
      "Model: \"cnn\"\n",
      "_________________________________________________________________\n",
      "Layer (type)                 Output Shape              Param #   \n",
      "=================================================================\n",
      "cnn_inputs (InputLayer)      [(None, 96, 96, 3)]       0         \n",
      "_________________________________________________________________\n",
      "cnn_conv_1_1 (Conv2D)        (None, 96, 96, 32)        896       \n",
      "_________________________________________________________________\n",
      "cnn_drop_1 (Dropout)         (None, 96, 96, 32)        0         \n",
      "_________________________________________________________________\n",
      "cnn_conv_1_2 (Conv2D)        (None, 96, 96, 32)        9248      \n",
      "_________________________________________________________________\n",
      "cnn_pool_1 (MaxPooling2D)    (None, 48, 48, 32)        0         \n",
      "_________________________________________________________________\n",
      "cnn_conv_2_1 (Conv2D)        (None, 48, 48, 64)        18496     \n",
      "_________________________________________________________________\n",
      "cnn_drop_2 (Dropout)         (None, 48, 48, 64)        0         \n",
      "_________________________________________________________________\n",
      "cnn_conv_2_2 (Conv2D)        (None, 48, 48, 64)        36928     \n",
      "_________________________________________________________________\n",
      "cnn_pool_2 (MaxPooling2D)    (None, 24, 24, 64)        0         \n",
      "_________________________________________________________________\n",
      "cnn_flatten (Flatten)        (None, 36864)             0         \n",
      "_________________________________________________________________\n",
      "cnn_classification_head (Den (None, 131)               4829315   \n",
      "=================================================================\n",
      "Total params: 4,894,883\n",
      "Trainable params: 4,894,883\n",
      "Non-trainable params: 0\n",
      "_________________________________________________________________\n"
     ]
    }
   ],
   "source": [
    "inputs = keras.Input(shape=IMG_SIZE, name='cnn_inputs')\n",
    "x = L.Conv2D(32, 3, padding='same', activation='relu', name='cnn_conv_1_1')(inputs)\n",
    "x = L.Dropout(0.2, name=\"cnn_drop_1\")(x)\n",
    "x = L.Conv2D(32, 3, padding='same', activation='relu', name='cnn_conv_1_2')(x)\n",
    "x = L.MaxPool2D(padding='same', name='cnn_pool_1')(x)\n",
    "x = L.Conv2D(64, 3, padding='same', activation='relu', name='cnn_conv_2_1')(x)\n",
    "x = L.Dropout(0.2, name=\"cnn_drop_2\")(x)\n",
    "x = L.Conv2D(64, 3, padding='same', activation='relu', name='cnn_conv_2_2')(x)\n",
    "encoded = L.MaxPool2D(padding='same', name='cnn_pool_2')(x)\n",
    "x = L.Flatten(name='cnn_flatten')(encoded)\n",
    "outputs = L.Dense(len(targets_u), activation='softmax', name='cnn_classification_head')(x)\n",
    "\n",
    "cnn = Model(inputs=inputs, outputs=outputs, name='cnn')\n",
    "cnn.compile(optimizer=Adam(1e-3), loss='sparse_categorical_crossentropy', metrics=['accuracy'])\n",
    "cnn.summary()"
   ]
  },
  {
   "cell_type": "code",
   "execution_count": 10,
   "id": "12e69d37",
   "metadata": {
    "execution": {
     "iopub.execute_input": "2022-08-03T04:39:02.103734Z",
     "iopub.status.busy": "2022-08-03T04:39:02.102693Z",
     "iopub.status.idle": "2022-08-03T04:39:02.510402Z",
     "shell.execute_reply": "2022-08-03T04:39:02.509480Z"
    },
    "papermill": {
     "duration": 0.928039,
     "end_time": "2022-08-03T04:39:02.512875",
     "exception": false,
     "start_time": "2022-08-03T04:39:01.584836",
     "status": "completed"
    },
    "tags": []
   },
   "outputs": [],
   "source": [
    "clf_train = (\n",
    "    Dataset.from_tensor_slices(images_u_train)\n",
    "    .shuffle(1024)\n",
    "    .map(load_images_clf_u, num_parallel_calls=-1)\n",
    "    .cache()\n",
    "    .batch(BATCH_SIZE)\n",
    ")\n",
    "clf_valid = (\n",
    "    Dataset.from_tensor_slices(images_u_valid)\n",
    "    .shuffle(1024)\n",
    "    .map(load_images_clf_u, num_parallel_calls=-1)\n",
    "    .cache()\n",
    "    .batch(BATCH_SIZE)\n",
    ")"
   ]
  },
  {
   "cell_type": "code",
   "execution_count": 11,
   "id": "b25452da",
   "metadata": {
    "execution": {
     "iopub.execute_input": "2022-08-03T04:39:03.589752Z",
     "iopub.status.busy": "2022-08-03T04:39:03.589371Z",
     "iopub.status.idle": "2022-08-03T04:53:16.687531Z",
     "shell.execute_reply": "2022-08-03T04:53:16.686621Z"
    },
    "papermill": {
     "duration": 853.615526,
     "end_time": "2022-08-03T04:53:16.689722",
     "exception": false,
     "start_time": "2022-08-03T04:39:03.074196",
     "status": "completed"
    },
    "tags": []
   },
   "outputs": [
    {
     "name": "stdout",
     "output_type": "stream",
     "text": [
      "Epoch 1/20\n",
      "2116/2116 [==============================] - 182s 86ms/step - loss: 1.0736 - accuracy: 0.7994 - val_loss: 11.6134 - val_accuracy: 0.0977\n",
      "Epoch 2/20\n",
      "2116/2116 [==============================] - 31s 15ms/step - loss: 0.2751 - accuracy: 0.9397 - val_loss: 15.5896 - val_accuracy: 0.1327\n",
      "Epoch 3/20\n",
      "2116/2116 [==============================] - 31s 15ms/step - loss: 0.0936 - accuracy: 0.9782 - val_loss: 17.2517 - val_accuracy: 0.1338\n",
      "Epoch 4/20\n",
      "2116/2116 [==============================] - 31s 15ms/step - loss: 0.0621 - accuracy: 0.9858 - val_loss: 16.5699 - val_accuracy: 0.1160\n",
      "\n",
      "Epoch 00004: ReduceLROnPlateau reducing learning rate to 0.00010000000474974513.\n",
      "Epoch 5/20\n",
      "2116/2116 [==============================] - 31s 15ms/step - loss: 0.1529 - accuracy: 0.9688 - val_loss: 10.1296 - val_accuracy: 0.2309\n",
      "Epoch 6/20\n",
      "2116/2116 [==============================] - 31s 15ms/step - loss: 0.0724 - accuracy: 0.9837 - val_loss: 9.7392 - val_accuracy: 0.2683\n",
      "Epoch 7/20\n",
      "2116/2116 [==============================] - 31s 15ms/step - loss: 0.0378 - accuracy: 0.9903 - val_loss: 10.7184 - val_accuracy: 0.2627\n",
      "Epoch 8/20\n",
      "2116/2116 [==============================] - 31s 15ms/step - loss: 0.0298 - accuracy: 0.9930 - val_loss: 13.8298 - val_accuracy: 0.2431\n",
      "Epoch 9/20\n",
      "2116/2116 [==============================] - 31s 15ms/step - loss: 0.0321 - accuracy: 0.9939 - val_loss: 13.1078 - val_accuracy: 0.2550\n",
      "\n",
      "Epoch 00009: ReduceLROnPlateau reducing learning rate to 1.0000000474974514e-05.\n",
      "Epoch 10/20\n",
      "2116/2116 [==============================] - 31s 15ms/step - loss: 0.2867 - accuracy: 0.9320 - val_loss: 5.8320 - val_accuracy: 0.4225\n",
      "Epoch 11/20\n",
      "2116/2116 [==============================] - 31s 15ms/step - loss: 0.2564 - accuracy: 0.9331 - val_loss: 5.0967 - val_accuracy: 0.4459\n",
      "Epoch 12/20\n",
      "2116/2116 [==============================] - 31s 15ms/step - loss: 0.1842 - accuracy: 0.9476 - val_loss: 4.8113 - val_accuracy: 0.4626\n",
      "Epoch 13/20\n",
      "2116/2116 [==============================] - 31s 15ms/step - loss: 0.1245 - accuracy: 0.9626 - val_loss: 4.7191 - val_accuracy: 0.4699\n",
      "Epoch 14/20\n",
      "2116/2116 [==============================] - 31s 15ms/step - loss: 0.0893 - accuracy: 0.9724 - val_loss: 4.7563 - val_accuracy: 0.4742\n",
      "Epoch 15/20\n",
      "2116/2116 [==============================] - 31s 15ms/step - loss: 0.0658 - accuracy: 0.9801 - val_loss: 4.7385 - val_accuracy: 0.4721\n",
      "Epoch 16/20\n",
      "2116/2116 [==============================] - 31s 15ms/step - loss: 0.0498 - accuracy: 0.9852 - val_loss: 4.8008 - val_accuracy: 0.4713\n",
      "\n",
      "Epoch 00016: ReduceLROnPlateau reducing learning rate to 1.0000000656873453e-06.\n",
      "Epoch 17/20\n",
      "2116/2116 [==============================] - 31s 15ms/step - loss: 0.6672 - accuracy: 0.8454 - val_loss: 4.2654 - val_accuracy: 0.5035\n",
      "Epoch 18/20\n",
      "2116/2116 [==============================] - 31s 15ms/step - loss: 0.4292 - accuracy: 0.8838 - val_loss: 4.2838 - val_accuracy: 0.5007\n",
      "Epoch 19/20\n",
      "2116/2116 [==============================] - 31s 15ms/step - loss: 0.3527 - accuracy: 0.8991 - val_loss: 4.2753 - val_accuracy: 0.5025\n",
      "Epoch 20/20\n",
      "2116/2116 [==============================] - 31s 15ms/step - loss: 0.3010 - accuracy: 0.9095 - val_loss: 4.2542 - val_accuracy: 0.5029\n"
     ]
    },
    {
     "data": {
      "image/png": "[encoded data removed]",
      "text/plain": [
       "<Figure size 1440x360 with 1 Axes>"
      ]
     },
     "metadata": {},
     "output_type": "display_data"
    }
   ],
   "source": [
    "history_cnn_u = cnn.fit(\n",
    "    clf_train, epochs=EPOCHS, batch_size=BATCH_SIZE, shuffle=True, validation_data=(clf_valid), \n",
    "    callbacks=get_callbacks('cnn_pretraining.csv')\n",
    ")\n",
    "cnn_base = keras.Model(inputs, encoded, name='cnn_base')\n",
    "cnn_base.save('cnn_base.h5')\n",
    "\n",
    "hist_df = pd.DataFrame(history_cnn_u.history)\n",
    "fig, ax = plt.subplots(figsize=(20, 5))\n",
    "hist_df.iloc[:, :-1].plot(ax=ax);"
   ]
  },
  {
   "cell_type": "code",
   "execution_count": 12,
   "id": "6d337cc8",
   "metadata": {
    "execution": {
     "iopub.execute_input": "2022-08-03T04:53:19.099294Z",
     "iopub.status.busy": "2022-08-03T04:53:19.098911Z",
     "iopub.status.idle": "2022-08-03T04:53:19.312979Z",
     "shell.execute_reply": "2022-08-03T04:53:19.311851Z"
    },
    "papermill": {
     "duration": 1.42003,
     "end_time": "2022-08-03T04:53:19.315691",
     "exception": false,
     "start_time": "2022-08-03T04:53:17.895661",
     "status": "completed"
    },
    "tags": []
   },
   "outputs": [],
   "source": [
    "del clf_train, clf_valid, cnn, cnn_base"
   ]
  },
  {
   "cell_type": "markdown",
   "id": "437b6cb4",
   "metadata": {
    "papermill": {
     "duration": 1.234131,
     "end_time": "2022-08-03T04:53:21.775973",
     "exception": false,
     "start_time": "2022-08-03T04:53:20.541842",
     "status": "completed"
    },
    "tags": []
   },
   "source": [
    "## Finetuning"
   ]
  },
  {
   "cell_type": "code",
   "execution_count": 13,
   "id": "5e26b04e",
   "metadata": {
    "execution": {
     "iopub.execute_input": "2022-08-03T04:53:24.346575Z",
     "iopub.status.busy": "2022-08-03T04:53:24.345626Z",
     "iopub.status.idle": "2022-08-03T04:53:24.673719Z",
     "shell.execute_reply": "2022-08-03T04:53:24.672591Z"
    },
    "papermill": {
     "duration": 1.682538,
     "end_time": "2022-08-03T04:53:24.676354",
     "exception": false,
     "start_time": "2022-08-03T04:53:22.993816",
     "status": "completed"
    },
    "tags": []
   },
   "outputs": [],
   "source": [
    "d_clf_train = (\n",
    "    Dataset.from_tensor_slices(images_d_train)\n",
    "    .shuffle(1024)\n",
    "    .map(load_images_clf_d, num_parallel_calls=-1)\n",
    "    .cache()\n",
    "    .batch(BATCH_SIZE)\n",
    ")\n",
    "d_clf_valid = (\n",
    "    Dataset.from_tensor_slices(images_d_valid)\n",
    "    .shuffle(1024)\n",
    "    .map(load_images_clf_d, num_parallel_calls=-1)\n",
    "    .cache()\n",
    "    .batch(BATCH_SIZE)\n",
    ")"
   ]
  },
  {
   "cell_type": "markdown",
   "id": "6fe8e024",
   "metadata": {
    "papermill": {
     "duration": 1.223634,
     "end_time": "2022-08-03T04:53:27.159855",
     "exception": false,
     "start_time": "2022-08-03T04:53:25.936221",
     "status": "completed"
    },
    "tags": []
   },
   "source": [
    "# Finetuning Encoder"
   ]
  },
  {
   "cell_type": "code",
   "execution_count": 14,
   "id": "cfd84e35",
   "metadata": {
    "execution": {
     "iopub.execute_input": "2022-08-03T04:53:29.578270Z",
     "iopub.status.busy": "2022-08-03T04:53:29.577597Z",
     "iopub.status.idle": "2022-08-03T04:57:30.342876Z",
     "shell.execute_reply": "2022-08-03T04:57:30.341857Z"
    },
    "papermill": {
     "duration": 241.978395,
     "end_time": "2022-08-03T04:57:30.345195",
     "exception": false,
     "start_time": "2022-08-03T04:53:28.366800",
     "status": "completed"
    },
    "tags": []
   },
   "outputs": [
    {
     "name": "stdout",
     "output_type": "stream",
     "text": [
      "Epoch 1/20\n",
      "469/469 [==============================] - 83s 175ms/step - loss: 1.6372 - accuracy: 0.4965 - val_loss: 4.6255 - val_accuracy: 0.1133\n",
      "Epoch 2/20\n",
      "469/469 [==============================] - 6s 14ms/step - loss: 1.2126 - accuracy: 0.6359 - val_loss: 4.5028 - val_accuracy: 0.1543\n",
      "Epoch 3/20\n",
      "469/469 [==============================] - 7s 14ms/step - loss: 0.6923 - accuracy: 0.7805 - val_loss: 3.9376 - val_accuracy: 0.2000\n",
      "Epoch 4/20\n",
      "469/469 [==============================] - 7s 15ms/step - loss: 0.4415 - accuracy: 0.8587 - val_loss: 3.9462 - val_accuracy: 0.2710\n",
      "Epoch 5/20\n",
      "469/469 [==============================] - 6s 14ms/step - loss: 0.3323 - accuracy: 0.8959 - val_loss: 3.5031 - val_accuracy: 0.2997\n",
      "Epoch 6/20\n",
      "469/469 [==============================] - 7s 14ms/step - loss: 0.2479 - accuracy: 0.9227 - val_loss: 3.4479 - val_accuracy: 0.3283\n",
      "Epoch 7/20\n",
      "469/469 [==============================] - 7s 14ms/step - loss: 0.1953 - accuracy: 0.9418 - val_loss: 3.0781 - val_accuracy: 0.3880\n",
      "Epoch 8/20\n",
      "469/469 [==============================] - 6s 14ms/step - loss: 0.1342 - accuracy: 0.9604 - val_loss: 2.8342 - val_accuracy: 0.4297\n",
      "Epoch 9/20\n",
      "469/469 [==============================] - 6s 14ms/step - loss: 0.0879 - accuracy: 0.9763 - val_loss: 2.6224 - val_accuracy: 0.4757\n",
      "Epoch 10/20\n",
      "469/469 [==============================] - 7s 14ms/step - loss: 0.0542 - accuracy: 0.9858 - val_loss: 2.7117 - val_accuracy: 0.5110\n",
      "Epoch 11/20\n",
      "469/469 [==============================] - 6s 14ms/step - loss: 0.0360 - accuracy: 0.9919 - val_loss: 3.0184 - val_accuracy: 0.5117\n",
      "Epoch 12/20\n",
      "469/469 [==============================] - 7s 14ms/step - loss: 0.0255 - accuracy: 0.9949 - val_loss: 3.2311 - val_accuracy: 0.5023\n",
      "\n",
      "Epoch 00012: ReduceLROnPlateau reducing learning rate to 9.999999747378752e-06.\n",
      "Epoch 13/20\n",
      "469/469 [==============================] - 6s 14ms/step - loss: 0.2394 - accuracy: 0.9284 - val_loss: 1.6950 - val_accuracy: 0.6287\n",
      "Epoch 14/20\n",
      "469/469 [==============================] - 6s 14ms/step - loss: 0.2406 - accuracy: 0.9223 - val_loss: 1.3511 - val_accuracy: 0.6583\n",
      "Epoch 15/20\n",
      "469/469 [==============================] - 7s 14ms/step - loss: 0.2264 - accuracy: 0.9259 - val_loss: 1.1604 - val_accuracy: 0.6860\n",
      "Epoch 16/20\n",
      "469/469 [==============================] - 7s 14ms/step - loss: 0.2071 - accuracy: 0.9311 - val_loss: 1.0415 - val_accuracy: 0.7083\n",
      "Epoch 17/20\n",
      "469/469 [==============================] - 6s 14ms/step - loss: 0.1864 - accuracy: 0.9393 - val_loss: 0.9517 - val_accuracy: 0.7240\n",
      "Epoch 18/20\n",
      "469/469 [==============================] - 6s 14ms/step - loss: 0.1675 - accuracy: 0.9463 - val_loss: 0.8886 - val_accuracy: 0.7353\n",
      "Epoch 19/20\n",
      "469/469 [==============================] - 7s 14ms/step - loss: 0.1494 - accuracy: 0.9525 - val_loss: 0.8395 - val_accuracy: 0.7467\n",
      "Epoch 20/20\n",
      "469/469 [==============================] - 6s 14ms/step - loss: 0.1327 - accuracy: 0.9581 - val_loss: 0.8040 - val_accuracy: 0.7593\n",
      "94/94 [==============================] - 0s 5ms/step - loss: 0.8040 - accuracy: 0.7593\n",
      "\n",
      "\n",
      "Accuracy of Autoencoder Finetuned Classifier: 0.7593333125114441\n"
     ]
    },
    {
     "data": {
      "image/png": "[encoded data removed]",
      "text/plain": [
       "<Figure size 1440x360 with 1 Axes>"
      ]
     },
     "metadata": {},
     "output_type": "display_data"
    }
   ],
   "source": [
    "encoder = Sequential([\n",
    "    load_model('encoder_base.h5'),\n",
    "    L.Flatten(name='encoder_flatten'),\n",
    "    L.Dense(len(targets_d), activation='softmax', name='encoder_classification_head')\n",
    "])\n",
    "encoder.compile(optimizer=Adam(1e-4), loss='sparse_categorical_crossentropy', metrics=['accuracy'])\n",
    "history_ae_d = encoder.fit(\n",
    "    d_clf_train, validation_data=d_clf_valid, epochs=EPOCHS, batch_size=BATCH_SIZE, shuffle=True,\n",
    "    callbacks=get_callbacks('autoencoder_finetuning.csv')\n",
    ")\n",
    "encoder.save('encoder_finetuned.h5')\n",
    "\n",
    "loss, accuracy = encoder.evaluate(d_clf_valid)\n",
    "print(f\"\\n\\nAccuracy of Autoencoder Finetuned Classifier: {accuracy}\")\n",
    "\n",
    "hist_df = pd.DataFrame(history_ae_d.history)\n",
    "fig, ax = plt.subplots(figsize=(20, 5))\n",
    "hist_df.iloc[:, :-1].plot(ax=ax);"
   ]
  },
  {
   "cell_type": "markdown",
   "id": "ad5b9005",
   "metadata": {
    "papermill": {
     "duration": 1.317555,
     "end_time": "2022-08-03T04:57:33.070005",
     "exception": false,
     "start_time": "2022-08-03T04:57:31.752450",
     "status": "completed"
    },
    "tags": []
   },
   "source": [
    "# Finetuning CNN"
   ]
  },
  {
   "cell_type": "code",
   "execution_count": 15,
   "id": "583a41f4",
   "metadata": {
    "execution": {
     "iopub.execute_input": "2022-08-03T04:57:35.939975Z",
     "iopub.status.busy": "2022-08-03T04:57:35.939592Z",
     "iopub.status.idle": "2022-08-03T05:00:16.870608Z",
     "shell.execute_reply": "2022-08-03T05:00:16.869683Z"
    },
    "papermill": {
     "duration": 163.912868,
     "end_time": "2022-08-03T05:00:18.383274",
     "exception": false,
     "start_time": "2022-08-03T04:57:34.470406",
     "status": "completed"
    },
    "tags": []
   },
   "outputs": [
    {
     "name": "stdout",
     "output_type": "stream",
     "text": [
      "Epoch 1/20\n",
      "469/469 [==============================] - 7s 14ms/step - loss: 1.7738 - accuracy: 0.4617 - val_loss: 4.3075 - val_accuracy: 0.0793\n",
      "Epoch 2/20\n",
      "469/469 [==============================] - 6s 14ms/step - loss: 1.4885 - accuracy: 0.5350 - val_loss: 4.6685 - val_accuracy: 0.1170\n",
      "Epoch 3/20\n",
      "469/469 [==============================] - 6s 14ms/step - loss: 0.9631 - accuracy: 0.6887 - val_loss: 3.6114 - val_accuracy: 0.1523\n",
      "Epoch 4/20\n",
      "469/469 [==============================] - 6s 14ms/step - loss: 0.7538 - accuracy: 0.7626 - val_loss: 3.1397 - val_accuracy: 0.2263\n",
      "Epoch 5/20\n",
      "469/469 [==============================] - 6s 14ms/step - loss: 0.6036 - accuracy: 0.8111 - val_loss: 2.5212 - val_accuracy: 0.2690\n",
      "Epoch 6/20\n",
      "469/469 [==============================] - 6s 14ms/step - loss: 0.4217 - accuracy: 0.8671 - val_loss: 2.5711 - val_accuracy: 0.3100\n",
      "Epoch 7/20\n",
      "469/469 [==============================] - 6s 14ms/step - loss: 0.3097 - accuracy: 0.9047 - val_loss: 2.6833 - val_accuracy: 0.3287\n",
      "Epoch 8/20\n",
      "469/469 [==============================] - 6s 14ms/step - loss: 0.2295 - accuracy: 0.9317 - val_loss: 2.7397 - val_accuracy: 0.3543\n",
      "\n",
      "Epoch 00008: ReduceLROnPlateau reducing learning rate to 9.999999747378752e-06.\n",
      "Epoch 9/20\n",
      "469/469 [==============================] - 7s 14ms/step - loss: 0.7125 - accuracy: 0.7763 - val_loss: 1.5265 - val_accuracy: 0.5513\n",
      "Epoch 10/20\n",
      "469/469 [==============================] - 6s 14ms/step - loss: 0.5968 - accuracy: 0.8098 - val_loss: 1.4489 - val_accuracy: 0.5637\n",
      "Epoch 11/20\n",
      "469/469 [==============================] - 6s 14ms/step - loss: 0.5528 - accuracy: 0.8238 - val_loss: 1.4177 - val_accuracy: 0.5723\n",
      "Epoch 12/20\n",
      "469/469 [==============================] - 6s 14ms/step - loss: 0.5141 - accuracy: 0.8367 - val_loss: 1.3933 - val_accuracy: 0.5833\n",
      "Epoch 13/20\n",
      "469/469 [==============================] - 6s 14ms/step - loss: 0.4803 - accuracy: 0.8487 - val_loss: 1.3705 - val_accuracy: 0.5897\n",
      "Epoch 14/20\n",
      "469/469 [==============================] - 6s 14ms/step - loss: 0.4481 - accuracy: 0.8582 - val_loss: 1.3626 - val_accuracy: 0.5940\n",
      "Epoch 15/20\n",
      "469/469 [==============================] - 6s 14ms/step - loss: 0.4179 - accuracy: 0.8677 - val_loss: 1.3526 - val_accuracy: 0.5993\n",
      "Epoch 16/20\n",
      "469/469 [==============================] - 6s 14ms/step - loss: 0.3938 - accuracy: 0.8773 - val_loss: 1.3388 - val_accuracy: 0.6067\n",
      "Epoch 17/20\n",
      "469/469 [==============================] - 6s 14ms/step - loss: 0.3711 - accuracy: 0.8845 - val_loss: 1.3297 - val_accuracy: 0.6080\n",
      "Epoch 18/20\n",
      "469/469 [==============================] - 6s 14ms/step - loss: 0.3498 - accuracy: 0.8918 - val_loss: 1.3222 - val_accuracy: 0.6107\n",
      "Epoch 19/20\n",
      "469/469 [==============================] - 7s 14ms/step - loss: 0.3313 - accuracy: 0.8983 - val_loss: 1.3140 - val_accuracy: 0.6133\n",
      "Epoch 20/20\n",
      "469/469 [==============================] - 6s 14ms/step - loss: 0.3136 - accuracy: 0.9037 - val_loss: 1.3027 - val_accuracy: 0.6213\n",
      "94/94 [==============================] - 0s 5ms/step - loss: 0.8040 - accuracy: 0.7593\n",
      "\n",
      "\n",
      "Accuracy of CNN Finetuned Classifier: 0.7593333125114441\n"
     ]
    },
    {
     "data": {
      "image/png": "[encoded data removed]",
      "text/plain": [
       "<Figure size 1440x360 with 1 Axes>"
      ]
     },
     "metadata": {},
     "output_type": "display_data"
    }
   ],
   "source": [
    "cnn = Sequential([\n",
    "    load_model('cnn_base.h5'),\n",
    "    L.Flatten(name='cnn_flatten'),\n",
    "    L.Dense(len(targets_d), activation='softmax', name='cnn_classification_head')\n",
    "])\n",
    "cnn.compile(optimizer=Adam(1e-4), loss='sparse_categorical_crossentropy', metrics=['accuracy'])\n",
    "history_cnn_d = cnn.fit(\n",
    "    d_clf_train, validation_data=d_clf_valid, epochs=EPOCHS, batch_size=BATCH_SIZE, shuffle=True,\n",
    "    callbacks=get_callbacks('cnn_finetuning.csv')\n",
    ")\n",
    "encoder.save('cnn_finetuned.h5')\n",
    "loss, accuracy = encoder.evaluate(d_clf_valid)\n",
    "print(f\"\\n\\nAccuracy of CNN Finetuned Classifier: {accuracy}\")\n",
    "\n",
    "hist_df = pd.DataFrame(history_cnn_d.history)\n",
    "fig, ax = plt.subplots(figsize=(20, 5))\n",
    "hist_df.iloc[:, :-1].plot(ax=ax);"
   ]
  },
  {
   "cell_type": "markdown",
   "id": "fe3b8cad",
   "metadata": {
    "papermill": {
     "duration": 1.583201,
     "end_time": "2022-08-03T05:00:21.394130",
     "exception": false,
     "start_time": "2022-08-03T05:00:19.810929",
     "status": "completed"
    },
    "tags": []
   },
   "source": [
    "## "
   ]
  }
 ],
 "metadata": {
  "kernelspec": {
   "display_name": "Python 3",
   "language": "python",
   "name": "python3"
  },
  "language_info": {
   "codemirror_mode": {
    "name": "ipython",
    "version": 3
   },
   "file_extension": ".py",
   "mimetype": "text/x-python",
   "name": "python",
   "nbconvert_exporter": "python",
   "pygments_lexer": "ipython3",
   "version": "3.7.12"
  },
  "papermill": {
   "default_parameters": {},
   "duration": 2279.539438,
   "end_time": "2022-08-03T05:00:26.303849",
   "environment_variables": {},
   "exception": null,
   "input_path": "__notebook__.ipynb",
   "output_path": "__notebook__.ipynb",
   "parameters": {},
   "start_time": "2022-08-03T04:22:26.764411",
   "version": "2.3.4"
  }
 },
 "nbformat": 4,
 "nbformat_minor": 5
}
