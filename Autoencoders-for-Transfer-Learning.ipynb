{
 "cells": [
  {
   "cell_type": "markdown",
   "id": "f72b71b5",
   "metadata": {
    "_cell_guid": "b1076dfc-b9ad-4769-8c92-a6c4dae69d19",
    "_uuid": "8f2839f25d086af736a60e9eeb907d3b93b6e0e5",
    "papermill": {
     "duration": 0.005544,
     "end_time": "2022-08-03T01:09:30.414691",
     "exception": false,
     "start_time": "2022-08-03T01:09:30.409147",
     "status": "completed"
    },
    "tags": []
   },
   "source": [
    "# Autoencoders for Transfer Learning\n",
    "\n",
    "This is an experiment to find out how well the encoder model performs when finetuned on image classification task.\n",
    "\n",
    "The motivation behind this experiment is to create a upstream model that can be trained on large amount of unlabelled data and then use it on a downstream task with fewer labelled data, or to create image encoder for clustering.\n",
    "\n",
    "## Experiment Setup\n",
    "\n",
    "We will be comparing two sets of model: \n",
    "1. A CNN pretrained on an upstream dataset and then finetuned on a downstream dataset \n",
    "2. An Autoencoder pretrained on the upstream dataset and then its encoder finetuned on the downstream dataset\n",
    "\n",
    "Datasets:\n",
    "* Upstream: [Fruit 360](https://www.kaggle.com/datasets/moltean/fruits)\n",
    "* Downstream: [Fruit Classification](https://www.kaggle.com/datasets/sshikamaru/fruit-recognition)\n",
    "\n",
    "The CNN models used will have VGG like architecture\n"
   ]
  },
  {
   "cell_type": "code",
   "execution_count": 1,
   "id": "ab1387fd",
   "metadata": {
    "execution": {
     "iopub.execute_input": "2022-08-03T01:09:30.426244Z",
     "iopub.status.busy": "2022-08-03T01:09:30.425404Z",
     "iopub.status.idle": "2022-08-03T01:09:36.556543Z",
     "shell.execute_reply": "2022-08-03T01:09:36.555550Z"
    },
    "papermill": {
     "duration": 6.14023,
     "end_time": "2022-08-03T01:09:36.559356",
     "exception": false,
     "start_time": "2022-08-03T01:09:30.419126",
     "status": "completed"
    },
    "tags": []
   },
   "outputs": [],
   "source": [
    "import numpy as np\n",
    "import pandas as pd\n",
    "import matplotlib.pyplot as plt\n",
    "plt.style.use('ggplot')\n",
    "\n",
    "import os\n",
    "from glob import glob\n",
    "from sklearn.model_selection import train_test_split\n",
    "\n",
    "import tensorflow as tf\n",
    "from tensorflow import keras\n",
    "from tensorflow.data import Dataset\n",
    "from tensorflow.keras.models import Model, Sequential, load_model\n",
    "from tensorflow.keras import layers as L\n",
    "from tensorflow.keras.optimizers import Adam\n",
    "from tensorflow.keras.callbacks import CSVLogger, ReduceLROnPlateau, EarlyStopping\n",
    "from tensorflow.keras.utils import plot_model"
   ]
  },
  {
   "cell_type": "markdown",
   "id": "41102e7a",
   "metadata": {
    "papermill": {
     "duration": 0.004277,
     "end_time": "2022-08-03T01:09:36.568236",
     "exception": false,
     "start_time": "2022-08-03T01:09:36.563959",
     "status": "completed"
    },
    "tags": []
   },
   "source": [
    "## Data Preparation"
   ]
  },
  {
   "cell_type": "code",
   "execution_count": 2,
   "id": "d43cf343",
   "metadata": {
    "execution": {
     "iopub.execute_input": "2022-08-03T01:09:36.578014Z",
     "iopub.status.busy": "2022-08-03T01:09:36.577500Z",
     "iopub.status.idle": "2022-08-03T01:10:04.470008Z",
     "shell.execute_reply": "2022-08-03T01:10:04.468990Z"
    },
    "papermill": {
     "duration": 27.899934,
     "end_time": "2022-08-03T01:10:04.472362",
     "exception": false,
     "start_time": "2022-08-03T01:09:36.572428",
     "status": "completed"
    },
    "tags": []
   },
   "outputs": [],
   "source": [
    "IMG_SIZE = (96, 96, 3)\n",
    "BATCH_SIZE = 32\n",
    "EPOCHS = 20\n",
    "\n",
    "images_u_train = glob(\"../input/fruits/fruits-360_dataset/fruits-360/Training/*/*\")\n",
    "images_u_valid = glob(\"../input/fruits/fruits-360_dataset/fruits-360/Test/*/*\")\n",
    "targets_u = os.listdir(\"../input/fruits/fruits-360_dataset/fruits-360/Training/\")\n",
    "\n",
    "images_d = glob(\"../input/fruit-recognition/train/train/*/*\")\n",
    "images_d_train, images_d_valid = train_test_split(images_d, test_size=0.3, random_state=19)\n",
    "targets_d = os.listdir(\"../input/fruit-recognition/train/train/\")"
   ]
  },
  {
   "cell_type": "code",
   "execution_count": 3,
   "id": "554e807b",
   "metadata": {
    "execution": {
     "iopub.execute_input": "2022-08-03T01:10:04.482400Z",
     "iopub.status.busy": "2022-08-03T01:10:04.482100Z",
     "iopub.status.idle": "2022-08-03T01:10:04.491826Z",
     "shell.execute_reply": "2022-08-03T01:10:04.491000Z"
    },
    "papermill": {
     "duration": 0.016895,
     "end_time": "2022-08-03T01:10:04.493803",
     "exception": false,
     "start_time": "2022-08-03T01:10:04.476908",
     "status": "completed"
    },
    "tags": []
   },
   "outputs": [],
   "source": [
    "def load_images_clf_u(imagePath):\n",
    "    image = tf.io.read_file(imagePath)\n",
    "    image = tf.image.decode_jpeg(image, channels=3)\n",
    "    image = tf.image.convert_image_dtype(image, dtype=tf.float32)\n",
    "    image = tf.image.resize(image, IMG_SIZE[:-1])    \n",
    "    label = tf.strings.split(imagePath, os.path.sep)[-2]\n",
    "    \n",
    "    oneHot = label == targets_u\n",
    "    encodedLabel = tf.argmax(oneHot)\n",
    "\n",
    "    return (image, encodedLabel)\n",
    "\n",
    "def load_images_clf_d(imagePath):\n",
    "    image = tf.io.read_file(imagePath)\n",
    "    image = tf.image.decode_jpeg(image, channels=3)\n",
    "    image = tf.image.convert_image_dtype(image, dtype=tf.float32)\n",
    "    image = tf.image.resize(image, IMG_SIZE[:-1])    \n",
    "    label = tf.strings.split(imagePath, os.path.sep)[-2]\n",
    "    \n",
    "    oneHot = label == targets_d\n",
    "    encodedLabel = tf.argmax(oneHot)\n",
    "\n",
    "    return (image, encodedLabel)\n",
    "\n",
    "def load_images_enc(imagePath):\n",
    "    image = tf.io.read_file(imagePath)\n",
    "    image = tf.image.decode_jpeg(image, channels=3)\n",
    "    image = tf.image.convert_image_dtype(image, dtype=tf.float32)\n",
    "    image = tf.image.resize(image, IMG_SIZE[:-1])\n",
    "\n",
    "    return (image, image)"
   ]
  },
  {
   "cell_type": "code",
   "execution_count": 4,
   "id": "17d52371",
   "metadata": {
    "execution": {
     "iopub.execute_input": "2022-08-03T01:10:04.503482Z",
     "iopub.status.busy": "2022-08-03T01:10:04.503215Z",
     "iopub.status.idle": "2022-08-03T01:10:04.507549Z",
     "shell.execute_reply": "2022-08-03T01:10:04.506688Z"
    },
    "papermill": {
     "duration": 0.011533,
     "end_time": "2022-08-03T01:10:04.509535",
     "exception": false,
     "start_time": "2022-08-03T01:10:04.498002",
     "status": "completed"
    },
    "tags": []
   },
   "outputs": [],
   "source": [
    "def get_callbacks(log_path):\n",
    "    return [\n",
    "        CSVLogger(log_path), \n",
    "        ReduceLROnPlateau(patience=3, verbose=1, min_delta=1e-3),\n",
    "        EarlyStopping(min_delta=1e-3, patience=7, verbose=1, restore_best_weights=True)\n",
    "    ]"
   ]
  },
  {
   "cell_type": "markdown",
   "id": "6bd1398c",
   "metadata": {
    "papermill": {
     "duration": 0.004016,
     "end_time": "2022-08-03T01:10:04.517742",
     "exception": false,
     "start_time": "2022-08-03T01:10:04.513726",
     "status": "completed"
    },
    "tags": []
   },
   "source": [
    "# Pretraining Autoencoder"
   ]
  },
  {
   "cell_type": "code",
   "execution_count": 5,
   "id": "ce9cf6a0",
   "metadata": {
    "execution": {
     "iopub.execute_input": "2022-08-03T01:10:04.527258Z",
     "iopub.status.busy": "2022-08-03T01:10:04.527007Z",
     "iopub.status.idle": "2022-08-03T01:10:07.580899Z",
     "shell.execute_reply": "2022-08-03T01:10:07.579247Z"
    },
    "papermill": {
     "duration": 3.061871,
     "end_time": "2022-08-03T01:10:07.583856",
     "exception": false,
     "start_time": "2022-08-03T01:10:04.521985",
     "status": "completed"
    },
    "tags": []
   },
   "outputs": [
    {
     "name": "stderr",
     "output_type": "stream",
     "text": [
      "2022-08-03 01:10:04.633521: I tensorflow/stream_executor/cuda/cuda_gpu_executor.cc:937] successful NUMA node read from SysFS had negative value (-1), but there must be at least one NUMA node, so returning NUMA node zero\n",
      "2022-08-03 01:10:04.749803: I tensorflow/stream_executor/cuda/cuda_gpu_executor.cc:937] successful NUMA node read from SysFS had negative value (-1), but there must be at least one NUMA node, so returning NUMA node zero\n",
      "2022-08-03 01:10:04.750622: I tensorflow/stream_executor/cuda/cuda_gpu_executor.cc:937] successful NUMA node read from SysFS had negative value (-1), but there must be at least one NUMA node, so returning NUMA node zero\n"
     ]
    },
    {
     "name": "stdout",
     "output_type": "stream",
     "text": [
      "Model: \"autoencoder\"\n",
      "_________________________________________________________________\n",
      "Layer (type)                 Output Shape              Param #   \n",
      "=================================================================\n",
      "encoder_inputs (InputLayer)  [(None, 96, 96, 3)]       0         \n",
      "_________________________________________________________________\n",
      "encoder_conv_1_1 (Conv2D)    (None, 96, 96, 32)        896       \n",
      "_________________________________________________________________\n",
      "encoder_drop_1 (Dropout)     (None, 96, 96, 32)        0         \n",
      "_________________________________________________________________\n",
      "encoder_conv_1_2 (Conv2D)    (None, 96, 96, 32)        9248      \n",
      "_________________________________________________________________\n",
      "encoder_pool_1 (MaxPooling2D (None, 48, 48, 32)        0         \n",
      "_________________________________________________________________\n",
      "encoder_conv_2_1 (Conv2D)    (None, 48, 48, 64)        18496     \n",
      "_________________________________________________________________\n",
      "encoder_drop_2 (Dropout)     (None, 48, 48, 64)        0         \n",
      "_________________________________________________________________\n",
      "encoder_conv_2_2 (Conv2D)    (None, 48, 48, 64)        36928     \n",
      "_________________________________________________________________\n",
      "encoder_pool_2 (MaxPooling2D (None, 24, 24, 64)        0         \n",
      "_________________________________________________________________\n",
      "decoder_conv_1_1 (Conv2D)    (None, 24, 24, 64)        36928     \n",
      "_________________________________________________________________\n",
      "decoder_drop_1 (Dropout)     (None, 24, 24, 64)        0         \n",
      "_________________________________________________________________\n",
      "decoder_conv_1_2 (Conv2D)    (None, 24, 24, 64)        36928     \n",
      "_________________________________________________________________\n",
      "decoder_upsample_1 (UpSampli (None, 48, 48, 64)        0         \n",
      "_________________________________________________________________\n",
      "decoder_conv_2_1 (Conv2D)    (None, 48, 48, 32)        18464     \n",
      "_________________________________________________________________\n",
      "decoder_drop_2 (Dropout)     (None, 48, 48, 32)        0         \n",
      "_________________________________________________________________\n",
      "decoder_conv_2_2 (Conv2D)    (None, 48, 48, 32)        9248      \n",
      "_________________________________________________________________\n",
      "decoder_upsample_2 (UpSampli (None, 96, 96, 32)        0         \n",
      "_________________________________________________________________\n",
      "decoder_output (Conv2D)      (None, 96, 96, 3)         99        \n",
      "=================================================================\n",
      "Total params: 167,235\n",
      "Trainable params: 167,235\n",
      "Non-trainable params: 0\n",
      "_________________________________________________________________\n"
     ]
    },
    {
     "name": "stderr",
     "output_type": "stream",
     "text": [
      "2022-08-03 01:10:04.752713: I tensorflow/core/platform/cpu_feature_guard.cc:142] This TensorFlow binary is optimized with oneAPI Deep Neural Network Library (oneDNN) to use the following CPU instructions in performance-critical operations:  AVX2 AVX512F FMA\n",
      "To enable them in other operations, rebuild TensorFlow with the appropriate compiler flags.\n",
      "2022-08-03 01:10:04.757731: I tensorflow/stream_executor/cuda/cuda_gpu_executor.cc:937] successful NUMA node read from SysFS had negative value (-1), but there must be at least one NUMA node, so returning NUMA node zero\n",
      "2022-08-03 01:10:04.758586: I tensorflow/stream_executor/cuda/cuda_gpu_executor.cc:937] successful NUMA node read from SysFS had negative value (-1), but there must be at least one NUMA node, so returning NUMA node zero\n",
      "2022-08-03 01:10:04.759389: I tensorflow/stream_executor/cuda/cuda_gpu_executor.cc:937] successful NUMA node read from SysFS had negative value (-1), but there must be at least one NUMA node, so returning NUMA node zero\n",
      "2022-08-03 01:10:07.098349: I tensorflow/stream_executor/cuda/cuda_gpu_executor.cc:937] successful NUMA node read from SysFS had negative value (-1), but there must be at least one NUMA node, so returning NUMA node zero\n",
      "2022-08-03 01:10:07.099232: I tensorflow/stream_executor/cuda/cuda_gpu_executor.cc:937] successful NUMA node read from SysFS had negative value (-1), but there must be at least one NUMA node, so returning NUMA node zero\n",
      "2022-08-03 01:10:07.099909: I tensorflow/stream_executor/cuda/cuda_gpu_executor.cc:937] successful NUMA node read from SysFS had negative value (-1), but there must be at least one NUMA node, so returning NUMA node zero\n",
      "2022-08-03 01:10:07.100492: I tensorflow/core/common_runtime/gpu/gpu_device.cc:1510] Created device /job:localhost/replica:0/task:0/device:GPU:0 with 15403 MB memory:  -> device: 0, name: Tesla P100-PCIE-16GB, pci bus id: 0000:00:04.0, compute capability: 6.0\n"
     ]
    }
   ],
   "source": [
    "inputs = keras.Input(shape=IMG_SIZE, name='encoder_inputs')\n",
    "x = L.Conv2D(32, 3, padding='same', activation='relu', name='encoder_conv_1_1')(inputs)\n",
    "x = L.Dropout(0.2, name=\"encoder_drop_1\")(x)\n",
    "x = L.Conv2D(32, 3, padding='same', activation='relu', name='encoder_conv_1_2')(x)\n",
    "x = L.MaxPool2D(padding='same', name='encoder_pool_1')(x)\n",
    "x = L.Conv2D(64, 3, padding='same', activation='relu', name='encoder_conv_2_1')(x)\n",
    "x = L.Dropout(0.2, name=\"encoder_drop_2\")(x)\n",
    "x = L.Conv2D(64, 3, padding='same', activation='relu', name='encoder_conv_2_2')(x)\n",
    "encoded = L.MaxPool2D(padding='same', name='encoder_pool_2')(x)\n",
    "x = L.Conv2D(64, 3, padding='same', activation='relu', name='decoder_conv_1_1')(encoded)\n",
    "x = L.Dropout(0.2, name=\"decoder_drop_1\")(x)\n",
    "x = L.Conv2D(64, 3, padding='same', activation='relu', name='decoder_conv_1_2')(x)\n",
    "x = L.UpSampling2D(name='decoder_upsample_1')(x)\n",
    "x = L.Conv2D(32, 3, padding='same', activation='relu', name='decoder_conv_2_1')(x)\n",
    "x = L.Dropout(0.2, name=\"decoder_drop_2\")(x)\n",
    "x = L.Conv2D(32, 3, padding='same', activation='relu', name='decoder_conv_2_2')(x)\n",
    "x = L.UpSampling2D(name='decoder_upsample_2')(x)\n",
    "outputs = L.Conv2D(3, 1, padding='same', activation='sigmoid', name='decoder_output')(x)\n",
    "\n",
    "autoencoder = Model(inputs=inputs, outputs=outputs, name='autoencoder')\n",
    "autoencoder.compile(optimizer=Adam(1e-3), loss='binary_crossentropy')\n",
    "autoencoder.summary()"
   ]
  },
  {
   "cell_type": "code",
   "execution_count": 6,
   "id": "ca92b668",
   "metadata": {
    "execution": {
     "iopub.execute_input": "2022-08-03T01:10:07.594301Z",
     "iopub.status.busy": "2022-08-03T01:10:07.594019Z",
     "iopub.status.idle": "2022-08-03T01:10:07.950566Z",
     "shell.execute_reply": "2022-08-03T01:10:07.949617Z"
    },
    "papermill": {
     "duration": 0.364693,
     "end_time": "2022-08-03T01:10:07.953287",
     "exception": false,
     "start_time": "2022-08-03T01:10:07.588594",
     "status": "completed"
    },
    "tags": []
   },
   "outputs": [],
   "source": [
    "enc_train = (\n",
    "    Dataset.from_tensor_slices(images_u_train)\n",
    "    .shuffle(1024)\n",
    "    .map(load_images_enc, num_parallel_calls=-1)\n",
    "    .cache()\n",
    "    .batch(BATCH_SIZE)\n",
    ")\n",
    "enc_valid = (\n",
    "    Dataset.from_tensor_slices(images_u_valid)\n",
    "    .shuffle(1024)\n",
    "    .map(load_images_enc, num_parallel_calls=-1)\n",
    "    .cache()\n",
    "    .batch(BATCH_SIZE)\n",
    ")"
   ]
  },
  {
   "cell_type": "code",
   "execution_count": 7,
   "id": "46f7d1c7",
   "metadata": {
    "execution": {
     "iopub.execute_input": "2022-08-03T01:10:07.964304Z",
     "iopub.status.busy": "2022-08-03T01:10:07.963368Z",
     "iopub.status.idle": "2022-08-03T01:24:22.384002Z",
     "shell.execute_reply": "2022-08-03T01:24:22.383092Z"
    },
    "papermill": {
     "duration": 854.428016,
     "end_time": "2022-08-03T01:24:22.386090",
     "exception": false,
     "start_time": "2022-08-03T01:10:07.958074",
     "status": "completed"
    },
    "tags": []
   },
   "outputs": [
    {
     "name": "stderr",
     "output_type": "stream",
     "text": [
      "2022-08-03 01:10:07.997808: I tensorflow/compiler/mlir/mlir_graph_optimization_pass.cc:185] None of the MLIR Optimization Passes are enabled (registered 2)\n"
     ]
    },
    {
     "name": "stdout",
     "output_type": "stream",
     "text": [
      "Epoch 1/20\n"
     ]
    },
    {
     "name": "stderr",
     "output_type": "stream",
     "text": [
      "2022-08-03 01:10:09.765041: I tensorflow/stream_executor/cuda/cuda_dnn.cc:369] Loaded cuDNN version 8005\n"
     ]
    },
    {
     "name": "stdout",
     "output_type": "stream",
     "text": [
      "2116/2116 [==============================] - 282s 129ms/step - loss: 0.3537 - val_loss: 0.3682\n",
      "Epoch 2/20\n",
      "2116/2116 [==============================] - 50s 24ms/step - loss: 0.3479 - val_loss: 0.3815\n",
      "Epoch 3/20\n",
      "2116/2116 [==============================] - 50s 24ms/step - loss: 0.3483 - val_loss: 0.3765\n",
      "Epoch 4/20\n",
      "2116/2116 [==============================] - 50s 24ms/step - loss: 0.3474 - val_loss: 0.3589\n",
      "Epoch 5/20\n",
      "2116/2116 [==============================] - 50s 24ms/step - loss: 0.3474 - val_loss: 0.3649\n",
      "Epoch 6/20\n",
      "2116/2116 [==============================] - 50s 24ms/step - loss: 0.3470 - val_loss: 0.3647\n",
      "Epoch 7/20\n",
      "2116/2116 [==============================] - 50s 23ms/step - loss: 0.3466 - val_loss: 0.3995\n",
      "\n",
      "Epoch 00007: ReduceLROnPlateau reducing learning rate to 0.00010000000474974513.\n",
      "Epoch 8/20\n",
      "2116/2116 [==============================] - 50s 24ms/step - loss: 0.3464 - val_loss: 0.4008\n",
      "Epoch 9/20\n",
      "2116/2116 [==============================] - 50s 24ms/step - loss: 0.3463 - val_loss: 0.4023\n",
      "Epoch 10/20\n",
      "2116/2116 [==============================] - 50s 24ms/step - loss: 0.3462 - val_loss: 0.4008\n",
      "\n",
      "Epoch 00010: ReduceLROnPlateau reducing learning rate to 1.0000000474974514e-05.\n",
      "Epoch 11/20\n",
      "2116/2116 [==============================] - 50s 24ms/step - loss: 0.3462 - val_loss: 0.3989\n",
      "Restoring model weights from the end of the best epoch.\n",
      "Epoch 00011: early stopping\n"
     ]
    },
    {
     "data": {
      "image/png": "[encoded data removed]",
      "text/plain": [
       "<Figure size 1440x360 with 1 Axes>"
      ]
     },
     "metadata": {},
     "output_type": "display_data"
    }
   ],
   "source": [
    "history_ae_u = autoencoder.fit(\n",
    "    enc_train, validation_data=enc_valid,epochs=EPOCHS, batch_size=BATCH_SIZE, shuffle=True, \n",
    "    callbacks=get_callbacks('autoencoder_pretraining.csv')\n",
    ")\n",
    "encoder_base = keras.Model(inputs, encoded, name='encoder_base')\n",
    "encoder_base.save('encoder_base.h5')\n",
    "\n",
    "hist_df = pd.DataFrame(history_ae_u.history)\n",
    "fig, ax = plt.subplots(figsize=(20, 5))\n",
    "hist_df.iloc[:, :-1].plot(ax=ax);"
   ]
  },
  {
   "cell_type": "code",
   "execution_count": 8,
   "id": "0c22d2ab",
   "metadata": {
    "execution": {
     "iopub.execute_input": "2022-08-03T01:24:23.628192Z",
     "iopub.status.busy": "2022-08-03T01:24:23.627715Z",
     "iopub.status.idle": "2022-08-03T01:24:24.276078Z",
     "shell.execute_reply": "2022-08-03T01:24:24.275095Z"
    },
    "papermill": {
     "duration": 1.414326,
     "end_time": "2022-08-03T01:24:24.278745",
     "exception": false,
     "start_time": "2022-08-03T01:24:22.864419",
     "status": "completed"
    },
    "tags": []
   },
   "outputs": [],
   "source": [
    "del enc_train, enc_valid, autoencoder, encoder_base"
   ]
  },
  {
   "cell_type": "markdown",
   "id": "41566ff3",
   "metadata": {
    "papermill": {
     "duration": 0.480988,
     "end_time": "2022-08-03T01:24:25.239892",
     "exception": false,
     "start_time": "2022-08-03T01:24:24.758904",
     "status": "completed"
    },
    "tags": []
   },
   "source": [
    "# Pretraining CNN"
   ]
  },
  {
   "cell_type": "code",
   "execution_count": 9,
   "id": "cc43a0a1",
   "metadata": {
    "execution": {
     "iopub.execute_input": "2022-08-03T01:24:26.245628Z",
     "iopub.status.busy": "2022-08-03T01:24:26.245234Z",
     "iopub.status.idle": "2022-08-03T01:24:26.307539Z",
     "shell.execute_reply": "2022-08-03T01:24:26.306088Z"
    },
    "papermill": {
     "duration": 0.545104,
     "end_time": "2022-08-03T01:24:26.309718",
     "exception": false,
     "start_time": "2022-08-03T01:24:25.764614",
     "status": "completed"
    },
    "tags": []
   },
   "outputs": [
    {
     "name": "stdout",
     "output_type": "stream",
     "text": [
      "Model: \"cnn\"\n",
      "_________________________________________________________________\n",
      "Layer (type)                 Output Shape              Param #   \n",
      "=================================================================\n",
      "cnn_inputs (InputLayer)      [(None, 96, 96, 3)]       0         \n",
      "_________________________________________________________________\n",
      "cnn_conv_1_1 (Conv2D)        (None, 96, 96, 32)        896       \n",
      "_________________________________________________________________\n",
      "cnn_drop_1 (Dropout)         (None, 96, 96, 32)        0         \n",
      "_________________________________________________________________\n",
      "cnn_conv_1_2 (Conv2D)        (None, 96, 96, 32)        9248      \n",
      "_________________________________________________________________\n",
      "cnn_pool_1 (MaxPooling2D)    (None, 48, 48, 32)        0         \n",
      "_________________________________________________________________\n",
      "cnn_conv_2_1 (Conv2D)        (None, 48, 48, 64)        18496     \n",
      "_________________________________________________________________\n",
      "cnn_drop_2 (Dropout)         (None, 48, 48, 64)        0         \n",
      "_________________________________________________________________\n",
      "cnn_conv_2_2 (Conv2D)        (None, 48, 48, 64)        36928     \n",
      "_________________________________________________________________\n",
      "cnn_pool_2 (MaxPooling2D)    (None, 24, 24, 64)        0         \n",
      "_________________________________________________________________\n",
      "cnn_flatten (Flatten)        (None, 36864)             0         \n",
      "_________________________________________________________________\n",
      "cnn_classification_head (Den (None, 131)               4829315   \n",
      "=================================================================\n",
      "Total params: 4,894,883\n",
      "Trainable params: 4,894,883\n",
      "Non-trainable params: 0\n",
      "_________________________________________________________________\n"
     ]
    }
   ],
   "source": [
    "inputs = keras.Input(shape=IMG_SIZE, name='cnn_inputs')\n",
    "x = L.Conv2D(32, 3, padding='same', activation='relu', name='cnn_conv_1_1')(inputs)\n",
    "x = L.Dropout(0.2, name=\"cnn_drop_1\")(x)\n",
    "x = L.Conv2D(32, 3, padding='same', activation='relu', name='cnn_conv_1_2')(x)\n",
    "x = L.MaxPool2D(padding='same', name='cnn_pool_1')(x)\n",
    "x = L.Conv2D(64, 3, padding='same', activation='relu', name='cnn_conv_2_1')(x)\n",
    "x = L.Dropout(0.2, name=\"cnn_drop_2\")(x)\n",
    "x = L.Conv2D(64, 3, padding='same', activation='relu', name='cnn_conv_2_2')(x)\n",
    "encoded = L.MaxPool2D(padding='same', name='cnn_pool_2')(x)\n",
    "x = L.Flatten(name='cnn_flatten')(encoded)\n",
    "outputs = L.Dense(len(targets_u), activation='softmax', name='cnn_classification_head')(x)\n",
    "\n",
    "cnn = Model(inputs=inputs, outputs=outputs, name='cnn')\n",
    "cnn.compile(optimizer=Adam(1e-3), loss='sparse_categorical_crossentropy', metrics=['accuracy'])\n",
    "cnn.summary()"
   ]
  },
  {
   "cell_type": "code",
   "execution_count": 10,
   "id": "2b6e19e9",
   "metadata": {
    "execution": {
     "iopub.execute_input": "2022-08-03T01:24:27.309124Z",
     "iopub.status.busy": "2022-08-03T01:24:27.308523Z",
     "iopub.status.idle": "2022-08-03T01:24:27.723165Z",
     "shell.execute_reply": "2022-08-03T01:24:27.722106Z"
    },
    "papermill": {
     "duration": 0.894999,
     "end_time": "2022-08-03T01:24:27.726042",
     "exception": false,
     "start_time": "2022-08-03T01:24:26.831043",
     "status": "completed"
    },
    "tags": []
   },
   "outputs": [],
   "source": [
    "clf_train = (\n",
    "    Dataset.from_tensor_slices(images_u_train)\n",
    "    .shuffle(1024)\n",
    "    .map(load_images_clf_u, num_parallel_calls=-1)\n",
    "    .cache()\n",
    "    .batch(BATCH_SIZE)\n",
    ")\n",
    "clf_valid = (\n",
    "    Dataset.from_tensor_slices(images_u_valid)\n",
    "    .shuffle(1024)\n",
    "    .map(load_images_clf_u, num_parallel_calls=-1)\n",
    "    .cache()\n",
    "    .batch(BATCH_SIZE)\n",
    ")"
   ]
  },
  {
   "cell_type": "code",
   "execution_count": 11,
   "id": "4279cfcc",
   "metadata": {
    "execution": {
     "iopub.execute_input": "2022-08-03T01:24:28.726458Z",
     "iopub.status.busy": "2022-08-03T01:24:28.726087Z",
     "iopub.status.idle": "2022-08-03T01:39:40.612661Z",
     "shell.execute_reply": "2022-08-03T01:39:40.611794Z"
    },
    "papermill": {
     "duration": 912.413131,
     "end_time": "2022-08-03T01:39:40.614829",
     "exception": false,
     "start_time": "2022-08-03T01:24:28.201698",
     "status": "completed"
    },
    "tags": []
   },
   "outputs": [
    {
     "name": "stdout",
     "output_type": "stream",
     "text": [
      "Epoch 1/20\n",
      "2116/2116 [==============================] - 196s 92ms/step - loss: 1.1352 - accuracy: 0.7891 - val_loss: 10.9487 - val_accuracy: 0.0975\n",
      "Epoch 2/20\n",
      "2116/2116 [==============================] - 31s 15ms/step - loss: 0.1456 - accuracy: 0.9657 - val_loss: 8.1676 - val_accuracy: 0.2058\n",
      "Epoch 3/20\n",
      "2116/2116 [==============================] - 31s 15ms/step - loss: 0.0303 - accuracy: 0.9921 - val_loss: 10.1717 - val_accuracy: 0.2651\n",
      "Epoch 4/20\n",
      "2116/2116 [==============================] - 31s 15ms/step - loss: 0.0225 - accuracy: 0.9947 - val_loss: 12.6816 - val_accuracy: 0.2470\n",
      "Epoch 5/20\n",
      "2116/2116 [==============================] - 31s 15ms/step - loss: 0.0280 - accuracy: 0.9942 - val_loss: 12.7642 - val_accuracy: 0.2359\n",
      "\n",
      "Epoch 00005: ReduceLROnPlateau reducing learning rate to 0.00010000000474974513.\n",
      "Epoch 6/20\n",
      "2116/2116 [==============================] - 31s 15ms/step - loss: 0.1008 - accuracy: 0.9798 - val_loss: 8.7618 - val_accuracy: 0.3153\n",
      "Epoch 7/20\n",
      "2116/2116 [==============================] - 31s 15ms/step - loss: 0.0339 - accuracy: 0.9911 - val_loss: 6.5688 - val_accuracy: 0.3945\n",
      "Epoch 8/20\n",
      "2116/2116 [==============================] - 31s 15ms/step - loss: 0.0128 - accuracy: 0.9963 - val_loss: 6.4763 - val_accuracy: 0.4431\n",
      "Epoch 9/20\n",
      "2116/2116 [==============================] - 31s 15ms/step - loss: 0.0064 - accuracy: 0.9981 - val_loss: 5.6354 - val_accuracy: 0.4777\n",
      "Epoch 10/20\n",
      "2116/2116 [==============================] - 31s 15ms/step - loss: 0.0038 - accuracy: 0.9990 - val_loss: 5.7554 - val_accuracy: 0.4944\n",
      "Epoch 11/20\n",
      "2116/2116 [==============================] - 31s 15ms/step - loss: 0.0026 - accuracy: 0.9993 - val_loss: 4.8724 - val_accuracy: 0.5290\n",
      "Epoch 12/20\n",
      "2116/2116 [==============================] - 31s 15ms/step - loss: 0.0029 - accuracy: 0.9993 - val_loss: 4.6470 - val_accuracy: 0.5450\n",
      "Epoch 13/20\n",
      "2116/2116 [==============================] - 32s 15ms/step - loss: 0.0043 - accuracy: 0.9988 - val_loss: 5.2677 - val_accuracy: 0.5453\n",
      "Epoch 14/20\n",
      "2116/2116 [==============================] - 31s 15ms/step - loss: 0.0045 - accuracy: 0.9989 - val_loss: 3.6009 - val_accuracy: 0.6273\n",
      "Epoch 15/20\n",
      "2116/2116 [==============================] - 31s 15ms/step - loss: 0.0075 - accuracy: 0.9984 - val_loss: 3.7706 - val_accuracy: 0.6266\n",
      "Epoch 16/20\n",
      "2116/2116 [==============================] - 31s 15ms/step - loss: 0.0043 - accuracy: 0.9988 - val_loss: 3.2071 - val_accuracy: 0.6578\n",
      "Epoch 17/20\n",
      "2116/2116 [==============================] - 31s 15ms/step - loss: 0.0036 - accuracy: 0.9991 - val_loss: 3.1642 - val_accuracy: 0.6650\n",
      "Epoch 18/20\n",
      "2116/2116 [==============================] - 31s 15ms/step - loss: 0.0033 - accuracy: 0.9992 - val_loss: 3.8779 - val_accuracy: 0.6375\n",
      "Epoch 19/20\n",
      "2116/2116 [==============================] - 31s 15ms/step - loss: 0.0027 - accuracy: 0.9993 - val_loss: 2.7565 - val_accuracy: 0.7072\n",
      "Epoch 20/20\n",
      "2116/2116 [==============================] - 31s 15ms/step - loss: 0.0040 - accuracy: 0.9990 - val_loss: 3.8612 - val_accuracy: 0.6295\n"
     ]
    },
    {
     "data": {
      "image/png": "[encoded data removed]",
      "text/plain": [
       "<Figure size 1440x360 with 1 Axes>"
      ]
     },
     "metadata": {},
     "output_type": "display_data"
    }
   ],
   "source": [
    "history_cnn_u = cnn.fit(\n",
    "    clf_train, epochs=EPOCHS, batch_size=BATCH_SIZE, shuffle=True, validation_data=(clf_valid), \n",
    "    callbacks=get_callbacks('cnn_pretraining.csv')\n",
    ")\n",
    "cnn_base = keras.Model(inputs, encoded, name='cnn_base')\n",
    "cnn_base.save('cnn_base.h5')\n",
    "\n",
    "hist_df = pd.DataFrame(history_cnn_u.history)\n",
    "fig, ax = plt.subplots(figsize=(20, 5))\n",
    "hist_df.iloc[:, :-1].plot(ax=ax);"
   ]
  },
  {
   "cell_type": "code",
   "execution_count": 12,
   "id": "6dbb75ae",
   "metadata": {
    "execution": {
     "iopub.execute_input": "2022-08-03T01:39:42.881227Z",
     "iopub.status.busy": "2022-08-03T01:39:42.880863Z",
     "iopub.status.idle": "2022-08-03T01:39:43.061067Z",
     "shell.execute_reply": "2022-08-03T01:39:43.060103Z"
    },
    "papermill": {
     "duration": 1.284998,
     "end_time": "2022-08-03T01:39:43.063441",
     "exception": false,
     "start_time": "2022-08-03T01:39:41.778443",
     "status": "completed"
    },
    "tags": []
   },
   "outputs": [],
   "source": [
    "del clf_train, clf_valid, cnn, cnn_base"
   ]
  },
  {
   "cell_type": "markdown",
   "id": "e5dfdf0c",
   "metadata": {
    "papermill": {
     "duration": 1.176489,
     "end_time": "2022-08-03T01:39:45.393788",
     "exception": false,
     "start_time": "2022-08-03T01:39:44.217299",
     "status": "completed"
    },
    "tags": []
   },
   "source": [
    "## Finetuning"
   ]
  },
  {
   "cell_type": "code",
   "execution_count": 13,
   "id": "8cdb4dfa",
   "metadata": {
    "execution": {
     "iopub.execute_input": "2022-08-03T01:39:47.942708Z",
     "iopub.status.busy": "2022-08-03T01:39:47.939777Z",
     "iopub.status.idle": "2022-08-03T01:39:48.149061Z",
     "shell.execute_reply": "2022-08-03T01:39:48.148114Z"
    },
    "papermill": {
     "duration": 1.604303,
     "end_time": "2022-08-03T01:39:48.151575",
     "exception": false,
     "start_time": "2022-08-03T01:39:46.547272",
     "status": "completed"
    },
    "tags": []
   },
   "outputs": [],
   "source": [
    "d_clf_train = (\n",
    "    Dataset.from_tensor_slices(images_d_train)\n",
    "    .shuffle(1024)\n",
    "    .map(load_images_clf_d, num_parallel_calls=-1)\n",
    "    .cache()\n",
    "    .batch(BATCH_SIZE)\n",
    ")\n",
    "d_clf_valid = (\n",
    "    Dataset.from_tensor_slices(images_d_valid)\n",
    "    .shuffle(1024)\n",
    "    .map(load_images_clf_d, num_parallel_calls=-1)\n",
    "    .cache()\n",
    "    .batch(BATCH_SIZE)\n",
    ")"
   ]
  },
  {
   "cell_type": "markdown",
   "id": "49df50d9",
   "metadata": {
    "papermill": {
     "duration": 1.191387,
     "end_time": "2022-08-03T01:39:50.445501",
     "exception": false,
     "start_time": "2022-08-03T01:39:49.254114",
     "status": "completed"
    },
    "tags": []
   },
   "source": [
    "# Finetuning Encoder"
   ]
  },
  {
   "cell_type": "code",
   "execution_count": 14,
   "id": "60e0a30a",
   "metadata": {
    "execution": {
     "iopub.execute_input": "2022-08-03T01:39:52.787222Z",
     "iopub.status.busy": "2022-08-03T01:39:52.786838Z",
     "iopub.status.idle": "2022-08-03T01:41:46.561613Z",
     "shell.execute_reply": "2022-08-03T01:41:46.560568Z"
    },
    "papermill": {
     "duration": 114.943484,
     "end_time": "2022-08-03T01:41:46.563832",
     "exception": false,
     "start_time": "2022-08-03T01:39:51.620348",
     "status": "completed"
    },
    "tags": []
   },
   "outputs": [
    {
     "name": "stdout",
     "output_type": "stream",
     "text": [
      "Epoch 1/20\n",
      "369/369 [==============================] - 54s 145ms/step - loss: 0.3325 - accuracy: 0.9244 - val_loss: 0.0074 - val_accuracy: 0.9998\n",
      "Epoch 2/20\n",
      "369/369 [==============================] - 5s 15ms/step - loss: 0.0011 - accuracy: 1.0000 - val_loss: 0.0021 - val_accuracy: 0.9998\n",
      "Epoch 3/20\n",
      "369/369 [==============================] - 5s 15ms/step - loss: 2.5812e-04 - accuracy: 1.0000 - val_loss: 0.0013 - val_accuracy: 0.9998\n",
      "Epoch 4/20\n",
      "369/369 [==============================] - 5s 15ms/step - loss: 8.8162e-05 - accuracy: 1.0000 - val_loss: 0.0012 - val_accuracy: 0.9998\n",
      "Epoch 5/20\n",
      "369/369 [==============================] - 5s 15ms/step - loss: 4.7113e-05 - accuracy: 1.0000 - val_loss: 0.0011 - val_accuracy: 0.9998\n",
      "\n",
      "Epoch 00005: ReduceLROnPlateau reducing learning rate to 9.999999747378752e-06.\n",
      "Epoch 6/20\n",
      "369/369 [==============================] - 5s 15ms/step - loss: 3.2739e-05 - accuracy: 1.0000 - val_loss: 0.0011 - val_accuracy: 0.9998\n",
      "Epoch 7/20\n",
      "369/369 [==============================] - 5s 15ms/step - loss: 3.1589e-05 - accuracy: 1.0000 - val_loss: 0.0011 - val_accuracy: 0.9998\n",
      "Epoch 8/20\n",
      "369/369 [==============================] - 5s 15ms/step - loss: 3.0434e-05 - accuracy: 1.0000 - val_loss: 0.0011 - val_accuracy: 0.9998\n",
      "\n",
      "Epoch 00008: ReduceLROnPlateau reducing learning rate to 9.999999747378752e-07.\n",
      "Epoch 9/20\n",
      "369/369 [==============================] - 6s 15ms/step - loss: 2.6377e-05 - accuracy: 1.0000 - val_loss: 0.0011 - val_accuracy: 0.9998\n",
      "Restoring model weights from the end of the best epoch.\n",
      "Epoch 00009: early stopping\n",
      "159/159 [==============================] - 1s 5ms/step - loss: 0.0021 - accuracy: 0.9998\n",
      "\n",
      "\n",
      "Accuracy of Autoencoder Finetuned Classifier: 0.9998022317886353\n"
     ]
    },
    {
     "data": {
      "image/png": "[encoded data removed]",
      "text/plain": [
       "<Figure size 1440x360 with 1 Axes>"
      ]
     },
     "metadata": {},
     "output_type": "display_data"
    }
   ],
   "source": [
    "encoder = Sequential([\n",
    "    load_model('encoder_base.h5'),\n",
    "    L.Flatten(name='encoder_flatten'),\n",
    "    L.Dense(len(targets_d), activation='softmax', name='encoder_classification_head')\n",
    "])\n",
    "encoder.compile(optimizer=Adam(1e-4), loss='sparse_categorical_crossentropy', metrics=['accuracy'])\n",
    "history_ae_d = encoder.fit(\n",
    "    d_clf_train, validation_data=d_clf_valid, epochs=EPOCHS, batch_size=BATCH_SIZE, shuffle=True,\n",
    "    callbacks=get_callbacks('autoencoder_finetuning.csv')\n",
    ")\n",
    "encoder.save('encoder_finetuned.h5')\n",
    "\n",
    "loss, accuracy = encoder.evaluate(d_clf_valid)\n",
    "print(f\"\\n\\nAccuracy of Autoencoder Finetuned Classifier: {accuracy}\")\n",
    "\n",
    "hist_df = pd.DataFrame(history_ae_d.history)\n",
    "fig, ax = plt.subplots(figsize=(20, 5))\n",
    "hist_df.iloc[:, :-1].plot(ax=ax);"
   ]
  },
  {
   "cell_type": "markdown",
   "id": "928803f5",
   "metadata": {
    "papermill": {
     "duration": 1.461961,
     "end_time": "2022-08-03T01:41:49.248324",
     "exception": false,
     "start_time": "2022-08-03T01:41:47.786363",
     "status": "completed"
    },
    "tags": []
   },
   "source": [
    "# Finetuning CNN"
   ]
  },
  {
   "cell_type": "code",
   "execution_count": 15,
   "id": "cf8456c6",
   "metadata": {
    "execution": {
     "iopub.execute_input": "2022-08-03T01:41:51.706367Z",
     "iopub.status.busy": "2022-08-03T01:41:51.705869Z",
     "iopub.status.idle": "2022-08-03T01:43:12.391635Z",
     "shell.execute_reply": "2022-08-03T01:43:12.390577Z"
    },
    "papermill": {
     "duration": 81.904625,
     "end_time": "2022-08-03T01:43:12.393623",
     "exception": false,
     "start_time": "2022-08-03T01:41:50.488998",
     "status": "completed"
    },
    "tags": []
   },
   "outputs": [
    {
     "name": "stdout",
     "output_type": "stream",
     "text": [
      "Epoch 1/20\n",
      "369/369 [==============================] - 6s 15ms/step - loss: 0.3464 - accuracy: 0.9513 - val_loss: 0.0103 - val_accuracy: 0.9998\n",
      "Epoch 2/20\n",
      "369/369 [==============================] - 5s 15ms/step - loss: 0.0015 - accuracy: 1.0000 - val_loss: 0.0030 - val_accuracy: 0.9998\n",
      "Epoch 3/20\n",
      "369/369 [==============================] - 5s 15ms/step - loss: 2.1263e-04 - accuracy: 1.0000 - val_loss: 0.0019 - val_accuracy: 0.9998\n",
      "Epoch 4/20\n",
      "369/369 [==============================] - 6s 15ms/step - loss: 7.3109e-05 - accuracy: 1.0000 - val_loss: 0.0018 - val_accuracy: 0.9998\n",
      "Epoch 5/20\n",
      "369/369 [==============================] - 5s 15ms/step - loss: 3.6310e-05 - accuracy: 1.0000 - val_loss: 0.0018 - val_accuracy: 0.9998\n",
      "Epoch 6/20\n",
      "369/369 [==============================] - 5s 15ms/step - loss: 2.1272e-05 - accuracy: 1.0000 - val_loss: 0.0018 - val_accuracy: 0.9998\n",
      "\n",
      "Epoch 00006: ReduceLROnPlateau reducing learning rate to 9.999999747378752e-06.\n",
      "Epoch 7/20\n",
      "369/369 [==============================] - 5s 15ms/step - loss: 1.5234e-05 - accuracy: 1.0000 - val_loss: 0.0018 - val_accuracy: 0.9998\n",
      "Epoch 8/20\n",
      "369/369 [==============================] - 6s 15ms/step - loss: 1.3253e-05 - accuracy: 1.0000 - val_loss: 0.0018 - val_accuracy: 0.9998\n",
      "Epoch 9/20\n",
      "369/369 [==============================] - 5s 15ms/step - loss: 1.1733e-05 - accuracy: 1.0000 - val_loss: 0.0018 - val_accuracy: 0.9998\n",
      "\n",
      "Epoch 00009: ReduceLROnPlateau reducing learning rate to 9.999999747378752e-07.\n",
      "Epoch 10/20\n",
      "369/369 [==============================] - 5s 15ms/step - loss: 1.3038e-05 - accuracy: 1.0000 - val_loss: 0.0018 - val_accuracy: 0.9998\n",
      "Restoring model weights from the end of the best epoch.\n",
      "Epoch 00010: early stopping\n",
      "159/159 [==============================] - 1s 5ms/step - loss: 0.0021 - accuracy: 0.9998\n",
      "\n",
      "\n",
      "Accuracy of CNN Finetuned Classifier: 0.9998022317886353\n"
     ]
    },
    {
     "data": {
      "image/png": "[encoded data removed]",
      "text/plain": [
       "<Figure size 1440x360 with 1 Axes>"
      ]
     },
     "metadata": {},
     "output_type": "display_data"
    }
   ],
   "source": [
    "cnn = Sequential([\n",
    "    load_model('cnn_base.h5'),\n",
    "    L.Flatten(name='cnn_flatten'),\n",
    "    L.Dense(len(targets_d), activation='softmax', name='cnn_classification_head')\n",
    "])\n",
    "cnn.compile(optimizer=Adam(1e-4), loss='sparse_categorical_crossentropy', metrics=['accuracy'])\n",
    "history_cnn_d = cnn.fit(\n",
    "    d_clf_train, validation_data=d_clf_valid, epochs=EPOCHS, batch_size=BATCH_SIZE, shuffle=True,\n",
    "    callbacks=get_callbacks('cnn_finetuning.csv')\n",
    ")\n",
    "encoder.save('cnn_finetuned.h5')\n",
    "loss, accuracy = encoder.evaluate(d_clf_valid)\n",
    "print(f\"\\n\\nAccuracy of CNN Finetuned Classifier: {accuracy}\")\n",
    "\n",
    "hist_df = pd.DataFrame(history_cnn_d.history)\n",
    "fig, ax = plt.subplots(figsize=(20, 5))\n",
    "hist_df.iloc[:, :-1].plot(ax=ax);"
   ]
  },
  {
   "cell_type": "markdown",
   "id": "afb8d905",
   "metadata": {
    "papermill": {
     "duration": 1.288725,
     "end_time": "2022-08-03T01:43:14.962944",
     "exception": false,
     "start_time": "2022-08-03T01:43:13.674219",
     "status": "completed"
    },
    "tags": []
   },
   "source": [
    "## "
   ]
  }
 ],
 "metadata": {
  "kernelspec": {
   "display_name": "Python 3",
   "language": "python",
   "name": "python3"
  },
  "language_info": {
   "codemirror_mode": {
    "name": "ipython",
    "version": 3
   },
   "file_extension": ".py",
   "mimetype": "text/x-python",
   "name": "python",
   "nbconvert_exporter": "python",
   "pygments_lexer": "ipython3",
   "version": "3.7.12"
  },
  "papermill": {
   "default_parameters": {},
   "duration": 2037.02361,
   "end_time": "2022-08-03T01:43:19.693211",
   "environment_variables": {},
   "exception": null,
   "input_path": "__notebook__.ipynb",
   "output_path": "__notebook__.ipynb",
   "parameters": {},
   "start_time": "2022-08-03T01:09:22.669601",
   "version": "2.3.4"
  }
 },
 "nbformat": 4,
 "nbformat_minor": 5
}
