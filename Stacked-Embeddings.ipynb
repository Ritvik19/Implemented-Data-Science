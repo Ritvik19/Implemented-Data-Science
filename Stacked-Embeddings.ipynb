{
 "cells": [
  {
   "cell_type": "markdown",
   "id": "70546a0d",
   "metadata": {
    "papermill": {
     "duration": 0.005155,
     "end_time": "2022-10-18T16:25:31.257221",
     "exception": false,
     "start_time": "2022-10-18T16:25:31.252066",
     "status": "completed"
    },
    "tags": []
   },
   "source": [
    "# Stacked Embeddings\n",
    "\n",
    "In this notebook we will be stacking different embeddings for a text classification task.\n",
    "We will be stacking 4 embeddings each of them will be based on the follwing properties of each token:\n",
    "* lemma\n",
    "* pos\n",
    "* tag\n",
    "* ner\n",
    "\n",
    "These properties are derived using spacy. All the embeddings are trained from scratch using keras Embeddings Layer"
   ]
  },
  {
   "cell_type": "code",
   "execution_count": 1,
   "id": "fb461974",
   "metadata": {
    "_cell_guid": "b1076dfc-b9ad-4769-8c92-a6c4dae69d19",
    "_uuid": "8f2839f25d086af736a60e9eeb907d3b93b6e0e5",
    "execution": {
     "iopub.execute_input": "2022-10-18T16:25:31.267679Z",
     "iopub.status.busy": "2022-10-18T16:25:31.266862Z",
     "iopub.status.idle": "2022-10-18T16:25:45.910534Z",
     "shell.execute_reply": "2022-10-18T16:25:45.909478Z"
    },
    "papermill": {
     "duration": 14.651724,
     "end_time": "2022-10-18T16:25:45.913124",
     "exception": false,
     "start_time": "2022-10-18T16:25:31.261400",
     "status": "completed"
    },
    "tags": []
   },
   "outputs": [],
   "source": [
    "import os\n",
    "import numpy as np\n",
    "import pandas as pd\n",
    "from sklearn.datasets import fetch_20newsgroups\n",
    "from sklearn.model_selection import train_test_split\n",
    "\n",
    "from tqdm.notebook import tqdm\n",
    "\n",
    "import tensorflow as tf\n",
    "from tensorflow import keras\n",
    "from tensorflow.keras import models\n",
    "from tensorflow.keras import layers as L\n",
    "from tensorflow.keras import callbacks, utils\n",
    "\n",
    "import spacy\n",
    "from keras.preprocessing.text import Tokenizer\n",
    "from keras.preprocessing import sequence\n",
    "\n",
    "nlp = spacy.load('en_core_web_lg')"
   ]
  },
  {
   "cell_type": "markdown",
   "id": "eec966cd",
   "metadata": {
    "papermill": {
     "duration": 0.003795,
     "end_time": "2022-10-18T16:25:45.921088",
     "exception": false,
     "start_time": "2022-10-18T16:25:45.917293",
     "status": "completed"
    },
    "tags": []
   },
   "source": [
    "# Loading the Data"
   ]
  },
  {
   "cell_type": "code",
   "execution_count": 2,
   "id": "0d21463f",
   "metadata": {
    "execution": {
     "iopub.execute_input": "2022-10-18T16:25:45.930214Z",
     "iopub.status.busy": "2022-10-18T16:25:45.929521Z",
     "iopub.status.idle": "2022-10-18T16:25:56.938175Z",
     "shell.execute_reply": "2022-10-18T16:25:56.937179Z"
    },
    "papermill": {
     "duration": 11.015842,
     "end_time": "2022-10-18T16:25:56.940593",
     "exception": false,
     "start_time": "2022-10-18T16:25:45.924751",
     "status": "completed"
    },
    "tags": []
   },
   "outputs": [],
   "source": [
    "dataset = fetch_20newsgroups(subset='all')\n",
    "\n",
    "X = pd.Series(dataset['data'])\n",
    "y = pd.Series(dataset['target'])\n",
    "X_train, X_valid, y_train, y_valid = train_test_split(\n",
    "    X, y, test_size=0.1, stratify=y, random_state=19\n",
    ")\n",
    "y_train = pd.get_dummies(y_train)\n",
    "y_valid = pd.get_dummies(y_valid)"
   ]
  },
  {
   "cell_type": "markdown",
   "id": "7d4b17aa",
   "metadata": {
    "papermill": {
     "duration": 0.003625,
     "end_time": "2022-10-18T16:25:56.948349",
     "exception": false,
     "start_time": "2022-10-18T16:25:56.944724",
     "status": "completed"
    },
    "tags": []
   },
   "source": [
    "**Constants**"
   ]
  },
  {
   "cell_type": "code",
   "execution_count": 3,
   "id": "4caa0cdb",
   "metadata": {
    "execution": {
     "iopub.execute_input": "2022-10-18T16:25:56.957065Z",
     "iopub.status.busy": "2022-10-18T16:25:56.956740Z",
     "iopub.status.idle": "2022-10-18T16:25:56.962301Z",
     "shell.execute_reply": "2022-10-18T16:25:56.961440Z"
    },
    "papermill": {
     "duration": 0.012404,
     "end_time": "2022-10-18T16:25:56.964473",
     "exception": false,
     "start_time": "2022-10-18T16:25:56.952069",
     "status": "completed"
    },
    "tags": []
   },
   "outputs": [],
   "source": [
    "vocab_size = 20_000\n",
    "vocab_pos = 20\n",
    "vocab_tag = 60\n",
    "vocab_ner = 20\n",
    "embed_dim_tok = 128\n",
    "embed_dim_pos = 64\n",
    "seq_length = 1024\n",
    "MAX_EPOCHS = 100"
   ]
  },
  {
   "cell_type": "markdown",
   "id": "53a6b6da",
   "metadata": {
    "papermill": {
     "duration": 0.00356,
     "end_time": "2022-10-18T16:25:56.971760",
     "exception": false,
     "start_time": "2022-10-18T16:25:56.968200",
     "status": "completed"
    },
    "tags": []
   },
   "source": [
    "# Tokenization"
   ]
  },
  {
   "cell_type": "code",
   "execution_count": 4,
   "id": "68622b86",
   "metadata": {
    "execution": {
     "iopub.execute_input": "2022-10-18T16:25:56.980280Z",
     "iopub.status.busy": "2022-10-18T16:25:56.980010Z",
     "iopub.status.idle": "2022-10-18T17:02:48.662163Z",
     "shell.execute_reply": "2022-10-18T17:02:48.661090Z"
    },
    "papermill": {
     "duration": 2211.689142,
     "end_time": "2022-10-18T17:02:48.664581",
     "exception": false,
     "start_time": "2022-10-18T16:25:56.975439",
     "status": "completed"
    },
    "tags": []
   },
   "outputs": [
    {
     "data": {
      "application/vnd.jupyter.widget-view+json": {
       "model_id": "5ad55506d1254c12a7c54c6d73d1a9bb",
       "version_major": 2,
       "version_minor": 0
      },
      "text/plain": [
       "  0%|          | 0/16961 [00:00<?, ?it/s]"
      ]
     },
     "metadata": {},
     "output_type": "display_data"
    },
    {
     "data": {
      "application/vnd.jupyter.widget-view+json": {
       "model_id": "7578902996fa4fa9b9927927367d2f0a",
       "version_major": 2,
       "version_minor": 0
      },
      "text/plain": [
       "  0%|          | 0/1885 [00:00<?, ?it/s]"
      ]
     },
     "metadata": {},
     "output_type": "display_data"
    },
    {
     "data": {
      "application/vnd.jupyter.widget-view+json": {
       "model_id": "88b0b7e8cf3249e19f392c69cfa35606",
       "version_major": 2,
       "version_minor": 0
      },
      "text/plain": [
       "  0%|          | 0/16961 [00:00<?, ?it/s]"
      ]
     },
     "metadata": {},
     "output_type": "display_data"
    },
    {
     "data": {
      "application/vnd.jupyter.widget-view+json": {
       "model_id": "c026490271af4b07a520232f3804e8b1",
       "version_major": 2,
       "version_minor": 0
      },
      "text/plain": [
       "  0%|          | 0/1885 [00:00<?, ?it/s]"
      ]
     },
     "metadata": {},
     "output_type": "display_data"
    }
   ],
   "source": [
    "lemma_pos_tag_train = [[(token.lemma_, token.pos_, token.tag_) for token in nlp(text)] for text in tqdm(X_train)]\n",
    "lemma_pos_tag_valid = [[(token.lemma_, token.pos_, token.tag_) for token in nlp(text)] for text in tqdm(X_valid)]\n",
    "\n",
    "ner_train = [[\"\" for _ in range(seq_length)] for text in X_train]\n",
    "ner_valid = [[\"\" for _ in range(seq_length)] for text in X_valid]\n",
    "\n",
    "for e, text in tqdm(enumerate(X_train), total=len(X_train)):\n",
    "    doc = nlp(text)\n",
    "    for ent in doc.ents:\n",
    "        ner_train[e][ent.start: ent.end] = [ent.label_] * (ent.end - ent.start)\n",
    "        \n",
    "for e, text in tqdm(enumerate(X_valid), total=len(X_valid)):\n",
    "    doc = nlp(text)\n",
    "    for ent in doc.ents:\n",
    "        ner_valid[e][ent.start: ent.end] = [ent.label_] * (ent.end - ent.start)        "
   ]
  },
  {
   "cell_type": "code",
   "execution_count": 5,
   "id": "9bd25eb8",
   "metadata": {
    "execution": {
     "iopub.execute_input": "2022-10-18T17:02:48.675174Z",
     "iopub.status.busy": "2022-10-18T17:02:48.674596Z",
     "iopub.status.idle": "2022-10-18T17:02:51.994844Z",
     "shell.execute_reply": "2022-10-18T17:02:51.993835Z"
    },
    "papermill": {
     "duration": 3.328065,
     "end_time": "2022-10-18T17:02:51.997250",
     "exception": false,
     "start_time": "2022-10-18T17:02:48.669185",
     "status": "completed"
    },
    "tags": []
   },
   "outputs": [],
   "source": [
    "lem_train = [[token[0] for token in doc] for doc in lemma_pos_tag_train]\n",
    "lem_valid = [[token[0] for token in doc] for doc in lemma_pos_tag_valid]\n",
    "\n",
    "pos_train = [[token[1] for token in doc] for doc in lemma_pos_tag_train]\n",
    "pos_valid = [[token[1] for token in doc] for doc in lemma_pos_tag_valid]\n",
    "\n",
    "tag_train = [[token[2] for token in doc] for doc in lemma_pos_tag_train]\n",
    "tag_valid = [[token[2] for token in doc] for doc in lemma_pos_tag_valid]"
   ]
  },
  {
   "cell_type": "code",
   "execution_count": 6,
   "id": "f15b77ed",
   "metadata": {
    "execution": {
     "iopub.execute_input": "2022-10-18T17:02:52.007870Z",
     "iopub.status.busy": "2022-10-18T17:02:52.007547Z",
     "iopub.status.idle": "2022-10-18T17:03:28.562354Z",
     "shell.execute_reply": "2022-10-18T17:03:28.560729Z"
    },
    "papermill": {
     "duration": 36.581415,
     "end_time": "2022-10-18T17:03:28.583477",
     "exception": false,
     "start_time": "2022-10-18T17:02:52.002062",
     "status": "completed"
    },
    "tags": []
   },
   "outputs": [
    {
     "data": {
      "text/plain": [
       "((16961, 1024), (16961, 1024), (16961, 1024), (16961, 1024))"
      ]
     },
     "execution_count": 6,
     "metadata": {},
     "output_type": "execute_result"
    }
   ],
   "source": [
    "tokenizer_lem = Tokenizer(num_words=vocab_size, oov_token='<unw>')\n",
    "tokenizer_lem.fit_on_texts(lem_train)\n",
    "\n",
    "lem_train = tokenizer_lem.texts_to_sequences(lem_train)\n",
    "lem_train = sequence.pad_sequences(lem_train, maxlen=seq_length, padding='post')\n",
    "lem_valid = tokenizer_lem.texts_to_sequences(lem_valid)\n",
    "lem_valid = sequence.pad_sequences(lem_valid, maxlen=seq_length, padding='post')\n",
    "\n",
    "tokenizer_pos = Tokenizer(num_words=vocab_pos, oov_token='<unw>')\n",
    "tokenizer_pos.fit_on_texts(pos_train)\n",
    "\n",
    "pos_train = tokenizer_pos.texts_to_sequences(pos_train)\n",
    "pos_train = sequence.pad_sequences(pos_train, maxlen=seq_length, padding='post')\n",
    "pos_valid = tokenizer_pos.texts_to_sequences(pos_valid)\n",
    "pos_valid = sequence.pad_sequences(pos_valid, maxlen=seq_length, padding='post')\n",
    "\n",
    "tokenizer_tag = Tokenizer(num_words=vocab_tag, oov_token='<unw>')\n",
    "tokenizer_tag.fit_on_texts(tag_train)\n",
    "\n",
    "tag_train = tokenizer_tag.texts_to_sequences(tag_train)\n",
    "tag_train = sequence.pad_sequences(tag_train, maxlen=seq_length, padding='post')\n",
    "tag_valid = tokenizer_tag.texts_to_sequences(tag_valid)\n",
    "tag_valid = sequence.pad_sequences(tag_valid, maxlen=seq_length, padding='post')\n",
    "\n",
    "tokenizer_ner = Tokenizer(num_words=vocab_ner, oov_token='<unw>')\n",
    "tokenizer_ner.fit_on_texts(ner_train)\n",
    "\n",
    "ner_train = tokenizer_ner.texts_to_sequences(ner_train)\n",
    "ner_train = sequence.pad_sequences(ner_train, maxlen=seq_length, padding='post')\n",
    "ner_valid = tokenizer_ner.texts_to_sequences(ner_valid)\n",
    "ner_valid = sequence.pad_sequences(ner_valid, maxlen=seq_length, padding='post')\n",
    "\n",
    "\n",
    "lem_train.shape, pos_train.shape, tag_train.shape, ner_train.shape"
   ]
  },
  {
   "cell_type": "markdown",
   "id": "8e9c7cf7",
   "metadata": {
    "papermill": {
     "duration": 0.009111,
     "end_time": "2022-10-18T17:03:28.599220",
     "exception": false,
     "start_time": "2022-10-18T17:03:28.590109",
     "status": "completed"
    },
    "tags": []
   },
   "source": [
    "# Modelling\n",
    "**Building the Model**\n"
   ]
  },
  {
   "cell_type": "code",
   "execution_count": 7,
   "id": "100ad591",
   "metadata": {
    "execution": {
     "iopub.execute_input": "2022-10-18T17:03:28.614235Z",
     "iopub.status.busy": "2022-10-18T17:03:28.613931Z",
     "iopub.status.idle": "2022-10-18T17:03:38.336350Z",
     "shell.execute_reply": "2022-10-18T17:03:38.335191Z"
    },
    "papermill": {
     "duration": 9.731105,
     "end_time": "2022-10-18T17:03:38.339650",
     "exception": false,
     "start_time": "2022-10-18T17:03:28.608545",
     "status": "completed"
    },
    "tags": []
   },
   "outputs": [
    {
     "name": "stderr",
     "output_type": "stream",
     "text": [
      "2022-10-18 17:03:28.660920: I tensorflow/stream_executor/cuda/cuda_gpu_executor.cc:937] successful NUMA node read from SysFS had negative value (-1), but there must be at least one NUMA node, so returning NUMA node zero\n",
      "2022-10-18 17:03:28.662078: I tensorflow/stream_executor/cuda/cuda_gpu_executor.cc:937] successful NUMA node read from SysFS had negative value (-1), but there must be at least one NUMA node, so returning NUMA node zero\n",
      "2022-10-18 17:03:28.662744: I tensorflow/stream_executor/cuda/cuda_gpu_executor.cc:937] successful NUMA node read from SysFS had negative value (-1), but there must be at least one NUMA node, so returning NUMA node zero\n",
      "2022-10-18 17:03:28.663535: I tensorflow/core/platform/cpu_feature_guard.cc:142] This TensorFlow binary is optimized with oneAPI Deep Neural Network Library (oneDNN) to use the following CPU instructions in performance-critical operations:  AVX2 AVX512F FMA\n",
      "To enable them in other operations, rebuild TensorFlow with the appropriate compiler flags.\n",
      "2022-10-18 17:03:28.663832: I tensorflow/stream_executor/cuda/cuda_gpu_executor.cc:937] successful NUMA node read from SysFS had negative value (-1), but there must be at least one NUMA node, so returning NUMA node zero\n",
      "2022-10-18 17:03:28.664488: I tensorflow/stream_executor/cuda/cuda_gpu_executor.cc:937] successful NUMA node read from SysFS had negative value (-1), but there must be at least one NUMA node, so returning NUMA node zero\n",
      "2022-10-18 17:03:28.665157: I tensorflow/stream_executor/cuda/cuda_gpu_executor.cc:937] successful NUMA node read from SysFS had negative value (-1), but there must be at least one NUMA node, so returning NUMA node zero\n",
      "2022-10-18 17:03:36.245842: I tensorflow/stream_executor/cuda/cuda_gpu_executor.cc:937] successful NUMA node read from SysFS had negative value (-1), but there must be at least one NUMA node, so returning NUMA node zero\n",
      "2022-10-18 17:03:36.246601: I tensorflow/stream_executor/cuda/cuda_gpu_executor.cc:937] successful NUMA node read from SysFS had negative value (-1), but there must be at least one NUMA node, so returning NUMA node zero\n",
      "2022-10-18 17:03:36.247293: I tensorflow/stream_executor/cuda/cuda_gpu_executor.cc:937] successful NUMA node read from SysFS had negative value (-1), but there must be at least one NUMA node, so returning NUMA node zero\n",
      "2022-10-18 17:03:36.247874: I tensorflow/core/common_runtime/gpu/gpu_device.cc:1510] Created device /job:localhost/replica:0/task:0/device:GPU:0 with 14651 MB memory:  -> device: 0, name: Tesla P100-PCIE-16GB, pci bus id: 0000:00:04.0, compute capability: 6.0\n"
     ]
    },
    {
     "name": "stdout",
     "output_type": "stream",
     "text": [
      "Model: \"model\"\n",
      "__________________________________________________________________________________________________\n",
      "Layer (type)                    Output Shape         Param #     Connected to                     \n",
      "==================================================================================================\n",
      "input_1 (InputLayer)            [(None, 1024)]       0                                            \n",
      "__________________________________________________________________________________________________\n",
      "input_2 (InputLayer)            [(None, 1024)]       0                                            \n",
      "__________________________________________________________________________________________________\n",
      "input_3 (InputLayer)            [(None, 1024)]       0                                            \n",
      "__________________________________________________________________________________________________\n",
      "input_4 (InputLayer)            [(None, 1024)]       0                                            \n",
      "__________________________________________________________________________________________________\n",
      "embedding (Embedding)           (None, 1024, 128)    2560000     input_1[0][0]                    \n",
      "__________________________________________________________________________________________________\n",
      "embedding_1 (Embedding)         (None, 1024, 64)     1280        input_2[0][0]                    \n",
      "__________________________________________________________________________________________________\n",
      "embedding_2 (Embedding)         (None, 1024, 64)     3840        input_3[0][0]                    \n",
      "__________________________________________________________________________________________________\n",
      "embedding_3 (Embedding)         (None, 1024, 64)     1280        input_4[0][0]                    \n",
      "__________________________________________________________________________________________________\n",
      "spatial_dropout1d (SpatialDropo (None, 1024, 128)    0           embedding[0][0]                  \n",
      "__________________________________________________________________________________________________\n",
      "spatial_dropout1d_1 (SpatialDro (None, 1024, 64)     0           embedding_1[0][0]                \n",
      "__________________________________________________________________________________________________\n",
      "spatial_dropout1d_2 (SpatialDro (None, 1024, 64)     0           embedding_2[0][0]                \n",
      "__________________________________________________________________________________________________\n",
      "spatial_dropout1d_3 (SpatialDro (None, 1024, 64)     0           embedding_3[0][0]                \n",
      "__________________________________________________________________________________________________\n",
      "concatenate (Concatenate)       (None, 1024, 320)    0           spatial_dropout1d[0][0]          \n",
      "                                                                 spatial_dropout1d_1[0][0]        \n",
      "                                                                 spatial_dropout1d_2[0][0]        \n",
      "                                                                 spatial_dropout1d_3[0][0]        \n",
      "__________________________________________________________________________________________________\n",
      "conv1d (Conv1D)                 (None, 1024, 64)     81984       concatenate[0][0]                \n",
      "__________________________________________________________________________________________________\n",
      "conv1d_1 (Conv1D)               (None, 1024, 64)     16448       conv1d[0][0]                     \n",
      "__________________________________________________________________________________________________\n",
      "max_pooling1d (MaxPooling1D)    (None, 512, 64)      0           conv1d_1[0][0]                   \n",
      "__________________________________________________________________________________________________\n",
      "dropout (Dropout)               (None, 512, 64)      0           max_pooling1d[0][0]              \n",
      "__________________________________________________________________________________________________\n",
      "gru (GRU)                       (None, 32)           9408        dropout[0][0]                    \n",
      "__________________________________________________________________________________________________\n",
      "dense (Dense)                   (None, 20)           660         gru[0][0]                        \n",
      "==================================================================================================\n",
      "Total params: 2,674,900\n",
      "Trainable params: 2,674,900\n",
      "Non-trainable params: 0\n",
      "__________________________________________________________________________________________________\n"
     ]
    },
    {
     "data": {
      "image/png": "[encoded data removed]",
      "text/plain": [
       "<IPython.core.display.Image object>"
      ]
     },
     "execution_count": 7,
     "metadata": {},
     "output_type": "execute_result"
    }
   ],
   "source": [
    "input_tok = L.Input(shape=(seq_length))\n",
    "input_pos = L.Input(shape=(seq_length))\n",
    "input_tag = L.Input(shape=(seq_length))\n",
    "input_ner = L.Input(shape=(seq_length))\n",
    "\n",
    "emb_tok = L.Embedding(vocab_size, embed_dim_tok, input_length=seq_length)(input_tok)\n",
    "emb_pos = L.Embedding(vocab_pos, embed_dim_pos, input_length=seq_length)(input_pos)\n",
    "emb_tag = L.Embedding(vocab_tag, embed_dim_pos, input_length=seq_length)(input_tag)\n",
    "emb_ner = L.Embedding(vocab_ner, embed_dim_pos, input_length=seq_length)(input_ner)\n",
    "\n",
    "emb_tok = L.SpatialDropout1D(0.3)(emb_tok)\n",
    "emb_pos = L.SpatialDropout1D(0.3)(emb_pos)\n",
    "emb_tag = L.SpatialDropout1D(0.3)(emb_tag)\n",
    "emb_ner = L.SpatialDropout1D(0.3)(emb_ner)\n",
    "\n",
    "emb = L.Concatenate()([emb_tok, emb_pos, emb_tag, emb_ner])\n",
    "x = L.Conv1D(64, 4, padding='same', activation='relu')(emb)\n",
    "x = L.Conv1D(64, 4, padding='same', activation='relu')(x)\n",
    "x = L.MaxPool1D(2)(x)\n",
    "x = L.Dropout(0.3)(x)\n",
    "x = L.GRU(32)(x)\n",
    "\n",
    "outputs = L.Dense(20, activation='softmax')(x)\n",
    "\n",
    "model = models.Model(inputs=[input_tok, input_pos, input_tag, input_ner], outputs=outputs)\n",
    "model.summary()\n",
    "model.compile(optimizer='adam', loss='categorical_crossentropy', metrics='accuracy')\n",
    "es = callbacks.EarlyStopping(\n",
    "    monitor='val_loss', mode='min', verbose=1, patience=7, restore_best_weights=True\n",
    ")\n",
    "rlp = callbacks.ReduceLROnPlateau(monitor='val_loss', patience=3, verbose=1)\n",
    "utils.plot_model(model, show_shapes=True)"
   ]
  },
  {
   "cell_type": "code",
   "execution_count": 8,
   "id": "7a87929a",
   "metadata": {
    "execution": {
     "iopub.execute_input": "2022-10-18T17:03:38.354212Z",
     "iopub.status.busy": "2022-10-18T17:03:38.353890Z",
     "iopub.status.idle": "2022-10-18T17:11:36.825704Z",
     "shell.execute_reply": "2022-10-18T17:11:36.824438Z"
    },
    "papermill": {
     "duration": 478.482459,
     "end_time": "2022-10-18T17:11:36.828737",
     "exception": false,
     "start_time": "2022-10-18T17:03:38.346278",
     "status": "completed"
    },
    "tags": []
   },
   "outputs": [
    {
     "name": "stderr",
     "output_type": "stream",
     "text": [
      "2022-10-18 17:03:38.648717: I tensorflow/compiler/mlir/mlir_graph_optimization_pass.cc:185] None of the MLIR Optimization Passes are enabled (registered 2)\n"
     ]
    },
    {
     "name": "stdout",
     "output_type": "stream",
     "text": [
      "Epoch 1/100\n"
     ]
    },
    {
     "name": "stderr",
     "output_type": "stream",
     "text": [
      "2022-10-18 17:03:41.638017: I tensorflow/stream_executor/cuda/cuda_dnn.cc:369] Loaded cuDNN version 8005\n"
     ]
    },
    {
     "name": "stdout",
     "output_type": "stream",
     "text": [
      "531/531 [==============================] - 28s 36ms/step - loss: 2.9738 - accuracy: 0.0574 - val_loss: 2.9585 - val_accuracy: 0.0679\n",
      "Epoch 2/100\n",
      "531/531 [==============================] - 19s 35ms/step - loss: 2.9455 - accuracy: 0.0673 - val_loss: 2.9461 - val_accuracy: 0.0721\n",
      "Epoch 3/100\n",
      "531/531 [==============================] - 19s 35ms/step - loss: 2.9241 - accuracy: 0.0748 - val_loss: 2.9395 - val_accuracy: 0.0732\n",
      "Epoch 4/100\n",
      "531/531 [==============================] - 19s 35ms/step - loss: 2.8949 - accuracy: 0.0873 - val_loss: 2.9281 - val_accuracy: 0.0801\n",
      "Epoch 5/100\n",
      "531/531 [==============================] - 19s 35ms/step - loss: 2.8252 - accuracy: 0.1021 - val_loss: 2.7875 - val_accuracy: 0.1167\n",
      "Epoch 6/100\n",
      "531/531 [==============================] - 19s 35ms/step - loss: 2.7550 - accuracy: 0.1269 - val_loss: 2.7781 - val_accuracy: 0.1353\n",
      "Epoch 7/100\n",
      "531/531 [==============================] - 19s 35ms/step - loss: 2.4634 - accuracy: 0.2037 - val_loss: 2.1423 - val_accuracy: 0.3279\n",
      "Epoch 8/100\n",
      "531/531 [==============================] - 19s 35ms/step - loss: 1.7594 - accuracy: 0.4336 - val_loss: 1.4403 - val_accuracy: 0.5411\n",
      "Epoch 9/100\n",
      "531/531 [==============================] - 19s 36ms/step - loss: 1.1613 - accuracy: 0.6366 - val_loss: 1.0554 - val_accuracy: 0.6801\n",
      "Epoch 10/100\n",
      "531/531 [==============================] - 19s 35ms/step - loss: 0.7992 - accuracy: 0.7641 - val_loss: 0.8127 - val_accuracy: 0.7682\n",
      "Epoch 11/100\n",
      "531/531 [==============================] - 19s 35ms/step - loss: 0.5539 - accuracy: 0.8428 - val_loss: 0.6885 - val_accuracy: 0.8064\n",
      "Epoch 12/100\n",
      "531/531 [==============================] - 19s 35ms/step - loss: 0.3864 - accuracy: 0.8921 - val_loss: 0.6131 - val_accuracy: 0.8286\n",
      "Epoch 13/100\n",
      "531/531 [==============================] - 19s 35ms/step - loss: 0.2900 - accuracy: 0.9208 - val_loss: 0.5832 - val_accuracy: 0.8477\n",
      "Epoch 14/100\n",
      "531/531 [==============================] - 19s 35ms/step - loss: 0.2227 - accuracy: 0.9396 - val_loss: 0.5683 - val_accuracy: 0.8456\n",
      "Epoch 15/100\n",
      "531/531 [==============================] - 19s 35ms/step - loss: 0.1836 - accuracy: 0.9469 - val_loss: 0.5682 - val_accuracy: 0.8472\n",
      "Epoch 16/100\n",
      "531/531 [==============================] - 19s 36ms/step - loss: 0.1413 - accuracy: 0.9611 - val_loss: 0.5502 - val_accuracy: 0.8584\n",
      "Epoch 17/100\n",
      "531/531 [==============================] - 19s 35ms/step - loss: 0.1136 - accuracy: 0.9695 - val_loss: 0.5786 - val_accuracy: 0.8562\n",
      "Epoch 18/100\n",
      "531/531 [==============================] - 19s 35ms/step - loss: 0.0893 - accuracy: 0.9748 - val_loss: 0.5307 - val_accuracy: 0.8647\n",
      "Epoch 19/100\n",
      "531/531 [==============================] - 19s 35ms/step - loss: 0.0802 - accuracy: 0.9783 - val_loss: 0.5637 - val_accuracy: 0.8684\n",
      "Epoch 20/100\n",
      "531/531 [==============================] - 19s 35ms/step - loss: 0.0671 - accuracy: 0.9814 - val_loss: 0.6064 - val_accuracy: 0.8557\n",
      "Epoch 21/100\n",
      "531/531 [==============================] - 19s 36ms/step - loss: 0.0580 - accuracy: 0.9840 - val_loss: 0.5533 - val_accuracy: 0.8727\n",
      "\n",
      "Epoch 00021: ReduceLROnPlateau reducing learning rate to 0.00010000000474974513.\n",
      "Epoch 22/100\n",
      "531/531 [==============================] - 19s 35ms/step - loss: 0.0394 - accuracy: 0.9887 - val_loss: 0.5596 - val_accuracy: 0.8753\n",
      "Epoch 23/100\n",
      "531/531 [==============================] - 19s 35ms/step - loss: 0.0334 - accuracy: 0.9913 - val_loss: 0.5712 - val_accuracy: 0.8737\n",
      "Epoch 24/100\n",
      "531/531 [==============================] - 19s 35ms/step - loss: 0.0297 - accuracy: 0.9934 - val_loss: 0.5580 - val_accuracy: 0.8753\n",
      "\n",
      "Epoch 00024: ReduceLROnPlateau reducing learning rate to 1.0000000474974514e-05.\n",
      "Epoch 25/100\n",
      "531/531 [==============================] - 19s 35ms/step - loss: 0.0269 - accuracy: 0.9942 - val_loss: 0.5603 - val_accuracy: 0.8753\n",
      "Restoring model weights from the end of the best epoch.\n",
      "Epoch 00025: early stopping\n"
     ]
    }
   ],
   "source": [
    "history = model.fit(\n",
    "    [lem_train, pos_train, tag_train, ner_train], y_train, \n",
    "    validation_data=([lem_valid, pos_valid, tag_valid, ner_valid], y_valid),\n",
    "    callbacks=[es, rlp], epochs=MAX_EPOCHS\n",
    ")\n",
    "model.save('stacked_embedding-1dCNN-GRU.h5')"
   ]
  },
  {
   "cell_type": "markdown",
   "id": "a25485ae",
   "metadata": {
    "papermill": {
     "duration": 0.341432,
     "end_time": "2022-10-18T17:11:37.527368",
     "exception": false,
     "start_time": "2022-10-18T17:11:37.185936",
     "status": "completed"
    },
    "tags": []
   },
   "source": [
    "# Visualising the Embeddings"
   ]
  },
  {
   "cell_type": "code",
   "execution_count": 9,
   "id": "661133e4",
   "metadata": {
    "execution": {
     "iopub.execute_input": "2022-10-18T17:11:38.271863Z",
     "iopub.status.busy": "2022-10-18T17:11:38.271475Z",
     "iopub.status.idle": "2022-10-18T17:11:38.276498Z",
     "shell.execute_reply": "2022-10-18T17:11:38.275433Z"
    },
    "papermill": {
     "duration": 0.353806,
     "end_time": "2022-10-18T17:11:38.278869",
     "exception": false,
     "start_time": "2022-10-18T17:11:37.925063",
     "status": "completed"
    },
    "tags": []
   },
   "outputs": [],
   "source": [
    "import matplotlib.pyplot as plt"
   ]
  },
  {
   "cell_type": "code",
   "execution_count": 10,
   "id": "f3365c80",
   "metadata": {
    "execution": {
     "iopub.execute_input": "2022-10-18T17:11:38.964487Z",
     "iopub.status.busy": "2022-10-18T17:11:38.964132Z",
     "iopub.status.idle": "2022-10-18T17:11:39.292515Z",
     "shell.execute_reply": "2022-10-18T17:11:39.291559Z"
    },
    "papermill": {
     "duration": 0.676307,
     "end_time": "2022-10-18T17:11:39.294885",
     "exception": false,
     "start_time": "2022-10-18T17:11:38.618578",
     "status": "completed"
    },
    "tags": []
   },
   "outputs": [],
   "source": [
    "model = models.load_model('stacked_embedding-1dCNN-GRU.h5')\n",
    "feature_extractor_1 = models.Model(inputs=model.inputs, outputs=model.layers[13].output)\n",
    "feature_extractor_2 = models.Model(inputs=model.inputs, outputs=model.layers[14].output)"
   ]
  },
  {
   "cell_type": "code",
   "execution_count": 11,
   "id": "8f8916e7",
   "metadata": {
    "execution": {
     "iopub.execute_input": "2022-10-18T17:11:40.034865Z",
     "iopub.status.busy": "2022-10-18T17:11:40.034489Z",
     "iopub.status.idle": "2022-10-18T17:11:40.039726Z",
     "shell.execute_reply": "2022-10-18T17:11:40.038805Z"
    },
    "papermill": {
     "duration": 0.34993,
     "end_time": "2022-10-18T17:11:40.041824",
     "exception": false,
     "start_time": "2022-10-18T17:11:39.691894",
     "status": "completed"
    },
    "tags": []
   },
   "outputs": [],
   "source": [
    "def get_seq_length(seq):\n",
    "    return [i for i in range(1023, -1, -1)  if lem_valid[index][i] != 0][0]"
   ]
  },
  {
   "cell_type": "code",
   "execution_count": 12,
   "id": "5f43669c",
   "metadata": {
    "execution": {
     "iopub.execute_input": "2022-10-18T17:11:40.727737Z",
     "iopub.status.busy": "2022-10-18T17:11:40.727380Z",
     "iopub.status.idle": "2022-10-18T17:11:41.155752Z",
     "shell.execute_reply": "2022-10-18T17:11:41.154708Z"
    },
    "papermill": {
     "duration": 0.773501,
     "end_time": "2022-10-18T17:11:41.157920",
     "exception": false,
     "start_time": "2022-10-18T17:11:40.384419",
     "status": "completed"
    },
    "tags": []
   },
   "outputs": [
    {
     "data": {
      "image/png": "[encoded data removed]",
      "text/plain": [
       "<Figure size 2880x864 with 2 Axes>"
      ]
     },
     "metadata": {
      "needs_background": "light"
     },
     "output_type": "display_data"
    }
   ],
   "source": [
    "index = 19\n",
    "inputs = [\n",
    "    lem_valid[index:index+1], pos_valid[index:index+1], \n",
    "    tag_valid[index:index+1], ner_valid[index:index+1]\n",
    "]\n",
    "length = get_seq_length(inputs[0][0])\n",
    "fig, ax = plt.subplots(2, 1, figsize=(40, 12))\n",
    "ax[0].imshow(feature_extractor_1(inputs).numpy()[0].T[:, :length])\n",
    "ax[1].imshow(feature_extractor_2(inputs).numpy()[0].T[:, :length])\n",
    "\n",
    "for i in range(2):\n",
    "    ax[i].set_xlabel('Token')\n",
    "    ax[i].set_xlabel('Embedding')\n",
    "    ax[i].set_title(f'Conv Layer {i+1}')\n",
    "    for y in [25, 39, 52]:\n",
    "        ax[i].axhline(y=y, color='r', linestyle='--')\n",
    "    for y, text in zip([13, 32, 45, 58], ['token', 'pos', 'tag', 'ner']):\n",
    "        ax[i].text(length//2 - 5, y, text, color='r')"
   ]
  },
  {
   "cell_type": "code",
   "execution_count": null,
   "id": "fc127c6b",
   "metadata": {
    "papermill": {
     "duration": 0.389715,
     "end_time": "2022-10-18T17:11:41.889436",
     "exception": false,
     "start_time": "2022-10-18T17:11:41.499721",
     "status": "completed"
    },
    "tags": []
   },
   "outputs": [],
   "source": []
  }
 ],
 "metadata": {
  "kernelspec": {
   "display_name": "Python 3",
   "language": "python",
   "name": "python3"
  },
  "language_info": {
   "codemirror_mode": {
    "name": "ipython",
    "version": 3
   },
   "file_extension": ".py",
   "mimetype": "text/x-python",
   "name": "python",
   "nbconvert_exporter": "python",
   "pygments_lexer": "ipython3",
   "version": "3.7.12"
  },
  "papermill": {
   "default_parameters": {},
   "duration": 2781.855021,
   "end_time": "2022-10-18T17:11:45.262305",
   "environment_variables": {},
   "exception": null,
   "input_path": "__notebook__.ipynb",
   "output_path": "__notebook__.ipynb",
   "parameters": {},
   "start_time": "2022-10-18T16:25:23.407284",
   "version": "2.3.4"
  },
  "widgets": {
   "application/vnd.jupyter.widget-state+json": {
    "state": {
     "03c3955a53f74b2c9f44cd2932f2cb66": {
      "model_module": "@jupyter-widgets/base",
      "model_module_version": "1.2.0",
      "model_name": "LayoutModel",
      "state": {
       "_model_module": "@jupyter-widgets/base",
       "_model_module_version": "1.2.0",
       "_model_name": "LayoutModel",
       "_view_count": null,
       "_view_module": "@jupyter-widgets/base",
       "_view_module_version": "1.2.0",
       "_view_name": "LayoutView",
       "align_content": null,
       "align_items": null,
       "align_self": null,
       "border": null,
       "bottom": null,
       "display": null,
       "flex": null,
       "flex_flow": null,
       "grid_area": null,
       "grid_auto_columns": null,
       "grid_auto_flow": null,
       "grid_auto_rows": null,
       "grid_column": null,
       "grid_gap": null,
       "grid_row": null,
       "grid_template_areas": null,
       "grid_template_columns": null,
       "grid_template_rows": null,
       "height": null,
       "justify_content": null,
       "justify_items": null,
       "left": null,
       "margin": null,
       "max_height": null,
       "max_width": null,
       "min_height": null,
       "min_width": null,
       "object_fit": null,
       "object_position": null,
       "order": null,
       "overflow": null,
       "overflow_x": null,
       "overflow_y": null,
       "padding": null,
       "right": null,
       "top": null,
       "visibility": null,
       "width": null
      }
     },
     "048f41cdc29a4261a80a41f589293b83": {
      "model_module": "@jupyter-widgets/base",
      "model_module_version": "1.2.0",
      "model_name": "LayoutModel",
      "state": {
       "_model_module": "@jupyter-widgets/base",
       "_model_module_version": "1.2.0",
       "_model_name": "LayoutModel",
       "_view_count": null,
       "_view_module": "@jupyter-widgets/base",
       "_view_module_version": "1.2.0",
       "_view_name": "LayoutView",
       "align_content": null,
       "align_items": null,
       "align_self": null,
       "border": null,
       "bottom": null,
       "display": null,
       "flex": null,
       "flex_flow": null,
       "grid_area": null,
       "grid_auto_columns": null,
       "grid_auto_flow": null,
       "grid_auto_rows": null,
       "grid_column": null,
       "grid_gap": null,
       "grid_row": null,
       "grid_template_areas": null,
       "grid_template_columns": null,
       "grid_template_rows": null,
       "height": null,
       "justify_content": null,
       "justify_items": null,
       "left": null,
       "margin": null,
       "max_height": null,
       "max_width": null,
       "min_height": null,
       "min_width": null,
       "object_fit": null,
       "object_position": null,
       "order": null,
       "overflow": null,
       "overflow_x": null,
       "overflow_y": null,
       "padding": null,
       "right": null,
       "top": null,
       "visibility": null,
       "width": null
      }
     },
     "059aded76c0441a988965c5602d348e4": {
      "model_module": "@jupyter-widgets/base",
      "model_module_version": "1.2.0",
      "model_name": "LayoutModel",
      "state": {
       "_model_module": "@jupyter-widgets/base",
       "_model_module_version": "1.2.0",
       "_model_name": "LayoutModel",
       "_view_count": null,
       "_view_module": "@jupyter-widgets/base",
       "_view_module_version": "1.2.0",
       "_view_name": "LayoutView",
       "align_content": null,
       "align_items": null,
       "align_self": null,
       "border": null,
       "bottom": null,
       "display": null,
       "flex": null,
       "flex_flow": null,
       "grid_area": null,
       "grid_auto_columns": null,
       "grid_auto_flow": null,
       "grid_auto_rows": null,
       "grid_column": null,
       "grid_gap": null,
       "grid_row": null,
       "grid_template_areas": null,
       "grid_template_columns": null,
       "grid_template_rows": null,
       "height": null,
       "justify_content": null,
       "justify_items": null,
       "left": null,
       "margin": null,
       "max_height": null,
       "max_width": null,
       "min_height": null,
       "min_width": null,
       "object_fit": null,
       "object_position": null,
       "order": null,
       "overflow": null,
       "overflow_x": null,
       "overflow_y": null,
       "padding": null,
       "right": null,
       "top": null,
       "visibility": null,
       "width": null
      }
     },
     "24e2331efd3f4646a99775692b00226a": {
      "model_module": "@jupyter-widgets/controls",
      "model_module_version": "1.5.0",
      "model_name": "DescriptionStyleModel",
      "state": {
       "_model_module": "@jupyter-widgets/controls",
       "_model_module_version": "1.5.0",
       "_model_name": "DescriptionStyleModel",
       "_view_count": null,
       "_view_module": "@jupyter-widgets/base",
       "_view_module_version": "1.2.0",
       "_view_name": "StyleView",
       "description_width": ""
      }
     },
     "269860734e7a41f086ca3081cbea4f1f": {
      "model_module": "@jupyter-widgets/controls",
      "model_module_version": "1.5.0",
      "model_name": "ProgressStyleModel",
      "state": {
       "_model_module": "@jupyter-widgets/controls",
       "_model_module_version": "1.5.0",
       "_model_name": "ProgressStyleModel",
       "_view_count": null,
       "_view_module": "@jupyter-widgets/base",
       "_view_module_version": "1.2.0",
       "_view_name": "StyleView",
       "bar_color": null,
       "description_width": ""
      }
     },
     "2ac6e3cb72d8426e9a731af4a9899e25": {
      "model_module": "@jupyter-widgets/controls",
      "model_module_version": "1.5.0",
      "model_name": "HTMLModel",
      "state": {
       "_dom_classes": [],
       "_model_module": "@jupyter-widgets/controls",
       "_model_module_version": "1.5.0",
       "_model_name": "HTMLModel",
       "_view_count": null,
       "_view_module": "@jupyter-widgets/controls",
       "_view_module_version": "1.5.0",
       "_view_name": "HTMLView",
       "description": "",
       "description_tooltip": null,
       "layout": "IPY_MODEL_048f41cdc29a4261a80a41f589293b83",
       "placeholder": "​",
       "style": "IPY_MODEL_9fb82af313c54de4b94afa9a81c209cf",
       "value": " 1885/1885 [01:42&lt;00:00, 23.29it/s]"
      }
     },
     "31fb6e251d1041e6800253ffded24d55": {
      "model_module": "@jupyter-widgets/controls",
      "model_module_version": "1.5.0",
      "model_name": "HTMLModel",
      "state": {
       "_dom_classes": [],
       "_model_module": "@jupyter-widgets/controls",
       "_model_module_version": "1.5.0",
       "_model_name": "HTMLModel",
       "_view_count": null,
       "_view_module": "@jupyter-widgets/controls",
       "_view_module_version": "1.5.0",
       "_view_name": "HTMLView",
       "description": "",
       "description_tooltip": null,
       "layout": "IPY_MODEL_a3f23561e30e4ab885458630cf801698",
       "placeholder": "​",
       "style": "IPY_MODEL_adb2f9e8d99446b59be86b4de58c6572",
       "value": "100%"
      }
     },
     "3d0f4df59a1d4c5fb3c8a999d6163f0b": {
      "model_module": "@jupyter-widgets/controls",
      "model_module_version": "1.5.0",
      "model_name": "DescriptionStyleModel",
      "state": {
       "_model_module": "@jupyter-widgets/controls",
       "_model_module_version": "1.5.0",
       "_model_name": "DescriptionStyleModel",
       "_view_count": null,
       "_view_module": "@jupyter-widgets/base",
       "_view_module_version": "1.2.0",
       "_view_name": "StyleView",
       "description_width": ""
      }
     },
     "4e78b7e8524c41c591584473f14d714c": {
      "model_module": "@jupyter-widgets/base",
      "model_module_version": "1.2.0",
      "model_name": "LayoutModel",
      "state": {
       "_model_module": "@jupyter-widgets/base",
       "_model_module_version": "1.2.0",
       "_model_name": "LayoutModel",
       "_view_count": null,
       "_view_module": "@jupyter-widgets/base",
       "_view_module_version": "1.2.0",
       "_view_name": "LayoutView",
       "align_content": null,
       "align_items": null,
       "align_self": null,
       "border": null,
       "bottom": null,
       "display": null,
       "flex": null,
       "flex_flow": null,
       "grid_area": null,
       "grid_auto_columns": null,
       "grid_auto_flow": null,
       "grid_auto_rows": null,
       "grid_column": null,
       "grid_gap": null,
       "grid_row": null,
       "grid_template_areas": null,
       "grid_template_columns": null,
       "grid_template_rows": null,
       "height": null,
       "justify_content": null,
       "justify_items": null,
       "left": null,
       "margin": null,
       "max_height": null,
       "max_width": null,
       "min_height": null,
       "min_width": null,
       "object_fit": null,
       "object_position": null,
       "order": null,
       "overflow": null,
       "overflow_x": null,
       "overflow_y": null,
       "padding": null,
       "right": null,
       "top": null,
       "visibility": null,
       "width": null
      }
     },
     "54fc60c1d7024b90adfcfbfec18af22f": {
      "model_module": "@jupyter-widgets/controls",
      "model_module_version": "1.5.0",
      "model_name": "DescriptionStyleModel",
      "state": {
       "_model_module": "@jupyter-widgets/controls",
       "_model_module_version": "1.5.0",
       "_model_name": "DescriptionStyleModel",
       "_view_count": null,
       "_view_module": "@jupyter-widgets/base",
       "_view_module_version": "1.2.0",
       "_view_name": "StyleView",
       "description_width": ""
      }
     },
     "5715344a5a184c9eaa1446c835c82f9f": {
      "model_module": "@jupyter-widgets/controls",
      "model_module_version": "1.5.0",
      "model_name": "HTMLModel",
      "state": {
       "_dom_classes": [],
       "_model_module": "@jupyter-widgets/controls",
       "_model_module_version": "1.5.0",
       "_model_name": "HTMLModel",
       "_view_count": null,
       "_view_module": "@jupyter-widgets/controls",
       "_view_module_version": "1.5.0",
       "_view_name": "HTMLView",
       "description": "",
       "description_tooltip": null,
       "layout": "IPY_MODEL_4e78b7e8524c41c591584473f14d714c",
       "placeholder": "​",
       "style": "IPY_MODEL_a36d93253c23431ead9076138cc686d2",
       "value": "100%"
      }
     },
     "58457ba531724efd9f51756c4f4405a2": {
      "model_module": "@jupyter-widgets/controls",
      "model_module_version": "1.5.0",
      "model_name": "HTMLModel",
      "state": {
       "_dom_classes": [],
       "_model_module": "@jupyter-widgets/controls",
       "_model_module_version": "1.5.0",
       "_model_name": "HTMLModel",
       "_view_count": null,
       "_view_module": "@jupyter-widgets/controls",
       "_view_module_version": "1.5.0",
       "_view_name": "HTMLView",
       "description": "",
       "description_tooltip": null,
       "layout": "IPY_MODEL_5940e94e6809455fbeabdbd4d839ea5b",
       "placeholder": "​",
       "style": "IPY_MODEL_24e2331efd3f4646a99775692b00226a",
       "value": " 1885/1885 [01:46&lt;00:00, 21.87it/s]"
      }
     },
     "5940e94e6809455fbeabdbd4d839ea5b": {
      "model_module": "@jupyter-widgets/base",
      "model_module_version": "1.2.0",
      "model_name": "LayoutModel",
      "state": {
       "_model_module": "@jupyter-widgets/base",
       "_model_module_version": "1.2.0",
       "_model_name": "LayoutModel",
       "_view_count": null,
       "_view_module": "@jupyter-widgets/base",
       "_view_module_version": "1.2.0",
       "_view_name": "LayoutView",
       "align_content": null,
       "align_items": null,
       "align_self": null,
       "border": null,
       "bottom": null,
       "display": null,
       "flex": null,
       "flex_flow": null,
       "grid_area": null,
       "grid_auto_columns": null,
       "grid_auto_flow": null,
       "grid_auto_rows": null,
       "grid_column": null,
       "grid_gap": null,
       "grid_row": null,
       "grid_template_areas": null,
       "grid_template_columns": null,
       "grid_template_rows": null,
       "height": null,
       "justify_content": null,
       "justify_items": null,
       "left": null,
       "margin": null,
       "max_height": null,
       "max_width": null,
       "min_height": null,
       "min_width": null,
       "object_fit": null,
       "object_position": null,
       "order": null,
       "overflow": null,
       "overflow_x": null,
       "overflow_y": null,
       "padding": null,
       "right": null,
       "top": null,
       "visibility": null,
       "width": null
      }
     },
     "5ad55506d1254c12a7c54c6d73d1a9bb": {
      "model_module": "@jupyter-widgets/controls",
      "model_module_version": "1.5.0",
      "model_name": "HBoxModel",
      "state": {
       "_dom_classes": [],
       "_model_module": "@jupyter-widgets/controls",
       "_model_module_version": "1.5.0",
       "_model_name": "HBoxModel",
       "_view_count": null,
       "_view_module": "@jupyter-widgets/controls",
       "_view_module_version": "1.5.0",
       "_view_name": "HBoxView",
       "box_style": "",
       "children": [
        "IPY_MODEL_31fb6e251d1041e6800253ffded24d55",
        "IPY_MODEL_eaa6e8a577fb4432aadc35a87667c437",
        "IPY_MODEL_adfb5e02e7ce4240941533d4165ba736"
       ],
       "layout": "IPY_MODEL_68739f7b0c9a4ebd9b229f77b3eced12"
      }
     },
     "5d2c97587ce74e9f94ae3401a77b5e66": {
      "model_module": "@jupyter-widgets/base",
      "model_module_version": "1.2.0",
      "model_name": "LayoutModel",
      "state": {
       "_model_module": "@jupyter-widgets/base",
       "_model_module_version": "1.2.0",
       "_model_name": "LayoutModel",
       "_view_count": null,
       "_view_module": "@jupyter-widgets/base",
       "_view_module_version": "1.2.0",
       "_view_name": "LayoutView",
       "align_content": null,
       "align_items": null,
       "align_self": null,
       "border": null,
       "bottom": null,
       "display": null,
       "flex": null,
       "flex_flow": null,
       "grid_area": null,
       "grid_auto_columns": null,
       "grid_auto_flow": null,
       "grid_auto_rows": null,
       "grid_column": null,
       "grid_gap": null,
       "grid_row": null,
       "grid_template_areas": null,
       "grid_template_columns": null,
       "grid_template_rows": null,
       "height": null,
       "justify_content": null,
       "justify_items": null,
       "left": null,
       "margin": null,
       "max_height": null,
       "max_width": null,
       "min_height": null,
       "min_width": null,
       "object_fit": null,
       "object_position": null,
       "order": null,
       "overflow": null,
       "overflow_x": null,
       "overflow_y": null,
       "padding": null,
       "right": null,
       "top": null,
       "visibility": null,
       "width": null
      }
     },
     "641b92a5f7a94ff09c2824ec3f7774a6": {
      "model_module": "@jupyter-widgets/base",
      "model_module_version": "1.2.0",
      "model_name": "LayoutModel",
      "state": {
       "_model_module": "@jupyter-widgets/base",
       "_model_module_version": "1.2.0",
       "_model_name": "LayoutModel",
       "_view_count": null,
       "_view_module": "@jupyter-widgets/base",
       "_view_module_version": "1.2.0",
       "_view_name": "LayoutView",
       "align_content": null,
       "align_items": null,
       "align_self": null,
       "border": null,
       "bottom": null,
       "display": null,
       "flex": null,
       "flex_flow": null,
       "grid_area": null,
       "grid_auto_columns": null,
       "grid_auto_flow": null,
       "grid_auto_rows": null,
       "grid_column": null,
       "grid_gap": null,
       "grid_row": null,
       "grid_template_areas": null,
       "grid_template_columns": null,
       "grid_template_rows": null,
       "height": null,
       "justify_content": null,
       "justify_items": null,
       "left": null,
       "margin": null,
       "max_height": null,
       "max_width": null,
       "min_height": null,
       "min_width": null,
       "object_fit": null,
       "object_position": null,
       "order": null,
       "overflow": null,
       "overflow_x": null,
       "overflow_y": null,
       "padding": null,
       "right": null,
       "top": null,
       "visibility": null,
       "width": null
      }
     },
     "66a8d13275e64e8da992d0565659372a": {
      "model_module": "@jupyter-widgets/base",
      "model_module_version": "1.2.0",
      "model_name": "LayoutModel",
      "state": {
       "_model_module": "@jupyter-widgets/base",
       "_model_module_version": "1.2.0",
       "_model_name": "LayoutModel",
       "_view_count": null,
       "_view_module": "@jupyter-widgets/base",
       "_view_module_version": "1.2.0",
       "_view_name": "LayoutView",
       "align_content": null,
       "align_items": null,
       "align_self": null,
       "border": null,
       "bottom": null,
       "display": null,
       "flex": null,
       "flex_flow": null,
       "grid_area": null,
       "grid_auto_columns": null,
       "grid_auto_flow": null,
       "grid_auto_rows": null,
       "grid_column": null,
       "grid_gap": null,
       "grid_row": null,
       "grid_template_areas": null,
       "grid_template_columns": null,
       "grid_template_rows": null,
       "height": null,
       "justify_content": null,
       "justify_items": null,
       "left": null,
       "margin": null,
       "max_height": null,
       "max_width": null,
       "min_height": null,
       "min_width": null,
       "object_fit": null,
       "object_position": null,
       "order": null,
       "overflow": null,
       "overflow_x": null,
       "overflow_y": null,
       "padding": null,
       "right": null,
       "top": null,
       "visibility": null,
       "width": null
      }
     },
     "678c1806ce754198bd0659b2a46ed321": {
      "model_module": "@jupyter-widgets/controls",
      "model_module_version": "1.5.0",
      "model_name": "DescriptionStyleModel",
      "state": {
       "_model_module": "@jupyter-widgets/controls",
       "_model_module_version": "1.5.0",
       "_model_name": "DescriptionStyleModel",
       "_view_count": null,
       "_view_module": "@jupyter-widgets/base",
       "_view_module_version": "1.2.0",
       "_view_name": "StyleView",
       "description_width": ""
      }
     },
     "68739f7b0c9a4ebd9b229f77b3eced12": {
      "model_module": "@jupyter-widgets/base",
      "model_module_version": "1.2.0",
      "model_name": "LayoutModel",
      "state": {
       "_model_module": "@jupyter-widgets/base",
       "_model_module_version": "1.2.0",
       "_model_name": "LayoutModel",
       "_view_count": null,
       "_view_module": "@jupyter-widgets/base",
       "_view_module_version": "1.2.0",
       "_view_name": "LayoutView",
       "align_content": null,
       "align_items": null,
       "align_self": null,
       "border": null,
       "bottom": null,
       "display": null,
       "flex": null,
       "flex_flow": null,
       "grid_area": null,
       "grid_auto_columns": null,
       "grid_auto_flow": null,
       "grid_auto_rows": null,
       "grid_column": null,
       "grid_gap": null,
       "grid_row": null,
       "grid_template_areas": null,
       "grid_template_columns": null,
       "grid_template_rows": null,
       "height": null,
       "justify_content": null,
       "justify_items": null,
       "left": null,
       "margin": null,
       "max_height": null,
       "max_width": null,
       "min_height": null,
       "min_width": null,
       "object_fit": null,
       "object_position": null,
       "order": null,
       "overflow": null,
       "overflow_x": null,
       "overflow_y": null,
       "padding": null,
       "right": null,
       "top": null,
       "visibility": null,
       "width": null
      }
     },
     "71391ac1432241db8c59eb4379d0eb99": {
      "model_module": "@jupyter-widgets/controls",
      "model_module_version": "1.5.0",
      "model_name": "HTMLModel",
      "state": {
       "_dom_classes": [],
       "_model_module": "@jupyter-widgets/controls",
       "_model_module_version": "1.5.0",
       "_model_name": "HTMLModel",
       "_view_count": null,
       "_view_module": "@jupyter-widgets/controls",
       "_view_module_version": "1.5.0",
       "_view_name": "HTMLView",
       "description": "",
       "description_tooltip": null,
       "layout": "IPY_MODEL_d2df8cbba6af454996095450f610e0c9",
       "placeholder": "​",
       "style": "IPY_MODEL_54fc60c1d7024b90adfcfbfec18af22f",
       "value": " 16961/16961 [16:25&lt;00:00, 17.09it/s]"
      }
     },
     "7578902996fa4fa9b9927927367d2f0a": {
      "model_module": "@jupyter-widgets/controls",
      "model_module_version": "1.5.0",
      "model_name": "HBoxModel",
      "state": {
       "_dom_classes": [],
       "_model_module": "@jupyter-widgets/controls",
       "_model_module_version": "1.5.0",
       "_model_name": "HBoxModel",
       "_view_count": null,
       "_view_module": "@jupyter-widgets/controls",
       "_view_module_version": "1.5.0",
       "_view_name": "HBoxView",
       "box_style": "",
       "children": [
        "IPY_MODEL_a833a0331e8a4782a622568935bb36fc",
        "IPY_MODEL_dd2d570892d14c7da08e3b6726336d95",
        "IPY_MODEL_58457ba531724efd9f51756c4f4405a2"
       ],
       "layout": "IPY_MODEL_86966a01b0a24cfda3b01260eb950f3d"
      }
     },
     "78a4f1e261b7415d81ab9b6b9c06fc5f": {
      "model_module": "@jupyter-widgets/base",
      "model_module_version": "1.2.0",
      "model_name": "LayoutModel",
      "state": {
       "_model_module": "@jupyter-widgets/base",
       "_model_module_version": "1.2.0",
       "_model_name": "LayoutModel",
       "_view_count": null,
       "_view_module": "@jupyter-widgets/base",
       "_view_module_version": "1.2.0",
       "_view_name": "LayoutView",
       "align_content": null,
       "align_items": null,
       "align_self": null,
       "border": null,
       "bottom": null,
       "display": null,
       "flex": null,
       "flex_flow": null,
       "grid_area": null,
       "grid_auto_columns": null,
       "grid_auto_flow": null,
       "grid_auto_rows": null,
       "grid_column": null,
       "grid_gap": null,
       "grid_row": null,
       "grid_template_areas": null,
       "grid_template_columns": null,
       "grid_template_rows": null,
       "height": null,
       "justify_content": null,
       "justify_items": null,
       "left": null,
       "margin": null,
       "max_height": null,
       "max_width": null,
       "min_height": null,
       "min_width": null,
       "object_fit": null,
       "object_position": null,
       "order": null,
       "overflow": null,
       "overflow_x": null,
       "overflow_y": null,
       "padding": null,
       "right": null,
       "top": null,
       "visibility": null,
       "width": null
      }
     },
     "791a0c8f6a5d4d4cafb981b9a2b17416": {
      "model_module": "@jupyter-widgets/controls",
      "model_module_version": "1.5.0",
      "model_name": "ProgressStyleModel",
      "state": {
       "_model_module": "@jupyter-widgets/controls",
       "_model_module_version": "1.5.0",
       "_model_name": "ProgressStyleModel",
       "_view_count": null,
       "_view_module": "@jupyter-widgets/base",
       "_view_module_version": "1.2.0",
       "_view_name": "StyleView",
       "bar_color": null,
       "description_width": ""
      }
     },
     "7d1f641a34584c9c8321ee11f118bd65": {
      "model_module": "@jupyter-widgets/controls",
      "model_module_version": "1.5.0",
      "model_name": "FloatProgressModel",
      "state": {
       "_dom_classes": [],
       "_model_module": "@jupyter-widgets/controls",
       "_model_module_version": "1.5.0",
       "_model_name": "FloatProgressModel",
       "_view_count": null,
       "_view_module": "@jupyter-widgets/controls",
       "_view_module_version": "1.5.0",
       "_view_name": "ProgressView",
       "bar_style": "success",
       "description": "",
       "description_tooltip": null,
       "layout": "IPY_MODEL_b382dd3918644fa699732c2288af8f13",
       "max": 16961.0,
       "min": 0.0,
       "orientation": "horizontal",
       "style": "IPY_MODEL_791a0c8f6a5d4d4cafb981b9a2b17416",
       "value": 16961.0
      }
     },
     "7d9adf4c58b4493bb681920409d60292": {
      "model_module": "@jupyter-widgets/controls",
      "model_module_version": "1.5.0",
      "model_name": "ProgressStyleModel",
      "state": {
       "_model_module": "@jupyter-widgets/controls",
       "_model_module_version": "1.5.0",
       "_model_name": "ProgressStyleModel",
       "_view_count": null,
       "_view_module": "@jupyter-widgets/base",
       "_view_module_version": "1.2.0",
       "_view_name": "StyleView",
       "bar_color": null,
       "description_width": ""
      }
     },
     "8392206eb7174c14a26f1745209e985d": {
      "model_module": "@jupyter-widgets/controls",
      "model_module_version": "1.5.0",
      "model_name": "HTMLModel",
      "state": {
       "_dom_classes": [],
       "_model_module": "@jupyter-widgets/controls",
       "_model_module_version": "1.5.0",
       "_model_name": "HTMLModel",
       "_view_count": null,
       "_view_module": "@jupyter-widgets/controls",
       "_view_module_version": "1.5.0",
       "_view_name": "HTMLView",
       "description": "",
       "description_tooltip": null,
       "layout": "IPY_MODEL_03c3955a53f74b2c9f44cd2932f2cb66",
       "placeholder": "​",
       "style": "IPY_MODEL_678c1806ce754198bd0659b2a46ed321",
       "value": "100%"
      }
     },
     "86966a01b0a24cfda3b01260eb950f3d": {
      "model_module": "@jupyter-widgets/base",
      "model_module_version": "1.2.0",
      "model_name": "LayoutModel",
      "state": {
       "_model_module": "@jupyter-widgets/base",
       "_model_module_version": "1.2.0",
       "_model_name": "LayoutModel",
       "_view_count": null,
       "_view_module": "@jupyter-widgets/base",
       "_view_module_version": "1.2.0",
       "_view_name": "LayoutView",
       "align_content": null,
       "align_items": null,
       "align_self": null,
       "border": null,
       "bottom": null,
       "display": null,
       "flex": null,
       "flex_flow": null,
       "grid_area": null,
       "grid_auto_columns": null,
       "grid_auto_flow": null,
       "grid_auto_rows": null,
       "grid_column": null,
       "grid_gap": null,
       "grid_row": null,
       "grid_template_areas": null,
       "grid_template_columns": null,
       "grid_template_rows": null,
       "height": null,
       "justify_content": null,
       "justify_items": null,
       "left": null,
       "margin": null,
       "max_height": null,
       "max_width": null,
       "min_height": null,
       "min_width": null,
       "object_fit": null,
       "object_position": null,
       "order": null,
       "overflow": null,
       "overflow_x": null,
       "overflow_y": null,
       "padding": null,
       "right": null,
       "top": null,
       "visibility": null,
       "width": null
      }
     },
     "88b0b7e8cf3249e19f392c69cfa35606": {
      "model_module": "@jupyter-widgets/controls",
      "model_module_version": "1.5.0",
      "model_name": "HBoxModel",
      "state": {
       "_dom_classes": [],
       "_model_module": "@jupyter-widgets/controls",
       "_model_module_version": "1.5.0",
       "_model_name": "HBoxModel",
       "_view_count": null,
       "_view_module": "@jupyter-widgets/controls",
       "_view_module_version": "1.5.0",
       "_view_name": "HBoxView",
       "box_style": "",
       "children": [
        "IPY_MODEL_8392206eb7174c14a26f1745209e985d",
        "IPY_MODEL_7d1f641a34584c9c8321ee11f118bd65",
        "IPY_MODEL_71391ac1432241db8c59eb4379d0eb99"
       ],
       "layout": "IPY_MODEL_641b92a5f7a94ff09c2824ec3f7774a6"
      }
     },
     "948d24adf0f549a19badbe4a1a047b8b": {
      "model_module": "@jupyter-widgets/base",
      "model_module_version": "1.2.0",
      "model_name": "LayoutModel",
      "state": {
       "_model_module": "@jupyter-widgets/base",
       "_model_module_version": "1.2.0",
       "_model_name": "LayoutModel",
       "_view_count": null,
       "_view_module": "@jupyter-widgets/base",
       "_view_module_version": "1.2.0",
       "_view_name": "LayoutView",
       "align_content": null,
       "align_items": null,
       "align_self": null,
       "border": null,
       "bottom": null,
       "display": null,
       "flex": null,
       "flex_flow": null,
       "grid_area": null,
       "grid_auto_columns": null,
       "grid_auto_flow": null,
       "grid_auto_rows": null,
       "grid_column": null,
       "grid_gap": null,
       "grid_row": null,
       "grid_template_areas": null,
       "grid_template_columns": null,
       "grid_template_rows": null,
       "height": null,
       "justify_content": null,
       "justify_items": null,
       "left": null,
       "margin": null,
       "max_height": null,
       "max_width": null,
       "min_height": null,
       "min_width": null,
       "object_fit": null,
       "object_position": null,
       "order": null,
       "overflow": null,
       "overflow_x": null,
       "overflow_y": null,
       "padding": null,
       "right": null,
       "top": null,
       "visibility": null,
       "width": null
      }
     },
     "9fb82af313c54de4b94afa9a81c209cf": {
      "model_module": "@jupyter-widgets/controls",
      "model_module_version": "1.5.0",
      "model_name": "DescriptionStyleModel",
      "state": {
       "_model_module": "@jupyter-widgets/controls",
       "_model_module_version": "1.5.0",
       "_model_name": "DescriptionStyleModel",
       "_view_count": null,
       "_view_module": "@jupyter-widgets/base",
       "_view_module_version": "1.2.0",
       "_view_name": "StyleView",
       "description_width": ""
      }
     },
     "a10e2a0ce39c4c368fc43a6f8b4a5b08": {
      "model_module": "@jupyter-widgets/controls",
      "model_module_version": "1.5.0",
      "model_name": "DescriptionStyleModel",
      "state": {
       "_model_module": "@jupyter-widgets/controls",
       "_model_module_version": "1.5.0",
       "_model_name": "DescriptionStyleModel",
       "_view_count": null,
       "_view_module": "@jupyter-widgets/base",
       "_view_module_version": "1.2.0",
       "_view_name": "StyleView",
       "description_width": ""
      }
     },
     "a36d93253c23431ead9076138cc686d2": {
      "model_module": "@jupyter-widgets/controls",
      "model_module_version": "1.5.0",
      "model_name": "DescriptionStyleModel",
      "state": {
       "_model_module": "@jupyter-widgets/controls",
       "_model_module_version": "1.5.0",
       "_model_name": "DescriptionStyleModel",
       "_view_count": null,
       "_view_module": "@jupyter-widgets/base",
       "_view_module_version": "1.2.0",
       "_view_name": "StyleView",
       "description_width": ""
      }
     },
     "a3f23561e30e4ab885458630cf801698": {
      "model_module": "@jupyter-widgets/base",
      "model_module_version": "1.2.0",
      "model_name": "LayoutModel",
      "state": {
       "_model_module": "@jupyter-widgets/base",
       "_model_module_version": "1.2.0",
       "_model_name": "LayoutModel",
       "_view_count": null,
       "_view_module": "@jupyter-widgets/base",
       "_view_module_version": "1.2.0",
       "_view_name": "LayoutView",
       "align_content": null,
       "align_items": null,
       "align_self": null,
       "border": null,
       "bottom": null,
       "display": null,
       "flex": null,
       "flex_flow": null,
       "grid_area": null,
       "grid_auto_columns": null,
       "grid_auto_flow": null,
       "grid_auto_rows": null,
       "grid_column": null,
       "grid_gap": null,
       "grid_row": null,
       "grid_template_areas": null,
       "grid_template_columns": null,
       "grid_template_rows": null,
       "height": null,
       "justify_content": null,
       "justify_items": null,
       "left": null,
       "margin": null,
       "max_height": null,
       "max_width": null,
       "min_height": null,
       "min_width": null,
       "object_fit": null,
       "object_position": null,
       "order": null,
       "overflow": null,
       "overflow_x": null,
       "overflow_y": null,
       "padding": null,
       "right": null,
       "top": null,
       "visibility": null,
       "width": null
      }
     },
     "a833a0331e8a4782a622568935bb36fc": {
      "model_module": "@jupyter-widgets/controls",
      "model_module_version": "1.5.0",
      "model_name": "HTMLModel",
      "state": {
       "_dom_classes": [],
       "_model_module": "@jupyter-widgets/controls",
       "_model_module_version": "1.5.0",
       "_model_name": "HTMLModel",
       "_view_count": null,
       "_view_module": "@jupyter-widgets/controls",
       "_view_module_version": "1.5.0",
       "_view_name": "HTMLView",
       "description": "",
       "description_tooltip": null,
       "layout": "IPY_MODEL_059aded76c0441a988965c5602d348e4",
       "placeholder": "​",
       "style": "IPY_MODEL_a10e2a0ce39c4c368fc43a6f8b4a5b08",
       "value": "100%"
      }
     },
     "adb2f9e8d99446b59be86b4de58c6572": {
      "model_module": "@jupyter-widgets/controls",
      "model_module_version": "1.5.0",
      "model_name": "DescriptionStyleModel",
      "state": {
       "_model_module": "@jupyter-widgets/controls",
       "_model_module_version": "1.5.0",
       "_model_name": "DescriptionStyleModel",
       "_view_count": null,
       "_view_module": "@jupyter-widgets/base",
       "_view_module_version": "1.2.0",
       "_view_name": "StyleView",
       "description_width": ""
      }
     },
     "adfb5e02e7ce4240941533d4165ba736": {
      "model_module": "@jupyter-widgets/controls",
      "model_module_version": "1.5.0",
      "model_name": "HTMLModel",
      "state": {
       "_dom_classes": [],
       "_model_module": "@jupyter-widgets/controls",
       "_model_module_version": "1.5.0",
       "_model_name": "HTMLModel",
       "_view_count": null,
       "_view_module": "@jupyter-widgets/controls",
       "_view_module_version": "1.5.0",
       "_view_name": "HTMLView",
       "description": "",
       "description_tooltip": null,
       "layout": "IPY_MODEL_66a8d13275e64e8da992d0565659372a",
       "placeholder": "​",
       "style": "IPY_MODEL_3d0f4df59a1d4c5fb3c8a999d6163f0b",
       "value": " 16961/16961 [16:55&lt;00:00, 18.21it/s]"
      }
     },
     "b382dd3918644fa699732c2288af8f13": {
      "model_module": "@jupyter-widgets/base",
      "model_module_version": "1.2.0",
      "model_name": "LayoutModel",
      "state": {
       "_model_module": "@jupyter-widgets/base",
       "_model_module_version": "1.2.0",
       "_model_name": "LayoutModel",
       "_view_count": null,
       "_view_module": "@jupyter-widgets/base",
       "_view_module_version": "1.2.0",
       "_view_name": "LayoutView",
       "align_content": null,
       "align_items": null,
       "align_self": null,
       "border": null,
       "bottom": null,
       "display": null,
       "flex": null,
       "flex_flow": null,
       "grid_area": null,
       "grid_auto_columns": null,
       "grid_auto_flow": null,
       "grid_auto_rows": null,
       "grid_column": null,
       "grid_gap": null,
       "grid_row": null,
       "grid_template_areas": null,
       "grid_template_columns": null,
       "grid_template_rows": null,
       "height": null,
       "justify_content": null,
       "justify_items": null,
       "left": null,
       "margin": null,
       "max_height": null,
       "max_width": null,
       "min_height": null,
       "min_width": null,
       "object_fit": null,
       "object_position": null,
       "order": null,
       "overflow": null,
       "overflow_x": null,
       "overflow_y": null,
       "padding": null,
       "right": null,
       "top": null,
       "visibility": null,
       "width": null
      }
     },
     "c026490271af4b07a520232f3804e8b1": {
      "model_module": "@jupyter-widgets/controls",
      "model_module_version": "1.5.0",
      "model_name": "HBoxModel",
      "state": {
       "_dom_classes": [],
       "_model_module": "@jupyter-widgets/controls",
       "_model_module_version": "1.5.0",
       "_model_name": "HBoxModel",
       "_view_count": null,
       "_view_module": "@jupyter-widgets/controls",
       "_view_module_version": "1.5.0",
       "_view_name": "HBoxView",
       "box_style": "",
       "children": [
        "IPY_MODEL_5715344a5a184c9eaa1446c835c82f9f",
        "IPY_MODEL_c861b6af5b694e05ae707e1c885821a9",
        "IPY_MODEL_2ac6e3cb72d8426e9a731af4a9899e25"
       ],
       "layout": "IPY_MODEL_948d24adf0f549a19badbe4a1a047b8b"
      }
     },
     "c861b6af5b694e05ae707e1c885821a9": {
      "model_module": "@jupyter-widgets/controls",
      "model_module_version": "1.5.0",
      "model_name": "FloatProgressModel",
      "state": {
       "_dom_classes": [],
       "_model_module": "@jupyter-widgets/controls",
       "_model_module_version": "1.5.0",
       "_model_name": "FloatProgressModel",
       "_view_count": null,
       "_view_module": "@jupyter-widgets/controls",
       "_view_module_version": "1.5.0",
       "_view_name": "ProgressView",
       "bar_style": "success",
       "description": "",
       "description_tooltip": null,
       "layout": "IPY_MODEL_78a4f1e261b7415d81ab9b6b9c06fc5f",
       "max": 1885.0,
       "min": 0.0,
       "orientation": "horizontal",
       "style": "IPY_MODEL_e8de708231d04967b53989184fe6cfcc",
       "value": 1885.0
      }
     },
     "d2df8cbba6af454996095450f610e0c9": {
      "model_module": "@jupyter-widgets/base",
      "model_module_version": "1.2.0",
      "model_name": "LayoutModel",
      "state": {
       "_model_module": "@jupyter-widgets/base",
       "_model_module_version": "1.2.0",
       "_model_name": "LayoutModel",
       "_view_count": null,
       "_view_module": "@jupyter-widgets/base",
       "_view_module_version": "1.2.0",
       "_view_name": "LayoutView",
       "align_content": null,
       "align_items": null,
       "align_self": null,
       "border": null,
       "bottom": null,
       "display": null,
       "flex": null,
       "flex_flow": null,
       "grid_area": null,
       "grid_auto_columns": null,
       "grid_auto_flow": null,
       "grid_auto_rows": null,
       "grid_column": null,
       "grid_gap": null,
       "grid_row": null,
       "grid_template_areas": null,
       "grid_template_columns": null,
       "grid_template_rows": null,
       "height": null,
       "justify_content": null,
       "justify_items": null,
       "left": null,
       "margin": null,
       "max_height": null,
       "max_width": null,
       "min_height": null,
       "min_width": null,
       "object_fit": null,
       "object_position": null,
       "order": null,
       "overflow": null,
       "overflow_x": null,
       "overflow_y": null,
       "padding": null,
       "right": null,
       "top": null,
       "visibility": null,
       "width": null
      }
     },
     "dd2d570892d14c7da08e3b6726336d95": {
      "model_module": "@jupyter-widgets/controls",
      "model_module_version": "1.5.0",
      "model_name": "FloatProgressModel",
      "state": {
       "_dom_classes": [],
       "_model_module": "@jupyter-widgets/controls",
       "_model_module_version": "1.5.0",
       "_model_name": "FloatProgressModel",
       "_view_count": null,
       "_view_module": "@jupyter-widgets/controls",
       "_view_module_version": "1.5.0",
       "_view_name": "ProgressView",
       "bar_style": "success",
       "description": "",
       "description_tooltip": null,
       "layout": "IPY_MODEL_f3a097c803d946299b7b09a6bc0a2f2f",
       "max": 1885.0,
       "min": 0.0,
       "orientation": "horizontal",
       "style": "IPY_MODEL_269860734e7a41f086ca3081cbea4f1f",
       "value": 1885.0
      }
     },
     "e8de708231d04967b53989184fe6cfcc": {
      "model_module": "@jupyter-widgets/controls",
      "model_module_version": "1.5.0",
      "model_name": "ProgressStyleModel",
      "state": {
       "_model_module": "@jupyter-widgets/controls",
       "_model_module_version": "1.5.0",
       "_model_name": "ProgressStyleModel",
       "_view_count": null,
       "_view_module": "@jupyter-widgets/base",
       "_view_module_version": "1.2.0",
       "_view_name": "StyleView",
       "bar_color": null,
       "description_width": ""
      }
     },
     "eaa6e8a577fb4432aadc35a87667c437": {
      "model_module": "@jupyter-widgets/controls",
      "model_module_version": "1.5.0",
      "model_name": "FloatProgressModel",
      "state": {
       "_dom_classes": [],
       "_model_module": "@jupyter-widgets/controls",
       "_model_module_version": "1.5.0",
       "_model_name": "FloatProgressModel",
       "_view_count": null,
       "_view_module": "@jupyter-widgets/controls",
       "_view_module_version": "1.5.0",
       "_view_name": "ProgressView",
       "bar_style": "success",
       "description": "",
       "description_tooltip": null,
       "layout": "IPY_MODEL_5d2c97587ce74e9f94ae3401a77b5e66",
       "max": 16961.0,
       "min": 0.0,
       "orientation": "horizontal",
       "style": "IPY_MODEL_7d9adf4c58b4493bb681920409d60292",
       "value": 16961.0
      }
     },
     "f3a097c803d946299b7b09a6bc0a2f2f": {
      "model_module": "@jupyter-widgets/base",
      "model_module_version": "1.2.0",
      "model_name": "LayoutModel",
      "state": {
       "_model_module": "@jupyter-widgets/base",
       "_model_module_version": "1.2.0",
       "_model_name": "LayoutModel",
       "_view_count": null,
       "_view_module": "@jupyter-widgets/base",
       "_view_module_version": "1.2.0",
       "_view_name": "LayoutView",
       "align_content": null,
       "align_items": null,
       "align_self": null,
       "border": null,
       "bottom": null,
       "display": null,
       "flex": null,
       "flex_flow": null,
       "grid_area": null,
       "grid_auto_columns": null,
       "grid_auto_flow": null,
       "grid_auto_rows": null,
       "grid_column": null,
       "grid_gap": null,
       "grid_row": null,
       "grid_template_areas": null,
       "grid_template_columns": null,
       "grid_template_rows": null,
       "height": null,
       "justify_content": null,
       "justify_items": null,
       "left": null,
       "margin": null,
       "max_height": null,
       "max_width": null,
       "min_height": null,
       "min_width": null,
       "object_fit": null,
       "object_position": null,
       "order": null,
       "overflow": null,
       "overflow_x": null,
       "overflow_y": null,
       "padding": null,
       "right": null,
       "top": null,
       "visibility": null,
       "width": null
      }
     }
    },
    "version_major": 2,
    "version_minor": 0
   }
  }
 },
 "nbformat": 4,
 "nbformat_minor": 5
}
